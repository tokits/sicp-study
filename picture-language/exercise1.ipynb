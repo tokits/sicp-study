{
 "cells": [
  {
   "cell_type": "code",
   "execution_count": 1,
   "metadata": {},
   "outputs": [],
   "source": [
    "; 線形変換\n",
    "; 通常の行列計算より最適化してある。\n",
    "; transform-painter手続きで線形変換だけ必要だったので、\n",
    "; frame-coord-map手続きのアフィン変換と分離した。\n",
    "(define (linear-transform frame v)\n",
    "  (let ((edge1 (edge1-frame frame))\n",
    "        (edge2 (edge2-frame frame)))\n",
    "    (let ((x (xcor-vect v))\n",
    "          (y (ycor-vect v)))\n",
    "      (add-vect (scale-vect x edge1) (scale-vect y edge2))\n",
    "     )\n",
    "    )\n",
    "  )\n",
    "\n",
    "\n",
    "; テキストの実装から変更している。\n",
    "; 通常の線形変換の数式に沿っている。\n",
    "(define (frame-coord-map frame)\n",
    "  (lambda (v)\n",
    "    (let ((edge1 (edge1-frame frame))\n",
    "          (edge2 (edge2-frame frame)))\n",
    "      (add-vect\n",
    "       (origin-frame frame)\n",
    "       (linear-transform frame v)\n",
    "      )\n",
    "     )\n",
    "    )\n",
    "  )\n",
    "\n",
    "; ベクトルコンストラクタ・セレクタ\n",
    "(define (make-vect x y) (cons x y))\n",
    "(define (xcor-vect v)(car v))\n",
    "(define (ycor-vect v)(cdr v))\n",
    "\n",
    "; ベクトル演算\n",
    "(define (add-vect v1 v2)\n",
    "  (make-vect (+ (xcor-vect v1)\n",
    "                (xcor-vect v2))\n",
    "             (+ (ycor-vect v1)\n",
    "                (ycor-vect v2))))\n",
    "(define (sub-vect v1 v2)\n",
    "  (make-vect (- (xcor-vect v1)\n",
    "                (xcor-vect v2))\n",
    "             (- (ycor-vect v1)\n",
    "                (ycor-vect v2))))\n",
    "(define (scale-vect s v)\n",
    "  (make-vect (* s (xcor-vect v))\n",
    "             (* s (ycor-vect v))))\n",
    "\n",
    "; フレームコンストラクタ・セレクタ\n",
    "(define (make-frame origin edge1 edge2)(list origin edge1 edge2))\n",
    "(define (origin-frame frame)(car frame))\n",
    "(define (edge1-frame frame)(cadr frame))\n",
    "(define (edge2-frame frame)(caddr frame))\n",
    "\n",
    "; 線分コンストラクタ・セレクタ\n",
    "(define (make-segment v1 v2)(cons v1 v2))\n",
    "(define (start-segment seg)(car seg))\n",
    "(define (end-segment seg)(cdr seg))\n",
    "\n",
    "; ペインタ\n",
    "(define (segments->painter segment-list)\n",
    "  (lambda (frame)\n",
    "    (for-each\n",
    "     (lambda (segment)\n",
    "       (draw-line\n",
    "        ((frame-coord-map frame) (start-segment segment))\n",
    "        ((frame-coord-map frame) (end-segment segment))))\n",
    "     segment-list)))\n",
    "\n",
    "; ペインタ変換と組み合わせ\n",
    "(define (transform-painter painter origin corner1 corner2)\n",
    "  (lambda (frame)\n",
    "    (let ((m (frame-coord-map frame)))\n",
    "      (let ((new-origin (m origin)))\n",
    "        (painter\n",
    "         (make-frame new-origin\n",
    "                     (linear-transform frame corner1)\n",
    "                     (linear-transform frame corner2)\n",
    "                     )\n",
    "         )\n",
    "        )\n",
    "      )\n",
    "    )\n",
    "  )\n",
    "\n",
    "\n",
    "; 線形変換のベクトルは変更\n",
    "(define (flip-vert painter)\n",
    "  (transform-painter painter\n",
    "                     ;(make-vect 0.0 1.0)\n",
    "                     ;(make-vect 1.0 1.0)\n",
    "                     ;(make-vect 0.0 0.0)\n",
    "                     (make-vect 0.0 1.0)\n",
    "                     (make-vect 1.0 0.0)\n",
    "                     (make-vect 0.0 -1.0)\n",
    "    )\n",
    "  )\n",
    "\n",
    "; 線形変換のベクトルは変更\n",
    "(define (beside painter1 painter2)\n",
    "  (let ((split-point (make-vect 0.5 0.0)))\n",
    "    (let ((paint-left\n",
    "           (transform-painter painter1\n",
    "                              (make-vect 0.0 0.0)\n",
    "                              split-point\n",
    "                              (make-vect 0.0 1.0)\n",
    "                              )\n",
    "           )\n",
    "          (paint-right\n",
    "           (transform-painter painter2\n",
    "                              ;split-point\n",
    "                              ;(make-vect 1.0 0.0)\n",
    "                              ;(make-vect 0.5 1.0)\n",
    "                              split-point\n",
    "                              split-point\n",
    "                              (make-vect 0.0 1.0)\n",
    "                              )\n",
    "           )\n",
    "          )\n",
    "      (lambda (frame)\n",
    "        (paint-left frame)\n",
    "        (paint-right frame)))))\n",
    "\n",
    "(define (below painter1 painter2)\n",
    "  (let ((split-point (make-vect 0.0 0.5)))\n",
    "    (let ((paint-below\n",
    "           (transform-painter painter1\n",
    "                              (make-vect 0.0 0.0)\n",
    "                              (make-vect 1.0 0.0)\n",
    "                              split-point))\n",
    "          (paint-above\n",
    "           (transform-painter painter2\n",
    "                              split-point\n",
    "                              (make-vect 1.0 0.0)\n",
    "                              (make-vect 0.0 0.5))))\n",
    "      (lambda (frame)\n",
    "        (paint-below frame)\n",
    "        (paint-above frame)))))\n",
    "\n",
    "; waveペインタ\n",
    "; 以下のサイトを参照しました。\n",
    "; https://gist.github.com/tkmr/28498\n",
    "(define wave\n",
    "  (lambda (frame)\n",
    "    ((segments->painter\n",
    "      (list (make-segment (make-vect 0.000 0.645) (make-vect 0.154 0.411))\n",
    "            (make-segment (make-vect 0.154 0.411) (make-vect 0.302 0.588))\n",
    "            (make-segment (make-vect 0.302 0.588) (make-vect 0.354 0.497))\n",
    "            (make-segment (make-vect 0.354 0.497) (make-vect 0.245 0.000))\n",
    "            (make-segment (make-vect 0.419 0.000) (make-vect 0.497 0.171))\n",
    "            (make-segment (make-vect 0.497 0.171) (make-vect 0.575 0.000))\n",
    "            (make-segment (make-vect 0.748 0.000) (make-vect 0.605 0.462))\n",
    "            (make-segment (make-vect 0.605 0.462) (make-vect 1.000 0.142))\n",
    "            (make-segment (make-vect 1.000 0.354) (make-vect 0.748 0.657))\n",
    "            (make-segment (make-vect 0.748 0.657) (make-vect 0.582 0.657))\n",
    "            (make-segment (make-vect 0.582 0.657) (make-vect 0.640 0.857))\n",
    "            (make-segment (make-vect 0.640 0.857) (make-vect 0.575 1.000))\n",
    "            (make-segment (make-vect 0.419 1.000) (make-vect 0.354 0.857))\n",
    "            (make-segment (make-vect 0.354 0.857) (make-vect 0.411 0.657))\n",
    "            (make-segment (make-vect 0.411 0.657) (make-vect 0.285 0.657))\n",
    "            (make-segment (make-vect 0.285 0.657) (make-vect 0.154 0.605))\n",
    "            (make-segment (make-vect 0.154 0.605) (make-vect 0.000 0.857)))) frame)))\n",
    "\n",
    "(import-as \"picseg\" 'pic)\n",
    "(pic.init 256 245 245 245)\n",
    ";(pic.init 256 255 255 255)\n",
    "\n",
    "(define (draw-line v1 v2)\n",
    "  (let ((start-x (xcor-vect v1))\n",
    "        (start-y (ycor-vect v1))\n",
    "        (end-x (xcor-vect v2))\n",
    "        (end-y (ycor-vect v2)))\n",
    "    (pic.draw_line start-x start-y end-x end-y)\n",
    "    ;(display \"(\")\n",
    "    ;(display start-x)\n",
    "    ;(display \",\")\n",
    "    ;(display start-y)\n",
    "    ;(display \") (\")\n",
    "    ;(display end-x)\n",
    "    ;(display \",\")\n",
    "    ;(display end-y)\n",
    "    ;(display \")\")\n",
    "    ;(newline)\n",
    "    )\n",
    "  )\n",
    "\n",
    "; ペインタの動作確認\n",
    "(define (paint painter)\n",
    "  (let ((frame0 (make-frame\n",
    "                            (make-vect 0 0)\n",
    "                            (make-vect 1 0)\n",
    "                            (make-vect 0 1))))\n",
    "    (pic.clear)\n",
    "    (painter frame0)\n",
    "    (pic.update)\n",
    "    )\n",
    "  )"
   ]
  },
  {
   "cell_type": "code",
   "execution_count": 2,
   "metadata": {},
   "outputs": [
    {
     "data": {
      "image/svg+xml": [
       "<svg baseProfile=\"full\" height=\"256\" version=\"1.1\" width=\"256\" xmlns=\"http://www.w3.org/2000/svg\" xmlns:ev=\"http://www.w3.org/2001/xml-events\" xmlns:xlink=\"http://www.w3.org/1999/xlink\"><defs /><rect fill=\"#f5f5f5\" height=\"256\" stroke=\"#f5f5f5\" stroke-width=\"1\" width=\"256\" x=\"0\" y=\"0\" /><line fill=\"#800080\" stroke=\"#000000\" stroke-width=\"1\" x1=\"0.0\" x2=\"19.712\" y1=\"90.88\" y2=\"150.784\" /><line fill=\"#800080\" stroke=\"#000000\" stroke-width=\"1\" x1=\"19.712\" x2=\"38.656\" y1=\"150.784\" y2=\"105.47200000000001\" /><line fill=\"#800080\" stroke=\"#000000\" stroke-width=\"1\" x1=\"38.656\" x2=\"45.312\" y1=\"105.47200000000001\" y2=\"128.768\" /><line fill=\"#800080\" stroke=\"#000000\" stroke-width=\"1\" x1=\"45.312\" x2=\"31.36\" y1=\"128.768\" y2=\"256.0\" /><line fill=\"#800080\" stroke=\"#000000\" stroke-width=\"1\" x1=\"53.632\" x2=\"63.616\" y1=\"256.0\" y2=\"212.224\" /><line fill=\"#800080\" stroke=\"#000000\" stroke-width=\"1\" x1=\"63.616\" x2=\"73.6\" y1=\"212.224\" y2=\"256.0\" /><line fill=\"#800080\" stroke=\"#000000\" stroke-width=\"1\" x1=\"95.744\" x2=\"77.44\" y1=\"256.0\" y2=\"137.728\" /><line fill=\"#800080\" stroke=\"#000000\" stroke-width=\"1\" x1=\"77.44\" x2=\"128.0\" y1=\"137.728\" y2=\"219.648\" /><line fill=\"#800080\" stroke=\"#000000\" stroke-width=\"1\" x1=\"128.0\" x2=\"95.744\" y1=\"165.376\" y2=\"87.80799999999999\" /><line fill=\"#800080\" stroke=\"#000000\" stroke-width=\"1\" x1=\"95.744\" x2=\"74.496\" y1=\"87.80799999999999\" y2=\"87.80799999999999\" /><line fill=\"#800080\" stroke=\"#000000\" stroke-width=\"1\" x1=\"74.496\" x2=\"81.92\" y1=\"87.80799999999999\" y2=\"36.608000000000004\" /><line fill=\"#800080\" stroke=\"#000000\" stroke-width=\"1\" x1=\"81.92\" x2=\"73.6\" y1=\"36.608000000000004\" y2=\"0.0\" /><line fill=\"#800080\" stroke=\"#000000\" stroke-width=\"1\" x1=\"53.632\" x2=\"45.312\" y1=\"0.0\" y2=\"36.608000000000004\" /><line fill=\"#800080\" stroke=\"#000000\" stroke-width=\"1\" x1=\"45.312\" x2=\"52.608\" y1=\"36.608000000000004\" y2=\"87.80799999999999\" /><line fill=\"#800080\" stroke=\"#000000\" stroke-width=\"1\" x1=\"52.608\" x2=\"36.48\" y1=\"87.80799999999999\" y2=\"87.80799999999999\" /><line fill=\"#800080\" stroke=\"#000000\" stroke-width=\"1\" x1=\"36.48\" x2=\"19.712\" y1=\"87.80799999999999\" y2=\"101.12\" /><line fill=\"#800080\" stroke=\"#000000\" stroke-width=\"1\" x1=\"19.712\" x2=\"0.0\" y1=\"101.12\" y2=\"36.608000000000004\" /><line fill=\"#800080\" stroke=\"#000000\" stroke-width=\"1\" x1=\"128.0\" x2=\"147.712\" y1=\"165.12\" y2=\"105.21600000000001\" /><line fill=\"#800080\" stroke=\"#000000\" stroke-width=\"1\" x1=\"147.712\" x2=\"166.656\" y1=\"105.21600000000001\" y2=\"150.528\" /><line fill=\"#800080\" stroke=\"#000000\" stroke-width=\"1\" x1=\"166.656\" x2=\"173.312\" y1=\"150.528\" y2=\"127.232\" /><line fill=\"#800080\" stroke=\"#000000\" stroke-width=\"1\" x1=\"173.312\" x2=\"159.36\" y1=\"127.232\" y2=\"0.0\" /><line fill=\"#800080\" stroke=\"#000000\" stroke-width=\"1\" x1=\"181.632\" x2=\"191.61599999999999\" y1=\"0.0\" y2=\"43.77600000000001\" /><line fill=\"#800080\" stroke=\"#000000\" stroke-width=\"1\" x1=\"191.61599999999999\" x2=\"201.6\" y1=\"43.77600000000001\" y2=\"0.0\" /><line fill=\"#800080\" stroke=\"#000000\" stroke-width=\"1\" x1=\"223.744\" x2=\"205.44\" y1=\"0.0\" y2=\"118.27199999999999\" /><line fill=\"#800080\" stroke=\"#000000\" stroke-width=\"1\" x1=\"205.44\" x2=\"256.0\" y1=\"118.27199999999999\" y2=\"36.352000000000004\" /><line fill=\"#800080\" stroke=\"#000000\" stroke-width=\"1\" x1=\"256.0\" x2=\"223.744\" y1=\"90.624\" y2=\"168.192\" /><line fill=\"#800080\" stroke=\"#000000\" stroke-width=\"1\" x1=\"223.744\" x2=\"202.49599999999998\" y1=\"168.192\" y2=\"168.192\" /><line fill=\"#800080\" stroke=\"#000000\" stroke-width=\"1\" x1=\"202.49599999999998\" x2=\"209.92000000000002\" y1=\"168.192\" y2=\"219.392\" /><line fill=\"#800080\" stroke=\"#000000\" stroke-width=\"1\" x1=\"209.92000000000002\" x2=\"201.6\" y1=\"219.392\" y2=\"256.0\" /><line fill=\"#800080\" stroke=\"#000000\" stroke-width=\"1\" x1=\"181.632\" x2=\"173.312\" y1=\"256.0\" y2=\"219.392\" /><line fill=\"#800080\" stroke=\"#000000\" stroke-width=\"1\" x1=\"173.312\" x2=\"180.608\" y1=\"219.392\" y2=\"168.192\" /><line fill=\"#800080\" stroke=\"#000000\" stroke-width=\"1\" x1=\"180.608\" x2=\"164.48\" y1=\"168.192\" y2=\"168.192\" /><line fill=\"#800080\" stroke=\"#000000\" stroke-width=\"1\" x1=\"164.48\" x2=\"147.712\" y1=\"168.192\" y2=\"154.88\" /><line fill=\"#800080\" stroke=\"#000000\" stroke-width=\"1\" x1=\"147.712\" x2=\"128.0\" y1=\"154.88\" y2=\"219.392\" /></svg>"
      ],
      "text/plain": [
       "<Canvas (256, 256)>"
      ]
     },
     "metadata": {},
     "output_type": "display_data"
    }
   ],
   "source": [
    "(paint (beside wave (flip-vert wave)))"
   ]
  },
  {
   "cell_type": "code",
   "execution_count": 8,
   "metadata": {},
   "outputs": [
    {
     "name": "stdout",
     "output_type": "stream",
     "text": [
      "3.141592653589793"
     ]
    },
    {
     "data": {
      "text/plain": [
       "-1.0"
      ]
     },
     "execution_count": 8,
     "metadata": {},
     "output_type": "execute_result"
    }
   ],
   "source": [
    "(define pi 3.141592653589793)\n",
    "(import \"math\")\n",
    "(display math.pi)\n",
    "\n",
    "(math.cos pi)"
   ]
  },
  {
   "cell_type": "code",
   "execution_count": 23,
   "metadata": {},
   "outputs": [],
   "source": [
    "(define (rotation-map r painter)\n",
    "  (let ((v1-x (math.cos r))\n",
    "        (v1-y (math.sin r))\n",
    "        (v2-x (- (math.sin r)))\n",
    "        (v2-y (math.cos r)))\n",
    "    (transform-painter painter\n",
    "                       (make-vect 0.0 0.0)\n",
    "                       (make-vect v1-x v1-y)\n",
    "                       (make-vect v2-x v2-y)\n",
    "                       )\n",
    "    )\n",
    "  )"
   ]
  },
  {
   "cell_type": "code",
   "execution_count": 24,
   "metadata": {},
   "outputs": [
    {
     "data": {
      "image/svg+xml": [
       "<svg baseProfile=\"full\" height=\"256\" version=\"1.1\" width=\"256\" xmlns=\"http://www.w3.org/2000/svg\" xmlns:ev=\"http://www.w3.org/2001/xml-events\" xmlns:xlink=\"http://www.w3.org/1999/xlink\"><defs /><rect fill=\"#f5f5f5\" height=\"256\" stroke=\"#f5f5f5\" stroke-width=\"1\" width=\"256\" x=\"0\" y=\"0\" /><line fill=\"#800080\" stroke=\"#000000\" stroke-width=\"1\" x1=\"-51.024886111191314\" x2=\"4.980920018265671\" y1=\"98.96154802934424\" y2=\"143.7509515952512\" /><line fill=\"#800080\" stroke=\"#000000\" stroke-width=\"1\" x1=\"4.980920018265671\" x2=\"27.012371258538835\" y1=\"143.7509515952512\" y2=\"88.9486428460072\" /><line fill=\"#800080\" stroke=\"#000000\" stroke-width=\"1\" x1=\"27.012371258538835\" x2=\"46.87169550441869\" y1=\"88.9486428460072\" y2=\"106.99082122049981\" /><line fill=\"#800080\" stroke=\"#000000\" stroke-width=\"1\" x1=\"46.87169550441869\" x2=\"59.650264702032025\" y1=\"106.99082122049981\" y2=\"236.6184541128033\" /><line fill=\"#800080\" stroke=\"#000000\" stroke-width=\"1\" x1=\"102.01412616388335\" x2=\"107.47729473550727\" y1=\"222.85360111536565\" y2=\"175.04969971435006\" /><line fill=\"#800080\" stroke=\"#000000\" stroke-width=\"1\" x1=\"107.47729473550727\" x2=\"139.99551919864658\" y1=\"175.04969971435006\" y2=\"210.51269842800775\" /><line fill=\"#800080\" stroke=\"#000000\" stroke-width=\"1\" x1=\"182.11591019232637\" x2=\"110.75157528507961\" y1=\"196.82695378113007\" y2=\"95.65609161594773\" /><line fill=\"#800080\" stroke=\"#000000\" stroke-width=\"1\" x1=\"110.75157528507961\" x2=\"232.2370823920412\" y1=\"95.65609161594773\" y2=\"142.31884295965205\" /><line fill=\"#800080\" stroke=\"#000000\" stroke-width=\"1\" x1=\"215.46611207332407\" x2=\"130.14172387441522\" y1=\"90.70310370728146\" y2=\"36.86685619241561\" /><line fill=\"#800080\" stroke=\"#000000\" stroke-width=\"1\" x1=\"130.14172387441522\" x2=\"89.72562615793635\" y1=\"36.86685619241561\" y2=\"49.99884238537339\" /><line fill=\"#800080\" stroke=\"#000000\" stroke-width=\"1\" x1=\"89.72562615793635\" x2=\"88.02524319988952\" y1=\"49.99884238537339\" y2=\"-3.283535581417709\" /><line fill=\"#800080\" stroke=\"#000000\" stroke-width=\"1\" x1=\"88.02524319988952\" x2=\"60.88716863866004\" y1=\"-3.283535581417709\" y2=\"-32.95776974355158\" /><line fill=\"#800080\" stroke=\"#000000\" stroke-width=\"1\" x1=\"22.905775603896814\" x2=\"18.39268930282354\" y1=\"-20.616867056193655\" y2=\"19.34145267873845\" /><line fill=\"#800080\" stroke=\"#000000\" stroke-width=\"1\" x1=\"18.39268930282354\" x2=\"48.09217610059971\" y1=\"19.34145267873845\" y2=\"63.52637033113109\" /><line fill=\"#800080\" stroke=\"#000000\" stroke-width=\"1\" x1=\"48.09217610059971\" x2=\"17.41489711098324\" y1=\"63.52637033113109\" y2=\"73.49402250168939\" /><line fill=\"#800080\" stroke=\"#000000\" stroke-width=\"1\" x1=\"17.41489711098324\" x2=\"-10.366099990371715\" y1=\"73.49402250168939\" y2=\"96.5176807699687\" /><line fill=\"#800080\" stroke=\"#000000\" stroke-width=\"1\" x1=\"-10.366099990371715\" x2=\"-67.79585642990845\" y1=\"96.5176807699687\" y2=\"47.34580877697368\" /></svg>"
      ],
      "text/plain": [
       "<Canvas (256, 256)>"
      ]
     },
     "metadata": {},
     "output_type": "display_data"
    }
   ],
   "source": [
    "(paint (rotation-map (/ pi 10) wave))"
   ]
  },
  {
   "cell_type": "code",
   "execution_count": 30,
   "metadata": {},
   "outputs": [],
   "source": [
    ";affine \n",
    "(define (affine-map x y painter)\n",
    "  (transform-painter painter\n",
    "                     (make-vect x y)\n",
    "                     (make-vect 1.0 0.0)\n",
    "                     (make-vect 0.0 1.0)\n",
    "    )\n",
    "  )"
   ]
  },
  {
   "cell_type": "code",
   "execution_count": 31,
   "metadata": {},
   "outputs": [
    {
     "data": {
      "image/svg+xml": [
       "<svg baseProfile=\"full\" height=\"256\" version=\"1.1\" width=\"256\" xmlns=\"http://www.w3.org/2000/svg\" xmlns:ev=\"http://www.w3.org/2001/xml-events\" xmlns:xlink=\"http://www.w3.org/1999/xlink\"><defs /><rect fill=\"#f5f5f5\" height=\"256\" stroke=\"#f5f5f5\" stroke-width=\"1\" width=\"256\" x=\"0\" y=\"0\" /><line fill=\"#800080\" stroke=\"#000000\" stroke-width=\"1\" x1=\"64.0\" x2=\"103.424\" y1=\"65.28\" y2=\"125.184\" /><line fill=\"#800080\" stroke=\"#000000\" stroke-width=\"1\" x1=\"103.424\" x2=\"141.312\" y1=\"125.184\" y2=\"79.87200000000001\" /><line fill=\"#800080\" stroke=\"#000000\" stroke-width=\"1\" x1=\"141.312\" x2=\"154.624\" y1=\"79.87200000000001\" y2=\"103.168\" /><line fill=\"#800080\" stroke=\"#000000\" stroke-width=\"1\" x1=\"154.624\" x2=\"126.72\" y1=\"103.168\" y2=\"230.4\" /><line fill=\"#800080\" stroke=\"#000000\" stroke-width=\"1\" x1=\"171.264\" x2=\"191.232\" y1=\"230.4\" y2=\"186.624\" /><line fill=\"#800080\" stroke=\"#000000\" stroke-width=\"1\" x1=\"191.232\" x2=\"211.2\" y1=\"186.624\" y2=\"230.4\" /><line fill=\"#800080\" stroke=\"#000000\" stroke-width=\"1\" x1=\"255.488\" x2=\"218.88\" y1=\"230.4\" y2=\"112.12799999999999\" /><line fill=\"#800080\" stroke=\"#000000\" stroke-width=\"1\" x1=\"218.88\" x2=\"320.0\" y1=\"112.12799999999999\" y2=\"194.048\" /><line fill=\"#800080\" stroke=\"#000000\" stroke-width=\"1\" x1=\"320.0\" x2=\"255.488\" y1=\"139.776\" y2=\"62.208\" /><line fill=\"#800080\" stroke=\"#000000\" stroke-width=\"1\" x1=\"255.488\" x2=\"212.992\" y1=\"62.208\" y2=\"62.208\" /><line fill=\"#800080\" stroke=\"#000000\" stroke-width=\"1\" x1=\"212.992\" x2=\"227.84\" y1=\"62.208\" y2=\"11.00800000000001\" /><line fill=\"#800080\" stroke=\"#000000\" stroke-width=\"1\" x1=\"227.84\" x2=\"211.2\" y1=\"11.00800000000001\" y2=\"-25.600000000000023\" /><line fill=\"#800080\" stroke=\"#000000\" stroke-width=\"1\" x1=\"171.264\" x2=\"154.624\" y1=\"-25.600000000000023\" y2=\"11.00800000000001\" /><line fill=\"#800080\" stroke=\"#000000\" stroke-width=\"1\" x1=\"154.624\" x2=\"169.216\" y1=\"11.00800000000001\" y2=\"62.208\" /><line fill=\"#800080\" stroke=\"#000000\" stroke-width=\"1\" x1=\"169.216\" x2=\"136.95999999999998\" y1=\"62.208\" y2=\"62.208\" /><line fill=\"#800080\" stroke=\"#000000\" stroke-width=\"1\" x1=\"136.95999999999998\" x2=\"103.424\" y1=\"62.208\" y2=\"75.52000000000001\" /><line fill=\"#800080\" stroke=\"#000000\" stroke-width=\"1\" x1=\"103.424\" x2=\"64.0\" y1=\"75.52000000000001\" y2=\"11.00800000000001\" /></svg>"
      ],
      "text/plain": [
       "<Canvas (256, 256)>"
      ]
     },
     "metadata": {},
     "output_type": "display_data"
    }
   ],
   "source": [
    "(paint (affine-map 0.25 0.1 wave))"
   ]
  },
  {
   "cell_type": "markdown",
   "metadata": {},
   "source": [
    "$$\n",
    "\\left(\n",
    "    \\begin{array}{c}\n",
    "      x' \\\\\n",
    "      y'\n",
    "    \\end{array}\n",
    "  \\right)\n",
    "  =\n",
    "\\left(\n",
    "    \\begin{array}{cc}\n",
    "      cos(\\theta) & -sin(\\theta) \\\\\n",
    "      sin(\\theta) & cos(\\theta)\n",
    "    \\end{array}\n",
    "  \\right)\n",
    "\\left(\n",
    "    \\begin{array}{c}\n",
    "      x \\\\\n",
    "      y\n",
    "    \\end{array}\n",
    "  \\right)\n",
    "$$  \n",
    "\n"
   ]
  },
  {
   "cell_type": "code",
   "execution_count": null,
   "metadata": {},
   "outputs": [],
   "source": []
  }
 ],
 "metadata": {
  "kernelspec": {
   "display_name": "Calysto Scheme 3",
   "language": "scheme",
   "name": "calysto_scheme"
  },
  "language_info": {
   "codemirror_mode": {
    "name": "scheme"
   },
   "mimetype": "text/x-scheme",
   "name": "scheme",
   "pygments_lexer": "scheme"
  }
 },
 "nbformat": 4,
 "nbformat_minor": 4
}
