{
 "cells": [
  {
   "cell_type": "code",
   "execution_count": 1,
   "metadata": {},
   "outputs": [],
   "source": [
    "; 線形変換\n",
    "; 通常の行列計算より最適化してある。\n",
    "; transform-painter手続きで線形変換だけ必要だったので、\n",
    "; frame-coord-map手続きのアフィン変換と分離した。\n",
    "(define (linear-transform frame v)\n",
    "  (let ((edge1 (edge1-frame frame))\n",
    "        (edge2 (edge2-frame frame)))\n",
    "    (let ((x (xcor-vect v))\n",
    "          (y (ycor-vect v)))\n",
    "      (add-vect (scale-vect x edge1) (scale-vect y edge2))\n",
    "     )\n",
    "    )\n",
    "  )\n",
    "\n",
    "\n",
    "; テキストの実装から変更している。\n",
    "; 通常の線形変換の数式に沿っている。\n",
    "(define (frame-coord-map frame)\n",
    "  (lambda (v)\n",
    "    (let ((edge1 (edge1-frame frame))\n",
    "          (edge2 (edge2-frame frame)))\n",
    "      (add-vect\n",
    "       (origin-frame frame)\n",
    "       (linear-transform frame v)\n",
    "      )\n",
    "     )\n",
    "    )\n",
    "  )\n",
    "\n",
    "; ベクトルコンストラクタ・セレクタ\n",
    "(define (make-vect x y) (cons x y))\n",
    "(define (xcor-vect v)(car v))\n",
    "(define (ycor-vect v)(cdr v))\n",
    "\n",
    "; ベクトル演算\n",
    "(define (add-vect v1 v2)\n",
    "  (make-vect (+ (xcor-vect v1)\n",
    "                (xcor-vect v2))\n",
    "             (+ (ycor-vect v1)\n",
    "                (ycor-vect v2))))\n",
    "(define (sub-vect v1 v2)\n",
    "  (make-vect (- (xcor-vect v1)\n",
    "                (xcor-vect v2))\n",
    "             (- (ycor-vect v1)\n",
    "                (ycor-vect v2))))\n",
    "(define (scale-vect s v)\n",
    "  (make-vect (* s (xcor-vect v))\n",
    "             (* s (ycor-vect v))))\n",
    "\n",
    "; フレームコンストラクタ・セレクタ\n",
    "(define (make-frame origin edge1 edge2)(list origin edge1 edge2))\n",
    "(define (origin-frame frame)(car frame))\n",
    "(define (edge1-frame frame)(cadr frame))\n",
    "(define (edge2-frame frame)(caddr frame))\n",
    "\n",
    "; 線分コンストラクタ・セレクタ\n",
    "(define (make-segment v1 v2)(cons v1 v2))\n",
    "(define (start-segment seg)(car seg))\n",
    "(define (end-segment seg)(cdr seg))\n",
    "\n",
    "; ペインタ\n",
    "(define (segments->painter segment-list)\n",
    "  (lambda (frame)\n",
    "    (for-each\n",
    "     (lambda (segment)\n",
    "       (draw-line\n",
    "        ((frame-coord-map frame) (start-segment segment))\n",
    "        ((frame-coord-map frame) (end-segment segment))))\n",
    "     segment-list)))\n",
    "\n",
    "; ペインタ変換と組み合わせ\n",
    "(define (transform-painter painter origin corner1 corner2)\n",
    "  (lambda (frame)\n",
    "    (let ((m (frame-coord-map frame)))\n",
    "      (let ((new-origin (m origin)))\n",
    "        (painter\n",
    "         (make-frame new-origin\n",
    "                     (linear-transform frame corner1)\n",
    "                     (linear-transform frame corner2)\n",
    "                     )\n",
    "         )\n",
    "        )\n",
    "      )\n",
    "    )\n",
    "  )\n",
    "\n",
    "\n",
    "; 線形変換のベクトルは変更\n",
    "(define (flip-vert painter)\n",
    "  (transform-painter painter\n",
    "                     ;(make-vect 0.0 1.0)\n",
    "                     ;(make-vect 1.0 1.0)\n",
    "                     ;(make-vect 0.0 0.0)\n",
    "                     (make-vect 0.0 1.0)\n",
    "                     (make-vect 1.0 0.0)\n",
    "                     (make-vect 0.0 -1.0)\n",
    "    )\n",
    "  )\n",
    "\n",
    "; 線形変換のベクトルは変更\n",
    "(define (beside painter1 painter2)\n",
    "  (let ((split-point (make-vect 0.5 0.0)))\n",
    "    (let ((paint-left\n",
    "           (transform-painter painter1\n",
    "                              (make-vect 0.0 0.0)\n",
    "                              split-point\n",
    "                              (make-vect 0.0 1.0)\n",
    "                              )\n",
    "           )\n",
    "          (paint-right\n",
    "           (transform-painter painter2\n",
    "                              ;split-point\n",
    "                              ;(make-vect 1.0 0.0)\n",
    "                              ;(make-vect 0.5 1.0)\n",
    "                              split-point\n",
    "                              split-point\n",
    "                              (make-vect 0.0 1.0)\n",
    "                              )\n",
    "           )\n",
    "          )\n",
    "      (lambda (frame)\n",
    "        (paint-left frame)\n",
    "        (paint-right frame)))))\n",
    "\n",
    "(define (below painter1 painter2)\n",
    "  (let ((split-point (make-vect 0.0 0.5)))\n",
    "    (let ((paint-below\n",
    "           (transform-painter painter1\n",
    "                              (make-vect 0.0 0.0)\n",
    "                              (make-vect 1.0 0.0)\n",
    "                              split-point))\n",
    "          (paint-above\n",
    "           (transform-painter painter2\n",
    "                              split-point\n",
    "                              (make-vect 1.0 0.0)\n",
    "                              (make-vect 0.0 0.5))))\n",
    "      (lambda (frame)\n",
    "        (paint-below frame)\n",
    "        (paint-above frame)))))\n",
    "\n",
    "; waveペインタ\n",
    "; 以下のサイトを参照しました。\n",
    "; https://gist.github.com/tkmr/28498\n",
    "(define wave\n",
    "  (lambda (frame)\n",
    "    ((segments->painter\n",
    "      (list (make-segment (make-vect 0.000 0.645) (make-vect 0.154 0.411))\n",
    "            (make-segment (make-vect 0.154 0.411) (make-vect 0.302 0.588))\n",
    "            (make-segment (make-vect 0.302 0.588) (make-vect 0.354 0.497))\n",
    "            (make-segment (make-vect 0.354 0.497) (make-vect 0.245 0.000))\n",
    "            (make-segment (make-vect 0.419 0.000) (make-vect 0.497 0.171))\n",
    "            (make-segment (make-vect 0.497 0.171) (make-vect 0.575 0.000))\n",
    "            (make-segment (make-vect 0.748 0.000) (make-vect 0.605 0.462))\n",
    "            (make-segment (make-vect 0.605 0.462) (make-vect 1.000 0.142))\n",
    "            (make-segment (make-vect 1.000 0.354) (make-vect 0.748 0.657))\n",
    "            (make-segment (make-vect 0.748 0.657) (make-vect 0.582 0.657))\n",
    "            (make-segment (make-vect 0.582 0.657) (make-vect 0.640 0.857))\n",
    "            (make-segment (make-vect 0.640 0.857) (make-vect 0.575 1.000))\n",
    "            (make-segment (make-vect 0.419 1.000) (make-vect 0.354 0.857))\n",
    "            (make-segment (make-vect 0.354 0.857) (make-vect 0.411 0.657))\n",
    "            (make-segment (make-vect 0.411 0.657) (make-vect 0.285 0.657))\n",
    "            (make-segment (make-vect 0.285 0.657) (make-vect 0.154 0.605))\n",
    "            (make-segment (make-vect 0.154 0.605) (make-vect 0.000 0.857)))) frame)))\n",
    "\n",
    "(import-as \"picseg\" 'pic)\n",
    "(pic.init 256 245 245 245)\n",
    ";(pic.init 256 255 255 255)\n",
    "\n",
    "(define (draw-line v1 v2)\n",
    "  (let ((start-x (xcor-vect v1))\n",
    "        (start-y (ycor-vect v1))\n",
    "        (end-x (xcor-vect v2))\n",
    "        (end-y (ycor-vect v2)))\n",
    "    (pic.draw_line start-x start-y end-x end-y)\n",
    "    ;(display \"(\")\n",
    "    ;(display start-x)\n",
    "    ;(display \",\")\n",
    "    ;(display start-y)\n",
    "    ;(display \") (\")\n",
    "    ;(display end-x)\n",
    "    ;(display \",\")\n",
    "    ;(display end-y)\n",
    "    ;(display \")\")\n",
    "    ;(newline)\n",
    "    )\n",
    "  )\n",
    "\n",
    "; ペインタの動作確認\n",
    "(define (paint painter)\n",
    "  (let ((frame0 (make-frame\n",
    "                            (make-vect 0 0)\n",
    "                            (make-vect 1 0)\n",
    "                            (make-vect 0 1))))\n",
    "    (pic.clear)\n",
    "    (painter frame0)\n",
    "    (pic.update)\n",
    "    )\n",
    "  )"
   ]
  },
  {
   "cell_type": "code",
   "execution_count": 2,
   "metadata": {},
   "outputs": [
    {
     "data": {
      "image/svg+xml": [
       "<svg baseProfile=\"full\" height=\"256\" version=\"1.1\" width=\"256\" xmlns=\"http://www.w3.org/2000/svg\" xmlns:ev=\"http://www.w3.org/2001/xml-events\" xmlns:xlink=\"http://www.w3.org/1999/xlink\"><defs /><rect fill=\"#f5f5f5\" height=\"256\" stroke=\"#f5f5f5\" stroke-width=\"1\" width=\"256\" x=\"0\" y=\"0\" /><line fill=\"#800080\" stroke=\"#000000\" stroke-width=\"1\" x1=\"0.0\" x2=\"19.712\" y1=\"90.88\" y2=\"150.784\" /><line fill=\"#800080\" stroke=\"#000000\" stroke-width=\"1\" x1=\"19.712\" x2=\"38.656\" y1=\"150.784\" y2=\"105.47200000000001\" /><line fill=\"#800080\" stroke=\"#000000\" stroke-width=\"1\" x1=\"38.656\" x2=\"45.312\" y1=\"105.47200000000001\" y2=\"128.768\" /><line fill=\"#800080\" stroke=\"#000000\" stroke-width=\"1\" x1=\"45.312\" x2=\"31.36\" y1=\"128.768\" y2=\"256.0\" /><line fill=\"#800080\" stroke=\"#000000\" stroke-width=\"1\" x1=\"53.632\" x2=\"63.616\" y1=\"256.0\" y2=\"212.224\" /><line fill=\"#800080\" stroke=\"#000000\" stroke-width=\"1\" x1=\"63.616\" x2=\"73.6\" y1=\"212.224\" y2=\"256.0\" /><line fill=\"#800080\" stroke=\"#000000\" stroke-width=\"1\" x1=\"95.744\" x2=\"77.44\" y1=\"256.0\" y2=\"137.728\" /><line fill=\"#800080\" stroke=\"#000000\" stroke-width=\"1\" x1=\"77.44\" x2=\"128.0\" y1=\"137.728\" y2=\"219.648\" /><line fill=\"#800080\" stroke=\"#000000\" stroke-width=\"1\" x1=\"128.0\" x2=\"95.744\" y1=\"165.376\" y2=\"87.80799999999999\" /><line fill=\"#800080\" stroke=\"#000000\" stroke-width=\"1\" x1=\"95.744\" x2=\"74.496\" y1=\"87.80799999999999\" y2=\"87.80799999999999\" /><line fill=\"#800080\" stroke=\"#000000\" stroke-width=\"1\" x1=\"74.496\" x2=\"81.92\" y1=\"87.80799999999999\" y2=\"36.608000000000004\" /><line fill=\"#800080\" stroke=\"#000000\" stroke-width=\"1\" x1=\"81.92\" x2=\"73.6\" y1=\"36.608000000000004\" y2=\"0.0\" /><line fill=\"#800080\" stroke=\"#000000\" stroke-width=\"1\" x1=\"53.632\" x2=\"45.312\" y1=\"0.0\" y2=\"36.608000000000004\" /><line fill=\"#800080\" stroke=\"#000000\" stroke-width=\"1\" x1=\"45.312\" x2=\"52.608\" y1=\"36.608000000000004\" y2=\"87.80799999999999\" /><line fill=\"#800080\" stroke=\"#000000\" stroke-width=\"1\" x1=\"52.608\" x2=\"36.48\" y1=\"87.80799999999999\" y2=\"87.80799999999999\" /><line fill=\"#800080\" stroke=\"#000000\" stroke-width=\"1\" x1=\"36.48\" x2=\"19.712\" y1=\"87.80799999999999\" y2=\"101.12\" /><line fill=\"#800080\" stroke=\"#000000\" stroke-width=\"1\" x1=\"19.712\" x2=\"0.0\" y1=\"101.12\" y2=\"36.608000000000004\" /><line fill=\"#800080\" stroke=\"#000000\" stroke-width=\"1\" x1=\"128.0\" x2=\"147.712\" y1=\"165.12\" y2=\"105.21600000000001\" /><line fill=\"#800080\" stroke=\"#000000\" stroke-width=\"1\" x1=\"147.712\" x2=\"166.656\" y1=\"105.21600000000001\" y2=\"150.528\" /><line fill=\"#800080\" stroke=\"#000000\" stroke-width=\"1\" x1=\"166.656\" x2=\"173.312\" y1=\"150.528\" y2=\"127.232\" /><line fill=\"#800080\" stroke=\"#000000\" stroke-width=\"1\" x1=\"173.312\" x2=\"159.36\" y1=\"127.232\" y2=\"0.0\" /><line fill=\"#800080\" stroke=\"#000000\" stroke-width=\"1\" x1=\"181.632\" x2=\"191.61599999999999\" y1=\"0.0\" y2=\"43.77600000000001\" /><line fill=\"#800080\" stroke=\"#000000\" stroke-width=\"1\" x1=\"191.61599999999999\" x2=\"201.6\" y1=\"43.77600000000001\" y2=\"0.0\" /><line fill=\"#800080\" stroke=\"#000000\" stroke-width=\"1\" x1=\"223.744\" x2=\"205.44\" y1=\"0.0\" y2=\"118.27199999999999\" /><line fill=\"#800080\" stroke=\"#000000\" stroke-width=\"1\" x1=\"205.44\" x2=\"256.0\" y1=\"118.27199999999999\" y2=\"36.352000000000004\" /><line fill=\"#800080\" stroke=\"#000000\" stroke-width=\"1\" x1=\"256.0\" x2=\"223.744\" y1=\"90.624\" y2=\"168.192\" /><line fill=\"#800080\" stroke=\"#000000\" stroke-width=\"1\" x1=\"223.744\" x2=\"202.49599999999998\" y1=\"168.192\" y2=\"168.192\" /><line fill=\"#800080\" stroke=\"#000000\" stroke-width=\"1\" x1=\"202.49599999999998\" x2=\"209.92000000000002\" y1=\"168.192\" y2=\"219.392\" /><line fill=\"#800080\" stroke=\"#000000\" stroke-width=\"1\" x1=\"209.92000000000002\" x2=\"201.6\" y1=\"219.392\" y2=\"256.0\" /><line fill=\"#800080\" stroke=\"#000000\" stroke-width=\"1\" x1=\"181.632\" x2=\"173.312\" y1=\"256.0\" y2=\"219.392\" /><line fill=\"#800080\" stroke=\"#000000\" stroke-width=\"1\" x1=\"173.312\" x2=\"180.608\" y1=\"219.392\" y2=\"168.192\" /><line fill=\"#800080\" stroke=\"#000000\" stroke-width=\"1\" x1=\"180.608\" x2=\"164.48\" y1=\"168.192\" y2=\"168.192\" /><line fill=\"#800080\" stroke=\"#000000\" stroke-width=\"1\" x1=\"164.48\" x2=\"147.712\" y1=\"168.192\" y2=\"154.88\" /><line fill=\"#800080\" stroke=\"#000000\" stroke-width=\"1\" x1=\"147.712\" x2=\"128.0\" y1=\"154.88\" y2=\"219.392\" /></svg>"
      ],
      "text/plain": [
       "<Canvas (256, 256)>"
      ]
     },
     "metadata": {},
     "output_type": "display_data"
    }
   ],
   "source": [
    "(paint (beside wave (flip-vert wave)))"
   ]
  },
  {
   "cell_type": "code",
   "execution_count": 19,
   "metadata": {},
   "outputs": [
    {
     "name": "stdout",
     "output_type": "stream",
     "text": [
      "3.141592653589793"
     ]
    },
    {
     "data": {
      "text/plain": [
       "-1.0"
      ]
     },
     "execution_count": 19,
     "metadata": {},
     "output_type": "execute_result"
    }
   ],
   "source": [
    "(define pi 3.141592653589793)\n",
    "(import \"math\")\n",
    "(display math.pi)\n",
    "\n",
    "(math.cos pi)"
   ]
  },
  {
   "cell_type": "code",
   "execution_count": 4,
   "metadata": {},
   "outputs": [],
   "source": [
    "(define (rotation-map r painter)\n",
    "  (let ((v1-x (math.cos r))\n",
    "        (v1-y (math.sin r))\n",
    "        (v2-x (- (math.sin r)))\n",
    "        (v2-y (math.cos r)))\n",
    "    (transform-painter painter\n",
    "                       (make-vect 0.0 0.0)\n",
    "                       (make-vect v1-x v1-y)\n",
    "                       (make-vect v2-x v2-y)\n",
    "                       )\n",
    "    )\n",
    "  )"
   ]
  },
  {
   "cell_type": "code",
   "execution_count": 5,
   "metadata": {},
   "outputs": [
    {
     "data": {
      "image/svg+xml": [
       "<svg baseProfile=\"full\" height=\"256\" version=\"1.1\" width=\"256\" xmlns=\"http://www.w3.org/2000/svg\" xmlns:ev=\"http://www.w3.org/2001/xml-events\" xmlns:xlink=\"http://www.w3.org/1999/xlink\"><defs /><rect fill=\"#f5f5f5\" height=\"256\" stroke=\"#f5f5f5\" stroke-width=\"1\" width=\"256\" x=\"0\" y=\"0\" /><line fill=\"#800080\" stroke=\"#000000\" stroke-width=\"1\" x1=\"-51.024886111191314\" x2=\"4.980920018265671\" y1=\"98.96154802934424\" y2=\"143.7509515952512\" /><line fill=\"#800080\" stroke=\"#000000\" stroke-width=\"1\" x1=\"4.980920018265671\" x2=\"27.012371258538835\" y1=\"143.7509515952512\" y2=\"88.9486428460072\" /><line fill=\"#800080\" stroke=\"#000000\" stroke-width=\"1\" x1=\"27.012371258538835\" x2=\"46.87169550441869\" y1=\"88.9486428460072\" y2=\"106.99082122049981\" /><line fill=\"#800080\" stroke=\"#000000\" stroke-width=\"1\" x1=\"46.87169550441869\" x2=\"59.650264702032025\" y1=\"106.99082122049981\" y2=\"236.6184541128033\" /><line fill=\"#800080\" stroke=\"#000000\" stroke-width=\"1\" x1=\"102.01412616388335\" x2=\"107.47729473550727\" y1=\"222.85360111536565\" y2=\"175.04969971435006\" /><line fill=\"#800080\" stroke=\"#000000\" stroke-width=\"1\" x1=\"107.47729473550727\" x2=\"139.99551919864658\" y1=\"175.04969971435006\" y2=\"210.51269842800775\" /><line fill=\"#800080\" stroke=\"#000000\" stroke-width=\"1\" x1=\"182.11591019232637\" x2=\"110.75157528507961\" y1=\"196.82695378113007\" y2=\"95.65609161594773\" /><line fill=\"#800080\" stroke=\"#000000\" stroke-width=\"1\" x1=\"110.75157528507961\" x2=\"232.2370823920412\" y1=\"95.65609161594773\" y2=\"142.31884295965205\" /><line fill=\"#800080\" stroke=\"#000000\" stroke-width=\"1\" x1=\"215.46611207332407\" x2=\"130.14172387441522\" y1=\"90.70310370728146\" y2=\"36.86685619241561\" /><line fill=\"#800080\" stroke=\"#000000\" stroke-width=\"1\" x1=\"130.14172387441522\" x2=\"89.72562615793635\" y1=\"36.86685619241561\" y2=\"49.99884238537339\" /><line fill=\"#800080\" stroke=\"#000000\" stroke-width=\"1\" x1=\"89.72562615793635\" x2=\"88.02524319988952\" y1=\"49.99884238537339\" y2=\"-3.283535581417709\" /><line fill=\"#800080\" stroke=\"#000000\" stroke-width=\"1\" x1=\"88.02524319988952\" x2=\"60.88716863866004\" y1=\"-3.283535581417709\" y2=\"-32.95776974355158\" /><line fill=\"#800080\" stroke=\"#000000\" stroke-width=\"1\" x1=\"22.905775603896814\" x2=\"18.39268930282354\" y1=\"-20.616867056193655\" y2=\"19.34145267873845\" /><line fill=\"#800080\" stroke=\"#000000\" stroke-width=\"1\" x1=\"18.39268930282354\" x2=\"48.09217610059971\" y1=\"19.34145267873845\" y2=\"63.52637033113109\" /><line fill=\"#800080\" stroke=\"#000000\" stroke-width=\"1\" x1=\"48.09217610059971\" x2=\"17.41489711098324\" y1=\"63.52637033113109\" y2=\"73.49402250168939\" /><line fill=\"#800080\" stroke=\"#000000\" stroke-width=\"1\" x1=\"17.41489711098324\" x2=\"-10.366099990371715\" y1=\"73.49402250168939\" y2=\"96.5176807699687\" /><line fill=\"#800080\" stroke=\"#000000\" stroke-width=\"1\" x1=\"-10.366099990371715\" x2=\"-67.79585642990845\" y1=\"96.5176807699687\" y2=\"47.34580877697368\" /></svg>"
      ],
      "text/plain": [
       "<Canvas (256, 256)>"
      ]
     },
     "metadata": {},
     "output_type": "display_data"
    }
   ],
   "source": [
    "(paint (rotation-map (/ pi 10) wave))"
   ]
  },
  {
   "cell_type": "code",
   "execution_count": 6,
   "metadata": {},
   "outputs": [],
   "source": [
    ";affine \n",
    "(define (affine-map x y painter)\n",
    "  (transform-painter painter\n",
    "                     (make-vect x y)\n",
    "                     (make-vect 1.0 0.0)\n",
    "                     (make-vect 0.0 1.0)\n",
    "    )\n",
    "  )"
   ]
  },
  {
   "cell_type": "code",
   "execution_count": 7,
   "metadata": {},
   "outputs": [
    {
     "data": {
      "image/svg+xml": [
       "<svg baseProfile=\"full\" height=\"256\" version=\"1.1\" width=\"256\" xmlns=\"http://www.w3.org/2000/svg\" xmlns:ev=\"http://www.w3.org/2001/xml-events\" xmlns:xlink=\"http://www.w3.org/1999/xlink\"><defs /><rect fill=\"#f5f5f5\" height=\"256\" stroke=\"#f5f5f5\" stroke-width=\"1\" width=\"256\" x=\"0\" y=\"0\" /><line fill=\"#800080\" stroke=\"#000000\" stroke-width=\"1\" x1=\"64.0\" x2=\"103.424\" y1=\"65.28\" y2=\"125.184\" /><line fill=\"#800080\" stroke=\"#000000\" stroke-width=\"1\" x1=\"103.424\" x2=\"141.312\" y1=\"125.184\" y2=\"79.87200000000001\" /><line fill=\"#800080\" stroke=\"#000000\" stroke-width=\"1\" x1=\"141.312\" x2=\"154.624\" y1=\"79.87200000000001\" y2=\"103.168\" /><line fill=\"#800080\" stroke=\"#000000\" stroke-width=\"1\" x1=\"154.624\" x2=\"126.72\" y1=\"103.168\" y2=\"230.4\" /><line fill=\"#800080\" stroke=\"#000000\" stroke-width=\"1\" x1=\"171.264\" x2=\"191.232\" y1=\"230.4\" y2=\"186.624\" /><line fill=\"#800080\" stroke=\"#000000\" stroke-width=\"1\" x1=\"191.232\" x2=\"211.2\" y1=\"186.624\" y2=\"230.4\" /><line fill=\"#800080\" stroke=\"#000000\" stroke-width=\"1\" x1=\"255.488\" x2=\"218.88\" y1=\"230.4\" y2=\"112.12799999999999\" /><line fill=\"#800080\" stroke=\"#000000\" stroke-width=\"1\" x1=\"218.88\" x2=\"320.0\" y1=\"112.12799999999999\" y2=\"194.048\" /><line fill=\"#800080\" stroke=\"#000000\" stroke-width=\"1\" x1=\"320.0\" x2=\"255.488\" y1=\"139.776\" y2=\"62.208\" /><line fill=\"#800080\" stroke=\"#000000\" stroke-width=\"1\" x1=\"255.488\" x2=\"212.992\" y1=\"62.208\" y2=\"62.208\" /><line fill=\"#800080\" stroke=\"#000000\" stroke-width=\"1\" x1=\"212.992\" x2=\"227.84\" y1=\"62.208\" y2=\"11.00800000000001\" /><line fill=\"#800080\" stroke=\"#000000\" stroke-width=\"1\" x1=\"227.84\" x2=\"211.2\" y1=\"11.00800000000001\" y2=\"-25.600000000000023\" /><line fill=\"#800080\" stroke=\"#000000\" stroke-width=\"1\" x1=\"171.264\" x2=\"154.624\" y1=\"-25.600000000000023\" y2=\"11.00800000000001\" /><line fill=\"#800080\" stroke=\"#000000\" stroke-width=\"1\" x1=\"154.624\" x2=\"169.216\" y1=\"11.00800000000001\" y2=\"62.208\" /><line fill=\"#800080\" stroke=\"#000000\" stroke-width=\"1\" x1=\"169.216\" x2=\"136.95999999999998\" y1=\"62.208\" y2=\"62.208\" /><line fill=\"#800080\" stroke=\"#000000\" stroke-width=\"1\" x1=\"136.95999999999998\" x2=\"103.424\" y1=\"62.208\" y2=\"75.52000000000001\" /><line fill=\"#800080\" stroke=\"#000000\" stroke-width=\"1\" x1=\"103.424\" x2=\"64.0\" y1=\"75.52000000000001\" y2=\"11.00800000000001\" /></svg>"
      ],
      "text/plain": [
       "<Canvas (256, 256)>"
      ]
     },
     "metadata": {},
     "output_type": "display_data"
    }
   ],
   "source": [
    "(paint (affine-map 0.25 0.1 wave))"
   ]
  },
  {
   "cell_type": "markdown",
   "metadata": {},
   "source": [
    "$$\n",
    "\\left(\n",
    "    \\begin{array}{c}\n",
    "      x' \\\\\n",
    "      y'\n",
    "    \\end{array}\n",
    "  \\right)\n",
    "  =\n",
    "\\left(\n",
    "    \\begin{array}{cc}\n",
    "      cos(\\theta) & -sin(\\theta) \\\\\n",
    "      sin(\\theta) & cos(\\theta)\n",
    "    \\end{array}\n",
    "  \\right)\n",
    "\\left(\n",
    "    \\begin{array}{c}\n",
    "      x \\\\\n",
    "      y\n",
    "    \\end{array}\n",
    "  \\right)\n",
    "$$  \n",
    "\n"
   ]
  },
  {
   "cell_type": "code",
   "execution_count": 15,
   "metadata": {},
   "outputs": [],
   "source": [
    ";affine \n",
    "(define (scaling-map s painter)\n",
    "  (transform-painter painter\n",
    "                     (make-vect 0.0 0.0)\n",
    "                     (make-vect s 0.0)\n",
    "                     (make-vect 0.0 s)\n",
    "    )\n",
    "  )"
   ]
  },
  {
   "cell_type": "code",
   "execution_count": 16,
   "metadata": {},
   "outputs": [
    {
     "name": "stdout",
     "output_type": "stream",
     "text": [
      "1.4142135623730951"
     ]
    },
    {
     "data": {
      "image/svg+xml": [
       "<svg baseProfile=\"full\" height=\"256\" version=\"1.1\" width=\"256\" xmlns=\"http://www.w3.org/2000/svg\" xmlns:ev=\"http://www.w3.org/2001/xml-events\" xmlns:xlink=\"http://www.w3.org/1999/xlink\"><defs /><rect fill=\"#f5f5f5\" height=\"256\" stroke=\"#f5f5f5\" stroke-width=\"1\" width=\"256\" x=\"0\" y=\"0\" /><line fill=\"#800080\" stroke=\"#000000\" stroke-width=\"1\" x1=\"0.0\" x2=\"15.7696\" y1=\"189.952\" y2=\"213.9136\" /><line fill=\"#800080\" stroke=\"#000000\" stroke-width=\"1\" x1=\"15.7696\" x2=\"30.9248\" y1=\"213.9136\" y2=\"195.7888\" /><line fill=\"#800080\" stroke=\"#000000\" stroke-width=\"1\" x1=\"30.9248\" x2=\"36.2496\" y1=\"195.7888\" y2=\"205.1072\" /><line fill=\"#800080\" stroke=\"#000000\" stroke-width=\"1\" x1=\"36.2496\" x2=\"25.088\" y1=\"205.1072\" y2=\"256.0\" /><line fill=\"#800080\" stroke=\"#000000\" stroke-width=\"1\" x1=\"42.9056\" x2=\"50.8928\" y1=\"256.0\" y2=\"238.4896\" /><line fill=\"#800080\" stroke=\"#000000\" stroke-width=\"1\" x1=\"50.8928\" x2=\"58.879999999999995\" y1=\"238.4896\" y2=\"256.0\" /><line fill=\"#800080\" stroke=\"#000000\" stroke-width=\"1\" x1=\"76.5952\" x2=\"61.952\" y1=\"256.0\" y2=\"208.69119999999998\" /><line fill=\"#800080\" stroke=\"#000000\" stroke-width=\"1\" x1=\"61.952\" x2=\"102.4\" y1=\"208.69119999999998\" y2=\"241.4592\" /><line fill=\"#800080\" stroke=\"#000000\" stroke-width=\"1\" x1=\"102.4\" x2=\"76.5952\" y1=\"219.7504\" y2=\"188.7232\" /><line fill=\"#800080\" stroke=\"#000000\" stroke-width=\"1\" x1=\"76.5952\" x2=\"59.5968\" y1=\"188.7232\" y2=\"188.7232\" /><line fill=\"#800080\" stroke=\"#000000\" stroke-width=\"1\" x1=\"59.5968\" x2=\"65.536\" y1=\"188.7232\" y2=\"168.2432\" /><line fill=\"#800080\" stroke=\"#000000\" stroke-width=\"1\" x1=\"65.536\" x2=\"58.879999999999995\" y1=\"168.2432\" y2=\"153.6\" /><line fill=\"#800080\" stroke=\"#000000\" stroke-width=\"1\" x1=\"42.9056\" x2=\"36.2496\" y1=\"153.6\" y2=\"168.2432\" /><line fill=\"#800080\" stroke=\"#000000\" stroke-width=\"1\" x1=\"36.2496\" x2=\"42.0864\" y1=\"168.2432\" y2=\"188.7232\" /><line fill=\"#800080\" stroke=\"#000000\" stroke-width=\"1\" x1=\"42.0864\" x2=\"29.183999999999997\" y1=\"188.7232\" y2=\"188.7232\" /><line fill=\"#800080\" stroke=\"#000000\" stroke-width=\"1\" x1=\"29.183999999999997\" x2=\"15.7696\" y1=\"188.7232\" y2=\"194.048\" /><line fill=\"#800080\" stroke=\"#000000\" stroke-width=\"1\" x1=\"15.7696\" x2=\"0.0\" y1=\"194.048\" y2=\"168.2432\" /></svg>"
      ],
      "text/plain": [
       "<Canvas (256, 256)>"
      ]
     },
     "metadata": {},
     "output_type": "display_data"
    }
   ],
   "source": [
    "(define sqrt2 (math.sqrt 2))\n",
    "(display sqrt2)\n",
    "(paint (scaling-map 0.4 wave))"
   ]
  },
  {
   "cell_type": "code",
   "execution_count": 27,
   "metadata": {},
   "outputs": [
    {
     "data": {
      "image/svg+xml": [
       "<svg baseProfile=\"full\" height=\"256\" version=\"1.1\" width=\"256\" xmlns=\"http://www.w3.org/2000/svg\" xmlns:ev=\"http://www.w3.org/2001/xml-events\" xmlns:xlink=\"http://www.w3.org/1999/xlink\"><defs /><rect fill=\"#f5f5f5\" height=\"256\" stroke=\"#f5f5f5\" stroke-width=\"1\" width=\"256\" x=\"0\" y=\"0\" /><line fill=\"#800080\" stroke=\"#000000\" stroke-width=\"1\" x1=\"45.43999999999998\" x2=\"95.10399999999998\" y1=\"173.44\" y2=\"183.68\" /><line fill=\"#800080\" stroke=\"#000000\" stroke-width=\"1\" x1=\"95.10399999999998\" x2=\"91.392\" y1=\"183.68\" y2=\"142.08\" /><line fill=\"#800080\" stroke=\"#000000\" stroke-width=\"1\" x1=\"91.392\" x2=\"109.696\" y1=\"142.08\" y2=\"147.072\" /><line fill=\"#800080\" stroke=\"#000000\" stroke-width=\"1\" x1=\"109.696\" x2=\"159.36\" y1=\"147.072\" y2=\"224.64000000000001\" /><line fill=\"#800080\" stroke=\"#000000\" stroke-width=\"1\" x1=\"181.632\" x2=\"169.728\" y1=\"202.36800000000002\" y2=\"170.496\" /><line fill=\"#800080\" stroke=\"#000000\" stroke-width=\"1\" x1=\"169.728\" x2=\"201.60000000000002\" y1=\"170.496\" y2=\"182.40000000000003\" /><line fill=\"#800080\" stroke=\"#000000\" stroke-width=\"1\" x1=\"223.74400000000003\" x2=\"146.304\" y1=\"160.25600000000003\" y2=\"119.424\" /><line fill=\"#800080\" stroke=\"#000000\" stroke-width=\"1\" x1=\"146.304\" x2=\"237.824\" y1=\"119.424\" y2=\"109.82399999999998\" /><line fill=\"#800080\" stroke=\"#000000\" stroke-width=\"1\" x1=\"210.68800000000002\" x2=\"139.648\" y1=\"82.68799999999999\" y2=\"76.16\" /><line fill=\"#800080\" stroke=\"#000000\" stroke-width=\"1\" x1=\"139.648\" x2=\"118.39999999999999\" y1=\"76.16\" y2=\"97.40799999999999\" /><line fill=\"#800080\" stroke=\"#000000\" stroke-width=\"1\" x1=\"118.39999999999999\" x2=\"100.22399999999999\" y1=\"97.40799999999999\" y2=\"64.38399999999999\" /><line fill=\"#800080\" stroke=\"#000000\" stroke-width=\"1\" x1=\"100.22399999999999\" x2=\"73.59999999999998\" y1=\"64.38399999999999\" y2=\"54.400000000000006\" /><line fill=\"#800080\" stroke=\"#000000\" stroke-width=\"1\" x1=\"53.63199999999998\" x2=\"63.615999999999985\" y1=\"74.368\" y2=\"100.99199999999999\" /><line fill=\"#800080\" stroke=\"#000000\" stroke-width=\"1\" x1=\"63.615999999999985\" x2=\"96.512\" y1=\"100.99199999999999\" y2=\"119.29599999999999\" /><line fill=\"#800080\" stroke=\"#000000\" stroke-width=\"1\" x1=\"96.512\" x2=\"80.38399999999999\" y1=\"119.29599999999999\" y2=\"135.424\" /><line fill=\"#800080\" stroke=\"#000000\" stroke-width=\"1\" x1=\"80.38399999999999\" x2=\"70.27199999999999\" y1=\"135.424\" y2=\"158.848\" /><line fill=\"#800080\" stroke=\"#000000\" stroke-width=\"1\" x1=\"70.27199999999999\" x2=\"18.303999999999974\" y1=\"158.848\" y2=\"146.304\" /></svg>"
      ],
      "text/plain": [
       "<Canvas (256, 256)>"
      ]
     },
     "metadata": {},
     "output_type": "display_data"
    }
   ],
   "source": [
    "(define sqrt2 (math.sqrt 2))\n",
    ";(display sqrt2)\n",
    "(define norm (/ sqrt2 2))\n",
    "(define move 0.5)\n",
    "\n",
    "(define (rotate r painter)\n",
    "  (paint \n",
    "   (affine-map move move\n",
    "               (rotation-map r\n",
    "                           (affine-map (- (/ norm 2)) (- (/ norm 2))\n",
    "                                       (scaling-map norm painter))\n",
    "                )\n",
    "      )\n",
    "    )\n",
    "  )\n",
    "\n",
    "(rotate (/ pi 4) wave)"
   ]
  },
  {
   "cell_type": "code",
   "execution_count": 29,
   "metadata": {},
   "outputs": [
    {
     "data": {
      "image/svg+xml": [
       "<svg baseProfile=\"full\" height=\"256\" version=\"1.1\" width=\"256\" xmlns=\"http://www.w3.org/2000/svg\" xmlns:ev=\"http://www.w3.org/2001/xml-events\" xmlns:xlink=\"http://www.w3.org/1999/xlink\"><defs /><rect fill=\"#f5f5f5\" height=\"256\" stroke=\"#f5f5f5\" stroke-width=\"1\" width=\"256\" x=\"0\" y=\"0\" /><line fill=\"#800080\" stroke=\"#000000\" stroke-width=\"1\" x1=\"37.49033200812191\" x2=\"65.36730974962036\" y1=\"101.75219628235536\" y2=\"144.1107209025543\" /><line fill=\"#800080\" stroke=\"#000000\" stroke-width=\"1\" x1=\"65.36730974962036\" x2=\"92.15817147521628\" y1=\"144.1107209025543\" y2=\"112.07029843342946\" /><line fill=\"#800080\" stroke=\"#000000\" stroke-width=\"1\" x1=\"92.15817147521628\" x2=\"101.5711769463716\" y1=\"112.07029843342946\" y2=\"128.5430580079513\" /><line fill=\"#800080\" stroke=\"#000000\" stroke-width=\"1\" x1=\"101.5711769463716\" x2=\"81.84006932414218\" y1=\"128.5430580079513\" y2=\"218.50966799187808\" /><line fill=\"#800080\" stroke=\"#000000\" stroke-width=\"1\" x1=\"113.33743378531575\" x2=\"127.45694199204873\" y1=\"218.50966799187808\" y2=\"187.55536153865577\" /><line fill=\"#800080\" stroke=\"#000000\" stroke-width=\"1\" x1=\"127.45694199204873\" x2=\"141.57645019878169\" y1=\"187.55536153865577\" y2=\"218.50966799187808\" /><line fill=\"#800080\" stroke=\"#000000\" stroke-width=\"1\" x1=\"172.89279532397154\" x2=\"147.0070302782944\" y1=\"218.50966799187808\" y2=\"134.87873476738272\" /><line fill=\"#800080\" stroke=\"#000000\" stroke-width=\"1\" x1=\"147.0070302782944\" x2=\"218.50966799187808\" y1=\"134.87873476738272\" y2=\"192.80492228218472\" /><line fill=\"#800080\" stroke=\"#000000\" stroke-width=\"1\" x1=\"218.50966799187808\" x2=\"172.89279532397154\" y1=\"154.4288230536284\" y2=\"99.57996425055029\" /><line fill=\"#800080\" stroke=\"#000000\" stroke-width=\"1\" x1=\"172.89279532397154\" x2=\"142.843585550668\" y1=\"99.57996425055029\" y2=\"99.57996425055029\" /><line fill=\"#800080\" stroke=\"#000000\" stroke-width=\"1\" x1=\"142.843585550668\" x2=\"153.34270703772586\" y1=\"99.57996425055029\" y2=\"63.37609705379907\" /><line fill=\"#800080\" stroke=\"#000000\" stroke-width=\"1\" x1=\"153.34270703772586\" x2=\"141.57645019878169\" y1=\"63.37609705379907\" y2=\"37.490332008121925\" /><line fill=\"#800080\" stroke=\"#000000\" stroke-width=\"1\" x1=\"113.33743378531575\" x2=\"101.5711769463716\" y1=\"37.490332008121925\" y2=\"63.37609705379907\" /><line fill=\"#800080\" stroke=\"#000000\" stroke-width=\"1\" x1=\"101.5711769463716\" x2=\"111.8892790974457\" y1=\"63.37609705379907\" y2=\"99.57996425055029\" /><line fill=\"#800080\" stroke=\"#000000\" stroke-width=\"1\" x1=\"111.8892790974457\" x2=\"89.08084276349243\" y1=\"99.57996425055029\" y2=\"99.57996425055029\" /><line fill=\"#800080\" stroke=\"#000000\" stroke-width=\"1\" x1=\"89.08084276349243\" x2=\"65.36730974962036\" y1=\"99.57996425055029\" y2=\"108.9929697217056\" /><line fill=\"#800080\" stroke=\"#000000\" stroke-width=\"1\" x1=\"65.36730974962036\" x2=\"37.49033200812191\" y1=\"108.9929697217056\" y2=\"63.37609705379907\" /></svg>"
      ],
      "text/plain": [
       "<Canvas (256, 256)>"
      ]
     },
     "metadata": {},
     "output_type": "display_data"
    },
    {
     "data": {
      "image/svg+xml": [
       "<svg baseProfile=\"full\" height=\"256\" version=\"1.1\" width=\"256\" xmlns=\"http://www.w3.org/2000/svg\" xmlns:ev=\"http://www.w3.org/2001/xml-events\" xmlns:xlink=\"http://www.w3.org/1999/xlink\"><defs /><rect fill=\"#f5f5f5\" height=\"256\" stroke=\"#f5f5f5\" stroke-width=\"1\" width=\"256\" x=\"0\" y=\"0\" /><line fill=\"#800080\" stroke=\"#000000\" stroke-width=\"1\" x1=\"34.33537062919847\" x2=\"76.3002453844205\" y1=\"138.38674178125103\" y2=\"166.85285817914644\" /><line fill=\"#800080\" stroke=\"#000000\" stroke-width=\"1\" x1=\"76.3002453844205\" x2=\"88.79043534612634\" y1=\"166.85285817914644\" y2=\"126.9989487257377\" /><line fill=\"#800080\" stroke=\"#000000\" stroke-width=\"1\" x1=\"88.79043534612634\" x2=\"103.7907706148464\" y1=\"126.9989487257377\" y2=\"138.61559289804467\" /><line fill=\"#800080\" stroke=\"#000000\" stroke-width=\"1\" x1=\"103.7907706148464\" x2=\"119.99033523579166\" y1=\"138.61559289804467\" y2=\"229.28467046085996\" /><line fill=\"#800080\" stroke=\"#000000\" stroke-width=\"1\" x1=\"149.09010558951832\" x2=\"150.28912999084412\" y1=\"217.23115091840387\" y2=\"183.2297988793301\" /><line fill=\"#800080\" stroke=\"#000000\" stroke-width=\"1\" x1=\"150.28912999084412\" x2=\"175.1795548721698\" y1=\"183.2297988793301\" y2=\"206.42454719068462\" /><line fill=\"#800080\" stroke=\"#000000\" stroke-width=\"1\" x1=\"204.11208516639232\" x2=\"148.1925840790496\" y1=\"194.44030074904722\" y2=\"127.0814466751938\" /><line fill=\"#800080\" stroke=\"#000000\" stroke-width=\"1\" x1=\"148.1925840790496\" x2=\"236.41979984518744\" y1=\"127.0814466751938\" y2=\"153.23539089313846\" /><line fill=\"#800080\" stroke=\"#000000\" stroke-width=\"1\" x1=\"221.7339024716202\" x2=\"158.59965792849772\" y1=\"117.7804982782531\" y2=\"84.56358165480344\" /><line fill=\"#800080\" stroke=\"#000000\" stroke-width=\"1\" x1=\"158.59965792849772\" x2=\"130.83780805080445\" y1=\"84.56358165480344\" y2=\"96.06291639070983\" /><line fill=\"#800080\" stroke=\"#000000\" stroke-width=\"1\" x1=\"130.83780805080445\" x2=\"126.68311133830403\" y1=\"96.06291639070983\" y2=\"58.597064642389256\" /><line fill=\"#800080\" stroke=\"#000000\" stroke-width=\"1\" x1=\"126.68311133830403\" x2=\"105.90645405345659\" y1=\"58.597064642389256\" y2=\"39.18448768650839\" /><line fill=\"#800080\" stroke=\"#000000\" stroke-width=\"1\" x1=\"79.81700477080511\" x2=\"78.85245432010964\" y1=\"49.99109141422767\" y2=\"78.40917147654122\" /><line fill=\"#800080\" stroke=\"#000000\" stroke-width=\"1\" x1=\"78.85245432010964\" x2=\"102.23975787559033\" y1=\"78.40917147654122\" y2=\"107.90861663070982\" /><line fill=\"#800080\" stroke=\"#000000\" stroke-width=\"1\" x1=\"102.23975787559033\" x2=\"81.16751037806412\" y1=\"107.90861663070982\" y2=\"116.63702733386768\" /><line fill=\"#800080\" stroke=\"#000000\" stroke-width=\"1\" x1=\"81.16751037806412\" x2=\"62.86126382559014\" y1=\"116.63702733386768\" y2=\"134.40828663533625\" /><line fill=\"#800080\" stroke=\"#000000\" stroke-width=\"1\" x1=\"62.86126382559014\" x2=\"19.64947325563127\" y1=\"134.40828663533625\" y2=\"102.93184916636571\" /></svg>"
      ],
      "text/plain": [
       "<Canvas (256, 256)>"
      ]
     },
     "metadata": {},
     "output_type": "display_data"
    },
    {
     "data": {
      "image/svg+xml": [
       "<svg baseProfile=\"full\" height=\"256\" version=\"1.1\" width=\"256\" xmlns=\"http://www.w3.org/2000/svg\" xmlns:ev=\"http://www.w3.org/2001/xml-events\" xmlns:xlink=\"http://www.w3.org/1999/xlink\"><defs /><rect fill=\"#f5f5f5\" height=\"256\" stroke=\"#f5f5f5\" stroke-width=\"1\" width=\"256\" x=\"0\" y=\"0\" /><line fill=\"#800080\" stroke=\"#000000\" stroke-width=\"1\" x1=\"45.43999999999998\" x2=\"95.10399999999998\" y1=\"173.44\" y2=\"183.68\" /><line fill=\"#800080\" stroke=\"#000000\" stroke-width=\"1\" x1=\"95.10399999999998\" x2=\"91.392\" y1=\"183.68\" y2=\"142.08\" /><line fill=\"#800080\" stroke=\"#000000\" stroke-width=\"1\" x1=\"91.392\" x2=\"109.696\" y1=\"142.08\" y2=\"147.072\" /><line fill=\"#800080\" stroke=\"#000000\" stroke-width=\"1\" x1=\"109.696\" x2=\"159.36\" y1=\"147.072\" y2=\"224.64000000000001\" /><line fill=\"#800080\" stroke=\"#000000\" stroke-width=\"1\" x1=\"181.632\" x2=\"169.728\" y1=\"202.36800000000002\" y2=\"170.496\" /><line fill=\"#800080\" stroke=\"#000000\" stroke-width=\"1\" x1=\"169.728\" x2=\"201.60000000000002\" y1=\"170.496\" y2=\"182.40000000000003\" /><line fill=\"#800080\" stroke=\"#000000\" stroke-width=\"1\" x1=\"223.74400000000003\" x2=\"146.304\" y1=\"160.25600000000003\" y2=\"119.424\" /><line fill=\"#800080\" stroke=\"#000000\" stroke-width=\"1\" x1=\"146.304\" x2=\"237.824\" y1=\"119.424\" y2=\"109.82399999999998\" /><line fill=\"#800080\" stroke=\"#000000\" stroke-width=\"1\" x1=\"210.68800000000002\" x2=\"139.648\" y1=\"82.68799999999999\" y2=\"76.16\" /><line fill=\"#800080\" stroke=\"#000000\" stroke-width=\"1\" x1=\"139.648\" x2=\"118.39999999999999\" y1=\"76.16\" y2=\"97.40799999999999\" /><line fill=\"#800080\" stroke=\"#000000\" stroke-width=\"1\" x1=\"118.39999999999999\" x2=\"100.22399999999999\" y1=\"97.40799999999999\" y2=\"64.38399999999999\" /><line fill=\"#800080\" stroke=\"#000000\" stroke-width=\"1\" x1=\"100.22399999999999\" x2=\"73.59999999999998\" y1=\"64.38399999999999\" y2=\"54.400000000000006\" /><line fill=\"#800080\" stroke=\"#000000\" stroke-width=\"1\" x1=\"53.63199999999998\" x2=\"63.615999999999985\" y1=\"74.368\" y2=\"100.99199999999999\" /><line fill=\"#800080\" stroke=\"#000000\" stroke-width=\"1\" x1=\"63.615999999999985\" x2=\"96.512\" y1=\"100.99199999999999\" y2=\"119.29599999999999\" /><line fill=\"#800080\" stroke=\"#000000\" stroke-width=\"1\" x1=\"96.512\" x2=\"80.38399999999999\" y1=\"119.29599999999999\" y2=\"135.424\" /><line fill=\"#800080\" stroke=\"#000000\" stroke-width=\"1\" x1=\"80.38399999999999\" x2=\"70.27199999999999\" y1=\"135.424\" y2=\"158.848\" /><line fill=\"#800080\" stroke=\"#000000\" stroke-width=\"1\" x1=\"70.27199999999999\" x2=\"18.303999999999974\" y1=\"158.848\" y2=\"146.304\" /></svg>"
      ],
      "text/plain": [
       "<Canvas (256, 256)>"
      ]
     },
     "metadata": {},
     "output_type": "display_data"
    },
    {
     "data": {
      "image/svg+xml": [
       "<svg baseProfile=\"full\" height=\"256\" version=\"1.1\" width=\"256\" xmlns=\"http://www.w3.org/2000/svg\" xmlns:ev=\"http://www.w3.org/2001/xml-events\" xmlns:xlink=\"http://www.w3.org/1999/xlink\"><defs /><rect fill=\"#f5f5f5\" height=\"256\" stroke=\"#f5f5f5\" stroke-width=\"1\" width=\"256\" x=\"0\" y=\"0\" /><line fill=\"#800080\" stroke=\"#000000\" stroke-width=\"1\" x1=\"69.11364096253781\" x2=\"118.9158724125969\" y1=\"201.57543013337468\" y2=\"192.03036656131044\" /><line fill=\"#800080\" stroke=\"#000000\" stroke-width=\"1\" x1=\"118.9158724125969\" x2=\"99.56680080152728\" y1=\"192.03036656131044\" y2=\"155.0174989097801\" /><line fill=\"#800080\" stroke=\"#000000\" stroke-width=\"1\" x1=\"99.56680080152728\" x2=\"118.38784745898039\" y1=\"155.0174989097801\" y2=\"152.62486799006587\" /><line fill=\"#800080\" stroke=\"#000000\" stroke-width=\"1\" x1=\"118.38784745898039\" x2=\"193.95538904331622\" y1=\"152.62486799006587\" y2=\"205.28276558292154\" /><line fill=\"#800080\" stroke=\"#000000\" stroke-width=\"1\" x1=\"206.0089085857723\" x2=\"182.81416027441782\" y1=\"176.1829952291949\" y2=\"151.29257034786917\" /><line fill=\"#800080\" stroke=\"#000000\" stroke-width=\"1\" x1=\"182.81416027441782\" x2=\"216.81551231349158\" y1=\"151.29257034786917\" y2=\"150.09354594654343\" /><line fill=\"#800080\" stroke=\"#000000\" stroke-width=\"1\" x1=\"228.79975875512898\" x2=\"141.62879784712356\" y1=\"121.16101565232091\" y2=\"113.07217158317263\" /><line fill=\"#800080\" stroke=\"#000000\" stroke-width=\"1\" x1=\"141.62879784712356\" x2=\"222.5084917118517\" y1=\"113.07217158317263\" y2=\"69.17974034101121\" /><line fill=\"#800080\" stroke=\"#000000\" stroke-width=\"1\" x1=\"187.05359909696634\" x2=\"118.9230396608852\" y1=\"54.49384296744404\" y2=\"75.64858841442634\" /><line fill=\"#800080\" stroke=\"#000000\" stroke-width=\"1\" x1=\"118.9230396608852\" x2=\"107.42370492497881\" y1=\"75.64858841442634\" y2=\"103.41043829211958\" /><line fill=\"#800080\" stroke=\"#000000\" stroke-width=\"1\" x1=\"107.42370492497881\" x2=\"77.99353287162894\" y1=\"103.41043829211958\" y2=\"79.8558946771347\" /><line fill=\"#800080\" stroke=\"#000000\" stroke-width=\"1\" x1=\"77.99353287162894\" x2=\"49.57545280931538\" y1=\"79.8558946771347\" y2=\"80.82044512783017\" /><line fill=\"#800080\" stroke=\"#000000\" stroke-width=\"1\" x1=\"38.7688490815961\" x2=\"58.18142603747697\" y1=\"106.90989441048168\" y2=\"127.68655169532911\" /><line fill=\"#800080\" stroke=\"#000000\" stroke-width=\"1\" x1=\"58.18142603747697\" x2=\"95.57800468497884\" y1=\"127.68655169532911\" y2=\"132.00848846733373\" /><line fill=\"#800080\" stroke=\"#000000\" stroke-width=\"1\" x1=\"95.57800468497884\" x2=\"86.84959398182097\" y1=\"132.00848846733373\" y2=\"153.0807359648599\" /><line fill=\"#800080\" stroke=\"#000000\" stroke-width=\"1\" x1=\"86.84959398182097\" x2=\"86.47130086878671\" y1=\"153.0807359648599\" y2=\"178.59138500248008\" /><line fill=\"#800080\" stroke=\"#000000\" stroke-width=\"1\" x1=\"86.47130086878671\" x2=\"33.65874834765248\" y1=\"178.59138500248008\" y2=\"186.88953275980748\" /></svg>"
      ],
      "text/plain": [
       "<Canvas (256, 256)>"
      ]
     },
     "metadata": {},
     "output_type": "display_data"
    },
    {
     "data": {
      "image/svg+xml": [
       "<svg baseProfile=\"full\" height=\"256\" version=\"1.1\" width=\"256\" xmlns=\"http://www.w3.org/2000/svg\" xmlns:ev=\"http://www.w3.org/2001/xml-events\" xmlns:xlink=\"http://www.w3.org/1999/xlink\"><defs /><rect fill=\"#f5f5f5\" height=\"256\" stroke=\"#f5f5f5\" stroke-width=\"1\" width=\"256\" x=\"0\" y=\"0\" /><line fill=\"#800080\" stroke=\"#000000\" stroke-width=\"1\" x1=\"101.75219628235534\" x2=\"144.1107209025543\" y1=\"218.50966799187808\" y2=\"190.63269025037965\" /><line fill=\"#800080\" stroke=\"#000000\" stroke-width=\"1\" x1=\"144.1107209025543\" x2=\"112.07029843342944\" y1=\"190.63269025037965\" y2=\"163.84182852478372\" /><line fill=\"#800080\" stroke=\"#000000\" stroke-width=\"1\" x1=\"112.07029843342944\" x2=\"128.54305800795126\" y1=\"163.84182852478372\" y2=\"154.4288230536284\" /><line fill=\"#800080\" stroke=\"#000000\" stroke-width=\"1\" x1=\"128.54305800795126\" x2=\"218.50966799187808\" y1=\"154.4288230536284\" y2=\"174.15993067585782\" /><line fill=\"#800080\" stroke=\"#000000\" stroke-width=\"1\" x1=\"218.50966799187808\" x2=\"187.55536153865577\" y1=\"142.66256621468426\" y2=\"128.5430580079513\" /><line fill=\"#800080\" stroke=\"#000000\" stroke-width=\"1\" x1=\"187.55536153865577\" x2=\"218.50966799187808\" y1=\"128.5430580079513\" y2=\"114.42354980121831\" /><line fill=\"#800080\" stroke=\"#000000\" stroke-width=\"1\" x1=\"218.50966799187808\" x2=\"134.8787347673827\" y1=\"83.10720467602846\" y2=\"108.9929697217056\" /><line fill=\"#800080\" stroke=\"#000000\" stroke-width=\"1\" x1=\"134.8787347673827\" x2=\"192.80492228218472\" y1=\"108.9929697217056\" y2=\"37.490332008121925\" /><line fill=\"#800080\" stroke=\"#000000\" stroke-width=\"1\" x1=\"154.4288230536284\" x2=\"99.57996425055028\" y1=\"37.490332008121925\" y2=\"83.10720467602846\" /><line fill=\"#800080\" stroke=\"#000000\" stroke-width=\"1\" x1=\"99.57996425055028\" x2=\"99.57996425055026\" y1=\"83.10720467602846\" y2=\"113.15641444933198\" /><line fill=\"#800080\" stroke=\"#000000\" stroke-width=\"1\" x1=\"99.57996425055026\" x2=\"63.37609705379904\" y1=\"113.15641444933198\" y2=\"102.65729296227411\" /><line fill=\"#800080\" stroke=\"#000000\" stroke-width=\"1\" x1=\"63.37609705379904\" x2=\"37.4903320081219\" y1=\"102.65729296227411\" y2=\"114.42354980121829\" /><line fill=\"#800080\" stroke=\"#000000\" stroke-width=\"1\" x1=\"37.4903320081219\" x2=\"63.37609705379904\" y1=\"142.66256621468423\" y2=\"154.42882305362838\" /><line fill=\"#800080\" stroke=\"#000000\" stroke-width=\"1\" x1=\"63.37609705379904\" x2=\"99.57996425055026\" y1=\"154.42882305362838\" y2=\"144.1107209025543\" /><line fill=\"#800080\" stroke=\"#000000\" stroke-width=\"1\" x1=\"99.57996425055026\" x2=\"99.57996425055026\" y1=\"144.1107209025543\" y2=\"166.91915723650757\" /><line fill=\"#800080\" stroke=\"#000000\" stroke-width=\"1\" x1=\"99.57996425055026\" x2=\"108.99296972170559\" y1=\"166.91915723650757\" y2=\"190.63269025037962\" /><line fill=\"#800080\" stroke=\"#000000\" stroke-width=\"1\" x1=\"108.99296972170559\" x2=\"63.37609705379904\" y1=\"190.63269025037962\" y2=\"218.50966799187808\" /></svg>"
      ],
      "text/plain": [
       "<Canvas (256, 256)>"
      ]
     },
     "metadata": {},
     "output_type": "display_data"
    },
    {
     "data": {
      "image/svg+xml": [
       "<svg baseProfile=\"full\" height=\"256\" version=\"1.1\" width=\"256\" xmlns=\"http://www.w3.org/2000/svg\" xmlns:ev=\"http://www.w3.org/2001/xml-events\" xmlns:xlink=\"http://www.w3.org/1999/xlink\"><defs /><rect fill=\"#f5f5f5\" height=\"256\" stroke=\"#f5f5f5\" stroke-width=\"1\" width=\"256\" x=\"0\" y=\"0\" /><line fill=\"#800080\" stroke=\"#000000\" stroke-width=\"1\" x1=\"138.38674178125103\" x2=\"166.85285817914644\" y1=\"221.66462937080152\" y2=\"179.69975461557948\" /><line fill=\"#800080\" stroke=\"#000000\" stroke-width=\"1\" x1=\"166.85285817914644\" x2=\"126.99894872573772\" y1=\"179.69975461557948\" y2=\"167.20956465387366\" /><line fill=\"#800080\" stroke=\"#000000\" stroke-width=\"1\" x1=\"126.99894872573772\" x2=\"138.61559289804467\" y1=\"167.20956465387366\" y2=\"152.2092293851536\" /><line fill=\"#800080\" stroke=\"#000000\" stroke-width=\"1\" x1=\"138.61559289804467\" x2=\"229.28467046085996\" y1=\"152.2092293851536\" y2=\"136.00966476420834\" /><line fill=\"#800080\" stroke=\"#000000\" stroke-width=\"1\" x1=\"217.23115091840387\" x2=\"183.2297988793301\" y1=\"106.90989441048168\" y2=\"105.71087000915588\" /><line fill=\"#800080\" stroke=\"#000000\" stroke-width=\"1\" x1=\"183.2297988793301\" x2=\"206.42454719068462\" y1=\"105.71087000915588\" y2=\"80.8204451278302\" /><line fill=\"#800080\" stroke=\"#000000\" stroke-width=\"1\" x1=\"194.44030074904722\" x2=\"127.0814466751938\" y1=\"51.88791483360768\" y2=\"107.8074159209504\" /><line fill=\"#800080\" stroke=\"#000000\" stroke-width=\"1\" x1=\"127.0814466751938\" x2=\"153.23539089313846\" y1=\"107.8074159209504\" y2=\"19.58020015481256\" /><line fill=\"#800080\" stroke=\"#000000\" stroke-width=\"1\" x1=\"117.7804982782531\" x2=\"84.56358165480344\" y1=\"34.26609752837979\" y2=\"97.40034207150228\" /><line fill=\"#800080\" stroke=\"#000000\" stroke-width=\"1\" x1=\"84.56358165480344\" x2=\"96.06291639070983\" y1=\"97.40034207150228\" y2=\"125.16219194919555\" /><line fill=\"#800080\" stroke=\"#000000\" stroke-width=\"1\" x1=\"96.06291639070983\" x2=\"58.597064642389256\" y1=\"125.16219194919555\" y2=\"129.31688866169597\" /><line fill=\"#800080\" stroke=\"#000000\" stroke-width=\"1\" x1=\"58.597064642389256\" x2=\"39.18448768650839\" y1=\"129.31688866169597\" y2=\"150.09354594654343\" /><line fill=\"#800080\" stroke=\"#000000\" stroke-width=\"1\" x1=\"49.99109141422767\" x2=\"78.40917147654122\" y1=\"176.1829952291949\" y2=\"177.14754567989036\" /><line fill=\"#800080\" stroke=\"#000000\" stroke-width=\"1\" x1=\"78.40917147654122\" x2=\"107.90861663070982\" y1=\"177.14754567989036\" y2=\"153.76024212440967\" /><line fill=\"#800080\" stroke=\"#000000\" stroke-width=\"1\" x1=\"107.90861663070982\" x2=\"116.63702733386768\" y1=\"153.76024212440967\" y2=\"174.83248962193588\" /><line fill=\"#800080\" stroke=\"#000000\" stroke-width=\"1\" x1=\"116.63702733386768\" x2=\"134.40828663533625\" y1=\"174.83248962193588\" y2=\"193.13873617440987\" /><line fill=\"#800080\" stroke=\"#000000\" stroke-width=\"1\" x1=\"134.40828663533625\" x2=\"102.93184916636571\" y1=\"193.13873617440987\" y2=\"236.35052674436872\" /></svg>"
      ],
      "text/plain": [
       "<Canvas (256, 256)>"
      ]
     },
     "metadata": {},
     "output_type": "display_data"
    },
    {
     "data": {
      "image/svg+xml": [
       "<svg baseProfile=\"full\" height=\"256\" version=\"1.1\" width=\"256\" xmlns=\"http://www.w3.org/2000/svg\" xmlns:ev=\"http://www.w3.org/2001/xml-events\" xmlns:xlink=\"http://www.w3.org/1999/xlink\"><defs /><rect fill=\"#f5f5f5\" height=\"256\" stroke=\"#f5f5f5\" stroke-width=\"1\" width=\"256\" x=\"0\" y=\"0\" /><line fill=\"#800080\" stroke=\"#000000\" stroke-width=\"1\" x1=\"173.44\" x2=\"183.68\" y1=\"210.56\" y2=\"160.89600000000002\" /><line fill=\"#800080\" stroke=\"#000000\" stroke-width=\"1\" x1=\"183.68\" x2=\"142.07999999999998\" y1=\"160.89600000000002\" y2=\"164.608\" /><line fill=\"#800080\" stroke=\"#000000\" stroke-width=\"1\" x1=\"142.07999999999998\" x2=\"147.072\" y1=\"164.608\" y2=\"146.304\" /><line fill=\"#800080\" stroke=\"#000000\" stroke-width=\"1\" x1=\"147.072\" x2=\"224.64\" y1=\"146.304\" y2=\"96.64000000000001\" /><line fill=\"#800080\" stroke=\"#000000\" stroke-width=\"1\" x1=\"202.368\" x2=\"170.49599999999998\" y1=\"74.368\" y2=\"86.27199999999999\" /><line fill=\"#800080\" stroke=\"#000000\" stroke-width=\"1\" x1=\"170.49599999999998\" x2=\"182.4\" y1=\"86.27199999999999\" y2=\"54.400000000000006\" /><line fill=\"#800080\" stroke=\"#000000\" stroke-width=\"1\" x1=\"160.256\" x2=\"119.42399999999998\" y1=\"32.256\" y2=\"109.696\" /><line fill=\"#800080\" stroke=\"#000000\" stroke-width=\"1\" x1=\"119.42399999999998\" x2=\"109.82400000000001\" y1=\"109.696\" y2=\"18.175999999999988\" /><line fill=\"#800080\" stroke=\"#000000\" stroke-width=\"1\" x1=\"82.68799999999999\" x2=\"76.15999999999997\" y1=\"45.31199999999998\" y2=\"116.352\" /><line fill=\"#800080\" stroke=\"#000000\" stroke-width=\"1\" x1=\"76.15999999999997\" x2=\"97.40799999999999\" y1=\"116.352\" y2=\"137.60000000000002\" /><line fill=\"#800080\" stroke=\"#000000\" stroke-width=\"1\" x1=\"97.40799999999999\" x2=\"64.38399999999996\" y1=\"137.60000000000002\" y2=\"155.776\" /><line fill=\"#800080\" stroke=\"#000000\" stroke-width=\"1\" x1=\"64.38399999999996\" x2=\"54.39999999999998\" y1=\"155.776\" y2=\"182.4\" /><line fill=\"#800080\" stroke=\"#000000\" stroke-width=\"1\" x1=\"74.36799999999997\" x2=\"100.99199999999996\" y1=\"202.368\" y2=\"192.38400000000001\" /><line fill=\"#800080\" stroke=\"#000000\" stroke-width=\"1\" x1=\"100.99199999999996\" x2=\"119.29599999999999\" y1=\"192.38400000000001\" y2=\"159.488\" /><line fill=\"#800080\" stroke=\"#000000\" stroke-width=\"1\" x1=\"119.29599999999999\" x2=\"135.42399999999998\" y1=\"159.488\" y2=\"175.616\" /><line fill=\"#800080\" stroke=\"#000000\" stroke-width=\"1\" x1=\"135.42399999999998\" x2=\"158.84799999999998\" y1=\"175.616\" y2=\"185.728\" /><line fill=\"#800080\" stroke=\"#000000\" stroke-width=\"1\" x1=\"158.84799999999998\" x2=\"146.30399999999997\" y1=\"185.728\" y2=\"237.69600000000003\" /></svg>"
      ],
      "text/plain": [
       "<Canvas (256, 256)>"
      ]
     },
     "metadata": {},
     "output_type": "display_data"
    },
    {
     "data": {
      "image/svg+xml": [
       "<svg baseProfile=\"full\" height=\"256\" version=\"1.1\" width=\"256\" xmlns=\"http://www.w3.org/2000/svg\" xmlns:ev=\"http://www.w3.org/2001/xml-events\" xmlns:xlink=\"http://www.w3.org/1999/xlink\"><defs /><rect fill=\"#f5f5f5\" height=\"256\" stroke=\"#f5f5f5\" stroke-width=\"1\" width=\"256\" x=\"0\" y=\"0\" /><line fill=\"#800080\" stroke=\"#000000\" stroke-width=\"1\" x1=\"201.57543013337468\" x2=\"192.03036656131044\" y1=\"186.88635903746217\" y2=\"137.0841275874031\" /><line fill=\"#800080\" stroke=\"#000000\" stroke-width=\"1\" x1=\"192.03036656131044\" x2=\"155.01749890978013\" y1=\"137.0841275874031\" y2=\"156.43319919847272\" /><line fill=\"#800080\" stroke=\"#000000\" stroke-width=\"1\" x1=\"155.01749890978013\" x2=\"152.62486799006587\" y1=\"156.43319919847272\" y2=\"137.6121525410196\" /><line fill=\"#800080\" stroke=\"#000000\" stroke-width=\"1\" x1=\"152.62486799006587\" x2=\"205.28276558292157\" y1=\"137.6121525410196\" y2=\"62.04461095668378\" /><line fill=\"#800080\" stroke=\"#000000\" stroke-width=\"1\" x1=\"176.1829952291949\" x2=\"151.29257034786917\" y1=\"49.99109141422767\" y2=\"73.18583972558218\" /><line fill=\"#800080\" stroke=\"#000000\" stroke-width=\"1\" x1=\"151.29257034786917\" x2=\"150.09354594654343\" y1=\"73.18583972558218\" y2=\"39.18448768650842\" /><line fill=\"#800080\" stroke=\"#000000\" stroke-width=\"1\" x1=\"121.16101565232093\" x2=\"113.0721715831726\" y1=\"27.200241244871023\" y2=\"114.37120215287644\" /><line fill=\"#800080\" stroke=\"#000000\" stroke-width=\"1\" x1=\"113.0721715831726\" x2=\"69.17974034101124\" y1=\"114.37120215287644\" y2=\"33.49150828814831\" /><line fill=\"#800080\" stroke=\"#000000\" stroke-width=\"1\" x1=\"54.49384296744404\" x2=\"75.64858841442631\" y1=\"68.94640090303366\" y2=\"137.0769603391148\" /><line fill=\"#800080\" stroke=\"#000000\" stroke-width=\"1\" x1=\"75.64858841442631\" x2=\"103.41043829211958\" y1=\"137.0769603391148\" y2=\"148.5762950750212\" /><line fill=\"#800080\" stroke=\"#000000\" stroke-width=\"1\" x1=\"103.41043829211958\" x2=\"79.8558946771347\" y1=\"148.5762950750212\" y2=\"178.00646712837104\" /><line fill=\"#800080\" stroke=\"#000000\" stroke-width=\"1\" x1=\"79.8558946771347\" x2=\"80.82044512783017\" y1=\"178.00646712837104\" y2=\"206.42454719068462\" /><line fill=\"#800080\" stroke=\"#000000\" stroke-width=\"1\" x1=\"106.90989441048166\" x2=\"127.68655169532911\" y1=\"217.23115091840387\" y2=\"197.81857396252303\" /><line fill=\"#800080\" stroke=\"#000000\" stroke-width=\"1\" x1=\"127.68655169532911\" x2=\"132.0084884673337\" y1=\"197.81857396252303\" y2=\"160.42199531502115\" /><line fill=\"#800080\" stroke=\"#000000\" stroke-width=\"1\" x1=\"132.0084884673337\" x2=\"153.0807359648599\" y1=\"160.42199531502115\" y2=\"169.150406018179\" /><line fill=\"#800080\" stroke=\"#000000\" stroke-width=\"1\" x1=\"153.0807359648599\" x2=\"178.59138500248008\" y1=\"169.150406018179\" y2=\"169.52869913121327\" /><line fill=\"#800080\" stroke=\"#000000\" stroke-width=\"1\" x1=\"178.59138500248008\" x2=\"186.88953275980748\" y1=\"169.52869913121327\" y2=\"222.34125165234752\" /></svg>"
      ],
      "text/plain": [
       "<Canvas (256, 256)>"
      ]
     },
     "metadata": {},
     "output_type": "display_data"
    },
    {
     "data": {
      "image/svg+xml": [
       "<svg baseProfile=\"full\" height=\"256\" version=\"1.1\" width=\"256\" xmlns=\"http://www.w3.org/2000/svg\" xmlns:ev=\"http://www.w3.org/2001/xml-events\" xmlns:xlink=\"http://www.w3.org/1999/xlink\"><defs /><rect fill=\"#f5f5f5\" height=\"256\" stroke=\"#f5f5f5\" stroke-width=\"1\" width=\"256\" x=\"0\" y=\"0\" /><line fill=\"#800080\" stroke=\"#000000\" stroke-width=\"1\" x1=\"218.50966799187808\" x2=\"190.63269025037965\" y1=\"154.24780371764467\" y2=\"111.8892790974457\" /><line fill=\"#800080\" stroke=\"#000000\" stroke-width=\"1\" x1=\"190.63269025037965\" x2=\"163.84182852478372\" y1=\"111.8892790974457\" y2=\"143.92970156657054\" /><line fill=\"#800080\" stroke=\"#000000\" stroke-width=\"1\" x1=\"163.84182852478372\" x2=\"154.4288230536284\" y1=\"143.92970156657054\" y2=\"127.45694199204871\" /><line fill=\"#800080\" stroke=\"#000000\" stroke-width=\"1\" x1=\"154.4288230536284\" x2=\"174.15993067585785\" y1=\"127.45694199204871\" y2=\"37.490332008121925\" /><line fill=\"#800080\" stroke=\"#000000\" stroke-width=\"1\" x1=\"142.66256621468426\" x2=\"128.5430580079513\" y1=\"37.490332008121925\" y2=\"68.44463846134423\" /><line fill=\"#800080\" stroke=\"#000000\" stroke-width=\"1\" x1=\"128.5430580079513\" x2=\"114.42354980121831\" y1=\"68.44463846134423\" y2=\"37.490332008121925\" /><line fill=\"#800080\" stroke=\"#000000\" stroke-width=\"1\" x1=\"83.10720467602849\" x2=\"108.9929697217056\" y1=\"37.4903320081219\" y2=\"121.12126523261728\" /><line fill=\"#800080\" stroke=\"#000000\" stroke-width=\"1\" x1=\"108.9929697217056\" x2=\"37.490332008121925\" y1=\"121.12126523261728\" y2=\"63.19507771781528\" /><line fill=\"#800080\" stroke=\"#000000\" stroke-width=\"1\" x1=\"37.490332008121925\" x2=\"83.10720467602846\" y1=\"101.57117694637157\" y2=\"156.4200357494497\" /><line fill=\"#800080\" stroke=\"#000000\" stroke-width=\"1\" x1=\"83.10720467602846\" x2=\"113.156414449332\" y1=\"156.4200357494497\" y2=\"156.4200357494497\" /><line fill=\"#800080\" stroke=\"#000000\" stroke-width=\"1\" x1=\"113.156414449332\" x2=\"102.65729296227413\" y1=\"156.4200357494497\" y2=\"192.62390294620096\" /><line fill=\"#800080\" stroke=\"#000000\" stroke-width=\"1\" x1=\"102.65729296227413\" x2=\"114.42354980121829\" y1=\"192.62390294620096\" y2=\"218.5096679918781\" /><line fill=\"#800080\" stroke=\"#000000\" stroke-width=\"1\" x1=\"142.66256621468423\" x2=\"154.4288230536284\" y1=\"218.5096679918781\" y2=\"192.62390294620096\" /><line fill=\"#800080\" stroke=\"#000000\" stroke-width=\"1\" x1=\"154.4288230536284\" x2=\"144.1107209025543\" y1=\"192.62390294620096\" y2=\"156.4200357494497\" /><line fill=\"#800080\" stroke=\"#000000\" stroke-width=\"1\" x1=\"144.1107209025543\" x2=\"166.91915723650757\" y1=\"156.4200357494497\" y2=\"156.42003574944974\" /><line fill=\"#800080\" stroke=\"#000000\" stroke-width=\"1\" x1=\"166.91915723650757\" x2=\"190.63269025037965\" y1=\"156.42003574944974\" y2=\"147.0070302782944\" /><line fill=\"#800080\" stroke=\"#000000\" stroke-width=\"1\" x1=\"190.63269025037965\" x2=\"218.50966799187808\" y1=\"147.0070302782944\" y2=\"192.62390294620096\" /></svg>"
      ],
      "text/plain": [
       "<Canvas (256, 256)>"
      ]
     },
     "metadata": {},
     "output_type": "display_data"
    },
    {
     "data": {
      "image/svg+xml": [
       "<svg baseProfile=\"full\" height=\"256\" version=\"1.1\" width=\"256\" xmlns=\"http://www.w3.org/2000/svg\" xmlns:ev=\"http://www.w3.org/2001/xml-events\" xmlns:xlink=\"http://www.w3.org/1999/xlink\"><defs /><rect fill=\"#f5f5f5\" height=\"256\" stroke=\"#f5f5f5\" stroke-width=\"1\" width=\"256\" x=\"0\" y=\"0\" /><line fill=\"#800080\" stroke=\"#000000\" stroke-width=\"1\" x1=\"221.66462937080155\" x2=\"179.6997546155795\" y1=\"117.61325821874894\" y2=\"89.14714182085353\" /><line fill=\"#800080\" stroke=\"#000000\" stroke-width=\"1\" x1=\"179.6997546155795\" x2=\"167.20956465387366\" y1=\"89.14714182085353\" y2=\"129.0010512742623\" /><line fill=\"#800080\" stroke=\"#000000\" stroke-width=\"1\" x1=\"167.20956465387366\" x2=\"152.2092293851536\" y1=\"129.0010512742623\" y2=\"117.38440710195533\" /><line fill=\"#800080\" stroke=\"#000000\" stroke-width=\"1\" x1=\"152.2092293851536\" x2=\"136.00966476420837\" y1=\"117.38440710195533\" y2=\"26.715329539140015\" /><line fill=\"#800080\" stroke=\"#000000\" stroke-width=\"1\" x1=\"106.90989441048168\" x2=\"105.7108700091559\" y1=\"38.7688490815961\" y2=\"72.77020112066987\" /><line fill=\"#800080\" stroke=\"#000000\" stroke-width=\"1\" x1=\"105.7108700091559\" x2=\"80.8204451278302\" y1=\"72.77020112066987\" y2=\"49.57545280931535\" /><line fill=\"#800080\" stroke=\"#000000\" stroke-width=\"1\" x1=\"51.88791483360771\" x2=\"107.80741592095042\" y1=\"61.55969925095275\" y2=\"128.91855332480617\" /><line fill=\"#800080\" stroke=\"#000000\" stroke-width=\"1\" x1=\"107.80741592095042\" x2=\"19.58020015481256\" y1=\"128.91855332480617\" y2=\"102.76460910686149\" /><line fill=\"#800080\" stroke=\"#000000\" stroke-width=\"1\" x1=\"34.26609752837976\" x2=\"97.40034207150228\" y1=\"138.21950172174684\" y2=\"171.43641834519653\" /><line fill=\"#800080\" stroke=\"#000000\" stroke-width=\"1\" x1=\"97.40034207150228\" x2=\"125.16219194919555\" y1=\"171.43641834519653\" y2=\"159.93708360929014\" /><line fill=\"#800080\" stroke=\"#000000\" stroke-width=\"1\" x1=\"125.16219194919555\" x2=\"129.31688866169594\" y1=\"159.93708360929014\" y2=\"197.40293535761074\" /><line fill=\"#800080\" stroke=\"#000000\" stroke-width=\"1\" x1=\"129.31688866169594\" x2=\"150.0935459465434\" y1=\"197.40293535761074\" y2=\"216.81551231349158\" /><line fill=\"#800080\" stroke=\"#000000\" stroke-width=\"1\" x1=\"176.1829952291949\" x2=\"177.14754567989036\" y1=\"206.00890858577233\" y2=\"177.59082852345875\" /><line fill=\"#800080\" stroke=\"#000000\" stroke-width=\"1\" x1=\"177.14754567989036\" x2=\"153.76024212440967\" y1=\"177.59082852345875\" y2=\"148.09138336929018\" /><line fill=\"#800080\" stroke=\"#000000\" stroke-width=\"1\" x1=\"153.76024212440967\" x2=\"174.83248962193588\" y1=\"148.09138336929018\" y2=\"139.36297266613232\" /><line fill=\"#800080\" stroke=\"#000000\" stroke-width=\"1\" x1=\"174.83248962193588\" x2=\"193.13873617440987\" y1=\"139.36297266613232\" y2=\"121.59171336466372\" /><line fill=\"#800080\" stroke=\"#000000\" stroke-width=\"1\" x1=\"193.13873617440987\" x2=\"236.35052674436875\" y1=\"121.59171336466372\" y2=\"153.0681508336343\" /></svg>"
      ],
      "text/plain": [
       "<Canvas (256, 256)>"
      ]
     },
     "metadata": {},
     "output_type": "display_data"
    },
    {
     "data": {
      "image/svg+xml": [
       "<svg baseProfile=\"full\" height=\"256\" version=\"1.1\" width=\"256\" xmlns=\"http://www.w3.org/2000/svg\" xmlns:ev=\"http://www.w3.org/2001/xml-events\" xmlns:xlink=\"http://www.w3.org/1999/xlink\"><defs /><rect fill=\"#f5f5f5\" height=\"256\" stroke=\"#f5f5f5\" stroke-width=\"1\" width=\"256\" x=\"0\" y=\"0\" /><line fill=\"#800080\" stroke=\"#000000\" stroke-width=\"1\" x1=\"210.56\" x2=\"160.896\" y1=\"82.56\" y2=\"72.32\" /><line fill=\"#800080\" stroke=\"#000000\" stroke-width=\"1\" x1=\"160.896\" x2=\"164.608\" y1=\"72.32\" y2=\"113.92000000000002\" /><line fill=\"#800080\" stroke=\"#000000\" stroke-width=\"1\" x1=\"164.608\" x2=\"146.304\" y1=\"113.92000000000002\" y2=\"108.928\" /><line fill=\"#800080\" stroke=\"#000000\" stroke-width=\"1\" x1=\"146.304\" x2=\"96.63999999999999\" y1=\"108.928\" y2=\"31.360000000000014\" /><line fill=\"#800080\" stroke=\"#000000\" stroke-width=\"1\" x1=\"74.368\" x2=\"86.27199999999999\" y1=\"53.632000000000005\" y2=\"85.50400000000002\" /><line fill=\"#800080\" stroke=\"#000000\" stroke-width=\"1\" x1=\"86.27199999999999\" x2=\"54.39999999999999\" y1=\"85.50400000000002\" y2=\"73.6\" /><line fill=\"#800080\" stroke=\"#000000\" stroke-width=\"1\" x1=\"32.255999999999986\" x2=\"109.696\" y1=\"95.744\" y2=\"136.57600000000002\" /><line fill=\"#800080\" stroke=\"#000000\" stroke-width=\"1\" x1=\"109.696\" x2=\"18.175999999999974\" y1=\"136.57600000000002\" y2=\"146.176\" /><line fill=\"#800080\" stroke=\"#000000\" stroke-width=\"1\" x1=\"45.31199999999997\" x2=\"116.35199999999999\" y1=\"173.312\" y2=\"179.84000000000003\" /><line fill=\"#800080\" stroke=\"#000000\" stroke-width=\"1\" x1=\"116.35199999999999\" x2=\"137.6\" y1=\"179.84000000000003\" y2=\"158.592\" /><line fill=\"#800080\" stroke=\"#000000\" stroke-width=\"1\" x1=\"137.6\" x2=\"155.77599999999998\" y1=\"158.592\" y2=\"191.61600000000004\" /><line fill=\"#800080\" stroke=\"#000000\" stroke-width=\"1\" x1=\"155.77599999999998\" x2=\"182.39999999999998\" y1=\"191.61600000000004\" y2=\"201.60000000000002\" /><line fill=\"#800080\" stroke=\"#000000\" stroke-width=\"1\" x1=\"202.368\" x2=\"192.384\" y1=\"181.63200000000003\" y2=\"155.00800000000004\" /><line fill=\"#800080\" stroke=\"#000000\" stroke-width=\"1\" x1=\"192.384\" x2=\"159.488\" y1=\"155.00800000000004\" y2=\"136.704\" /><line fill=\"#800080\" stroke=\"#000000\" stroke-width=\"1\" x1=\"159.488\" x2=\"175.61599999999999\" y1=\"136.704\" y2=\"120.57600000000002\" /><line fill=\"#800080\" stroke=\"#000000\" stroke-width=\"1\" x1=\"175.61599999999999\" x2=\"185.728\" y1=\"120.57600000000002\" y2=\"97.15200000000002\" /><line fill=\"#800080\" stroke=\"#000000\" stroke-width=\"1\" x1=\"185.728\" x2=\"237.696\" y1=\"97.15200000000002\" y2=\"109.69600000000003\" /></svg>"
      ],
      "text/plain": [
       "<Canvas (256, 256)>"
      ]
     },
     "metadata": {},
     "output_type": "display_data"
    },
    {
     "data": {
      "image/svg+xml": [
       "<svg baseProfile=\"full\" height=\"256\" version=\"1.1\" width=\"256\" xmlns=\"http://www.w3.org/2000/svg\" xmlns:ev=\"http://www.w3.org/2001/xml-events\" xmlns:xlink=\"http://www.w3.org/1999/xlink\"><defs /><rect fill=\"#f5f5f5\" height=\"256\" stroke=\"#f5f5f5\" stroke-width=\"1\" width=\"256\" x=\"0\" y=\"0\" /><line fill=\"#800080\" stroke=\"#000000\" stroke-width=\"1\" x1=\"186.88635903746223\" x2=\"137.08412758740312\" y1=\"54.42456986662535\" y2=\"63.969633438689584\" /><line fill=\"#800080\" stroke=\"#000000\" stroke-width=\"1\" x1=\"137.08412758740312\" x2=\"156.43319919847272\" y1=\"63.969633438689584\" y2=\"100.9825010902199\" /><line fill=\"#800080\" stroke=\"#000000\" stroke-width=\"1\" x1=\"156.43319919847272\" x2=\"137.6121525410196\" y1=\"100.9825010902199\" y2=\"103.37513200993416\" /><line fill=\"#800080\" stroke=\"#000000\" stroke-width=\"1\" x1=\"137.6121525410196\" x2=\"62.04461095668381\" y1=\"103.37513200993416\" y2=\"50.71723441707843\" /><line fill=\"#800080\" stroke=\"#000000\" stroke-width=\"1\" x1=\"49.9910914142277\" x2=\"73.18583972558218\" y1=\"79.81700477080508\" y2=\"104.7074296521308\" /><line fill=\"#800080\" stroke=\"#000000\" stroke-width=\"1\" x1=\"73.18583972558218\" x2=\"39.18448768650842\" y1=\"104.7074296521308\" y2=\"105.90645405345657\" /><line fill=\"#800080\" stroke=\"#000000\" stroke-width=\"1\" x1=\"27.20024124487101\" x2=\"114.3712021528764\" y1=\"134.83898434767906\" y2=\"142.9278284168274\" /><line fill=\"#800080\" stroke=\"#000000\" stroke-width=\"1\" x1=\"114.3712021528764\" x2=\"33.49150828814827\" y1=\"142.9278284168274\" y2=\"186.82025965898873\" /><line fill=\"#800080\" stroke=\"#000000\" stroke-width=\"1\" x1=\"68.94640090303362\" x2=\"137.07696033911475\" y1=\"201.50615703255596\" y2=\"180.3514115855737\" /><line fill=\"#800080\" stroke=\"#000000\" stroke-width=\"1\" x1=\"137.07696033911475\" x2=\"148.57629507502116\" y1=\"180.3514115855737\" y2=\"152.58956170788045\" /><line fill=\"#800080\" stroke=\"#000000\" stroke-width=\"1\" x1=\"148.57629507502116\" x2=\"178.006467128371\" y1=\"152.58956170788045\" y2=\"176.14410532286533\" /><line fill=\"#800080\" stroke=\"#000000\" stroke-width=\"1\" x1=\"178.006467128371\" x2=\"206.4245471906846\" y1=\"176.14410532286533\" y2=\"175.1795548721699\" /><line fill=\"#800080\" stroke=\"#000000\" stroke-width=\"1\" x1=\"217.23115091840384\" x2=\"197.81857396252303\" y1=\"149.0901055895184\" y2=\"128.31344830467094\" /><line fill=\"#800080\" stroke=\"#000000\" stroke-width=\"1\" x1=\"197.81857396252303\" x2=\"160.42199531502115\" y1=\"128.31344830467094\" y2=\"123.99151153266632\" /><line fill=\"#800080\" stroke=\"#000000\" stroke-width=\"1\" x1=\"160.42199531502115\" x2=\"169.150406018179\" y1=\"123.99151153266632\" y2=\"102.91926403514012\" /><line fill=\"#800080\" stroke=\"#000000\" stroke-width=\"1\" x1=\"169.150406018179\" x2=\"169.5286991312133\" y1=\"102.91926403514012\" y2=\"77.40861499751995\" /><line fill=\"#800080\" stroke=\"#000000\" stroke-width=\"1\" x1=\"169.5286991312133\" x2=\"222.34125165234752\" y1=\"77.40861499751995\" y2=\"69.11046724019258\" /></svg>"
      ],
      "text/plain": [
       "<Canvas (256, 256)>"
      ]
     },
     "metadata": {},
     "output_type": "display_data"
    },
    {
     "data": {
      "image/svg+xml": [
       "<svg baseProfile=\"full\" height=\"256\" version=\"1.1\" width=\"256\" xmlns=\"http://www.w3.org/2000/svg\" xmlns:ev=\"http://www.w3.org/2001/xml-events\" xmlns:xlink=\"http://www.w3.org/1999/xlink\"><defs /><rect fill=\"#f5f5f5\" height=\"256\" stroke=\"#f5f5f5\" stroke-width=\"1\" width=\"256\" x=\"0\" y=\"0\" /><line fill=\"#800080\" stroke=\"#000000\" stroke-width=\"1\" x1=\"154.24780371764467\" x2=\"111.88927909744571\" y1=\"37.490332008121925\" y2=\"65.36730974962035\" /><line fill=\"#800080\" stroke=\"#000000\" stroke-width=\"1\" x1=\"111.88927909744571\" x2=\"143.92970156657054\" y1=\"65.36730974962035\" y2=\"92.15817147521628\" /><line fill=\"#800080\" stroke=\"#000000\" stroke-width=\"1\" x1=\"143.92970156657054\" x2=\"127.45694199204873\" y1=\"92.15817147521628\" y2=\"101.5711769463716\" /><line fill=\"#800080\" stroke=\"#000000\" stroke-width=\"1\" x1=\"127.45694199204873\" x2=\"37.49033200812192\" y1=\"101.5711769463716\" y2=\"81.84006932414215\" /><line fill=\"#800080\" stroke=\"#000000\" stroke-width=\"1\" x1=\"37.49033200812191\" x2=\"68.44463846134421\" y1=\"113.33743378531574\" y2=\"127.45694199204871\" /><line fill=\"#800080\" stroke=\"#000000\" stroke-width=\"1\" x1=\"68.44463846134421\" x2=\"37.490332008121904\" y1=\"127.45694199204871\" y2=\"141.57645019878169\" /><line fill=\"#800080\" stroke=\"#000000\" stroke-width=\"1\" x1=\"37.4903320081219\" x2=\"121.12126523261728\" y1=\"172.8927953239715\" y2=\"147.0070302782944\" /><line fill=\"#800080\" stroke=\"#000000\" stroke-width=\"1\" x1=\"121.12126523261728\" x2=\"63.195077717815266\" y1=\"147.0070302782944\" y2=\"218.50966799187808\" /><line fill=\"#800080\" stroke=\"#000000\" stroke-width=\"1\" x1=\"101.57117694637158\" x2=\"156.4200357494497\" y1=\"218.50966799187808\" y2=\"172.89279532397154\" /><line fill=\"#800080\" stroke=\"#000000\" stroke-width=\"1\" x1=\"156.4200357494497\" x2=\"156.4200357494497\" y1=\"172.89279532397154\" y2=\"142.84358555066802\" /><line fill=\"#800080\" stroke=\"#000000\" stroke-width=\"1\" x1=\"156.4200357494497\" x2=\"192.62390294620093\" y1=\"142.84358555066802\" y2=\"153.3427070377259\" /><line fill=\"#800080\" stroke=\"#000000\" stroke-width=\"1\" x1=\"192.62390294620093\" x2=\"218.50966799187808\" y1=\"153.3427070377259\" y2=\"141.5764501987817\" /><line fill=\"#800080\" stroke=\"#000000\" stroke-width=\"1\" x1=\"218.5096679918781\" x2=\"192.62390294620096\" y1=\"113.33743378531577\" y2=\"101.57117694637162\" /><line fill=\"#800080\" stroke=\"#000000\" stroke-width=\"1\" x1=\"192.62390294620096\" x2=\"156.4200357494497\" y1=\"101.57117694637162\" y2=\"111.8892790974457\" /><line fill=\"#800080\" stroke=\"#000000\" stroke-width=\"1\" x1=\"156.4200357494497\" x2=\"156.4200357494497\" y1=\"111.8892790974457\" y2=\"89.08084276349243\" /><line fill=\"#800080\" stroke=\"#000000\" stroke-width=\"1\" x1=\"156.4200357494497\" x2=\"147.0070302782944\" y1=\"89.08084276349243\" y2=\"65.36730974962038\" /><line fill=\"#800080\" stroke=\"#000000\" stroke-width=\"1\" x1=\"147.0070302782944\" x2=\"192.62390294620096\" y1=\"65.36730974962038\" y2=\"37.490332008121925\" /></svg>"
      ],
      "text/plain": [
       "<Canvas (256, 256)>"
      ]
     },
     "metadata": {},
     "output_type": "display_data"
    },
    {
     "data": {
      "image/svg+xml": [
       "<svg baseProfile=\"full\" height=\"256\" version=\"1.1\" width=\"256\" xmlns=\"http://www.w3.org/2000/svg\" xmlns:ev=\"http://www.w3.org/2001/xml-events\" xmlns:xlink=\"http://www.w3.org/1999/xlink\"><defs /><rect fill=\"#f5f5f5\" height=\"256\" stroke=\"#f5f5f5\" stroke-width=\"1\" width=\"256\" x=\"0\" y=\"0\" /><line fill=\"#800080\" stroke=\"#000000\" stroke-width=\"1\" x1=\"117.61325821874892\" x2=\"89.14714182085352\" y1=\"34.33537062919848\" y2=\"76.30024538442052\" /><line fill=\"#800080\" stroke=\"#000000\" stroke-width=\"1\" x1=\"89.14714182085352\" x2=\"129.00105127426227\" y1=\"76.30024538442052\" y2=\"88.79043534612634\" /><line fill=\"#800080\" stroke=\"#000000\" stroke-width=\"1\" x1=\"129.00105127426227\" x2=\"117.38440710195533\" y1=\"88.79043534612634\" y2=\"103.7907706148464\" /><line fill=\"#800080\" stroke=\"#000000\" stroke-width=\"1\" x1=\"117.38440710195533\" x2=\"26.715329539140033\" y1=\"103.7907706148464\" y2=\"119.99033523579169\" /><line fill=\"#800080\" stroke=\"#000000\" stroke-width=\"1\" x1=\"38.76884908159614\" x2=\"72.7702011206699\" y1=\"149.09010558951834\" y2=\"150.28912999084412\" /><line fill=\"#800080\" stroke=\"#000000\" stroke-width=\"1\" x1=\"72.7702011206699\" x2=\"49.57545280931541\" y1=\"150.28912999084412\" y2=\"175.17955487216983\" /><line fill=\"#800080\" stroke=\"#000000\" stroke-width=\"1\" x1=\"61.559699250952804\" x2=\"128.91855332480617\" y1=\"204.11208516639232\" y2=\"148.1925840790496\" /><line fill=\"#800080\" stroke=\"#000000\" stroke-width=\"1\" x1=\"128.91855332480617\" x2=\"102.76460910686156\" y1=\"148.1925840790496\" y2=\"236.4197998451874\" /><line fill=\"#800080\" stroke=\"#000000\" stroke-width=\"1\" x1=\"138.2195017217469\" x2=\"171.43641834519656\" y1=\"221.7339024716202\" y2=\"158.5996579284977\" /><line fill=\"#800080\" stroke=\"#000000\" stroke-width=\"1\" x1=\"171.43641834519656\" x2=\"159.93708360929014\" y1=\"158.5996579284977\" y2=\"130.83780805080443\" /><line fill=\"#800080\" stroke=\"#000000\" stroke-width=\"1\" x1=\"159.93708360929014\" x2=\"197.40293535761072\" y1=\"130.83780805080443\" y2=\"126.683111338304\" /><line fill=\"#800080\" stroke=\"#000000\" stroke-width=\"1\" x1=\"197.40293535761072\" x2=\"216.81551231349158\" y1=\"126.683111338304\" y2=\"105.90645405345657\" /><line fill=\"#800080\" stroke=\"#000000\" stroke-width=\"1\" x1=\"206.0089085857723\" x2=\"177.59082852345875\" y1=\"79.81700477080508\" y2=\"78.85245432010964\" /><line fill=\"#800080\" stroke=\"#000000\" stroke-width=\"1\" x1=\"177.59082852345875\" x2=\"148.09138336929016\" y1=\"78.85245432010964\" y2=\"102.23975787559033\" /><line fill=\"#800080\" stroke=\"#000000\" stroke-width=\"1\" x1=\"148.09138336929016\" x2=\"139.3629726661323\" y1=\"102.23975787559033\" y2=\"81.16751037806412\" /><line fill=\"#800080\" stroke=\"#000000\" stroke-width=\"1\" x1=\"139.3629726661323\" x2=\"121.5917133646637\" y1=\"81.16751037806412\" y2=\"62.86126382559013\" /><line fill=\"#800080\" stroke=\"#000000\" stroke-width=\"1\" x1=\"121.5917133646637\" x2=\"153.06815083363426\" y1=\"62.86126382559013\" y2=\"19.64947325563128\" /></svg>"
      ],
      "text/plain": [
       "<Canvas (256, 256)>"
      ]
     },
     "metadata": {},
     "output_type": "display_data"
    },
    {
     "data": {
      "image/svg+xml": [
       "<svg baseProfile=\"full\" height=\"256\" version=\"1.1\" width=\"256\" xmlns=\"http://www.w3.org/2000/svg\" xmlns:ev=\"http://www.w3.org/2001/xml-events\" xmlns:xlink=\"http://www.w3.org/1999/xlink\"><defs /><rect fill=\"#f5f5f5\" height=\"256\" stroke=\"#f5f5f5\" stroke-width=\"1\" width=\"256\" x=\"0\" y=\"0\" /><line fill=\"#800080\" stroke=\"#000000\" stroke-width=\"1\" x1=\"82.56000000000002\" x2=\"72.32000000000001\" y1=\"45.44\" y2=\"95.10399999999998\" /><line fill=\"#800080\" stroke=\"#000000\" stroke-width=\"1\" x1=\"72.32000000000001\" x2=\"113.92\" y1=\"95.10399999999998\" y2=\"91.392\" /><line fill=\"#800080\" stroke=\"#000000\" stroke-width=\"1\" x1=\"113.92\" x2=\"108.928\" y1=\"91.392\" y2=\"109.696\" /><line fill=\"#800080\" stroke=\"#000000\" stroke-width=\"1\" x1=\"108.928\" x2=\"31.359999999999992\" y1=\"109.696\" y2=\"159.35999999999999\" /><line fill=\"#800080\" stroke=\"#000000\" stroke-width=\"1\" x1=\"53.631999999999984\" x2=\"85.50399999999999\" y1=\"181.63199999999998\" y2=\"169.72799999999998\" /><line fill=\"#800080\" stroke=\"#000000\" stroke-width=\"1\" x1=\"85.50399999999999\" x2=\"73.59999999999998\" y1=\"169.72799999999998\" y2=\"201.59999999999997\" /><line fill=\"#800080\" stroke=\"#000000\" stroke-width=\"1\" x1=\"95.74399999999999\" x2=\"136.576\" y1=\"223.74399999999997\" y2=\"146.304\" /><line fill=\"#800080\" stroke=\"#000000\" stroke-width=\"1\" x1=\"136.576\" x2=\"146.176\" y1=\"146.304\" y2=\"237.824\" /><line fill=\"#800080\" stroke=\"#000000\" stroke-width=\"1\" x1=\"173.31199999999998\" x2=\"179.84\" y1=\"210.68800000000002\" y2=\"139.648\" /><line fill=\"#800080\" stroke=\"#000000\" stroke-width=\"1\" x1=\"179.84\" x2=\"158.59199999999998\" y1=\"139.648\" y2=\"118.39999999999998\" /><line fill=\"#800080\" stroke=\"#000000\" stroke-width=\"1\" x1=\"158.59199999999998\" x2=\"191.616\" y1=\"118.39999999999998\" y2=\"100.22400000000002\" /><line fill=\"#800080\" stroke=\"#000000\" stroke-width=\"1\" x1=\"191.616\" x2=\"201.60000000000002\" y1=\"100.22400000000002\" y2=\"73.60000000000002\" /><line fill=\"#800080\" stroke=\"#000000\" stroke-width=\"1\" x1=\"181.632\" x2=\"155.008\" y1=\"53.632000000000005\" y2=\"63.616000000000014\" /><line fill=\"#800080\" stroke=\"#000000\" stroke-width=\"1\" x1=\"155.008\" x2=\"136.704\" y1=\"63.616000000000014\" y2=\"96.512\" /><line fill=\"#800080\" stroke=\"#000000\" stroke-width=\"1\" x1=\"136.704\" x2=\"120.57600000000001\" y1=\"96.512\" y2=\"80.38399999999999\" /><line fill=\"#800080\" stroke=\"#000000\" stroke-width=\"1\" x1=\"120.57600000000001\" x2=\"97.15200000000002\" y1=\"80.38399999999999\" y2=\"70.27199999999999\" /><line fill=\"#800080\" stroke=\"#000000\" stroke-width=\"1\" x1=\"97.15200000000002\" x2=\"109.69600000000003\" y1=\"70.27199999999999\" y2=\"18.304000000000002\" /></svg>"
      ],
      "text/plain": [
       "<Canvas (256, 256)>"
      ]
     },
     "metadata": {},
     "output_type": "display_data"
    },
    {
     "data": {
      "image/svg+xml": [
       "<svg baseProfile=\"full\" height=\"256\" version=\"1.1\" width=\"256\" xmlns=\"http://www.w3.org/2000/svg\" xmlns:ev=\"http://www.w3.org/2001/xml-events\" xmlns:xlink=\"http://www.w3.org/1999/xlink\"><defs /><rect fill=\"#f5f5f5\" height=\"256\" stroke=\"#f5f5f5\" stroke-width=\"1\" width=\"256\" x=\"0\" y=\"0\" /><line fill=\"#800080\" stroke=\"#000000\" stroke-width=\"1\" x1=\"54.42456986662534\" x2=\"63.96963343868955\" y1=\"69.11364096253777\" y2=\"118.91587241259685\" /><line fill=\"#800080\" stroke=\"#000000\" stroke-width=\"1\" x1=\"63.96963343868955\" x2=\"100.98250109021987\" y1=\"118.91587241259685\" y2=\"99.56680080152725\" /><line fill=\"#800080\" stroke=\"#000000\" stroke-width=\"1\" x1=\"100.98250109021987\" x2=\"103.37513200993413\" y1=\"99.56680080152725\" y2=\"118.38784745898039\" /><line fill=\"#800080\" stroke=\"#000000\" stroke-width=\"1\" x1=\"103.37513200993413\" x2=\"50.7172344170784\" y1=\"118.38784745898039\" y2=\"193.9553890433162\" /><line fill=\"#800080\" stroke=\"#000000\" stroke-width=\"1\" x1=\"79.81700477080506\" x2=\"104.70742965213078\" y1=\"206.0089085857723\" y2=\"182.81416027441782\" /><line fill=\"#800080\" stroke=\"#000000\" stroke-width=\"1\" x1=\"104.70742965213078\" x2=\"105.90645405345653\" y1=\"182.81416027441782\" y2=\"216.81551231349158\" /><line fill=\"#800080\" stroke=\"#000000\" stroke-width=\"1\" x1=\"134.838984347679\" x2=\"142.9278284168274\" y1=\"228.79975875512898\" y2=\"141.6287978471236\" /><line fill=\"#800080\" stroke=\"#000000\" stroke-width=\"1\" x1=\"142.9278284168274\" x2=\"186.8202596589887\" y1=\"141.6287978471236\" y2=\"222.50849171185172\" /><line fill=\"#800080\" stroke=\"#000000\" stroke-width=\"1\" x1=\"201.50615703255593\" x2=\"180.3514115855737\" y1=\"187.05359909696637\" y2=\"118.92303966088522\" /><line fill=\"#800080\" stroke=\"#000000\" stroke-width=\"1\" x1=\"180.3514115855737\" x2=\"152.58956170788042\" y1=\"118.92303966088522\" y2=\"107.42370492497881\" /><line fill=\"#800080\" stroke=\"#000000\" stroke-width=\"1\" x1=\"152.58956170788042\" x2=\"176.14410532286533\" y1=\"107.42370492497881\" y2=\"77.99353287162899\" /><line fill=\"#800080\" stroke=\"#000000\" stroke-width=\"1\" x1=\"176.14410532286533\" x2=\"175.17955487216986\" y1=\"77.99353287162899\" y2=\"49.57545280931541\" /><line fill=\"#800080\" stroke=\"#000000\" stroke-width=\"1\" x1=\"149.0901055895184\" x2=\"128.31344830467094\" y1=\"38.76884908159613\" y2=\"58.18142603747697\" /><line fill=\"#800080\" stroke=\"#000000\" stroke-width=\"1\" x1=\"128.31344830467094\" x2=\"123.9915115326663\" y1=\"58.18142603747697\" y2=\"95.57800468497885\" /><line fill=\"#800080\" stroke=\"#000000\" stroke-width=\"1\" x1=\"123.9915115326663\" x2=\"102.91926403514012\" y1=\"95.57800468497885\" y2=\"86.84959398182096\" /><line fill=\"#800080\" stroke=\"#000000\" stroke-width=\"1\" x1=\"102.91926403514012\" x2=\"77.40861499751993\" y1=\"86.84959398182096\" y2=\"86.47130086878667\" /><line fill=\"#800080\" stroke=\"#000000\" stroke-width=\"1\" x1=\"77.40861499751993\" x2=\"69.11046724019256\" y1=\"86.47130086878667\" y2=\"33.65874834765245\" /></svg>"
      ],
      "text/plain": [
       "<Canvas (256, 256)>"
      ]
     },
     "metadata": {},
     "output_type": "display_data"
    }
   ],
   "source": [
    "(for-each\n",
    " (lambda (r)(rotate (* (/ (* 2 pi) 16) r) wave))\n",
    " '(0 1 2 3 4 5 6 7 8 9 10 11 12 13 14 15))"
   ]
  },
  {
   "cell_type": "code",
   "execution_count": null,
   "metadata": {},
   "outputs": [],
   "source": []
  }
 ],
 "metadata": {
  "kernelspec": {
   "display_name": "Calysto Scheme 3",
   "language": "scheme",
   "name": "calysto_scheme"
  },
  "language_info": {
   "codemirror_mode": {
    "name": "scheme"
   },
   "mimetype": "text/x-scheme",
   "name": "scheme",
   "pygments_lexer": "scheme"
  }
 },
 "nbformat": 4,
 "nbformat_minor": 4
}
