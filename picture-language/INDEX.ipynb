{
 "cells": [
  {
   "cell_type": "markdown",
   "metadata": {},
   "source": [
    "# 目次(index)\n",
    "\n",
    "- 1 手続きを用いた抽象化の構築\n",
    "  - 1.2 手続きとそれが生成するプロセス\n",
    "    - 1.2.1 [線形再帰と反復](texts/1.2.1.ipynb)\n",
    "    - 1.2.2 [木の再帰](texts/1.2.2.ipynb)\n",
    "    - 1.2.3 [増加オーダー](texts/1.2.3.ipynb)\n",
    "    - 1.2.4 [指数計算](texts/1.2.4.ipynb)\n",
    "    - 1.2.5 [最大公約数](texts/1.2.5.ipynb)\n",
    "    - 1.2.6 [例：素数判定](texts/1.2.6.ipynb)\n",
    "- 2 データを用いた抽象化の構築\n",
    "  - 2.1 データ抽象化入門\n",
    "    - 2.1.1 [例：有理数の数値演算](texts/2.1.1.ipynb)\n",
    "    - 2.1.2 [抽象化の壁](texts/2.1.2.ipynb)\n",
    "    - 2.1.3 [データとは何か](texts/2.1.3.ipynb)\n",
    "    - 2.1.4 [発展問題：区間演算](texts/2.1.4.ipynb)\n",
    "  - 2.2 階層データと閉包性\n",
    "    - 2.2.1 [列の表現](texts/2.2.1.ipynb)\n",
    "    - 2.2.2 [階層構造](texts/2.2.2.ipynb)\n",
    "    - 2.2.3 [標準インターフェイス](texts/2.2.3.ipynb)\n",
    "    - 2.2.4 [例：図形言語](texts/2.2.4.ipynb)"
   ]
  }
 ],
 "metadata": {
  "kernelspec": {
   "display_name": "Calysto Scheme 3",
   "language": "scheme",
   "name": "calysto_scheme"
  },
  "language_info": {
   "codemirror_mode": {
    "name": "scheme"
   },
   "mimetype": "text/x-scheme",
   "name": "scheme",
   "pygments_lexer": "scheme"
  }
 },
 "nbformat": 4,
 "nbformat_minor": 4
}
