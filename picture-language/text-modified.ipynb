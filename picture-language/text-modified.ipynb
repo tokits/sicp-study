{
 "cells": [
  {
   "cell_type": "code",
   "execution_count": 9,
   "metadata": {},
   "outputs": [],
   "source": [
    "; 線形変換\n",
    "; 通常の行列計算より最適化してある。\n",
    "; transform-painter手続きで線形変換だけ必要だったので、\n",
    "; frame-coord-map手続きのアフィン変換と分離した。\n",
    "(define (linear-transform frame v)\n",
    "  (let ((edge1 (edge1-frame frame))\n",
    "        (edge2 (edge2-frame frame)))\n",
    "    (let ((x (xcor-vect v))\n",
    "          (y (ycor-vect v)))\n",
    "      (add-vect (scale-vect x edge1) (scale-vect y edge2))\n",
    "     )\n",
    "    )\n",
    "  )\n",
    "\n",
    "\n",
    "; テキストの実装から変更している。\n",
    "; 通常の線形変換の数式に沿っている。\n",
    ";(define (frame-coord-map frame)\n",
    ";  (lambda (v)\n",
    ";    (let ((edge1 (edge1-frame frame))\n",
    ";          (edge2 (edge2-frame frame)))\n",
    ";      (add-vect\n",
    ";       (origin-frame frame)\n",
    ";       (linear-transform frame v)\n",
    ";      )\n",
    ";     )\n",
    ";    )\n",
    ";  )\n",
    "(define (frame-coord-map frame) (lambda (v) (add-vect (origin-frame frame) (add-vect (scale-vect (xcor-vect v) (edge1-frame frame)) (scale-vect (ycor-vect v) (edge2-frame frame))))))\n",
    "\n",
    "; ベクトルコンストラクタ・セレクタ\n",
    "(define (make-vect x y) (cons x y))\n",
    "(define (xcor-vect v)(car v))\n",
    "(define (ycor-vect v)(cdr v))\n",
    "\n",
    "; ベクトル演算\n",
    "(define (add-vect v1 v2)\n",
    "  (make-vect (+ (xcor-vect v1)\n",
    "                (xcor-vect v2))\n",
    "             (+ (ycor-vect v1)\n",
    "                (ycor-vect v2))))\n",
    "(define (sub-vect v1 v2)\n",
    "  (make-vect (- (xcor-vect v1)\n",
    "                (xcor-vect v2))\n",
    "             (- (ycor-vect v1)\n",
    "                (ycor-vect v2))))\n",
    "(define (scale-vect s v)\n",
    "  (make-vect (* s (xcor-vect v))\n",
    "             (* s (ycor-vect v))))\n",
    "\n",
    "; フレームコンストラクタ・セレクタ\n",
    "(define (make-frame origin edge1 edge2)(list origin edge1 edge2))\n",
    "(define (origin-frame frame)(car frame))\n",
    "(define (edge1-frame frame)(cadr frame))\n",
    "(define (edge2-frame frame)(caddr frame))\n",
    "\n",
    "; 線分コンストラクタ・セレクタ\n",
    "(define (make-segment v1 v2)(cons v1 v2))\n",
    "(define (start-segment seg)(car seg))\n",
    "(define (end-segment seg)(cdr seg))\n",
    "\n",
    "; ペインタ\n",
    "(define (segments->painter segment-list)\n",
    "  (lambda (frame)\n",
    "    (for-each\n",
    "     (lambda (segment)\n",
    "       (draw-line\n",
    "        ((frame-coord-map frame) (start-segment segment))\n",
    "        ((frame-coord-map frame) (end-segment segment))))\n",
    "     segment-list)))\n",
    "\n",
    "; ペインタ変換と組み合わせ\n",
    "(define (transform-painter painter origin corner1 corner2)\n",
    "  (lambda (frame)\n",
    "    (let ((m (frame-coord-map frame)))\n",
    "      (let ((new-origin (m origin)))\n",
    "        (painter\n",
    "         (make-frame new-origin\n",
    "                     (linear-transform frame corner1)\n",
    "                     (linear-transform frame corner2)\n",
    "                     )\n",
    "         )\n",
    "        )\n",
    "      )\n",
    "    )\n",
    "  )\n",
    "\n",
    "\n",
    "; 線形変換のベクトルは変更\n",
    "(define (flip-vert painter)\n",
    "  (transform-painter painter\n",
    "                     ;(make-vect 0.0 1.0)\n",
    "                     ;(make-vect 1.0 1.0)\n",
    "                     ;(make-vect 0.0 0.0)\n",
    "                     (make-vect 0.0 1.0)\n",
    "                     (make-vect 1.0 0.0)\n",
    "                     (make-vect 0.0 -1.0)\n",
    "    )\n",
    "  )\n",
    "\n",
    "; 線形変換のベクトルは変更\n",
    "(define (beside painter1 painter2)\n",
    "  (let ((split-point (make-vect 0.5 0.0)))\n",
    "    (let ((paint-left\n",
    "           (transform-painter painter1\n",
    "                              (make-vect 0.0 0.0)\n",
    "                              split-point\n",
    "                              (make-vect 0.0 1.0)\n",
    "                              )\n",
    "           )\n",
    "          (paint-right\n",
    "           (transform-painter painter2\n",
    "                              ;split-point\n",
    "                              ;(make-vect 1.0 0.0)\n",
    "                              ;(make-vect 0.5 1.0)\n",
    "                              split-point\n",
    "                              split-point\n",
    "                              (make-vect 0.0 1.0)\n",
    "                              )\n",
    "           )\n",
    "          )\n",
    "      (lambda (frame)\n",
    "        (paint-left frame)\n",
    "        (paint-right frame)))))\n",
    "\n",
    "(define (below painter1 painter2)\n",
    "  (let ((split-point (make-vect 0.0 0.5)))\n",
    "    (let ((paint-below\n",
    "           (transform-painter painter1\n",
    "                              (make-vect 0.0 0.0)\n",
    "                              (make-vect 1.0 0.0)\n",
    "                              split-point))\n",
    "          (paint-above\n",
    "           (transform-painter painter2\n",
    "                              split-point\n",
    "                              (make-vect 1.0 0.0)\n",
    "                              (make-vect 0.0 0.5))))\n",
    "      (lambda (frame)\n",
    "        (paint-below frame)\n",
    "        (paint-above frame)))))\n",
    "\n",
    "; waveペインタ\n",
    "; 以下のサイトを参照しました。\n",
    "; https://gist.github.com/tkmr/28498\n",
    "(define wave\n",
    "  (lambda (frame)\n",
    "    ((segments->painter\n",
    "      (list (make-segment (make-vect 0.000 0.645) (make-vect 0.154 0.411))\n",
    "            (make-segment (make-vect 0.154 0.411) (make-vect 0.302 0.588))\n",
    "            (make-segment (make-vect 0.302 0.588) (make-vect 0.354 0.497))\n",
    "            (make-segment (make-vect 0.354 0.497) (make-vect 0.245 0.000))\n",
    "            (make-segment (make-vect 0.419 0.000) (make-vect 0.497 0.171))\n",
    "            (make-segment (make-vect 0.497 0.171) (make-vect 0.575 0.000))\n",
    "            (make-segment (make-vect 0.748 0.000) (make-vect 0.605 0.462))\n",
    "            (make-segment (make-vect 0.605 0.462) (make-vect 1.000 0.142))\n",
    "            (make-segment (make-vect 1.000 0.354) (make-vect 0.748 0.657))\n",
    "            (make-segment (make-vect 0.748 0.657) (make-vect 0.582 0.657))\n",
    "            (make-segment (make-vect 0.582 0.657) (make-vect 0.640 0.857))\n",
    "            (make-segment (make-vect 0.640 0.857) (make-vect 0.575 1.000))\n",
    "            (make-segment (make-vect 0.419 1.000) (make-vect 0.354 0.857))\n",
    "            (make-segment (make-vect 0.354 0.857) (make-vect 0.411 0.657))\n",
    "            (make-segment (make-vect 0.411 0.657) (make-vect 0.285 0.657))\n",
    "            (make-segment (make-vect 0.285 0.657) (make-vect 0.154 0.605))\n",
    "            (make-segment (make-vect 0.154 0.605) (make-vect 0.000 0.857)))) frame)))\n",
    "\n",
    "; 線形変換のベクトルは変更\n",
    "(define (beside painter1 painter2)\n",
    "  (let ((split-point (make-vect 0.5 0.0)))\n",
    "    (let ((paint-left\n",
    "           (transform-painter painter1\n",
    "                              (make-vect 0.0 0.0)\n",
    "                              split-point\n",
    "                              (make-vect 0.0 1.0)\n",
    "                              )\n",
    "           )\n",
    "          (paint-right\n",
    "           (transform-painter painter2\n",
    "                              ;split-point\n",
    "                              ;(make-vect 1.0 0.0)\n",
    "                              ;(make-vect 0.5 1.0)\n",
    "                              split-point\n",
    "                              split-point\n",
    "                              (make-vect 0.0 1.0)\n",
    "                              )\n",
    "           )\n",
    "          )\n",
    "      (lambda (frame)\n",
    "        (paint-left frame)\n",
    "        (paint-right frame)))))\n",
    "\n",
    "(define (below painter1 painter2)\n",
    "  (let ((split-point (make-vect 0.0 0.5)))\n",
    "    (let ((paint-below\n",
    "           (transform-painter painter1\n",
    "                              (make-vect 0.0 0.0)\n",
    "                              (make-vect 1.0 0.0)\n",
    "                              split-point))\n",
    "          (paint-above\n",
    "           (transform-painter painter2\n",
    "                              split-point\n",
    "                              (make-vect 1.0 0.0)\n",
    "                              (make-vect 0.0 0.5))))\n",
    "      (lambda (frame)\n",
    "        (paint-below frame)\n",
    "        (paint-above frame)))))"
   ]
  },
  {
   "cell_type": "code",
   "execution_count": 10,
   "metadata": {},
   "outputs": [],
   "source": [
    "(import-as \"picseg\" 'pic)\n",
    "(pic.init 256 245 245 245)\n",
    ";(pic.init 256 255 255 255)\n",
    "\n",
    "(define (draw-line v1 v2)\n",
    "  (let ((start-x (xcor-vect v1))\n",
    "        (start-y (ycor-vect v1))\n",
    "        (end-x (xcor-vect v2))\n",
    "        (end-y (ycor-vect v2)))\n",
    "    (pic.draw_line start-x start-y end-x end-y)\n",
    "    ;(display \"(\")\n",
    "    ;(display start-x)\n",
    "    ;(display \",\")\n",
    "    ;(display start-y)\n",
    "    ;(display \") (\")\n",
    "    ;(display end-x)\n",
    "    ;(display \",\")\n",
    "    ;(display end-y)\n",
    "    ;(display \")\")\n",
    "    ;(newline)\n",
    "    )\n",
    "  )\n",
    "\n",
    "; ペインタの動作確認\n",
    "(define (show painter)\n",
    "  (let ((frame0 (make-frame\n",
    "                            (make-vect 0 0)\n",
    "                            (make-vect 1 0)\n",
    "                            (make-vect 0 1))))\n",
    "    (pic.clear)\n",
    "    (painter frame0)\n",
    "    (pic.update)\n",
    "    )\n",
    "  )"
   ]
  },
  {
   "cell_type": "code",
   "execution_count": 11,
   "metadata": {},
   "outputs": [
    {
     "data": {
      "image/svg+xml": [
       "<svg baseProfile=\"full\" height=\"256\" version=\"1.1\" width=\"256\" xmlns=\"http://www.w3.org/2000/svg\" xmlns:ev=\"http://www.w3.org/2001/xml-events\" xmlns:xlink=\"http://www.w3.org/1999/xlink\"><defs /><rect fill=\"#f5f5f5\" height=\"256\" stroke=\"#f5f5f5\" stroke-width=\"1\" width=\"256\" x=\"0\" y=\"0\" /><line fill=\"#800080\" stroke=\"#000000\" stroke-width=\"1\" x1=\"0.0\" x2=\"19.712\" y1=\"90.88\" y2=\"150.784\" /><line fill=\"#800080\" stroke=\"#000000\" stroke-width=\"1\" x1=\"19.712\" x2=\"38.656\" y1=\"150.784\" y2=\"105.47200000000001\" /><line fill=\"#800080\" stroke=\"#000000\" stroke-width=\"1\" x1=\"38.656\" x2=\"45.312\" y1=\"105.47200000000001\" y2=\"128.768\" /><line fill=\"#800080\" stroke=\"#000000\" stroke-width=\"1\" x1=\"45.312\" x2=\"31.36\" y1=\"128.768\" y2=\"256.0\" /><line fill=\"#800080\" stroke=\"#000000\" stroke-width=\"1\" x1=\"53.632\" x2=\"63.616\" y1=\"256.0\" y2=\"212.224\" /><line fill=\"#800080\" stroke=\"#000000\" stroke-width=\"1\" x1=\"63.616\" x2=\"73.6\" y1=\"212.224\" y2=\"256.0\" /><line fill=\"#800080\" stroke=\"#000000\" stroke-width=\"1\" x1=\"95.744\" x2=\"77.44\" y1=\"256.0\" y2=\"137.728\" /><line fill=\"#800080\" stroke=\"#000000\" stroke-width=\"1\" x1=\"77.44\" x2=\"128.0\" y1=\"137.728\" y2=\"219.648\" /><line fill=\"#800080\" stroke=\"#000000\" stroke-width=\"1\" x1=\"128.0\" x2=\"95.744\" y1=\"165.376\" y2=\"87.80799999999999\" /><line fill=\"#800080\" stroke=\"#000000\" stroke-width=\"1\" x1=\"95.744\" x2=\"74.496\" y1=\"87.80799999999999\" y2=\"87.80799999999999\" /><line fill=\"#800080\" stroke=\"#000000\" stroke-width=\"1\" x1=\"74.496\" x2=\"81.92\" y1=\"87.80799999999999\" y2=\"36.608000000000004\" /><line fill=\"#800080\" stroke=\"#000000\" stroke-width=\"1\" x1=\"81.92\" x2=\"73.6\" y1=\"36.608000000000004\" y2=\"0.0\" /><line fill=\"#800080\" stroke=\"#000000\" stroke-width=\"1\" x1=\"53.632\" x2=\"45.312\" y1=\"0.0\" y2=\"36.608000000000004\" /><line fill=\"#800080\" stroke=\"#000000\" stroke-width=\"1\" x1=\"45.312\" x2=\"52.608\" y1=\"36.608000000000004\" y2=\"87.80799999999999\" /><line fill=\"#800080\" stroke=\"#000000\" stroke-width=\"1\" x1=\"52.608\" x2=\"36.48\" y1=\"87.80799999999999\" y2=\"87.80799999999999\" /><line fill=\"#800080\" stroke=\"#000000\" stroke-width=\"1\" x1=\"36.48\" x2=\"19.712\" y1=\"87.80799999999999\" y2=\"101.12\" /><line fill=\"#800080\" stroke=\"#000000\" stroke-width=\"1\" x1=\"19.712\" x2=\"0.0\" y1=\"101.12\" y2=\"36.608000000000004\" /><line fill=\"#800080\" stroke=\"#000000\" stroke-width=\"1\" x1=\"128.0\" x2=\"147.712\" y1=\"165.12\" y2=\"105.21600000000001\" /><line fill=\"#800080\" stroke=\"#000000\" stroke-width=\"1\" x1=\"147.712\" x2=\"166.656\" y1=\"105.21600000000001\" y2=\"150.528\" /><line fill=\"#800080\" stroke=\"#000000\" stroke-width=\"1\" x1=\"166.656\" x2=\"173.312\" y1=\"150.528\" y2=\"127.232\" /><line fill=\"#800080\" stroke=\"#000000\" stroke-width=\"1\" x1=\"173.312\" x2=\"159.36\" y1=\"127.232\" y2=\"0.0\" /><line fill=\"#800080\" stroke=\"#000000\" stroke-width=\"1\" x1=\"181.632\" x2=\"191.61599999999999\" y1=\"0.0\" y2=\"43.77600000000001\" /><line fill=\"#800080\" stroke=\"#000000\" stroke-width=\"1\" x1=\"191.61599999999999\" x2=\"201.6\" y1=\"43.77600000000001\" y2=\"0.0\" /><line fill=\"#800080\" stroke=\"#000000\" stroke-width=\"1\" x1=\"223.744\" x2=\"205.44\" y1=\"0.0\" y2=\"118.27199999999999\" /><line fill=\"#800080\" stroke=\"#000000\" stroke-width=\"1\" x1=\"205.44\" x2=\"256.0\" y1=\"118.27199999999999\" y2=\"36.352000000000004\" /><line fill=\"#800080\" stroke=\"#000000\" stroke-width=\"1\" x1=\"256.0\" x2=\"223.744\" y1=\"90.624\" y2=\"168.192\" /><line fill=\"#800080\" stroke=\"#000000\" stroke-width=\"1\" x1=\"223.744\" x2=\"202.49599999999998\" y1=\"168.192\" y2=\"168.192\" /><line fill=\"#800080\" stroke=\"#000000\" stroke-width=\"1\" x1=\"202.49599999999998\" x2=\"209.92000000000002\" y1=\"168.192\" y2=\"219.392\" /><line fill=\"#800080\" stroke=\"#000000\" stroke-width=\"1\" x1=\"209.92000000000002\" x2=\"201.6\" y1=\"219.392\" y2=\"256.0\" /><line fill=\"#800080\" stroke=\"#000000\" stroke-width=\"1\" x1=\"181.632\" x2=\"173.312\" y1=\"256.0\" y2=\"219.392\" /><line fill=\"#800080\" stroke=\"#000000\" stroke-width=\"1\" x1=\"173.312\" x2=\"180.608\" y1=\"219.392\" y2=\"168.192\" /><line fill=\"#800080\" stroke=\"#000000\" stroke-width=\"1\" x1=\"180.608\" x2=\"164.48\" y1=\"168.192\" y2=\"168.192\" /><line fill=\"#800080\" stroke=\"#000000\" stroke-width=\"1\" x1=\"164.48\" x2=\"147.712\" y1=\"168.192\" y2=\"154.88\" /><line fill=\"#800080\" stroke=\"#000000\" stroke-width=\"1\" x1=\"147.712\" x2=\"128.0\" y1=\"154.88\" y2=\"219.392\" /></svg>"
      ],
      "text/plain": [
       "<Canvas (256, 256)>"
      ]
     },
     "metadata": {},
     "output_type": "display_data"
    }
   ],
   "source": [
    "(show (beside wave (flip-vert wave)))"
   ]
  },
  {
   "cell_type": "code",
   "execution_count": 12,
   "metadata": {},
   "outputs": [
    {
     "data": {
      "image/svg+xml": [
       "<svg baseProfile=\"full\" height=\"256\" version=\"1.1\" width=\"256\" xmlns=\"http://www.w3.org/2000/svg\" xmlns:ev=\"http://www.w3.org/2001/xml-events\" xmlns:xlink=\"http://www.w3.org/1999/xlink\"><defs /><rect fill=\"#f5f5f5\" height=\"256\" stroke=\"#f5f5f5\" stroke-width=\"1\" width=\"256\" x=\"0\" y=\"0\" /><line fill=\"#800080\" stroke=\"#000000\" stroke-width=\"1\" x1=\"90.88\" x2=\"150.784\" y1=\"256.0\" y2=\"216.576\" /><line fill=\"#800080\" stroke=\"#000000\" stroke-width=\"1\" x1=\"150.784\" x2=\"105.47200000000001\" y1=\"216.576\" y2=\"178.688\" /><line fill=\"#800080\" stroke=\"#000000\" stroke-width=\"1\" x1=\"105.47200000000001\" x2=\"128.768\" y1=\"178.688\" y2=\"165.376\" /><line fill=\"#800080\" stroke=\"#000000\" stroke-width=\"1\" x1=\"128.768\" x2=\"256.0\" y1=\"165.376\" y2=\"193.28\" /><line fill=\"#800080\" stroke=\"#000000\" stroke-width=\"1\" x1=\"256.0\" x2=\"212.224\" y1=\"148.736\" y2=\"128.768\" /><line fill=\"#800080\" stroke=\"#000000\" stroke-width=\"1\" x1=\"212.224\" x2=\"256.0\" y1=\"128.768\" y2=\"108.80000000000001\" /><line fill=\"#800080\" stroke=\"#000000\" stroke-width=\"1\" x1=\"256.0\" x2=\"137.728\" y1=\"64.512\" y2=\"101.12\" /><line fill=\"#800080\" stroke=\"#000000\" stroke-width=\"1\" x1=\"137.728\" x2=\"219.648\" y1=\"101.12\" y2=\"0.0\" /><line fill=\"#800080\" stroke=\"#000000\" stroke-width=\"1\" x1=\"165.376\" x2=\"87.80799999999999\" y1=\"0.0\" y2=\"64.512\" /><line fill=\"#800080\" stroke=\"#000000\" stroke-width=\"1\" x1=\"87.80799999999999\" x2=\"87.80799999999999\" y1=\"64.512\" y2=\"107.00800000000001\" /><line fill=\"#800080\" stroke=\"#000000\" stroke-width=\"1\" x1=\"87.80799999999999\" x2=\"36.608000000000004\" y1=\"107.00800000000001\" y2=\"92.16\" /><line fill=\"#800080\" stroke=\"#000000\" stroke-width=\"1\" x1=\"36.608000000000004\" x2=\"0.0\" y1=\"92.16\" y2=\"108.80000000000001\" /><line fill=\"#800080\" stroke=\"#000000\" stroke-width=\"1\" x1=\"0.0\" x2=\"36.608000000000004\" y1=\"148.736\" y2=\"165.376\" /><line fill=\"#800080\" stroke=\"#000000\" stroke-width=\"1\" x1=\"36.608000000000004\" x2=\"87.80799999999999\" y1=\"165.376\" y2=\"150.784\" /><line fill=\"#800080\" stroke=\"#000000\" stroke-width=\"1\" x1=\"87.80799999999999\" x2=\"87.80799999999999\" y1=\"150.784\" y2=\"183.04000000000002\" /><line fill=\"#800080\" stroke=\"#000000\" stroke-width=\"1\" x1=\"87.80799999999999\" x2=\"101.12\" y1=\"183.04000000000002\" y2=\"216.576\" /><line fill=\"#800080\" stroke=\"#000000\" stroke-width=\"1\" x1=\"101.12\" x2=\"36.608000000000004\" y1=\"216.576\" y2=\"256.0\" /></svg>"
      ],
      "text/plain": [
       "<Canvas (256, 256)>"
      ]
     },
     "metadata": {},
     "output_type": "display_data"
    }
   ],
   "source": [
    "(define (rotate90 painter)\n",
    "  (transform-painter painter\n",
    "                     (make-vect 1.0 0.0)\n",
    "                     (make-vect 0.0 1.0)\n",
    "                     (make-vect -1.0 0.0)\n",
    "            )\n",
    "  )\n",
    "\n",
    "(show (rotate90 wave))"
   ]
  },
  {
   "cell_type": "code",
   "execution_count": null,
   "metadata": {},
   "outputs": [],
   "source": []
  },
  {
   "cell_type": "code",
   "execution_count": 13,
   "metadata": {},
   "outputs": [
    {
     "name": "stdout",
     "output_type": "stream",
     "text": [
      "3.141592653589793"
     ]
    },
    {
     "data": {
      "text/plain": [
       "-1.0"
      ]
     },
     "execution_count": 13,
     "metadata": {},
     "output_type": "execute_result"
    }
   ],
   "source": [
    "(define pi 3.141592653589793)\n",
    "(import \"math\")\n",
    "(display math.pi)\n",
    "\n",
    "(math.cos pi)"
   ]
  },
  {
   "cell_type": "code",
   "execution_count": 14,
   "metadata": {},
   "outputs": [],
   "source": [
    "(define (rotation-map r painter)\n",
    "  (let ((v1-x (math.cos r))\n",
    "        (v1-y (math.sin r))\n",
    "        (v2-x (- (math.sin r)))\n",
    "        (v2-y (math.cos r)))\n",
    "    (transform-painter painter\n",
    "                       (make-vect 0.0 0.0)\n",
    "                       (make-vect v1-x v1-y)\n",
    "                       (make-vect v2-x v2-y)\n",
    "                       )\n",
    "    )\n",
    "  )"
   ]
  },
  {
   "cell_type": "code",
   "execution_count": 16,
   "metadata": {},
   "outputs": [
    {
     "data": {
      "image/svg+xml": [
       "<svg baseProfile=\"full\" height=\"256\" version=\"1.1\" width=\"256\" xmlns=\"http://www.w3.org/2000/svg\" xmlns:ev=\"http://www.w3.org/2001/xml-events\" xmlns:xlink=\"http://www.w3.org/1999/xlink\"><defs /><rect fill=\"#f5f5f5\" height=\"256\" stroke=\"#f5f5f5\" stroke-width=\"1\" width=\"256\" x=\"0\" y=\"0\" /><line fill=\"#800080\" stroke=\"#000000\" stroke-width=\"1\" x1=\"-51.024886111191314\" x2=\"4.980920018265671\" y1=\"98.96154802934424\" y2=\"143.7509515952512\" /><line fill=\"#800080\" stroke=\"#000000\" stroke-width=\"1\" x1=\"4.980920018265671\" x2=\"27.012371258538835\" y1=\"143.7509515952512\" y2=\"88.9486428460072\" /><line fill=\"#800080\" stroke=\"#000000\" stroke-width=\"1\" x1=\"27.012371258538835\" x2=\"46.87169550441869\" y1=\"88.9486428460072\" y2=\"106.99082122049981\" /><line fill=\"#800080\" stroke=\"#000000\" stroke-width=\"1\" x1=\"46.87169550441869\" x2=\"59.650264702032025\" y1=\"106.99082122049981\" y2=\"236.6184541128033\" /><line fill=\"#800080\" stroke=\"#000000\" stroke-width=\"1\" x1=\"102.01412616388335\" x2=\"107.47729473550727\" y1=\"222.85360111536565\" y2=\"175.04969971435006\" /><line fill=\"#800080\" stroke=\"#000000\" stroke-width=\"1\" x1=\"107.47729473550727\" x2=\"139.99551919864658\" y1=\"175.04969971435006\" y2=\"210.51269842800775\" /><line fill=\"#800080\" stroke=\"#000000\" stroke-width=\"1\" x1=\"182.11591019232637\" x2=\"110.75157528507961\" y1=\"196.82695378113007\" y2=\"95.65609161594773\" /><line fill=\"#800080\" stroke=\"#000000\" stroke-width=\"1\" x1=\"110.75157528507961\" x2=\"232.2370823920412\" y1=\"95.65609161594773\" y2=\"142.31884295965205\" /><line fill=\"#800080\" stroke=\"#000000\" stroke-width=\"1\" x1=\"215.46611207332407\" x2=\"130.14172387441522\" y1=\"90.70310370728146\" y2=\"36.86685619241561\" /><line fill=\"#800080\" stroke=\"#000000\" stroke-width=\"1\" x1=\"130.14172387441522\" x2=\"89.72562615793635\" y1=\"36.86685619241561\" y2=\"49.99884238537339\" /><line fill=\"#800080\" stroke=\"#000000\" stroke-width=\"1\" x1=\"89.72562615793635\" x2=\"88.02524319988952\" y1=\"49.99884238537339\" y2=\"-3.283535581417709\" /><line fill=\"#800080\" stroke=\"#000000\" stroke-width=\"1\" x1=\"88.02524319988952\" x2=\"60.88716863866004\" y1=\"-3.283535581417709\" y2=\"-32.95776974355158\" /><line fill=\"#800080\" stroke=\"#000000\" stroke-width=\"1\" x1=\"22.905775603896814\" x2=\"18.39268930282354\" y1=\"-20.616867056193655\" y2=\"19.34145267873845\" /><line fill=\"#800080\" stroke=\"#000000\" stroke-width=\"1\" x1=\"18.39268930282354\" x2=\"48.09217610059971\" y1=\"19.34145267873845\" y2=\"63.52637033113109\" /><line fill=\"#800080\" stroke=\"#000000\" stroke-width=\"1\" x1=\"48.09217610059971\" x2=\"17.41489711098324\" y1=\"63.52637033113109\" y2=\"73.49402250168939\" /><line fill=\"#800080\" stroke=\"#000000\" stroke-width=\"1\" x1=\"17.41489711098324\" x2=\"-10.366099990371715\" y1=\"73.49402250168939\" y2=\"96.5176807699687\" /><line fill=\"#800080\" stroke=\"#000000\" stroke-width=\"1\" x1=\"-10.366099990371715\" x2=\"-67.79585642990845\" y1=\"96.5176807699687\" y2=\"47.34580877697368\" /></svg>"
      ],
      "text/plain": [
       "<Canvas (256, 256)>"
      ]
     },
     "metadata": {},
     "output_type": "display_data"
    }
   ],
   "source": [
    "(show (rotation-map (/ pi 10) wave))"
   ]
  },
  {
   "cell_type": "code",
   "execution_count": 6,
   "metadata": {},
   "outputs": [],
   "source": [
    ";affine \n",
    "(define (affine-map x y painter)\n",
    "  (transform-painter painter\n",
    "                     (make-vect x y)\n",
    "                     (make-vect (+ 1.0 x) y)\n",
    "                     (make-vect x (+ 1.0 y))\n",
    "    )\n",
    "  )"
   ]
  },
  {
   "cell_type": "code",
   "execution_count": 7,
   "metadata": {},
   "outputs": [
    {
     "data": {
      "image/svg+xml": [
       "<svg baseProfile=\"full\" height=\"256\" version=\"1.1\" width=\"256\" xmlns=\"http://www.w3.org/2000/svg\" xmlns:ev=\"http://www.w3.org/2001/xml-events\" xmlns:xlink=\"http://www.w3.org/1999/xlink\"><defs /><rect fill=\"#f5f5f5\" height=\"256\" stroke=\"#f5f5f5\" stroke-width=\"1\" width=\"256\" x=\"0\" y=\"0\" /><line fill=\"#800080\" stroke=\"#000000\" stroke-width=\"1\" x1=\"64.0\" x2=\"103.424\" y1=\"65.28\" y2=\"125.184\" /><line fill=\"#800080\" stroke=\"#000000\" stroke-width=\"1\" x1=\"103.424\" x2=\"141.312\" y1=\"125.184\" y2=\"79.87200000000001\" /><line fill=\"#800080\" stroke=\"#000000\" stroke-width=\"1\" x1=\"141.312\" x2=\"154.624\" y1=\"79.87200000000001\" y2=\"103.168\" /><line fill=\"#800080\" stroke=\"#000000\" stroke-width=\"1\" x1=\"154.624\" x2=\"126.72\" y1=\"103.168\" y2=\"230.4\" /><line fill=\"#800080\" stroke=\"#000000\" stroke-width=\"1\" x1=\"171.264\" x2=\"191.232\" y1=\"230.4\" y2=\"186.624\" /><line fill=\"#800080\" stroke=\"#000000\" stroke-width=\"1\" x1=\"191.232\" x2=\"211.2\" y1=\"186.624\" y2=\"230.4\" /><line fill=\"#800080\" stroke=\"#000000\" stroke-width=\"1\" x1=\"255.488\" x2=\"218.88\" y1=\"230.4\" y2=\"112.12799999999999\" /><line fill=\"#800080\" stroke=\"#000000\" stroke-width=\"1\" x1=\"218.88\" x2=\"320.0\" y1=\"112.12799999999999\" y2=\"194.048\" /><line fill=\"#800080\" stroke=\"#000000\" stroke-width=\"1\" x1=\"320.0\" x2=\"255.488\" y1=\"139.776\" y2=\"62.208\" /><line fill=\"#800080\" stroke=\"#000000\" stroke-width=\"1\" x1=\"255.488\" x2=\"212.992\" y1=\"62.208\" y2=\"62.208\" /><line fill=\"#800080\" stroke=\"#000000\" stroke-width=\"1\" x1=\"212.992\" x2=\"227.84\" y1=\"62.208\" y2=\"11.00800000000001\" /><line fill=\"#800080\" stroke=\"#000000\" stroke-width=\"1\" x1=\"227.84\" x2=\"211.2\" y1=\"11.00800000000001\" y2=\"-25.600000000000023\" /><line fill=\"#800080\" stroke=\"#000000\" stroke-width=\"1\" x1=\"171.264\" x2=\"154.624\" y1=\"-25.600000000000023\" y2=\"11.00800000000001\" /><line fill=\"#800080\" stroke=\"#000000\" stroke-width=\"1\" x1=\"154.624\" x2=\"169.216\" y1=\"11.00800000000001\" y2=\"62.208\" /><line fill=\"#800080\" stroke=\"#000000\" stroke-width=\"1\" x1=\"169.216\" x2=\"136.95999999999998\" y1=\"62.208\" y2=\"62.208\" /><line fill=\"#800080\" stroke=\"#000000\" stroke-width=\"1\" x1=\"136.95999999999998\" x2=\"103.424\" y1=\"62.208\" y2=\"75.52000000000001\" /><line fill=\"#800080\" stroke=\"#000000\" stroke-width=\"1\" x1=\"103.424\" x2=\"64.0\" y1=\"75.52000000000001\" y2=\"11.00800000000001\" /></svg>"
      ],
      "text/plain": [
       "<Canvas (256, 256)>"
      ]
     },
     "metadata": {},
     "output_type": "display_data"
    }
   ],
   "source": [
    "(paint (affine-map 0.25 0.1 wave))"
   ]
  },
  {
   "cell_type": "markdown",
   "metadata": {},
   "source": [
    "$$\n",
    "\\left(\n",
    "    \\begin{array}{c}\n",
    "      x' \\\\\n",
    "      y'\n",
    "    \\end{array}\n",
    "  \\right)\n",
    "  =\n",
    "\\left(\n",
    "    \\begin{array}{cc}\n",
    "      cos(\\theta) & -sin(\\theta) \\\\\n",
    "      sin(\\theta) & cos(\\theta)\n",
    "    \\end{array}\n",
    "  \\right)\n",
    "\\left(\n",
    "    \\begin{array}{c}\n",
    "      x \\\\\n",
    "      y\n",
    "    \\end{array}\n",
    "  \\right)\n",
    "$$  \n",
    "\n"
   ]
  },
  {
   "cell_type": "markdown",
   "metadata": {},
   "source": [
    "$$\n",
    "\\left(\n",
    "    \\begin{array}{c}\n",
    "      x' \\\\\n",
    "      y'\n",
    "    \\end{array}\n",
    "  \\right)\n",
    "  =\n",
    "\\left(\n",
    "    \\begin{array}{cc}\n",
    "      cos(\\frac{\\pi}{2}) & -sin(\\frac{\\pi}{2}) \\\\\n",
    "      sin(\\frac{\\pi}{2}) & cos(\\frac{\\pi}{2})\n",
    "    \\end{array}\n",
    "  \\right)\n",
    "\\left(\n",
    "    \\begin{array}{c}\n",
    "      x \\\\\n",
    "      y\n",
    "    \\end{array}\n",
    "  \\right)\n",
    "  =\n",
    "\\left(\n",
    "    \\begin{array}{cc}\n",
    "      0 & -1 \\\\\n",
    "      1 & 0\n",
    "    \\end{array}\n",
    "  \\right)\n",
    "\\left(\n",
    "    \\begin{array}{c}\n",
    "      x \\\\\n",
    "      y\n",
    "    \\end{array}\n",
    "  \\right)\n",
    "$$  \n",
    "\n"
   ]
  },
  {
   "cell_type": "markdown",
   "metadata": {},
   "source": [
    "$$\n",
    "\\left(\n",
    "    \\begin{array}{c}\n",
    "      x' \\\\\n",
    "      y'\n",
    "    \\end{array}\n",
    "  \\right)\n",
    "  =\n",
    "\\left(\n",
    "    \\begin{array}{cc}\n",
    "      0 & -1 \\\\\n",
    "      1 & 0\n",
    "    \\end{array}\n",
    "  \\right)\n",
    "\\left(\n",
    "    \\begin{array}{c}\n",
    "      x \\\\\n",
    "      y\n",
    "    \\end{array}\n",
    "  \\right)\n",
    "  +\n",
    "\\left(\n",
    "    \\begin{array}{c}\n",
    "      1 \\\\\n",
    "      0\n",
    "    \\end{array}\n",
    "  \\right)\n",
    "$$  \n",
    "\n"
   ]
  },
  {
   "cell_type": "markdown",
   "metadata": {},
   "source": [
    "$$\n",
    "\\left(\n",
    "    \\begin{array}{c}\n",
    "      x' \\\\\n",
    "      y'\n",
    "    \\end{array}\n",
    "  \\right)\n",
    "  =\n",
    "\\left(\n",
    "    \\begin{array}{cc}\n",
    "      a & b \\\\\n",
    "      c & d\n",
    "    \\end{array}\n",
    "  \\right)\n",
    "\\left(\n",
    "    \\begin{array}{c}\n",
    "      x \\\\\n",
    "      y\n",
    "    \\end{array}\n",
    "  \\right)\n",
    "  +\n",
    "\\left(\n",
    "    \\begin{array}{c}\n",
    "      e \\\\\n",
    "      f\n",
    "    \\end{array}\n",
    "  \\right)\n",
    "  =\n",
    "  x\n",
    "\\left(\n",
    "    \\begin{array}{cc}\n",
    "      a & b \\\\\n",
    "      c & d\n",
    "    \\end{array}\n",
    "  \\right)\n",
    "\\left(\n",
    "    \\begin{array}{c}\n",
    "      1 \\\\\n",
    "      0\n",
    "    \\end{array}\n",
    "  \\right)\n",
    "  +\n",
    "  y\n",
    "\\left(\n",
    "    \\begin{array}{cc}\n",
    "      a & b \\\\\n",
    "      c & d\n",
    "    \\end{array}\n",
    "  \\right)\n",
    "\\left(\n",
    "    \\begin{array}{c}\n",
    "      0 \\\\\n",
    "      1\n",
    "    \\end{array}\n",
    "  \\right)\n",
    "  +\n",
    "\\left(\n",
    "    \\begin{array}{c}\n",
    "      e \\\\\n",
    "      f\n",
    "    \\end{array}\n",
    "  \\right)\n",
    "  =\n",
    "  x\n",
    "\\left(\n",
    "    \\begin{array}{c}\n",
    "      a \\\\\n",
    "      c\n",
    "    \\end{array}\n",
    "  \\right)\n",
    "  +\n",
    "  y\n",
    "\\left(\n",
    "    \\begin{array}{c}\n",
    "      b \\\\\n",
    "      d\n",
    "    \\end{array}\n",
    "  \\right)\n",
    "  +\n",
    "\\left(\n",
    "    \\begin{array}{c}\n",
    "      e \\\\\n",
    "      f\n",
    "    \\end{array}\n",
    "  \\right)\n",
    "$$  \n"
   ]
  },
  {
   "cell_type": "markdown",
   "metadata": {},
   "source": [
    "$$\n",
    "\\left(\n",
    "    \\begin{array}{c}\n",
    "      x' \\\\\n",
    "      y'\n",
    "    \\end{array}\n",
    "  \\right)\n",
    "  =\n",
    "\\left(\n",
    "    \\begin{array}{cc}\n",
    "      a & b \\\\\n",
    "      c & d\n",
    "    \\end{array}\n",
    "  \\right)\n",
    "\\left(\n",
    "    \\begin{array}{c}\n",
    "      x \\\\\n",
    "      y\n",
    "    \\end{array}\n",
    "  \\right)\n",
    "$$  \n"
   ]
  },
  {
   "cell_type": "markdown",
   "metadata": {},
   "source": [
    "$$\n",
    "\\left(\n",
    "    \\begin{array}{c}\n",
    "      x' \\\\\n",
    "      y'\n",
    "    \\end{array}\n",
    "  \\right)\n",
    "  =\n",
    "\\left(\n",
    "    \\begin{array}{c}\n",
    "      x \\\\\n",
    "      y\n",
    "    \\end{array}\n",
    "  \\right)\n",
    "  +\n",
    "\\left(\n",
    "    \\begin{array}{c}\n",
    "      e \\\\\n",
    "      f\n",
    "    \\end{array}\n",
    "  \\right)\n",
    "  $$"
   ]
  },
  {
   "cell_type": "markdown",
   "metadata": {},
   "source": [
    "$$\n",
    "\\left(\n",
    "    \\begin{array}{c}\n",
    "      x' \\\\\n",
    "      y'\n",
    "    \\end{array}\n",
    "  \\right)\n",
    "  =\n",
    "\\left(\n",
    "    \\begin{array}{cc}\n",
    "      a & b \\\\\n",
    "      c & d\n",
    "    \\end{array}\n",
    "  \\right)\n",
    "\\left(\n",
    "    \\begin{array}{c}\n",
    "      x \\\\\n",
    "      y\n",
    "    \\end{array}\n",
    "  \\right)\n",
    "  +\n",
    "\\left(\n",
    "    \\begin{array}{c}\n",
    "      e \\\\\n",
    "      f\n",
    "    \\end{array}\n",
    "  \\right)\n",
    "$$"
   ]
  },
  {
   "cell_type": "markdown",
   "metadata": {},
   "source": [
    "基底ベクトル  \n",
    "$\n",
    "e_{1} =\n",
    "\\left(\n",
    "    \\begin{array}{c}\n",
    "      1 \\\\\n",
    "      0\n",
    "    \\end{array}\n",
    "  \\right)\n",
    ",\n",
    "e_{2}  =\n",
    "\\left(\n",
    "    \\begin{array}{c}\n",
    "      0 \\\\\n",
    "      1\n",
    "    \\end{array}\n",
    "  \\right)\n",
    "$  \n",
    "とすると、  \n",
    "任意の\n",
    "$\n",
    "\\left(\n",
    "    \\begin{array}{c}\n",
    "      x \\\\\n",
    "      y\n",
    "    \\end{array}\n",
    "  \\right)\n",
    "$\n",
    "は、  \n",
    "$\n",
    "\\left(\n",
    "    \\begin{array}{c}\n",
    "      x \\\\\n",
    "      y\n",
    "    \\end{array}\n",
    "  \\right)\n",
    "  =\n",
    "  x\n",
    "\\cdot\n",
    "\\left(\n",
    "    \\begin{array}{c}\n",
    "      1 \\\\\n",
    "      0\n",
    "    \\end{array}\n",
    "  \\right)\n",
    "  +\n",
    "  y\n",
    "\\cdot\n",
    "\\left(\n",
    "    \\begin{array}{c}\n",
    "      0 \\\\\n",
    "      1\n",
    "    \\end{array}\n",
    "  \\right)\n",
    "  =\n",
    "  x\n",
    "\\cdot\n",
    "e_{1}\n",
    "+\n",
    "  y\n",
    "\\cdot\n",
    "e_{2}\n",
    "$  \n",
    "と表すことができる。"
   ]
  },
  {
   "cell_type": "markdown",
   "metadata": {},
   "source": [
    "$e_{1},e_{2}$の、\n",
    "線形写像\n",
    "$\n",
    "\\left(\n",
    "    \\begin{array}{cc}\n",
    "      a & b \\\\\n",
    "      c & d\n",
    "    \\end{array}\n",
    "  \\right)\n",
    "$\n",
    "での変換後の基底ベクトルを\n",
    "$e'_{1},e'_{2}$とすると、 \n",
    "\n",
    "$\n",
    "e'_{1}\n",
    "  =\n",
    "\\left(\n",
    "    \\begin{array}{cc}\n",
    "      a & b \\\\\n",
    "      c & d\n",
    "    \\end{array}\n",
    "  \\right)\n",
    "\\cdot\n",
    "e_{1}\n",
    "  =\n",
    "\\left(\n",
    "    \\begin{array}{cc}\n",
    "      a & b \\\\\n",
    "      c & d\n",
    "    \\end{array}\n",
    "  \\right)\n",
    "\\cdot\n",
    "\\left(\n",
    "    \\begin{array}{c}\n",
    "      1 \\\\\n",
    "      0\n",
    "    \\end{array}\n",
    "  \\right)\n",
    "=\n",
    "\\left(\n",
    "    \\begin{array}{c}\n",
    "      a \\\\\n",
    "      c\n",
    "    \\end{array}\n",
    "  \\right)\n",
    "\\\\\n",
    "e'_{2}\n",
    "  =\n",
    "\\left(\n",
    "    \\begin{array}{cc}\n",
    "      a & b \\\\\n",
    "      c & d\n",
    "    \\end{array}\n",
    "  \\right)\n",
    "\\cdot\n",
    "e_{2}\n",
    "  =\n",
    "\\left(\n",
    "    \\begin{array}{cc}\n",
    "      a & b \\\\\n",
    "      c & d\n",
    "    \\end{array}\n",
    "  \\right)\n",
    "\\cdot\n",
    "\\left(\n",
    "    \\begin{array}{c}\n",
    "      0 \\\\\n",
    "      1\n",
    "    \\end{array}\n",
    "  \\right)\n",
    "=\n",
    "\\left(\n",
    "    \\begin{array}{c}\n",
    "      b \\\\\n",
    "      d\n",
    "    \\end{array}\n",
    "  \\right)\n",
    "$   \n",
    "と表すことができる。  \n",
    "よって、\n",
    "$\n",
    "\\left(\n",
    "    \\begin{array}{c}\n",
    "      x \\\\\n",
    "      y\n",
    "    \\end{array}\n",
    "  \\right)\n",
    "$\n",
    "の変換後の座標は、  \n",
    "$\n",
    "\\left(\n",
    "    \\begin{array}{c}\n",
    "      x' \\\\\n",
    "      y'\n",
    "    \\end{array}\n",
    "  \\right)\n",
    "=\n",
    "x\n",
    "\\cdot\n",
    "\\left(\n",
    "    \\begin{array}{c}\n",
    "      a \\\\\n",
    "      c\n",
    "    \\end{array}\n",
    "  \\right)\n",
    "+\n",
    "y\n",
    "\\cdot\n",
    "\\left(\n",
    "    \\begin{array}{c}\n",
    "      b \\\\\n",
    "      d\n",
    "    \\end{array}\n",
    "  \\right)\n",
    "$  \n",
    "と表すことができる。  "
   ]
  },
  {
   "cell_type": "markdown",
   "metadata": {},
   "source": [
    "これとアフィン写像を組み合わせると、  \n",
    "$\n",
    "\\left(\n",
    "    \\begin{array}{c}\n",
    "      x' \\\\\n",
    "      y'\n",
    "    \\end{array}\n",
    "  \\right)\n",
    "=\n",
    "x\n",
    "\\cdot\n",
    "\\left(\n",
    "    \\begin{array}{c}\n",
    "      a \\\\\n",
    "      c\n",
    "    \\end{array}\n",
    "  \\right)\n",
    "+\n",
    "y\n",
    "\\cdot\n",
    "\\left(\n",
    "    \\begin{array}{c}\n",
    "      b \\\\\n",
    "      d\n",
    "    \\end{array}\n",
    "  \\right)\n",
    "+\n",
    "\\left(\n",
    "    \\begin{array}{c}\n",
    "      e \\\\\n",
    "      f\n",
    "    \\end{array}\n",
    "  \\right)  \n",
    "$  \n",
    "となり、これが図形言語・枠における、座標変換の式となる。\n"
   ]
  },
  {
   "cell_type": "code",
   "execution_count": 8,
   "metadata": {},
   "outputs": [],
   "source": [
    ";affine \n",
    "(define (scaling-map s painter)\n",
    "  (transform-painter painter\n",
    "                     (make-vect 0.0 0.0)\n",
    "                     (make-vect s 0.0)\n",
    "                     (make-vect 0.0 s)\n",
    "    )\n",
    "  )"
   ]
  },
  {
   "cell_type": "code",
   "execution_count": 9,
   "metadata": {},
   "outputs": [
    {
     "name": "stdout",
     "output_type": "stream",
     "text": [
      "1.4142135623730951"
     ]
    },
    {
     "data": {
      "image/svg+xml": [
       "<svg baseProfile=\"full\" height=\"256\" version=\"1.1\" width=\"256\" xmlns=\"http://www.w3.org/2000/svg\" xmlns:ev=\"http://www.w3.org/2001/xml-events\" xmlns:xlink=\"http://www.w3.org/1999/xlink\"><defs /><rect fill=\"#f5f5f5\" height=\"256\" stroke=\"#f5f5f5\" stroke-width=\"1\" width=\"256\" x=\"0\" y=\"0\" /><line fill=\"#800080\" stroke=\"#000000\" stroke-width=\"1\" x1=\"0.0\" x2=\"15.7696\" y1=\"189.952\" y2=\"213.9136\" /><line fill=\"#800080\" stroke=\"#000000\" stroke-width=\"1\" x1=\"15.7696\" x2=\"30.9248\" y1=\"213.9136\" y2=\"195.7888\" /><line fill=\"#800080\" stroke=\"#000000\" stroke-width=\"1\" x1=\"30.9248\" x2=\"36.2496\" y1=\"195.7888\" y2=\"205.1072\" /><line fill=\"#800080\" stroke=\"#000000\" stroke-width=\"1\" x1=\"36.2496\" x2=\"25.088\" y1=\"205.1072\" y2=\"256.0\" /><line fill=\"#800080\" stroke=\"#000000\" stroke-width=\"1\" x1=\"42.9056\" x2=\"50.8928\" y1=\"256.0\" y2=\"238.4896\" /><line fill=\"#800080\" stroke=\"#000000\" stroke-width=\"1\" x1=\"50.8928\" x2=\"58.879999999999995\" y1=\"238.4896\" y2=\"256.0\" /><line fill=\"#800080\" stroke=\"#000000\" stroke-width=\"1\" x1=\"76.5952\" x2=\"61.952\" y1=\"256.0\" y2=\"208.69119999999998\" /><line fill=\"#800080\" stroke=\"#000000\" stroke-width=\"1\" x1=\"61.952\" x2=\"102.4\" y1=\"208.69119999999998\" y2=\"241.4592\" /><line fill=\"#800080\" stroke=\"#000000\" stroke-width=\"1\" x1=\"102.4\" x2=\"76.5952\" y1=\"219.7504\" y2=\"188.7232\" /><line fill=\"#800080\" stroke=\"#000000\" stroke-width=\"1\" x1=\"76.5952\" x2=\"59.5968\" y1=\"188.7232\" y2=\"188.7232\" /><line fill=\"#800080\" stroke=\"#000000\" stroke-width=\"1\" x1=\"59.5968\" x2=\"65.536\" y1=\"188.7232\" y2=\"168.2432\" /><line fill=\"#800080\" stroke=\"#000000\" stroke-width=\"1\" x1=\"65.536\" x2=\"58.879999999999995\" y1=\"168.2432\" y2=\"153.6\" /><line fill=\"#800080\" stroke=\"#000000\" stroke-width=\"1\" x1=\"42.9056\" x2=\"36.2496\" y1=\"153.6\" y2=\"168.2432\" /><line fill=\"#800080\" stroke=\"#000000\" stroke-width=\"1\" x1=\"36.2496\" x2=\"42.0864\" y1=\"168.2432\" y2=\"188.7232\" /><line fill=\"#800080\" stroke=\"#000000\" stroke-width=\"1\" x1=\"42.0864\" x2=\"29.183999999999997\" y1=\"188.7232\" y2=\"188.7232\" /><line fill=\"#800080\" stroke=\"#000000\" stroke-width=\"1\" x1=\"29.183999999999997\" x2=\"15.7696\" y1=\"188.7232\" y2=\"194.048\" /><line fill=\"#800080\" stroke=\"#000000\" stroke-width=\"1\" x1=\"15.7696\" x2=\"0.0\" y1=\"194.048\" y2=\"168.2432\" /></svg>"
      ],
      "text/plain": [
       "<Canvas (256, 256)>"
      ]
     },
     "metadata": {},
     "output_type": "display_data"
    }
   ],
   "source": [
    "(define sqrt2 (math.sqrt 2))\n",
    "(display sqrt2)\n",
    "(paint (scaling-map 0.4 wave))"
   ]
  },
  {
   "cell_type": "code",
   "execution_count": 13,
   "metadata": {},
   "outputs": [
    {
     "data": {
      "image/svg+xml": [
       "<svg baseProfile=\"full\" height=\"256\" version=\"1.1\" width=\"256\" xmlns=\"http://www.w3.org/2000/svg\" xmlns:ev=\"http://www.w3.org/2001/xml-events\" xmlns:xlink=\"http://www.w3.org/1999/xlink\"><defs /><rect fill=\"#f5f5f5\" height=\"256\" stroke=\"#f5f5f5\" stroke-width=\"1\" width=\"256\" x=\"0\" y=\"0\" /><line fill=\"#800080\" stroke=\"#000000\" stroke-width=\"1\" x1=\"11.242528290477281\" x2=\"81.47803065217468\" y1=\"192.26186427423343\" y2=\"206.74341115293393\" /><line fill=\"#800080\" stroke=\"#000000\" stroke-width=\"1\" x1=\"81.47803065217468\" x2=\"76.22846990864575\" y1=\"206.74341115293393\" y2=\"147.9121269582132\" /><line fill=\"#800080\" stroke=\"#000000\" stroke-width=\"1\" x1=\"76.22846990864575\" x2=\"102.11423495432287\" y1=\"147.9121269582132\" y2=\"154.97188106157967\" /><line fill=\"#800080\" stroke=\"#000000\" stroke-width=\"1\" x1=\"102.11423495432287\" x2=\"172.34973731602025\" y1=\"154.97188106157967\" y2=\"264.6695986677359\" /><line fill=\"#800080\" stroke=\"#000000\" stroke-width=\"1\" x1=\"203.8471017771938\" x2=\"187.01230353070451\" y1=\"233.17223420656234\" y2=\"188.09841954660703\" /><line fill=\"#800080\" stroke=\"#000000\" stroke-width=\"1\" x1=\"187.01230353070451\" x2=\"232.08611819065976\" y1=\"188.09841954660703\" y2=\"204.9332177930964\" /><line fill=\"#800080\" stroke=\"#000000\" stroke-width=\"1\" x1=\"263.40246331584956\" x2=\"153.88576504567712\" y1=\"173.61687266790656\" y2=\"115.87170448908833\" /><line fill=\"#800080\" stroke=\"#000000\" stroke-width=\"1\" x1=\"153.88576504567712\" x2=\"283.31459027406277\" y1=\"115.87170448908833\" y2=\"102.29525429030662\" /><line fill=\"#800080\" stroke=\"#000000\" stroke-width=\"1\" x1=\"244.93849104550648\" x2=\"144.47275957452177\" y1=\"63.91915506175033\" y2=\"54.68716892657875\" /><line fill=\"#800080\" stroke=\"#000000\" stroke-width=\"1\" x1=\"144.47275957452177\" x2=\"114.42354980121827\" y1=\"54.68716892657875\" y2=\"84.73637869988227\" /><line fill=\"#800080\" stroke=\"#000000\" stroke-width=\"1\" x1=\"114.42354980121827\" x2=\"88.7188040915249\" y1=\"84.73637869988227\" y2=\"38.03339001607321\" /><line fill=\"#800080\" stroke=\"#000000\" stroke-width=\"1\" x1=\"88.7188040915249\" x2=\"51.066782206903625\" y1=\"38.03339001607321\" y2=\"23.91388180934024\" /><line fill=\"#800080\" stroke=\"#000000\" stroke-width=\"1\" x1=\"22.827765793437678\" x2=\"36.94727400017064\" y1=\"52.152898222806186\" y2=\"89.80492010742745\" /><line fill=\"#800080\" stroke=\"#000000\" stroke-width=\"1\" x1=\"36.94727400017064\" x2=\"83.46924334799597\" y1=\"89.80492010742745\" y2=\"115.6906851531046\" /><line fill=\"#800080\" stroke=\"#000000\" stroke-width=\"1\" x1=\"83.46924334799597\" x2=\"60.66080701404269\" y1=\"115.6906851531046\" y2=\"138.49912148705786\" /><line fill=\"#800080\" stroke=\"#000000\" stroke-width=\"1\" x1=\"60.66080701404269\" x2=\"46.36027947132598\" y1=\"138.49912148705786\" y2=\"171.62565997208523\" /><line fill=\"#800080\" stroke=\"#000000\" stroke-width=\"1\" x1=\"46.36027947132598\" x2=\"-27.133570938079032\" y1=\"171.62565997208523\" y2=\"153.88576504567712\" /></svg>"
      ],
      "text/plain": [
       "<Canvas (256, 256)>"
      ]
     },
     "metadata": {},
     "output_type": "display_data"
    }
   ],
   "source": [
    "(define sqrt2 (math.sqrt 2))\n",
    "(define sqrt2 2)\n",
    ";(display sqrt2)\n",
    "(define norm (/ sqrt2 2))\n",
    "(define move 0.5)\n",
    "\n",
    "(define (rotate r painter)\n",
    "  (paint \n",
    "   (affine-map move move\n",
    "               (rotation-map r\n",
    "                           (affine-map (- (/ norm 2)) (- (/ norm 2))\n",
    "                                       (scaling-map norm painter))\n",
    "                )\n",
    "      )\n",
    "    )\n",
    "  )\n",
    "\n",
    "(rotate (/ pi 4) wave)"
   ]
  },
  {
   "cell_type": "code",
   "execution_count": 14,
   "metadata": {},
   "outputs": [
    {
     "data": {
      "image/svg+xml": [
       "<svg baseProfile=\"full\" height=\"256\" version=\"1.1\" width=\"256\" xmlns=\"http://www.w3.org/2000/svg\" xmlns:ev=\"http://www.w3.org/2001/xml-events\" xmlns:xlink=\"http://www.w3.org/1999/xlink\"><defs /><rect fill=\"#f5f5f5\" height=\"256\" stroke=\"#f5f5f5\" stroke-width=\"1\" width=\"256\" x=\"0\" y=\"0\" /><line fill=\"#800080\" stroke=\"#000000\" stroke-width=\"1\" x1=\"0.0\" x2=\"39.424\" y1=\"90.88\" y2=\"150.784\" /><line fill=\"#800080\" stroke=\"#000000\" stroke-width=\"1\" x1=\"39.424\" x2=\"77.312\" y1=\"150.784\" y2=\"105.47200000000001\" /><line fill=\"#800080\" stroke=\"#000000\" stroke-width=\"1\" x1=\"77.312\" x2=\"90.624\" y1=\"105.47200000000001\" y2=\"128.768\" /><line fill=\"#800080\" stroke=\"#000000\" stroke-width=\"1\" x1=\"90.624\" x2=\"62.72\" y1=\"128.768\" y2=\"256.0\" /><line fill=\"#800080\" stroke=\"#000000\" stroke-width=\"1\" x1=\"107.264\" x2=\"127.232\" y1=\"256.0\" y2=\"212.224\" /><line fill=\"#800080\" stroke=\"#000000\" stroke-width=\"1\" x1=\"127.232\" x2=\"147.2\" y1=\"212.224\" y2=\"256.0\" /><line fill=\"#800080\" stroke=\"#000000\" stroke-width=\"1\" x1=\"191.488\" x2=\"154.88\" y1=\"256.0\" y2=\"137.728\" /><line fill=\"#800080\" stroke=\"#000000\" stroke-width=\"1\" x1=\"154.88\" x2=\"256.0\" y1=\"137.728\" y2=\"219.648\" /><line fill=\"#800080\" stroke=\"#000000\" stroke-width=\"1\" x1=\"256.0\" x2=\"191.488\" y1=\"165.376\" y2=\"87.80799999999999\" /><line fill=\"#800080\" stroke=\"#000000\" stroke-width=\"1\" x1=\"191.488\" x2=\"148.992\" y1=\"87.80799999999999\" y2=\"87.80799999999999\" /><line fill=\"#800080\" stroke=\"#000000\" stroke-width=\"1\" x1=\"148.992\" x2=\"163.84\" y1=\"87.80799999999999\" y2=\"36.608000000000004\" /><line fill=\"#800080\" stroke=\"#000000\" stroke-width=\"1\" x1=\"163.84\" x2=\"147.2\" y1=\"36.608000000000004\" y2=\"0.0\" /><line fill=\"#800080\" stroke=\"#000000\" stroke-width=\"1\" x1=\"107.264\" x2=\"90.624\" y1=\"0.0\" y2=\"36.608000000000004\" /><line fill=\"#800080\" stroke=\"#000000\" stroke-width=\"1\" x1=\"90.624\" x2=\"105.216\" y1=\"36.608000000000004\" y2=\"87.80799999999999\" /><line fill=\"#800080\" stroke=\"#000000\" stroke-width=\"1\" x1=\"105.216\" x2=\"72.96\" y1=\"87.80799999999999\" y2=\"87.80799999999999\" /><line fill=\"#800080\" stroke=\"#000000\" stroke-width=\"1\" x1=\"72.96\" x2=\"39.424\" y1=\"87.80799999999999\" y2=\"101.12\" /><line fill=\"#800080\" stroke=\"#000000\" stroke-width=\"1\" x1=\"39.424\" x2=\"0.0\" y1=\"101.12\" y2=\"36.608000000000004\" /></svg>"
      ],
      "text/plain": [
       "<Canvas (256, 256)>"
      ]
     },
     "metadata": {},
     "output_type": "display_data"
    },
    {
     "data": {
      "image/svg+xml": [
       "<svg baseProfile=\"full\" height=\"256\" version=\"1.1\" width=\"256\" xmlns=\"http://www.w3.org/2000/svg\" xmlns:ev=\"http://www.w3.org/2001/xml-events\" xmlns:xlink=\"http://www.w3.org/1999/xlink\"><defs /><rect fill=\"#f5f5f5\" height=\"256\" stroke=\"#f5f5f5\" stroke-width=\"1\" width=\"256\" x=\"0\" y=\"0\" /><line fill=\"#800080\" stroke=\"#000000\" stroke-width=\"1\" x1=\"-4.461789170836838\" x2=\"54.885505851286474\" y1=\"142.68907109591254\" y2=\"182.94623897390736\" /><line fill=\"#800080\" stroke=\"#000000\" stroke-width=\"1\" x1=\"54.885505851286474\" x2=\"72.54930189174715\" y1=\"182.94623897390736\" y2=\"126.58429971130741\" /><line fill=\"#800080\" stroke=\"#000000\" stroke-width=\"1\" x1=\"72.54930189174715\" x2=\"93.76297946891452\" y1=\"126.58429971130741\" y2=\"143.01271544904625\" /><line fill=\"#800080\" stroke=\"#000000\" stroke-width=\"1\" x1=\"93.76297946891452\" x2=\"116.6726234603947\" y1=\"143.01271544904625\" y2=\"271.23815462623776\" /><line fill=\"#800080\" stroke=\"#000000\" stroke-width=\"1\" x1=\"157.82591335657747\" x2=\"159.52158992654864\" y1=\"254.1919038149672\" y2=\"206.106730622287\" /><line fill=\"#800080\" stroke=\"#000000\" stroke-width=\"1\" x1=\"159.52158992654864\" x2=\"194.72196636694818\" y1=\"206.106730622287\" y2=\"238.90905826003498\" /><line fill=\"#800080\" stroke=\"#000000\" stroke-width=\"1\" x1=\"235.63874310280806\" x2=\"156.55662626395096\" y1=\"221.9607744074499\" y2=\"126.7009694302962\" /><line fill=\"#800080\" stroke=\"#000000\" stroke-width=\"1\" x1=\"156.55662626395096\" x2=\"281.32875137084045\" y1=\"126.7009694302962\" y2=\"163.6882320528629\" /><line fill=\"#800080\" stroke=\"#000000\" stroke-width=\"1\" x1=\"260.55975612952227\" x2=\"171.27445124645885\" y1=\"113.54744206441035\" y2=\"66.57162807531154\" /><line fill=\"#800080\" stroke=\"#000000\" stroke-width=\"1\" x1=\"171.27445124645885\" x2=\"132.0132666328592\" y1=\"66.57162807531154\" y2=\"82.83414321709839\" /><line fill=\"#800080\" stroke=\"#000000\" stroke-width=\"1\" x1=\"132.0132666328592\" x2=\"126.13763819449424\" y1=\"82.83414321709839\" y2=\"29.849427548763686\" /><line fill=\"#800080\" stroke=\"#000000\" stroke-width=\"1\" x1=\"126.13763819449424\" x2=\"96.75500768148518\" y1=\"29.849427548763686\" y2=\"2.3958979371456053\" /><line fill=\"#800080\" stroke=\"#000000\" stroke-width=\"1\" x1=\"59.85895467111446\" x2=\"58.49487434214785\" y1=\"17.678743492077786\" y2=\"57.86797773280608\" /><line fill=\"#800080\" stroke=\"#000000\" stroke-width=\"1\" x1=\"58.49487434214785\" x2=\"91.56951621764514\" y1=\"57.86797773280608\" y2=\"99.58649315231256\" /><line fill=\"#800080\" stroke=\"#000000\" stroke-width=\"1\" x1=\"91.56951621764514\" x2=\"61.768858016961076\" y1=\"99.58649315231256\" y2=\"111.9303299466809\" /><line fill=\"#800080\" stroke=\"#000000\" stroke-width=\"1\" x1=\"61.768858016961076\" x2=\"35.87991586630665\" y1=\"111.9303299466809\" y2=\"137.0626858712668\" /><line fill=\"#800080\" stroke=\"#000000\" stroke-width=\"1\" x1=\"35.87991586630665\" x2=\"-25.23078441215499\" y1=\"137.0626858712668\" y2=\"92.54828110745999\" /></svg>"
      ],
      "text/plain": [
       "<Canvas (256, 256)>"
      ]
     },
     "metadata": {},
     "output_type": "display_data"
    },
    {
     "data": {
      "image/svg+xml": [
       "<svg baseProfile=\"full\" height=\"256\" version=\"1.1\" width=\"256\" xmlns=\"http://www.w3.org/2000/svg\" xmlns:ev=\"http://www.w3.org/2001/xml-events\" xmlns:xlink=\"http://www.w3.org/1999/xlink\"><defs /><rect fill=\"#f5f5f5\" height=\"256\" stroke=\"#f5f5f5\" stroke-width=\"1\" width=\"256\" x=\"0\" y=\"0\" /><line fill=\"#800080\" stroke=\"#000000\" stroke-width=\"1\" x1=\"11.242528290477281\" x2=\"81.47803065217468\" y1=\"192.26186427423343\" y2=\"206.74341115293393\" /><line fill=\"#800080\" stroke=\"#000000\" stroke-width=\"1\" x1=\"81.47803065217468\" x2=\"76.22846990864575\" y1=\"206.74341115293393\" y2=\"147.9121269582132\" /><line fill=\"#800080\" stroke=\"#000000\" stroke-width=\"1\" x1=\"76.22846990864575\" x2=\"102.11423495432287\" y1=\"147.9121269582132\" y2=\"154.97188106157967\" /><line fill=\"#800080\" stroke=\"#000000\" stroke-width=\"1\" x1=\"102.11423495432287\" x2=\"172.34973731602025\" y1=\"154.97188106157967\" y2=\"264.6695986677359\" /><line fill=\"#800080\" stroke=\"#000000\" stroke-width=\"1\" x1=\"203.8471017771938\" x2=\"187.01230353070451\" y1=\"233.17223420656234\" y2=\"188.09841954660703\" /><line fill=\"#800080\" stroke=\"#000000\" stroke-width=\"1\" x1=\"187.01230353070451\" x2=\"232.08611819065976\" y1=\"188.09841954660703\" y2=\"204.9332177930964\" /><line fill=\"#800080\" stroke=\"#000000\" stroke-width=\"1\" x1=\"263.40246331584956\" x2=\"153.88576504567712\" y1=\"173.61687266790656\" y2=\"115.87170448908833\" /><line fill=\"#800080\" stroke=\"#000000\" stroke-width=\"1\" x1=\"153.88576504567712\" x2=\"283.31459027406277\" y1=\"115.87170448908833\" y2=\"102.29525429030662\" /><line fill=\"#800080\" stroke=\"#000000\" stroke-width=\"1\" x1=\"244.93849104550648\" x2=\"144.47275957452177\" y1=\"63.91915506175033\" y2=\"54.68716892657875\" /><line fill=\"#800080\" stroke=\"#000000\" stroke-width=\"1\" x1=\"144.47275957452177\" x2=\"114.42354980121827\" y1=\"54.68716892657875\" y2=\"84.73637869988227\" /><line fill=\"#800080\" stroke=\"#000000\" stroke-width=\"1\" x1=\"114.42354980121827\" x2=\"88.7188040915249\" y1=\"84.73637869988227\" y2=\"38.03339001607321\" /><line fill=\"#800080\" stroke=\"#000000\" stroke-width=\"1\" x1=\"88.7188040915249\" x2=\"51.066782206903625\" y1=\"38.03339001607321\" y2=\"23.91388180934024\" /><line fill=\"#800080\" stroke=\"#000000\" stroke-width=\"1\" x1=\"22.827765793437678\" x2=\"36.94727400017064\" y1=\"52.152898222806186\" y2=\"89.80492010742745\" /><line fill=\"#800080\" stroke=\"#000000\" stroke-width=\"1\" x1=\"36.94727400017064\" x2=\"83.46924334799597\" y1=\"89.80492010742745\" y2=\"115.6906851531046\" /><line fill=\"#800080\" stroke=\"#000000\" stroke-width=\"1\" x1=\"83.46924334799597\" x2=\"60.66080701404269\" y1=\"115.6906851531046\" y2=\"138.49912148705786\" /><line fill=\"#800080\" stroke=\"#000000\" stroke-width=\"1\" x1=\"60.66080701404269\" x2=\"46.36027947132598\" y1=\"138.49912148705786\" y2=\"171.62565997208523\" /><line fill=\"#800080\" stroke=\"#000000\" stroke-width=\"1\" x1=\"46.36027947132598\" x2=\"-27.133570938079032\" y1=\"171.62565997208523\" y2=\"153.88576504567712\" /></svg>"
      ],
      "text/plain": [
       "<Canvas (256, 256)>"
      ]
     },
     "metadata": {},
     "output_type": "display_data"
    },
    {
     "data": {
      "image/svg+xml": [
       "<svg baseProfile=\"full\" height=\"256\" version=\"1.1\" width=\"256\" xmlns=\"http://www.w3.org/2000/svg\" xmlns:ev=\"http://www.w3.org/2001/xml-events\" xmlns:xlink=\"http://www.w3.org/1999/xlink\"><defs /><rect fill=\"#f5f5f5\" height=\"256\" stroke=\"#f5f5f5\" stroke-width=\"1\" width=\"256\" x=\"0\" y=\"0\" /><line fill=\"#800080\" stroke=\"#000000\" stroke-width=\"1\" x1=\"44.72211241044954\" x2=\"115.15310356356696\" y1=\"232.05137115205258\" y2=\"218.55261279472595\" /><line fill=\"#800080\" stroke=\"#000000\" stroke-width=\"1\" x1=\"115.15310356356696\" x2=\"87.78938407186408\" y1=\"218.55261279472595\" y2=\"166.20851337961136\" /><line fill=\"#800080\" stroke=\"#000000\" stroke-width=\"1\" x1=\"87.78938407186408\" x2=\"114.40636351289108\" y1=\"166.20851337961136\" y2=\"162.82482228319824\" /><line fill=\"#800080\" stroke=\"#000000\" stroke-width=\"1\" x1=\"114.40636351289108\" x2=\"221.27500569665165\" y1=\"162.82482228319824\" y2=\"237.2943352250683\" /><line fill=\"#800080\" stroke=\"#000000\" stroke-width=\"1\" x1=\"238.32125650792221\" x2=\"205.51892887017422\" y1=\"196.14104532888553\" y2=\"160.940668888486\" /><line fill=\"#800080\" stroke=\"#000000\" stroke-width=\"1\" x1=\"205.51892887017422\" x2=\"253.60410206285442\" y1=\"160.940668888486\" y2=\"159.24499231851482\" /><line fill=\"#800080\" stroke=\"#000000\" stroke-width=\"1\" x1=\"270.5523859154395\" x2=\"147.27403075424343\" y1=\"118.32821558265493\" y2=\"106.88886259614421\" /><line fill=\"#800080\" stroke=\"#000000\" stroke-width=\"1\" x1=\"147.27403075424343\" x2=\"261.6551907383259\" y1=\"106.88886259614421\" y2=\"44.815591047951045\" /><line fill=\"#800080\" stroke=\"#000000\" stroke-width=\"1\" x1=\"211.51440074987335\" x2=\"115.16323958330118\" y1=\"24.046595806632922\" y2=\"53.96392372630572\" /><line fill=\"#800080\" stroke=\"#000000\" stroke-width=\"1\" x1=\"115.16323958330118\" x2=\"98.90072444151431\" y1=\"53.96392372630572\" y2=\"93.22510833990538\" /><line fill=\"#800080\" stroke=\"#000000\" stroke-width=\"1\" x1=\"98.90072444151431\" x2=\"57.280175980693315\" y1=\"93.22510833990538\" y2=\"59.91395330408517\" /><line fill=\"#800080\" stroke=\"#000000\" stroke-width=\"1\" x1=\"57.280175980693315\" x2=\"17.090941739965018\" y1=\"59.91395330408517\" y2=\"61.27803363305182\" /><line fill=\"#800080\" stroke=\"#000000\" stroke-width=\"1\" x1=\"1.8080961850328094\" x2=\"29.26162579665089\" y1=\"98.17408664342253\" y2=\"127.55671715643157\" /><line fill=\"#800080\" stroke=\"#000000\" stroke-width=\"1\" x1=\"29.26162579665089\" x2=\"82.14837450630014\" y1=\"127.55671715643157\" y2=\"133.66885875511946\" /><line fill=\"#800080\" stroke=\"#000000\" stroke-width=\"1\" x1=\"82.14837450630014\" x2=\"69.8045377119318\" y1=\"133.66885875511946\" y2=\"163.46951695580353\" /><line fill=\"#800080\" stroke=\"#000000\" stroke-width=\"1\" x1=\"69.8045377119318\" x2=\"69.26955046092644\" y1=\"163.46951695580353\" y2=\"199.54702280974612\" /><line fill=\"#800080\" stroke=\"#000000\" stroke-width=\"1\" x1=\"69.26955046092644\" x2=\"-5.418677578003013\" y1=\"199.54702280974612\" y2=\"211.2823759107344\" /></svg>"
      ],
      "text/plain": [
       "<Canvas (256, 256)>"
      ]
     },
     "metadata": {},
     "output_type": "display_data"
    },
    {
     "data": {
      "image/svg+xml": [
       "<svg baseProfile=\"full\" height=\"256\" version=\"1.1\" width=\"256\" xmlns=\"http://www.w3.org/2000/svg\" xmlns:ev=\"http://www.w3.org/2001/xml-events\" xmlns:xlink=\"http://www.w3.org/1999/xlink\"><defs /><rect fill=\"#f5f5f5\" height=\"256\" stroke=\"#f5f5f5\" stroke-width=\"1\" width=\"256\" x=\"0\" y=\"0\" /><line fill=\"#800080\" stroke=\"#000000\" stroke-width=\"1\" x1=\"90.88\" x2=\"150.784\" y1=\"256.0\" y2=\"216.576\" /><line fill=\"#800080\" stroke=\"#000000\" stroke-width=\"1\" x1=\"150.784\" x2=\"105.47200000000001\" y1=\"216.576\" y2=\"178.688\" /><line fill=\"#800080\" stroke=\"#000000\" stroke-width=\"1\" x1=\"105.47200000000001\" x2=\"128.768\" y1=\"178.688\" y2=\"165.376\" /><line fill=\"#800080\" stroke=\"#000000\" stroke-width=\"1\" x1=\"128.768\" x2=\"256.0\" y1=\"165.376\" y2=\"193.28\" /><line fill=\"#800080\" stroke=\"#000000\" stroke-width=\"1\" x1=\"256.0\" x2=\"212.224\" y1=\"148.736\" y2=\"128.768\" /><line fill=\"#800080\" stroke=\"#000000\" stroke-width=\"1\" x1=\"212.224\" x2=\"256.0\" y1=\"128.768\" y2=\"108.80000000000001\" /><line fill=\"#800080\" stroke=\"#000000\" stroke-width=\"1\" x1=\"256.0\" x2=\"137.728\" y1=\"64.512\" y2=\"101.12\" /><line fill=\"#800080\" stroke=\"#000000\" stroke-width=\"1\" x1=\"137.728\" x2=\"219.648\" y1=\"101.12\" y2=\"0.0\" /><line fill=\"#800080\" stroke=\"#000000\" stroke-width=\"1\" x1=\"165.376\" x2=\"87.80799999999999\" y1=\"0.0\" y2=\"64.512\" /><line fill=\"#800080\" stroke=\"#000000\" stroke-width=\"1\" x1=\"87.80799999999999\" x2=\"87.80799999999999\" y1=\"64.512\" y2=\"107.00800000000001\" /><line fill=\"#800080\" stroke=\"#000000\" stroke-width=\"1\" x1=\"87.80799999999999\" x2=\"36.608000000000004\" y1=\"107.00800000000001\" y2=\"92.16\" /><line fill=\"#800080\" stroke=\"#000000\" stroke-width=\"1\" x1=\"36.608000000000004\" x2=\"0.0\" y1=\"92.16\" y2=\"108.80000000000001\" /><line fill=\"#800080\" stroke=\"#000000\" stroke-width=\"1\" x1=\"0.0\" x2=\"36.608000000000004\" y1=\"148.736\" y2=\"165.37599999999998\" /><line fill=\"#800080\" stroke=\"#000000\" stroke-width=\"1\" x1=\"36.608000000000004\" x2=\"87.80799999999999\" y1=\"165.37599999999998\" y2=\"150.784\" /><line fill=\"#800080\" stroke=\"#000000\" stroke-width=\"1\" x1=\"87.80799999999999\" x2=\"87.80799999999999\" y1=\"150.784\" y2=\"183.04\" /><line fill=\"#800080\" stroke=\"#000000\" stroke-width=\"1\" x1=\"87.80799999999999\" x2=\"101.12\" y1=\"183.04\" y2=\"216.576\" /><line fill=\"#800080\" stroke=\"#000000\" stroke-width=\"1\" x1=\"101.12\" x2=\"36.608000000000004\" y1=\"216.576\" y2=\"256.0\" /></svg>"
      ],
      "text/plain": [
       "<Canvas (256, 256)>"
      ]
     },
     "metadata": {},
     "output_type": "display_data"
    },
    {
     "data": {
      "image/svg+xml": [
       "<svg baseProfile=\"full\" height=\"256\" version=\"1.1\" width=\"256\" xmlns=\"http://www.w3.org/2000/svg\" xmlns:ev=\"http://www.w3.org/2001/xml-events\" xmlns:xlink=\"http://www.w3.org/1999/xlink\"><defs /><rect fill=\"#f5f5f5\" height=\"256\" stroke=\"#f5f5f5\" stroke-width=\"1\" width=\"256\" x=\"0\" y=\"0\" /><line fill=\"#800080\" stroke=\"#000000\" stroke-width=\"1\" x1=\"142.68907109591254\" x2=\"182.94623897390736\" y1=\"260.4617891708368\" y2=\"201.11449414871353\" /><line fill=\"#800080\" stroke=\"#000000\" stroke-width=\"1\" x1=\"182.94623897390736\" x2=\"126.58429971130741\" y1=\"201.11449414871353\" y2=\"183.45069810825285\" /><line fill=\"#800080\" stroke=\"#000000\" stroke-width=\"1\" x1=\"126.58429971130741\" x2=\"143.01271544904625\" y1=\"183.45069810825285\" y2=\"162.23702053108548\" /><line fill=\"#800080\" stroke=\"#000000\" stroke-width=\"1\" x1=\"143.01271544904625\" x2=\"271.23815462623776\" y1=\"162.23702053108548\" y2=\"139.32737653960532\" /><line fill=\"#800080\" stroke=\"#000000\" stroke-width=\"1\" x1=\"254.1919038149672\" x2=\"206.106730622287\" y1=\"98.17408664342256\" y2=\"96.47841007345136\" /><line fill=\"#800080\" stroke=\"#000000\" stroke-width=\"1\" x1=\"206.106730622287\" x2=\"238.90905826003498\" y1=\"96.47841007345136\" y2=\"61.27803363305185\" /><line fill=\"#800080\" stroke=\"#000000\" stroke-width=\"1\" x1=\"221.9607744074499\" x2=\"126.7009694302962\" y1=\"20.361256897191936\" y2=\"99.44337373604904\" /><line fill=\"#800080\" stroke=\"#000000\" stroke-width=\"1\" x1=\"126.7009694302962\" x2=\"163.6882320528629\" y1=\"99.44337373604904\" y2=\"-25.32875137084045\" /><line fill=\"#800080\" stroke=\"#000000\" stroke-width=\"1\" x1=\"113.54744206441035\" x2=\"66.57162807531154\" y1=\"-4.55975612952227\" y2=\"84.72554875354115\" /><line fill=\"#800080\" stroke=\"#000000\" stroke-width=\"1\" x1=\"66.57162807531154\" x2=\"82.83414321709839\" y1=\"84.72554875354115\" y2=\"123.9867333671408\" /><line fill=\"#800080\" stroke=\"#000000\" stroke-width=\"1\" x1=\"82.83414321709839\" x2=\"29.849427548763686\" y1=\"123.9867333671408\" y2=\"129.86236180550577\" /><line fill=\"#800080\" stroke=\"#000000\" stroke-width=\"1\" x1=\"29.849427548763686\" x2=\"2.3958979371456053\" y1=\"129.86236180550577\" y2=\"159.24499231851482\" /><line fill=\"#800080\" stroke=\"#000000\" stroke-width=\"1\" x1=\"17.678743492077786\" x2=\"57.86797773280608\" y1=\"196.14104532888553\" y2=\"197.50512565785215\" /><line fill=\"#800080\" stroke=\"#000000\" stroke-width=\"1\" x1=\"57.86797773280608\" x2=\"99.58649315231256\" y1=\"197.50512565785215\" y2=\"164.43048378235486\" /><line fill=\"#800080\" stroke=\"#000000\" stroke-width=\"1\" x1=\"99.58649315231256\" x2=\"111.9303299466809\" y1=\"164.43048378235486\" y2=\"194.23114198303892\" /><line fill=\"#800080\" stroke=\"#000000\" stroke-width=\"1\" x1=\"111.9303299466809\" x2=\"137.0626858712668\" y1=\"194.23114198303892\" y2=\"220.12008413369335\" /><line fill=\"#800080\" stroke=\"#000000\" stroke-width=\"1\" x1=\"137.0626858712668\" x2=\"92.54828110745999\" y1=\"220.12008413369335\" y2=\"281.230784412155\" /></svg>"
      ],
      "text/plain": [
       "<Canvas (256, 256)>"
      ]
     },
     "metadata": {},
     "output_type": "display_data"
    },
    {
     "data": {
      "image/svg+xml": [
       "<svg baseProfile=\"full\" height=\"256\" version=\"1.1\" width=\"256\" xmlns=\"http://www.w3.org/2000/svg\" xmlns:ev=\"http://www.w3.org/2001/xml-events\" xmlns:xlink=\"http://www.w3.org/1999/xlink\"><defs /><rect fill=\"#f5f5f5\" height=\"256\" stroke=\"#f5f5f5\" stroke-width=\"1\" width=\"256\" x=\"0\" y=\"0\" /><line fill=\"#800080\" stroke=\"#000000\" stroke-width=\"1\" x1=\"192.26186427423343\" x2=\"206.74341115293393\" y1=\"244.75747170952272\" y2=\"174.52196934782532\" /><line fill=\"#800080\" stroke=\"#000000\" stroke-width=\"1\" x1=\"206.74341115293393\" x2=\"147.9121269582132\" y1=\"174.52196934782532\" y2=\"179.77153009135424\" /><line fill=\"#800080\" stroke=\"#000000\" stroke-width=\"1\" x1=\"147.9121269582132\" x2=\"154.97188106157967\" y1=\"179.77153009135424\" y2=\"153.88576504567715\" /><line fill=\"#800080\" stroke=\"#000000\" stroke-width=\"1\" x1=\"154.97188106157967\" x2=\"264.6695986677359\" y1=\"153.88576504567715\" y2=\"83.65026268397975\" /><line fill=\"#800080\" stroke=\"#000000\" stroke-width=\"1\" x1=\"233.17223420656234\" x2=\"188.09841954660703\" y1=\"52.152898222806186\" y2=\"68.98769646929549\" /><line fill=\"#800080\" stroke=\"#000000\" stroke-width=\"1\" x1=\"188.09841954660703\" x2=\"204.9332177930964\" y1=\"68.98769646929549\" y2=\"23.91388180934024\" /><line fill=\"#800080\" stroke=\"#000000\" stroke-width=\"1\" x1=\"173.61687266790656\" x2=\"115.87170448908833\" y1=\"-7.402463315849559\" y2=\"102.11423495432288\" /><line fill=\"#800080\" stroke=\"#000000\" stroke-width=\"1\" x1=\"115.87170448908833\" x2=\"102.29525429030662\" y1=\"102.11423495432288\" y2=\"-27.314590274062766\" /><line fill=\"#800080\" stroke=\"#000000\" stroke-width=\"1\" x1=\"63.91915506175033\" x2=\"54.68716892657875\" y1=\"11.061508954493519\" y2=\"111.52724042547823\" /><line fill=\"#800080\" stroke=\"#000000\" stroke-width=\"1\" x1=\"54.68716892657875\" x2=\"84.73637869988227\" y1=\"111.52724042547823\" y2=\"141.57645019878174\" /><line fill=\"#800080\" stroke=\"#000000\" stroke-width=\"1\" x1=\"84.73637869988227\" x2=\"38.03339001607321\" y1=\"141.57645019878174\" y2=\"167.2811959084751\" /><line fill=\"#800080\" stroke=\"#000000\" stroke-width=\"1\" x1=\"38.03339001607321\" x2=\"23.91388180934024\" y1=\"167.2811959084751\" y2=\"204.9332177930964\" /><line fill=\"#800080\" stroke=\"#000000\" stroke-width=\"1\" x1=\"52.152898222806186\" x2=\"89.80492010742745\" y1=\"233.17223420656234\" y2=\"219.05272599982936\" /><line fill=\"#800080\" stroke=\"#000000\" stroke-width=\"1\" x1=\"89.80492010742745\" x2=\"115.6906851531046\" y1=\"219.05272599982936\" y2=\"172.53075665200402\" /><line fill=\"#800080\" stroke=\"#000000\" stroke-width=\"1\" x1=\"115.6906851531046\" x2=\"138.49912148705786\" y1=\"172.53075665200402\" y2=\"195.3391929859573\" /><line fill=\"#800080\" stroke=\"#000000\" stroke-width=\"1\" x1=\"138.49912148705786\" x2=\"171.62565997208523\" y1=\"195.3391929859573\" y2=\"209.63972052867402\" /><line fill=\"#800080\" stroke=\"#000000\" stroke-width=\"1\" x1=\"171.62565997208523\" x2=\"153.88576504567712\" y1=\"209.63972052867402\" y2=\"283.13357093807906\" /></svg>"
      ],
      "text/plain": [
       "<Canvas (256, 256)>"
      ]
     },
     "metadata": {},
     "output_type": "display_data"
    },
    {
     "data": {
      "image/svg+xml": [
       "<svg baseProfile=\"full\" height=\"256\" version=\"1.1\" width=\"256\" xmlns=\"http://www.w3.org/2000/svg\" xmlns:ev=\"http://www.w3.org/2001/xml-events\" xmlns:xlink=\"http://www.w3.org/1999/xlink\"><defs /><rect fill=\"#f5f5f5\" height=\"256\" stroke=\"#f5f5f5\" stroke-width=\"1\" width=\"256\" x=\"0\" y=\"0\" /><line fill=\"#800080\" stroke=\"#000000\" stroke-width=\"1\" x1=\"232.05137115205258\" x2=\"218.55261279472595\" y1=\"211.27788758955046\" y2=\"140.84689643643304\" /><line fill=\"#800080\" stroke=\"#000000\" stroke-width=\"1\" x1=\"218.55261279472595\" x2=\"166.20851337961136\" y1=\"140.84689643643304\" y2=\"168.21061592813592\" /><line fill=\"#800080\" stroke=\"#000000\" stroke-width=\"1\" x1=\"166.20851337961136\" x2=\"162.82482228319824\" y1=\"168.21061592813592\" y2=\"141.59363648710894\" /><line fill=\"#800080\" stroke=\"#000000\" stroke-width=\"1\" x1=\"162.82482228319824\" x2=\"237.2943352250683\" y1=\"141.59363648710894\" y2=\"34.72499430334835\" /><line fill=\"#800080\" stroke=\"#000000\" stroke-width=\"1\" x1=\"196.14104532888553\" x2=\"160.940668888486\" y1=\"17.678743492077786\" y2=\"50.48107112982578\" /><line fill=\"#800080\" stroke=\"#000000\" stroke-width=\"1\" x1=\"160.940668888486\" x2=\"159.24499231851482\" y1=\"50.48107112982578\" y2=\"2.395897937145577\" /><line fill=\"#800080\" stroke=\"#000000\" stroke-width=\"1\" x1=\"118.32821558265493\" x2=\"106.88886259614421\" y1=\"-14.552385915439515\" y2=\"108.72596924575657\" /><line fill=\"#800080\" stroke=\"#000000\" stroke-width=\"1\" x1=\"106.88886259614421\" x2=\"44.815591047951045\" y1=\"108.72596924575657\" y2=\"-5.655190738325928\" /><line fill=\"#800080\" stroke=\"#000000\" stroke-width=\"1\" x1=\"24.046595806632922\" x2=\"53.96392372630572\" y1=\"44.485599250126654\" y2=\"140.83676041669884\" /><line fill=\"#800080\" stroke=\"#000000\" stroke-width=\"1\" x1=\"53.96392372630572\" x2=\"93.22510833990538\" y1=\"140.83676041669884\" y2=\"157.0992755584857\" /><line fill=\"#800080\" stroke=\"#000000\" stroke-width=\"1\" x1=\"93.22510833990538\" x2=\"59.91395330408517\" y1=\"157.0992755584857\" y2=\"198.71982401930669\" /><line fill=\"#800080\" stroke=\"#000000\" stroke-width=\"1\" x1=\"59.91395330408517\" x2=\"61.27803363305182\" y1=\"198.71982401930669\" y2=\"238.90905826003498\" /><line fill=\"#800080\" stroke=\"#000000\" stroke-width=\"1\" x1=\"98.17408664342253\" x2=\"127.55671715643157\" y1=\"254.1919038149672\" y2=\"226.7383742033491\" /><line fill=\"#800080\" stroke=\"#000000\" stroke-width=\"1\" x1=\"127.55671715643157\" x2=\"133.66885875511946\" y1=\"226.7383742033491\" y2=\"173.85162549369986\" /><line fill=\"#800080\" stroke=\"#000000\" stroke-width=\"1\" x1=\"133.66885875511946\" x2=\"163.46951695580353\" y1=\"173.85162549369986\" y2=\"186.1954622880682\" /><line fill=\"#800080\" stroke=\"#000000\" stroke-width=\"1\" x1=\"163.46951695580353\" x2=\"199.54702280974612\" y1=\"186.1954622880682\" y2=\"186.73044953907356\" /><line fill=\"#800080\" stroke=\"#000000\" stroke-width=\"1\" x1=\"199.54702280974612\" x2=\"211.2823759107344\" y1=\"186.73044953907356\" y2=\"261.418677578003\" /></svg>"
      ],
      "text/plain": [
       "<Canvas (256, 256)>"
      ]
     },
     "metadata": {},
     "output_type": "display_data"
    },
    {
     "data": {
      "image/svg+xml": [
       "<svg baseProfile=\"full\" height=\"256\" version=\"1.1\" width=\"256\" xmlns=\"http://www.w3.org/2000/svg\" xmlns:ev=\"http://www.w3.org/2001/xml-events\" xmlns:xlink=\"http://www.w3.org/1999/xlink\"><defs /><rect fill=\"#f5f5f5\" height=\"256\" stroke=\"#f5f5f5\" stroke-width=\"1\" width=\"256\" x=\"0\" y=\"0\" /><line fill=\"#800080\" stroke=\"#000000\" stroke-width=\"1\" x1=\"256.0\" x2=\"216.576\" y1=\"165.12\" y2=\"105.21600000000001\" /><line fill=\"#800080\" stroke=\"#000000\" stroke-width=\"1\" x1=\"216.576\" x2=\"178.688\" y1=\"105.21600000000001\" y2=\"150.528\" /><line fill=\"#800080\" stroke=\"#000000\" stroke-width=\"1\" x1=\"178.688\" x2=\"165.376\" y1=\"150.528\" y2=\"127.232\" /><line fill=\"#800080\" stroke=\"#000000\" stroke-width=\"1\" x1=\"165.376\" x2=\"193.28\" y1=\"127.232\" y2=\"0.0\" /><line fill=\"#800080\" stroke=\"#000000\" stroke-width=\"1\" x1=\"148.736\" x2=\"128.768\" y1=\"0.0\" y2=\"43.77600000000001\" /><line fill=\"#800080\" stroke=\"#000000\" stroke-width=\"1\" x1=\"128.768\" x2=\"108.80000000000001\" y1=\"43.77600000000001\" y2=\"0.0\" /><line fill=\"#800080\" stroke=\"#000000\" stroke-width=\"1\" x1=\"64.512\" x2=\"101.12\" y1=\"0.0\" y2=\"118.27199999999999\" /><line fill=\"#800080\" stroke=\"#000000\" stroke-width=\"1\" x1=\"101.12\" x2=\"0.0\" y1=\"118.27199999999999\" y2=\"36.352000000000004\" /><line fill=\"#800080\" stroke=\"#000000\" stroke-width=\"1\" x1=\"0.0\" x2=\"64.512\" y1=\"90.624\" y2=\"168.192\" /><line fill=\"#800080\" stroke=\"#000000\" stroke-width=\"1\" x1=\"64.512\" x2=\"107.00800000000001\" y1=\"168.192\" y2=\"168.192\" /><line fill=\"#800080\" stroke=\"#000000\" stroke-width=\"1\" x1=\"107.00800000000001\" x2=\"92.16\" y1=\"168.192\" y2=\"219.392\" /><line fill=\"#800080\" stroke=\"#000000\" stroke-width=\"1\" x1=\"92.16\" x2=\"108.80000000000001\" y1=\"219.392\" y2=\"256.0\" /><line fill=\"#800080\" stroke=\"#000000\" stroke-width=\"1\" x1=\"148.736\" x2=\"165.376\" y1=\"256.0\" y2=\"219.392\" /><line fill=\"#800080\" stroke=\"#000000\" stroke-width=\"1\" x1=\"165.376\" x2=\"150.784\" y1=\"219.392\" y2=\"168.192\" /><line fill=\"#800080\" stroke=\"#000000\" stroke-width=\"1\" x1=\"150.784\" x2=\"183.04000000000002\" y1=\"168.192\" y2=\"168.192\" /><line fill=\"#800080\" stroke=\"#000000\" stroke-width=\"1\" x1=\"183.04000000000002\" x2=\"216.576\" y1=\"168.192\" y2=\"154.88\" /><line fill=\"#800080\" stroke=\"#000000\" stroke-width=\"1\" x1=\"216.576\" x2=\"256.0\" y1=\"154.88\" y2=\"219.392\" /></svg>"
      ],
      "text/plain": [
       "<Canvas (256, 256)>"
      ]
     },
     "metadata": {},
     "output_type": "display_data"
    },
    {
     "data": {
      "image/svg+xml": [
       "<svg baseProfile=\"full\" height=\"256\" version=\"1.1\" width=\"256\" xmlns=\"http://www.w3.org/2000/svg\" xmlns:ev=\"http://www.w3.org/2001/xml-events\" xmlns:xlink=\"http://www.w3.org/1999/xlink\"><defs /><rect fill=\"#f5f5f5\" height=\"256\" stroke=\"#f5f5f5\" stroke-width=\"1\" width=\"256\" x=\"0\" y=\"0\" /><line fill=\"#800080\" stroke=\"#000000\" stroke-width=\"1\" x1=\"260.4617891708369\" x2=\"201.11449414871356\" y1=\"113.31092890408749\" y2=\"73.05376102609264\" /><line fill=\"#800080\" stroke=\"#000000\" stroke-width=\"1\" x1=\"201.11449414871356\" x2=\"183.45069810825285\" y1=\"73.05376102609264\" y2=\"129.4157002886926\" /><line fill=\"#800080\" stroke=\"#000000\" stroke-width=\"1\" x1=\"183.45069810825285\" x2=\"162.23702053108548\" y1=\"129.4157002886926\" y2=\"112.98728455095375\" /><line fill=\"#800080\" stroke=\"#000000\" stroke-width=\"1\" x1=\"162.23702053108548\" x2=\"139.32737653960535\" y1=\"112.98728455095375\" y2=\"-15.238154626237758\" /><line fill=\"#800080\" stroke=\"#000000\" stroke-width=\"1\" x1=\"98.17408664342258\" x2=\"96.47841007345136\" y1=\"1.808096185032781\" y2=\"49.89326937771298\" /><line fill=\"#800080\" stroke=\"#000000\" stroke-width=\"1\" x1=\"96.47841007345136\" x2=\"61.27803363305182\" y1=\"49.89326937771298\" y2=\"17.09094173996499\" /><line fill=\"#800080\" stroke=\"#000000\" stroke-width=\"1\" x1=\"20.361256897191936\" x2=\"99.44337373604904\" y1=\"34.03922559255011\" y2=\"129.2990305697038\" /><line fill=\"#800080\" stroke=\"#000000\" stroke-width=\"1\" x1=\"99.44337373604904\" x2=\"-25.32875137084045\" y1=\"129.2990305697038\" y2=\"92.31176794713707\" /><line fill=\"#800080\" stroke=\"#000000\" stroke-width=\"1\" x1=\"-4.559756129522327\" x2=\"84.72554875354109\" y1=\"142.45255793558962\" y2=\"189.42837192468846\" /><line fill=\"#800080\" stroke=\"#000000\" stroke-width=\"1\" x1=\"84.72554875354109\" x2=\"123.98673336714074\" y1=\"189.42837192468846\" y2=\"173.16585678290159\" /><line fill=\"#800080\" stroke=\"#000000\" stroke-width=\"1\" x1=\"123.98673336714074\" x2=\"129.86236180550574\" y1=\"173.16585678290159\" y2=\"226.15057245123637\" /><line fill=\"#800080\" stroke=\"#000000\" stroke-width=\"1\" x1=\"129.86236180550574\" x2=\"159.24499231851476\" y1=\"226.15057245123637\" y2=\"253.60410206285445\" /><line fill=\"#800080\" stroke=\"#000000\" stroke-width=\"1\" x1=\"196.14104532888553\" x2=\"197.50512565785215\" y1=\"238.32125650792221\" y2=\"198.13202226719392\" /><line fill=\"#800080\" stroke=\"#000000\" stroke-width=\"1\" x1=\"197.50512565785215\" x2=\"164.43048378235486\" y1=\"198.13202226719392\" y2=\"156.41350684768742\" /><line fill=\"#800080\" stroke=\"#000000\" stroke-width=\"1\" x1=\"164.43048378235486\" x2=\"194.23114198303892\" y1=\"156.41350684768742\" y2=\"144.0696700533191\" /><line fill=\"#800080\" stroke=\"#000000\" stroke-width=\"1\" x1=\"194.23114198303892\" x2=\"220.12008413369335\" y1=\"144.0696700533191\" y2=\"118.93731412873319\" /><line fill=\"#800080\" stroke=\"#000000\" stroke-width=\"1\" x1=\"220.12008413369335\" x2=\"281.230784412155\" y1=\"118.93731412873319\" y2=\"163.45171889254004\" /></svg>"
      ],
      "text/plain": [
       "<Canvas (256, 256)>"
      ]
     },
     "metadata": {},
     "output_type": "display_data"
    },
    {
     "data": {
      "image/svg+xml": [
       "<svg baseProfile=\"full\" height=\"256\" version=\"1.1\" width=\"256\" xmlns=\"http://www.w3.org/2000/svg\" xmlns:ev=\"http://www.w3.org/2001/xml-events\" xmlns:xlink=\"http://www.w3.org/1999/xlink\"><defs /><rect fill=\"#f5f5f5\" height=\"256\" stroke=\"#f5f5f5\" stroke-width=\"1\" width=\"256\" x=\"0\" y=\"0\" /><line fill=\"#800080\" stroke=\"#000000\" stroke-width=\"1\" x1=\"244.75747170952275\" x2=\"174.52196934782535\" y1=\"63.7381357257666\" y2=\"49.25658884706607\" /><line fill=\"#800080\" stroke=\"#000000\" stroke-width=\"1\" x1=\"174.52196934782535\" x2=\"179.77153009135424\" y1=\"49.25658884706607\" y2=\"108.08787304178682\" /><line fill=\"#800080\" stroke=\"#000000\" stroke-width=\"1\" x1=\"179.77153009135424\" x2=\"153.88576504567712\" y1=\"108.08787304178682\" y2=\"101.02811893842033\" /><line fill=\"#800080\" stroke=\"#000000\" stroke-width=\"1\" x1=\"153.88576504567712\" x2=\"83.65026268397976\" y1=\"101.02811893842033\" y2=\"-8.669598667735897\" /><line fill=\"#800080\" stroke=\"#000000\" stroke-width=\"1\" x1=\"52.152898222806186\" x2=\"68.9876964692955\" y1=\"22.827765793437663\" y2=\"67.90158045339294\" /><line fill=\"#800080\" stroke=\"#000000\" stroke-width=\"1\" x1=\"68.9876964692955\" x2=\"23.91388180934021\" y1=\"67.90158045339294\" y2=\"51.06678220690361\" /><line fill=\"#800080\" stroke=\"#000000\" stroke-width=\"1\" x1=\"-7.402463315849616\" x2=\"102.11423495432287\" y1=\"82.38312733209344\" y2=\"140.12829551091167\" /><line fill=\"#800080\" stroke=\"#000000\" stroke-width=\"1\" x1=\"102.11423495432287\" x2=\"-27.314590274062823\" y1=\"140.12829551091167\" y2=\"153.70474570969336\" /><line fill=\"#800080\" stroke=\"#000000\" stroke-width=\"1\" x1=\"11.06150895449349\" x2=\"111.52724042547815\" y1=\"192.08084493824964\" y2=\"201.31283107342125\" /><line fill=\"#800080\" stroke=\"#000000\" stroke-width=\"1\" x1=\"111.52724042547815\" x2=\"141.57645019878169\" y1=\"201.31283107342125\" y2=\"171.26362130011773\" /><line fill=\"#800080\" stroke=\"#000000\" stroke-width=\"1\" x1=\"141.57645019878169\" x2=\"167.28119590847507\" y1=\"171.26362130011773\" y2=\"217.9666099839268\" /><line fill=\"#800080\" stroke=\"#000000\" stroke-width=\"1\" x1=\"167.28119590847507\" x2=\"204.93321779309633\" y1=\"217.9666099839268\" y2=\"232.08611819065982\" /><line fill=\"#800080\" stroke=\"#000000\" stroke-width=\"1\" x1=\"233.1722342065623\" x2=\"219.05272599982933\" y1=\"203.84710177719387\" y2=\"166.19507989257255\" /><line fill=\"#800080\" stroke=\"#000000\" stroke-width=\"1\" x1=\"219.05272599982933\" x2=\"172.53075665200402\" y1=\"166.19507989257255\" y2=\"140.3093148468954\" /><line fill=\"#800080\" stroke=\"#000000\" stroke-width=\"1\" x1=\"172.53075665200402\" x2=\"195.33919298595728\" y1=\"140.3093148468954\" y2=\"117.50087851294217\" /><line fill=\"#800080\" stroke=\"#000000\" stroke-width=\"1\" x1=\"195.33919298595728\" x2=\"209.63972052867405\" y1=\"117.50087851294217\" y2=\"84.37434002791477\" /><line fill=\"#800080\" stroke=\"#000000\" stroke-width=\"1\" x1=\"209.63972052867405\" x2=\"283.13357093807906\" y1=\"84.37434002791477\" y2=\"102.11423495432288\" /></svg>"
      ],
      "text/plain": [
       "<Canvas (256, 256)>"
      ]
     },
     "metadata": {},
     "output_type": "display_data"
    },
    {
     "data": {
      "image/svg+xml": [
       "<svg baseProfile=\"full\" height=\"256\" version=\"1.1\" width=\"256\" xmlns=\"http://www.w3.org/2000/svg\" xmlns:ev=\"http://www.w3.org/2001/xml-events\" xmlns:xlink=\"http://www.w3.org/1999/xlink\"><defs /><rect fill=\"#f5f5f5\" height=\"256\" stroke=\"#f5f5f5\" stroke-width=\"1\" width=\"256\" x=\"0\" y=\"0\" /><line fill=\"#800080\" stroke=\"#000000\" stroke-width=\"1\" x1=\"211.2778875895505\" x2=\"140.84689643643307\" y1=\"23.948628847947475\" y2=\"37.44738720527408\" /><line fill=\"#800080\" stroke=\"#000000\" stroke-width=\"1\" x1=\"140.84689643643307\" x2=\"168.21061592813592\" y1=\"37.44738720527408\" y2=\"89.79148662038864\" /><line fill=\"#800080\" stroke=\"#000000\" stroke-width=\"1\" x1=\"168.21061592813592\" x2=\"141.59363648710894\" y1=\"89.79148662038864\" y2=\"93.17517771680176\" /><line fill=\"#800080\" stroke=\"#000000\" stroke-width=\"1\" x1=\"141.59363648710894\" x2=\"34.724994303348424\" y1=\"93.17517771680176\" y2=\"18.705664774931677\" /><line fill=\"#800080\" stroke=\"#000000\" stroke-width=\"1\" x1=\"17.678743492077842\" x2=\"50.48107112982579\" y1=\"59.85895467111442\" y2=\"95.05933111151398\" /><line fill=\"#800080\" stroke=\"#000000\" stroke-width=\"1\" x1=\"50.48107112982579\" x2=\"2.395897937145598\" y1=\"95.05933111151398\" y2=\"96.75500768148515\" /><line fill=\"#800080\" stroke=\"#000000\" stroke-width=\"1\" x1=\"-14.55238591543953\" x2=\"108.72596924575657\" y1=\"137.671784417345\" y2=\"149.11113740385576\" /><line fill=\"#800080\" stroke=\"#000000\" stroke-width=\"1\" x1=\"108.72596924575657\" x2=\"-5.655190738325956\" y1=\"149.11113740385576\" y2=\"211.18440895204887\" /><line fill=\"#800080\" stroke=\"#000000\" stroke-width=\"1\" x1=\"44.48559925012658\" x2=\"140.83676041669878\" y1=\"231.95340419336708\" y2=\"202.03607627369428\" /><line fill=\"#800080\" stroke=\"#000000\" stroke-width=\"1\" x1=\"140.83676041669878\" x2=\"157.09927555848566\" y1=\"202.03607627369428\" y2=\"162.77489166009462\" /><line fill=\"#800080\" stroke=\"#000000\" stroke-width=\"1\" x1=\"157.09927555848566\" x2=\"198.71982401930663\" y1=\"162.77489166009462\" y2=\"196.08604669591483\" /><line fill=\"#800080\" stroke=\"#000000\" stroke-width=\"1\" x1=\"198.71982401930663\" x2=\"238.90905826003493\" y1=\"196.08604669591483\" y2=\"194.72196636694824\" /><line fill=\"#800080\" stroke=\"#000000\" stroke-width=\"1\" x1=\"254.19190381496716\" x2=\"226.73837420334908\" y1=\"157.8259133565775\" y2=\"128.44328284356845\" /><line fill=\"#800080\" stroke=\"#000000\" stroke-width=\"1\" x1=\"226.73837420334908\" x2=\"173.85162549369983\" y1=\"128.44328284356845\" y2=\"122.33114124488054\" /><line fill=\"#800080\" stroke=\"#000000\" stroke-width=\"1\" x1=\"173.85162549369983\" x2=\"186.1954622880682\" y1=\"122.33114124488054\" y2=\"92.5304830441965\" /><line fill=\"#800080\" stroke=\"#000000\" stroke-width=\"1\" x1=\"186.1954622880682\" x2=\"186.7304495390736\" y1=\"92.5304830441965\" y2=\"56.45297719025393\" /><line fill=\"#800080\" stroke=\"#000000\" stroke-width=\"1\" x1=\"186.7304495390736\" x2=\"261.418677578003\" y1=\"56.45297719025393\" y2=\"44.717624089265655\" /></svg>"
      ],
      "text/plain": [
       "<Canvas (256, 256)>"
      ]
     },
     "metadata": {},
     "output_type": "display_data"
    },
    {
     "data": {
      "image/svg+xml": [
       "<svg baseProfile=\"full\" height=\"256\" version=\"1.1\" width=\"256\" xmlns=\"http://www.w3.org/2000/svg\" xmlns:ev=\"http://www.w3.org/2001/xml-events\" xmlns:xlink=\"http://www.w3.org/1999/xlink\"><defs /><rect fill=\"#f5f5f5\" height=\"256\" stroke=\"#f5f5f5\" stroke-width=\"1\" width=\"256\" x=\"0\" y=\"0\" /><line fill=\"#800080\" stroke=\"#000000\" stroke-width=\"1\" x1=\"165.12\" x2=\"105.216\" y1=\"2.842170943040401e-14\" y2=\"39.42400000000001\" /><line fill=\"#800080\" stroke=\"#000000\" stroke-width=\"1\" x1=\"105.216\" x2=\"150.52799999999996\" y1=\"39.42400000000001\" y2=\"77.31200000000001\" /><line fill=\"#800080\" stroke=\"#000000\" stroke-width=\"1\" x1=\"150.52799999999996\" x2=\"127.232\" y1=\"77.31200000000001\" y2=\"90.624\" /><line fill=\"#800080\" stroke=\"#000000\" stroke-width=\"1\" x1=\"127.232\" x2=\"1.4495071809506044e-14\" y1=\"90.624\" y2=\"62.72\" /><line fill=\"#800080\" stroke=\"#000000\" stroke-width=\"1\" x1=\"4.60431692772545e-15\" x2=\"43.775999999999996\" y1=\"107.26399999999998\" y2=\"127.23199999999997\" /><line fill=\"#800080\" stroke=\"#000000\" stroke-width=\"1\" x1=\"43.775999999999996\" x2=\"-4.2632564145605986e-15\" y1=\"127.23199999999997\" y2=\"147.19999999999996\" /><line fill=\"#800080\" stroke=\"#000000\" stroke-width=\"1\" x1=\"-1.4097167877480388e-14\" x2=\"118.27199999999999\" y1=\"191.48799999999997\" y2=\"154.87999999999997\" /><line fill=\"#800080\" stroke=\"#000000\" stroke-width=\"1\" x1=\"118.27199999999999\" x2=\"36.35199999999996\" y1=\"154.87999999999997\" y2=\"255.99999999999997\" /><line fill=\"#800080\" stroke=\"#000000\" stroke-width=\"1\" x1=\"90.62399999999995\" x2=\"168.19199999999998\" y1=\"255.99999999999997\" y2=\"191.488\" /><line fill=\"#800080\" stroke=\"#000000\" stroke-width=\"1\" x1=\"168.19199999999998\" x2=\"168.19199999999998\" y1=\"191.488\" y2=\"148.992\" /><line fill=\"#800080\" stroke=\"#000000\" stroke-width=\"1\" x1=\"168.19199999999998\" x2=\"219.39199999999997\" y1=\"148.992\" y2=\"163.84\" /><line fill=\"#800080\" stroke=\"#000000\" stroke-width=\"1\" x1=\"219.39199999999997\" x2=\"255.99999999999997\" y1=\"163.84\" y2=\"147.2\" /><line fill=\"#800080\" stroke=\"#000000\" stroke-width=\"1\" x1=\"255.99999999999997\" x2=\"219.39199999999997\" y1=\"107.26400000000001\" y2=\"90.62400000000002\" /><line fill=\"#800080\" stroke=\"#000000\" stroke-width=\"1\" x1=\"219.39199999999997\" x2=\"168.19199999999998\" y1=\"90.62400000000002\" y2=\"105.21600000000001\" /><line fill=\"#800080\" stroke=\"#000000\" stroke-width=\"1\" x1=\"168.19199999999998\" x2=\"168.19199999999998\" y1=\"105.21600000000001\" y2=\"72.95999999999998\" /><line fill=\"#800080\" stroke=\"#000000\" stroke-width=\"1\" x1=\"168.19199999999998\" x2=\"154.88\" y1=\"72.95999999999998\" y2=\"39.42400000000001\" /><line fill=\"#800080\" stroke=\"#000000\" stroke-width=\"1\" x1=\"154.88\" x2=\"219.392\" y1=\"39.42400000000001\" y2=\"2.842170943040401e-14\" /></svg>"
      ],
      "text/plain": [
       "<Canvas (256, 256)>"
      ]
     },
     "metadata": {},
     "output_type": "display_data"
    },
    {
     "data": {
      "image/svg+xml": [
       "<svg baseProfile=\"full\" height=\"256\" version=\"1.1\" width=\"256\" xmlns=\"http://www.w3.org/2000/svg\" xmlns:ev=\"http://www.w3.org/2001/xml-events\" xmlns:xlink=\"http://www.w3.org/1999/xlink\"><defs /><rect fill=\"#f5f5f5\" height=\"256\" stroke=\"#f5f5f5\" stroke-width=\"1\" width=\"256\" x=\"0\" y=\"0\" /><line fill=\"#800080\" stroke=\"#000000\" stroke-width=\"1\" x1=\"113.31092890408743\" x2=\"73.05376102609263\" y1=\"-4.461789170836823\" y2=\"54.885505851286496\" /><line fill=\"#800080\" stroke=\"#000000\" stroke-width=\"1\" x1=\"73.05376102609263\" x2=\"129.41570028869256\" y1=\"54.885505851286496\" y2=\"72.54930189174718\" /><line fill=\"#800080\" stroke=\"#000000\" stroke-width=\"1\" x1=\"129.41570028869256\" x2=\"112.98728455095372\" y1=\"72.54930189174718\" y2=\"93.76297946891455\" /><line fill=\"#800080\" stroke=\"#000000\" stroke-width=\"1\" x1=\"112.98728455095372\" x2=\"-15.238154626237755\" y1=\"93.76297946891455\" y2=\"116.67262346039473\" /><line fill=\"#800080\" stroke=\"#000000\" stroke-width=\"1\" x1=\"1.8080961850328165\" x2=\"49.89326937771301\" y1=\"157.82591335657747\" y2=\"159.52158992654867\" /><line fill=\"#800080\" stroke=\"#000000\" stroke-width=\"1\" x1=\"49.89326937771301\" x2=\"17.090941739965054\" y1=\"159.52158992654867\" y2=\"194.7219663669482\" /><line fill=\"#800080\" stroke=\"#000000\" stroke-width=\"1\" x1=\"34.03922559255017\" x2=\"129.29903056970383\" y1=\"235.6387431028081\" y2=\"156.55662626395096\" /><line fill=\"#800080\" stroke=\"#000000\" stroke-width=\"1\" x1=\"129.29903056970383\" x2=\"92.31176794713713\" y1=\"156.55662626395096\" y2=\"281.32875137084045\" /><line fill=\"#800080\" stroke=\"#000000\" stroke-width=\"1\" x1=\"142.45255793558968\" x2=\"189.42837192468846\" y1=\"260.55975612952227\" y2=\"171.27445124645885\" /><line fill=\"#800080\" stroke=\"#000000\" stroke-width=\"1\" x1=\"189.42837192468846\" x2=\"173.16585678290159\" y1=\"171.27445124645885\" y2=\"132.0132666328592\" /><line fill=\"#800080\" stroke=\"#000000\" stroke-width=\"1\" x1=\"173.16585678290159\" x2=\"226.15057245123631\" y1=\"132.0132666328592\" y2=\"126.13763819449417\" /><line fill=\"#800080\" stroke=\"#000000\" stroke-width=\"1\" x1=\"226.15057245123631\" x2=\"253.6041020628544\" y1=\"126.13763819449417\" y2=\"96.75500768148515\" /><line fill=\"#800080\" stroke=\"#000000\" stroke-width=\"1\" x1=\"238.32125650792216\" x2=\"198.13202226719386\" y1=\"59.85895467111442\" y2=\"58.49487434214785\" /><line fill=\"#800080\" stroke=\"#000000\" stroke-width=\"1\" x1=\"198.13202226719386\" x2=\"156.41350684768742\" y1=\"58.49487434214785\" y2=\"91.56951621764514\" /><line fill=\"#800080\" stroke=\"#000000\" stroke-width=\"1\" x1=\"156.41350684768742\" x2=\"144.06967005331907\" y1=\"91.56951621764514\" y2=\"61.768858016961076\" /><line fill=\"#800080\" stroke=\"#000000\" stroke-width=\"1\" x1=\"144.06967005331907\" x2=\"118.93731412873316\" y1=\"61.768858016961076\" y2=\"35.879915866306646\" /><line fill=\"#800080\" stroke=\"#000000\" stroke-width=\"1\" x1=\"118.93731412873316\" x2=\"163.45171889253996\" y1=\"35.879915866306646\" y2=\"-25.230784412155003\" /></svg>"
      ],
      "text/plain": [
       "<Canvas (256, 256)>"
      ]
     },
     "metadata": {},
     "output_type": "display_data"
    },
    {
     "data": {
      "image/svg+xml": [
       "<svg baseProfile=\"full\" height=\"256\" version=\"1.1\" width=\"256\" xmlns=\"http://www.w3.org/2000/svg\" xmlns:ev=\"http://www.w3.org/2001/xml-events\" xmlns:xlink=\"http://www.w3.org/1999/xlink\"><defs /><rect fill=\"#f5f5f5\" height=\"256\" stroke=\"#f5f5f5\" stroke-width=\"1\" width=\"256\" x=\"0\" y=\"0\" /><line fill=\"#800080\" stroke=\"#000000\" stroke-width=\"1\" x1=\"63.73813572576658\" x2=\"49.25658884706607\" y1=\"11.242528290477253\" y2=\"81.47803065217465\" /><line fill=\"#800080\" stroke=\"#000000\" stroke-width=\"1\" x1=\"49.25658884706607\" x2=\"108.08787304178682\" y1=\"81.47803065217465\" y2=\"76.22846990864576\" /><line fill=\"#800080\" stroke=\"#000000\" stroke-width=\"1\" x1=\"108.08787304178682\" x2=\"101.0281189384203\" y1=\"76.22846990864576\" y2=\"102.11423495432288\" /><line fill=\"#800080\" stroke=\"#000000\" stroke-width=\"1\" x1=\"101.0281189384203\" x2=\"-8.669598667735926\" y1=\"102.11423495432288\" y2=\"172.34973731602025\" /><line fill=\"#800080\" stroke=\"#000000\" stroke-width=\"1\" x1=\"22.82776579343765\" x2=\"67.90158045339294\" y1=\"203.8471017771938\" y2=\"187.01230353070451\" /><line fill=\"#800080\" stroke=\"#000000\" stroke-width=\"1\" x1=\"67.90158045339294\" x2=\"51.066782206903596\" y1=\"187.01230353070451\" y2=\"232.0861181906598\" /><line fill=\"#800080\" stroke=\"#000000\" stroke-width=\"1\" x1=\"82.38312733209341\" x2=\"140.12829551091167\" y1=\"263.4024633158496\" y2=\"153.88576504567715\" /><line fill=\"#800080\" stroke=\"#000000\" stroke-width=\"1\" x1=\"140.12829551091167\" x2=\"153.70474570969336\" y1=\"153.88576504567715\" y2=\"283.3145902740628\" /><line fill=\"#800080\" stroke=\"#000000\" stroke-width=\"1\" x1=\"192.08084493824967\" x2=\"201.31283107342122\" y1=\"244.9384910455065\" y2=\"144.47275957452183\" /><line fill=\"#800080\" stroke=\"#000000\" stroke-width=\"1\" x1=\"201.31283107342122\" x2=\"171.2636213001177\" y1=\"144.47275957452183\" y2=\"114.42354980121831\" /><line fill=\"#800080\" stroke=\"#000000\" stroke-width=\"1\" x1=\"171.2636213001177\" x2=\"217.96660998392682\" y1=\"114.42354980121831\" y2=\"88.71880409152493\" /><line fill=\"#800080\" stroke=\"#000000\" stroke-width=\"1\" x1=\"217.96660998392682\" x2=\"232.0861181906598\" y1=\"88.71880409152493\" y2=\"51.06678220690367\" /><line fill=\"#800080\" stroke=\"#000000\" stroke-width=\"1\" x1=\"203.84710177719384\" x2=\"166.19507989257255\" y1=\"22.827765793437692\" y2=\"36.947274000170665\" /><line fill=\"#800080\" stroke=\"#000000\" stroke-width=\"1\" x1=\"166.19507989257255\" x2=\"140.30931484689543\" y1=\"36.947274000170665\" y2=\"83.46924334799598\" /><line fill=\"#800080\" stroke=\"#000000\" stroke-width=\"1\" x1=\"140.30931484689543\" x2=\"117.50087851294214\" y1=\"83.46924334799598\" y2=\"60.66080701404272\" /><line fill=\"#800080\" stroke=\"#000000\" stroke-width=\"1\" x1=\"117.50087851294214\" x2=\"84.37434002791477\" y1=\"60.66080701404272\" y2=\"46.36027947132595\" /><line fill=\"#800080\" stroke=\"#000000\" stroke-width=\"1\" x1=\"84.37434002791477\" x2=\"102.11423495432288\" y1=\"46.36027947132595\" y2=\"-27.13357093807906\" /></svg>"
      ],
      "text/plain": [
       "<Canvas (256, 256)>"
      ]
     },
     "metadata": {},
     "output_type": "display_data"
    },
    {
     "data": {
      "image/svg+xml": [
       "<svg baseProfile=\"full\" height=\"256\" version=\"1.1\" width=\"256\" xmlns=\"http://www.w3.org/2000/svg\" xmlns:ev=\"http://www.w3.org/2001/xml-events\" xmlns:xlink=\"http://www.w3.org/1999/xlink\"><defs /><rect fill=\"#f5f5f5\" height=\"256\" stroke=\"#f5f5f5\" stroke-width=\"1\" width=\"256\" x=\"0\" y=\"0\" /><line fill=\"#800080\" stroke=\"#000000\" stroke-width=\"1\" x1=\"23.948628847947475\" x2=\"37.447387205274055\" y1=\"44.72211241044948\" y2=\"115.1531035635669\" /><line fill=\"#800080\" stroke=\"#000000\" stroke-width=\"1\" x1=\"37.447387205274055\" x2=\"89.79148662038864\" y1=\"115.1531035635669\" y2=\"87.78938407186405\" /><line fill=\"#800080\" stroke=\"#000000\" stroke-width=\"1\" x1=\"89.79148662038864\" x2=\"93.17517771680176\" y1=\"87.78938407186405\" y2=\"114.40636351289106\" /><line fill=\"#800080\" stroke=\"#000000\" stroke-width=\"1\" x1=\"93.17517771680176\" x2=\"18.705664774931634\" y1=\"114.40636351289106\" y2=\"221.2750056966516\" /><line fill=\"#800080\" stroke=\"#000000\" stroke-width=\"1\" x1=\"59.858954671114375\" x2=\"95.05933111151396\" y1=\"238.32125650792216\" y2=\"205.5189288701742\" /><line fill=\"#800080\" stroke=\"#000000\" stroke-width=\"1\" x1=\"95.05933111151396\" x2=\"96.7550076814851\" y1=\"205.5189288701742\" y2=\"253.60410206285442\" /><line fill=\"#800080\" stroke=\"#000000\" stroke-width=\"1\" x1=\"137.67178441734498\" x2=\"149.11113740385576\" y1=\"270.5523859154396\" y2=\"147.27403075424343\" /><line fill=\"#800080\" stroke=\"#000000\" stroke-width=\"1\" x1=\"149.11113740385576\" x2=\"211.18440895204887\" y1=\"147.27403075424343\" y2=\"261.655190738326\" /><line fill=\"#800080\" stroke=\"#000000\" stroke-width=\"1\" x1=\"231.95340419336702\" x2=\"202.03607627369428\" y1=\"211.51440074987343\" y2=\"115.16323958330125\" /><line fill=\"#800080\" stroke=\"#000000\" stroke-width=\"1\" x1=\"202.03607627369428\" x2=\"162.77489166009462\" y1=\"115.16323958330125\" y2=\"98.90072444151434\" /><line fill=\"#800080\" stroke=\"#000000\" stroke-width=\"1\" x1=\"162.77489166009462\" x2=\"196.08604669591483\" y1=\"98.90072444151434\" y2=\"57.28017598069334\" /><line fill=\"#800080\" stroke=\"#000000\" stroke-width=\"1\" x1=\"196.08604669591483\" x2=\"194.72196636694827\" y1=\"57.28017598069334\" y2=\"17.090941739965047\" /><line fill=\"#800080\" stroke=\"#000000\" stroke-width=\"1\" x1=\"157.82591335657753\" x2=\"128.4432828435685\" y1=\"1.8080961850328094\" y2=\"29.26162579665089\" /><line fill=\"#800080\" stroke=\"#000000\" stroke-width=\"1\" x1=\"128.4432828435685\" x2=\"122.33114124488054\" y1=\"29.26162579665089\" y2=\"82.14837450630017\" /><line fill=\"#800080\" stroke=\"#000000\" stroke-width=\"1\" x1=\"122.33114124488054\" x2=\"92.5304830441965\" y1=\"82.14837450630017\" y2=\"69.8045377119318\" /><line fill=\"#800080\" stroke=\"#000000\" stroke-width=\"1\" x1=\"92.5304830441965\" x2=\"56.452977190253904\" y1=\"69.8045377119318\" y2=\"69.26955046092638\" /><line fill=\"#800080\" stroke=\"#000000\" stroke-width=\"1\" x1=\"56.452977190253904\" x2=\"44.71762408926567\" y1=\"69.26955046092638\" y2=\"-5.418677578003042\" /></svg>"
      ],
      "text/plain": [
       "<Canvas (256, 256)>"
      ]
     },
     "metadata": {},
     "output_type": "display_data"
    }
   ],
   "source": [
    "(for-each\n",
    " (lambda (r)(rotate (* (/ (* 2 pi) 16) r) wave))\n",
    " '(0 1 2 3 4 5 6 7 8 9 10 11 12 13 14 15))"
   ]
  },
  {
   "cell_type": "code",
   "execution_count": null,
   "metadata": {},
   "outputs": [],
   "source": []
  }
 ],
 "metadata": {
  "kernelspec": {
   "display_name": "Calysto Scheme 3",
   "language": "scheme",
   "name": "calysto_scheme"
  },
  "language_info": {
   "codemirror_mode": {
    "name": "scheme"
   },
   "mimetype": "text/x-scheme",
   "name": "scheme",
   "pygments_lexer": "scheme"
  }
 },
 "nbformat": 4,
 "nbformat_minor": 4
}
