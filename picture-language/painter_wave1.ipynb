{
 "cells": [
  {
   "cell_type": "code",
   "execution_count": 90,
   "metadata": {},
   "outputs": [],
   "source": [
    ";\n",
    "(define (frame-coord-map frame)\n",
    "  (lambda (v)\n",
    "    (add-vect\n",
    "     (origin-frame frame)\n",
    "     (add-vect (scale-vect (xcor-vect v)\n",
    "                           (edge1-frame frame))\n",
    "               (scale-vect (ycor-vect v)\n",
    "                           (edge2-frame frame))))))\n",
    "\n",
    "; ベクトルコンストラクタ・セレクタ\n",
    "(define (make-vect x y) (cons x y))\n",
    "(define (xcor-vect v)(car v))\n",
    "(define (ycor-vect v)(cdr v))\n",
    "\n",
    "; ベクトル演算\n",
    "(define (add-vect v1 v2)\n",
    "  (make-vect (+ (xcor-vect v1)\n",
    "                (xcor-vect v2))\n",
    "             (+ (ycor-vect v1)\n",
    "                (ycor-vect v2))))\n",
    "(define (sub-vect v1 v2)\n",
    "  (make-vect (- (xcor-vect v1)\n",
    "                (xcor-vect v2))\n",
    "             (- (ycor-vect v1)\n",
    "                (ycor-vect v2))))\n",
    "\n",
    "; ベクトル演算\n",
    "(define (scale-vect s v)\n",
    "  (make-vect (* s (xcor-vect v))\n",
    "             (* s (ycor-vect v))))\n",
    "\n",
    "; フレームコンストラクタ・セレクタ\n",
    "(define (make-frame origin edge1 edge2)(list origin edge1 edge2))\n",
    "(define (origin-frame frame)(car frame))\n",
    "(define (edge1-frame frame)(cadr frame))\n",
    "(define (edge2-frame frame)(caddr frame))\n",
    "\n",
    "; 線分コンストラクタ・セレクタ\n",
    "(define (make-segment v1 v2)(cons v1 v2))\n",
    "(define (start-segment seg)(car seg))\n",
    "(define (end-segment seg)(cdr seg))\n",
    "\n",
    "; ペインタ\n",
    "(define (segments->painter segment-list)\n",
    "  (lambda (frame)\n",
    "    (for-each\n",
    "     (lambda (segment)\n",
    "       (draw-line\n",
    "        ((frame-coord-map frame) (start-segment segment))\n",
    "        ((frame-coord-map frame) (end-segment segment))))\n",
    "     segment-list)))\n",
    "\n",
    "\n",
    ";\n",
    "(define (make-segment-list vect-list)\n",
    "  (map\n",
    "   (lambda (x)\n",
    "     (make-segment (car x) (cadr x)))\n",
    "   vect-list))\n",
    "\n",
    "; waveペインタ\n",
    "(define wave\n",
    "  (lambda (frame)\n",
    "    ((segments->painter\n",
    "      (list (make-segment (make-vect 0.000 0.645) (make-vect 0.154 0.411))\n",
    "            (make-segment (make-vect 0.154 0.411) (make-vect 0.302 0.588))\n",
    "            (make-segment (make-vect 0.302 0.588) (make-vect 0.354 0.497))\n",
    "            (make-segment (make-vect 0.354 0.497) (make-vect 0.245 0.000))\n",
    "            (make-segment (make-vect 0.419 0.000) (make-vect 0.497 0.171))\n",
    "            (make-segment (make-vect 0.497 0.171) (make-vect 0.575 0.000))\n",
    "            (make-segment (make-vect 0.748 0.000) (make-vect 0.605 0.462))\n",
    "            (make-segment (make-vect 0.605 0.462) (make-vect 1.000 0.142))\n",
    "            (make-segment (make-vect 1.000 0.354) (make-vect 0.748 0.657))\n",
    "            (make-segment (make-vect 0.748 0.657) (make-vect 0.582 0.657))\n",
    "            (make-segment (make-vect 0.582 0.657) (make-vect 0.640 0.857))\n",
    "            (make-segment (make-vect 0.640 0.857) (make-vect 0.575 1.000))\n",
    "            (make-segment (make-vect 0.419 1.000) (make-vect 0.354 0.857))\n",
    "            (make-segment (make-vect 0.354 0.857) (make-vect 0.411 0.657))\n",
    "            (make-segment (make-vect 0.411 0.657) (make-vect 0.285 0.657))\n",
    "            (make-segment (make-vect 0.285 0.657) (make-vect 0.154 0.605))\n",
    "            (make-segment (make-vect 0.154 0.605) (make-vect 0.000 0.857)))) frame)))\n",
    "\n",
    "\n",
    "; ペインタ変換と組み合わせ\n",
    "(define (transform-painter painter origin corner1 corner2)\n",
    "  (lambda (frame)\n",
    "    (let ((m (frame-coord-map frame)))\n",
    "      (let ((new-origin (m origin)))\n",
    "        (painter\n",
    "         (make-frame new-origin\n",
    "                     (sub-vect (m corner1) new-origin)\n",
    "                     (sub-vect (m corner2) new-origin)))))))\n",
    "\n",
    "(define (flip-vert painter)\n",
    "  (transform-painter painter\n",
    "                     (make-vect 0.0 1.0)\n",
    "                     (make-vect 1.0 1.0)\n",
    "                     (make-vect 0.0 0.0)))\n",
    "\n",
    "(define (rotate90 painter)\n",
    "  (transform-painter painter\n",
    "                     (make-vect 1.0 0.0)\n",
    "                     (make-vect 1.0 1.0)\n",
    "                     (make-vect 0.0 1.0)))\n",
    "\n",
    "(define (beside painter1 painter2)\n",
    "  (let ((split-point (make-vect 0.5 0.0)))\n",
    "    (let ((paint-left\n",
    "           (transform-painter painter1\n",
    "                              (make-vect 0.0 0.0)\n",
    "                              split-point\n",
    "                              (make-vect 0.0 1.0)))\n",
    "          (paint-right\n",
    "           (transform-painter painter2\n",
    "                              split-point\n",
    "                              (make-vect 1.0 0.0)\n",
    "                              (make-vect 0.5 1.0))))\n",
    "      (lambda (frame)\n",
    "        (paint-left frame)\n",
    "        (paint-right frame)))))\n",
    "\n",
    "(define (below painter1 painter2)\n",
    "  (let ((split-point (make-vect 0.0 0.5)))\n",
    "    (let ((paint-below\n",
    "           (transform-painter painter1\n",
    "                              (make-vect 0.0 0.0)\n",
    "                              (make-vect 1.0 0.0)\n",
    "                              split-point))\n",
    "          (paint-above\n",
    "           (transform-painter painter2\n",
    "                              split-point\n",
    "                              (make-vect 1.0 0.5)\n",
    "                              (make-vect 0.0 1.0))))\n",
    "      (lambda (frame)\n",
    "        (paint-below frame)\n",
    "        (paint-above frame)))))\n"
   ]
  },
  {
   "cell_type": "code",
   "execution_count": 91,
   "metadata": {},
   "outputs": [],
   "source": [
    "(import-as \"picseg\" 'pic)\n",
    "\n",
    "(define (draw-line v1 v2)\n",
    "  (let ((start-x (xcor-vect v1))\n",
    "        (start-y (ycor-vect v1))\n",
    "        (end-x (xcor-vect v2))\n",
    "        (end-y (ycor-vect v2)))\n",
    "    (pic.draw_line start-x start-y end-x end-y)\n",
    "    ;(display start-x)\n",
    "    ;(display start-y)\n",
    "    ;(display end-x)\n",
    "    ;(display end-y)\n",
    "    ;(newline)\n",
    "    )\n",
    "  )\n",
    "\n",
    "; ペインタの動作確認\n",
    "(define (paint painter)\n",
    "  (let ((frame0 (make-frame\n",
    "                            (make-vect 0 0)\n",
    "                            (make-vect 1 0)\n",
    "                            (make-vect 0 1))))\n",
    "    (pic.clear)\n",
    "    (painter frame0)\n",
    "    (pic.update)\n",
    "    )\n",
    "  )"
   ]
  },
  {
   "cell_type": "code",
   "execution_count": 92,
   "metadata": {},
   "outputs": [
    {
     "data": {
      "image/svg+xml": [
       "<svg baseProfile=\"full\" height=\"256\" version=\"1.1\" width=\"256\" xmlns=\"http://www.w3.org/2000/svg\" xmlns:ev=\"http://www.w3.org/2001/xml-events\" xmlns:xlink=\"http://www.w3.org/1999/xlink\"><defs /><line fill=\"#800080\" stroke=\"#000000\" stroke-width=\"1\" x1=\"0.0\" x2=\"39.424\" y1=\"90.88\" y2=\"150.784\" /><line fill=\"#800080\" stroke=\"#000000\" stroke-width=\"1\" x1=\"39.424\" x2=\"77.312\" y1=\"150.784\" y2=\"105.47200000000001\" /><line fill=\"#800080\" stroke=\"#000000\" stroke-width=\"1\" x1=\"77.312\" x2=\"90.624\" y1=\"105.47200000000001\" y2=\"128.768\" /><line fill=\"#800080\" stroke=\"#000000\" stroke-width=\"1\" x1=\"90.624\" x2=\"62.72\" y1=\"128.768\" y2=\"256.0\" /><line fill=\"#800080\" stroke=\"#000000\" stroke-width=\"1\" x1=\"107.264\" x2=\"127.232\" y1=\"256.0\" y2=\"212.224\" /><line fill=\"#800080\" stroke=\"#000000\" stroke-width=\"1\" x1=\"127.232\" x2=\"147.2\" y1=\"212.224\" y2=\"256.0\" /><line fill=\"#800080\" stroke=\"#000000\" stroke-width=\"1\" x1=\"191.488\" x2=\"154.88\" y1=\"256.0\" y2=\"137.728\" /><line fill=\"#800080\" stroke=\"#000000\" stroke-width=\"1\" x1=\"154.88\" x2=\"256.0\" y1=\"137.728\" y2=\"219.648\" /><line fill=\"#800080\" stroke=\"#000000\" stroke-width=\"1\" x1=\"256.0\" x2=\"191.488\" y1=\"165.376\" y2=\"87.80799999999999\" /><line fill=\"#800080\" stroke=\"#000000\" stroke-width=\"1\" x1=\"191.488\" x2=\"148.992\" y1=\"87.80799999999999\" y2=\"87.80799999999999\" /><line fill=\"#800080\" stroke=\"#000000\" stroke-width=\"1\" x1=\"148.992\" x2=\"163.84\" y1=\"87.80799999999999\" y2=\"36.608000000000004\" /><line fill=\"#800080\" stroke=\"#000000\" stroke-width=\"1\" x1=\"163.84\" x2=\"147.2\" y1=\"36.608000000000004\" y2=\"0.0\" /><line fill=\"#800080\" stroke=\"#000000\" stroke-width=\"1\" x1=\"107.264\" x2=\"90.624\" y1=\"0.0\" y2=\"36.608000000000004\" /><line fill=\"#800080\" stroke=\"#000000\" stroke-width=\"1\" x1=\"90.624\" x2=\"105.216\" y1=\"36.608000000000004\" y2=\"87.80799999999999\" /><line fill=\"#800080\" stroke=\"#000000\" stroke-width=\"1\" x1=\"105.216\" x2=\"72.96\" y1=\"87.80799999999999\" y2=\"87.80799999999999\" /><line fill=\"#800080\" stroke=\"#000000\" stroke-width=\"1\" x1=\"72.96\" x2=\"39.424\" y1=\"87.80799999999999\" y2=\"101.12\" /><line fill=\"#800080\" stroke=\"#000000\" stroke-width=\"1\" x1=\"39.424\" x2=\"0.0\" y1=\"101.12\" y2=\"36.608000000000004\" /></svg>"
      ],
      "text/plain": [
       "<Canvas (256, 256)>"
      ]
     },
     "metadata": {},
     "output_type": "display_data"
    }
   ],
   "source": [
    "(paint wave)"
   ]
  },
  {
   "cell_type": "code",
   "execution_count": 93,
   "metadata": {},
   "outputs": [
    {
     "data": {
      "image/svg+xml": [
       "<svg baseProfile=\"full\" height=\"256\" version=\"1.1\" width=\"256\" xmlns=\"http://www.w3.org/2000/svg\" xmlns:ev=\"http://www.w3.org/2001/xml-events\" xmlns:xlink=\"http://www.w3.org/1999/xlink\"><defs /><line fill=\"#800080\" stroke=\"#000000\" stroke-width=\"1\" x1=\"0.0\" x2=\"39.424\" y1=\"165.12\" y2=\"105.21600000000001\" /><line fill=\"#800080\" stroke=\"#000000\" stroke-width=\"1\" x1=\"39.424\" x2=\"77.312\" y1=\"105.21600000000001\" y2=\"150.528\" /><line fill=\"#800080\" stroke=\"#000000\" stroke-width=\"1\" x1=\"77.312\" x2=\"90.624\" y1=\"150.528\" y2=\"127.232\" /><line fill=\"#800080\" stroke=\"#000000\" stroke-width=\"1\" x1=\"90.624\" x2=\"62.72\" y1=\"127.232\" y2=\"0.0\" /><line fill=\"#800080\" stroke=\"#000000\" stroke-width=\"1\" x1=\"107.264\" x2=\"127.232\" y1=\"0.0\" y2=\"43.77600000000001\" /><line fill=\"#800080\" stroke=\"#000000\" stroke-width=\"1\" x1=\"127.232\" x2=\"147.2\" y1=\"43.77600000000001\" y2=\"0.0\" /><line fill=\"#800080\" stroke=\"#000000\" stroke-width=\"1\" x1=\"191.488\" x2=\"154.88\" y1=\"0.0\" y2=\"118.27199999999999\" /><line fill=\"#800080\" stroke=\"#000000\" stroke-width=\"1\" x1=\"154.88\" x2=\"256.0\" y1=\"118.27199999999999\" y2=\"36.352000000000004\" /><line fill=\"#800080\" stroke=\"#000000\" stroke-width=\"1\" x1=\"256.0\" x2=\"191.488\" y1=\"90.624\" y2=\"168.192\" /><line fill=\"#800080\" stroke=\"#000000\" stroke-width=\"1\" x1=\"191.488\" x2=\"148.992\" y1=\"168.192\" y2=\"168.192\" /><line fill=\"#800080\" stroke=\"#000000\" stroke-width=\"1\" x1=\"148.992\" x2=\"163.84\" y1=\"168.192\" y2=\"219.392\" /><line fill=\"#800080\" stroke=\"#000000\" stroke-width=\"1\" x1=\"163.84\" x2=\"147.2\" y1=\"219.392\" y2=\"256.0\" /><line fill=\"#800080\" stroke=\"#000000\" stroke-width=\"1\" x1=\"107.264\" x2=\"90.624\" y1=\"256.0\" y2=\"219.392\" /><line fill=\"#800080\" stroke=\"#000000\" stroke-width=\"1\" x1=\"90.624\" x2=\"105.216\" y1=\"219.392\" y2=\"168.192\" /><line fill=\"#800080\" stroke=\"#000000\" stroke-width=\"1\" x1=\"105.216\" x2=\"72.96\" y1=\"168.192\" y2=\"168.192\" /><line fill=\"#800080\" stroke=\"#000000\" stroke-width=\"1\" x1=\"72.96\" x2=\"39.424\" y1=\"168.192\" y2=\"154.88\" /><line fill=\"#800080\" stroke=\"#000000\" stroke-width=\"1\" x1=\"39.424\" x2=\"0.0\" y1=\"154.88\" y2=\"219.392\" /></svg>"
      ],
      "text/plain": [
       "<Canvas (256, 256)>"
      ]
     },
     "metadata": {},
     "output_type": "display_data"
    }
   ],
   "source": [
    "(paint (flip-vert wave))"
   ]
  },
  {
   "cell_type": "code",
   "execution_count": 94,
   "metadata": {},
   "outputs": [
    {
     "data": {
      "image/svg+xml": [
       "<svg baseProfile=\"full\" height=\"256\" version=\"1.1\" width=\"256\" xmlns=\"http://www.w3.org/2000/svg\" xmlns:ev=\"http://www.w3.org/2001/xml-events\" xmlns:xlink=\"http://www.w3.org/1999/xlink\"><defs /><line fill=\"#800080\" stroke=\"#000000\" stroke-width=\"1\" x1=\"0.0\" x2=\"19.712\" y1=\"90.88\" y2=\"150.784\" /><line fill=\"#800080\" stroke=\"#000000\" stroke-width=\"1\" x1=\"19.712\" x2=\"38.656\" y1=\"150.784\" y2=\"105.47200000000001\" /><line fill=\"#800080\" stroke=\"#000000\" stroke-width=\"1\" x1=\"38.656\" x2=\"45.312\" y1=\"105.47200000000001\" y2=\"128.768\" /><line fill=\"#800080\" stroke=\"#000000\" stroke-width=\"1\" x1=\"45.312\" x2=\"31.36\" y1=\"128.768\" y2=\"256.0\" /><line fill=\"#800080\" stroke=\"#000000\" stroke-width=\"1\" x1=\"53.632\" x2=\"63.616\" y1=\"256.0\" y2=\"212.224\" /><line fill=\"#800080\" stroke=\"#000000\" stroke-width=\"1\" x1=\"63.616\" x2=\"73.6\" y1=\"212.224\" y2=\"256.0\" /><line fill=\"#800080\" stroke=\"#000000\" stroke-width=\"1\" x1=\"95.744\" x2=\"77.44\" y1=\"256.0\" y2=\"137.728\" /><line fill=\"#800080\" stroke=\"#000000\" stroke-width=\"1\" x1=\"77.44\" x2=\"128.0\" y1=\"137.728\" y2=\"219.648\" /><line fill=\"#800080\" stroke=\"#000000\" stroke-width=\"1\" x1=\"128.0\" x2=\"95.744\" y1=\"165.376\" y2=\"87.80799999999999\" /><line fill=\"#800080\" stroke=\"#000000\" stroke-width=\"1\" x1=\"95.744\" x2=\"74.496\" y1=\"87.80799999999999\" y2=\"87.80799999999999\" /><line fill=\"#800080\" stroke=\"#000000\" stroke-width=\"1\" x1=\"74.496\" x2=\"81.92\" y1=\"87.80799999999999\" y2=\"36.608000000000004\" /><line fill=\"#800080\" stroke=\"#000000\" stroke-width=\"1\" x1=\"81.92\" x2=\"73.6\" y1=\"36.608000000000004\" y2=\"0.0\" /><line fill=\"#800080\" stroke=\"#000000\" stroke-width=\"1\" x1=\"53.632\" x2=\"45.312\" y1=\"0.0\" y2=\"36.608000000000004\" /><line fill=\"#800080\" stroke=\"#000000\" stroke-width=\"1\" x1=\"45.312\" x2=\"52.608\" y1=\"36.608000000000004\" y2=\"87.80799999999999\" /><line fill=\"#800080\" stroke=\"#000000\" stroke-width=\"1\" x1=\"52.608\" x2=\"36.48\" y1=\"87.80799999999999\" y2=\"87.80799999999999\" /><line fill=\"#800080\" stroke=\"#000000\" stroke-width=\"1\" x1=\"36.48\" x2=\"19.712\" y1=\"87.80799999999999\" y2=\"101.12\" /><line fill=\"#800080\" stroke=\"#000000\" stroke-width=\"1\" x1=\"19.712\" x2=\"0.0\" y1=\"101.12\" y2=\"36.608000000000004\" /><line fill=\"#800080\" stroke=\"#000000\" stroke-width=\"1\" x1=\"128.0\" x2=\"147.712\" y1=\"165.12\" y2=\"105.21600000000001\" /><line fill=\"#800080\" stroke=\"#000000\" stroke-width=\"1\" x1=\"147.712\" x2=\"166.656\" y1=\"105.21600000000001\" y2=\"150.528\" /><line fill=\"#800080\" stroke=\"#000000\" stroke-width=\"1\" x1=\"166.656\" x2=\"173.312\" y1=\"150.528\" y2=\"127.232\" /><line fill=\"#800080\" stroke=\"#000000\" stroke-width=\"1\" x1=\"173.312\" x2=\"159.36\" y1=\"127.232\" y2=\"0.0\" /><line fill=\"#800080\" stroke=\"#000000\" stroke-width=\"1\" x1=\"181.632\" x2=\"191.61599999999999\" y1=\"0.0\" y2=\"43.77600000000001\" /><line fill=\"#800080\" stroke=\"#000000\" stroke-width=\"1\" x1=\"191.61599999999999\" x2=\"201.6\" y1=\"43.77600000000001\" y2=\"0.0\" /><line fill=\"#800080\" stroke=\"#000000\" stroke-width=\"1\" x1=\"223.744\" x2=\"205.44\" y1=\"0.0\" y2=\"118.27199999999999\" /><line fill=\"#800080\" stroke=\"#000000\" stroke-width=\"1\" x1=\"205.44\" x2=\"256.0\" y1=\"118.27199999999999\" y2=\"36.352000000000004\" /><line fill=\"#800080\" stroke=\"#000000\" stroke-width=\"1\" x1=\"256.0\" x2=\"223.744\" y1=\"90.624\" y2=\"168.192\" /><line fill=\"#800080\" stroke=\"#000000\" stroke-width=\"1\" x1=\"223.744\" x2=\"202.49599999999998\" y1=\"168.192\" y2=\"168.192\" /><line fill=\"#800080\" stroke=\"#000000\" stroke-width=\"1\" x1=\"202.49599999999998\" x2=\"209.92000000000002\" y1=\"168.192\" y2=\"219.392\" /><line fill=\"#800080\" stroke=\"#000000\" stroke-width=\"1\" x1=\"209.92000000000002\" x2=\"201.6\" y1=\"219.392\" y2=\"256.0\" /><line fill=\"#800080\" stroke=\"#000000\" stroke-width=\"1\" x1=\"181.632\" x2=\"173.312\" y1=\"256.0\" y2=\"219.392\" /><line fill=\"#800080\" stroke=\"#000000\" stroke-width=\"1\" x1=\"173.312\" x2=\"180.608\" y1=\"219.392\" y2=\"168.192\" /><line fill=\"#800080\" stroke=\"#000000\" stroke-width=\"1\" x1=\"180.608\" x2=\"164.48\" y1=\"168.192\" y2=\"168.192\" /><line fill=\"#800080\" stroke=\"#000000\" stroke-width=\"1\" x1=\"164.48\" x2=\"147.712\" y1=\"168.192\" y2=\"154.88\" /><line fill=\"#800080\" stroke=\"#000000\" stroke-width=\"1\" x1=\"147.712\" x2=\"128.0\" y1=\"154.88\" y2=\"219.392\" /></svg>"
      ],
      "text/plain": [
       "<Canvas (256, 256)>"
      ]
     },
     "metadata": {},
     "output_type": "display_data"
    }
   ],
   "source": [
    "(paint (beside wave (flip-vert wave)))"
   ]
  },
  {
   "cell_type": "code",
   "execution_count": 95,
   "metadata": {},
   "outputs": [
    {
     "data": {
      "image/svg+xml": [
       "<svg baseProfile=\"full\" height=\"256\" version=\"1.1\" width=\"256\" xmlns=\"http://www.w3.org/2000/svg\" xmlns:ev=\"http://www.w3.org/2001/xml-events\" xmlns:xlink=\"http://www.w3.org/1999/xlink\"><defs /><line fill=\"#800080\" stroke=\"#000000\" stroke-width=\"1\" x1=\"0.0\" x2=\"19.712\" y1=\"90.88\" y2=\"150.784\" /><line fill=\"#800080\" stroke=\"#000000\" stroke-width=\"1\" x1=\"19.712\" x2=\"38.656\" y1=\"150.784\" y2=\"105.47200000000001\" /><line fill=\"#800080\" stroke=\"#000000\" stroke-width=\"1\" x1=\"38.656\" x2=\"45.312\" y1=\"105.47200000000001\" y2=\"128.768\" /><line fill=\"#800080\" stroke=\"#000000\" stroke-width=\"1\" x1=\"45.312\" x2=\"31.36\" y1=\"128.768\" y2=\"256.0\" /><line fill=\"#800080\" stroke=\"#000000\" stroke-width=\"1\" x1=\"53.632\" x2=\"63.616\" y1=\"256.0\" y2=\"212.224\" /><line fill=\"#800080\" stroke=\"#000000\" stroke-width=\"1\" x1=\"63.616\" x2=\"73.6\" y1=\"212.224\" y2=\"256.0\" /><line fill=\"#800080\" stroke=\"#000000\" stroke-width=\"1\" x1=\"95.744\" x2=\"77.44\" y1=\"256.0\" y2=\"137.728\" /><line fill=\"#800080\" stroke=\"#000000\" stroke-width=\"1\" x1=\"77.44\" x2=\"128.0\" y1=\"137.728\" y2=\"219.648\" /><line fill=\"#800080\" stroke=\"#000000\" stroke-width=\"1\" x1=\"128.0\" x2=\"95.744\" y1=\"165.376\" y2=\"87.80799999999999\" /><line fill=\"#800080\" stroke=\"#000000\" stroke-width=\"1\" x1=\"95.744\" x2=\"74.496\" y1=\"87.80799999999999\" y2=\"87.80799999999999\" /><line fill=\"#800080\" stroke=\"#000000\" stroke-width=\"1\" x1=\"74.496\" x2=\"81.92\" y1=\"87.80799999999999\" y2=\"36.608000000000004\" /><line fill=\"#800080\" stroke=\"#000000\" stroke-width=\"1\" x1=\"81.92\" x2=\"73.6\" y1=\"36.608000000000004\" y2=\"0.0\" /><line fill=\"#800080\" stroke=\"#000000\" stroke-width=\"1\" x1=\"53.632\" x2=\"45.312\" y1=\"0.0\" y2=\"36.608000000000004\" /><line fill=\"#800080\" stroke=\"#000000\" stroke-width=\"1\" x1=\"45.312\" x2=\"52.608\" y1=\"36.608000000000004\" y2=\"87.80799999999999\" /><line fill=\"#800080\" stroke=\"#000000\" stroke-width=\"1\" x1=\"52.608\" x2=\"36.48\" y1=\"87.80799999999999\" y2=\"87.80799999999999\" /><line fill=\"#800080\" stroke=\"#000000\" stroke-width=\"1\" x1=\"36.48\" x2=\"19.712\" y1=\"87.80799999999999\" y2=\"101.12\" /><line fill=\"#800080\" stroke=\"#000000\" stroke-width=\"1\" x1=\"19.712\" x2=\"0.0\" y1=\"101.12\" y2=\"36.608000000000004\" /><line fill=\"#800080\" stroke=\"#000000\" stroke-width=\"1\" x1=\"128.0\" x2=\"147.712\" y1=\"173.44\" y2=\"203.392\" /><line fill=\"#800080\" stroke=\"#000000\" stroke-width=\"1\" x1=\"147.712\" x2=\"166.656\" y1=\"203.392\" y2=\"180.736\" /><line fill=\"#800080\" stroke=\"#000000\" stroke-width=\"1\" x1=\"166.656\" x2=\"173.312\" y1=\"180.736\" y2=\"192.38400000000001\" /><line fill=\"#800080\" stroke=\"#000000\" stroke-width=\"1\" x1=\"173.312\" x2=\"159.36\" y1=\"192.38400000000001\" y2=\"256.0\" /><line fill=\"#800080\" stroke=\"#000000\" stroke-width=\"1\" x1=\"181.632\" x2=\"191.61599999999999\" y1=\"256.0\" y2=\"234.112\" /><line fill=\"#800080\" stroke=\"#000000\" stroke-width=\"1\" x1=\"191.61599999999999\" x2=\"201.6\" y1=\"234.112\" y2=\"256.0\" /><line fill=\"#800080\" stroke=\"#000000\" stroke-width=\"1\" x1=\"223.744\" x2=\"205.44\" y1=\"256.0\" y2=\"196.864\" /><line fill=\"#800080\" stroke=\"#000000\" stroke-width=\"1\" x1=\"205.44\" x2=\"256.0\" y1=\"196.864\" y2=\"237.824\" /><line fill=\"#800080\" stroke=\"#000000\" stroke-width=\"1\" x1=\"256.0\" x2=\"223.744\" y1=\"210.688\" y2=\"171.904\" /><line fill=\"#800080\" stroke=\"#000000\" stroke-width=\"1\" x1=\"223.744\" x2=\"202.49599999999998\" y1=\"171.904\" y2=\"171.904\" /><line fill=\"#800080\" stroke=\"#000000\" stroke-width=\"1\" x1=\"202.49599999999998\" x2=\"209.92000000000002\" y1=\"171.904\" y2=\"146.304\" /><line fill=\"#800080\" stroke=\"#000000\" stroke-width=\"1\" x1=\"209.92000000000002\" x2=\"201.6\" y1=\"146.304\" y2=\"128.0\" /><line fill=\"#800080\" stroke=\"#000000\" stroke-width=\"1\" x1=\"181.632\" x2=\"173.312\" y1=\"128.0\" y2=\"146.304\" /><line fill=\"#800080\" stroke=\"#000000\" stroke-width=\"1\" x1=\"173.312\" x2=\"180.608\" y1=\"146.304\" y2=\"171.904\" /><line fill=\"#800080\" stroke=\"#000000\" stroke-width=\"1\" x1=\"180.608\" x2=\"164.48\" y1=\"171.904\" y2=\"171.904\" /><line fill=\"#800080\" stroke=\"#000000\" stroke-width=\"1\" x1=\"164.48\" x2=\"147.712\" y1=\"171.904\" y2=\"178.56\" /><line fill=\"#800080\" stroke=\"#000000\" stroke-width=\"1\" x1=\"147.712\" x2=\"128.0\" y1=\"178.56\" y2=\"146.304\" /><line fill=\"#800080\" stroke=\"#000000\" stroke-width=\"1\" x1=\"128.0\" x2=\"147.712\" y1=\"45.44\" y2=\"75.392\" /><line fill=\"#800080\" stroke=\"#000000\" stroke-width=\"1\" x1=\"147.712\" x2=\"166.656\" y1=\"75.392\" y2=\"52.73599999999999\" /><line fill=\"#800080\" stroke=\"#000000\" stroke-width=\"1\" x1=\"166.656\" x2=\"173.312\" y1=\"52.73599999999999\" y2=\"64.38400000000001\" /><line fill=\"#800080\" stroke=\"#000000\" stroke-width=\"1\" x1=\"173.312\" x2=\"159.36\" y1=\"64.38400000000001\" y2=\"128.0\" /><line fill=\"#800080\" stroke=\"#000000\" stroke-width=\"1\" x1=\"181.632\" x2=\"191.61599999999999\" y1=\"128.0\" y2=\"106.112\" /><line fill=\"#800080\" stroke=\"#000000\" stroke-width=\"1\" x1=\"191.61599999999999\" x2=\"201.6\" y1=\"106.112\" y2=\"128.0\" /><line fill=\"#800080\" stroke=\"#000000\" stroke-width=\"1\" x1=\"223.744\" x2=\"205.44\" y1=\"128.0\" y2=\"68.864\" /><line fill=\"#800080\" stroke=\"#000000\" stroke-width=\"1\" x1=\"205.44\" x2=\"256.0\" y1=\"68.864\" y2=\"109.82400000000001\" /><line fill=\"#800080\" stroke=\"#000000\" stroke-width=\"1\" x1=\"256.0\" x2=\"223.744\" y1=\"82.68799999999999\" y2=\"43.903999999999996\" /><line fill=\"#800080\" stroke=\"#000000\" stroke-width=\"1\" x1=\"223.744\" x2=\"202.49599999999998\" y1=\"43.903999999999996\" y2=\"43.903999999999996\" /><line fill=\"#800080\" stroke=\"#000000\" stroke-width=\"1\" x1=\"202.49599999999998\" x2=\"209.92000000000002\" y1=\"43.903999999999996\" y2=\"18.304000000000002\" /><line fill=\"#800080\" stroke=\"#000000\" stroke-width=\"1\" x1=\"209.92000000000002\" x2=\"201.6\" y1=\"18.304000000000002\" y2=\"0.0\" /><line fill=\"#800080\" stroke=\"#000000\" stroke-width=\"1\" x1=\"181.632\" x2=\"173.312\" y1=\"0.0\" y2=\"18.304000000000002\" /><line fill=\"#800080\" stroke=\"#000000\" stroke-width=\"1\" x1=\"173.312\" x2=\"180.608\" y1=\"18.304000000000002\" y2=\"43.903999999999996\" /><line fill=\"#800080\" stroke=\"#000000\" stroke-width=\"1\" x1=\"180.608\" x2=\"164.48\" y1=\"43.903999999999996\" y2=\"43.903999999999996\" /><line fill=\"#800080\" stroke=\"#000000\" stroke-width=\"1\" x1=\"164.48\" x2=\"147.712\" y1=\"43.903999999999996\" y2=\"50.56\" /><line fill=\"#800080\" stroke=\"#000000\" stroke-width=\"1\" x1=\"147.712\" x2=\"128.0\" y1=\"50.56\" y2=\"18.304000000000002\" /></svg>"
      ],
      "text/plain": [
       "<Canvas (256, 256)>"
      ]
     },
     "metadata": {},
     "output_type": "display_data"
    }
   ],
   "source": [
    "(pic.clear)\n",
    "((beside wave (below wave wave)) frame0)\n",
    "(pic.update)"
   ]
  },
  {
   "cell_type": "code",
   "execution_count": 96,
   "metadata": {},
   "outputs": [
    {
     "data": {
      "image/svg+xml": [
       "<svg baseProfile=\"full\" height=\"256\" version=\"1.1\" width=\"256\" xmlns=\"http://www.w3.org/2000/svg\" xmlns:ev=\"http://www.w3.org/2001/xml-events\" xmlns:xlink=\"http://www.w3.org/1999/xlink\"><defs /><line fill=\"#800080\" stroke=\"#000000\" stroke-width=\"1\" x1=\"-74.24000000000001\" x2=\"6.1440000000000055\" y1=\"256.0\" y2=\"216.576\" /><line fill=\"#800080\" stroke=\"#000000\" stroke-width=\"1\" x1=\"6.1440000000000055\" x2=\"-122.368\" y1=\"216.576\" y2=\"178.688\" /><line fill=\"#800080\" stroke=\"#000000\" stroke-width=\"1\" x1=\"-122.368\" x2=\"-89.08799999999997\" y1=\"178.688\" y2=\"165.376\" /><line fill=\"#800080\" stroke=\"#000000\" stroke-width=\"1\" x1=\"-89.08799999999997\" x2=\"193.28\" y1=\"165.376\" y2=\"193.28\" /><line fill=\"#800080\" stroke=\"#000000\" stroke-width=\"1\" x1=\"148.736\" x2=\"41.21600000000001\" y1=\"148.736\" y2=\"128.768\" /><line fill=\"#800080\" stroke=\"#000000\" stroke-width=\"1\" x1=\"41.21600000000001\" x2=\"108.80000000000001\" y1=\"128.768\" y2=\"108.80000000000001\" /><line fill=\"#800080\" stroke=\"#000000\" stroke-width=\"1\" x1=\"64.512\" x2=\"-135.42399999999998\" y1=\"64.512\" y2=\"101.12\" /><line fill=\"#800080\" stroke=\"#000000\" stroke-width=\"1\" x1=\"-135.42399999999998\" x2=\"-72.70400000000001\" y1=\"101.12\" y2=\"0.0\" /><line fill=\"#800080\" stroke=\"#000000\" stroke-width=\"1\" x1=\"-181.248\" x2=\"-271.87200000000007\" y1=\"0.0\" y2=\"64.512\" /><line fill=\"#800080\" stroke=\"#000000\" stroke-width=\"1\" x1=\"-271.87200000000007\" x2=\"-229.37599999999998\" y1=\"64.512\" y2=\"107.00800000000001\" /><line fill=\"#800080\" stroke=\"#000000\" stroke-width=\"1\" x1=\"-229.37599999999998\" x2=\"-346.624\" y1=\"107.00800000000001\" y2=\"92.16\" /><line fill=\"#800080\" stroke=\"#000000\" stroke-width=\"1\" x1=\"-346.624\" x2=\"-403.20000000000005\" y1=\"92.16\" y2=\"108.80000000000001\" /><line fill=\"#800080\" stroke=\"#000000\" stroke-width=\"1\" x1=\"-363.264\" x2=\"-273.408\" y1=\"148.736\" y2=\"165.376\" /><line fill=\"#800080\" stroke=\"#000000\" stroke-width=\"1\" x1=\"-273.408\" x2=\"-185.60000000000002\" y1=\"165.376\" y2=\"150.784\" /><line fill=\"#800080\" stroke=\"#000000\" stroke-width=\"1\" x1=\"-185.60000000000002\" x2=\"-153.344\" y1=\"150.784\" y2=\"183.04000000000002\" /><line fill=\"#800080\" stroke=\"#000000\" stroke-width=\"1\" x1=\"-153.344\" x2=\"-93.18399999999997\" y1=\"183.04000000000002\" y2=\"216.576\" /><line fill=\"#800080\" stroke=\"#000000\" stroke-width=\"1\" x1=\"-93.18399999999997\" x2=\"-182.784\" y1=\"216.576\" y2=\"256.0\" /></svg>"
      ],
      "text/plain": [
       "<Canvas (256, 256)>"
      ]
     },
     "metadata": {},
     "output_type": "display_data"
    }
   ],
   "source": [
    "(define (rotate90 painter)\n",
    "  (transform-painter painter\n",
    "                     (make-vect 1.0 0.0)\n",
    "                     (make-vect 0.0 1.0)\n",
    "                     (make-vect -1.0 0.0)\n",
    "            )\n",
    "  )\n",
    "\n",
    "(pic.clear)\n",
    "((rotate90 wave) frame0)\n",
    "(pic.update)"
   ]
  },
  {
   "cell_type": "code",
   "execution_count": 30,
   "metadata": {},
   "outputs": [
    {
     "data": {
      "image/svg+xml": [
       "<svg baseProfile=\"full\" height=\"256\" version=\"1.1\" width=\"256\" xmlns=\"http://www.w3.org/2000/svg\" xmlns:ev=\"http://www.w3.org/2001/xml-events\" xmlns:xlink=\"http://www.w3.org/1999/xlink\"><defs /><line fill=\"#800080\" stroke=\"#000000\" stroke-width=\"1\" x1=\"256.0\" x2=\"216.576\" y1=\"165.12\" y2=\"105.21600000000001\" /><line fill=\"#800080\" stroke=\"#000000\" stroke-width=\"1\" x1=\"216.576\" x2=\"178.688\" y1=\"105.21600000000001\" y2=\"150.528\" /><line fill=\"#800080\" stroke=\"#000000\" stroke-width=\"1\" x1=\"178.688\" x2=\"165.376\" y1=\"150.528\" y2=\"127.232\" /><line fill=\"#800080\" stroke=\"#000000\" stroke-width=\"1\" x1=\"165.376\" x2=\"193.28\" y1=\"127.232\" y2=\"0.0\" /><line fill=\"#800080\" stroke=\"#000000\" stroke-width=\"1\" x1=\"148.736\" x2=\"128.768\" y1=\"0.0\" y2=\"43.77600000000001\" /><line fill=\"#800080\" stroke=\"#000000\" stroke-width=\"1\" x1=\"128.768\" x2=\"108.80000000000001\" y1=\"43.77600000000001\" y2=\"0.0\" /><line fill=\"#800080\" stroke=\"#000000\" stroke-width=\"1\" x1=\"64.512\" x2=\"101.12\" y1=\"0.0\" y2=\"118.27199999999999\" /><line fill=\"#800080\" stroke=\"#000000\" stroke-width=\"1\" x1=\"101.12\" x2=\"0.0\" y1=\"118.27199999999999\" y2=\"36.352000000000004\" /><line fill=\"#800080\" stroke=\"#000000\" stroke-width=\"1\" x1=\"0.0\" x2=\"64.512\" y1=\"90.624\" y2=\"168.192\" /><line fill=\"#800080\" stroke=\"#000000\" stroke-width=\"1\" x1=\"64.512\" x2=\"107.00800000000001\" y1=\"168.192\" y2=\"168.192\" /><line fill=\"#800080\" stroke=\"#000000\" stroke-width=\"1\" x1=\"107.00800000000001\" x2=\"92.16\" y1=\"168.192\" y2=\"219.392\" /><line fill=\"#800080\" stroke=\"#000000\" stroke-width=\"1\" x1=\"92.16\" x2=\"108.80000000000001\" y1=\"219.392\" y2=\"256.0\" /><line fill=\"#800080\" stroke=\"#000000\" stroke-width=\"1\" x1=\"148.736\" x2=\"165.376\" y1=\"256.0\" y2=\"219.392\" /><line fill=\"#800080\" stroke=\"#000000\" stroke-width=\"1\" x1=\"165.376\" x2=\"150.784\" y1=\"219.392\" y2=\"168.192\" /><line fill=\"#800080\" stroke=\"#000000\" stroke-width=\"1\" x1=\"150.784\" x2=\"183.04000000000002\" y1=\"168.192\" y2=\"168.192\" /><line fill=\"#800080\" stroke=\"#000000\" stroke-width=\"1\" x1=\"183.04000000000002\" x2=\"216.576\" y1=\"168.192\" y2=\"154.88\" /><line fill=\"#800080\" stroke=\"#000000\" stroke-width=\"1\" x1=\"216.576\" x2=\"256.0\" y1=\"154.88\" y2=\"219.392\" /></svg>"
      ],
      "text/plain": [
       "<Canvas (256, 256)>"
      ]
     },
     "metadata": {},
     "output_type": "display_data"
    }
   ],
   "source": [
    "(define (rotate180 painter)\n",
    "  (transform-painter painter\n",
    "                     (make-vect 1.0 1.0)\n",
    "                     (make-vect -1.0 0.0)\n",
    "                     (make-vect 0.0 -1.0)\n",
    "            )\n",
    "  )\n",
    "\n",
    "\n",
    "(pic.clear)\n",
    "((rotate180 wave) frame0)\n",
    "(pic.update)"
   ]
  },
  {
   "cell_type": "code",
   "execution_count": 32,
   "metadata": {},
   "outputs": [
    {
     "data": {
      "image/svg+xml": [
       "<svg baseProfile=\"full\" height=\"256\" version=\"1.1\" width=\"256\" xmlns=\"http://www.w3.org/2000/svg\" xmlns:ev=\"http://www.w3.org/2001/xml-events\" xmlns:xlink=\"http://www.w3.org/1999/xlink\"><defs /><line fill=\"#800080\" stroke=\"#000000\" stroke-width=\"1\" x1=\"165.12\" x2=\"105.216\" y1=\"0.0\" y2=\"39.42400000000001\" /><line fill=\"#800080\" stroke=\"#000000\" stroke-width=\"1\" x1=\"105.216\" x2=\"150.528\" y1=\"39.42400000000001\" y2=\"77.31200000000001\" /><line fill=\"#800080\" stroke=\"#000000\" stroke-width=\"1\" x1=\"150.528\" x2=\"127.232\" y1=\"77.31200000000001\" y2=\"90.624\" /><line fill=\"#800080\" stroke=\"#000000\" stroke-width=\"1\" x1=\"127.232\" x2=\"0.0\" y1=\"90.624\" y2=\"62.72\" /><line fill=\"#800080\" stroke=\"#000000\" stroke-width=\"1\" x1=\"0.0\" x2=\"43.776\" y1=\"107.26400000000001\" y2=\"127.232\" /><line fill=\"#800080\" stroke=\"#000000\" stroke-width=\"1\" x1=\"43.776\" x2=\"0.0\" y1=\"127.232\" y2=\"147.2\" /><line fill=\"#800080\" stroke=\"#000000\" stroke-width=\"1\" x1=\"0.0\" x2=\"118.272\" y1=\"191.488\" y2=\"154.88\" /><line fill=\"#800080\" stroke=\"#000000\" stroke-width=\"1\" x1=\"118.272\" x2=\"36.352\" y1=\"154.88\" y2=\"256.0\" /><line fill=\"#800080\" stroke=\"#000000\" stroke-width=\"1\" x1=\"90.624\" x2=\"168.192\" y1=\"256.0\" y2=\"191.488\" /><line fill=\"#800080\" stroke=\"#000000\" stroke-width=\"1\" x1=\"168.192\" x2=\"168.192\" y1=\"191.488\" y2=\"148.992\" /><line fill=\"#800080\" stroke=\"#000000\" stroke-width=\"1\" x1=\"168.192\" x2=\"219.392\" y1=\"148.992\" y2=\"163.84\" /><line fill=\"#800080\" stroke=\"#000000\" stroke-width=\"1\" x1=\"219.392\" x2=\"256.0\" y1=\"163.84\" y2=\"147.2\" /><line fill=\"#800080\" stroke=\"#000000\" stroke-width=\"1\" x1=\"256.0\" x2=\"219.392\" y1=\"107.26400000000001\" y2=\"90.624\" /><line fill=\"#800080\" stroke=\"#000000\" stroke-width=\"1\" x1=\"219.392\" x2=\"168.192\" y1=\"90.624\" y2=\"105.21600000000001\" /><line fill=\"#800080\" stroke=\"#000000\" stroke-width=\"1\" x1=\"168.192\" x2=\"168.192\" y1=\"105.21600000000001\" y2=\"72.95999999999998\" /><line fill=\"#800080\" stroke=\"#000000\" stroke-width=\"1\" x1=\"168.192\" x2=\"154.88\" y1=\"72.95999999999998\" y2=\"39.42400000000001\" /><line fill=\"#800080\" stroke=\"#000000\" stroke-width=\"1\" x1=\"154.88\" x2=\"219.392\" y1=\"39.42400000000001\" y2=\"0.0\" /></svg>"
      ],
      "text/plain": [
       "<Canvas (256, 256)>"
      ]
     },
     "metadata": {},
     "output_type": "display_data"
    }
   ],
   "source": [
    "(define (rotate270 painter)\n",
    "  (transform-painter painter\n",
    "                     (make-vect 0.0 1.0)\n",
    "                     (make-vect 0.0 -1.0)\n",
    "                     (make-vect 1.0 0.0)\n",
    "            )\n",
    "  )\n",
    "\n",
    "\n",
    "(pic.clear)\n",
    "((rotate270 wave) frame0)\n",
    "(pic.update)"
   ]
  },
  {
   "cell_type": "code",
   "execution_count": 35,
   "metadata": {},
   "outputs": [
    {
     "data": {
      "image/svg+xml": [
       "<svg baseProfile=\"full\" height=\"256\" version=\"1.1\" width=\"256\" xmlns=\"http://www.w3.org/2000/svg\" xmlns:ev=\"http://www.w3.org/2001/xml-events\" xmlns:xlink=\"http://www.w3.org/1999/xlink\"><defs /><line fill=\"#800080\" stroke=\"#000000\" stroke-width=\"1\" x1=\"64.0\" x2=\"83.712\" y1=\"109.44\" y2=\"139.392\" /><line fill=\"#800080\" stroke=\"#000000\" stroke-width=\"1\" x1=\"83.712\" x2=\"102.656\" y1=\"139.392\" y2=\"116.73599999999999\" /><line fill=\"#800080\" stroke=\"#000000\" stroke-width=\"1\" x1=\"102.656\" x2=\"109.312\" y1=\"116.73599999999999\" y2=\"128.38400000000001\" /><line fill=\"#800080\" stroke=\"#000000\" stroke-width=\"1\" x1=\"109.312\" x2=\"95.36\" y1=\"128.38400000000001\" y2=\"192.0\" /><line fill=\"#800080\" stroke=\"#000000\" stroke-width=\"1\" x1=\"117.632\" x2=\"127.616\" y1=\"192.0\" y2=\"170.112\" /><line fill=\"#800080\" stroke=\"#000000\" stroke-width=\"1\" x1=\"127.616\" x2=\"137.6\" y1=\"170.112\" y2=\"192.0\" /><line fill=\"#800080\" stroke=\"#000000\" stroke-width=\"1\" x1=\"159.744\" x2=\"141.44\" y1=\"192.0\" y2=\"132.864\" /><line fill=\"#800080\" stroke=\"#000000\" stroke-width=\"1\" x1=\"141.44\" x2=\"192.0\" y1=\"132.864\" y2=\"173.824\" /><line fill=\"#800080\" stroke=\"#000000\" stroke-width=\"1\" x1=\"192.0\" x2=\"159.744\" y1=\"146.688\" y2=\"107.904\" /><line fill=\"#800080\" stroke=\"#000000\" stroke-width=\"1\" x1=\"159.744\" x2=\"138.49599999999998\" y1=\"107.904\" y2=\"107.904\" /><line fill=\"#800080\" stroke=\"#000000\" stroke-width=\"1\" x1=\"138.49599999999998\" x2=\"145.92000000000002\" y1=\"107.904\" y2=\"82.304\" /><line fill=\"#800080\" stroke=\"#000000\" stroke-width=\"1\" x1=\"145.92000000000002\" x2=\"137.6\" y1=\"82.304\" y2=\"64.0\" /><line fill=\"#800080\" stroke=\"#000000\" stroke-width=\"1\" x1=\"117.632\" x2=\"109.312\" y1=\"64.0\" y2=\"82.304\" /><line fill=\"#800080\" stroke=\"#000000\" stroke-width=\"1\" x1=\"109.312\" x2=\"116.608\" y1=\"82.304\" y2=\"107.904\" /><line fill=\"#800080\" stroke=\"#000000\" stroke-width=\"1\" x1=\"116.608\" x2=\"100.47999999999999\" y1=\"107.904\" y2=\"107.904\" /><line fill=\"#800080\" stroke=\"#000000\" stroke-width=\"1\" x1=\"100.47999999999999\" x2=\"83.712\" y1=\"107.904\" y2=\"114.56\" /><line fill=\"#800080\" stroke=\"#000000\" stroke-width=\"1\" x1=\"83.712\" x2=\"64.0\" y1=\"114.56\" y2=\"82.304\" /></svg>"
      ],
      "text/plain": [
       "<Canvas (256, 256)>"
      ]
     },
     "metadata": {},
     "output_type": "display_data"
    }
   ],
   "source": [
    "(define (squash-inwards painter)\n",
    "  (transform-painter painter\n",
    "                     (make-vect 0.25 0.25)\n",
    "                     (make-vect 0.5 0.0)\n",
    "                     (make-vect 0.0 0.5))\n",
    "  )\n",
    "\n",
    "(pic.clear)\n",
    "((squash-inwards wave) frame0)\n",
    "(pic.update)"
   ]
  },
  {
   "cell_type": "code",
   "execution_count": 34,
   "metadata": {},
   "outputs": [
    {
     "data": {
      "image/svg+xml": [
       "<svg baseProfile=\"full\" height=\"256\" version=\"1.1\" width=\"256\" xmlns=\"http://www.w3.org/2000/svg\" xmlns:ev=\"http://www.w3.org/2001/xml-events\" xmlns:xlink=\"http://www.w3.org/1999/xlink\"><defs /><line fill=\"#800080\" stroke=\"#000000\" stroke-width=\"1\" x1=\"57.791999999999994\" x2=\"62.4512\" y1=\"148.672\" y2=\"173.81119999999999\" /><line fill=\"#800080\" stroke=\"#000000\" stroke-width=\"1\" x1=\"62.4512\" x2=\"102.9376\" y1=\"173.81119999999999\" y2=\"131.0976\" /><line fill=\"#800080\" stroke=\"#000000\" stroke-width=\"1\" x1=\"102.9376\" x2=\"103.4368\" y1=\"131.0976\" y2=\"141.5808\" /><line fill=\"#800080\" stroke=\"#000000\" stroke-width=\"1\" x1=\"103.4368\" x2=\"40.768\" y1=\"141.5808\" y2=\"234.048\" /><line fill=\"#800080\" stroke=\"#000000\" stroke-width=\"1\" x1=\"69.7216\" x2=\"98.0224\" y1=\"218.4576\" y2=\"183.0144\" /><line fill=\"#800080\" stroke=\"#000000\" stroke-width=\"1\" x1=\"98.0224\" x2=\"95.67999999999999\" y1=\"183.0144\" y2=\"204.48000000000002\" /><line fill=\"#800080\" stroke=\"#000000\" stroke-width=\"1\" x1=\"124.4672\" x2=\"142.0672\" y1=\"188.9792\" y2=\"124.9152\" /><line fill=\"#800080\" stroke=\"#000000\" stroke-width=\"1\" x1=\"142.0672\" x2=\"179.1232\" y1=\"124.9152\" y2=\"142.77120000000002\" /><line fill=\"#800080\" stroke=\"#000000\" stroke-width=\"1\" x1=\"198.1184\" x2=\"183.33440000000002\" y1=\"107.49440000000001\" y2=\"79.65440000000001\" /><line fill=\"#800080\" stroke=\"#000000\" stroke-width=\"1\" x1=\"183.33440000000002\" x2=\"155.712\" y1=\"79.65440000000001\" y2=\"94.52799999999999\" /><line fill=\"#800080\" stroke=\"#000000\" stroke-width=\"1\" x1=\"155.712\" x2=\"183.28320000000002\" y1=\"94.52799999999999\" y2=\"56.051199999999994\" /><line fill=\"#800080\" stroke=\"#000000\" stroke-width=\"1\" x1=\"183.28320000000002\" x2=\"185.27999999999997\" y1=\"56.051199999999994\" y2=\"38.079999999999984\" /><line fill=\"#800080\" stroke=\"#000000\" stroke-width=\"1\" x1=\"159.3216\" x2=\"135.6928\" y1=\"52.05760000000001\" y2=\"81.67679999999999\" /><line fill=\"#800080\" stroke=\"#000000\" stroke-width=\"1\" x1=\"135.6928\" x2=\"127.2576\" y1=\"81.67679999999999\" y2=\"109.84960000000001\" /><line fill=\"#800080\" stroke=\"#000000\" stroke-width=\"1\" x1=\"127.2576\" x2=\"106.2912\" y1=\"109.84960000000001\" y2=\"121.13919999999999\" /><line fill=\"#800080\" stroke=\"#000000\" stroke-width=\"1\" x1=\"106.2912\" x2=\"79.8336\" y1=\"121.13919999999999\" y2=\"141.52960000000002\" /><line fill=\"#800080\" stroke=\"#000000\" stroke-width=\"1\" x1=\"79.8336\" x2=\"76.7872\" y1=\"141.52960000000002\" y2=\"113.39519999999999\" /></svg>"
      ],
      "text/plain": [
       "<Canvas (256, 256)>"
      ]
     },
     "metadata": {},
     "output_type": "display_data"
    }
   ],
   "source": [
    "(define (squash-inwards painter)\n",
    "  (transform-painter painter\n",
    "                     (make-vect 0.0 0.0)\n",
    "                     (make-vect 0.65 0.35) \n",
    "                     (make-vect 0.35 0.65))\n",
    "  )\n",
    "(pic.clear)\n",
    "((squash-inwards wave) frame0)\n",
    "(pic.update)"
   ]
  },
  {
   "cell_type": "code",
   "execution_count": 36,
   "metadata": {},
   "outputs": [],
   "source": [
    "(define (beside painter1 painter2)\n",
    "  (let ((split-point (make-vect 0.5 0.0)))\n",
    "    (let ((paint-left\n",
    "           (transform-painter painter1\n",
    "                              (make-vect 0.0 0.0)\n",
    "                              split-point\n",
    "                              (make-vect 0.0 1.0)))\n",
    "          (paint-right\n",
    "           (transform-painter painter2\n",
    "                              split-point\n",
    "                              (make-vect 1.0 0.0)\n",
    "                              (make-vect 0.5 1.0))))\n",
    "      (lambda (frame)\n",
    "        (paint-left frame)\n",
    "        (paint-right frame)))))\n"
   ]
  },
  {
   "cell_type": "code",
   "execution_count": 37,
   "metadata": {},
   "outputs": [
    {
     "data": {
      "image/svg+xml": [
       "<svg baseProfile=\"full\" height=\"256\" version=\"1.1\" width=\"256\" xmlns=\"http://www.w3.org/2000/svg\" xmlns:ev=\"http://www.w3.org/2001/xml-events\" xmlns:xlink=\"http://www.w3.org/1999/xlink\"><defs /><line fill=\"#800080\" stroke=\"#000000\" stroke-width=\"1\" x1=\"0.0\" x2=\"19.712\" y1=\"90.88\" y2=\"150.784\" /><line fill=\"#800080\" stroke=\"#000000\" stroke-width=\"1\" x1=\"19.712\" x2=\"38.656\" y1=\"150.784\" y2=\"105.47200000000001\" /><line fill=\"#800080\" stroke=\"#000000\" stroke-width=\"1\" x1=\"38.656\" x2=\"45.312\" y1=\"105.47200000000001\" y2=\"128.768\" /><line fill=\"#800080\" stroke=\"#000000\" stroke-width=\"1\" x1=\"45.312\" x2=\"31.36\" y1=\"128.768\" y2=\"256.0\" /><line fill=\"#800080\" stroke=\"#000000\" stroke-width=\"1\" x1=\"53.632\" x2=\"63.616\" y1=\"256.0\" y2=\"212.224\" /><line fill=\"#800080\" stroke=\"#000000\" stroke-width=\"1\" x1=\"63.616\" x2=\"73.6\" y1=\"212.224\" y2=\"256.0\" /><line fill=\"#800080\" stroke=\"#000000\" stroke-width=\"1\" x1=\"95.744\" x2=\"77.44\" y1=\"256.0\" y2=\"137.728\" /><line fill=\"#800080\" stroke=\"#000000\" stroke-width=\"1\" x1=\"77.44\" x2=\"128.0\" y1=\"137.728\" y2=\"219.648\" /><line fill=\"#800080\" stroke=\"#000000\" stroke-width=\"1\" x1=\"128.0\" x2=\"95.744\" y1=\"165.376\" y2=\"87.80799999999999\" /><line fill=\"#800080\" stroke=\"#000000\" stroke-width=\"1\" x1=\"95.744\" x2=\"74.496\" y1=\"87.80799999999999\" y2=\"87.80799999999999\" /><line fill=\"#800080\" stroke=\"#000000\" stroke-width=\"1\" x1=\"74.496\" x2=\"81.92\" y1=\"87.80799999999999\" y2=\"36.608000000000004\" /><line fill=\"#800080\" stroke=\"#000000\" stroke-width=\"1\" x1=\"81.92\" x2=\"73.6\" y1=\"36.608000000000004\" y2=\"0.0\" /><line fill=\"#800080\" stroke=\"#000000\" stroke-width=\"1\" x1=\"53.632\" x2=\"45.312\" y1=\"0.0\" y2=\"36.608000000000004\" /><line fill=\"#800080\" stroke=\"#000000\" stroke-width=\"1\" x1=\"45.312\" x2=\"52.608\" y1=\"36.608000000000004\" y2=\"87.80799999999999\" /><line fill=\"#800080\" stroke=\"#000000\" stroke-width=\"1\" x1=\"52.608\" x2=\"36.48\" y1=\"87.80799999999999\" y2=\"87.80799999999999\" /><line fill=\"#800080\" stroke=\"#000000\" stroke-width=\"1\" x1=\"36.48\" x2=\"19.712\" y1=\"87.80799999999999\" y2=\"101.12\" /><line fill=\"#800080\" stroke=\"#000000\" stroke-width=\"1\" x1=\"19.712\" x2=\"0.0\" y1=\"101.12\" y2=\"36.608000000000004\" /></svg>"
      ],
      "text/plain": [
       "<Canvas (256, 256)>"
      ]
     },
     "metadata": {},
     "output_type": "display_data"
    }
   ],
   "source": [
    "(define split-point (make-vect 0.5 0.0))\n",
    "(pic.clear)\n",
    "((transform-painter wave\n",
    "                  (make-vect 0.0 0.0)\n",
    "                  split-point\n",
    "                  (make-vect 0.0 1.0)) frame0)\n",
    "(pic.update)"
   ]
  },
  {
   "cell_type": "code",
   "execution_count": 39,
   "metadata": {},
   "outputs": [
    {
     "data": {
      "image/svg+xml": [
       "<svg baseProfile=\"full\" height=\"256\" version=\"1.1\" width=\"256\" xmlns=\"http://www.w3.org/2000/svg\" xmlns:ev=\"http://www.w3.org/2001/xml-events\" xmlns:xlink=\"http://www.w3.org/1999/xlink\"><defs /><line fill=\"#800080\" stroke=\"#000000\" stroke-width=\"1\" x1=\"128.0\" x2=\"147.712\" y1=\"90.88\" y2=\"150.784\" /><line fill=\"#800080\" stroke=\"#000000\" stroke-width=\"1\" x1=\"147.712\" x2=\"166.656\" y1=\"150.784\" y2=\"105.47200000000001\" /><line fill=\"#800080\" stroke=\"#000000\" stroke-width=\"1\" x1=\"166.656\" x2=\"173.312\" y1=\"105.47200000000001\" y2=\"128.768\" /><line fill=\"#800080\" stroke=\"#000000\" stroke-width=\"1\" x1=\"173.312\" x2=\"159.36\" y1=\"128.768\" y2=\"256.0\" /><line fill=\"#800080\" stroke=\"#000000\" stroke-width=\"1\" x1=\"181.632\" x2=\"191.61599999999999\" y1=\"256.0\" y2=\"212.224\" /><line fill=\"#800080\" stroke=\"#000000\" stroke-width=\"1\" x1=\"191.61599999999999\" x2=\"201.6\" y1=\"212.224\" y2=\"256.0\" /><line fill=\"#800080\" stroke=\"#000000\" stroke-width=\"1\" x1=\"223.744\" x2=\"205.44\" y1=\"256.0\" y2=\"137.728\" /><line fill=\"#800080\" stroke=\"#000000\" stroke-width=\"1\" x1=\"205.44\" x2=\"256.0\" y1=\"137.728\" y2=\"219.648\" /><line fill=\"#800080\" stroke=\"#000000\" stroke-width=\"1\" x1=\"256.0\" x2=\"223.744\" y1=\"165.376\" y2=\"87.80799999999999\" /><line fill=\"#800080\" stroke=\"#000000\" stroke-width=\"1\" x1=\"223.744\" x2=\"202.49599999999998\" y1=\"87.80799999999999\" y2=\"87.80799999999999\" /><line fill=\"#800080\" stroke=\"#000000\" stroke-width=\"1\" x1=\"202.49599999999998\" x2=\"209.92000000000002\" y1=\"87.80799999999999\" y2=\"36.608000000000004\" /><line fill=\"#800080\" stroke=\"#000000\" stroke-width=\"1\" x1=\"209.92000000000002\" x2=\"201.6\" y1=\"36.608000000000004\" y2=\"0.0\" /><line fill=\"#800080\" stroke=\"#000000\" stroke-width=\"1\" x1=\"181.632\" x2=\"173.312\" y1=\"0.0\" y2=\"36.608000000000004\" /><line fill=\"#800080\" stroke=\"#000000\" stroke-width=\"1\" x1=\"173.312\" x2=\"180.608\" y1=\"36.608000000000004\" y2=\"87.80799999999999\" /><line fill=\"#800080\" stroke=\"#000000\" stroke-width=\"1\" x1=\"180.608\" x2=\"164.48\" y1=\"87.80799999999999\" y2=\"87.80799999999999\" /><line fill=\"#800080\" stroke=\"#000000\" stroke-width=\"1\" x1=\"164.48\" x2=\"147.712\" y1=\"87.80799999999999\" y2=\"101.12\" /><line fill=\"#800080\" stroke=\"#000000\" stroke-width=\"1\" x1=\"147.712\" x2=\"128.0\" y1=\"101.12\" y2=\"36.608000000000004\" /></svg>"
      ],
      "text/plain": [
       "<Canvas (256, 256)>"
      ]
     },
     "metadata": {},
     "output_type": "display_data"
    }
   ],
   "source": [
    "(pic.clear)\n",
    "((transform-painter wave\n",
    "                    split-point\n",
    "                    (make-vect 0.5 0.0)\n",
    "                    (make-vect 0.0 1.0)) frame0)\n",
    "(pic.update)"
   ]
  },
  {
   "cell_type": "code",
   "execution_count": 85,
   "metadata": {},
   "outputs": [
    {
     "data": {
      "image/svg+xml": [
       "<svg baseProfile=\"full\" height=\"256\" version=\"1.1\" width=\"256\" xmlns=\"http://www.w3.org/2000/svg\" xmlns:ev=\"http://www.w3.org/2001/xml-events\" xmlns:xlink=\"http://www.w3.org/1999/xlink\"><defs /><line fill=\"#800080\" stroke=\"#000000\" stroke-width=\"1\" x1=\"0.0\" x2=\"19.712\" y1=\"165.12\" y2=\"105.21600000000001\" /><line fill=\"#800080\" stroke=\"#000000\" stroke-width=\"1\" x1=\"19.712\" x2=\"38.656\" y1=\"105.21600000000001\" y2=\"150.528\" /><line fill=\"#800080\" stroke=\"#000000\" stroke-width=\"1\" x1=\"38.656\" x2=\"45.312\" y1=\"150.528\" y2=\"127.232\" /><line fill=\"#800080\" stroke=\"#000000\" stroke-width=\"1\" x1=\"45.312\" x2=\"31.36\" y1=\"127.232\" y2=\"0.0\" /><line fill=\"#800080\" stroke=\"#000000\" stroke-width=\"1\" x1=\"53.632\" x2=\"63.616\" y1=\"0.0\" y2=\"43.77600000000001\" /><line fill=\"#800080\" stroke=\"#000000\" stroke-width=\"1\" x1=\"63.616\" x2=\"73.6\" y1=\"43.77600000000001\" y2=\"0.0\" /><line fill=\"#800080\" stroke=\"#000000\" stroke-width=\"1\" x1=\"95.744\" x2=\"77.44\" y1=\"0.0\" y2=\"118.27199999999999\" /><line fill=\"#800080\" stroke=\"#000000\" stroke-width=\"1\" x1=\"77.44\" x2=\"128.0\" y1=\"118.27199999999999\" y2=\"36.352000000000004\" /><line fill=\"#800080\" stroke=\"#000000\" stroke-width=\"1\" x1=\"128.0\" x2=\"95.744\" y1=\"90.624\" y2=\"168.192\" /><line fill=\"#800080\" stroke=\"#000000\" stroke-width=\"1\" x1=\"95.744\" x2=\"74.496\" y1=\"168.192\" y2=\"168.192\" /><line fill=\"#800080\" stroke=\"#000000\" stroke-width=\"1\" x1=\"74.496\" x2=\"81.92\" y1=\"168.192\" y2=\"219.392\" /><line fill=\"#800080\" stroke=\"#000000\" stroke-width=\"1\" x1=\"81.92\" x2=\"73.6\" y1=\"219.392\" y2=\"256.0\" /><line fill=\"#800080\" stroke=\"#000000\" stroke-width=\"1\" x1=\"53.632\" x2=\"45.312\" y1=\"256.0\" y2=\"219.392\" /><line fill=\"#800080\" stroke=\"#000000\" stroke-width=\"1\" x1=\"45.312\" x2=\"52.608\" y1=\"219.392\" y2=\"168.192\" /><line fill=\"#800080\" stroke=\"#000000\" stroke-width=\"1\" x1=\"52.608\" x2=\"36.48\" y1=\"168.192\" y2=\"168.192\" /><line fill=\"#800080\" stroke=\"#000000\" stroke-width=\"1\" x1=\"36.48\" x2=\"19.712\" y1=\"168.192\" y2=\"154.88\" /><line fill=\"#800080\" stroke=\"#000000\" stroke-width=\"1\" x1=\"19.712\" x2=\"0.0\" y1=\"154.88\" y2=\"219.392\" /><line fill=\"#800080\" stroke=\"#000000\" stroke-width=\"1\" x1=\"210.56\" x2=\"220.03199999999998\" y1=\"165.12\" y2=\"105.21600000000001\" /><line fill=\"#800080\" stroke=\"#000000\" stroke-width=\"1\" x1=\"220.03199999999998\" x2=\"280.576\" y1=\"105.21600000000001\" y2=\"150.528\" /><line fill=\"#800080\" stroke=\"#000000\" stroke-width=\"1\" x1=\"280.576\" x2=\"282.24\" y1=\"150.528\" y2=\"127.232\" /><line fill=\"#800080\" stroke=\"#000000\" stroke-width=\"1\" x1=\"282.24\" x2=\"190.72\" y1=\"127.232\" y2=\"0.0\" /><line fill=\"#800080\" stroke=\"#000000\" stroke-width=\"1\" x1=\"235.264\" x2=\"277.12\" y1=\"0.0\" y2=\"43.77600000000001\" /><line fill=\"#800080\" stroke=\"#000000\" stroke-width=\"1\" x1=\"277.12\" x2=\"275.2\" y1=\"43.77600000000001\" y2=\"0.0\" /><line fill=\"#800080\" stroke=\"#000000\" stroke-width=\"1\" x1=\"319.488\" x2=\"342.01599999999996\" y1=\"0.0\" y2=\"118.27199999999999\" /><line fill=\"#800080\" stroke=\"#000000\" stroke-width=\"1\" x1=\"342.01599999999996\" x2=\"402.176\" y1=\"118.27199999999999\" y2=\"36.352000000000004\" /><line fill=\"#800080\" stroke=\"#000000\" stroke-width=\"1\" x1=\"429.312\" x2=\"403.584\" y1=\"90.624\" y2=\"168.192\" /><line fill=\"#800080\" stroke=\"#000000\" stroke-width=\"1\" x1=\"403.584\" x2=\"361.08799999999997\" y1=\"168.192\" y2=\"168.192\" /><line fill=\"#800080\" stroke=\"#000000\" stroke-width=\"1\" x1=\"361.08799999999997\" x2=\"401.536\" y1=\"168.192\" y2=\"219.392\" /><line fill=\"#800080\" stroke=\"#000000\" stroke-width=\"1\" x1=\"401.536\" x2=\"403.2\" y1=\"219.392\" y2=\"256.0\" /><line fill=\"#800080\" stroke=\"#000000\" stroke-width=\"1\" x1=\"363.264\" x2=\"328.32\" y1=\"256.0\" y2=\"219.392\" /><line fill=\"#800080\" stroke=\"#000000\" stroke-width=\"1\" x1=\"328.32\" x2=\"317.312\" y1=\"219.392\" y2=\"168.192\" /><line fill=\"#800080\" stroke=\"#000000\" stroke-width=\"1\" x1=\"317.312\" x2=\"285.056\" y1=\"168.192\" y2=\"168.192\" /><line fill=\"#800080\" stroke=\"#000000\" stroke-width=\"1\" x1=\"285.056\" x2=\"244.864\" y1=\"168.192\" y2=\"154.88\" /><line fill=\"#800080\" stroke=\"#000000\" stroke-width=\"1\" x1=\"244.864\" x2=\"237.696\" y1=\"154.88\" y2=\"219.392\" /></svg>"
      ],
      "text/plain": [
       "<Canvas (256, 256)>"
      ]
     },
     "metadata": {},
     "output_type": "display_data"
    }
   ],
   "source": [
    "(define split-point (make-vect 0.5 0.0))\n",
    "(pic.clear)\n",
    "((transform-painter (flip-vert wave)\n",
    "                  (make-vect 0.0 0.0)\n",
    "                  split-point\n",
    "                  (make-vect 0.0 1.0)) frame0)\n",
    "((transform-painter (flip-vert wave)\n",
    "                    split-point\n",
    "                    split-point\n",
    "                    (make-vect 0.0 1.0)) frame0)\n",
    "(pic.update)"
   ]
  },
  {
   "cell_type": "code",
   "execution_count": 26,
   "metadata": {},
   "outputs": [
    {
     "data": {
      "image/svg+xml": [
       "<svg baseProfile=\"full\" height=\"256\" version=\"1.1\" width=\"256\" xmlns=\"http://www.w3.org/2000/svg\" xmlns:ev=\"http://www.w3.org/2001/xml-events\" xmlns:xlink=\"http://www.w3.org/1999/xlink\"><defs /><line fill=\"#800080\" stroke=\"#000000\" stroke-width=\"1\" x1=\"0.0\" x2=\"19.712\" y1=\"90.88\" y2=\"150.784\" /><line fill=\"#800080\" stroke=\"#000000\" stroke-width=\"1\" x1=\"19.712\" x2=\"38.656\" y1=\"150.784\" y2=\"105.47200000000001\" /><line fill=\"#800080\" stroke=\"#000000\" stroke-width=\"1\" x1=\"38.656\" x2=\"45.312\" y1=\"105.47200000000001\" y2=\"128.768\" /><line fill=\"#800080\" stroke=\"#000000\" stroke-width=\"1\" x1=\"45.312\" x2=\"31.36\" y1=\"128.768\" y2=\"256.0\" /><line fill=\"#800080\" stroke=\"#000000\" stroke-width=\"1\" x1=\"53.632\" x2=\"63.616\" y1=\"256.0\" y2=\"212.224\" /><line fill=\"#800080\" stroke=\"#000000\" stroke-width=\"1\" x1=\"63.616\" x2=\"73.6\" y1=\"212.224\" y2=\"256.0\" /><line fill=\"#800080\" stroke=\"#000000\" stroke-width=\"1\" x1=\"95.744\" x2=\"77.44\" y1=\"256.0\" y2=\"137.728\" /><line fill=\"#800080\" stroke=\"#000000\" stroke-width=\"1\" x1=\"77.44\" x2=\"128.0\" y1=\"137.728\" y2=\"219.648\" /><line fill=\"#800080\" stroke=\"#000000\" stroke-width=\"1\" x1=\"128.0\" x2=\"95.744\" y1=\"165.376\" y2=\"87.80799999999999\" /><line fill=\"#800080\" stroke=\"#000000\" stroke-width=\"1\" x1=\"95.744\" x2=\"74.496\" y1=\"87.80799999999999\" y2=\"87.80799999999999\" /><line fill=\"#800080\" stroke=\"#000000\" stroke-width=\"1\" x1=\"74.496\" x2=\"81.92\" y1=\"87.80799999999999\" y2=\"36.608000000000004\" /><line fill=\"#800080\" stroke=\"#000000\" stroke-width=\"1\" x1=\"81.92\" x2=\"73.6\" y1=\"36.608000000000004\" y2=\"0.0\" /><line fill=\"#800080\" stroke=\"#000000\" stroke-width=\"1\" x1=\"53.632\" x2=\"45.312\" y1=\"0.0\" y2=\"36.608000000000004\" /><line fill=\"#800080\" stroke=\"#000000\" stroke-width=\"1\" x1=\"45.312\" x2=\"52.608\" y1=\"36.608000000000004\" y2=\"87.80799999999999\" /><line fill=\"#800080\" stroke=\"#000000\" stroke-width=\"1\" x1=\"52.608\" x2=\"36.48\" y1=\"87.80799999999999\" y2=\"87.80799999999999\" /><line fill=\"#800080\" stroke=\"#000000\" stroke-width=\"1\" x1=\"36.48\" x2=\"19.712\" y1=\"87.80799999999999\" y2=\"101.12\" /><line fill=\"#800080\" stroke=\"#000000\" stroke-width=\"1\" x1=\"19.712\" x2=\"0.0\" y1=\"101.12\" y2=\"36.608000000000004\" /><line fill=\"#800080\" stroke=\"#000000\" stroke-width=\"1\" x1=\"128.0\" x2=\"147.712\" y1=\"90.88\" y2=\"150.784\" /><line fill=\"#800080\" stroke=\"#000000\" stroke-width=\"1\" x1=\"147.712\" x2=\"166.656\" y1=\"150.784\" y2=\"105.47200000000001\" /><line fill=\"#800080\" stroke=\"#000000\" stroke-width=\"1\" x1=\"166.656\" x2=\"173.312\" y1=\"105.47200000000001\" y2=\"128.768\" /><line fill=\"#800080\" stroke=\"#000000\" stroke-width=\"1\" x1=\"173.312\" x2=\"159.36\" y1=\"128.768\" y2=\"256.0\" /><line fill=\"#800080\" stroke=\"#000000\" stroke-width=\"1\" x1=\"181.632\" x2=\"191.61599999999999\" y1=\"256.0\" y2=\"212.224\" /><line fill=\"#800080\" stroke=\"#000000\" stroke-width=\"1\" x1=\"191.61599999999999\" x2=\"201.6\" y1=\"212.224\" y2=\"256.0\" /><line fill=\"#800080\" stroke=\"#000000\" stroke-width=\"1\" x1=\"223.744\" x2=\"205.44\" y1=\"256.0\" y2=\"137.728\" /><line fill=\"#800080\" stroke=\"#000000\" stroke-width=\"1\" x1=\"205.44\" x2=\"256.0\" y1=\"137.728\" y2=\"219.648\" /><line fill=\"#800080\" stroke=\"#000000\" stroke-width=\"1\" x1=\"256.0\" x2=\"223.744\" y1=\"165.376\" y2=\"87.80799999999999\" /><line fill=\"#800080\" stroke=\"#000000\" stroke-width=\"1\" x1=\"223.744\" x2=\"202.49599999999998\" y1=\"87.80799999999999\" y2=\"87.80799999999999\" /><line fill=\"#800080\" stroke=\"#000000\" stroke-width=\"1\" x1=\"202.49599999999998\" x2=\"209.92000000000002\" y1=\"87.80799999999999\" y2=\"36.608000000000004\" /><line fill=\"#800080\" stroke=\"#000000\" stroke-width=\"1\" x1=\"209.92000000000002\" x2=\"201.6\" y1=\"36.608000000000004\" y2=\"0.0\" /><line fill=\"#800080\" stroke=\"#000000\" stroke-width=\"1\" x1=\"181.632\" x2=\"173.312\" y1=\"0.0\" y2=\"36.608000000000004\" /><line fill=\"#800080\" stroke=\"#000000\" stroke-width=\"1\" x1=\"173.312\" x2=\"180.608\" y1=\"36.608000000000004\" y2=\"87.80799999999999\" /><line fill=\"#800080\" stroke=\"#000000\" stroke-width=\"1\" x1=\"180.608\" x2=\"164.48\" y1=\"87.80799999999999\" y2=\"87.80799999999999\" /><line fill=\"#800080\" stroke=\"#000000\" stroke-width=\"1\" x1=\"164.48\" x2=\"147.712\" y1=\"87.80799999999999\" y2=\"101.12\" /><line fill=\"#800080\" stroke=\"#000000\" stroke-width=\"1\" x1=\"147.712\" x2=\"128.0\" y1=\"101.12\" y2=\"36.608000000000004\" /></svg>"
      ],
      "text/plain": [
       "<Canvas (256, 256)>"
      ]
     },
     "metadata": {},
     "output_type": "display_data"
    }
   ],
   "source": [
    "(define (beside painter1 painter2)\n",
    "  (let ((split-point (make-vect 0.5 0.0)))\n",
    "    (let ((paint-left\n",
    "           (transform-painter painter1\n",
    "                              (make-vect 0.0 0.0)\n",
    "                              split-point\n",
    "                              (make-vect 0.0 1.0)))\n",
    "          (paint-right\n",
    "           (transform-painter painter2\n",
    "                              split-point\n",
    "                              (make-vect 1.0 0.0)\n",
    "                              (make-vect 0.5 1.0))))\n",
    "      (lambda (frame)\n",
    "        (paint-left frame)\n",
    "        (paint-right frame)\n",
    "        )\n",
    "      )\n",
    "    )\n",
    "  )\n",
    "\n",
    "(pic.clear)\n",
    "((beside wave wave) frame0)\n",
    "(pic.update)"
   ]
  },
  {
   "cell_type": "code",
   "execution_count": 30,
   "metadata": {},
   "outputs": [
    {
     "data": {
      "text/plain": [
       "12"
      ]
     },
     "execution_count": 30,
     "metadata": {},
     "output_type": "execute_result"
    }
   ],
   "source": [
    "(define (test n)\n",
    "  (lambda (x)\n",
    "    (* n x)\n",
    "    (* 2 n x)\n",
    "    )\n",
    "  )\n",
    "\n",
    "((test 2) 3)"
   ]
  },
  {
   "cell_type": "code",
   "execution_count": 39,
   "metadata": {},
   "outputs": [
    {
     "name": "stdout",
     "output_type": "stream",
     "text": [
      "2 3\n"
     ]
    },
    {
     "data": {
      "text/plain": [
       "12"
      ]
     },
     "execution_count": 39,
     "metadata": {},
     "output_type": "execute_result"
    }
   ],
   "source": [
    "(define (test n x)\n",
    "  (display n)\n",
    "  (display \" \"\"\")\n",
    "  (display x)\n",
    "  (newline)\n",
    "  (* 2 n x)\n",
    "  )\n",
    "\n",
    "(test 2 3)"
   ]
  },
  {
   "cell_type": "code",
   "execution_count": null,
   "metadata": {},
   "outputs": [],
   "source": []
  }
 ],
 "metadata": {
  "kernelspec": {
   "display_name": "Calysto Scheme 3",
   "language": "scheme",
   "name": "calysto_scheme"
  },
  "language_info": {
   "codemirror_mode": {
    "name": "scheme"
   },
   "mimetype": "text/x-scheme",
   "name": "scheme",
   "pygments_lexer": "scheme"
  }
 },
 "nbformat": 4,
 "nbformat_minor": 4
}
