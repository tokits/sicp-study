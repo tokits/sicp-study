{
 "cells": [
  {
   "cell_type": "markdown",
   "metadata": {},
   "source": [
    "# 環境構築\n",
    "\n",
    "- jupyter lab\n",
    "- calysto_scheme\n",
    "- calysto\n",
    "- gnuplot(libcairo-2.dllのインストール・Pathを設定)"
   ]
  },
  {
   "cell_type": "code",
   "execution_count": null,
   "metadata": {},
   "outputs": [],
   "source": [
    "https://notebook.community/dsblank/ProgLangBook/Reference%20Guide%20for%20Calysto%20Scheme\n",
    "\n",
    "https://github.com/Calysto/calysto/blob/master/calysto/graphics.py\n",
    "    "
   ]
  },
  {
   "cell_type": "markdown",
   "metadata": {},
   "source": [
    "図形言語については以下を参照しました。\n",
    "\n",
    "schemeによる図形言語の実装\n",
    "https://gist.github.com/tkmr/28498\n",
    "\n",
    "pythonでの図形言語の実装\n",
    "https://cortyuming.hateblo.jp/entry/20080724/p2"
   ]
  }
 ],
 "metadata": {
  "kernelspec": {
   "display_name": "Python 3",
   "language": "python",
   "name": "python3"
  },
  "language_info": {
   "codemirror_mode": {
    "name": "ipython",
    "version": 3
   },
   "file_extension": ".py",
   "mimetype": "text/x-python",
   "name": "python",
   "nbconvert_exporter": "python",
   "pygments_lexer": "ipython3",
   "version": "3.7.6"
  }
 },
 "nbformat": 4,
 "nbformat_minor": 4
}
