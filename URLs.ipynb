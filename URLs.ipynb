{
 "cells": [
  {
   "cell_type": "markdown",
   "metadata": {},
   "source": [
    "github URL  \n",
    "https://github.com/tokits/sicp-study/tree/master/\n",
    "\n",
    "nbviewer(githubで.ipynbファイルが正常に表示できない場合、.ipynbファイルを表示するサイト)  \n",
    "https://nbviewer.jupyter.org/\n",
    "\n",
    "計算機プログラムの構造と解釈(テキスト)\n",
    "http://vocrf.net/docs_ja/jsicp.pdf"
   ]
  }
 ],
 "metadata": {
  "kernelspec": {
   "display_name": "Python 3",
   "language": "python",
   "name": "python3"
  },
  "language_info": {
   "codemirror_mode": {
    "name": "ipython",
    "version": 3
   },
   "file_extension": ".py",
   "mimetype": "text/x-python",
   "name": "python",
   "nbconvert_exporter": "python",
   "pygments_lexer": "ipython3",
   "version": "3.7.6"
  }
 },
 "nbformat": 4,
 "nbformat_minor": 4
}
