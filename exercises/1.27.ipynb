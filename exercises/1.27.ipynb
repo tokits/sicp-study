{
 "cells": [
  {
   "cell_type": "markdown",
   "metadata": {},
   "source": [
    "### 練習問題1.27\n",
    "Footnote 1.47で挙げたカーマイケル数が実際にフェルマーテストを騙すということを実験せよ。  \n",
    "それはつまり、整数$n$を取り、すべての$a<n$について$a^n$が法$n$\n",
    "に関して$a$と合同になるかテストする⼿続きを書き、  \n",
    "与えられたカーマイケル数に対してその⼿続きを試すということになる。"
   ]
  },
  {
   "cell_type": "markdown",
   "metadata": {},
   "source": [
    "カーマイケル数  \n",
    "561, 1105, 1729, 2465, 2821, 6601\n"
   ]
  },
  {
   "cell_type": "code",
   "execution_count": 1,
   "metadata": {},
   "outputs": [],
   "source": [
    "(define (expmod base exp m)\n",
    "  (cond ((= exp 0) 1)\n",
    "        ((even? exp)(remainder (square (expmod base (/ exp 2) m)) m))\n",
    "        (else (remainder (* base (expmod base (- exp 1) m)) m)))\n",
    "  )\n",
    "(define (square x)(* x x))"
   ]
  },
  {
   "cell_type": "code",
   "execution_count": 2,
   "metadata": {},
   "outputs": [],
   "source": [
    "(define (loop p)\n",
    "  (define (loop-iter n)\n",
    "    (if (<= n p)\n",
    "        (begin\n",
    "         (display n)\n",
    "         (display \" \")\n",
    "         (display p)\n",
    "         (display \" \")\n",
    "         (display p)\n",
    "         (display \" \")\n",
    "         (display (= (expmod n p p) (remainder n p)))\n",
    "         (newline)\n",
    "         (loop-iter (+ n 1))\n",
    "         )\n",
    "    )\n",
    "   )\n",
    "  (loop-iter 1)\n",
    "  (newline)\n",
    "  )"
   ]
  },
  {
   "cell_type": "code",
   "execution_count": 3,
   "metadata": {},
   "outputs": [
    {
     "name": "stdout",
     "output_type": "stream",
     "text": [
      "1 13 13 True\n",
      "2 13 13 True\n",
      "3 13 13 True\n",
      "4 13 13 True\n",
      "5 13 13 True\n",
      "6 13 13 True\n",
      "7 13 13 True\n",
      "8 13 13 True\n",
      "9 13 13 True\n",
      "10 13 13 True\n",
      "11 13 13 True\n",
      "12 13 13 True\n",
      "13 13 13 True\n",
      "\n",
      "1 17 17 True\n",
      "2 17 17 True\n",
      "3 17 17 True\n",
      "4 17 17 True\n",
      "5 17 17 True\n",
      "6 17 17 True\n",
      "7 17 17 True\n",
      "8 17 17 True\n",
      "9 17 17 True\n",
      "10 17 17 True\n",
      "11 17 17 True\n",
      "12 17 17 True\n",
      "13 17 17 True\n",
      "14 17 17 True\n",
      "15 17 17 True\n",
      "16 17 17 True\n",
      "17 17 17 True\n",
      "\n",
      "1 21 21 True\n",
      "2 21 21 False\n",
      "3 21 21 False\n",
      "4 21 21 False\n",
      "5 21 21 False\n",
      "6 21 21 True\n",
      "7 21 21 True\n",
      "8 21 21 True\n",
      "9 21 21 False\n",
      "10 21 21 False\n",
      "11 21 21 False\n",
      "12 21 21 False\n",
      "13 21 21 True\n",
      "14 21 21 True\n",
      "15 21 21 True\n",
      "16 21 21 False\n",
      "17 21 21 False\n",
      "18 21 21 False\n",
      "19 21 21 False\n",
      "20 21 21 True\n",
      "21 21 21 True\n",
      "\n"
     ]
    }
   ],
   "source": [
    "(loop 13)\n",
    "(loop 17)\n",
    "(loop 21)"
   ]
  },
  {
   "cell_type": "code",
   "execution_count": 4,
   "metadata": {},
   "outputs": [],
   "source": [
    "(define (loop p)\n",
    "  (define (loop-iter n)\n",
    "    (if (<= n p)\n",
    "        (begin\n",
    "         (if (not (= (expmod n p p) (remainder n p)))\n",
    "             (begin\n",
    "              (display \"not primary\")\n",
    "              (newline)\n",
    "              #f\n",
    "              )\n",
    "             (loop-iter (+ n 1))\n",
    "             )\n",
    "         )\n",
    "        #t\n",
    "    )\n",
    "   )\n",
    "  (loop-iter 1)\n",
    "  )"
   ]
  },
  {
   "cell_type": "code",
   "execution_count": 5,
   "metadata": {},
   "outputs": [
    {
     "name": "stdout",
     "output_type": "stream",
     "text": [
      "True"
     ]
    }
   ],
   "source": [
    "(display (loop 17))"
   ]
  },
  {
   "cell_type": "code",
   "execution_count": 6,
   "metadata": {},
   "outputs": [
    {
     "name": "stdout",
     "output_type": "stream",
     "text": [
      "not primary\n",
      "False"
     ]
    }
   ],
   "source": [
    "(display (loop 21))"
   ]
  },
  {
   "cell_type": "code",
   "execution_count": 7,
   "metadata": {},
   "outputs": [
    {
     "data": {
      "text/plain": [
       "#t"
      ]
     },
     "execution_count": 7,
     "metadata": {},
     "output_type": "execute_result"
    }
   ],
   "source": [
    "(loop 561)"
   ]
  },
  {
   "cell_type": "code",
   "execution_count": 8,
   "metadata": {},
   "outputs": [
    {
     "data": {
      "text/plain": [
       "#t"
      ]
     },
     "execution_count": 8,
     "metadata": {},
     "output_type": "execute_result"
    }
   ],
   "source": [
    "(loop 1105)"
   ]
  },
  {
   "cell_type": "code",
   "execution_count": 9,
   "metadata": {},
   "outputs": [
    {
     "data": {
      "text/plain": [
       "#t"
      ]
     },
     "execution_count": 9,
     "metadata": {},
     "output_type": "execute_result"
    }
   ],
   "source": [
    "(loop 1729)"
   ]
  },
  {
   "cell_type": "code",
   "execution_count": 10,
   "metadata": {},
   "outputs": [
    {
     "data": {
      "text/plain": [
       "#t"
      ]
     },
     "execution_count": 10,
     "metadata": {},
     "output_type": "execute_result"
    }
   ],
   "source": [
    "(loop 2465)"
   ]
  },
  {
   "cell_type": "code",
   "execution_count": 11,
   "metadata": {},
   "outputs": [
    {
     "data": {
      "text/plain": [
       "#t"
      ]
     },
     "execution_count": 11,
     "metadata": {},
     "output_type": "execute_result"
    }
   ],
   "source": [
    "(loop 2821)"
   ]
  },
  {
   "cell_type": "code",
   "execution_count": 12,
   "metadata": {},
   "outputs": [
    {
     "data": {
      "text/plain": [
       "#t"
      ]
     },
     "execution_count": 12,
     "metadata": {},
     "output_type": "execute_result"
    }
   ],
   "source": [
    "(loop 6601)"
   ]
  }
 ],
 "metadata": {
  "kernelspec": {
   "display_name": "Calysto Scheme 3",
   "language": "scheme",
   "name": "calysto_scheme"
  },
  "language_info": {
   "codemirror_mode": {
    "name": "scheme"
   },
   "mimetype": "text/x-scheme",
   "name": "scheme",
   "pygments_lexer": "scheme"
  }
 },
 "nbformat": 4,
 "nbformat_minor": 4
}
