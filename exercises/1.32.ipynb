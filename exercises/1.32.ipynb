{
 "cells": [
  {
   "cell_type": "markdown",
   "metadata": {},
   "source": [
    "### 練習問題1.32\n",
    "a.  \n",
    "sumとproduct (練習問題1.31)は、どちらもaccumulate(集積)というより⼀般的な概念の特殊なケースであることを⽰せ。  \n",
    "集積とは、次のような⼀般的な集積関数を使って複数の項を組み合わせるものである。  \n",
    "\n",
    "    (accumulate combiner null-value term a next b)  \n",
    "\n",
    "accumulateは、sumやproductと同じく項と範囲指定の引数を取り、  \n",
    "それに加えて、それまでの項の集積と現在の項をどうやって結合するかを指定するcombiner⼿続き(2引数) と、  \n",
    "項がなくなったときにどのような基本値を使うかを指定 するnull-valueを引数に取る。  \n",
    "accumulateを書き、sumとproductの両⽅をaccumulateへの単純な呼び出しとして定 義できることを⽰せ。"
   ]
  },
  {
   "cell_type": "markdown",
   "metadata": {},
   "source": [
    "b.   \n",
    "あなたが書いたaccumulateが再帰プロセスを⽣成するので あれば、線形プロセスを⽣成するものを書け。線形プロセスを⽣成するのであれば、再帰プロセスを⽣成するものを書け。"
   ]
  },
  {
   "cell_type": "code",
   "execution_count": 1,
   "metadata": {},
   "outputs": [
    {
     "name": "stdout",
     "output_type": "stream",
     "text": [
      "24\n",
      "5050\n"
     ]
    }
   ],
   "source": [
    "; 線形反復プロセス\n",
    "(define (accumulate combiner null-value term a next b)\n",
    "  (define (iter a result)\n",
    "    (if (> a b) result\n",
    "        (iter (next a) (combiner result (term a)))\n",
    "        )\n",
    "    )\n",
    "  (iter a null-value)\n",
    "  )\n",
    "\n",
    "; aからbまでの整数の積\n",
    "(define (factorial a b)\n",
    "  (accumulate * 1 (lambda (x) x) a (lambda (n)(+ n 1)) b)\n",
    "  )\n",
    "(display (factorial 1 4))\n",
    "(newline)\n",
    "\n",
    "; aからbまでの整数の和\n",
    "(define (sum a b)\n",
    "  (accumulate + 0 (lambda (x) x) a (lambda (n)(+ n 1)) b)\n",
    "  )\n",
    "(display (sum 1 100))\n",
    "(newline)"
   ]
  },
  {
   "cell_type": "code",
   "execution_count": 2,
   "metadata": {},
   "outputs": [
    {
     "name": "stdout",
     "output_type": "stream",
     "text": [
      "24\n",
      "5050\n"
     ]
    }
   ],
   "source": [
    "; 線形反復プロセス\n",
    "(define (accumulate combiner null-value term a next b)\n",
    "  (if (> a b) null-value\n",
    "      (combiner (term a) (accumulate combiner null-value term (next a) next b))\n",
    "    )\n",
    "  )\n",
    "\n",
    "; aからbまでの整数の積\n",
    "(define (factorial a b)\n",
    "  (accumulate * 1 (lambda (x) x) a (lambda (n)(+ n 1)) b)\n",
    "  )\n",
    "(display (factorial 1 4))\n",
    "(newline)\n",
    "\n",
    "; aからbまでの整数の和\n",
    "(define (sum a b)\n",
    "  (accumulate + 0 (lambda (x) x) a (lambda (n)(+ n 1)) b)\n",
    "  )\n",
    "(display (sum 1 100))\n",
    "(newline)"
   ]
  }
 ],
 "metadata": {
  "kernelspec": {
   "display_name": "Calysto Scheme 3",
   "language": "scheme",
   "name": "calysto_scheme"
  },
  "language_info": {
   "codemirror_mode": {
    "name": "scheme"
   },
   "mimetype": "text/x-scheme",
   "name": "scheme",
   "pygments_lexer": "scheme"
  }
 },
 "nbformat": 4,
 "nbformat_minor": 4
}
