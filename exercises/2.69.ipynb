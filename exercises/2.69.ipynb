{
 "cells": [
  {
   "cell_type": "markdown",
   "metadata": {},
   "source": [
    "### 練習問題2.69\n",
    "以下の手続きは、引数として記号・頻度ペアのリ スト(同じ記号が⼆つ以上のペアに出てくることはない)を取り、  \n",
    "ハフマンアルゴリズムに従ってハフマン符号化木を⽣成する。\n",
    "\n",
    "    (define (generate-huffman-tree pairs)\n",
    "        (successive-merge (make-leaf-set pairs)))\n",
    "\n",
    "make-leaf-setは、上で記述した、ペアのリストを葉の順序つき集合に変換する⼿続きである。  \n",
    "successive-mergeは、集合の中で重みが最小の要素をmake-code-treeを使って順番にくっつけていき、  \n",
    "最後に要素がひとつだけ残るようにするというものである。  \n",
    "その要素が求めるハフマン木となる。  \n",
    "この手続きを書け  \n",
    "(この手続きにはちょっと厄介なところがあるが、  \n",
    " そこまで複雑ではない。もし⼿続きの設計が複雑になったとしたら、  \n",
    " ほぼ確実に何かを間違えている。  \n",
    " 順序つきの集合表現を使っているということが大きな助けになる)"
   ]
  },
  {
   "cell_type": "code",
   "execution_count": 111,
   "metadata": {},
   "outputs": [],
   "source": [
    "(define (make-leaf symbol weight) (list 'leaf symbol weight))\n",
    "(define (leaf? object) (eq? (car object) 'leaf))\n",
    "(define (symbol-leaf x) (cadr x))\n",
    "(define (weight-leaf x) (caddr x))\n",
    "\n",
    "; コンストラクタ\n",
    "(define (make-code-tree left right)\n",
    "  (list left right\n",
    "        (append (symbols left) (symbols right))\n",
    "        (+ (weight left) (weight right))\n",
    "    )\n",
    "  )\n",
    "\n",
    "; セレクタ\n",
    "(define (left-branch tree) (car tree))\n",
    "(define (right-branch tree) (cadr tree))\n",
    "(define (symbols tree)\n",
    "  (if (leaf? tree) (list (symbol-leaf tree))\n",
    "      (caddr tree)\n",
    "    )\n",
    "  )\n",
    "(define (weight tree)\n",
    "  (if (leaf? tree) (weight-leaf tree)\n",
    "      (cadddr tree)\n",
    "    )\n",
    "  )\n",
    "\n",
    "(define (decode bits tree)\n",
    "  (define (decode-1 bits current-branch)\n",
    "    (if (null? bits) '()\n",
    "        (let ((next-branch (choose-branch (car bits) current-branch)))\n",
    "          (if (leaf? next-branch) (cons (symbol-leaf next-branch) (decode-1 (cdr bits) tree))\n",
    "              (decode-1 (cdr bits) next-branch))\n",
    "          )\n",
    "    )\n",
    "    )\n",
    "  (decode-1 bits tree)\n",
    ")  \n",
    "(define (choose-branch bit branch)\n",
    "  (cond ((= bit 0) (left-branch branch))\n",
    "        ((= bit 1) (right-branch branch))\n",
    "        (else (error \"bad bit: CHOOSE-BRANCH\" bit))\n",
    "        )\n",
    "  )\n",
    "\n",
    "(define (adjoin-set x set)\n",
    "  (cond ((null? set) (list x))\n",
    "        ((< (weight x) (weight (car set))) (cons x set))\n",
    "        (else (cons (car set) (adjoin-set x (cdr set))))))\n",
    "\n",
    "(define (make-leaf-set pairs)\n",
    "  (if (null? pairs) '()\n",
    "      (let ((pair (car pairs)))\n",
    "        (adjoin-set (make-leaf (car pair) ; symbol\n",
    "                               (cadr pair)) ; weight\n",
    "                    (make-leaf-set (cdr pairs)))\n",
    "        )\n",
    "    )\n",
    "  )"
   ]
  },
  {
   "cell_type": "code",
   "execution_count": 112,
   "metadata": {},
   "outputs": [],
   "source": [
    "(define sample-tree\n",
    "    (make-code-tree (make-leaf 'A 4)\n",
    "        (make-code-tree (make-leaf 'B 2)\n",
    "            (make-code-tree (make-leaf 'D 1)\n",
    "                (make-leaf 'C 1)\n",
    "            )\n",
    "        )\n",
    "    )\n",
    ")\n",
    "(define sample-message '(0 1 1 0 0 1 0 1 0 1 1 1 0))"
   ]
  },
  {
   "cell_type": "code",
   "execution_count": 113,
   "metadata": {},
   "outputs": [
    {
     "data": {
      "text/plain": [
       "(A D A B B C A)"
      ]
     },
     "execution_count": 113,
     "metadata": {},
     "output_type": "execute_result"
    }
   ],
   "source": [
    "; 復号\n",
    "(decode sample-message sample-tree)"
   ]
  },
  {
   "cell_type": "code",
   "execution_count": 114,
   "metadata": {},
   "outputs": [
    {
     "data": {
      "text/plain": [
       "((leaf A 4) ((leaf B 2) ((leaf D 1) (leaf C 1) (D C) 2) (B D C) 4) (A B D C) 8)"
      ]
     },
     "execution_count": 114,
     "metadata": {},
     "output_type": "execute_result"
    }
   ],
   "source": [
    "; ハフマン符号化木の確認\n",
    "sample-tree"
   ]
  },
  {
   "cell_type": "code",
   "execution_count": 115,
   "metadata": {},
   "outputs": [],
   "source": [
    "; 符号化処理\n",
    "; 回答\n",
    "(define (encode-symbol symbol tree)\n",
    "  (define (iter sub result)\n",
    "    (if (leaf? sub)\n",
    "        (if (eq? (symbol-leaf sub) symbol) result\n",
    "            '())\n",
    "        (let ((l (left-branch sub))\n",
    "              (r (right-branch sub)))\n",
    "          (let ((l-result (iter l (append result '(0)))))\n",
    "            (if (not (null? l-result)) l-result\n",
    "                (iter r (append result '(1)))\n",
    "              )\n",
    "            )\n",
    "        )\n",
    "      )\n",
    "    )\n",
    "  (let ((result (iter tree '())))\n",
    "    (if (null? result) (error \"bad symbol: ENCODE\" symbol)\n",
    "        result\n",
    "        )\n",
    "    )\n",
    ")"
   ]
  },
  {
   "cell_type": "code",
   "execution_count": 116,
   "metadata": {},
   "outputs": [
    {
     "name": "stdout",
     "output_type": "stream",
     "text": [
      "(0)\n",
      "(1 0)\n",
      "(1 1 1)\n",
      "(1 1 0)\n"
     ]
    }
   ],
   "source": [
    "; 個々の記号で動作確認\n",
    "(display (encode-symbol 'A sample-tree))\n",
    "(newline)\n",
    "(display (encode-symbol 'B sample-tree))\n",
    "(newline)\n",
    "(display (encode-symbol 'C sample-tree))\n",
    "(newline)\n",
    "(display (encode-symbol 'D sample-tree))\n",
    "(newline)\n",
    ";(display (encode-symbol 'E sample-tree))\n",
    ";(newline)"
   ]
  },
  {
   "cell_type": "code",
   "execution_count": 117,
   "metadata": {},
   "outputs": [],
   "source": [
    "; 問題の符号化処理 \n",
    "(define (encode message tree)\n",
    "    (if (null? message) '()\n",
    "        (append\n",
    "            (encode-symbol (car message) tree)\n",
    "            (encode (cdr message) tree))\n",
    "    )\n",
    ")"
   ]
  },
  {
   "cell_type": "code",
   "execution_count": 118,
   "metadata": {},
   "outputs": [
    {
     "data": {
      "text/plain": [
       "(0 1 1 0 0 1 0 1 0 1 1 1 0)"
      ]
     },
     "execution_count": 118,
     "metadata": {},
     "output_type": "execute_result"
    }
   ],
   "source": [
    "(encode '(A D A B B C A) sample-tree)"
   ]
  },
  {
   "cell_type": "code",
   "execution_count": 119,
   "metadata": {},
   "outputs": [
    {
     "data": {
      "text/plain": [
       "((A 4) (B 2) (D 1) (C 1))"
      ]
     },
     "execution_count": 119,
     "metadata": {},
     "output_type": "execute_result"
    }
   ],
   "source": [
    "(define sample2 (list (list 'A 4) (list 'B 2) (list 'D 1) (list 'C 1)))\n",
    "sample2"
   ]
  },
  {
   "cell_type": "code",
   "execution_count": 120,
   "metadata": {},
   "outputs": [
    {
     "data": {
      "text/plain": [
       "((leaf C 1) (leaf D 1) (leaf B 2) (leaf A 4))"
      ]
     },
     "execution_count": 120,
     "metadata": {},
     "output_type": "execute_result"
    }
   ],
   "source": [
    "; 逆順で返ってくることに注意\n",
    "(make-leaf-set sample2)"
   ]
  },
  {
   "cell_type": "code",
   "execution_count": 121,
   "metadata": {},
   "outputs": [],
   "source": [
    "; 間違った実装\n",
    "(define (successive-merge set)\n",
    "  (define (iter sub)\n",
    "    (cond ((null? sub) '())\n",
    "          ((= (length sub) 1) sub)\n",
    "          ((= (length sub) 2) (make-code-tree (car sub) (cadr sub)))\n",
    "          (else (make-code-tree (car sub) (iter (cdr sub))))\n",
    "        )\n",
    "    )\n",
    "  (iter (reverse set))\n",
    "  )"
   ]
  },
  {
   "cell_type": "code",
   "execution_count": 122,
   "metadata": {},
   "outputs": [],
   "source": [
    "(define (generate-huffman-tree pairs)\n",
    "    (successive-merge (make-leaf-set pairs)))"
   ]
  },
  {
   "cell_type": "code",
   "execution_count": 123,
   "metadata": {},
   "outputs": [
    {
     "data": {
      "text/plain": [
       "((leaf A 4) ((leaf B 2) ((leaf D 1) (leaf C 1) (D C) 2) (B D C) 4) (A B D C) 8)"
      ]
     },
     "execution_count": 123,
     "metadata": {},
     "output_type": "execute_result"
    }
   ],
   "source": [
    "(define sample-tree2 (generate-huffman-tree sample2))\n",
    "sample-tree2"
   ]
  },
  {
   "cell_type": "code",
   "execution_count": 239,
   "metadata": {},
   "outputs": [],
   "source": [
    ";\n",
    "(define (successive-merge set)\n",
    "  (define (iter sub result)\n",
    "    (cond ((null? sub) result)\n",
    "          ((null? result) (iter (cddr sub) (make-code-tree (cadr sub) (car sub))))\n",
    "          ;((not (pair? sub))\n",
    "          ; (if (>= (weight sub) (weight result)) (make-code-tree sub result)\n",
    "          ;     (make-code-tree result sub)\n",
    "          ;     )\n",
    "          ; )\n",
    "          ;((= (length sub) 1) (make-code-tree sub result))\n",
    "          ((>= (length sub) 3) (iter (cddr sub) (make-code-tree (make-code-tree (cadr sub) (car sub)) result)))\n",
    "          (else\n",
    "           (let ((top (car sub))\n",
    "                 (next (cdr sub)))\n",
    "             (display sub)\n",
    "             (newline)\n",
    "             (display top)\n",
    "             (newline)\n",
    "             (display next)\n",
    "             (newline)\n",
    "             (display (weight top))\n",
    "             (newline)\n",
    "             (display (weight result))\n",
    "             (newline)\n",
    "             ;(if (>= (weight top) (weight result)) (iter next (make-code-tree top result))\n",
    "             ;    ;(make-code-tree (iter next top) result)\n",
    "             ;    ;(iter next (make-code-tree result top))\n",
    "             ;    (iter next (make-code-tree top result))\n",
    "             ;  )\n",
    "             (iter next (make-code-tree top result))\n",
    "             )\n",
    "           )\n",
    "        )\n",
    "    )\n",
    "  (iter set '())\n",
    "  )"
   ]
  },
  {
   "cell_type": "code",
   "execution_count": 240,
   "metadata": {},
   "outputs": [
    {
     "name": "stdout",
     "output_type": "stream",
     "text": [
      "((leaf B 2) (leaf A 4))\n",
      "(leaf B 2)\n",
      "((leaf A 4))\n",
      "2\n",
      "2\n",
      "((leaf A 4))\n",
      "(leaf A 4)\n",
      "()\n",
      "4\n",
      "4\n"
     ]
    },
    {
     "data": {
      "text/plain": [
       "((leaf A 4) ((leaf B 2) ((leaf D 1) (leaf C 1) (D C) 2) (B D C) 4) (A B D C) 8)"
      ]
     },
     "execution_count": 240,
     "metadata": {},
     "output_type": "execute_result"
    }
   ],
   "source": [
    "(define sample-tree2 (generate-huffman-tree sample2))\n",
    "sample-tree2"
   ]
  },
  {
   "cell_type": "code",
   "execution_count": 241,
   "metadata": {},
   "outputs": [
    {
     "name": "stdout",
     "output_type": "stream",
     "text": [
      "((leaf B 3) (leaf A 8))\n",
      "(leaf B 3)\n",
      "((leaf A 8))\n",
      "3\n",
      "6\n",
      "((leaf A 8))\n",
      "(leaf A 8)\n",
      "()\n",
      "8\n",
      "9\n"
     ]
    },
    {
     "data": {
      "text/plain": [
       "((leaf A 8) ((leaf B 3) (((leaf C 1) (leaf D 1) (C D) 2) (((leaf E 1) (leaf F 1) (E F) 2) ((leaf G 1) (leaf H 1) (G H) 2) (E F G H) 4) (C D E F G H) 6) (B C D E F G H) 9) (A B C D E F G H) 17)"
      ]
     },
     "execution_count": 241,
     "metadata": {},
     "output_type": "execute_result"
    }
   ],
   "source": [
    "(define sample-tree3 \n",
    "  (generate-huffman-tree\n",
    "     (list (list 'A 8) (list 'B 3) (list 'C 1) (list 'D 1) (list 'E 1) (list 'F 1) (list 'G 1) (list 'H 1)))\n",
    "  )\n",
    "sample-tree3"
   ]
  },
  {
   "cell_type": "code",
   "execution_count": 242,
   "metadata": {},
   "outputs": [
    {
     "name": "stdout",
     "output_type": "stream",
     "text": [
      "(0)\n",
      "(1 0)\n",
      "(1 1 1)\n",
      "(1 1 0)\n"
     ]
    }
   ],
   "source": [
    "(display (encode '(A) sample-tree2))\n",
    "(newline)\n",
    "(display (encode '(B) sample-tree2))\n",
    "(newline)\n",
    "(display (encode '(C) sample-tree2))\n",
    "(newline)\n",
    "(display (encode '(D) sample-tree2))\n",
    "(newline)\n"
   ]
  },
  {
   "cell_type": "code",
   "execution_count": 243,
   "metadata": {},
   "outputs": [
    {
     "name": "stdout",
     "output_type": "stream",
     "text": [
      "(0)\n",
      "(1 0)\n",
      "(1 1 0 0)\n",
      "(1 1 0 1)\n",
      "(1 1 1 0 0)\n",
      "(1 1 1 0 1)\n",
      "(1 1 1 1 0)\n",
      "(1 1 1 1 1)\n"
     ]
    }
   ],
   "source": [
    "(display (encode '(A) sample-tree3))\n",
    "(newline)\n",
    "(display (encode '(B) sample-tree3))\n",
    "(newline)\n",
    "(display (encode '(C) sample-tree3))\n",
    "(newline)\n",
    "(display (encode '(D) sample-tree3))\n",
    "(newline)\n",
    "(display (encode '(E) sample-tree3))\n",
    "(newline)\n",
    "(display (encode '(F) sample-tree3))\n",
    "(newline)\n",
    "(display (encode '(G) sample-tree3))\n",
    "(newline)\n",
    "(display (encode '(H) sample-tree3))\n",
    "(newline)"
   ]
  },
  {
   "cell_type": "code",
   "execution_count": 196,
   "metadata": {},
   "outputs": [
    {
     "data": {
      "text/plain": [
       "(A D A B B C A)"
      ]
     },
     "execution_count": 196,
     "metadata": {},
     "output_type": "execute_result"
    }
   ],
   "source": [
    "(decode '(0 1 1 0 0 1 0 1 0 1 1 1 0) sample-tree2)"
   ]
  },
  {
   "cell_type": "code",
   "execution_count": 197,
   "metadata": {},
   "outputs": [
    {
     "data": {
      "text/plain": [
       "(0 1 1 0 0 1 0 1 0 1 1 1 0)"
      ]
     },
     "execution_count": 197,
     "metadata": {},
     "output_type": "execute_result"
    }
   ],
   "source": [
    "(encode '(A D A B B C A) sample-tree2)"
   ]
  },
  {
   "cell_type": "code",
   "execution_count": 199,
   "metadata": {},
   "outputs": [
    {
     "data": {
      "text/plain": [
       "(A C A C A A C A A A C A A A A C B E A A A A A C A A A A A A)"
      ]
     },
     "execution_count": 199,
     "metadata": {},
     "output_type": "execute_result"
    }
   ],
   "source": [
    "(decode '(1 0 0 1 1 0 0 1 1 1 0 0 1 1 1 1 0 0 1 1 1 1 1 0 0 1 0 1 0 0 0 0 1 1 1 1 1 1 0 0 1 1 1 1 1 1 1) sample-tree3)"
   ]
  },
  {
   "cell_type": "code",
   "execution_count": 200,
   "metadata": {},
   "outputs": [
    {
     "data": {
      "text/plain": [
       "(A D B C B A B A D A B B C F A A C A A A)"
      ]
     },
     "execution_count": 200,
     "metadata": {},
     "output_type": "execute_result"
    }
   ],
   "source": [
    "(decode '(1 0 0 0 1 0 1 0 0 1 0 1 1 0 1 1 0 0 0 1 1 0 1 0 1 0 0 1 0 0 0 0 0 1 1 1 0 0 1 1 1 1) sample-tree3)"
   ]
  },
  {
   "cell_type": "code",
   "execution_count": 201,
   "metadata": {},
   "outputs": [
    {
     "data": {
      "text/plain": [
       "(0 1 1 0 0 1 1 0 0 0 1 1 0 0 0 0 1 1 0 0 0 0 0 1 1 0 1 0 1 1 1 1 0 0 0 0 0 0 0 1 0 0 0 0 0 0 1)"
      ]
     },
     "execution_count": 201,
     "metadata": {},
     "output_type": "execute_result"
    }
   ],
   "source": [
    "(encode '(B A C A D A E A F A B B A A A G A H) sample-tree3)"
   ]
  },
  {
   "cell_type": "code",
   "execution_count": 99,
   "metadata": {},
   "outputs": [
    {
     "data": {
      "text/plain": [
       "((leaf A 8) (((leaf B 3) ((leaf C 1) (leaf D 1) (C D) 2) (B C D) 5) (((leaf E 1) (leaf F 1) (E F) 2) ((leaf G 1) (leaf H 1) (G H) 2) (E F G H) 4) (B C D E F G H) 9) (A B C D E F G H) 17)"
      ]
     },
     "execution_count": 99,
     "metadata": {},
     "output_type": "execute_result"
    }
   ],
   "source": [
    "(define sample-tree4\n",
    "    (make-code-tree (make-leaf 'A 8)\n",
    "        (make-code-tree\n",
    "            (make-code-tree (make-leaf 'B 3)\n",
    "                            (make-code-tree (make-leaf 'C 1) (make-leaf 'D 1))\n",
    "            )\n",
    "            (make-code-tree (make-code-tree (make-leaf 'E 1) (make-leaf 'F 1))\n",
    "                            (make-code-tree (make-leaf 'G 1) (make-leaf 'H 1))\n",
    "            )\n",
    "        )\n",
    "    )\n",
    ")\n",
    "sample-tree4"
   ]
  },
  {
   "cell_type": "code",
   "execution_count": 100,
   "metadata": {},
   "outputs": [
    {
     "name": "stdout",
     "output_type": "stream",
     "text": [
      "(0)\n",
      "(1 0 0)\n",
      "(1 0 1 0)\n",
      "(1 0 1 1)\n",
      "(1 1 0 0)\n",
      "(1 1 0 1)\n",
      "(1 1 1 0)\n",
      "(1 1 1 1)\n"
     ]
    }
   ],
   "source": [
    "(display (encode '(A) sample-tree4))\n",
    "(newline)\n",
    "(display (encode '(B) sample-tree4))\n",
    "(newline)\n",
    "(display (encode '(C) sample-tree4))\n",
    "(newline)\n",
    "(display (encode '(D) sample-tree4))\n",
    "(newline)\n",
    "(display (encode '(E) sample-tree4))\n",
    "(newline)\n",
    "(display (encode '(F) sample-tree4))\n",
    "(newline)\n",
    "(display (encode '(G) sample-tree4))\n",
    "(newline)\n",
    "(display (encode '(H) sample-tree4))\n",
    "(newline)"
   ]
  },
  {
   "cell_type": "code",
   "execution_count": 101,
   "metadata": {},
   "outputs": [
    {
     "data": {
      "text/plain": [
       "(B A C A D A E A F A B B A A A G A H)"
      ]
     },
     "execution_count": 101,
     "metadata": {},
     "output_type": "execute_result"
    }
   ],
   "source": [
    "(decode '(1 0 0 0 1 0 1 0 0 1 0 1 1 0 1 1 0 0 0 1 1 0 1 0 1 0 0 1 0 0 0 0 0 1 1 1 0 0 1 1 1 1) sample-tree4)"
   ]
  },
  {
   "cell_type": "code",
   "execution_count": 102,
   "metadata": {},
   "outputs": [
    {
     "data": {
      "text/plain": [
       "(1 0 0 0 1 0 1 0 0 1 0 1 1 0 1 1 0 0 0 1 1 0 1 0 1 0 0 1 0 0 0 0 0 1 1 1 0 0 1 1 1 1)"
      ]
     },
     "execution_count": 102,
     "metadata": {},
     "output_type": "execute_result"
    }
   ],
   "source": [
    "(encode '(B A C A D A E A F A B B A A A G A H) sample-tree4)"
   ]
  },
  {
   "cell_type": "code",
   "execution_count": 103,
   "metadata": {},
   "outputs": [
    {
     "data": {
      "text/plain": [
       "(3 4)"
      ]
     },
     "execution_count": 103,
     "metadata": {},
     "output_type": "execute_result"
    }
   ],
   "source": [
    "(cddr '(1 2 3 4))"
   ]
  },
  {
   "cell_type": "code",
   "execution_count": null,
   "metadata": {},
   "outputs": [],
   "source": []
  }
 ],
 "metadata": {
  "kernelspec": {
   "display_name": "Calysto Scheme 3",
   "language": "scheme",
   "name": "calysto_scheme"
  },
  "language_info": {
   "codemirror_mode": {
    "name": "scheme"
   },
   "mimetype": "text/x-scheme",
   "name": "scheme",
   "pygments_lexer": "scheme"
  }
 },
 "nbformat": 4,
 "nbformat_minor": 4
}
