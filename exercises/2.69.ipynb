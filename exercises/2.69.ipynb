{
 "cells": [
  {
   "cell_type": "markdown",
   "metadata": {},
   "source": [
    "### 練習問題2.69\n",
    "以下の手続きは、引数として記号・頻度ペアのリ スト(同じ記号が⼆つ以上のペアに出てくることはない)を取り、  \n",
    "ハフマンアルゴリズムに従ってハフマン符号化木を⽣成する。\n",
    "\n",
    "    (define (generate-huffman-tree pairs)\n",
    "        (successive-merge (make-leaf-set pairs)))\n",
    "\n",
    "make-leaf-setは、上で記述した、ペアのリストを葉の順序つき集合に変換する⼿続きである。  \n",
    "successive-mergeは、集合の中で重みが最小の要素をmake-code-treeを使って順番にくっつけていき、  \n",
    "最後に要素がひとつだけ残るようにするというものである。  \n",
    "その要素が求めるハフマン木となる。  \n",
    "この手続きを書け  \n",
    "(この手続きにはちょっと厄介なところがあるが、  \n",
    " そこまで複雑ではない。もし⼿続きの設計が複雑になったとしたら、  \n",
    " ほぼ確実に何かを間違えている。  \n",
    " 順序つきの集合表現を使っているということが大きな助けになる)"
   ]
  },
  {
   "cell_type": "code",
   "execution_count": 1,
   "metadata": {},
   "outputs": [],
   "source": [
    "(define (make-leaf symbol weight) (list 'leaf symbol weight))\n",
    "(define (leaf? object) (eq? (car object) 'leaf))\n",
    "(define (symbol-leaf x) (cadr x))\n",
    "(define (weight-leaf x) (caddr x))\n",
    "\n",
    "; コンストラクタ\n",
    "(define (make-code-tree left right)\n",
    "  (list left right\n",
    "        (append (symbols left) (symbols right))\n",
    "        (+ (weight left) (weight right))\n",
    "    )\n",
    "  )\n",
    "\n",
    "; セレクタ\n",
    "(define (left-branch tree) (car tree))\n",
    "(define (right-branch tree) (cadr tree))\n",
    "(define (symbols tree)\n",
    "  (if (leaf? tree) (list (symbol-leaf tree))\n",
    "      (caddr tree)\n",
    "    )\n",
    "  )\n",
    "(define (weight tree)\n",
    "  (if (leaf? tree) (weight-leaf tree)\n",
    "      (cadddr tree)\n",
    "    )\n",
    "  )\n",
    "\n",
    "(define (decode bits tree)\n",
    "  (define (decode-1 bits current-branch)\n",
    "    (if (null? bits) '()\n",
    "        (let ((next-branch (choose-branch (car bits) current-branch)))\n",
    "          (if (leaf? next-branch) (cons (symbol-leaf next-branch) (decode-1 (cdr bits) tree))\n",
    "              (decode-1 (cdr bits) next-branch))\n",
    "          )\n",
    "    )\n",
    "    )\n",
    "  (decode-1 bits tree)\n",
    ")  \n",
    "(define (choose-branch bit branch)\n",
    "  (cond ((= bit 0) (left-branch branch))\n",
    "        ((= bit 1) (right-branch branch))\n",
    "        (else (error \"bad bit: CHOOSE-BRANCH\" bit))\n",
    "        )\n",
    "  )\n",
    "\n",
    "(define (adjoin-set x set)\n",
    "  (cond ((null? set) (list x))\n",
    "        ((< (weight x) (weight (car set))) (cons x set))\n",
    "        (else (cons (car set) (adjoin-set x (cdr set))))))\n",
    "\n",
    "(define (make-leaf-set pairs)\n",
    "  (if (null? pairs) '()\n",
    "      (let ((pair (car pairs)))\n",
    "        (adjoin-set (make-leaf (car pair) ; symbol\n",
    "                               (cadr pair)) ; weight\n",
    "                    (make-leaf-set (cdr pairs)))\n",
    "        )\n",
    "    )\n",
    "  )"
   ]
  },
  {
   "cell_type": "code",
   "execution_count": 2,
   "metadata": {},
   "outputs": [],
   "source": [
    "; 符号化処理\n",
    "(define (encode-symbol symbol tree)\n",
    "  (define (iter sub result)\n",
    "    (if (leaf? sub)\n",
    "        (if (eq? (symbol-leaf sub) symbol) result\n",
    "            '())\n",
    "        (let ((l (left-branch sub))\n",
    "              (r (right-branch sub)))\n",
    "          (let ((l-result (iter l (append result '(0)))))\n",
    "            (if (not (null? l-result)) l-result\n",
    "                (iter r (append result '(1)))\n",
    "              )\n",
    "            )\n",
    "        )\n",
    "      )\n",
    "    )\n",
    "  (let ((result (iter tree '())))\n",
    "    (if (null? result) (error \"bad symbol: ENCODE\" symbol)\n",
    "        result\n",
    "        )\n",
    "    )\n",
    ")\n",
    "\n",
    "; 符号化処理 \n",
    "(define (encode message tree)\n",
    "    (if (null? message) '()\n",
    "        (append\n",
    "            (encode-symbol (car message) tree)\n",
    "            (encode (cdr message) tree))\n",
    "    )\n",
    ")"
   ]
  },
  {
   "cell_type": "code",
   "execution_count": 3,
   "metadata": {},
   "outputs": [
    {
     "data": {
      "text/plain": [
       "((leaf C 1) (leaf D 1) (leaf B 2) (leaf A 4))"
      ]
     },
     "execution_count": 3,
     "metadata": {},
     "output_type": "execute_result"
    }
   ],
   "source": [
    "; 逆順で返ってくることに注意\n",
    "(make-leaf-set '((A 4) (B 2) (D 1) (C 1)))"
   ]
  },
  {
   "cell_type": "code",
   "execution_count": 4,
   "metadata": {},
   "outputs": [],
   "source": [
    "; 間違った実装\n",
    "(define (successive-merge-ng set)\n",
    "  (define (iter sub)\n",
    "    (cond ((null? sub) '())\n",
    "          ((= (length sub) 1) sub)\n",
    "          ((= (length sub) 2) (make-code-tree (car sub) (cadr sub)))\n",
    "          (else (make-code-tree (car sub) (iter (cdr sub))))\n",
    "        )\n",
    "    )\n",
    "  (iter (reverse set))\n",
    "  )\n",
    "\n",
    "(define (generate-huffman-tree-ng pairs)\n",
    "    (successive-merge-ng (make-leaf-set pairs)))"
   ]
  },
  {
   "cell_type": "code",
   "execution_count": 5,
   "metadata": {},
   "outputs": [
    {
     "data": {
      "text/plain": [
       "((leaf A 4) ((leaf B 2) ((leaf D 1) (leaf C 1) (D C) 2) (B D C) 4) (A B D C) 8)"
      ]
     },
     "execution_count": 5,
     "metadata": {},
     "output_type": "execute_result"
    }
   ],
   "source": [
    "; あまりネストしてない例だとうまく動作しているようにみえる。\n",
    "(define sample-tree1 (generate-huffman-tree-ng '((A 4) (B 2) (D 1) (C 1))))\n",
    "sample-tree1"
   ]
  },
  {
   "cell_type": "code",
   "execution_count": 6,
   "metadata": {},
   "outputs": [
    {
     "data": {
      "text/plain": [
       "((leaf A 10) ((leaf B 4) ((leaf C 1) ((leaf D 1) ((leaf E 1) ((leaf F 1) ((leaf G 1) (leaf H 1) (G H) 2) (F G H) 3) (E F G H) 4) (D E F G H) 5) (C D E F G H) 6) (B C D E F G H) 10) (A B C D E F G H) 20)"
      ]
     },
     "execution_count": 6,
     "metadata": {},
     "output_type": "execute_result"
    }
   ],
   "source": [
    "(define sample-tree2 (generate-huffman-tree-ng '((A 10) (B 4) (C 1) (D 1) (E 1) (F 1) (G 1) (H 1))))\n",
    "sample-tree2"
   ]
  },
  {
   "cell_type": "code",
   "execution_count": 7,
   "metadata": {},
   "outputs": [
    {
     "name": "stdout",
     "output_type": "stream",
     "text": [
      "(0)\n",
      "(1 0)\n",
      "(1 1 1)\n",
      "(1 1 0)\n"
     ]
    }
   ],
   "source": [
    "(display (encode '(A) sample-tree1))\n",
    "(newline)\n",
    "(display (encode '(B) sample-tree1))\n",
    "(newline)\n",
    "(display (encode '(C) sample-tree1))\n",
    "(newline)\n",
    "(display (encode '(D) sample-tree1))\n",
    "(newline)\n"
   ]
  },
  {
   "cell_type": "code",
   "execution_count": 8,
   "metadata": {},
   "outputs": [
    {
     "name": "stdout",
     "output_type": "stream",
     "text": [
      "(0)\n",
      "(1 0)\n",
      "(1 1 0)\n",
      "(1 1 1 0)\n",
      "(1 1 1 1 0)\n",
      "(1 1 1 1 1 0)\n",
      "(1 1 1 1 1 1 0)\n",
      "(1 1 1 1 1 1 1)\n"
     ]
    }
   ],
   "source": [
    "(display (encode '(A) sample-tree2))\n",
    "(newline)\n",
    "(display (encode '(B) sample-tree2))\n",
    "(newline)\n",
    "(display (encode '(C) sample-tree2))\n",
    "(newline)\n",
    "(display (encode '(D) sample-tree2))\n",
    "(newline)\n",
    "(display (encode '(E) sample-tree2))\n",
    "(newline)\n",
    "(display (encode '(F) sample-tree2))\n",
    "(newline)\n",
    "(display (encode '(G) sample-tree2))\n",
    "(newline)\n",
    "(display (encode '(H) sample-tree2))\n",
    "(newline)"
   ]
  },
  {
   "cell_type": "code",
   "execution_count": 9,
   "metadata": {},
   "outputs": [],
   "source": [
    "; 考え直した回答\n",
    "\n",
    "; 指定した頻度がリストに含まれているか。\n",
    "; 含まれていない場合、falseを返す。\n",
    "; 含まれている場合、最初に見つかったペアと次のペアを返す。（これの2つで木を生成する）\n",
    "(define (have-weight? w set)\n",
    "  ;(display \"have-weight? \")\n",
    "  ;(display w)\n",
    "  ;(display \" \")\n",
    "  ;(display set)\n",
    "  ;(display \" \")\n",
    "  ;(newline)\n",
    "  (cond ((null? set) #f)\n",
    "        ((not (pair? set))\n",
    "         (if (= (weight set) w) (list set)\n",
    "             #f\n",
    "             )\n",
    "         )\n",
    "        (else\n",
    "         (if (= (weight (car set)) w) (list (car set) (cadr set))\n",
    "             (have-weight? w (cdr set))\n",
    "             )\n",
    "         )\n",
    "    )\n",
    ")\n",
    "\n",
    "; ハフマン符号木の生成の記号・頻度ペアのリストから、指定したペアを削除したリストを返す。\n",
    "(define (remove-info item set)\n",
    "  (if (null? set) '()\n",
    "      (if (equal? item (car set)) (remove-info item (cdr set))\n",
    "          (cons (car set) (remove-info item (cdr set)))\n",
    "      )\n",
    "  )\n",
    "  )\n",
    "\n",
    "; 回答\n",
    "(define (successive-merge set)\n",
    "  (define (iter w result)\n",
    "    ;(display result)\n",
    "    ;(newline)\n",
    "    (cond ((null? result) '())\n",
    "          ((= (length result) 1) (car result))\n",
    "          ;((not (pair? result)) result) ; これは動作しない\n",
    "          ((= (length result) 2) (make-code-tree (cadr result) (car result)))\n",
    "          (else\n",
    "           (let ((ll (have-weight? w result)))\n",
    "             (if (equal? ll #f) (iter (+ w 1) result)\n",
    "                 (let ((top (car ll))\n",
    "                       (next (cadr ll)))\n",
    "                   (let ((new-result (remove-info next (remove-info top result))))\n",
    "                     (if (null? new-result) (iter w (list (make-code-tree next top)))\n",
    "                         (if (= (length new-result) 1) (iter w (append (list (make-code-tree next top)) new-result))\n",
    "                             (let (;(new-item (make-code-tree next top))\n",
    "                                   (new-item (if (>= (weight next) (weight top)) (make-code-tree next top) (make-code-tree top next)))\n",
    "                                   )\n",
    "                               (if (<= (weight new-item) (weight (car new-result)))\n",
    "                                   (iter w (append (list new-item) new-result))\n",
    "                                   (iter w (append new-result (list new-item)))\n",
    "                                )\n",
    "                              )\n",
    "                           )\n",
    "                        )\n",
    "                     )\n",
    "                    )\n",
    "                )\n",
    "             )\n",
    "           )\n",
    "        )\n",
    "    )\n",
    "  (iter 1 set)\n",
    "  )\n",
    "\n",
    "(define (generate-huffman-tree pairs)\n",
    "    (successive-merge (make-leaf-set pairs)))"
   ]
  },
  {
   "cell_type": "code",
   "execution_count": 10,
   "metadata": {},
   "outputs": [
    {
     "data": {
      "text/plain": [
       "((leaf A 4) ((leaf B 2) ((leaf D 1) (leaf C 1) (D C) 2) (B D C) 4) (A B D C) 8)"
      ]
     },
     "execution_count": 10,
     "metadata": {},
     "output_type": "execute_result"
    }
   ],
   "source": [
    "(generate-huffman-tree '((A 4) (B 2) (D 1) (C 1)))"
   ]
  },
  {
   "cell_type": "code",
   "execution_count": 11,
   "metadata": {},
   "outputs": [
    {
     "data": {
      "text/plain": [
       "((leaf A 8) (((leaf B 3) ((leaf C 1) (leaf D 1) (C D) 2) (B C D) 5) (((leaf E 1) (leaf F 1) (E F) 2) ((leaf G 1) (leaf H 1) (G H) 2) (E F G H) 4) (B C D E F G H) 9) (A B C D E F G H) 17)"
      ]
     },
     "execution_count": 11,
     "metadata": {},
     "output_type": "execute_result"
    }
   ],
   "source": [
    "; テキストのハフマン符号木の生成の記号・頻度ペアのリスト\n",
    "; これだとうまく動作しない\n",
    "; ->修正してできるようになった\n",
    "(define sample-tree3 (generate-huffman-tree '((A 8) (B 3) (C 1) (D 1) (E 1) (F 1) (G 1) (H 1))))\n",
    "sample-tree3"
   ]
  },
  {
   "cell_type": "code",
   "execution_count": 12,
   "metadata": {},
   "outputs": [
    {
     "data": {
      "text/plain": [
       "((leaf A 8) (((leaf B 2) ((leaf C 1) (leaf D 1) (C D) 2) (B C D) 4) (((leaf E 1) (leaf F 1) (E F) 2) ((leaf G 1) (leaf H 1) (G H) 2) (E F G H) 4) (B C D E F G H) 8) (A B C D E F G H) 16)"
      ]
     },
     "execution_count": 12,
     "metadata": {},
     "output_type": "execute_result"
    }
   ],
   "source": [
    "; 左≧右\n",
    "(define sample-tree4 (generate-huffman-tree '((A 8) (B 2) (C 1) (D 1) (E 1) (F 1) (G 1) (H 1))))\n",
    "sample-tree4"
   ]
  },
  {
   "cell_type": "code",
   "execution_count": 13,
   "metadata": {},
   "outputs": [
    {
     "name": "stdout",
     "output_type": "stream",
     "text": [
      "(0)\n",
      "(1 0 0)\n",
      "(1 0 1 0)\n",
      "(1 0 1 1)\n",
      "(1 1 0 0)\n",
      "(1 1 0 1)\n",
      "(1 1 1 0)\n",
      "(1 1 1 1)\n"
     ]
    }
   ],
   "source": [
    "; 単一の記号で動作確認\n",
    "(display (encode '(A) sample-tree3))\n",
    "(newline)\n",
    "(display (encode '(B) sample-tree3))\n",
    "(newline)\n",
    "(display (encode '(C) sample-tree3))\n",
    "(newline)\n",
    "(display (encode '(D) sample-tree3))\n",
    "(newline)\n",
    "(display (encode '(E) sample-tree3))\n",
    "(newline)\n",
    "(display (encode '(F) sample-tree3))\n",
    "(newline)\n",
    "(display (encode '(G) sample-tree3))\n",
    "(newline)\n",
    "(display (encode '(H) sample-tree3))\n",
    "(newline)"
   ]
  },
  {
   "cell_type": "code",
   "execution_count": 14,
   "metadata": {},
   "outputs": [
    {
     "data": {
      "text/plain": [
       "(1 0 0 0 1 0 1 0 0 1 0 1 1 0 1 1 0 0 0 1 1 0 1 0 1 0 0 1 0 0 0 0 0 1 1 1 0 0 1 1 1 1)"
      ]
     },
     "execution_count": 14,
     "metadata": {},
     "output_type": "execute_result"
    }
   ],
   "source": [
    "(encode '(B A C A D A E A F A B B A A A G A H) sample-tree3)"
   ]
  },
  {
   "cell_type": "code",
   "execution_count": 15,
   "metadata": {},
   "outputs": [
    {
     "data": {
      "text/plain": [
       "(B A C A D A E A F A B B A A A G A H)"
      ]
     },
     "execution_count": 15,
     "metadata": {},
     "output_type": "execute_result"
    }
   ],
   "source": [
    "(decode '(1 0 0 0 1 0 1 0 0 1 0 1 1 0 1 1 0 0 0 1 1 0 1 0 1 0 0 1 0 0 0 0 0 1 1 1 0 0 1 1 1 1) sample-tree3)"
   ]
  }
 ],
 "metadata": {
  "kernelspec": {
   "display_name": "Calysto Scheme 3",
   "language": "scheme",
   "name": "calysto_scheme"
  },
  "language_info": {
   "codemirror_mode": {
    "name": "scheme"
   },
   "mimetype": "text/x-scheme",
   "name": "scheme",
   "pygments_lexer": "scheme"
  }
 },
 "nbformat": 4,
 "nbformat_minor": 4
}
