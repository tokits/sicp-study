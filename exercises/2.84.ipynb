{
 "cells": [
  {
   "cell_type": "markdown",
   "metadata": {},
   "source": [
    "### 練習問題2.84\n",
    "練習問題 2.83の raise 演算を使って apply-generic⼿続きを修正して、<br />\n",
    "この節で検討した通り、連続して “上げる” という⽅法によって引数が同じ型を持つよう強制型変換を⾏うようにせよ。<br />\n",
    "⼆つの型のどちらがタワーの中で⾼い位置にあるかをテストする⽅法を考える必要がある。<br />\n",
    "システムのほかの部分と \"互換性がある\" ようなやり⽅でこれを⾏い、<br />\n",
    "タワーに新しい階を追加する際に問題を引き起こさないようにせよ。"
   ]
  },
  {
   "cell_type": "markdown",
   "metadata": {},
   "source": [
    "回答：保留"
   ]
  }
 ],
 "metadata": {
  "kernelspec": {
   "display_name": "Calysto Scheme 3",
   "language": "scheme",
   "name": "calysto_scheme"
  },
  "language_info": {
   "codemirror_mode": {
    "name": "scheme"
   },
   "mimetype": "text/x-scheme",
   "name": "scheme",
   "pygments_lexer": "scheme"
  }
 },
 "nbformat": 4,
 "nbformat_minor": 4
}
