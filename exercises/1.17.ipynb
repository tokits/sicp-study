{
 "cells": [
  {
   "cell_type": "markdown",
   "metadata": {},
   "source": [
    "### 練習問題1.17\n",
    "この節の指数計算アルゴリズムは、指数をかけ算 の繰り返しによって計算することを基本としている。  \n",
    "同じような⽅法で、整数のかけ算を⾜し算の繰り返しによって実⾏すること もできる。  \n",
    "次のかけ算⼿続き(私たちの⾔語では⾜し算しかでき ず、かけ算ができないと仮定して)はexpt⼿続きと同じような仕 組みになっている。\n",
    "\n",
    "    (define (* a b)\n",
    "      (if (= b 0) 0\n",
    "          (+ a (* a (- b 1))))\n",
    "    ) \n",
    "\n",
    "このアルゴリズムは、bに対して線形のステップ数を取る。  \n",
    "ここで、⾜し算のほかに、整数を倍にするdoubleという演算と、  \n",
    "(偶数の) 整数を2で割るhalveという演算があるとする。  \n",
    "これらを使って、fast-exptと同じような仕組みで対数的ステップ数を取るかけ算 ⼿続きを設計せよ。"
   ]
  },
  {
   "cell_type": "code",
   "execution_count": 1,
   "metadata": {},
   "outputs": [],
   "source": [
    "(define (* a b)\n",
    "  (display a)\n",
    "  (display \" \")\n",
    "  (display b)\n",
    "  (newline)\n",
    "  (cond ((= b 0) 0)\n",
    "        ((even? b)(* (double a) (halve b)))\n",
    "        (else (+ a (* a (- b 1))))\n",
    "    )\n",
    "  )\n",
    "; 偶数かどうか判定\n",
    "(define (even? n)\n",
    "  (= (remainder n 2) 0)\n",
    "  )\n",
    "(define (halve x)(/ x 2))\n",
    "(define (double x)(+ x x))"
   ]
  },
  {
   "cell_type": "code",
   "execution_count": 2,
   "metadata": {},
   "outputs": [
    {
     "name": "stdout",
     "output_type": "stream",
     "text": [
      "3 10\n",
      "6 5\n",
      "6 4\n",
      "12 2\n",
      "24 1\n",
      "24 0\n"
     ]
    },
    {
     "data": {
      "text/plain": [
       "30"
      ]
     },
     "execution_count": 2,
     "metadata": {},
     "output_type": "execute_result"
    }
   ],
   "source": [
    "(* 3 10)"
   ]
  },
  {
   "cell_type": "code",
   "execution_count": 3,
   "metadata": {},
   "outputs": [],
   "source": [
    "(define (* a b)\n",
    "  (display a)\n",
    "  (display \" \")\n",
    "  (display b)\n",
    "  (newline)\n",
    "  (if (= b 0) 0\n",
    "      (+ a (* a (- b 1))))\n",
    ")"
   ]
  },
  {
   "cell_type": "code",
   "execution_count": 4,
   "metadata": {},
   "outputs": [
    {
     "name": "stdout",
     "output_type": "stream",
     "text": [
      "3 10\n",
      "3 9\n",
      "3 8\n",
      "3 7\n",
      "3 6\n",
      "3 5\n",
      "3 4\n",
      "3 3\n",
      "3 2\n",
      "3 1\n",
      "3 0\n"
     ]
    },
    {
     "data": {
      "text/plain": [
       "30"
      ]
     },
     "execution_count": 4,
     "metadata": {},
     "output_type": "execute_result"
    }
   ],
   "source": [
    "(* 3 10)"
   ]
  }
 ],
 "metadata": {
  "kernelspec": {
   "display_name": "Calysto Scheme 3",
   "language": "scheme",
   "name": "calysto_scheme"
  },
  "language_info": {
   "codemirror_mode": {
    "name": "scheme"
   },
   "mimetype": "text/x-scheme",
   "name": "scheme",
   "pygments_lexer": "scheme"
  }
 },
 "nbformat": 4,
 "nbformat_minor": 4
}
