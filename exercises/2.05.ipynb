{
 "cells": [
  {
   "cell_type": "markdown",
   "metadata": {},
   "source": [
    "### 練習問題2.5\n",
    "$a$ と $b$ のペアを積 $2^a \\cdot 3^b$  \n",
    "の整数で表現することによって、  \n",
    "⾮負整数のペアを数値と数値演算だけを使って表現できるということを⽰せ。  \n",
    "それに対応する cons, car, cdr ⼿続きを定義せよ。"
   ]
  },
  {
   "cell_type": "code",
   "execution_count": 1,
   "metadata": {},
   "outputs": [
    {
     "name": "stdout",
     "output_type": "stream",
     "text": [
      "10\n",
      "4\n"
     ]
    }
   ],
   "source": [
    "(define (expr x n)\n",
    "  (define (iter m result)\n",
    "      (if (= n m) result\n",
    "          (iter (+ m 1) (* result x))\n",
    "          )\n",
    "    )\n",
    "  (iter 0 1)\n",
    ")\n",
    ";(display (expr 3 4))\n",
    ";(newline)\n",
    "(define (div x base)\n",
    "  (define (iter y result)\n",
    "      (if (not (= (% y base) 0)) result\n",
    "          (iter (/ y base) (+ result 1))\n",
    "        )\n",
    "    )\n",
    "  (iter x 0)\n",
    "  )\n",
    ";(display (div 972 2))\n",
    ";(newline)\n",
    "(define (cons a b)\n",
    "    (* (expr 2 a) (expr 3 b))\n",
    "  )\n",
    "(define (car z)\n",
    "    (div z 2))\n",
    "(define (cdr z)\n",
    "    (div z 3))\n",
    "(define x (cons 10 4))\n",
    "(display (car x))\n",
    "(newline)\n",
    "(display (cdr x))\n",
    "(newline)"
   ]
  }
 ],
 "metadata": {
  "kernelspec": {
   "display_name": "Calysto Scheme 3",
   "language": "scheme",
   "name": "calysto_scheme"
  },
  "language_info": {
   "codemirror_mode": {
    "name": "scheme"
   },
   "mimetype": "text/x-scheme",
   "name": "scheme",
   "pygments_lexer": "scheme"
  }
 },
 "nbformat": 4,
 "nbformat_minor": 4
}
