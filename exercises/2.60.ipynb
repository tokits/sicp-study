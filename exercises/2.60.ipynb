{
 "cells": [
  {
   "cell_type": "markdown",
   "metadata": {},
   "source": [
    "### 練習問題2.60\n",
    "上の例では、集合は重複のないリストとして表現するよう規定した。  \n",
    "ここで、重複を許す場合について考えてみよう。  \n",
    "その場合、例えば{1,2,3}という集合は(2 3 2 1 3 2 2)というリストとして表現することもできる。  \n",
    "この表現に対して演算を⾏う⼿続きelement-of-set?,adjoin-set,union-set,intersectionsetを設計せよ。  \n",
    "それぞれの効率は、重複なし表現に対する⼿続きでそれに対応するものと⽐べてどうだろうか。  \n",
    "重複なしの表現よりもこの表現のほうが向いているような応⽤はあるだろうか。"
   ]
  },
  {
   "cell_type": "code",
   "execution_count": 1,
   "metadata": {},
   "outputs": [],
   "source": [
    "; 変更なし\n",
    "(define (element-of-set? x set)\n",
    "  (cond ((null? set) #f)\n",
    "        ((equal? x (car set)) #t)\n",
    "        (else (element-of-set? x (cdr set))))\n",
    "  )\n",
    "\n",
    "; 変更\n",
    "(define (adjoin-set x set)\n",
    "  (cons x set)\n",
    "  )\n",
    "\n",
    "; 変更なし\n",
    "(define (intersection-set set1 set2)\n",
    "  (cond ((or (null? set1) (null? set2)) '())\n",
    "        ((element-of-set? (car set1) set2) (cons (car set1) (intersection-set (cdr set1) set2)))\n",
    "        (else (intersection-set (cdr set1) set2)))\n",
    "  ) \n",
    "\n",
    "; 変更\n",
    "(define (union-set set1 set2)\n",
    "  (cond ((and (null? set1) (null? set2)) '())\n",
    "        ((null? set1) set2)\n",
    "        ((null? set2) set1)\n",
    "        ;(else (cons (car set1) (union-set (cdr set1) set2)))\n",
    "        ;(else (union-set (cdr set1) (adjoin-set (car set1) set2)))\n",
    "        (else (append set1 set2))\n",
    "        )\n",
    "  )"
   ]
  },
  {
   "cell_type": "code",
   "execution_count": 2,
   "metadata": {},
   "outputs": [
    {
     "data": {
      "text/plain": [
       "(1 2 3 4 2 4 5 6)"
      ]
     },
     "execution_count": 2,
     "metadata": {},
     "output_type": "execute_result"
    }
   ],
   "source": [
    "; 動作確認\n",
    "(define A (list 1 2 3 4))\n",
    "(define B (list 2 4 5 6))\n",
    "(define C (list 4 6 7))\n",
    "\n",
    "(union-set A B)"
   ]
  },
  {
   "cell_type": "code",
   "execution_count": 3,
   "metadata": {},
   "outputs": [
    {
     "data": {
      "text/plain": [
       "(1 2 3 4 2 4 5 6 4 6 7)"
      ]
     },
     "execution_count": 3,
     "metadata": {},
     "output_type": "execute_result"
    }
   ],
   "source": [
    "(union-set (union-set A B) C)"
   ]
  },
  {
   "cell_type": "code",
   "execution_count": 4,
   "metadata": {},
   "outputs": [
    {
     "data": {
      "text/plain": [
       "(3 2 4 5 6)"
      ]
     },
     "execution_count": 4,
     "metadata": {},
     "output_type": "execute_result"
    }
   ],
   "source": [
    "(adjoin-set 3 B)"
   ]
  },
  {
   "cell_type": "markdown",
   "metadata": {},
   "source": [
    "重複なしの表現よりもこの表現のほうが向いているような応⽤はあるだろうか。\n",
    "\n",
    "→リストの要素数が増えるので、element-of-set?のステップ数は増大するので、element-of-set?を多用するシステムは不利と思われる。。\n",
    "　union-setはステップ数が減るはずなので、union-setを多用するシステムは有利と考えられる。"
   ]
  }
 ],
 "metadata": {
  "kernelspec": {
   "display_name": "Calysto Scheme 3",
   "language": "scheme",
   "name": "calysto_scheme"
  },
  "language_info": {
   "codemirror_mode": {
    "name": "scheme"
   },
   "mimetype": "text/x-scheme",
   "name": "scheme",
   "pygments_lexer": "scheme"
  }
 },
 "nbformat": 4,
 "nbformat_minor": 4
}
