{
 "cells": [
  {
   "cell_type": "markdown",
   "metadata": {},
   "source": [
    "### 練習問題2.75\n",
    "コンストラクタ make-from-mag-ang をメッセージパッシングスタイルで実装せよ。この⼿続きは、上で与えた make-from-real-imag と似たようなものになるだろう。"
   ]
  },
  {
   "cell_type": "code",
   "execution_count": 16,
   "metadata": {},
   "outputs": [],
   "source": [
    "(import \"math\")\n",
    "(define (make-from-mag-ang r a)\n",
    "  (define (dispatch op)\n",
    "    (cond ((eq? op 'real-part) (* r (math.cos a)))\n",
    "          ((eq? op 'imag-part) (* r (math.sin a)))\n",
    "          ((eq? op 'magnitude) r)\n",
    "          ((eq? op 'angle) a)\n",
    "          (else (error \"Unknown op: MAKE-FROM-MAG-ANG\" op))\n",
    "          )\n",
    "  )\n",
    "dispatch)\n",
    "\n",
    "(define (square x)(* x x))\n",
    "(define (apply-generic op arg) (arg op))\n",
    "(define (real-part z) (apply-generic 'real-part z))\n",
    "(define (imag-part z) (apply-generic 'imag-part z))\n",
    "(define (magnitude z) (apply-generic 'magnitude z))\n",
    "(define (angle z) (apply-generic 'angle z))\n"
   ]
  },
  {
   "cell_type": "code",
   "execution_count": 17,
   "metadata": {},
   "outputs": [],
   "source": [
    "(define z (make-from-mag-ang 1 (/ math.pi 4)))"
   ]
  },
  {
   "cell_type": "code",
   "execution_count": 18,
   "metadata": {},
   "outputs": [
    {
     "data": {
      "text/plain": [
       "0.7071067811865476"
      ]
     },
     "execution_count": 18,
     "metadata": {},
     "output_type": "execute_result"
    }
   ],
   "source": [
    "(real-part z)"
   ]
  },
  {
   "cell_type": "code",
   "execution_count": 19,
   "metadata": {},
   "outputs": [
    {
     "data": {
      "text/plain": [
       "0.7071067811865476"
      ]
     },
     "execution_count": 19,
     "metadata": {},
     "output_type": "execute_result"
    }
   ],
   "source": [
    "(imag-part z)"
   ]
  },
  {
   "cell_type": "code",
   "execution_count": 20,
   "metadata": {},
   "outputs": [
    {
     "data": {
      "text/plain": [
       "1"
      ]
     },
     "execution_count": 20,
     "metadata": {},
     "output_type": "execute_result"
    }
   ],
   "source": [
    "(magnitude z)"
   ]
  },
  {
   "cell_type": "code",
   "execution_count": 21,
   "metadata": {},
   "outputs": [
    {
     "data": {
      "text/plain": [
       "0.7853981633974483"
      ]
     },
     "execution_count": 21,
     "metadata": {},
     "output_type": "execute_result"
    }
   ],
   "source": [
    "(angle z)"
   ]
  }
 ],
 "metadata": {
  "kernelspec": {
   "display_name": "Calysto Scheme 3",
   "language": "scheme",
   "name": "calysto_scheme"
  },
  "language_info": {
   "codemirror_mode": {
    "name": "scheme"
   },
   "mimetype": "text/x-scheme",
   "name": "scheme",
   "pygments_lexer": "scheme"
  }
 },
 "nbformat": 4,
 "nbformat_minor": 4
}
