{
 "cells": [
  {
   "cell_type": "markdown",
   "metadata": {},
   "source": [
    "### 練習問題2.64\n",
    "次の手続きlist->treeは、順序つきリストをバラ ンスの取れた木に変換する。  \n",
    "補助手続きpartial-treeは、整数n と、少なくともn個の要素を持つリストを引数に取り、  \n",
    "リストの最初のn個の要素を含むバランスの取れた木を生成する。  \n",
    "partialtreeの返り値はペア(consで構築される)で、  \n",
    "carには構築された木を持ち、cdrには木に含まれなかった要素のリストを持つ。\n",
    "\n",
    "    (define (list->tree elements)\n",
    "      (car (partial-tree elements (length elements)))\n",
    "      )\n",
    "    (define (partial-tree elts n)\n",
    "      (if (= n 0) (cons '() elts)\n",
    "          (let ((left-size (quotient (- n 1) 2)))\n",
    "            (let ((left-result (partial-tree elts left-size)))\n",
    "              (let ((left-tree (car left-result))\n",
    "                    (non-left-elts (cdr left-result)) (right-size (- n (+ left-size 1))))\n",
    "                (let ((this-entry (car non-left-elts))\n",
    "                      (right-result (partial-tree (cdr non-left-elts) right-size)))\n",
    "                  (let ((right-tree (car right-result))\n",
    "                        (remaining-elts (cdr right-result)))\n",
    "                    (cons (make-tree this-entry left-tree right-tree) remaining-elts)\n",
    "                    )              \n",
    "                  )\n",
    "                )\n",
    "              )\n",
    "            )\n",
    "        )\n",
    "    ) \n",
    "\n",
    "- a. partial-treeがどのように動くのか、できるだけ明確に⽂章で答えよ。  \n",
    "リスト(1 3 5 7 9 11)に対してlist->treeが ⽣成する⽊を描け。  \n",
    "- b. list->treeがn要素のリストを変換するのに  \n",
    "必要なステップ数の増加オーダーはどのようになるだろうか。"
   ]
  },
  {
   "cell_type": "code",
   "execution_count": 1,
   "metadata": {},
   "outputs": [],
   "source": [
    "(define (entry tree) (car tree))\n",
    "(define (left-branch tree) (cadr tree))\n",
    "(define (right-branch tree) (caddr tree))\n",
    "(define (make-tree entry left right) (list entry left right))\n",
    "(define (element-of-set? x set)\n",
    "  (cond ((null? set) #f)\n",
    "        ((= x (entry set)) #t)\n",
    "        ((< x (entry set)) (element-of-set? x (left-branch set)))\n",
    "        ((> x (entry set)) (element-of-set? x (right-branch set)))\n",
    "        )\n",
    "  )\n",
    "\n",
    "(define (list->tree elements)\n",
    "  (car (partial-tree elements (length elements)))\n",
    "  )\n",
    "(define (partial-tree elts n)\n",
    "  (if (= n 0) (cons '() elts)\n",
    "      (let ((left-size (quotient (- n 1) 2)))\n",
    "        (let ((left-result (partial-tree elts left-size)))\n",
    "          (let ((left-tree (car left-result))\n",
    "                (non-left-elts (cdr left-result)) (right-size (- n (+ left-size 1))))\n",
    "            (let ((this-entry (car non-left-elts))\n",
    "                  (right-result (partial-tree (cdr non-left-elts) right-size)))\n",
    "              (let ((right-tree (car right-result))\n",
    "                    (remaining-elts (cdr right-result)))\n",
    "                (cons (make-tree this-entry left-tree right-tree) remaining-elts)\n",
    "                )              \n",
    "              )\n",
    "            )\n",
    "          )\n",
    "        )\n",
    "    )\n",
    ") "
   ]
  },
  {
   "cell_type": "code",
   "execution_count": 2,
   "metadata": {},
   "outputs": [
    {
     "data": {
      "text/plain": [
       "(5 (1 () (3 () ())) (9 (7 () ()) (11 () ())))"
      ]
     },
     "execution_count": 2,
     "metadata": {},
     "output_type": "execute_result"
    }
   ],
   "source": [
    "(list->tree '(1 3 5 7 9 11))"
   ]
  }
 ],
 "metadata": {
  "kernelspec": {
   "display_name": "Calysto Scheme 3",
   "language": "scheme",
   "name": "calysto_scheme"
  },
  "language_info": {
   "codemirror_mode": {
    "name": "scheme"
   },
   "mimetype": "text/x-scheme",
   "name": "scheme",
   "pygments_lexer": "scheme"
  }
 },
 "nbformat": 4,
 "nbformat_minor": 4
}
