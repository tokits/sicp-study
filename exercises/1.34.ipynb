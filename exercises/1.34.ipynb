{
 "cells": [
  {
   "cell_type": "markdown",
   "metadata": {},
   "source": [
    "### 練習問題1.34\n",
    "次の⼿続きを定義するとする。  \n",
    "\n",
    "    (define (f g) (g 2))  \n",
    "    \n",
    "すると、次のような結果になる。\n",
    "    \n",
    "    (f square)  \n",
    "    4  \n",
    "    (f (lambda (z) (* z (+ z 1))))  \n",
    "    6  \n",
    "    \n",
    "もしここで、インタプリタに(f f)という組み合わせを評価させるという  \n",
    "(ひねくれた)ことをすると、  \n",
    "どのような結果が起こるだろうか。"
   ]
  },
  {
   "cell_type": "code",
   "execution_count": 1,
   "metadata": {},
   "outputs": [],
   "source": [
    "(define (f g) (g 2))"
   ]
  },
  {
   "cell_type": "code",
   "execution_count": 3,
   "metadata": {},
   "outputs": [
    {
     "data": {
      "text/plain": [
       "4"
      ]
     },
     "execution_count": 3,
     "metadata": {},
     "output_type": "execute_result"
    }
   ],
   "source": [
    "(define (square x)(* x x))\n",
    "(f square)"
   ]
  },
  {
   "cell_type": "code",
   "execution_count": 4,
   "metadata": {},
   "outputs": [
    {
     "data": {
      "text/plain": [
       "6"
      ]
     },
     "execution_count": 4,
     "metadata": {},
     "output_type": "execute_result"
    }
   ],
   "source": [
    "(f (lambda (z) (* z (+ z 1)))) "
   ]
  },
  {
   "cell_type": "code",
   "execution_count": 5,
   "metadata": {},
   "outputs": [
    {
     "name": "stderr",
     "output_type": "stream",
     "text": [
      "\u001b[1;31m\n",
      "Traceback (most recent call last):\n",
      "  File \"In [5]\", line 1, col 1, in 'f'\n",
      "  File \"In [1]\", line 1, col 15, in 'g'\n",
      "  File \"In [1]\", line 1, col 15, in 'g'\n",
      "  File \"In [1]\", line 1, col 15\n",
      "RunTimeError: attempt to apply non-procedure '2'\n",
      "\n",
      "\u001b[0m"
     ]
    }
   ],
   "source": [
    "(f f)"
   ]
  }
 ],
 "metadata": {
  "kernelspec": {
   "display_name": "Calysto Scheme 3",
   "language": "scheme",
   "name": "calysto_scheme"
  },
  "language_info": {
   "codemirror_mode": {
    "name": "scheme"
   },
   "mimetype": "text/x-scheme",
   "name": "scheme",
   "pygments_lexer": "scheme"
  }
 },
 "nbformat": 4,
 "nbformat_minor": 4
}
