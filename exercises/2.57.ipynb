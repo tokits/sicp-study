{
 "cells": [
  {
   "cell_type": "markdown",
   "metadata": {},
   "source": [
    "### 練習問題2.57\n",
    "微分プログラムを拡張し、(2以上の)任意の数の項の和と積を扱えるようにせよ。  \n",
    "すると上の最後の例は以下のように表現できる。\n",
    "\n",
    "    (deriv '(* x y (+ x 3)) 'x)\n",
    "\n",
    "deriv⼿続きにはまったく⼿を加えず、\n",
    "和と積の表現のみを変更することによって解け。  \n",
    "例えば、和のaddend(加数)は最初の項で、  \n",
    "augend(被加数)は残りの項の和というようにする。"
   ]
  },
  {
   "cell_type": "code",
   "execution_count": 1,
   "metadata": {},
   "outputs": [],
   "source": [
    "(define (=number? exp num)(and (number? exp) (= exp num)))\n",
    "\n",
    "; eは変数か?\n",
    "(define (variable? x)(symbol? x)) \n",
    "\n",
    "; v1とv2は同じ変数か?\n",
    "(define (same-variable? v1 v2)(and (variable? v1) (variable? v2) (eq? v1 v2)))\n",
    "\n",
    "; eは和か?\n",
    "(define (sum? x)(and (pair? x) (eq? (car x) '+)))\n",
    "\n",
    "; 和eの加数\n",
    "(define (addend s)(cadr s))\n",
    "\n",
    "; 和eの被加数\n",
    ";(define (augend s)(caddr s))\n",
    "(define (augend p)\n",
    "  (define (iter t1 t2)\n",
    "    (cond ((and (null? t1) (null? t2)) '())\n",
    "          ((and (not (null? t1)) (null? t2)) t1)\n",
    "          (else (make-sum t1 (iter (car t2) (cdr t2))))\n",
    "          )\n",
    "    )\n",
    "  (iter (caddr p) (cdddr p))\n",
    "  )\n",
    "\n",
    "; a1とa2の和を構築する\n",
    "(define (make-sum a1 a2)\n",
    "  (cond ((=number? a1 0) a2)\n",
    "        ((=number? a2 0) a1)\n",
    "        ((and (number? a1) (number? a2)) (+ a1 a2))\n",
    "        (else (list '+ a1 a2)))\n",
    "  )\n",
    "\n",
    ";eは積か?\n",
    "(define (product? x)(and (pair? x) (eq? (car x) '*))) \n",
    "\n",
    "; 積eの乗数\n",
    "(define (multiplier p)(cadr p))\n",
    "\n",
    ";積eの被乗数\n",
    ";(define (multiplicand p)(caddr p))\n",
    "(define (multiplicand p)\n",
    "  (define (iter t1 t2)\n",
    "    (cond ((and (null? t1) (null? t2)) '())\n",
    "          ((and (not (null? t1)) (null? t2)) t1)\n",
    "          (else (make-product t1 (iter (car t2) (cdr t2))))\n",
    "          )\n",
    "    )\n",
    "  (iter (caddr p) (cdddr p))\n",
    "  )\n",
    "\n",
    "; m1とm2の積を構築する\n",
    "(define (make-product m1 m2)\n",
    "  (cond ((or (=number? m1 0) (=number? m2 0)) 0)\n",
    "        ((=number? m1 1) m2) ((=number? m2 1) m1)\n",
    "        ((and (number? m1) (number? m2)) (* m1 m2))\n",
    "        (else (list '* m1 m2))\n",
    "    )\n",
    "  )\n",
    "\n",
    ";eはべき乗か?\n",
    "(define (exponentiation? x)\n",
    "  (and (pair? x) (eq? (car x) '**))) \n",
    "\n",
    "; べき乗の基数\n",
    "(define (base x)(cadr x))\n",
    "\n",
    "; 指数\n",
    "(define (exponent x)(caddr x))\n",
    "\n",
    "; べき数を構築する\n",
    "(define (make-exponentiation m1 m2)\n",
    "  (cond ((=number? m2 0) 1)\n",
    "        ((=number? m2 1) m1)\n",
    "        ;((=number? m1 1) m2) ((=number? m2 1) m1)\n",
    "        ((and (number? m1) (number? m2) (> m2 0)) ((make-exponentiation (* m1 m1) (- m2 1))))\n",
    "        (else (list '** m1 m2)))\n",
    "  )\n",
    "\n",
    "\n",
    "(define (deriv exp var)\n",
    "  (cond ((number? exp) 0)\n",
    "        ((variable? exp) (if (same-variable? exp var) 1 0))\n",
    "        ((sum? exp) (make-sum (deriv (addend exp) var)\n",
    "                              (deriv (augend exp) var)))\n",
    "        ((product? exp) (make-sum (make-product (multiplier exp)\n",
    "                                                (deriv (multiplicand exp) var))\n",
    "                                  (make-product (deriv (multiplier exp) var) (multiplicand exp))))\n",
    "        ((exponentiation? exp)\n",
    "         (let ((u (base exp))\n",
    "               (e (exponent exp)))\n",
    "            (make-product (make-product e (make-exponentiation u (- e 1))) (deriv u var))\n",
    "           )\n",
    "         )\n",
    "        (else (error \"unknown expression type: DERIV\" exp)))\n",
    "  )"
   ]
  },
  {
   "cell_type": "code",
   "execution_count": 2,
   "metadata": {},
   "outputs": [
    {
     "data": {
      "text/plain": [
       "(+ x x)"
      ]
     },
     "execution_count": 2,
     "metadata": {},
     "output_type": "execute_result"
    }
   ],
   "source": [
    "(deriv '(* x x) 'x)"
   ]
  },
  {
   "cell_type": "code",
   "execution_count": 3,
   "metadata": {},
   "outputs": [
    {
     "data": {
      "text/plain": [
       "(+ (* x (+ x x)) (* x x))"
      ]
     },
     "execution_count": 3,
     "metadata": {},
     "output_type": "execute_result"
    }
   ],
   "source": [
    "(deriv '(* x x x) 'x)"
   ]
  },
  {
   "cell_type": "code",
   "execution_count": 4,
   "metadata": {},
   "outputs": [
    {
     "data": {
      "text/plain": [
       "(+ (* x (+ (* x (+ x x)) (* x x))) (* x (* x x)))"
      ]
     },
     "execution_count": 4,
     "metadata": {},
     "output_type": "execute_result"
    }
   ],
   "source": [
    "(deriv '(* x x x x) 'x)"
   ]
  },
  {
   "cell_type": "code",
   "execution_count": 5,
   "metadata": {},
   "outputs": [
    {
     "data": {
      "text/plain": [
       "(+ (* x (+ (* x (+ (* x (+ x x)) (* x x))) (* x (* x x)))) (* x (* x (* x x))))"
      ]
     },
     "execution_count": 5,
     "metadata": {},
     "output_type": "execute_result"
    }
   ],
   "source": [
    "(deriv '(* x x x x x) 'x)"
   ]
  },
  {
   "cell_type": "code",
   "execution_count": 6,
   "metadata": {},
   "outputs": [
    {
     "data": {
      "text/plain": [
       "1"
      ]
     },
     "execution_count": 6,
     "metadata": {},
     "output_type": "execute_result"
    }
   ],
   "source": [
    "(deriv '(+ x 3) 'x)"
   ]
  },
  {
   "cell_type": "code",
   "execution_count": 7,
   "metadata": {},
   "outputs": [
    {
     "data": {
      "text/plain": [
       "5"
      ]
     },
     "execution_count": 7,
     "metadata": {},
     "output_type": "execute_result"
    }
   ],
   "source": [
    "(deriv '(+ x x x x x) 'x)"
   ]
  },
  {
   "cell_type": "code",
   "execution_count": 8,
   "metadata": {},
   "outputs": [
    {
     "data": {
      "text/plain": [
       "y"
      ]
     },
     "execution_count": 8,
     "metadata": {},
     "output_type": "execute_result"
    }
   ],
   "source": [
    "(deriv '(* x y) 'x)"
   ]
  },
  {
   "cell_type": "code",
   "execution_count": 9,
   "metadata": {},
   "outputs": [
    {
     "data": {
      "text/plain": [
       "(+ (* x y) (* y (+ x 3)))"
      ]
     },
     "execution_count": 9,
     "metadata": {},
     "output_type": "execute_result"
    }
   ],
   "source": [
    "(deriv '(* (* x y) (+ x 3)) 'x)"
   ]
  },
  {
   "cell_type": "code",
   "execution_count": 10,
   "metadata": {},
   "outputs": [
    {
     "data": {
      "text/plain": [
       "(* 3 (** x 2))"
      ]
     },
     "execution_count": 10,
     "metadata": {},
     "output_type": "execute_result"
    }
   ],
   "source": [
    "(deriv '(** x 3) 'x)"
   ]
  },
  {
   "cell_type": "code",
   "execution_count": 11,
   "metadata": {},
   "outputs": [
    {
     "data": {
      "text/plain": [
       "(* 2 x)"
      ]
     },
     "execution_count": 11,
     "metadata": {},
     "output_type": "execute_result"
    }
   ],
   "source": [
    "(deriv '(** x 2) 'x)"
   ]
  },
  {
   "cell_type": "code",
   "execution_count": 12,
   "metadata": {},
   "outputs": [
    {
     "data": {
      "text/plain": [
       "1"
      ]
     },
     "execution_count": 12,
     "metadata": {},
     "output_type": "execute_result"
    }
   ],
   "source": [
    "(deriv '(** x 1) 'x)"
   ]
  },
  {
   "cell_type": "code",
   "execution_count": 13,
   "metadata": {},
   "outputs": [
    {
     "data": {
      "text/plain": [
       "(* 2 (+ x 1))"
      ]
     },
     "execution_count": 13,
     "metadata": {},
     "output_type": "execute_result"
    }
   ],
   "source": [
    "(deriv '(** (+ x 1) 2) 'x)"
   ]
  },
  {
   "cell_type": "code",
   "execution_count": 14,
   "metadata": {},
   "outputs": [
    {
     "data": {
      "text/plain": [
       "(+ (* x y) (* y (+ x 3)))"
      ]
     },
     "execution_count": 14,
     "metadata": {},
     "output_type": "execute_result"
    }
   ],
   "source": [
    "(deriv '(* x y (+ x 3)) 'x)"
   ]
  },
  {
   "cell_type": "code",
   "execution_count": 15,
   "metadata": {},
   "outputs": [
    {
     "data": {
      "text/plain": [
       "2"
      ]
     },
     "execution_count": 15,
     "metadata": {},
     "output_type": "execute_result"
    }
   ],
   "source": [
    "(length (list 1 2))"
   ]
  },
  {
   "cell_type": "code",
   "execution_count": 16,
   "metadata": {},
   "outputs": [
    {
     "data": {
      "text/plain": [
       "(+ x x)"
      ]
     },
     "execution_count": 16,
     "metadata": {},
     "output_type": "execute_result"
    }
   ],
   "source": [
    "(deriv '(* x x) 'x)"
   ]
  },
  {
   "cell_type": "code",
   "execution_count": 17,
   "metadata": {},
   "outputs": [
    {
     "data": {
      "text/plain": [
       "(+ (* x (+ x x)) (* x x))"
      ]
     },
     "execution_count": 17,
     "metadata": {},
     "output_type": "execute_result"
    }
   ],
   "source": [
    "(deriv '(* x x x) 'x)"
   ]
  },
  {
   "cell_type": "code",
   "execution_count": 18,
   "metadata": {},
   "outputs": [
    {
     "data": {
      "text/plain": [
       "(+ (* x (+ (* x (+ x x)) (* x x))) (* x (* x x)))"
      ]
     },
     "execution_count": 18,
     "metadata": {},
     "output_type": "execute_result"
    }
   ],
   "source": [
    "(deriv '(* x x x x) 'x)"
   ]
  }
 ],
 "metadata": {
  "kernelspec": {
   "display_name": "Calysto Scheme 3",
   "language": "scheme",
   "name": "calysto_scheme"
  },
  "language_info": {
   "codemirror_mode": {
    "name": "scheme"
   },
   "mimetype": "text/x-scheme",
   "name": "scheme",
   "pygments_lexer": "scheme"
  }
 },
 "nbformat": 4,
 "nbformat_minor": 4
}
