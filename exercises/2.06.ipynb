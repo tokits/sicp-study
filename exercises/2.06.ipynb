{
 "cells": [
  {
   "cell_type": "markdown",
   "metadata": {},
   "source": [
    "### 練習問題2.6\n",
    "ペアを⼿続きとして表現するという考え⽅で頭がごちゃごちゃになっていないとしたら、次のようなことを考えてみよう。  \n",
    "⼿続きを扱うことができる⾔語では、\n",
    "(少なくとも、⾮負整数に関する限りは) 数値なしでもやっていける。そのためには、0 と、1 を⾜すという演算を次のように実装する。\n",
    "\n",
    "    (define zero (lambda (f) (lambda (x) x)))\n",
    "    (define (add-1 n)\n",
    "        (lambda (f) (lambda (x) (f ((n f) x)))))\n",
    "\n",
    "この表現は、発明者の Alonzo Church にちなんで**チャーチ数**\n",
    "(Church numeral) として知られている。  \n",
    "Alonzo Church はλ-演算を発明した論理学者である。    \n",
    "one と two を直接 (zero と add-1 を使わずに) 定義せよ  \n",
    "(ヒント：置換を使って (add-1 zero) を評価する)。  \n",
    "加算⼿続きの直接的な定義 +(add-1 の繰り返し適⽤は⽤いない)を与えよ。"
   ]
  },
  {
   "cell_type": "code",
   "execution_count": 1,
   "metadata": {},
   "outputs": [],
   "source": [
    "(define zero (lambda (f) (lambda (x) x)))\n",
    "(define (add-1 n)\n",
    "    (lambda (f) (lambda (x) (f ((n f) x)))))"
   ]
  },
  {
   "cell_type": "code",
   "execution_count": 2,
   "metadata": {},
   "outputs": [
    {
     "name": "stdout",
     "output_type": "stream",
     "text": [
      "\n",
      "0\n",
      "01\n",
      "012\n"
     ]
    }
   ],
   "source": [
    "; チャーチ数がよくわからないので、\n",
    "; 動かしてみて結果から考えてみる。\n",
    "(define (func x)\n",
    "      (begin\n",
    "        (display x)\n",
    "        (+ x 1)\n",
    "    )\n",
    "  )\n",
    "\n",
    "((zero func) 0)\n",
    ";(dispaly ((zero func) 0))\n",
    "(newline)\n",
    "\n",
    "(define one (add-1 zero))\n",
    "((one func) 0)\n",
    ";(dispaly ((one func) 0))\n",
    "(newline)\n",
    "\n",
    "(define two (add-1 one))\n",
    "((two func) 0)\n",
    ";(dispaly ((two func) 0))\n",
    "(newline)\n",
    "\n",
    "(define three (add-1 two))\n",
    "((three func) 0)\n",
    ";(dispaly ((three func) 0))\n",
    "(newline)"
   ]
  },
  {
   "cell_type": "markdown",
   "metadata": {},
   "source": [
    "上記の結果より、チャーチ数は以下のように考えられる。\n",
    "\n",
    "zero  → 引数に与えた手続きを1度も実行しない。  \n",
    "one   → 引数に与えた手続きを1度実行する。  \n",
    "two   → 引数に与えた手続きを2度実行する。  \n",
    "three → 引数に与えた手続きを3度実行する。  \n"
   ]
  },
  {
   "cell_type": "code",
   "execution_count": 35,
   "metadata": {},
   "outputs": [
    {
     "name": "stdout",
     "output_type": "stream",
     "text": [
      "0\n",
      "01\n",
      "012\n"
     ]
    }
   ],
   "source": [
    "(define (func x)\n",
    "      (begin\n",
    "        (display x)\n",
    "        (+ x 1)\n",
    "    )\n",
    "  )\n",
    "; oneとtwoを直接定義\n",
    "(define one \n",
    "    (lambda (f) (lambda (x) (f x))))\n",
    ";(display ((one func) 0))\n",
    "((one func) 0)\n",
    "(newline)\n",
    "\n",
    "(define two \n",
    "    (lambda (f) (lambda (x) (f (f x)))))\n",
    ";(display ((two func) 0))\n",
    "((two func) 0)\n",
    "(newline)\n",
    "\n",
    "(define three\n",
    "    (lambda (f) (lambda (x) (f (f (f x))))))\n",
    ";(display ((three func) 0))\n",
    "((three func) 0)\n",
    "(newline)"
   ]
  },
  {
   "cell_type": "code",
   "execution_count": 36,
   "metadata": {},
   "outputs": [],
   "source": [
    "(define (add a b)\n",
    "    ;(lambda (f) (lambda (x) ((a (b (f x))))))\n",
    "    ;(lambda (f) (a (b f)))\n",
    "    ;(lambda (f) (lambda (x) ((a (b f)) x) ))\n",
    "    ;(lambda (f) (lambda (x) (((a f) (b (f x))))))\n",
    "    ;(lambda (f) (lambda (x) (((a f) ((b f) x)))))\n",
    "    ;(lambda (f) (lambda (x) (((a f) ((b f) x)))))\n",
    "    ;(lambda (f) ((a f) (b f)))\n",
    "    ;(lambda (f) (lambda (x) ((a f) x)))\n",
    "    (lambda (f) (lambda (x) ((a f) ((b f) x))))\n",
    "    ;(lambda (f) (lambda (x) (((a (f x)) ((b (f x)))))))\n",
    "  )"
   ]
  },
  {
   "cell_type": "code",
   "execution_count": 37,
   "metadata": {},
   "outputs": [
    {
     "name": "stdout",
     "output_type": "stream",
     "text": [
      "0\n",
      "01\n",
      "012\n"
     ]
    }
   ],
   "source": [
    "((one func) 0)\n",
    "(newline)\n",
    "((two func) 0)\n",
    "(newline)\n",
    "\n",
    "(define three (add one two))\n",
    "((three func) 0)\n",
    "(newline)"
   ]
  },
  {
   "cell_type": "code",
   "execution_count": 42,
   "metadata": {},
   "outputs": [
    {
     "name": "stdout",
     "output_type": "stream",
     "text": [
      "()\n",
      "()\n",
      "()\n"
     ]
    }
   ],
   "source": [
    "(define (func x)\n",
    "      (begin\n",
    "        ;(display x)\n",
    "        ;(display x)\n",
    "        ;(+ x 1)\n",
    "        ()\n",
    "    )\n",
    "  )\n",
    "\n",
    "(define x (add one two))\n",
    "(display ((x func) 0))\n",
    "(newline)\n",
    "\n",
    "(define x (add two one))\n",
    "(display ((x func) 0))\n",
    "(newline)\n",
    "\n",
    "(define x (add x two))\n",
    "(display ((x func) 0))\n",
    "(newline)"
   ]
  },
  {
   "cell_type": "code",
   "execution_count": null,
   "metadata": {},
   "outputs": [],
   "source": []
  }
 ],
 "metadata": {
  "kernelspec": {
   "display_name": "Calysto Scheme 3",
   "language": "scheme",
   "name": "calysto_scheme"
  },
  "language_info": {
   "codemirror_mode": {
    "name": "scheme"
   },
   "mimetype": "text/x-scheme",
   "name": "scheme",
   "pygments_lexer": "scheme"
  }
 },
 "nbformat": 4,
 "nbformat_minor": 4
}
