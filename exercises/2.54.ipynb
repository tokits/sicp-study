{
 "cells": [
  {
   "cell_type": "markdown",
   "metadata": {},
   "source": [
    "### 練習問題2.54\n",
    "⼆つのリストは、同じ要素を同じ順番で持つときにequal?であると⾔える。  \n",
    "例えば、  \n",
    "\n",
    "    (equal? '(this is a list) '(this is a list))\n",
    "\n",
    "は真である。  \n",
    "しかし、  \n",
    "\n",
    "    (equal? '(this is a list) '(this (is a) list))\n",
    "\n",
    "は偽である。  \n",
    "より正確に⾔うと、記号が等しいかどうかという基本的なeq?を使って、  \n",
    "再帰的にequal?を定義できる。  \n",
    "aとbは、どちらも記号であってそれらがeq?であるか、  \n",
    "どちらもリストであって、(car a)と(car b)がequal?であり、  \n",
    "かつ(cdr a)と (cdr b)がequal?である場合、  \n",
    "equal?である。この考え⽅を使って、equal?を⼿続きとして実装せよ。"
   ]
  },
  {
   "cell_type": "code",
   "execution_count": 1,
   "metadata": {},
   "outputs": [],
   "source": [
    "(define (equal? a b)\n",
    "  (cond ((and (null? a) (null? b)) #t)\n",
    "        ((or (null? a) (null? b)) #f)\n",
    "        ((and (pair? a) (pair? b))\n",
    "         (if (equal? (car a) (car b)) (equal? (cdr a) (cdr b))\n",
    "             #f\n",
    "             )\n",
    "         )\n",
    "        (else (eq? a b))\n",
    "        )\n",
    "  )"
   ]
  },
  {
   "cell_type": "code",
   "execution_count": 2,
   "metadata": {},
   "outputs": [
    {
     "data": {
      "text/plain": [
       "#t"
      ]
     },
     "execution_count": 2,
     "metadata": {},
     "output_type": "execute_result"
    }
   ],
   "source": [
    "(equal? '(this is a list) '(this is a list))"
   ]
  },
  {
   "cell_type": "code",
   "execution_count": 3,
   "metadata": {},
   "outputs": [
    {
     "data": {
      "text/plain": [
       "#f"
      ]
     },
     "execution_count": 3,
     "metadata": {},
     "output_type": "execute_result"
    }
   ],
   "source": [
    "(equal? '(this is a list) '(this (is a) list))"
   ]
  }
 ],
 "metadata": {
  "kernelspec": {
   "display_name": "Calysto Scheme 3",
   "language": "scheme",
   "name": "calysto_scheme"
  },
  "language_info": {
   "codemirror_mode": {
    "name": "scheme"
   },
   "mimetype": "text/x-scheme",
   "name": "scheme",
   "pygments_lexer": "scheme"
  }
 },
 "nbformat": 4,
 "nbformat_minor": 4
}
