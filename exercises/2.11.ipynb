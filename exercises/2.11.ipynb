{
 "cells": [
  {
   "cell_type": "markdown",
   "metadata": {},
   "source": [
    "### 練習問題2.11\n",
    "ついでにBenはまた謎めいたコメントを残した。  \n",
    "“区間の両端点の符号をテストするとmul-intervalは9パターンに場合分けできて、3回以上のかけ算が必要になるのはその中のひとつだけだよ。”  \n",
    "Benの提案に従って、この⼿続きを書き直せ。"
   ]
  },
  {
   "cell_type": "code",
   "execution_count": 1,
   "metadata": {},
   "outputs": [
    {
     "name": "stdout",
     "output_type": "stream",
     "text": [
      "(3 . 8)\n",
      "(-6 . 8)\n",
      "(-8 . -3)\n",
      "(-4 . 8)\n",
      "(-6 . 8)\n",
      "(-8 . 4)\n",
      "(-8 . -3)\n",
      "(-8 . 6)\n",
      "(3 . 8)\n"
     ]
    }
   ],
   "source": [
    "(define (make-interval a b) (cons a b))\n",
    "(define (lower-bound x)(car x))\n",
    "(define (upper-bound x)(cdr x))\n",
    "; 区間の積(従来)\n",
    "(define (mul-interval x y)\n",
    "  (let ((p1 (* (lower-bound x) (lower-bound y)))\n",
    "        (p2 (* (lower-bound x) (upper-bound y)))\n",
    "        (p3 (* (upper-bound x) (lower-bound y)))\n",
    "        (p4 (* (upper-bound x) (upper-bound y))))\n",
    "    (make-interval (min p1 p2 p3 p4)\n",
    "                   (max p1 p2 p3 p4)))\n",
    "  )\n",
    "\n",
    "; 動作確認\n",
    "(display (mul-interval (make-interval -2 -1) (make-interval -4 -3)))\n",
    "(newline)\n",
    "(display (mul-interval (make-interval -2 -1) (make-interval -4 3)))\n",
    "(newline)\n",
    "(display (mul-interval (make-interval -2 -1) (make-interval 3 4)))\n",
    "(newline)\n",
    "(display (mul-interval (make-interval -2 1) (make-interval -4 -3)))\n",
    "(newline)\n",
    "(display (mul-interval (make-interval -2 1) (make-interval -4 3)))\n",
    "(newline)\n",
    "(display (mul-interval (make-interval -2 1) (make-interval 3 4)))\n",
    "(newline)\n",
    "(display (mul-interval (make-interval 1 2) (make-interval -4 -3)))\n",
    "(newline)\n",
    "(display (mul-interval (make-interval 1 2) (make-interval -4 3)))\n",
    "(newline)\n",
    "(display (mul-interval (make-interval 1 2) (make-interval 3 4)))\n",
    "(newline)"
   ]
  },
  {
   "cell_type": "code",
   "execution_count": 2,
   "metadata": {},
   "outputs": [
    {
     "name": "stdout",
     "output_type": "stream",
     "text": [
      "ng"
     ]
    }
   ],
   "source": [
    "; if文の動作確認(複数条件)\n",
    "(if (and (= 0 0) (= 1 1) (= 2 3)) \n",
    "    (display \"ok\")\n",
    "    (display \"ng\"))"
   ]
  },
  {
   "cell_type": "code",
   "execution_count": 3,
   "metadata": {},
   "outputs": [
    {
     "name": "stdout",
     "output_type": "stream",
     "text": [
      "(3 . 8)\n",
      "(-6 . 8)\n",
      "(-8 . -3)\n",
      "(-4 . 8)\n",
      "(-6 . 8)\n",
      "(-8 . 4)\n",
      "(-8 . -3)\n",
      "(-8 . 6)\n",
      "(3 . 8)\n"
     ]
    }
   ],
   "source": [
    "; 区間の積(修正版)\n",
    "(define (mul-interval x y)\n",
    "  (let ((x1 (lower-bound x))\n",
    "        (x2 (upper-bound x))\n",
    "        (y1 (lower-bound y))\n",
    "        (y2 (upper-bound y)))\n",
    "    (cond\n",
    "     ((and (< x1 0) (< x2 0) (< y1 0) (< y2 0)) (make-interval (* x2 y2) (* x1 y1)))\n",
    "     ((and (< x1 0) (< x2 0) (< y1 0) (>= y2 0)) (make-interval (* x1 y2) (* x1 y1)))\n",
    "     ((and (< x1 0) (< x2 0) (>= y1 0) (>= y2 0)) (make-interval (* x1 y2) (* x2 y1)))\n",
    "     ((and (< x1 0) (>= x2 0) (< y1 0) (< y2 0)) (make-interval (* x2 y1) (* x1 y1)))\n",
    "     ;((and (< x1 0) (>= x2 0) (< y1 0) (>= y2 0)) (make-interval (* x1 y1) (* x1 y1)))\n",
    "     ((and (< x1 0) (>= x2 0) (>= y1 0) (>= y2 0)) (make-interval (* x1 y2) (* x2 y2)))\n",
    "     ((and (>= x1 0) (>= x2 0) (< y1 0) (< y2 0)) (make-interval (* x2 y1) (* x1 y2)))\n",
    "     ((and (>= x1 0) (>= x2 0) (< y1 0) (>= y2 0)) (make-interval (* x2 y1) (* x2 y2)))\n",
    "     ((and (>= x1 0) (>= x2 0) (>= y1 0) (>= y2 0)) (make-interval (* x1 y1) (* x2 y2)))\n",
    "     (else\n",
    "        (let ((p1 (* x1 y1))\n",
    "              (p2 (* x1 y2))\n",
    "              (p3 (* x2 y1))\n",
    "              (p4 (* x2 y2)))\n",
    "              (make-interval (min p1 p2 p3 p4)\n",
    "                           (max p1 p2 p3 p4)))\n",
    "      )\n",
    "    )\n",
    "  )\n",
    "  )\n",
    "\n",
    "; 動作確認\n",
    "(display (mul-interval (make-interval -2 -1) (make-interval -4 -3)))\n",
    "(newline)\n",
    "(display (mul-interval (make-interval -2 -1) (make-interval -4 3)))\n",
    "(newline)\n",
    "(display (mul-interval (make-interval -2 -1) (make-interval 3 4)))\n",
    "(newline)\n",
    "(display (mul-interval (make-interval -2 1) (make-interval -4 -3)))\n",
    "(newline)\n",
    "(display (mul-interval (make-interval -2 1) (make-interval -4 3)))\n",
    "(newline)\n",
    "(display (mul-interval (make-interval -2 1) (make-interval 3 4)))\n",
    "(newline)\n",
    "(display (mul-interval (make-interval 1 2) (make-interval -4 -3)))\n",
    "(newline)\n",
    "(display (mul-interval (make-interval 1 2) (make-interval -4 3)))\n",
    "(newline)\n",
    "(display (mul-interval (make-interval 1 2) (make-interval 3 4)))\n",
    "(newline)"
   ]
  }
 ],
 "metadata": {
  "kernelspec": {
   "display_name": "Calysto Scheme 3",
   "language": "scheme",
   "name": "calysto_scheme"
  },
  "language_info": {
   "codemirror_mode": {
    "name": "scheme"
   },
   "mimetype": "text/x-scheme",
   "name": "scheme",
   "pygments_lexer": "scheme"
  }
 },
 "nbformat": 4,
 "nbformat_minor": 4
}
