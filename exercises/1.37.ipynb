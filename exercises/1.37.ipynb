{
 "cells": [
  {
   "cell_type": "markdown",
   "metadata": {},
   "source": [
    "### 練習問題1.37\n",
    "a.  \n",
    "無限連分数(continued fraction)とは、以下のような形の式である。 \n",
    "\n",
    "$$\n",
    "f=\\frac{N_{1}}{D_{1} + \\frac{N_{2}}{D_{2} + \\frac{N_{3}}{D_{3} + \\cdots}}}\n",
    "$$\n",
    "\n",
    "ひとつの例として、$N_i$と$D_i$がすべて$1$の無限連分数は$1/\\varphi$になるということが⽰せる。ここで、$\\varphi$は(1.2.2節で説明し た)⻩⾦⽐である。  \n",
    "無限連分数の近似値を求める⽅法のひとつは、  \n",
    "与えられた項数で展開を打ち切るというものである。  \n",
    "このように展開を打ち切ったもの—いわゆる\n",
    "$k$項有限連分数(k-term finite continued fraction)—は、以下のような形になる。  \n",
    "\n",
    "$$\n",
    "\\frac{N_{1}}{D_{1} + \\frac{N_{2}}{\\ddots + \\frac{N_{k}}{D_{k}}}}\n",
    "$$\n",
    "\n",
    "$n$と$d$を1引数(項の添字$i$)の⼿続きとし、それぞれ連分数の項$N_i$と$D_i$を返すとする。  \n",
    "(cont-frac n d k)を評価すると$k$項有限連分数の値を計算するような⼿続きcont-frac を定義せよ。  \n",
    "⼀連の$k$の値に対し、以下によって$1/\\varphi$の近似を求め、  \n",
    "その⼿続きをチェックせよ。  \n",
    "\n",
    "    (cont-frac (lambda (i) 1.0)\n",
    "               (lambda (i) 1.0) k)  \n",
    "\n",
    "⼩数点以下4桁の精度の近似を得るには、kをどれだけ⼤き くしなければならないだろうか。 "
   ]
  },
  {
   "cell_type": "markdown",
   "metadata": {},
   "source": [
    "b.  \n",
    "あなたが書いたcont-fracが再帰プロセスを⽣成するのであれば、  \n",
    "反復プロセスを⽣成するものを書け。  \n",
    "反復プロセスを⽣成するのであれば、  \n",
    "再帰プロセスを⽣成するものを書け。"
   ]
  }
 ],
 "metadata": {
  "kernelspec": {
   "display_name": "Calysto Scheme 3",
   "language": "scheme",
   "name": "calysto_scheme"
  },
  "language_info": {
   "codemirror_mode": {
    "name": "scheme"
   },
   "mimetype": "text/x-scheme",
   "name": "scheme",
   "pygments_lexer": "scheme"
  }
 },
 "nbformat": 4,
 "nbformat_minor": 4
}
