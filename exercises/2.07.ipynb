{
 "cells": [
  {
   "cell_type": "markdown",
   "metadata": {},
   "source": [
    "### 練習問題2.7\n",
    "区間の抽象化の実装を規定していないため、  \n",
    "Alyssaのプログラムは未完成である。区間のコンストラクタの定義は以下のようになる。  \n",
    "\n",
    "    (define (make-interval a b) (cons a b))\n",
    "\n",
    "セレクタ upper-bound と lower-bound を定義し、実装を完成させよ。"
   ]
  },
  {
   "cell_type": "code",
   "execution_count": 1,
   "metadata": {},
   "outputs": [],
   "source": [
    "(define (make-interval a b) (cons a b))"
   ]
  },
  {
   "cell_type": "code",
   "execution_count": 2,
   "metadata": {},
   "outputs": [],
   "source": [
    "; lower-bound,upper-bound手続き\n",
    "(define (lower-bound x)(car x))\n",
    "(define (upper-bound x)(cdr x))\n",
    "; 引数a,bに制限(a<b)がないのなら、\n",
    "; 以下のようにしてもいいと思う。\n",
    "; 本来こういうのはコンストラクタでやるべき？\n",
    ";(define (lower-bound x)\n",
    ";  (let ((a (car x))\n",
    ";        (b (cdr x)))\n",
    ";    (min a b))\n",
    ";  )\n",
    ";(define (upper-bound x)\n",
    ";  (let ((a (car x))\n",
    ";        (b (cdr x)))\n",
    ";    (max a b))\n",
    ";  )"
   ]
  },
  {
   "cell_type": "code",
   "execution_count": 3,
   "metadata": {},
   "outputs": [
    {
     "name": "stdout",
     "output_type": "stream",
     "text": [
      "6.12\n",
      "7.4799999999999995\n"
     ]
    }
   ],
   "source": [
    "; 動作確認\n",
    "(define (lower r e)(- r (* r e)))\n",
    "(define (upper r e)(+ r (* r e)))\n",
    "(define R 6.8)\n",
    "(define E 0.1)\n",
    "\n",
    "(define x (make-interval (lower R E) (upper R E)))\n",
    "(display (lower-bound x))\n",
    "(newline)\n",
    "(display (upper-bound x))\n",
    "(newline)"
   ]
  }
 ],
 "metadata": {
  "kernelspec": {
   "display_name": "Calysto Scheme 3",
   "language": "scheme",
   "name": "calysto_scheme"
  },
  "language_info": {
   "codemirror_mode": {
    "name": "scheme"
   },
   "mimetype": "text/x-scheme",
   "name": "scheme",
   "pygments_lexer": "scheme"
  }
 },
 "nbformat": 4,
 "nbformat_minor": 4
}
