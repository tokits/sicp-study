{
 "cells": [
  {
   "cell_type": "markdown",
   "metadata": {},
   "source": [
    "### 練習問題1.22\n",
    "ほとんどの Lisp 実装は runtime という基本⼿続きを持っていて、  \n",
    "システムが動いた時間を整数 (例えば、マイクロ秒で計測したもの)  \n",
    "として返す。  \n",
    "次の timed-prime-test ⼿続きは、整数 $n$を引数として呼ばれると、   $n$ を表⽰し、$n$が素数であるかチェックする。  \n",
    "$n$が素数であれば、⼿続きは 3つのアスタリスクと、テスト実⾏にかかった時間を表⽰する。  \n",
    "\n",
    "    (define (timed-prime-test n)\n",
    "      (newline)\n",
    "      (display n)\n",
    "      (start-prime-test n (runtime)))\n",
    "    (define (start-prime-test n start-time)\n",
    "      (if (prime? n)\n",
    "      (report-prime (- (runtime) start-time))))\n",
    "    (define (report-prime elapsed-time)\n",
    "      (display \" *** \")\n",
    "      (display elapsed-time))\n",
    "\n",
    "この⼿続きを使って、指定した範囲の連続した奇数について素数\n",
    "判定を⾏う⼿続き search-for-primes を書け。その⼿続きを使っ\n",
    "て、$1000, 10,000, 100,000$ より⼤きな素数をそれぞれ 3つ⾒つけ\n",
    "よ。判定アルゴリズムは$\\Theta(\\sqrt{n})$の増加オーダーを持っているので、$10,000$あたりの判定には$1000$あたりの$\\sqrt{n}$倍程度の時間がかかるはずである。  \n",
    "あなたの計測データはこれを裏付けているだろうか。  \n",
    "$100,000$や$1,000,000$のデータは、$\\Theta(\\sqrt{n})$  \n",
    "という予想はどれだけ当たっているだろうか。  \n",
    "あなたの結果は、演算に必要なステップ数に⽐例して実⾏時間が増えるという概念に⽭盾していないだろうか。"
   ]
  },
  {
   "cell_type": "markdown",
   "metadata": {},
   "source": [
    "Calysto Scheme 3ではruntime手続きはなかった。"
   ]
  },
  {
   "cell_type": "code",
   "execution_count": 1,
   "metadata": {},
   "outputs": [],
   "source": [
    "(define (smallest-divisor n) (find-divisor n 2))\n",
    "(define (find-divisor n test-divisor)\n",
    "  (cond ((> (square test-divisor) n) n)\n",
    "        ((divides? test-divisor n) test-divisor)\n",
    "        (else (find-divisor n (+ test-divisor 1)))))\n",
    "(define (divides? a b) (= (remainder b a) 0))\n",
    "(define (square x) (* x x))\n",
    "(define (prime? n)(= n (smallest-divisor n)))"
   ]
  },
  {
   "cell_type": "code",
   "execution_count": 2,
   "metadata": {},
   "outputs": [
    {
     "data": {
      "text/plain": [
       "#t"
      ]
     },
     "execution_count": 2,
     "metadata": {},
     "output_type": "execute_result"
    }
   ],
   "source": [
    "(prime? 17)"
   ]
  },
  {
   "cell_type": "code",
   "execution_count": 3,
   "metadata": {},
   "outputs": [],
   "source": [
    "(define (odd? n)(= (remainder n 2) 1))\n",
    "(define (search-for-primes n m)\n",
    "  ;(display n)\n",
    "  (if (<= n m)\n",
    "      (if (odd? n)\n",
    "          (if (prime? n)\n",
    "              (begin\n",
    "               (display n)\n",
    "               (display \" *** \")\n",
    "               (newline)\n",
    "              (search-for-primes (+ n 2) m)\n",
    "              )\n",
    "              (search-for-primes (+ n 2) m)\n",
    "            )\n",
    "      (search-for-primes (+ n 1) m)\n",
    "      )\n",
    "        ()\n",
    "      )\n",
    "  )"
   ]
  },
  {
   "cell_type": "code",
   "execution_count": 4,
   "metadata": {},
   "outputs": [
    {
     "name": "stdout",
     "output_type": "stream",
     "text": [
      "3 *** \n",
      "5 *** \n",
      "7 *** \n",
      "11 *** \n",
      "13 *** \n",
      "17 *** \n",
      "19 *** \n",
      "23 *** \n",
      "29 *** \n"
     ]
    },
    {
     "data": {
      "text/plain": [
       "()"
      ]
     },
     "execution_count": 4,
     "metadata": {},
     "output_type": "execute_result"
    }
   ],
   "source": [
    "(search-for-primes 2 30)"
   ]
  },
  {
   "cell_type": "code",
   "execution_count": 5,
   "metadata": {},
   "outputs": [
    {
     "name": "stdout",
     "output_type": "stream",
     "text": [
      "1009 *** \n",
      "1013 *** \n",
      "1019 *** \n",
      "Time: 0.2771883010864258 seconds.\n",
      "\n"
     ]
    },
    {
     "data": {
      "text/plain": [
       "()"
      ]
     },
     "execution_count": 5,
     "metadata": {},
     "output_type": "execute_result"
    }
   ],
   "source": [
    "%%time\n",
    "(search-for-primes 1009 1009)\n",
    "(search-for-primes 1013 1013)\n",
    "(search-for-primes 1019 1019)"
   ]
  },
  {
   "cell_type": "code",
   "execution_count": 6,
   "metadata": {},
   "outputs": [
    {
     "name": "stdout",
     "output_type": "stream",
     "text": [
      "10007 *** \n",
      "10009 *** \n",
      "10037 *** \n",
      "Time: 0.5262227058410645 seconds.\n",
      "\n"
     ]
    },
    {
     "data": {
      "text/plain": [
       "()"
      ]
     },
     "execution_count": 6,
     "metadata": {},
     "output_type": "execute_result"
    }
   ],
   "source": [
    "%%time\n",
    "(search-for-primes 10007 10007)\n",
    "(search-for-primes 10009 10009)\n",
    "(search-for-primes 10037 10037)"
   ]
  },
  {
   "cell_type": "code",
   "execution_count": 7,
   "metadata": {},
   "outputs": [
    {
     "name": "stdout",
     "output_type": "stream",
     "text": [
      "100003 *** \n",
      "100019 *** \n",
      "100043 *** \n",
      "Time: 1.2467288970947266 seconds.\n",
      "\n"
     ]
    },
    {
     "data": {
      "text/plain": [
       "()"
      ]
     },
     "execution_count": 7,
     "metadata": {},
     "output_type": "execute_result"
    }
   ],
   "source": [
    "%%time\n",
    "(search-for-primes 100003 100003)\n",
    "(search-for-primes 100019 100019)\n",
    "(search-for-primes 100043 100043)"
   ]
  },
  {
   "cell_type": "code",
   "execution_count": 8,
   "metadata": {},
   "outputs": [
    {
     "name": "stdout",
     "output_type": "stream",
     "text": [
      "1000003 *** \n",
      "1000033 *** \n",
      "1000037 *** \n",
      "Time: 3.8973920345306396 seconds.\n",
      "\n"
     ]
    },
    {
     "data": {
      "text/plain": [
       "()"
      ]
     },
     "execution_count": 8,
     "metadata": {},
     "output_type": "execute_result"
    }
   ],
   "source": [
    "%%time\n",
    "(search-for-primes 1000003 1000003)\n",
    "(search-for-primes 1000033 1000033)\n",
    "(search-for-primes 1000037 1000037)"
   ]
  },
  {
   "cell_type": "code",
   "execution_count": 9,
   "metadata": {},
   "outputs": [],
   "source": [
    "(define (odd? n)(= (remainder n 2) 1))\n",
    "(define (search-for-primes2 n m)\n",
    "  ;(display n)\n",
    "  (if (<= n m)\n",
    "      (if (odd? n)\n",
    "          (if (prime? n)\n",
    "              (begin\n",
    "               ;(display n)\n",
    "               ;(display \" *** \")\n",
    "               ;(newline)\n",
    "              (search-for-primes2 (+ n 2) m)\n",
    "              )\n",
    "              (search-for-primes2 (+ n 2) m)\n",
    "            )\n",
    "      (search-for-primes2 (+ n 1) m)\n",
    "      )\n",
    "        ()\n",
    "      )\n",
    "  )\n",
    "(define (loop max p)\n",
    "  (define (loop-iter n)\n",
    "    (if (< n max)\n",
    "        (begin\n",
    "         (display n)\n",
    "         (display \" \")\n",
    "         ;(newline)\n",
    "         (search-for-primes2 p p)\n",
    "         (loop-iter (+ n 1))\n",
    "         )\n",
    "    (newline)\n",
    "    )\n",
    "   )\n",
    "  (loop-iter 0)\n",
    "  )"
   ]
  },
  {
   "cell_type": "code",
   "execution_count": 10,
   "metadata": {},
   "outputs": [
    {
     "name": "stdout",
     "output_type": "stream",
     "text": [
      "0 1 2 3 4 5 6 7 8 9 10 11 12 13 14 15 16 17 18 19 20 21 22 23 24 25 26 27 28 29 30 31 32 33 34 35 36 37 38 39 40 41 42 43 44 45 46 47 48 49 50 51 52 53 54 55 56 57 58 59 60 61 62 63 64 65 66 67 68 69 70 71 72 73 74 75 76 77 78 79 80 81 82 83 84 85 86 87 88 89 90 91 92 93 94 95 96 97 98 99 \n",
      "Time: 5.769134759902954 seconds.\n",
      "\n"
     ]
    }
   ],
   "source": [
    "%%time\n",
    "(loop 100 1009)"
   ]
  },
  {
   "cell_type": "code",
   "execution_count": 11,
   "metadata": {},
   "outputs": [
    {
     "name": "stdout",
     "output_type": "stream",
     "text": [
      "0 1 2 3 4 5 6 7 8 9 10 11 12 13 14 15 16 17 18 19 20 21 22 23 24 25 26 27 28 29 30 31 32 33 34 35 36 37 38 39 40 41 42 43 44 45 46 47 48 49 50 51 52 53 54 55 56 57 58 59 60 61 62 63 64 65 66 67 68 69 70 71 72 73 74 75 76 77 78 79 80 81 82 83 84 85 86 87 88 89 90 91 92 93 94 95 96 97 98 99 \n",
      "Time: 17.054797410964966 seconds.\n",
      "\n"
     ]
    }
   ],
   "source": [
    "%%time\n",
    "(loop 100 10007)"
   ]
  },
  {
   "cell_type": "code",
   "execution_count": 12,
   "metadata": {},
   "outputs": [
    {
     "name": "stdout",
     "output_type": "stream",
     "text": [
      "0 1 2 3 4 5 6 7 8 9 10 11 12 13 14 15 16 17 18 19 20 21 22 23 24 25 26 27 28 29 30 31 32 33 34 35 36 37 38 39 40 41 42 43 44 45 46 47 48 49 50 51 52 53 54 55 56 57 58 59 60 61 62 63 64 65 66 67 68 69 70 71 72 73 74 75 76 77 78 79 80 81 82 83 84 85 86 87 88 89 90 91 92 93 94 95 96 97 98 99 \n",
      "Time: 52.16528630256653 seconds.\n",
      "\n"
     ]
    }
   ],
   "source": [
    "%%time\n",
    "(loop 100 100003)"
   ]
  },
  {
   "cell_type": "code",
   "execution_count": 13,
   "metadata": {},
   "outputs": [
    {
     "name": "stdout",
     "output_type": "stream",
     "text": [
      "0 1 2 3 4 5 6 7 8 9 10 11 12 13 14 15 16 17 18 19 20 21 22 23 24 25 26 27 28 29 30 31 32 33 34 35 36 37 38 39 40 41 42 43 44 45 46 47 48 49 50 51 52 53 54 55 56 57 58 59 60 61 62 63 64 65 66 67 68 69 70 71 72 73 74 75 76 77 78 79 80 81 82 83 84 85 86 87 88 89 90 91 92 93 94 95 96 97 98 99 \n",
      "Time: 165.68870615959167 seconds.\n",
      "\n"
     ]
    }
   ],
   "source": [
    "%%time\n",
    "(loop 100 1000003)"
   ]
  }
 ],
 "metadata": {
  "kernelspec": {
   "display_name": "Calysto Scheme 3",
   "language": "scheme",
   "name": "calysto_scheme"
  },
  "language_info": {
   "codemirror_mode": {
    "name": "scheme"
   },
   "mimetype": "text/x-scheme",
   "name": "scheme",
   "pygments_lexer": "scheme"
  }
 },
 "nbformat": 4,
 "nbformat_minor": 4
}
