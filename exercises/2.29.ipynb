{
 "cells": [
  {
   "cell_type": "markdown",
   "metadata": {},
   "source": [
    "### 練習問題2.29\n",
    "⼆枝モビールは、左の枝と右の枝のという⼆つの枝から構成されている。  \n",
    "それぞれの枝はある⻑さを持つ棒で、おもりか別の⼆枝モビールがぶら下がっている。  \n",
    "⼆枝モビールは、⼆つの枝によって構成することで、(例えばlistを使って)複合データによって表現できる。  \n",
    "\n",
    "    (define (make-mobile left right)\n",
    "      (list left right))  \n",
    "    \n",
    "枝は、⻑さlength(必ず数値)と構造structureからなり、  \n",
    "structure は数値(単純なおもりを表す)か、または別のモビールである。  \n",
    "\n",
    "    (define (make-branch length structure)\n",
    "      (list length structure))  \n",
    "    \n",
    "#### a.  \n",
    "これに対応する、モビールの枝を返すセレクタleft-branchとright-branch、  \n",
    "枝の構成要素を返すbranch-lengthと branch-structureを書け。  \n",
    "\n",
    "#### b.  \n",
    "これらのセレクタを使って、モビールの総重量を返す⼿続き total-weightを定義せよ。  \n",
    "\n",
    "#### c.  \n",
    "モビールについて、バランスが取れている(balanced)というのは、  \n",
    "⼀番上の左枝にかかるトルク(回転⼒)が⼀番上の右の枝にかかるトルクと等しく  \n",
    "(つまり、左の棒の⻑さとかかる重さの積が、右の棒についてのその積と等しい)、  \n",
    "かつ両枝からぶら下がっている各部分モビールのバランスが取れている状態について⾔う。  \n",
    "ある⼆枝モビールがバランスが取れているかどうかテストする述語を設計せよ。  \n",
    "\n",
    "#### d.  \n",
    "モビールの表現を変更し、以下のようなコンストラクタにする。  \n",
    "\n",
    "    (define (make-mobile left right)\n",
    "      (cons left right))\n",
    "    (define (make-branch length structure)\n",
    "      (cons length structure))\n",
    "\n",
    "あなたのプログラムを新しい表現に移⾏するにはどの程度の 変更が必要だろうか。"
   ]
  },
  {
   "cell_type": "code",
   "execution_count": 1,
   "metadata": {},
   "outputs": [
    {
     "name": "stdout",
     "output_type": "stream",
     "text": [
      "1\n",
      "2"
     ]
    }
   ],
   "source": [
    "(define x (list 1 2))\n",
    "(display (car x))\n",
    "(newline)\n",
    "(display (car (cdr x)))"
   ]
  },
  {
   "cell_type": "code",
   "execution_count": 2,
   "metadata": {},
   "outputs": [],
   "source": [
    "(define (make-mobile left right)\n",
    "  (list left right))\n",
    "(define (make-branch length structure)\n",
    "  (list length structure))"
   ]
  },
  {
   "cell_type": "code",
   "execution_count": 3,
   "metadata": {},
   "outputs": [],
   "source": [
    "; aの回答\n",
    "(define (left-branch m) (car m))\n",
    "(define (right-branch m) (car (cdr m)))\n",
    "(define (branch-length b) (car b))\n",
    "(define (branch-structure b) (car (cdr b)))"
   ]
  },
  {
   "cell_type": "code",
   "execution_count": 4,
   "metadata": {},
   "outputs": [
    {
     "name": "stdout",
     "output_type": "stream",
     "text": [
      "((3 ((10 1) (2 5))) (1 ((5 ((5 3) (3 5))) (4 ((4 6) (6 4))))))\n",
      "3\n",
      "5\n",
      "(3 ((10 1) (2 5)))\n",
      "((10 1) (2 5))\n",
      "((5 ((5 3) (3 5))) (4 ((4 6) (6 4))))\n",
      "(4 ((4 6) (6 4)))\n"
     ]
    }
   ],
   "source": [
    "(define l11 (make-branch 10 1))\n",
    "(define l12 (make-branch 2 5))\n",
    "(define lm1 (make-mobile l11 l12))\n",
    "(define r21 (make-branch 5 3))\n",
    "(define r22 (make-branch 3 5))\n",
    "(define rm2 (make-mobile r21 r22))\n",
    "(define r2 (make-branch 5 rm2))\n",
    "(define r31 (make-branch 4 6))\n",
    "(define r32 (make-branch 6 4))\n",
    "(define rm3 (make-mobile r31 r32))\n",
    "(define r3 (make-branch 4 rm3))\n",
    "(define rm1 (make-mobile r2 r3))\n",
    "(define l1 (make-branch 3 lm1))\n",
    "(define r1 (make-branch 1 rm1))\n",
    "(define root (make-mobile l1 r1))\n",
    "\n",
    ";動作確認\n",
    "(display root)\n",
    "(newline)\n",
    "(display (branch-structure r21))\n",
    "(newline)\n",
    "(display (branch-length r21))\n",
    "(newline)\n",
    "(display l1)\n",
    "(newline)\n",
    "(display (branch-structure l1))\n",
    "(newline)\n",
    "(display rm1)\n",
    "(newline)\n",
    "(display (branch-structure rm1))\n",
    "(newline)"
   ]
  },
  {
   "cell_type": "code",
   "execution_count": 5,
   "metadata": {},
   "outputs": [],
   "source": [
    "; bの回答\n",
    "\n",
    "; 枝かどうか\n",
    "(define (branch? b)\n",
    "  (not (pair? (car b)))\n",
    "  )\n",
    "; 重さかどうか\n",
    "(define (weight? s)\n",
    "  (not (pair? s))\n",
    "  )\n",
    "(define (total-weight m)\n",
    "  (if (not (branch? m))  ; 先頭がペアでない場合、それはlengthとみなすことができ、枝かモービルか判定ができる\n",
    "      ; モービルの場合\n",
    "      (let ((l (left-branch m))\n",
    "            (r (right-branch m)))\n",
    "        (+ (total-weight l) (total-weight r))\n",
    "        )\n",
    "      ; 枝の場合\n",
    "      (let ((s (branch-structure m)))\n",
    "        (if (weight? s) s\n",
    "            (total-weight s)\n",
    "            )\n",
    "        )\n",
    "     )\n",
    "  )"
   ]
  },
  {
   "cell_type": "code",
   "execution_count": 6,
   "metadata": {},
   "outputs": [
    {
     "name": "stdout",
     "output_type": "stream",
     "text": [
      "24\n",
      "8\n",
      "3\n"
     ]
    }
   ],
   "source": [
    "; 動作確認\n",
    "(display (total-weight root))\n",
    "(newline)\n",
    "(display (total-weight rm2))\n",
    "(newline)\n",
    "(display (total-weight r21))\n",
    "(newline)"
   ]
  },
  {
   "cell_type": "code",
   "execution_count": 7,
   "metadata": {},
   "outputs": [
    {
     "name": "stdout",
     "output_type": "stream",
     "text": [
      "True\n",
      "True\n",
      "True\n",
      "True\n"
     ]
    }
   ],
   "source": [
    "; cの回答\n",
    "(define (balanced? m)\n",
    "  (if (not (branch? m))  ; 先頭がペアでない場合、それはlengthとみなすことができ、枝かモービルか判定ができる\n",
    "      ; モービルの場合\n",
    "      (let ((l (left-branch m))\n",
    "            (r (right-branch m)))\n",
    "        (if (and (balanced? l) (balanced? r))\n",
    "            (let ((l-weight (total-weight l))\n",
    "                  (l-len (branch-length l))\n",
    "                  (r-weight (total-weight r))\n",
    "                  (r-len (branch-length r)))\n",
    "                (begin\n",
    "                 ;(display l-weight)(newline)\n",
    "                 ;(display l-len)(newline)\n",
    "                 ;(display r-weight)(newline)\n",
    "                 ;(display r-len)(newline)\n",
    "                 (= (* l-weight l-len) (* r-weight r-len))\n",
    "                 )\n",
    "              )\n",
    "            #f\n",
    "        )\n",
    "      )\n",
    "      ; 枝の場合\n",
    "      (let ((s (branch-structure m)))\n",
    "        (if (weight? s) #t\n",
    "            (balanced? s)\n",
    "            )\n",
    "        )\n",
    "    )\n",
    "  )\n",
    "; 動作確認\n",
    "(display (balanced? lm1))\n",
    "(newline)\n",
    "(display (balanced? rm2))\n",
    "(newline)\n",
    "(display (balanced? rm3))\n",
    "(newline)\n",
    "(display (balanced? rm1))\n",
    "(newline)"
   ]
  },
  {
   "cell_type": "code",
   "execution_count": 8,
   "metadata": {},
   "outputs": [],
   "source": [
    "; dの回答\n",
    "(define (make-mobile left right)\n",
    "  (cons left right))\n",
    "(define (make-branch length structure)\n",
    "  (cons length structure))\n",
    "\n",
    "; セレクタを再定義すればよい。\n",
    "(define (left-branch m) (car m))\n",
    "(define (right-branch m) (cdr m))\n",
    "(define (branch-length b) (car b))\n",
    "(define (branch-structure b) (cdr b))"
   ]
  },
  {
   "cell_type": "code",
   "execution_count": 9,
   "metadata": {},
   "outputs": [
    {
     "name": "stdout",
     "output_type": "stream",
     "text": [
      "((3 (10 . 1) 2 . 5) 1 (5 (5 . 3) 3 . 5) 4 (4 . 6) 6 . 4)\n",
      "3\n",
      "5\n",
      "(3 (10 . 1) 2 . 5)\n",
      "((10 . 1) 2 . 5)\n",
      "((5 (5 . 3) 3 . 5) 4 (4 . 6) 6 . 4)\n",
      "(4 (4 . 6) 6 . 4)\n"
     ]
    }
   ],
   "source": [
    ";動作確認\n",
    "(define l11 (make-branch 10 1))\n",
    "(define l12 (make-branch 2 5))\n",
    "(define lm1 (make-mobile l11 l12))\n",
    "(define r21 (make-branch 5 3))\n",
    "(define r22 (make-branch 3 5))\n",
    "(define rm2 (make-mobile r21 r22))\n",
    "(define r2 (make-branch 5 rm2))\n",
    "(define r31 (make-branch 4 6))\n",
    "(define r32 (make-branch 6 4))\n",
    "(define rm3 (make-mobile r31 r32))\n",
    "(define r3 (make-branch 4 rm3))\n",
    "(define rm1 (make-mobile r2 r3))\n",
    "(define l1 (make-branch 3 lm1))\n",
    "(define r1 (make-branch 1 rm1))\n",
    "(define root (make-mobile l1 r1))\n",
    "\n",
    "(display root)\n",
    "(newline)\n",
    "(display (branch-structure r21))\n",
    "(newline)\n",
    "(display (branch-length r21))\n",
    "(newline)\n",
    "(display l1)\n",
    "(newline)\n",
    "(display (branch-structure l1))\n",
    "(newline)\n",
    "(display rm1)\n",
    "(newline)\n",
    "(display (branch-structure rm1))\n",
    "(newline)"
   ]
  },
  {
   "cell_type": "code",
   "execution_count": 10,
   "metadata": {},
   "outputs": [
    {
     "name": "stdout",
     "output_type": "stream",
     "text": [
      "24\n",
      "8\n",
      "3\n"
     ]
    }
   ],
   "source": [
    "; 動作確認\n",
    "(display (total-weight root))\n",
    "(newline)\n",
    "(display (total-weight rm2))\n",
    "(newline)\n",
    "(display (total-weight r21))\n",
    "(newline)"
   ]
  },
  {
   "cell_type": "code",
   "execution_count": 11,
   "metadata": {},
   "outputs": [
    {
     "name": "stdout",
     "output_type": "stream",
     "text": [
      "True\n",
      "True\n",
      "True\n",
      "True\n"
     ]
    }
   ],
   "source": [
    "; 動作確認\n",
    "(display (balanced? lm1))\n",
    "(newline)\n",
    "(display (balanced? rm2))\n",
    "(newline)\n",
    "(display (balanced? rm3))\n",
    "(newline)\n",
    "(display (balanced? rm1))\n",
    "(newline)"
   ]
  }
 ],
 "metadata": {
  "kernelspec": {
   "display_name": "Calysto Scheme 3",
   "language": "scheme",
   "name": "calysto_scheme"
  },
  "language_info": {
   "codemirror_mode": {
    "name": "scheme"
   },
   "mimetype": "text/x-scheme",
   "name": "scheme",
   "pygments_lexer": "scheme"
  }
 },
 "nbformat": 4,
 "nbformat_minor": 4
}
