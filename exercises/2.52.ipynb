{
 "cells": [
  {
   "cell_type": "markdown",
   "metadata": {},
   "source": [
    "### 練習問題2.52\n",
    "上で述べた各レベルに⼿を加え、  \n",
    "図2.9に⽰したwaveによるsquare-limitを変更せよ。  \n",
    "具体的には、次のようなものである。\n",
    "\n",
    "- a.練習問題2.49のwave基本ペインタに線分をいくつか加えよ(例えば、笑顔を追加するなど)。\n",
    "- b.corner-splitによって構築されるパターンを変更せよ(例えば、up-splitやright-splitの画像を⼆つではなく⼀つ だけ使うようにする)。\n",
    "- c.square-of-fourを使うほうのsquare-limitを修正し、四隅を違うパターンで組み⽴てるようにせよ(例えば、正⽅形の四隅で⼤きなロジャーズ⽒が外を向くようにするなど)。 \n"
   ]
  },
  {
   "cell_type": "markdown",
   "metadata": {},
   "source": [
    "回答は割愛する。"
   ]
  }
 ],
 "metadata": {
  "kernelspec": {
   "display_name": "Calysto Scheme 3",
   "language": "scheme",
   "name": "calysto_scheme"
  },
  "language_info": {
   "codemirror_mode": {
    "name": "scheme"
   },
   "mimetype": "text/x-scheme",
   "name": "scheme",
   "pygments_lexer": "scheme"
  }
 },
 "nbformat": 4,
 "nbformat_minor": 4
}
