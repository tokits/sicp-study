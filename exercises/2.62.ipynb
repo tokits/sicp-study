{
 "cells": [
  {
   "cell_type": "markdown",
   "metadata": {},
   "source": [
    "### 練習問題2.62\n",
    "順序つきリストとして表現された集合に対して、  \n",
    "union-setを$\\Theta(n)$で実装せよ。"
   ]
  },
  {
   "cell_type": "code",
   "execution_count": 1,
   "metadata": {},
   "outputs": [],
   "source": [
    "(define (element-of-set? x set)\n",
    "  (cond ((null? set) #f)\n",
    "        ((= x (car set)) #t)\n",
    "        ((< x (car set)) #f)\n",
    "        (else (element-of-set? x (cdr set))))\n",
    "  )\n",
    "\n",
    "(define (intersection-set set1 set2)\n",
    "  (if (or (null? set1) (null? set2)) '()\n",
    "      (let ((x1 (car set1))\n",
    "            (x2 (car set2)))\n",
    "        (cond ((= x1 x2) (cons x1 (intersection-set (cdr set1) (cdr set2))))\n",
    "              ((< x1 x2) (intersection-set (cdr set1) set2))\n",
    "              ((< x2 x1) (intersection-set set1 (cdr set2)))\n",
    "              )\n",
    "        )\n",
    "      )\n",
    "  )"
   ]
  },
  {
   "cell_type": "code",
   "execution_count": 2,
   "metadata": {},
   "outputs": [],
   "source": [
    "; 回答\n",
    "(define (union-set set1 set2)\n",
    "  (cond ((and (null? set1) (null? set2)) '())\n",
    "        ((and (not (null? set1)) (null? set2)) set1)\n",
    "        ((and (null? set1) (not (null? set2))) set2)\n",
    "        (else\n",
    "            (let ((x1 (car set1))\n",
    "                  (x2 (car set2)))\n",
    "              (cond ((= x1 x2) (cons x1 (union-set (cdr set1) (cdr set2))))\n",
    "                    ((< x1 x2) (cons x1 (union-set (cdr set1) set2)))\n",
    "                    ((< x2 x1) (cons x2 (union-set set1 (cdr set2))))\n",
    "                )\n",
    "              )\n",
    "         )\n",
    "    )\n",
    "  )"
   ]
  },
  {
   "cell_type": "code",
   "execution_count": 3,
   "metadata": {},
   "outputs": [
    {
     "data": {
      "text/plain": [
       "(1 2 5 6 7)"
      ]
     },
     "execution_count": 3,
     "metadata": {},
     "output_type": "execute_result"
    }
   ],
   "source": [
    "(union-set '(1 5 7) '(2 5 6 7))"
   ]
  }
 ],
 "metadata": {
  "kernelspec": {
   "display_name": "Calysto Scheme 3",
   "language": "scheme",
   "name": "calysto_scheme"
  },
  "language_info": {
   "codemirror_mode": {
    "name": "scheme"
   },
   "mimetype": "text/x-scheme",
   "name": "scheme",
   "pygments_lexer": "scheme"
  }
 },
 "nbformat": 4,
 "nbformat_minor": 4
}
