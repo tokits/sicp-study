{
 "cells": [
  {
   "cell_type": "markdown",
   "metadata": {},
   "source": [
    "### 練習問題1.8\n",
    "⽴⽅根に対するニュートン法は、yがxの⽴⽅根の近似値である場合、  \n",
    "次の値によってよりよい近似を求めることができるという事実に基づいている。  \n",
    "\n",
    "$\\frac{\\frac{x}{y^2}+2y}{3}$  \n",
    "\n",
    "この式を使って、平⽅根と同じような仕組みの⽴⽅根⼿続きを実装せよ  \n",
    "(1.3.4節では、平⽅根と⽴⽅根を抽象化したものとして、⼀ 般的なニュートン法をどのように実装するかを⾒ていく)。\n"
   ]
  },
  {
   "cell_type": "code",
   "execution_count": 1,
   "metadata": {},
   "outputs": [],
   "source": [
    "(define (cbrt-iter guess x)\n",
    "  (if (good-enough? guess x)\n",
    "      guess\n",
    "      (cbrt-iter (improve x guess) x)))\n",
    "(define (cube x)(* x x x))\n",
    "\n",
    "(define (improve x y)\n",
    "  (/ (+ (/ x (* y y)) (* 2 y)) 3))\n",
    "\n",
    "(define (good-enough? guess x)\n",
    "  (< (abs (- (cube guess) x)) 0.001))\n",
    "(define (cbrt x)\n",
    "  (cbrt-iter 1.0 x))"
   ]
  },
  {
   "cell_type": "code",
   "execution_count": 2,
   "metadata": {},
   "outputs": [
    {
     "name": "stdout",
     "output_type": "stream",
     "text": [
      "3.0000005410641766\n",
      "10.000000145265767\n",
      "2.1544959251533746\n"
     ]
    }
   ],
   "source": [
    "; 動作確認\n",
    "(display (cbrt 27))\n",
    "(newline)\n",
    "(display (cbrt 1000))\n",
    "(newline)\n",
    "(display (cbrt 10))\n",
    "(newline)"
   ]
  },
  {
   "cell_type": "code",
   "execution_count": 5,
   "metadata": {},
   "outputs": [],
   "source": [
    "; 新しい推定値と一つ前の推定値の差分で判定するようにした。\n",
    "(define (good-enough-new? next-guess guess)\n",
    "  (< (abs (- next-guess guess)) 0.001))\n",
    "(define (cbrt-new-iter guess x old-guess)\n",
    "  (if (good-enough-new? guess old-guess)\n",
    "      guess\n",
    "      (let ((next-guess (improve x guess)))\n",
    "        (cbrt-new-iter next-guess x guess)\n",
    "        )\n",
    "      )\n",
    "    )\n",
    "(define (cbrt-new x)\n",
    "  (cbrt-new-iter 1.0 x 0.0))"
   ]
  },
  {
   "cell_type": "code",
   "execution_count": 6,
   "metadata": {},
   "outputs": [
    {
     "name": "stdout",
     "output_type": "stream",
     "text": [
      "3.0000000000000977\n",
      "10.000000000000002\n",
      "2.154434691772293\n",
      "215443.4690031884\n"
     ]
    }
   ],
   "source": [
    "; 動作確認\n",
    "(display (cbrt-new 27))\n",
    "(newline)\n",
    "(display (cbrt-new 1000))\n",
    "(newline)\n",
    "(display (cbrt-new 10))\n",
    "(newline)\n",
    "(display (cbrt-new 10000000000000000))\n",
    "(newline)"
   ]
  }
 ],
 "metadata": {
  "kernelspec": {
   "display_name": "Calysto Scheme 3",
   "language": "scheme",
   "name": "calysto_scheme"
  },
  "language_info": {
   "codemirror_mode": {
    "name": "scheme"
   },
   "mimetype": "text/x-scheme",
   "name": "scheme",
   "pygments_lexer": "scheme"
  }
 },
 "nbformat": 4,
 "nbformat_minor": 4
}
