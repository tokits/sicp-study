{
 "cells": [
  {
   "cell_type": "markdown",
   "metadata": {},
   "source": [
    "### 練習問題1.8\n",
    "⽴⽅根に対するニュートン法は、yがxの⽴⽅根の近似値である場合、  \n",
    "次の値によってよりよい近似を求めることができるという事実に基づいている。  \n",
    "\n",
    "$\\frac{\\frac{x}{y^2}+2y}{3}$  \n",
    "\n",
    "この式を使って、平⽅根と同じような仕組みの⽴⽅根⼿続きを実装せよ  \n",
    "(1.3.4節では、平⽅根と⽴⽅根を抽象化したものとして、⼀ 般的なニュートン法をどのように実装するかを⾒ていく)。\n"
   ]
  },
  {
   "cell_type": "code",
   "execution_count": 1,
   "metadata": {},
   "outputs": [],
   "source": [
    "(define (cbrt-iter guess x)\n",
    "  (if (good-enough? guess x)\n",
    "      guess\n",
    "      (cbrt-iter (improve x guess) x)))\n",
    "(define (cube x)(* x x x))\n",
    "\n",
    "(define (improve x y)\n",
    "  (/ (+ (/ x (* y y)) (* 2 y)) 3))\n",
    "\n",
    "(define (good-enough? guess x)\n",
    "  (< (abs (- (cube guess) x)) 0.001))\n",
    "(define (cbrt x)\n",
    "  (cbrt-iter 1.0 x))"
   ]
  },
  {
   "cell_type": "code",
   "execution_count": 3,
   "metadata": {},
   "outputs": [
    {
     "data": {
      "text/plain": [
       "3.0000005410641766"
      ]
     },
     "execution_count": 3,
     "metadata": {},
     "output_type": "execute_result"
    }
   ],
   "source": [
    "(cbrt 27)"
   ]
  },
  {
   "cell_type": "code",
   "execution_count": 4,
   "metadata": {},
   "outputs": [
    {
     "data": {
      "text/plain": [
       "10.000000145265767"
      ]
     },
     "execution_count": 4,
     "metadata": {},
     "output_type": "execute_result"
    }
   ],
   "source": [
    "(cbrt 1000)"
   ]
  },
  {
   "cell_type": "code",
   "execution_count": 5,
   "metadata": {},
   "outputs": [
    {
     "data": {
      "text/plain": [
       "2.1544959251533746"
      ]
     },
     "execution_count": 5,
     "metadata": {},
     "output_type": "execute_result"
    }
   ],
   "source": [
    "(cbrt 10)"
   ]
  }
 ],
 "metadata": {
  "kernelspec": {
   "display_name": "Calysto Scheme 3",
   "language": "scheme",
   "name": "calysto_scheme"
  },
  "language_info": {
   "codemirror_mode": {
    "name": "scheme"
   },
   "mimetype": "text/x-scheme",
   "name": "scheme",
   "pygments_lexer": "scheme"
  }
 },
 "nbformat": 4,
 "nbformat_minor": 4
}
