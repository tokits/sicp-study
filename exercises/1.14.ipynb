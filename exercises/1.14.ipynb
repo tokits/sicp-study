{
 "cells": [
  {
   "cell_type": "markdown",
   "metadata": {},
   "source": [
    "### 練習問題1.14\n",
    "\n",
    "1.2.2節のcount-change⼿続きによって11セントに対する両替のやり⽅を  \n",
    "求める際に⽣成されるプロセスを図⽰する⽊を描け。  \n",
    "両替する⾦額の増加に対して、このプロセスが使う空間と  \n",
    "ステップ数はどのような増加オーダーになるか。  "
   ]
  },
  {
   "cell_type": "markdown",
   "metadata": {},
   "source": [
    "10セントのプロセスは、テキストのほうに図示した。  \n",
    "ここでの回答については割愛する。"
   ]
  }
 ],
 "metadata": {
  "kernelspec": {
   "display_name": "Calysto Scheme 3",
   "language": "scheme",
   "name": "calysto_scheme"
  },
  "language_info": {
   "codemirror_mode": {
    "name": "scheme"
   },
   "mimetype": "text/x-scheme",
   "name": "scheme",
   "pygments_lexer": "scheme"
  }
 },
 "nbformat": 4,
 "nbformat_minor": 4
}
