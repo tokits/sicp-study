{
 "cells": [
  {
   "cell_type": "markdown",
   "metadata": {},
   "source": [
    "### 練習問題1.40\n",
    "次のような形の式でnewtons-method⼿続きと組み合わせて使うことによって、  \n",
    "三次⽅程式$x^3 + ax^2 + bx + c = 0$の零点の近似値を求めることができるような⼿続きcubicを定義 せよ。\n",
    "\n",
    "    (newtons-method (cubic a b c) 1)\n"
   ]
  },
  {
   "cell_type": "code",
   "execution_count": 1,
   "metadata": {},
   "outputs": [],
   "source": [
    "(define tolerance 0.00001)\n",
    "\n",
    "(define (fixed-point f first-guess)\n",
    "  (define (close-enough? v1 v2)\n",
    "    (begin\n",
    "     (display v1)\n",
    "     (display \" \")\n",
    "     (display v2)\n",
    "     (newline)\n",
    "     (< (abs (- v1 v2)) tolerance)\n",
    "     )\n",
    "    )\n",
    "  ;tryは予約後になっているようで名前を変えないと動作しなかった\n",
    "  (define (try-tmp guess)\n",
    "    ;(display first-guess)\n",
    "    ;(newline)\n",
    "    (let ((next (f guess)))\n",
    "      (if (close-enough? guess next) next\n",
    "          (try-tmp next)))\n",
    "    )\n",
    "  (try-tmp first-guess)\n",
    "  )\n",
    "\n",
    "(define (deriv g)\n",
    "  (lambda (x) (/ (- (g (+ x dx)) (g x)) dx))\n",
    "  )\n",
    "(define dx 0.00001)\n",
    "\n",
    "(define (newton-transform g)\n",
    "  (lambda (x) (- x (/ (g x) ((deriv g) x))))\n",
    "  )\n",
    "(define (newtons-method g guess)\n",
    "  (fixed-point (newton-transform g) guess)\n",
    "  )"
   ]
  },
  {
   "cell_type": "code",
   "execution_count": 2,
   "metadata": {},
   "outputs": [
    {
     "data": {
      "text/plain": [
       "98.00016999577109"
      ]
     },
     "execution_count": 2,
     "metadata": {},
     "output_type": "execute_result"
    }
   ],
   "source": [
    "(define (cubic a b c)\n",
    "    (lambda (x) (+ (* x x x) (* a x x) (* b x) c ))\n",
    "  )\n",
    "; 動作確認\n",
    "((deriv (cubic 2 3 1)) 5)"
   ]
  },
  {
   "cell_type": "code",
   "execution_count": 3,
   "metadata": {},
   "outputs": [
    {
     "name": "stdout",
     "output_type": "stream",
     "text": [
      "1 0.8000015999921953\n",
      "0.8000015999921953 0.756818732398373\n",
      "0.756818732398373 0.754881496201227\n",
      "0.754881496201227 0.7548776663004064\n"
     ]
    },
    {
     "data": {
      "text/plain": [
       "0.7548776663004064"
      ]
     },
     "execution_count": 3,
     "metadata": {},
     "output_type": "execute_result"
    }
   ],
   "source": [
    "(newtons-method (cubic 1 0 -1) 1)"
   ]
  },
  {
   "cell_type": "code",
   "execution_count": 4,
   "metadata": {},
   "outputs": [
    {
     "data": {
      "text/plain": [
       "1.7291923448681246e-10"
      ]
     },
     "execution_count": 4,
     "metadata": {},
     "output_type": "execute_result"
    }
   ],
   "source": [
    "; 動作確認\n",
    "((cubic 1 0 -1) 0.7548776663004064)"
   ]
  }
 ],
 "metadata": {
  "kernelspec": {
   "display_name": "Calysto Scheme 3",
   "language": "scheme",
   "name": "calysto_scheme"
  },
  "language_info": {
   "codemirror_mode": {
    "name": "scheme"
   },
   "mimetype": "text/x-scheme",
   "name": "scheme",
   "pygments_lexer": "scheme"
  }
 },
 "nbformat": 4,
 "nbformat_minor": 4
}
