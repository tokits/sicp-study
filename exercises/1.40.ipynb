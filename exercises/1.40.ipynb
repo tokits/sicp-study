{
 "cells": [
  {
   "cell_type": "markdown",
   "metadata": {},
   "source": [
    "### 練習問題1.44\n",
    "次のような形の式でnewtons-method⼿続きと組み合わせて使うことによって、  \n",
    "三次⽅程式$x^3 + ax^2 + bx + c = 0$の零点の近似値を求めることができるような⼿続きcubicを定義 せよ。\n",
    "\n",
    "    (newtons-method (cubic a b c) 1)\n"
   ]
  },
  {
   "cell_type": "markdown",
   "metadata": {},
   "source": [
    "回答は割愛する。"
   ]
  }
 ],
 "metadata": {
  "kernelspec": {
   "display_name": "Calysto Scheme 3",
   "language": "scheme",
   "name": "calysto_scheme"
  },
  "language_info": {
   "codemirror_mode": {
    "name": "scheme"
   },
   "mimetype": "text/x-scheme",
   "name": "scheme",
   "pygments_lexer": "scheme"
  }
 },
 "nbformat": 4,
 "nbformat_minor": 4
}
