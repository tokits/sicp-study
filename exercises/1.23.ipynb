{
 "cells": [
  {
   "cell_type": "markdown",
   "metadata": {},
   "source": [
    "### 練習問題1.23\n",
    "この節の最初で⽰したsmallest-divisor⼿続きは、  \n",
    "必要のないテストを数多く⾏っている。  \n",
    "数値が2で割り切れるかチェックした後に、  \n",
    "それより⼤きな偶数で割り切れるかをチェックすることに意味はない。  \n",
    "このことは、test-divisorに使われる値は  \n",
    "$2, 3, 4, 5, 6, \\ldots$ではなく、  \n",
    "$2, 3, 5, 7, 9, \\ldots$であるべきだということを⽰している。  \n",
    "この変更を実装するために、⼊⼒が 2であれば3を返し、  \n",
    "そうでなければ⼊⼒に2を⾜したものを返す\n",
    "⼿続きnextを定義せよ。  \n",
    "smallest-divisor⼿続きを、(+ testdivisor 1)の代わりに\n",
    "(next test-divisor) を使うように修正せよ。  \n",
    "この変更したバージョンの smallest-divisor⼿続きを組み込んだ\n",
    "timed-prime-test を使い、\n",
    "練習問題 1.22で⾒つけた 12個の素数についてテストを実⾏せよ。  \n",
    "この変更はテストのステップ数を半分にするため、  \n",
    "2倍の速度で実⾏できると予想できる。  \n",
    "この予想は確認できただろうか。  \n",
    "そうでなければ、⼆つのアルゴリズムの観測された速度の⽐率はどうなっていて、  \n",
    "それが 2 でないという事実をどのように説明できるだろうか。"
   ]
  },
  {
   "cell_type": "code",
   "execution_count": 1,
   "metadata": {},
   "outputs": [],
   "source": [
    "(define (smallest-divisor n) (find-divisor n 2))\n",
    "(define (find-divisor n test-divisor)\n",
    "  (cond ((> (square test-divisor) n) n)\n",
    "        ((divides? test-divisor n) test-divisor)\n",
    "        (else (find-divisor n (next test-divisor))\n",
    "        )\n",
    "    )\n",
    "  )\n",
    "(define (divides? a b)\n",
    "  (= (remainder b a) 0)\n",
    "  )\n",
    "(define (square x) (* x x))\n",
    "(define (next n)\n",
    "  (if (= n 2) 3\n",
    "      (+ n 2))\n",
    "  )\n",
    "(define (prime? n)\n",
    "  (= n (smallest-divisor n))\n",
    "  )"
   ]
  },
  {
   "cell_type": "code",
   "execution_count": 2,
   "metadata": {},
   "outputs": [
    {
     "data": {
      "text/plain": [
       "#f"
      ]
     },
     "execution_count": 2,
     "metadata": {},
     "output_type": "execute_result"
    }
   ],
   "source": [
    "(prime? 27)"
   ]
  },
  {
   "cell_type": "code",
   "execution_count": 3,
   "metadata": {},
   "outputs": [],
   "source": [
    "(define (odd? n)(= (remainder n 2) 1))\n",
    "(define (search-for-primes n m)\n",
    "  ;(display n)\n",
    "  (if (<= n m)\n",
    "      (if (odd? n)\n",
    "          (if (prime? n)\n",
    "              (begin\n",
    "               (display n)\n",
    "               (display \" *** \")\n",
    "               (newline)\n",
    "              (search-for-primes (+ n 2) m)\n",
    "              )\n",
    "              (search-for-primes (+ n 2) m)\n",
    "            )\n",
    "      (search-for-primes (+ n 1) m)\n",
    "      )\n",
    "        ()\n",
    "      )\n",
    "  )"
   ]
  },
  {
   "cell_type": "code",
   "execution_count": 4,
   "metadata": {},
   "outputs": [
    {
     "name": "stdout",
     "output_type": "stream",
     "text": [
      "1009 *** \n",
      "1013 *** \n",
      "1019 *** \n",
      "Time: 0.10801267623901367 seconds.\n",
      "\n"
     ]
    },
    {
     "data": {
      "text/plain": [
       "()"
      ]
     },
     "execution_count": 4,
     "metadata": {},
     "output_type": "execute_result"
    }
   ],
   "source": [
    "%%time\n",
    "(search-for-primes 1009 1009)\n",
    "(search-for-primes 1013 1013)\n",
    "(search-for-primes 1019 1019)"
   ]
  },
  {
   "cell_type": "code",
   "execution_count": 5,
   "metadata": {},
   "outputs": [
    {
     "name": "stdout",
     "output_type": "stream",
     "text": [
      "10007 *** \n",
      "10009 *** \n",
      "10037 *** \n",
      "Time: 0.29992198944091797 seconds.\n",
      "\n"
     ]
    },
    {
     "data": {
      "text/plain": [
       "()"
      ]
     },
     "execution_count": 5,
     "metadata": {},
     "output_type": "execute_result"
    }
   ],
   "source": [
    "%%time\n",
    "(search-for-primes 10007 10007)\n",
    "(search-for-primes 10009 10009)\n",
    "(search-for-primes 10037 10037)"
   ]
  },
  {
   "cell_type": "code",
   "execution_count": 6,
   "metadata": {},
   "outputs": [
    {
     "name": "stdout",
     "output_type": "stream",
     "text": [
      "100003 *** \n",
      "100019 *** \n",
      "100043 *** \n",
      "Time: 0.8358752727508545 seconds.\n",
      "\n"
     ]
    },
    {
     "data": {
      "text/plain": [
       "()"
      ]
     },
     "execution_count": 6,
     "metadata": {},
     "output_type": "execute_result"
    }
   ],
   "source": [
    "%%time\n",
    "(search-for-primes 100003 100003)\n",
    "(search-for-primes 100019 100019)\n",
    "(search-for-primes 100043 100043)"
   ]
  },
  {
   "cell_type": "code",
   "execution_count": 7,
   "metadata": {},
   "outputs": [
    {
     "name": "stdout",
     "output_type": "stream",
     "text": [
      "1000003 *** \n",
      "1000033 *** \n",
      "1000037 *** \n",
      "Time: 2.367893695831299 seconds.\n",
      "\n"
     ]
    },
    {
     "data": {
      "text/plain": [
       "()"
      ]
     },
     "execution_count": 7,
     "metadata": {},
     "output_type": "execute_result"
    }
   ],
   "source": [
    "%%time\n",
    "(search-for-primes 1000003 1000003)\n",
    "(search-for-primes 1000033 1000033)\n",
    "(search-for-primes 1000037 1000037)"
   ]
  }
 ],
 "metadata": {
  "kernelspec": {
   "display_name": "Calysto Scheme 3",
   "language": "scheme",
   "name": "calysto_scheme"
  },
  "language_info": {
   "codemirror_mode": {
    "name": "scheme"
   },
   "mimetype": "text/x-scheme",
   "name": "scheme",
   "pygments_lexer": "scheme"
  }
 },
 "nbformat": 4,
 "nbformat_minor": 4
}
