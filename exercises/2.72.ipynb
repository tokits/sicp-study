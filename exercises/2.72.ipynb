{
 "cells": [
  {
   "cell_type": "markdown",
   "metadata": {},
   "source": [
    "### 練習問題2.72\n",
    "練習問題2.68で設計した符号化手続きについて考える。  \n",
    "ひとつの記号を符号化するのに必要なステップ数の増加オーダーはどのようになるだろうか。  \n",
    "各ノードに着くたびに記号リストを検索するのに必要なステップ数を含めることを忘れないように。  \n",
    "この問題の⼀般の場合について答えることは難しい。  \n",
    "ここでは、$n$記号の相対頻度が練習問題2.71のようになっている特別な場合について考えよう。  \n",
    "アルファベット中で頻度が最大の記号 と最小の記号を符号化するのにかかるステップ数の増加オーダーを($n$の関数として)答えよ"
   ]
  },
  {
   "cell_type": "markdown",
   "metadata": {},
   "source": [
    "回答は保留にする。"
   ]
  }
 ],
 "metadata": {
  "kernelspec": {
   "display_name": "Calysto Scheme 3",
   "language": "scheme",
   "name": "calysto_scheme"
  },
  "language_info": {
   "codemirror_mode": {
    "name": "scheme"
   },
   "mimetype": "text/x-scheme",
   "name": "scheme",
   "pygments_lexer": "scheme"
  }
 },
 "nbformat": 4,
 "nbformat_minor": 4
}
