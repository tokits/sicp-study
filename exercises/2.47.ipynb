{
 "cells": [
  {
   "cell_type": "markdown",
   "metadata": {},
   "source": [
    "### 練習問題2.47\n",
    "次に、枠のコンストラクタとして使えるものを⼆つ挙げる。\n",
    "\n",
    "    (define (make-frame origin edge1 edge2)\n",
    "      (list origin edge1 edge2))\n",
    "      \n",
    "    (define (make-frame origin edge1 edge2)\n",
    "      (cons origin (cons edge1 edge2)))\n",
    "\n",
    "それぞれのコンストラクタに対し、適切なセレクタを加えて枠の 実装を完成させよ。"
   ]
  },
  {
   "cell_type": "code",
   "execution_count": 1,
   "metadata": {},
   "outputs": [],
   "source": [
    "; ベクトルコンストラクタ・セレクタ\n",
    "(define (make-vect x y)(cons x y))\n",
    "(define (xcor-vect v)(car v))\n",
    "(define (ycor-vect v)(cdr v))\n",
    "\n",
    "; ベクトル演算\n",
    "(define (add-vect v1 v2)\n",
    "  (make-vect (+ (xcor-vect v1) (xcor-vect v2))\n",
    "             (+ (ycor-vect v1) (ycor-vect v2))\n",
    "             )\n",
    "  )\n",
    "(define (sub-vect v1 v2)\n",
    "  (make-vect (- (xcor-vect v1) (xcor-vect v2))\n",
    "             (- (ycor-vect v1) (ycor-vect v2))\n",
    "             )\n",
    "  )\n",
    "(define (scale-vect s v)\n",
    "  (make-vect (* s (xcor-vect v)) (* s (ycor-vect v))\n",
    "             )\n",
    "  )"
   ]
  },
  {
   "cell_type": "code",
   "execution_count": 2,
   "metadata": {},
   "outputs": [],
   "source": [
    "; 回答\n",
    "(define (make-frame origin edge1 edge2)\n",
    "  (list origin edge1 edge2))\n",
    "\n",
    "(define (origin-frame frame)\n",
    "  (car frame))\n",
    "\n",
    "(define (edge1-frame frame)\n",
    "  (cadr frame))\n",
    "\n",
    "(define (edge2-frame frame)\n",
    "  (caddr frame))"
   ]
  },
  {
   "cell_type": "code",
   "execution_count": 3,
   "metadata": {},
   "outputs": [
    {
     "name": "stdout",
     "output_type": "stream",
     "text": [
      "(1 . 2)\n",
      "(3 . 4)\n",
      "(5 . 6)\n"
     ]
    }
   ],
   "source": [
    "; 動作確認\n",
    "(define frame (make-frame\n",
    "               (make-vect 1 2)\n",
    "               (make-vect 3 4)\n",
    "               (make-vect 5 6))\n",
    "  )\n",
    "\n",
    ";\n",
    "(display (origin-frame frame))\n",
    "(newline)\n",
    ";\n",
    "(display (edge1-frame frame))\n",
    "(newline)\n",
    ";\n",
    "(display (edge2-frame frame))\n",
    "(newline)"
   ]
  },
  {
   "cell_type": "code",
   "execution_count": 4,
   "metadata": {},
   "outputs": [],
   "source": [
    "; 回答\n",
    "(define (make-frame origin edge1 edge2)\n",
    "  (cons origin (cons edge1 edge2)))\n",
    "\n",
    "(define (origin-frame frame)\n",
    "  (car frame))\n",
    "\n",
    "(define (edge1-frame frame)\n",
    "  (cadr frame))\n",
    "\n",
    "; これだけ実装が違う\n",
    "(define (edge2-frame frame)\n",
    "  (cddr frame))"
   ]
  },
  {
   "cell_type": "code",
   "execution_count": 5,
   "metadata": {},
   "outputs": [
    {
     "name": "stdout",
     "output_type": "stream",
     "text": [
      "(1 . 2)\n",
      "(3 . 4)\n",
      "(5 . 6)\n"
     ]
    }
   ],
   "source": [
    "; 動作確認\n",
    "(define frame (make-frame\n",
    "               (make-vect 1 2)\n",
    "               (make-vect 3 4)\n",
    "               (make-vect 5 6))\n",
    "  )\n",
    "\n",
    ";\n",
    "(display (origin-frame frame))\n",
    "(newline)\n",
    ";\n",
    "(display (edge1-frame frame))\n",
    "(newline)\n",
    ";\n",
    "(display (edge2-frame frame))\n",
    "(newline)"
   ]
  }
 ],
 "metadata": {
  "kernelspec": {
   "display_name": "Calysto Scheme 3",
   "language": "scheme",
   "name": "calysto_scheme"
  },
  "language_info": {
   "codemirror_mode": {
    "name": "scheme"
   },
   "mimetype": "text/x-scheme",
   "name": "scheme",
   "pygments_lexer": "scheme"
  }
 },
 "nbformat": 4,
 "nbformat_minor": 4
}
