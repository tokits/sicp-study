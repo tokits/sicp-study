{
 "cells": [
  {
   "cell_type": "markdown",
   "metadata": {},
   "source": [
    "### 練習問題2.3\n",
    "平⾯上の⻑⽅形の表現を実装せよ  \n",
    "(ヒント：練習問題 2.2を利⽤するといいかもしれない)。  \n",
    "そのコンストラクタとセレクタを使って、  \n",
    "ある⻑⽅形の外周の⻑さと⾯積を計算する⼿続きを書け。  \n",
    "次に、⻑⽅形の異なる表現を実装せよ。  \n",
    "適切な抽象化の壁を使ってシステムを設計し、  \n",
    "外周と⾯積を求める同じ⼿続きがどちらの表現によっても動くようにできるだろうか。"
   ]
  }
 ],
 "metadata": {
  "kernelspec": {
   "display_name": "Calysto Scheme 3",
   "language": "scheme",
   "name": "calysto_scheme"
  },
  "language_info": {
   "codemirror_mode": {
    "name": "scheme"
   },
   "mimetype": "text/x-scheme",
   "name": "scheme",
   "pygments_lexer": "scheme"
  }
 },
 "nbformat": 4,
 "nbformat_minor": 4
}
