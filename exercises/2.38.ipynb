{
 "cells": [
  {
   "cell_type": "markdown",
   "metadata": {},
   "source": [
    "### 練習問題2.38\n",
    "accumulate⼿続きは、列の最初の要素と、右のすべての要素を組み合わせた結果とを組み合わせるため、  \n",
    "fold-rightとしても知られている。  \n",
    "fold-leftというものもあり、これはfold-rightに似ているが、\n",
    "要素の組み合わせを逆⽅向に⾏うという点が違う。\n",
    "\n",
    "    (define (fold-left op initial sequence)\n",
    "        (define (iter result rest)\n",
    "            (if (null? rest) result\n",
    "                (iter (op result (car rest)) (cdr rest))))\n",
    "        (iter initial sequence))  \n",
    "\n",
    "以下の式の値はいくらか。\n",
    "\n",
    "    (fold-right / 1 (list 1 2 3))\n",
    "    (fold-left / 1 (list 1 2 3))\n",
    "    (fold-right list nil (list 1 2 3))\n",
    "    (fold-left list nil (list 1 2 3))  \n",
    "\n",
    "fold-rightとfold-leftが任意の列に対して同じ値を返すことを保証するために、  \n",
    "opが満たさなければならない性質を答えよ。"
   ]
  },
  {
   "cell_type": "code",
   "execution_count": 1,
   "metadata": {},
   "outputs": [],
   "source": [
    "(define (fold-left op initial sequence)\n",
    "  (define (iter result rest)\n",
    "    (if (null? rest) result\n",
    "        (iter (op result (car rest)) (cdr rest))))\n",
    "  (iter initial sequence)\n",
    "  )"
   ]
  },
  {
   "cell_type": "code",
   "execution_count": 2,
   "metadata": {},
   "outputs": [],
   "source": [
    "(define (fold-right op initial sequence)\n",
    "  (if (null? sequence) initial\n",
    "      ;(iter (op result (car rest)) (cdr rest)))\n",
    "      (op (fold-right op initial (cdr sequence)) (car sequence))\n",
    "    )\n",
    "  )"
   ]
  },
  {
   "cell_type": "code",
   "execution_count": 3,
   "metadata": {},
   "outputs": [
    {
     "data": {
      "text/plain": [
       "1/6"
      ]
     },
     "execution_count": 3,
     "metadata": {},
     "output_type": "execute_result"
    }
   ],
   "source": [
    "(fold-right / 1 (list 1 2 3))"
   ]
  },
  {
   "cell_type": "code",
   "execution_count": 4,
   "metadata": {},
   "outputs": [
    {
     "data": {
      "text/plain": [
       "1/6"
      ]
     },
     "execution_count": 4,
     "metadata": {},
     "output_type": "execute_result"
    }
   ],
   "source": [
    "(fold-left / 1 (list 1 2 3))"
   ]
  },
  {
   "cell_type": "code",
   "execution_count": 5,
   "metadata": {},
   "outputs": [
    {
     "data": {
      "text/plain": [
       "(((() 3) 2) 1)"
      ]
     },
     "execution_count": 5,
     "metadata": {},
     "output_type": "execute_result"
    }
   ],
   "source": [
    "(fold-right list () (list 1 2 3))"
   ]
  },
  {
   "cell_type": "code",
   "execution_count": 6,
   "metadata": {},
   "outputs": [
    {
     "data": {
      "text/plain": [
       "(((() 1) 2) 3)"
      ]
     },
     "execution_count": 6,
     "metadata": {},
     "output_type": "execute_result"
    }
   ],
   "source": [
    "(fold-left list () (list 1 2 3))  "
   ]
  },
  {
   "cell_type": "markdown",
   "metadata": {},
   "source": [
    "結合率を満たす演算の場合、結果が同じになると考えられる。\n",
    "\n",
    "$$\n",
    "(a \\cdot b) \\cdot c = a \\cdot (b \\cdot c)\n",
    "$$"
   ]
  }
 ],
 "metadata": {
  "kernelspec": {
   "display_name": "Calysto Scheme 3",
   "language": "scheme",
   "name": "calysto_scheme"
  },
  "language_info": {
   "codemirror_mode": {
    "name": "scheme"
   },
   "mimetype": "text/x-scheme",
   "name": "scheme",
   "pygments_lexer": "scheme"
  }
 },
 "nbformat": 4,
 "nbformat_minor": 4
}
