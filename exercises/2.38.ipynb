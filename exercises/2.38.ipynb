{
 "cells": [
  {
   "cell_type": "markdown",
   "metadata": {},
   "source": [
    "### 練習問題2.38\n",
    "accumulate⼿続きは、列の最初の要素と、右のすべての要素を組み合わせた結果とを組み合わせるため、  \n",
    "fold-rightとしても知られている。  \n",
    "fold-leftというものもあり、これはfold-rightに似ているが、\n",
    "要素の組み合わせを逆⽅向に⾏うという点が違う。\n",
    "\n",
    "    (define (fold-left op initial sequence)\n",
    "        (define (iter result rest)\n",
    "            (if (null? rest) result\n",
    "                (iter (op result (car rest)) (cdr rest))))\n",
    "        (iter initial sequence))  \n",
    "\n",
    "以下の式の値はいくらか。\n",
    "\n",
    "    (fold-right / 1 (list 1 2 3))\n",
    "    (fold-left / 1 (list 1 2 3))\n",
    "    (fold-right list nil (list 1 2 3))\n",
    "    (fold-left list nil (list 1 2 3))  \n",
    "\n",
    "fold-rightとfold-leftが任意の列に対して同じ値を返すことを保証するために、  \n",
    "opが満たさなければならない性質を答えよ。"
   ]
  },
  {
   "cell_type": "markdown",
   "metadata": {},
   "source": [
    "fold-right手続き、fold-left手続きについては、以下を参照。  \n",
    "https://en.wikipedia.org/wiki/Fold_(higher-order_function)"
   ]
  },
  {
   "cell_type": "code",
   "execution_count": 1,
   "metadata": {},
   "outputs": [],
   "source": [
    "(define (fold-left op initial sequence)\n",
    "  (define (iter result rest)\n",
    "    (if (null? rest) result\n",
    "        (iter (op result (car rest)) (cdr rest))))\n",
    "  (iter initial sequence)\n",
    "  )"
   ]
  },
  {
   "cell_type": "code",
   "execution_count": 2,
   "metadata": {},
   "outputs": [],
   "source": [
    "; accumulate手続きをfold-rightと名前を変更\n",
    "(define (fold-right op initial sequence)\n",
    "  (if (null? sequence) initial\n",
    "      (op (car sequence) (fold-right op initial (cdr sequence)))))"
   ]
  },
  {
   "cell_type": "code",
   "execution_count": 3,
   "metadata": {},
   "outputs": [
    {
     "data": {
      "text/plain": [
       "3/2"
      ]
     },
     "execution_count": 3,
     "metadata": {},
     "output_type": "execute_result"
    }
   ],
   "source": [
    "; 回答\n",
    "(fold-right / 1 (list 1 2 3))"
   ]
  },
  {
   "cell_type": "code",
   "execution_count": 4,
   "metadata": {},
   "outputs": [
    {
     "data": {
      "text/plain": [
       "1/6"
      ]
     },
     "execution_count": 4,
     "metadata": {},
     "output_type": "execute_result"
    }
   ],
   "source": [
    "; 回答\n",
    "(fold-left / 1 (list 1 2 3))"
   ]
  },
  {
   "cell_type": "code",
   "execution_count": 5,
   "metadata": {},
   "outputs": [
    {
     "data": {
      "text/plain": [
       "(1 (2 (3 ())))"
      ]
     },
     "execution_count": 5,
     "metadata": {},
     "output_type": "execute_result"
    }
   ],
   "source": [
    "; 回答\n",
    "(fold-right list () (list 1 2 3))"
   ]
  },
  {
   "cell_type": "code",
   "execution_count": 6,
   "metadata": {},
   "outputs": [
    {
     "data": {
      "text/plain": [
       "(((() 1) 2) 3)"
      ]
     },
     "execution_count": 6,
     "metadata": {},
     "output_type": "execute_result"
    }
   ],
   "source": [
    "; 回答\n",
    "(fold-left list () (list 1 2 3))  "
   ]
  },
  {
   "cell_type": "code",
   "execution_count": 7,
   "metadata": {},
   "outputs": [
    {
     "data": {
      "text/plain": [
       "7"
      ]
     },
     "execution_count": 7,
     "metadata": {},
     "output_type": "execute_result"
    }
   ],
   "source": [
    "(fold-right + 1 (list 1 2 3))"
   ]
  },
  {
   "cell_type": "code",
   "execution_count": 8,
   "metadata": {},
   "outputs": [
    {
     "data": {
      "text/plain": [
       "7"
      ]
     },
     "execution_count": 8,
     "metadata": {},
     "output_type": "execute_result"
    }
   ],
   "source": [
    "(fold-left + 1 (list 1 2 3))"
   ]
  },
  {
   "cell_type": "markdown",
   "metadata": {},
   "source": [
    "同じ値を返すことを保証するために、opが満たさなければならない性質：交換律\n",
    "\n",
    "+と/の動作の違いから分かるように、交換律を満たさないと同じ結果にはならない。"
   ]
  }
 ],
 "metadata": {
  "kernelspec": {
   "display_name": "Calysto Scheme 3",
   "language": "scheme",
   "name": "calysto_scheme"
  },
  "language_info": {
   "codemirror_mode": {
    "name": "scheme"
   },
   "mimetype": "text/x-scheme",
   "name": "scheme",
   "pygments_lexer": "scheme"
  }
 },
 "nbformat": 4,
 "nbformat_minor": 4
}
