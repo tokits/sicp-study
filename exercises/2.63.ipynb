{
 "cells": [
  {
   "cell_type": "markdown",
   "metadata": {},
   "source": [
    "### 練習問題2.63\n",
    "次の⼆つの手続きは、どちらも⼆分木をリストに変換する。  \n",
    "\n",
    "    (define (tree->list-1 tree)\n",
    "        (if (null? tree) '()\n",
    "            (append\n",
    "                (tree->list-1 (left-branch tree))\n",
    "                (cons (entry tree) (tree->list-1 (right-branch tree)))\n",
    "            )\n",
    "        )\n",
    "    )\n",
    "\n",
    "    (define (tree->list-2 tree)\n",
    "        (define (copy-to-list tree result-list)\n",
    "            (if (null? tree) result-list\n",
    "                (copy-to-list\n",
    "                    (left-branch tree)\n",
    "                    (cons (entry tree) (copy-to-list (right-branch tree) result-list))\n",
    "                )\n",
    "            )\n",
    "        )\n",
    "        (copy-to-list tree '())\n",
    "        )\n",
    "        \n",
    "- a. ⼆つの手続きは、すべての木に対して同じ結果を生成するだろうか。  \n",
    "   そうでないとしたら、結果はどのように異なるだろうか。  \n",
    "   ⼆つの手続きは、図2.16の木に対してどのようなリストを⽣成するだろうか。\n",
    "- b. ⼆つの手続きは、n要素のバランスの取れた木を変換する際に、  \n",
    "    同じステップ数の増加オーダーを持っているだろうか。   \n",
    "    そうでないなら、どちらが遅いだろうか。"
   ]
  },
  {
   "cell_type": "code",
   "execution_count": 1,
   "metadata": {},
   "outputs": [],
   "source": [
    "(define (entry tree) (car tree))\n",
    "(define (left-branch tree) (cadr tree))\n",
    "(define (right-branch tree) (caddr tree))\n",
    "(define (make-tree entry left right) (list entry left right))\n",
    "(define (element-of-set? x set)\n",
    "  (cond ((null? set) #f)\n",
    "        ((= x (entry set)) #t)\n",
    "        ((< x (entry set)) (element-of-set? x (left-branch set)))\n",
    "        ((> x (entry set)) (element-of-set? x (right-branch set)))\n",
    "        )\n",
    "  )\n",
    "\n",
    "(define (tree->list-1 tree)\n",
    "    (if (null? tree) '()\n",
    "        (append\n",
    "            (tree->list-1 (left-branch tree))\n",
    "            (cons (entry tree) (tree->list-1 (right-branch tree)))\n",
    "        )\n",
    "    )\n",
    ")\n",
    "\n",
    "(define (tree->list-2 tree)\n",
    "    (define (copy-to-list tree result-list)\n",
    "        (if (null? tree) result-list\n",
    "            (copy-to-list\n",
    "                (left-branch tree)\n",
    "                (cons (entry tree) (copy-to-list (right-branch tree) result-list))\n",
    "            )\n",
    "        )\n",
    "    )\n",
    "    (copy-to-list tree '())\n",
    "    )\n",
    "\n",
    "(define (tree->list-1-d tree)\n",
    "    (if (null? tree) '()\n",
    "        (begin\n",
    "            (display tree)\n",
    "            (newline)\n",
    "            (append\n",
    "                (tree->list-1-d (left-branch tree))\n",
    "                (cons (entry tree) (tree->list-1-d (right-branch tree)))\n",
    "            )\n",
    "        )\n",
    "    )\n",
    ")\n",
    "\n",
    "(define (tree->list-2-d tree)\n",
    "    (define (copy-to-list tree result-list)\n",
    "        (if (null? tree) result-list\n",
    "            (begin\n",
    "                (display tree)\n",
    "                (newline)\n",
    "                (copy-to-list\n",
    "                    (left-branch tree)\n",
    "                    (cons (entry tree) (copy-to-list (right-branch tree) result-list))\n",
    "                )\n",
    "            )\n",
    "        )\n",
    "    )\n",
    "    (copy-to-list tree '())\n",
    "    )"
   ]
  },
  {
   "cell_type": "markdown",
   "metadata": {},
   "source": [
    "1 - 2 - 3 - 4 - 5 - 6 - 7 \n",
    "\n",
    "図2.17：1から7まで順番に追加するとできるバランスの取 れていない木"
   ]
  },
  {
   "cell_type": "code",
   "execution_count": 2,
   "metadata": {},
   "outputs": [
    {
     "data": {
      "text/plain": [
       "(7 (3 (1 () ()) (5 () ())) (9 () (11 () ())))"
      ]
     },
     "execution_count": 2,
     "metadata": {},
     "output_type": "execute_result"
    }
   ],
   "source": [
    "(define tree1\n",
    "  '(7\n",
    "        (3 (1 () ()) (5 () ()))\n",
    "        (9 () (11 () ()))\n",
    "      )\n",
    "  )\n",
    "tree1"
   ]
  },
  {
   "cell_type": "code",
   "execution_count": 3,
   "metadata": {},
   "outputs": [
    {
     "data": {
      "text/plain": [
       "(1 3 5 7 9 11)"
      ]
     },
     "execution_count": 3,
     "metadata": {},
     "output_type": "execute_result"
    }
   ],
   "source": [
    "(tree->list-1 tree1)"
   ]
  },
  {
   "cell_type": "code",
   "execution_count": 4,
   "metadata": {},
   "outputs": [
    {
     "data": {
      "text/plain": [
       "(1 3 5 7 9 11)"
      ]
     },
     "execution_count": 4,
     "metadata": {},
     "output_type": "execute_result"
    }
   ],
   "source": [
    "(tree->list-2 tree1)"
   ]
  },
  {
   "cell_type": "code",
   "execution_count": 5,
   "metadata": {},
   "outputs": [
    {
     "data": {
      "text/plain": [
       "(3 (1 () ()) (7 (5 () ()) (9 () (11 () ()))))"
      ]
     },
     "execution_count": 5,
     "metadata": {},
     "output_type": "execute_result"
    }
   ],
   "source": [
    "(define tree2\n",
    "  '(3\n",
    "        (1 () ())\n",
    "        (7 (5 () ()) (9 () (11 () ())))\n",
    "      )\n",
    "  )\n",
    "tree2"
   ]
  },
  {
   "cell_type": "code",
   "execution_count": 6,
   "metadata": {},
   "outputs": [
    {
     "data": {
      "text/plain": [
       "(1 3 5 7 9 11)"
      ]
     },
     "execution_count": 6,
     "metadata": {},
     "output_type": "execute_result"
    }
   ],
   "source": [
    "(tree->list-1 tree2)"
   ]
  },
  {
   "cell_type": "code",
   "execution_count": 7,
   "metadata": {},
   "outputs": [
    {
     "data": {
      "text/plain": [
       "(1 3 5 7 9 11)"
      ]
     },
     "execution_count": 7,
     "metadata": {},
     "output_type": "execute_result"
    }
   ],
   "source": [
    "(tree->list-2 tree2)"
   ]
  },
  {
   "cell_type": "code",
   "execution_count": 8,
   "metadata": {},
   "outputs": [
    {
     "data": {
      "text/plain": [
       "(5 (3 (1 () ()) ()) (9 (7 () ()) (11 () ())))"
      ]
     },
     "execution_count": 8,
     "metadata": {},
     "output_type": "execute_result"
    }
   ],
   "source": [
    "(define tree3\n",
    "  '(5\n",
    "        (3 (1 () ()) ())\n",
    "        (9 (7 () ()) (11 () ()))\n",
    "      )\n",
    "  )\n",
    "tree3"
   ]
  },
  {
   "cell_type": "code",
   "execution_count": 9,
   "metadata": {},
   "outputs": [
    {
     "data": {
      "text/plain": [
       "(1 3 5 7 9 11)"
      ]
     },
     "execution_count": 9,
     "metadata": {},
     "output_type": "execute_result"
    }
   ],
   "source": [
    "(tree->list-1 tree3)"
   ]
  },
  {
   "cell_type": "code",
   "execution_count": 10,
   "metadata": {},
   "outputs": [
    {
     "data": {
      "text/plain": [
       "(1 3 5 7 9 11)"
      ]
     },
     "execution_count": 10,
     "metadata": {},
     "output_type": "execute_result"
    }
   ],
   "source": [
    "(tree->list-2 tree3)"
   ]
  },
  {
   "cell_type": "code",
   "execution_count": 11,
   "metadata": {},
   "outputs": [
    {
     "data": {
      "text/plain": [
       "(1 () (2 () (3 () (4 () (5 () (6 () (7 () ())))))))"
      ]
     },
     "execution_count": 11,
     "metadata": {},
     "output_type": "execute_result"
    }
   ],
   "source": [
    "; 図2.17の確認\n",
    "(define tree4 '(1 () (2 () (3 () (4 () (5 () (6 () (7 () ()))))))))\n",
    "tree4"
   ]
  },
  {
   "cell_type": "code",
   "execution_count": 12,
   "metadata": {},
   "outputs": [
    {
     "data": {
      "text/plain": [
       "(1 2 3 4 5 6 7)"
      ]
     },
     "execution_count": 12,
     "metadata": {},
     "output_type": "execute_result"
    }
   ],
   "source": [
    "(tree->list-1 tree4)"
   ]
  },
  {
   "cell_type": "code",
   "execution_count": 13,
   "metadata": {},
   "outputs": [
    {
     "data": {
      "text/plain": [
       "(1 2 3 4 5 6 7)"
      ]
     },
     "execution_count": 13,
     "metadata": {},
     "output_type": "execute_result"
    }
   ],
   "source": [
    "(tree->list-2 tree4)"
   ]
  },
  {
   "cell_type": "code",
   "execution_count": 14,
   "metadata": {},
   "outputs": [
    {
     "name": "stdout",
     "output_type": "stream",
     "text": [
      "(7 (3 (1 () ()) (5 () ())) (9 () (11 () ())))\n",
      "-------------------------------------------------\n",
      "(7 (3 (1 () ()) (5 () ())) (9 () (11 () ())))\n",
      "(3 (1 () ()) (5 () ()))\n",
      "(1 () ())\n",
      "(5 () ())\n",
      "(9 () (11 () ()))\n",
      "(11 () ())\n",
      "(1 3 5 7 9 11)\n",
      "-------------------------------------------------\n",
      "(7 (3 (1 () ()) (5 () ())) (9 () (11 () ())))\n",
      "(9 () (11 () ()))\n",
      "(11 () ())\n",
      "(3 (1 () ()) (5 () ()))\n",
      "(5 () ())\n",
      "(1 () ())\n",
      "(1 3 5 7 9 11)\n"
     ]
    }
   ],
   "source": [
    "(display tree1)\n",
    "(newline)\n",
    "\n",
    "(display \"-------------------------------------------------\")\n",
    "(newline)\n",
    "(display (tree->list-1-d tree1))\n",
    "(newline)\n",
    "\n",
    "(display \"-------------------------------------------------\")\n",
    "(newline)\n",
    "(display (tree->list-2-d tree1))\n",
    "(newline)"
   ]
  },
  {
   "cell_type": "code",
   "execution_count": 15,
   "metadata": {},
   "outputs": [
    {
     "name": "stdout",
     "output_type": "stream",
     "text": [
      "(3 (1 () ()) (7 (5 () ()) (9 () (11 () ()))))\n",
      "-------------------------------------------------\n",
      "(3 (1 () ()) (7 (5 () ()) (9 () (11 () ()))))\n",
      "(1 () ())\n",
      "(7 (5 () ()) (9 () (11 () ())))\n",
      "(5 () ())\n",
      "(9 () (11 () ()))\n",
      "(11 () ())\n",
      "(1 3 5 7 9 11)\n",
      "-------------------------------------------------\n",
      "(3 (1 () ()) (7 (5 () ()) (9 () (11 () ()))))\n",
      "(7 (5 () ()) (9 () (11 () ())))\n",
      "(9 () (11 () ()))\n",
      "(11 () ())\n",
      "(5 () ())\n",
      "(1 () ())\n",
      "(1 3 5 7 9 11)\n"
     ]
    }
   ],
   "source": [
    "(display tree2)\n",
    "(newline)\n",
    "\n",
    "(display \"-------------------------------------------------\")\n",
    "(newline)\n",
    "(display (tree->list-1-d tree2))\n",
    "(newline)\n",
    "\n",
    "(display \"-------------------------------------------------\")\n",
    "(newline)\n",
    "(display (tree->list-2-d tree2))\n",
    "(newline)"
   ]
  },
  {
   "cell_type": "code",
   "execution_count": 16,
   "metadata": {},
   "outputs": [
    {
     "name": "stdout",
     "output_type": "stream",
     "text": [
      "(1 () (2 () (3 () (4 () (5 () (6 () (7 () ())))))))\n",
      "-------------------------------------------------\n",
      "(1 () (2 () (3 () (4 () (5 () (6 () (7 () ())))))))\n",
      "(2 () (3 () (4 () (5 () (6 () (7 () ()))))))\n",
      "(3 () (4 () (5 () (6 () (7 () ())))))\n",
      "(4 () (5 () (6 () (7 () ()))))\n",
      "(5 () (6 () (7 () ())))\n",
      "(6 () (7 () ()))\n",
      "(7 () ())\n",
      "(1 2 3 4 5 6 7)\n",
      "-------------------------------------------------\n",
      "(1 () (2 () (3 () (4 () (5 () (6 () (7 () ())))))))\n",
      "(2 () (3 () (4 () (5 () (6 () (7 () ()))))))\n",
      "(3 () (4 () (5 () (6 () (7 () ())))))\n",
      "(4 () (5 () (6 () (7 () ()))))\n",
      "(5 () (6 () (7 () ())))\n",
      "(6 () (7 () ()))\n",
      "(7 () ())\n",
      "(1 2 3 4 5 6 7)\n"
     ]
    }
   ],
   "source": [
    "(display tree4)\n",
    "(newline)\n",
    "\n",
    "(display \"-------------------------------------------------\")\n",
    "(newline)\n",
    "(display (tree->list-1-d tree4))\n",
    "(newline)\n",
    "\n",
    "(display \"-------------------------------------------------\")\n",
    "(newline)\n",
    "(display (tree->list-2-d tree4))\n",
    "(newline)"
   ]
  },
  {
   "cell_type": "markdown",
   "metadata": {},
   "source": [
    "- a. ⼆つの手続きは、すべての木に対して同じ結果を生成するだろうか。\n",
    "     そうでないとしたら、結果はどのように異なるだろうか。  \n",
    "     →同じ結果となる。  \n",
    "　違いは以下の通り。  \n",
    "   - tree->list-1手続きは再帰プロセス  \n",
    "   - tree->list-2手続きは反復プロセス\n",
    "\n",
    "  ⼆つの手続きは、図2.16の木に対してどのようなリストを⽣成するだろうか。  \n",
    "  →(1 2 3 4 5 6 7)\n",
    "\n",
    "\n",
    "- b. ⼆つの手続きは、n要素のバランスの取れた木を変換する際に、  \n",
    "     同じステップ数の増加オーダーを持っているだろうか。  \n",
    "     そうでないなら、どちらが遅いだろうか。  \n",
    "     →同じステップ数の増加オーダーとなる。"
   ]
  }
 ],
 "metadata": {
  "kernelspec": {
   "display_name": "Calysto Scheme 3",
   "language": "scheme",
   "name": "calysto_scheme"
  },
  "language_info": {
   "codemirror_mode": {
    "name": "scheme"
   },
   "mimetype": "text/x-scheme",
   "name": "scheme",
   "pygments_lexer": "scheme"
  }
 },
 "nbformat": 4,
 "nbformat_minor": 4
}
