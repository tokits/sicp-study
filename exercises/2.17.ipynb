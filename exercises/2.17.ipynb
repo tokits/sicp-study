{
 "cells": [
  {
   "cell_type": "markdown",
   "metadata": {},
   "source": [
    "### 練習問題2.17\n",
    " 与えられた(空でない)リストの最後の要素のみを持つリストを返す手続きlast-pairを定義せよ。\n",
    "    \n",
    "    (last-pair (list 23 72 149 34))\n",
    "    (34)"
   ]
  },
  {
   "cell_type": "markdown",
   "metadata": {},
   "source": [
    "練習問題3.12では、このlast-pair手続きを使って、  \n",
    "append!手続き(引数で指定されたリストに追加する手続き)を実装する問題となっている。  \n",
    "そのため、この問題では、既存のリストの最後のペアを返すのが正解と思われる。  \n",
    "新しくペアを作って返すのは想定される回答ではない。"
   ]
  },
  {
   "cell_type": "code",
   "execution_count": 1,
   "metadata": {},
   "outputs": [
    {
     "data": {
      "text/plain": [
       "(34)"
      ]
     },
     "execution_count": 1,
     "metadata": {},
     "output_type": "execute_result"
    }
   ],
   "source": [
    "; 回答\n",
    "; 引数はリストであるという前提\n",
    "(define (last-pair l)\n",
    "  (cond ((null? l) '())\n",
    "        ((null? (cdr l)) l)\n",
    "        (else (last-pair (cdr l)))\n",
    "    )\n",
    ")\n",
    "\n",
    "(last-pair (list 23 72 149 34))"
   ]
  },
  {
   "cell_type": "code",
   "execution_count": 2,
   "metadata": {},
   "outputs": [
    {
     "data": {
      "text/plain": [
       "(34)"
      ]
     },
     "execution_count": 2,
     "metadata": {},
     "output_type": "execute_result"
    }
   ],
   "source": [
    "; 間違った回答\n",
    "; リストから取り出した最後の要素で新しくペアを作っている。\n",
    "; これは目的の動作ではないと思われる。\n",
    "(define (last-pair2 l)\n",
    "  (define (iter item l_tmp)\n",
    "    (if (null? l_tmp) (cons item '())    ; リストの体裁で返す必要があるため、最後の要素とnilの組み合わせで返す。\n",
    "        (iter (car l_tmp) (cdr l_tmp)))  ; 先頭要素とcdrダウンした2番目以降のリストを引数で渡す。\n",
    "    )\n",
    "  (iter () l)\n",
    "  )\n",
    "\n",
    "(last-pair2 (list 23 72 149 34))"
   ]
  },
  {
   "cell_type": "code",
   "execution_count": 3,
   "metadata": {},
   "outputs": [
    {
     "data": {
      "text/plain": [
       "(23 72 149 34 100)"
      ]
     },
     "execution_count": 3,
     "metadata": {},
     "output_type": "execute_result"
    }
   ],
   "source": [
    "; last-pairとset-cdr!で、既存のリストの更新ができる。\n",
    "(define l1 '(23 72 149 34))\n",
    "(define last1 (last-pair l1))\n",
    "(set-cdr! last1 '(100))\n",
    "l1"
   ]
  },
  {
   "cell_type": "code",
   "execution_count": 4,
   "metadata": {},
   "outputs": [
    {
     "data": {
      "text/plain": [
       "(23 72 149 34)"
      ]
     },
     "execution_count": 4,
     "metadata": {},
     "output_type": "execute_result"
    }
   ],
   "source": [
    "; last-pair2とset-cdr!で、既存のリストの更新はできない。\n",
    "; 新しくペアを作っているため。\n",
    "(define l2 '(23 72 149 34))\n",
    "(define last2 (last-pair2 l2))\n",
    "(set-cdr! last2 '(100))\n",
    "l2"
   ]
  }
 ],
 "metadata": {
  "kernelspec": {
   "display_name": "Calysto Scheme 3",
   "language": "scheme",
   "name": "calysto_scheme"
  },
  "language_info": {
   "codemirror_mode": {
    "name": "scheme"
   },
   "mimetype": "text/x-scheme",
   "name": "scheme",
   "pygments_lexer": "scheme"
  }
 },
 "nbformat": 4,
 "nbformat_minor": 4
}
