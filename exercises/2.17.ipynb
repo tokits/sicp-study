{
 "cells": [
  {
   "cell_type": "markdown",
   "metadata": {},
   "source": [
    "### 練習問題2.17\n",
    " 与えられた(空でない)リストの最後の要素のみを持つリストを返す⼿続きlast-pairを定義せよ。\n",
    "    \n",
    "    (last-pair (list 23 72 149 34))\n",
    "    (34)"
   ]
  },
  {
   "cell_type": "code",
   "execution_count": 1,
   "metadata": {},
   "outputs": [
    {
     "data": {
      "text/plain": [
       "(34)"
      ]
     },
     "execution_count": 1,
     "metadata": {},
     "output_type": "execute_result"
    }
   ],
   "source": [
    "(define (last-pair l)\n",
    "  (define (iter item l_tmp)\n",
    "    (if (null? l_tmp) (cons item ())\n",
    "        (iter (car l_tmp) (cdr l_tmp)))\n",
    "    )\n",
    "  (iter () l)\n",
    "  )\n",
    "\n",
    "(last-pair (list 23 72 149 34))"
   ]
  }
 ],
 "metadata": {
  "kernelspec": {
   "display_name": "Calysto Scheme 3",
   "language": "scheme",
   "name": "calysto_scheme"
  },
  "language_info": {
   "codemirror_mode": {
    "name": "scheme"
   },
   "mimetype": "text/x-scheme",
   "name": "scheme",
   "pygments_lexer": "scheme"
  }
 },
 "nbformat": 4,
 "nbformat_minor": 4
}
