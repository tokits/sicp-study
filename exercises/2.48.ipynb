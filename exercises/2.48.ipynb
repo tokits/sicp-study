{
 "cells": [
  {
   "cell_type": "markdown",
   "metadata": {},
   "source": [
    "### 練習問題2.48\n",
    "平⾯上の⽅向つきの線分は、\n",
    "ベクトルのペア\n",
    "-原点から線分の始点へと張られるベクトルと、原点から線分の終点へと張られるベクトル-  \n",
    "として表現できる。  \n",
    "練習問題2.46で書いたベクトル表現を使って、  \n",
    "make-segmentというコンストラクタと  \n",
    "start-segmentとend-segmentというセレクタによって線分の表現を定義せよ。 "
   ]
  },
  {
   "cell_type": "code",
   "execution_count": 1,
   "metadata": {},
   "outputs": [],
   "source": [
    "; ベクトルコンストラクタ・セレクタ\n",
    "(define (make-vect x y)(cons x y))\n",
    "(define (xcor-vect v)(car v))\n",
    "(define (ycor-vect v)(cdr v))\n",
    "\n",
    "; ベクトル演算\n",
    "(define (add-vect v1 v2)\n",
    "  (make-vect (+ (xcor-vect v1) (xcor-vect v2))\n",
    "             (+ (ycor-vect v1) (ycor-vect v2))\n",
    "             )\n",
    "  )\n",
    "(define (sub-vect v1 v2)\n",
    "  (make-vect (- (xcor-vect v1) (xcor-vect v2))\n",
    "             (- (ycor-vect v1) (ycor-vect v2))\n",
    "             )\n",
    "  )\n",
    "(define (scale-vect s v)\n",
    "  (make-vect (* s (xcor-vect v)) (* s (ycor-vect v))\n",
    "             )\n",
    "  )"
   ]
  },
  {
   "cell_type": "code",
   "execution_count": 2,
   "metadata": {},
   "outputs": [],
   "source": [
    "; 回答\n",
    "; 線分コンストラクタ・セレクタ\n",
    "(define (make-segment v1 v2)(cons v1 v2))\n",
    "(define (start-segment seg)(car seg))\n",
    "(define (end-segment seg)(cdr seg))"
   ]
  },
  {
   "cell_type": "code",
   "execution_count": 3,
   "metadata": {},
   "outputs": [
    {
     "name": "stdout",
     "output_type": "stream",
     "text": [
      "(1 . -2)\n",
      "(-3 . 4)\n"
     ]
    }
   ],
   "source": [
    "; 動作確認\n",
    "(define v1 (make-vect 1 -2))\n",
    "(define v2 (make-vect -3 4))\n",
    "\n",
    "(define s (make-segment v1 v2))\n",
    "\n",
    "(display (start-segment s))\n",
    "(newline)\n",
    "(display (end-segment s))\n",
    "(newline)"
   ]
  }
 ],
 "metadata": {
  "kernelspec": {
   "display_name": "Calysto Scheme 3",
   "language": "scheme",
   "name": "calysto_scheme"
  },
  "language_info": {
   "codemirror_mode": {
    "name": "scheme"
   },
   "mimetype": "text/x-scheme",
   "name": "scheme",
   "pygments_lexer": "scheme"
  }
 },
 "nbformat": 4,
 "nbformat_minor": 4
}
