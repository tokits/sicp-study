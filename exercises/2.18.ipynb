{
 "cells": [
  {
   "cell_type": "markdown",
   "metadata": {},
   "source": [
    "### 練習問題2.18\n",
    "リストを引数として取り、同じ要素を逆順に持つリストを返す⼿続きreverseを定義せよ。\n",
    "\n",
    "    (reverse (list 1 4 9 16 25))\n",
    "    (25 16 9 4 1) "
   ]
  },
  {
   "cell_type": "code",
   "execution_count": 1,
   "metadata": {},
   "outputs": [
    {
     "data": {
      "text/plain": [
       "(25 16 9 4 1)"
      ]
     },
     "execution_count": 1,
     "metadata": {},
     "output_type": "execute_result"
    }
   ],
   "source": [
    "; reverse手続きは定義済みであることに注意。\n",
    "(reverse (list 1 4 9 16 25))"
   ]
  },
  {
   "cell_type": "code",
   "execution_count": 2,
   "metadata": {},
   "outputs": [
    {
     "data": {
      "text/plain": [
       "(34 149 72 23)"
      ]
     },
     "execution_count": 2,
     "metadata": {},
     "output_type": "execute_result"
    }
   ],
   "source": [
    "; 反復プロセスで実装した。\n",
    "; 再帰プロセスでの実装方法は分からなかった。\n",
    "(define (reverse l)\n",
    "  (define (iter result l_tmp)\n",
    "    (if (null? l_tmp) result\n",
    "        (iter (cons (car l_tmp) result) (cdr l_tmp))\n",
    "        )\n",
    "    )\n",
    "  (iter () l)\n",
    "  )\n",
    "\n",
    "(reverse (list 23 72 149 34))"
   ]
  }
 ],
 "metadata": {
  "kernelspec": {
   "display_name": "Calysto Scheme 3",
   "language": "scheme",
   "name": "calysto_scheme"
  },
  "language_info": {
   "codemirror_mode": {
    "name": "scheme"
   },
   "mimetype": "text/x-scheme",
   "name": "scheme",
   "pygments_lexer": "scheme"
  }
 },
 "nbformat": 4,
 "nbformat_minor": 4
}
