{
 "cells": [
  {
   "cell_type": "markdown",
   "metadata": {},
   "source": [
    "### 練習問題2.18\n",
    "リストを引数として取り、同じ要素を逆順に持つリストを返す⼿続きreverseを定義せよ。\n",
    "\n",
    "    (reverse (list 1 4 9 16 25))\n",
    "    (25 16 9 4 1) "
   ]
  },
  {
   "cell_type": "code",
   "execution_count": 1,
   "metadata": {},
   "outputs": [
    {
     "data": {
      "text/plain": [
       "(25 16 9 4 1)"
      ]
     },
     "execution_count": 1,
     "metadata": {},
     "output_type": "execute_result"
    }
   ],
   "source": [
    "; reverse手続きは定義済みであることに注意。\n",
    "(reverse (list 1 4 9 16 25))"
   ]
  },
  {
   "cell_type": "markdown",
   "metadata": {},
   "source": [
    "    (23 (72 (149 (34 nil))))\n",
    "    \n",
    "を作るイメージで実装すればよい。"
   ]
  },
  {
   "cell_type": "code",
   "execution_count": 2,
   "metadata": {},
   "outputs": [
    {
     "data": {
      "text/plain": [
       "(34 149 72 23)"
      ]
     },
     "execution_count": 2,
     "metadata": {},
     "output_type": "execute_result"
    }
   ],
   "source": [
    "; 反復プロセスで実装した。\n",
    "; 再帰プロセスでの実装方法は分からなかった。\n",
    "; →\n",
    "(define (reverse l)\n",
    "  (define (iter result l_tmp)\n",
    "    (if (null? l_tmp) result\n",
    "        (iter (cons (car l_tmp) result) (cdr l_tmp))\n",
    "        )\n",
    "    )\n",
    "  (iter () l)\n",
    "  )\n",
    "\n",
    "(reverse (list 23 72 149 34))\n",
    "\n",
    "; (23 (72 (149 (34 nil))))を作るイメージ"
   ]
  },
  {
   "cell_type": "code",
   "execution_count": 3,
   "metadata": {},
   "outputs": [
    {
     "data": {
      "text/plain": [
       "(34 149 72 23)"
      ]
     },
     "execution_count": 3,
     "metadata": {},
     "output_type": "execute_result"
    }
   ],
   "source": [
    "; 再帰プロセスによる実装\n",
    "(define (reverse l)\n",
    "  (if (null? l) '()\n",
    "      (append (reverse (cdr l)) (list (car l)))\n",
    "    )\n",
    "  )\n",
    "\n",
    "; 動作確認\n",
    "(reverse (list 23 72 149 34))"
   ]
  },
  {
   "cell_type": "code",
   "execution_count": 4,
   "metadata": {},
   "outputs": [
    {
     "name": "stdout",
     "output_type": "stream",
     "text": [
      "34\n",
      "(23 72 149)\n"
     ]
    },
    {
     "data": {
      "text/plain": [
       "(34 149 72 23)"
      ]
     },
     "execution_count": 4,
     "metadata": {},
     "output_type": "execute_result"
    }
   ],
   "source": [
    "; 当初考えた再帰プロセスでの実装\n",
    "; →やってみたが、メモリ的にもステップ数的にも無駄な実装となっている。\n",
    "\n",
    "; リストから最後の要素を取得する。\n",
    "(define (get-last l)\n",
    "  (define (iter item l_tmp)\n",
    "    (if (null? l_tmp) item\n",
    "        (iter (car l_tmp) (cdr l_tmp)))\n",
    "    )\n",
    "  (iter () l)\n",
    "  )\n",
    "\n",
    "; 動作確認\n",
    "(display (get-last (list 23 72 149 34)))\n",
    "(newline)\n",
    "\n",
    "; リストから最後の要素を除外したリストを返す。\n",
    "(define (remove-last l)\n",
    "  (define (iter l1 l2)\n",
    "    (if (null? l2) '()\n",
    "        (cons (car l1) (iter (cdr l1) (cdr l2)))\n",
    "        )\n",
    "    )\n",
    "  (iter l (cdr l))\n",
    "  )\n",
    "\n",
    "; 動作確認\n",
    "(display (remove-last (list 23 72 149 34)))\n",
    "(newline)\n",
    "\n",
    "(define (reverse l)\n",
    "  (define (iter l_tmp)\n",
    "    (if (null? l_tmp) '()\n",
    "        (cons (get-last l_tmp) (iter (remove-last l_tmp)))\n",
    "        )\n",
    "    )\n",
    "  (iter l)\n",
    "  )\n",
    "\n",
    "; 動作確認\n",
    "(reverse (list 23 72 149 34))"
   ]
  }
 ],
 "metadata": {
  "kernelspec": {
   "display_name": "Calysto Scheme 3",
   "language": "scheme",
   "name": "calysto_scheme"
  },
  "language_info": {
   "codemirror_mode": {
    "name": "scheme"
   },
   "mimetype": "text/x-scheme",
   "name": "scheme",
   "pygments_lexer": "scheme"
  }
 },
 "nbformat": 4,
 "nbformat_minor": 4
}
