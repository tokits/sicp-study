{
 "cells": [
  {
   "cell_type": "markdown",
   "metadata": {},
   "source": [
    "### 練習問題2.15\n",
    "Lemが正しいことを⽰せ。いろいろな数値演算の式についてこのシステムの挙動を調査せよ。  \n",
    "何らかの区間AとB を作成し、それらを使って式A/AとA/Bを計算せよ。  \n",
    "中央値に対して⼩さなパーセンテージの幅を持つ区間について調べると得られるところが⼤きいだろう。  \n",
    "中央値-パーセント形式(練習問題 2.12参照)の計算結果を調べよ。"
   ]
  },
  {
   "cell_type": "code",
   "execution_count": 1,
   "metadata": {},
   "outputs": [
    {
     "name": "stdout",
     "output_type": "stream",
     "text": [
      "-----------------------\n",
      "(31.36 . 32.64)\n",
      "32.0\n",
      "0.6400000000000006\n",
      "2.0000000000000018\n",
      "-----------------------\n",
      "(15.84 . 16.16)\n",
      "16.0\n",
      "0.16000000000000014\n",
      "1.0000000000000009\n",
      "-----------------------\n",
      "(0.9607843137254901 . 1.0408163265306123)\n",
      "1.000800320128051\n",
      "0.04001600640256109\n",
      "3.998400639744109\n",
      "-----------------------\n",
      "(1.9405940594059405 . 2.060606060606061)\n",
      "2.0006000600060005\n",
      "0.06000600060006023\n",
      "2.999400119976016\n",
      "-----------------------\n",
      "(0.9801980198019802 . 1.0202020202020203)\n",
      "1.0002000200020003\n",
      "0.020002000200020076\n",
      "1.9998000199980077\n"
     ]
    }
   ],
   "source": [
    "(define (make-interval a b) (cons a b))\n",
    "(define (lower-bound x)(car x))\n",
    "(define (upper-bound x)(cdr x))\n",
    "\n",
    "(define (make-center-width c w)\n",
    "  (make-interval (- c w) (+ c w)))\n",
    "(define (center i)\n",
    "  (/ (+ (lower-bound i) (upper-bound i)) 2))\n",
    "(define (width i)\n",
    "  (/ (- (upper-bound i) (lower-bound i)) 2))\n",
    "(define (make-center-percent c p)\n",
    "  (let ((w (* c (/ p 100.0))))\n",
    "    (make-interval (- c w) (+ c w)))\n",
    "  )\n",
    "(define (percent i)\n",
    "  (* (/ (width i) (center i)) 100.0)\n",
    "  )\n",
    "; 区間の和\n",
    "(define (add-interval x y)\n",
    "  (make-interval (+ (lower-bound x) (lower-bound y))\n",
    "                 (+ (upper-bound x) (upper-bound y)))\n",
    "  )\n",
    "; 区間の差\n",
    "(define (sub-interval x y)\n",
    "  (make-interval (- (lower-bound x) (lower-bound y))\n",
    "                 (- (upper-bound x) (upper-bound y)))\n",
    "  )\n",
    "; 区間の積\n",
    "(define (mul-interval x y)\n",
    "  (let ((p1 (* (lower-bound x) (lower-bound y)))\n",
    "        (p2 (* (lower-bound x) (upper-bound y)))\n",
    "        (p3 (* (upper-bound x) (lower-bound y)))\n",
    "        (p4 (* (upper-bound x) (upper-bound y))))\n",
    "    (make-interval (min p1 p2 p3 p4)\n",
    "                   (max p1 p2 p3 p4)))\n",
    "  )\n",
    "; 区間の割り算\n",
    "(define (div-interval x y)\n",
    "  (mul-interval\n",
    "   x\n",
    "   (make-interval (/ 1.0 (upper-bound y))\n",
    "                  (/ 1.0 (lower-bound y))))\n",
    "  )\n",
    "\n",
    "(define A (make-center-percent 32.0 2.0))\n",
    "(define B (make-center-percent 16.0 1.0))\n",
    "\n",
    "(define (print-i a)\n",
    "  (begin\n",
    "    (display \"-----------------------\")\n",
    "    (newline)\n",
    "    (display a)\n",
    "    (newline)\n",
    "    (display (center a))\n",
    "    (newline)\n",
    "    (display (width a))\n",
    "    (newline)\n",
    "    (display (percent a))\n",
    "    (newline)\n",
    "  )\n",
    ")\n",
    "\n",
    "(print-i A)\n",
    "(print-i B)\n",
    "(print-i (div-interval A A))\n",
    "(print-i (div-interval A B))\n",
    "(print-i (div-interval B B))\n"
   ]
  }
 ],
 "metadata": {
  "kernelspec": {
   "display_name": "Calysto Scheme 3",
   "language": "scheme",
   "name": "calysto_scheme"
  },
  "language_info": {
   "codemirror_mode": {
    "name": "scheme"
   },
   "mimetype": "text/x-scheme",
   "name": "scheme",
   "pygments_lexer": "scheme"
  }
 },
 "nbformat": 4,
 "nbformat_minor": 4
}
