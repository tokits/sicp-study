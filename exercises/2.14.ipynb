{
 "cells": [
  {
   "cell_type": "markdown",
   "metadata": {},
   "source": [
    "### 練習問題2.15\n",
    "Lemが正しいことを⽰せ。いろいろな数値演算の式についてこのシステムの挙動を調査せよ。  \n",
    "何らかの区間AとB を作成し、それらを使って式A/AとA/Bを計算せよ。  \n",
    "中央値に対して⼩さなパーセンテージの幅を持つ区間について調べると得られるところが⼤きいだろう。  \n",
    "中央値-パーセント形式(練習問題 2.12参照)の計算結果を調べよ。"
   ]
  },
  {
   "cell_type": "markdown",
   "metadata": {},
   "source": [
    "回答は割愛する。"
   ]
  }
 ],
 "metadata": {
  "kernelspec": {
   "display_name": "Calysto Scheme 3",
   "language": "scheme",
   "name": "calysto_scheme"
  },
  "language_info": {
   "codemirror_mode": {
    "name": "scheme"
   },
   "mimetype": "text/x-scheme",
   "name": "scheme",
   "pygments_lexer": "scheme"
  }
 },
 "nbformat": 4,
 "nbformat_minor": 4
}
