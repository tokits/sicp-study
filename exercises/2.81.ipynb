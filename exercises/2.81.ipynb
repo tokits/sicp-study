{
 "cells": [
  {
   "cell_type": "markdown",
   "metadata": {},
   "source": [
    "### 練習問題2.81\n",
    "Louis Reasonerは、引数の型がすでに同じであっても、apply-generic は引数をお互いの型に強制型変換しようとしてもいいのではないかと気がついた。<br />\n",
    "そのため、それぞれの型の引数をそれ⾃⾝の型に強制型変換 (coerce) する⼿続きを強制型変換テーブルに⼊れる必要があると彼は考えた。<br />\n",
    "例えば、上に⽰した scheme-number->complex という強制型変換に加え、彼は次のことを⾏う。</br>\n",
    "\n",
    "    (define (scheme-number->scheme-number n) n)\n",
    "    (define (complex->complex z) z)\n",
    "    (put-coercion 'scheme-number 'scheme-number scheme-number->scheme-number)\n",
    "    (put-coercion 'complex 'complex complex->complex)"
   ]
  },
  {
   "cell_type": "code",
   "execution_count": 69,
   "metadata": {
    "tags": []
   },
   "outputs": [],
   "source": [
    "(define (assoc key records)\n",
    "  (cond ((null? records) #f)\n",
    "        ((equal? key (caar records)) (car records))\n",
    "        (else (assoc key (cdr records)))\n",
    "        )\n",
    "  )\n",
    "\n",
    "(define (lookup key-1 key-2 table)\n",
    "  (let ((subtable (assoc key-1 (cdr table))))\n",
    "    (if subtable\n",
    "        (let ((record (assoc key-2 (cdr subtable))))\n",
    "          (if record (cdr record)\n",
    "              #f\n",
    "              )\n",
    "          )\n",
    "        #f\n",
    "        )\n",
    "    )\n",
    "  )\n",
    "\n",
    "(define (insert! key-1 key-2 value table)\n",
    "  (let ((subtable (assoc key-1 (cdr table))))\n",
    "    (if subtable\n",
    "        (let ((record (assoc key-2 (cdr subtable))))\n",
    "          (if record (set-cdr! record value)\n",
    "              (set-cdr! subtable (cons (cons key-2 value) (cdr subtable)))\n",
    "              )\n",
    "          )\n",
    "        (set-cdr! table (cons (list key-1 (cons key-2 value)) (cdr table)))\n",
    "        )\n",
    "    )\n",
    "  'ok)\n",
    "\n",
    "(define (make-table)\n",
    "  (let ((local-table (list '*table*)))\n",
    "    (define (lookup key-1 key-2)\n",
    "      (let ((subtable (assoc key-1 (cdr local-table))))\n",
    "        (if subtable\n",
    "            (let ((record (assoc key-2 (cdr subtable))))\n",
    "              (if record (cdr record) #f))\n",
    "            #f)\n",
    "        )\n",
    "      )\n",
    "    (define (insert! key-1 key-2 value)\n",
    "      (let ((subtable (assoc key-1 (cdr local-table))))\n",
    "        (if subtable\n",
    "            (let ((record (assoc key-2 (cdr subtable))))\n",
    "              (if record (set-cdr! record value)\n",
    "                  (set-cdr! subtable (cons (cons key-2 value) (cdr subtable)))\n",
    "                  )\n",
    "              )\n",
    "            (set-cdr! local-table (cons (list key-1 (cons key-2 value)) (cdr local-table )))\n",
    "            )\n",
    "        )\n",
    "      'ok)\n",
    "    (define (dispatch m)\n",
    "      (cond ((eq? m 'lookup-proc) lookup)\n",
    "            ((eq? m 'insert-proc!) insert!)\n",
    "            (else (error \"Unknown operation: TABLE\" m)))\n",
    "      )\n",
    "    dispatch)\n",
    "  )\n",
    "\n",
    "(define operation-table (make-table))\n",
    "(define get (operation-table 'lookup-proc))\n",
    "(define put (operation-table 'insert-proc!))\n",
    "(define get-coercion get)\n",
    "(define put-coercion put)\n",
    "\n",
    "; タグつきデータのコンストラクタ\n",
    "(define (attach-tag type-tag contents)\n",
    "  (cons type-tag contents))\n",
    "; タグを返すセレクタ\n",
    "(define (type-tag datum)\n",
    "  (if (pair? datum) (car datum)\n",
    "      (error \"Bad tagged datum: TYPE-TAG\" datum))\n",
    "  )\n",
    "; データを返すセレクタ\n",
    "(define (contents datum)\n",
    "  (if (pair? datum) (cdr datum)\n",
    "      (error \"Bad tagged datum: CONTENTS\" datum))\n",
    "  )\n",
    "\n",
    ";\n",
    "(define (apply-generic op . args)\n",
    "  (let ((type-tags (map type-tag args)))\n",
    "    (let ((proc (get op type-tags)))\n",
    "      (if proc\n",
    "          (apply proc (map contents args))\n",
    "          (if (= (length args) 2)\n",
    "              (let ((type1 (car type-tags))\n",
    "                    (type2 (cadr type-tags))\n",
    "                    (a1 (car args))\n",
    "                    (a2 (cadr args)))\n",
    "                (let ((t1->t2 (get-coercion type1 type2))\n",
    "                      (t2->t1 (get-coercion type2 type1)))\n",
    "                  (cond (t1->t2\n",
    "                         (apply-generic op (t1->t2 a1) a2))\n",
    "                        (t2->t1\n",
    "                         (apply-generic op a1 (t2->t1 a2)))\n",
    "                        (else (error \"No method for these types\"\n",
    "                                     (list op type-tags ))))))\n",
    "              (error \"No method for these types\"\n",
    "                     (list op type-tags )))))))"
   ]
  },
  {
   "cell_type": "code",
   "execution_count": 70,
   "metadata": {},
   "outputs": [],
   "source": [
    "(define (add x y) (apply-generic 'add x y))\n",
    "(define (sub x y) (apply-generic 'sub x y))\n",
    "(define (mul x y) (apply-generic 'mul x y))\n",
    "(define (div x y) (apply-generic 'div x y))"
   ]
  },
  {
   "cell_type": "code",
   "execution_count": 71,
   "metadata": {},
   "outputs": [
    {
     "data": {
      "text/plain": [
       "done"
      ]
     },
     "execution_count": 71,
     "metadata": {},
     "output_type": "execute_result"
    }
   ],
   "source": [
    "(define (install-scheme-number-package)\n",
    "  (define (tag x) (attach-tag 'scheme-number x))\n",
    "  (put 'add '(scheme-number scheme-number) (lambda (x y) (tag (+ x y))))\n",
    "  (put 'sub '(scheme-number scheme-number) (lambda (x y) (tag (- x y))))\n",
    "  (put 'mul '(scheme-number scheme-number) (lambda (x y) (tag (* x y))))\n",
    "  (put 'div '(scheme-number scheme-number) (lambda (x y) (tag (/ x y))))\n",
    "  (put 'make 'scheme-number (lambda (x) (tag x)))\n",
    "  (put 'exp '(scheme-number scheme-number) (lambda (x y) (tag (expt x y))))\n",
    "'done)\n",
    "\n",
    "(define (make-scheme-number n) ((get 'make 'scheme-number) n))\n",
    "\n",
    "(install-scheme-number-package)"
   ]
  },
  {
   "cell_type": "code",
   "execution_count": 72,
   "metadata": {},
   "outputs": [
    {
     "data": {
      "text/plain": [
       "done"
      ]
     },
     "execution_count": 72,
     "metadata": {},
     "output_type": "execute_result"
    }
   ],
   "source": [
    "(define (gcd a b)\n",
    "  (if (= b 0) a\n",
    "      (gcd b (remainder a b)))\n",
    "  )\n",
    "\n",
    "(define (install-rational-package)\n",
    "  ;; 内部⼿続き\n",
    "  (define (numer x) (car x))\n",
    "  (define (denom x) (cdr x))\n",
    "  (define (make-rat n d)\n",
    "    (let ((g (gcd n d))) (cons (/ n g) (/ d g))))\n",
    "  (define (add-rat x y) (make-rat (+ (* (numer x) (denom y))\n",
    "                                     (* (numer y) (denom x)))\n",
    "                                  (* (denom x) (denom y))))\n",
    "  (define (sub-rat x y) (make-rat (- (* (numer x) (denom y))\n",
    "                                     (* (numer y) (denom x)))\n",
    "                                  (* (denom x) (denom y))))\n",
    "  (define (mul-rat x y) (make-rat (* (numer x) (numer y))\n",
    "                                  (* (denom x) (denom y))))\n",
    "  (define (div-rat x y) (make-rat (* (numer x) (denom y)) (* (denom x) (numer y))))\n",
    "  ;; システムのほかの部分とのインターフェイス\n",
    "  (define (tag x) (attach-tag 'rational x))\n",
    "  (put 'add '(rational rational) (lambda (x y) (tag (add-rat x y))))\n",
    "  (put 'sub '(rational rational) (lambda (x y) (tag (sub-rat x y))))\n",
    "  (put 'mul '(rational rational) (lambda (x y) (tag (mul-rat x y)))) \n",
    "  (put 'div '(rational rational) (lambda (x y) (tag (div-rat x y))))\n",
    "  (put 'make 'rational (lambda (n d) (tag (make-rat n d))))\n",
    "  'done)\n",
    "\n",
    "(define (make-rational n d) ((get 'make 'rational) n d))\n",
    "\n",
    "(install-rational-package)"
   ]
  },
  {
   "cell_type": "code",
   "execution_count": 73,
   "metadata": {},
   "outputs": [
    {
     "data": {
      "text/plain": [
       "done"
      ]
     },
     "execution_count": 73,
     "metadata": {},
     "output_type": "execute_result"
    }
   ],
   "source": [
    "(import \"math\")\n",
    "(define (make-from-mag-ang r a)\n",
    "  (define (dispatch op)\n",
    "    (cond ((eq? op 'real-part) (* r (math.cos a)))\n",
    "          ((eq? op 'imag-part) (* r (math.sin a)))\n",
    "          ((eq? op 'magnitude) r)\n",
    "          ((eq? op 'angle) a)\n",
    "          (else (error \"Unknown op: MAKE-FROM-MAG-ANG\" op))\n",
    "          )\n",
    "  )\n",
    "dispatch)\n",
    "\n",
    "(define (square x)(* x x))\n",
    "\n",
    "(define (install-rectangular-package)\n",
    "  ;; 内部⼿続き\n",
    "  (define (real-part z) (car z))\n",
    "  (define (imag-part z) (cdr z))\n",
    "  (define (make-from-real-imag x y) (cons x y))\n",
    "  (define (magnitude z) (sqrt (+ (square (real-part z)) (square (imag-part z)))))\n",
    "  (define (angle z) (math.atan2 (imag-part z) (real-part z)))\n",
    "  (define (make-from-mag-ang r a) (cons (* r (math.cos a)) (* r (math.sin a))))\n",
    "  ;; システムのほかの部分とのインターフェイス\n",
    "  (define (tag x) (attach-tag 'rectangular x))\n",
    "  (put 'real-part '(rectangular) real-part)\n",
    "  (put 'imag-part '(rectangular) imag-part)\n",
    "  (put 'magnitude '(rectangular) magnitude)\n",
    "  (put 'angle '(rectangular) angle)\n",
    "  (put 'make-from-real-imag 'rectangular (lambda (x y) (tag (make-from-real-imag x y))))\n",
    "  (put 'make-from-mag-ang 'rectangular (lambda (r a) (tag (make-from-mag-ang r a))))\n",
    "'done)\n",
    "\n",
    "(define (install-polar-package)\n",
    "  ;; 内部⼿続き\n",
    "  (define (magnitude z) (car z))\n",
    "  (define (angle z) (cdr z))\n",
    "  (define (make-from-mag-ang r a) (cons r a))\n",
    "  (define (real-part z) (* (magnitude z) (math.cos (angle z))))\n",
    "  (define (imag-part z) (* (magnitude z) (math.sin (angle z))))\n",
    "  (define (make-from-real-imag x y) (cons (sqrt (+ (square x) (square y))) (math.atan2 y x)))\n",
    "  ;; システムのほかの部分とのインターフェイス\n",
    "  (define (tag x) (attach-tag 'polar x))\n",
    "  (put 'real-part '(polar) real-part)\n",
    "  (put 'imag-part '(polar) imag-part)\n",
    "  (put 'magnitude '(polar) magnitude)\n",
    "  (put 'angle '(polar) angle)\n",
    "  (put 'make-from-real-imag 'polar (lambda (x y) (tag (make-from-real-imag x y))))\n",
    "  (put 'make-from-mag-ang 'polar (lambda (r a) (tag (make-from-mag-ang r a))))\n",
    "  'done)\n",
    "\n",
    "(define (real-part z) (apply-generic 'real-part z))\n",
    "(define (imag-part z) (apply-generic 'imag-part z))\n",
    "(define (magnitude z) (apply-generic 'magnitude z))\n",
    "(define (angle z) (apply-generic 'angle z))\n",
    "\n",
    "(define (make-from-real-imag x y) ((get 'make-from-real-imag 'rectangular) x y))\n",
    "(define (make-from-mag-ang r a) ((get 'make-from-mag-ang 'polar) r a))\n",
    "\n",
    "(install-rectangular-package)\n",
    "(install-polar-package)"
   ]
  },
  {
   "cell_type": "code",
   "execution_count": 74,
   "metadata": {},
   "outputs": [
    {
     "data": {
      "text/plain": [
       "done"
      ]
     },
     "execution_count": 74,
     "metadata": {},
     "output_type": "execute_result"
    }
   ],
   "source": [
    "(define (install-complex-package)\n",
    "  ;; 直交形式パッケージと極形式パッケージからインポートした⼿続き\n",
    "  (define (make-from-real-imag x y) ((get 'make-from-real-imag 'rectangular) x y))\n",
    "  (define (make-from-mag-ang r a) ((get 'make-from-mag-ang 'polar) r a))\n",
    "  ;; 内部⼿続き\n",
    "  (define (add-complex z1 z2) (make-from-real-imag (+ (real-part z1) (real-part z2)) (+ (imag-part z1) (imag-part z2))))\n",
    "  (define (sub-complex z1 z2) (make-from-real-imag (- (real-part z1) (real-part z2)) (- (imag-part z1) (imag-part z2))))\n",
    "  (define (mul-complex z1 z2) (make-from-mag-ang (* (magnitude z1) (magnitude z2)) (+ (angle z1) (angle z2))))\n",
    "  (define (div-complex z1 z2) (make-from-mag-ang (/ (magnitude z1) (magnitude z2)) (- (angle z1) (angle z2))))\n",
    "  ;; システムのほかの部分とのインターフェイス\n",
    "  (define (tag z) (attach-tag 'complex z))\n",
    "  (put 'add '(complex complex) (lambda (z1 z2) (tag (add-complex z1 z2))))\n",
    "  (put 'sub '(complex complex) (lambda (z1 z2) (tag (sub-complex z1 z2))))\n",
    "  (put 'mul '(complex complex) (lambda (z1 z2) (tag (mul-complex z1 z2))))\n",
    "  (put 'div '(complex complex) (lambda (z1 z2) (tag (div-complex z1 z2))))\n",
    "  (put 'make-from-real-imag 'complex (lambda (x y) (tag (make-from-real-imag x y))))\n",
    "  (put 'make-from-mag-ang 'complex (lambda (r a) (tag (make-from-mag-ang r a))))\n",
    "  'done)\n",
    "\n",
    "(define (make-complex-from-real-imag x y) ((get 'make-from-real-imag 'complex) x y))\n",
    "(define (make-complex-from-mag-ang r a) ((get 'make-from-mag-ang 'complex) r a))\n",
    "\n",
    "(install-complex-package)"
   ]
  },
  {
   "cell_type": "markdown",
   "metadata": {},
   "source": [
    "a. Louis の強制型変換⼿続きを組み込むと、もし scheme-number型の⼆つの引数や complex 型の⼆つの引数とある演算に対して apply-generic が呼ばれ、その演算がテーブル内でそれらの型に対して⾒つからない場合は、何が起こるだろうか。<br />\n",
    "例えば、ジェネリックな指数関数演算を定義したとする。\n",
    "\n",
    "    (define (exp x y) (apply-generic 'exp x y))\n",
    "\n",
    "そして、Scheme-number パッケージに対して指数関数⼿続きを追加し、ほかのパッケージには追加しないとする。\n",
    "\n",
    "    ;; 以下は Scheme-number パッケージに追加する\n",
    "    (put 'exp '(scheme-number scheme-number)\n",
    "    (lambda (x y) (tag (expt x y))))\n",
    "    ; 基本⼿続き expt を使う\n",
    "\n",
    "exp を⼆つの複素数の引数で呼び出した場合、何が起こるだろうか。"
   ]
  },
  {
   "cell_type": "code",
   "execution_count": 57,
   "metadata": {},
   "outputs": [
    {
     "data": {
      "text/plain": [
       "ok"
      ]
     },
     "execution_count": 57,
     "metadata": {},
     "output_type": "execute_result"
    }
   ],
   "source": [
    "(define (scheme-number->complex n)\n",
    "(make-complex-from-real-imag (contents n) 0))\n",
    "(put-coercion 'scheme-number 'complex scheme-number->complex)\n",
    "(define (scheme-number->scheme-number n) n)\n",
    "(define (complex->complex z) z)\n",
    "(put-coercion 'scheme-number 'scheme-number scheme-number->scheme-number)\n",
    "(put-coercion 'complex 'complex complex->complex)"
   ]
  },
  {
   "cell_type": "code",
   "execution_count": 58,
   "metadata": {},
   "outputs": [],
   "source": [
    "(define (exp x y) (apply-generic 'exp x y))\n"
   ]
  },
  {
   "cell_type": "code",
   "execution_count": 59,
   "metadata": {},
   "outputs": [
    {
     "data": {
      "text/plain": [
       "(scheme-number . 25.0)"
      ]
     },
     "execution_count": 59,
     "metadata": {},
     "output_type": "execute_result"
    }
   ],
   "source": [
    "(exp (make-scheme-number 5) (make-scheme-number 2))"
   ]
  },
  {
   "cell_type": "code",
   "execution_count": 60,
   "metadata": {},
   "outputs": [
    {
     "data": {
      "text/plain": [
       "(scheme-number . 32.0)"
      ]
     },
     "execution_count": 60,
     "metadata": {},
     "output_type": "execute_result"
    }
   ],
   "source": [
    "(exp (make-scheme-number 2) (make-scheme-number 5))"
   ]
  },
  {
   "cell_type": "code",
   "execution_count": 61,
   "metadata": {},
   "outputs": [],
   "source": [
    "(define z1 (make-complex-from-real-imag 1 3))"
   ]
  },
  {
   "cell_type": "code",
   "execution_count": 62,
   "metadata": {},
   "outputs": [],
   "source": [
    "(define z2 (make-complex-from-real-imag 2 4))"
   ]
  },
  {
   "cell_type": "code",
   "execution_count": 63,
   "metadata": {},
   "outputs": [
    {
     "name": "stderr",
     "output_type": "stream",
     "text": [
      "\u001b[1;31m\n",
      "Traceback (most recent call last):\n",
      "  File \"In [63]\", line 1, col 1, in 'exp'\n",
      "  File \"In [58]\", line 1, col 19, in 'apply-generic'\n",
      "  File \"In [51]\", line 86, col 3, in 'let'\n",
      "  File \"In [51]\", line 87, col 5, in 'let'\n",
      "  File \"In [51]\", line 91, col 15, in 'let'\n",
      "  File \"In [51]\", line 95, col 17, in 'let'\n",
      "  File \"In [51]\", line 98, col 26, in 'apply-generic'\n",
      "  File \"In [51]\", line 86, col 3, in 'let'\n",
      "  File \"In [51]\", line 87, col 5, in 'let'\n",
      "  File \"In [51]\", line 91, col 15, in 'let'\n",
      "  File \"In [51]\", line 95, col 17, in 'let'\n",
      "  File \"In [51]\", line 98, col 26, in 'apply-generic'\n",
      "  File \"In [51]\", line 86, col 3, in 'let'\n",
      "  File \"In [51]\", line 87, col 5, in 'let'\n",
      "  File \"In [51]\", line 91, col 15, in 'let'\n",
      "  File \"In [51]\", line 95, col 17, in 'let'\n",
      "  File \"In [51]\", line 98, col 26, in 'apply-generic'\n",
      "  File \"In [51]\", line 86, col 3, in 'let'\n",
      "  File \"In [51]\", line 87, col 5, in 'let'\n",
      "  File \"In [51]\", line 91, col 15, in 'let'\n",
      "  File \"In [51]\", line 95, col 17, in 'let'\n",
      "  File \"In [51]\", line 98, col 26, in 'apply-generic'\n",
      "  File \"In [51]\", line 86, col 3, in 'let'\n",
      "  File \"In [51]\", line 87, col 5, in 'let'\n",
      "  File \"In [51]\", line 91, col 15, in 'let'\n",
      "  File \"In [51]\", line 95, col 17, in 'let'\n",
      "  File \"In [51]\", line 98, col 26, in 'apply-generic'\n",
      "  File \"In [51]\", line 86, col 3, in 'let'\n",
      "  File \"In [51]\", line 87, col 5, in 'let'\n",
      "  File \"In [51]\", line 91, col 15, in 'let'\n",
      "  File \"In [51]\", line 95, col 17, in 'let'\n",
      "  File \"In [51]\", line 98, col 26, in 'apply-generic'\n",
      "  File \"In [51]\", line 86, col 3, in 'let'\n",
      "  File \"In [51]\", line 87, col 5, in 'let'\n",
      "  File \"In [51]\", line 91, col 15, in 'let'\n",
      "  File \"In [51]\", line 95, col 17, in 'let'\n",
      "  File \"In [51]\", line 98, col 26, in 'apply-generic'\n",
      "  File \"In [51]\", line 86, col 3, in 'let'\n",
      "  File \"In [51]\", line 87, col 5, in 'let'\n",
      "  File \"In [51]\", line 91, col 15, in 'let'\n",
      "  File \"In [51]\", line 95, col 17, in 'let'\n",
      "  File \"In [51]\", line 98, col 26, in 'apply-generic'\n",
      "  File \"In [51]\", line 86, col 3, in 'let'\n",
      "  File \"In [51]\", line 87, col 5, in 'let'\n",
      "  File \"In [51]\", line 91, col 15, in 'let'\n",
      "  File \"In [51]\", line 95, col 17, in 'let'\n",
      "  File \"In [51]\", line 98, col 26, in 'apply-generic'\n",
      "  File \"In [51]\", line 86, col 3, in 'let'\n",
      "  File \"In [51]\", line 87, col 5, in 'let'\n",
      "  File \"In [51]\", line 91, col 15, in 'let'\n",
      "  File \"In [51]\", line 95, col 17, in 'let'\n",
      "  File \"In [51]\", line 98, col 26, in 'apply-generic'\n",
      "  File \"In [51]\", line 86, col 3, in 'let'\n",
      "  File \"In [51]\", line 87, col 5, in 'let'\n",
      "  File \"In [51]\", line 91, col 15, in 'let'\n",
      "  File \"In [51]\", line 95, col 17, in 'let'\n",
      "  File \"In [51]\", line 98, col 26, in 'apply-generic'\n",
      "  File \"In [51]\", line 86, col 3, in 'let'\n",
      "  File \"In [51]\", line 87, col 5, in 'let'\n",
      "  File \"In [51]\", line 91, col 15, in 'let'\n",
      "  File \"In [51]\", line 95, col 17, in 'let'\n",
      "  File \"In [51]\", line 98, col 26, in 'apply-generic'\n",
      "  File \"In [51]\", line 86, col 3, in 'let'\n",
      "  File \"In [51]\", line 87, col 5, in 'let'\n",
      "  File \"In [51]\", line 91, col 15, in 'let'\n",
      "  File \"In [51]\", line 95, col 17, in 'let'\n",
      "  File \"In [51]\", line 98, col 26, in 'apply-generic'\n",
      "  File \"In [51]\", line 86, col 3, in 'let'\n",
      "  File \"In [51]\", line 87, col 5, in 'let'\n",
      "  File \"In [51]\", line 91, col 15, in 'let'\n",
      "  File \"In [51]\", line 95, col 17, in 'let'\n",
      "  File \"In [51]\", line 98, col 26, in 'apply-generic'\n",
      "  File \"In [51]\", line 86, col 3, in 'let'\n",
      "  File \"In [51]\", line 87, col 5, in 'let'\n",
      "  File \"In [51]\", line 91, col 15, in 'let'\n",
      "  File \"In [51]\", line 95, col 17, in 'let'\n",
      "  File \"In [51]\", line 98, col 26, in 'apply-generic'\n",
      "  File \"In [51]\", line 86, col 3, in 'let'\n",
      "  File \"In [51]\", line 87, col 5, in 'let'\n",
      "  File \"In [51]\", line 91, col 15, in 'let'\n",
      "  File \"In [51]\", line 95, col 17, in 'let'\n",
      "  File \"In [51]\", line 98, col 26, in 'apply-generic'\n",
      "  File \"In [51]\", line 86, col 3, in 'let'\n",
      "  File \"In [51]\", line 87, col 5, in 'let'\n",
      "  File \"In [51]\", line 91, col 15, in 'let'\n",
      "  File \"In [51]\", line 95, col 17, in 'let'\n",
      "  File \"In [51]\", line 98, col 26, in 'apply-generic'\n",
      "  File \"In [51]\", line 86, col 3, in 'let'\n",
      "  File \"In [51]\", line 87, col 5, in 'let'\n",
      "  File \"In [51]\", line 91, col 15, in 'let'\n",
      "  File \"In [51]\", line 95, col 17, in 'let'\n",
      "  File \"In [51]\", line 98, col 26, in 'apply-generic'\n",
      "  File \"In [51]\", line 86, col 3, in 'let'\n",
      "  File \"In [51]\", line 87, col 5, in 'let'\n",
      "  File \"In [51]\", line 91, col 15, in 'let'\n",
      "  File \"In [51]\", line 95, col 17, in 'let'\n",
      "  File \"In [51]\", line 98, col 26, in 'apply-generic'\n",
      "  File \"In [51]\", line 86, col 3, in 'let'\n",
      "  File \"In [51]\", line 87, col 5, in 'let'\n",
      "  File \"In [51]\", line 91, col 15, in 'let'\n",
      "  File \"In [51]\", line 95, col 17, in 'let'\n",
      "  File \"In [51]\", line 98, col 26, in 'apply-generic'\n",
      "  File \"In [51]\", line 86, col 3, in 'let'\n",
      "  File \"In [51]\", line 87, col 5, in 'let'\n",
      "  File \"In [51]\", line 91, col 15, in 'let'\n",
      "  File \"In [51]\", line 95, col 17, in 'let'\n",
      "  File \"In [51]\", line 98, col 26, in 'apply-generic'\n",
      "  File \"In [51]\", line 86, col 3, in 'let'\n",
      "  File \"In [51]\", line 87, col 5, in 'let'\n",
      "  File \"In [51]\", line 91, col 15, in 'let'\n",
      "  File \"In [51]\", line 95, col 17, in 'let'\n",
      "  File \"In [51]\", line 98, col 26, in 'apply-generic'\n",
      "  File \"In [51]\", line 86, col 3, in 'let'\n",
      "  File \"In [51]\", line 87, col 5, in 'let'\n",
      "  File \"In [51]\", line 91, col 15, in 'let'\n",
      "  File \"In [51]\", line 95, col 17, in 'let'\n",
      "  File \"In [51]\", line 98, col 26, in 'apply-generic'\n",
      "  File \"In [51]\", line 86, col 3, in 'let'\n",
      "  File \"In [51]\", line 87, col 5, in 'let'\n",
      "  File \"In [51]\", line 91, col 15, in 'let'\n",
      "  File \"In [51]\", line 95, col 17, in 'let'\n",
      "  File \"In [51]\", line 98, col 26, in 'apply-generic'\n",
      "  File \"In [51]\", line 86, col 3, in 'let'\n",
      "  File \"In [51]\", line 87, col 5, in 'let'\n",
      "  File \"In [51]\", line 91, col 15, in 'let'\n",
      "  File \"In [51]\", line 95, col 17, in 'let'\n",
      "  File \"In [51]\", line 98, col 26, in 'apply-generic'\n",
      "  File \"In [51]\", line 86, col 3, in 'let'\n",
      "  File \"In [51]\", line 87, col 5, in 'let'\n",
      "  File \"In [51]\", line 91, col 15, in 'let'\n",
      "  File \"In [51]\", line 95, col 17, in 'let'\n",
      "  File \"In [51]\", line 98, col 26, in 'apply-generic'\n",
      "  File \"In [51]\", line 86, col 3, in 'let'\n",
      "  File \"In [51]\", line 87, col 5, in 'let'\n",
      "  File \"In [51]\", line 91, col 15, in 'let'\n",
      "  File \"In [51]\", line 95, col 17, in 'let'\n",
      "  File \"In [51]\", line 98, col 26, in 'apply-generic'\n",
      "  File \"In [51]\", line 86, col 3, in 'let'\n",
      "  File \"In [51]\", line 87, col 5, in 'let'\n",
      "  File \"In [51]\", line 91, col 15, in 'let'\n",
      "  File \"In [51]\", line 95, col 17, in 'let'\n",
      "  File \"In [51]\", line 98, col 26, in 'apply-generic'\n",
      "  File \"In [51]\", line 86, col 3, in 'let'\n",
      "  File \"In [51]\", line 87, col 5, in 'let'\n",
      "  File \"In [51]\", line 91, col 15, in 'let'\n",
      "  File \"In [51]\", line 95, col 17, in 'let'\n",
      "  File \"In [51]\", line 98, col 26, in 'apply-generic'\n",
      "  File \"In [51]\", line 86, col 3, in 'let'\n",
      "  File \"In [51]\", line 87, col 5, in 'let'\n",
      "  File \"In [51]\", line 91, col 15, in 'let'\n",
      "  File \"In [51]\", line 95, col 17, in 'let'\n",
      "  File \"In [51]\", line 98, col 26, in 'apply-generic'\n",
      "  File \"In [51]\", line 86, col 3, in 'let'\n",
      "  File \"In [51]\", line 87, col 5, in 'let'\n",
      "  File \"In [51]\", line 91, col 15, in 'let'\n",
      "  File \"In [51]\", line 95, col 17, in 'let'\n",
      "  File \"In [51]\", line 98, col 26, in 'apply-generic'\n",
      "  File \"In [51]\", line 86, col 3, in 'let'\n",
      "  File \"In [51]\", line 87, col 5, in 'let'\n",
      "  File \"In [51]\", line 91, col 15, in 'let'\n",
      "  File \"In [51]\", line 95, col 17, in 'let'\n",
      "  File \"In [51]\", line 98, col 26, in 'apply-generic'\n",
      "  File \"In [51]\", line 86, col 3, in 'let'\n",
      "  File \"In [51]\", line 87, col 5, in 'let'\n",
      "  File \"In [51]\", line 91, col 15, in 'let'\n",
      "  File \"In [51]\", line 95, col 17, in 'let'\n",
      "  File \"In [51]\", line 98, col 26, in 'apply-generic'\n",
      "  File \"In [51]\", line 86, col 3, in 'let'\n",
      "  File \"In [51]\", line 87, col 5, in 'let'\n",
      "  File \"In [51]\", line 91, col 15, in 'let'\n",
      "  File \"In [51]\", line 95, col 17, in 'let'\n",
      "  File \"In [51]\", line 98, col 26, in 'apply-generic'\n",
      "  File \"In [51]\", line 86, col 3, in 'let'\n",
      "  File \"In [51]\", line 87, col 5, in 'let'\n",
      "  File \"In [51]\", line 91, col 15, in 'let'\n",
      "  File \"In [51]\", line 95, col 17, in 'let'\n",
      "  File \"In [51]\", line 98, col 26, in 'apply-generic'\n",
      "  File \"In [51]\", line 86, col 3, in 'let'\n",
      "  File \"In [51]\", line 87, col 5, in 'let'\n",
      "  File \"In [51]\", line 91, col 15, in 'let'\n",
      "  File \"In [51]\", line 95, col 17, in 'let'\n",
      "  File \"In [51]\", line 98, col 26, in 'apply-generic'\n",
      "  File \"In [51]\", line 86, col 3, in 'let'\n",
      "  File \"In [51]\", line 87, col 5, in 'let'\n",
      "  File \"In [51]\", line 91, col 15, in 'let'\n",
      "  File \"In [51]\", line 95, col 17, in 'let'\n",
      "  File \"In [51]\", line 98, col 26, in 'apply-generic'\n",
      "  File \"In [51]\", line 86, col 3, in 'let'\n",
      "  File \"In [51]\", line 87, col 5, in 'let'\n",
      "  File \"In [51]\", line 91, col 15, in 'let'\n",
      "  File \"In [51]\", line 95, col 17, in 'let'\n",
      "  File \"In [51]\", line 98, col 26, in 'apply-generic'\n",
      "  File \"In [51]\", line 86, col 3, in 'let'\n",
      "  File \"In [51]\", line 87, col 5, in 'let'\n",
      "  File \"In [51]\", line 91, col 15, in 'let'\n",
      "  File \"In [51]\", line 95, col 17, in 'let'\n",
      "  File \"In [51]\", line 98, col 26, in 'apply-generic'\n",
      "  File \"In [51]\", line 86, col 3, in 'let'\n",
      "  File \"In [51]\", line 87, col 5, in 'let'\n",
      "  File \"In [51]\", line 91, col 15, in 'let'\n",
      "  File \"In [51]\", line 95, col 17, in 'let'\n",
      "  File \"In [51]\", line 98, col 26, in 'apply-generic'\n",
      "  File \"In [51]\", line 86, col 3, in 'let'\n",
      "  File \"In [51]\", line 87, col 5, in 'let'\n",
      "  File \"In [51]\", line 91, col 15, in 'let'\n",
      "  File \"In [51]\", line 95, col 17, in 'let'\n",
      "  File \"In [51]\", line 98, col 26, in 'apply-generic'\n",
      "  File \"In [51]\", line 86, col 3, in 'let'\n",
      "  File \"In [51]\", line 87, col 5, in 'let'\n",
      "  File \"In [51]\", line 91, col 15, in 'let'\n",
      "  File \"In [51]\", line 95, col 17, in 'let'\n",
      "  File \"In [51]\", line 98, col 26, in 'apply-generic'\n",
      "  File \"In [51]\", line 86, col 3, in 'let'\n",
      "  File \"In [51]\", line 87, col 5, in 'let'\n",
      "  File \"In [51]\", line 91, col 15, in 'let'\n",
      "  File \"In [51]\", line 95, col 17, in 'let'\n",
      "  File \"In [51]\", line 98, col 26, in 'apply-generic'\n",
      "  File \"In [51]\", line 86, col 3, in 'let'\n",
      "  File \"In [51]\", line 87, col 5, in 'let'\n",
      "  File \"In [51]\", line 91, col 15, in 'let'\n",
      "  File \"In [51]\", line 95, col 17, in 'let'\n",
      "  File \"In [51]\", line 98, col 26, in 'apply-generic'\n",
      "  File \"In [51]\", line 86, col 3, in 'let'\n",
      "  File \"In [51]\", line 87, col 5, in 'let'\n",
      "  File \"In [51]\", line 91, col 15, in 'let'\n",
      "  File \"In [51]\", line 95, col 17, in 'let'\n",
      "  File \"In [51]\", line 98, col 26, in 'apply-generic'\n",
      "  File \"In [51]\", line 86, col 3, in 'let'\n",
      "  File \"In [51]\", line 87, col 5, in 'let'\n",
      "  File \"In [51]\", line 91, col 15, in 'let'\n",
      "  File \"In [51]\", line 95, col 17, in 'let'\n",
      "  File \"In [51]\", line 98, col 26, in 'apply-generic'\n",
      "  File \"In [51]\", line 86, col 3, in 'let'\n",
      "  File \"In [51]\", line 87, col 5, in 'let'\n",
      "  File \"In [51]\", line 91, col 15, in 'let'\n",
      "  File \"In [51]\", line 95, col 17, in 'let'\n",
      "  File \"In [51]\", line 98, col 26, in 'apply-generic'\n",
      "  File \"In [51]\", line 86, col 3, in 'let'\n",
      "  File \"In [51]\", line 87, col 5, in 'let'\n",
      "  File \"In [51]\", line 91, col 15, in 'let'\n",
      "  File \"In [51]\", line 95, col 17, in 'let'\n",
      "  File \"In [51]\", line 98, col 26, in 'apply-generic'\n",
      "  File \"In [51]\", line 86, col 3, in 'let'\n",
      "KeyboardInterrupt: Keyboard interrupt\n",
      "\n",
      "\u001b[0m"
     ]
    }
   ],
   "source": [
    "(exp z1 z2)"
   ]
  },
  {
   "cell_type": "markdown",
   "metadata": {},
   "source": [
    "【aの答え】<br />\n",
    "complex型に対してexpを実行すると、無限ループになる。"
   ]
  },
  {
   "cell_type": "markdown",
   "metadata": {},
   "source": [
    "b. 同じ型の引数に対する強制型変換について⼿を加えないといけないとする Louis の考え⽅は正しいだろうか。<br />\n",
    "それとも、apply-generic はそのままの状態で正しく動作するだろうか。"
   ]
  },
  {
   "cell_type": "markdown",
   "metadata": {},
   "source": [
    "【bの答え】<br />\n",
    "正しくない。\n",
    "外部で\n",
    "\n",
    "    (put-coercion 'complex 'complex complex->complex)\n",
    "    \n",
    "を実行しなければ、apply-genericはそのままで問題ないが、<br />\n",
    "外部で\n",
    "\n",
    "    (put-coercion 'complex 'complex complex->complex)\n",
    "    \n",
    "が実行されることを想定すると、\n",
    "apply-genericは修正すべきと考える。"
   ]
  },
  {
   "cell_type": "markdown",
   "metadata": {},
   "source": [
    "c. apply-generic を修正し、⼆つの引数が同じ型であれば強制型変換を試⾏しないようにせよ。"
   ]
  },
  {
   "cell_type": "code",
   "execution_count": 65,
   "metadata": {},
   "outputs": [],
   "source": [
    "(define (apply-generic op . args)\n",
    "  (let ((type-tags (map type-tag args)))\n",
    "    (let ((proc (get op type-tags)))\n",
    "      (if proc\n",
    "          (apply proc (map contents args))\n",
    "          (if (= (length args) 2)\n",
    "              (let ((type1 (car type-tags))\n",
    "                    (type2 (cadr type-tags))\n",
    "                    (a1 (car args))\n",
    "                    (a2 (cadr args)))\n",
    "                (if (not (eq? type1 type2))\n",
    "                    (let ((t1->t2 (get-coercion type1 type2))\n",
    "                          (t2->t1 (get-coercion type2 type1)))\n",
    "                      (cond (t1->t2\n",
    "                             (apply-generic op (t1->t2 a1) a2))\n",
    "                            (t2->t1\n",
    "                             (apply-generic op a1 (t2->t1 a2)))\n",
    "                            (else (error \"No method for these types\" (list op type-tags )))\n",
    "                            )\n",
    "                      )\n",
    "                    (error \"Same types\" (list op type-tags ))\n",
    "                    )\n",
    "                )\n",
    "              (error \"No method for these types\" (list op type-tags )))))\n",
    "      )\n",
    "    )"
   ]
  },
  {
   "cell_type": "code",
   "execution_count": 66,
   "metadata": {},
   "outputs": [
    {
     "name": "stderr",
     "output_type": "stream",
     "text": [
      "\u001b[1;31m\n",
      "Traceback (most recent call last):\n",
      "  File \"In [66]\", line 1, col 1, in 'exp'\n",
      "  File \"In [58]\", line 1, col 19, in 'apply-generic'\n",
      "  File \"In [65]\", line 2, col 3, in 'let'\n",
      "  File \"In [65]\", line 3, col 5, in 'let'\n",
      "  File \"In [65]\", line 7, col 15, in 'let'\n",
      "  File \"In [65]\", line 21, col 21, in 'error'\n",
      "UnhandledException: string argument expected, got 'Symbol'\n",
      "\n",
      "\u001b[0m"
     ]
    }
   ],
   "source": [
    "(exp z1 z2)"
   ]
  },
  {
   "cell_type": "code",
   "execution_count": 67,
   "metadata": {},
   "outputs": [
    {
     "data": {
      "text/plain": [
       "(scheme-number . 25.0)"
      ]
     },
     "execution_count": 67,
     "metadata": {},
     "output_type": "execute_result"
    }
   ],
   "source": [
    "(exp (make-scheme-number 5) (make-scheme-number 2))"
   ]
  },
  {
   "cell_type": "code",
   "execution_count": 68,
   "metadata": {},
   "outputs": [
    {
     "data": {
      "text/plain": [
       "(scheme-number . 32.0)"
      ]
     },
     "execution_count": 68,
     "metadata": {},
     "output_type": "execute_result"
    }
   ],
   "source": [
    "(exp (make-scheme-number 2) (make-scheme-number 5))"
   ]
  }
 ],
 "metadata": {
  "kernelspec": {
   "display_name": "Calysto Scheme 3",
   "language": "scheme",
   "name": "calysto_scheme"
  },
  "language_info": {
   "codemirror_mode": {
    "name": "scheme"
   },
   "mimetype": "text/x-scheme",
   "name": "scheme",
   "pygments_lexer": "scheme"
  }
 },
 "nbformat": 4,
 "nbformat_minor": 4
}
