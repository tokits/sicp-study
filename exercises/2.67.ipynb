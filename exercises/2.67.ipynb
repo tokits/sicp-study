{
 "cells": [
  {
   "cell_type": "markdown",
   "metadata": {},
   "source": [
    "### 練習問題2.67\n",
    "符号化木とサンプルメッセージを次のように定義する。\n",
    "\n",
    "    (define sample-tree\n",
    "        (make-code-tree (make-leaf 'A 4)\n",
    "            (make-code-tree (make-leaf 'B 2)\n",
    "                (make-code-tree (make-leaf 'D 1)\n",
    "                    (make-leaf 'C 1)\n",
    "                )\n",
    "            )\n",
    "        )\n",
    "    )\n",
    "    (define sample-message '(0 1 1 0 0 1 0 1 0 1 1 1 0))\n",
    "\n",
    "decode手続きを使ってメッセージを復号し、結果を⽰せ。 "
   ]
  },
  {
   "cell_type": "code",
   "execution_count": 1,
   "metadata": {},
   "outputs": [],
   "source": [
    "(define (make-leaf symbol weight) (list 'leaf symbol weight))\n",
    "(define (leaf? object) (eq? (car object) 'leaf))\n",
    "(define (symbol-leaf x) (cadr x)) (define (weight-leaf x) (caddr x))\n",
    "\n",
    "; コンストラクタ\n",
    "(define (make-code-tree left right)\n",
    "  (list left right\n",
    "        (append (symbols left) (symbols right))\n",
    "        (+ (weight left) (weight right))\n",
    "    )\n",
    "  )\n",
    "\n",
    "; セレクタ\n",
    "(define (left-branch tree) (car tree))\n",
    "(define (right-branch tree) (cadr tree))\n",
    "(define (symbols tree)\n",
    "  (if (leaf? tree)\n",
    "      (list (symbol-leaf tree)) (caddr tree)\n",
    "    )\n",
    "  )\n",
    "(define (weight tree)\n",
    "  (if (leaf? tree) (weight-leaf tree)\n",
    "      (cadddr tree)\n",
    "    )\n",
    "  )\n",
    "\n",
    "(define (decode bits tree)\n",
    "  (define (decode-1 bits current-branch)\n",
    "    (if (null? bits) '()\n",
    "        (let ((next-branch (choose-branch (car bits) current-branch)))\n",
    "          (if (leaf? next-branch) (cons (symbol-leaf next-branch) (decode-1 (cdr bits) tree))\n",
    "              (decode-1 (cdr bits) next-branch))\n",
    "          )\n",
    "    )\n",
    "    )\n",
    "  (decode-1 bits tree)\n",
    ")  \n",
    "(define (choose-branch bit branch)\n",
    "  (cond ((= bit 0) (left-branch branch))\n",
    "        ((= bit 1) (right-branch branch))\n",
    "        (else (error \"bad bit: CHOOSE-BRANCH\" bit))\n",
    "        )\n",
    "  )\n",
    "\n",
    "(define (adjoin-set x set)\n",
    "  (cond ((null? set) (list x))\n",
    "        ((< (weight x) (weight (car set))) (cons x set))\n",
    "        (else (cons (car set) (adjoin-set x (cdr set))))))\n",
    "\n",
    "(define (make-leaf-set pairs)\n",
    "  (if (null? pairs) '()\n",
    "      (let ((pair (car pairs)))\n",
    "        (adjoin-set (make-leaf (car pair) ; symbol\n",
    "                               (cadr pair)) ; weight\n",
    "                    (make-leaf-set (cdr pairs)))\n",
    "        )\n",
    "    )\n",
    "  )"
   ]
  },
  {
   "cell_type": "code",
   "execution_count": 2,
   "metadata": {},
   "outputs": [],
   "source": [
    "(define sample-tree\n",
    "    (make-code-tree (make-leaf 'A 4)\n",
    "        (make-code-tree (make-leaf 'B 2)\n",
    "            (make-code-tree (make-leaf 'D 1)\n",
    "                (make-leaf 'C 1)\n",
    "            )\n",
    "        )\n",
    "    )\n",
    ")\n",
    "(define sample-message '(0 1 1 0 0 1 0 1 0 1 1 1 0))"
   ]
  },
  {
   "cell_type": "code",
   "execution_count": 3,
   "metadata": {},
   "outputs": [
    {
     "data": {
      "text/plain": [
       "(A D A B B C A)"
      ]
     },
     "execution_count": 3,
     "metadata": {},
     "output_type": "execute_result"
    }
   ],
   "source": [
    "; 復号\n",
    "(decode sample-message sample-tree)"
   ]
  }
 ],
 "metadata": {
  "kernelspec": {
   "display_name": "Calysto Scheme 3",
   "language": "scheme",
   "name": "calysto_scheme"
  },
  "language_info": {
   "codemirror_mode": {
    "name": "scheme"
   },
   "mimetype": "text/x-scheme",
   "name": "scheme",
   "pygments_lexer": "scheme"
  }
 },
 "nbformat": 4,
 "nbformat_minor": 4
}
