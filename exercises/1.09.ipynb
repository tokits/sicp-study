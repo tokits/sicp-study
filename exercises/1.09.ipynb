{
 "cells": [
  {
   "cell_type": "markdown",
   "metadata": {},
   "source": [
    "### 練習問題1.9\n",
    "次の2つの手続きは、どちらもinc,decという手続きによって2つの正の整数を可算する方法を定義している。手続きincは引数を1増やし、decは引数1減らす。　　\n",
    "\n",
    "    (define (+ a b)\n",
    "      (if (= a 0) b (inc (+ (dec a) b))))\n",
    "    (define (+ a b)\n",
    "      (if (= a 0) b (+ (dec a) (inc b))))\n",
    "      \n",
    "置換モデルを使って、それぞれの手続きが(+ 4 5)を評価する際に生成するプロセスを図示せよ。これらのプロセスは反復だろうか、それとも再帰だろうか。"
   ]
  },
  {
   "cell_type": "markdown",
   "metadata": {},
   "source": [
    "#### 1つ目の定義の場合 ####\n",
    "  \n",
    "    (+ 4 5)\n",
    "    (inc (+ (dec 4) 5))\n",
    "    (inc (+ 3 5))\n",
    "    (inc (inc (+ (dec 3) 5)))\n",
    "    (inc (inc (+ 2 5)))\n",
    "    (inc (inc (inc (+ (dec 2) 5))))\n",
    "    (inc (inc (inc (+ 1 5))))\n",
    "    (inc (inc (inc (inc (+ (dec 1) 5)))))\n",
    "    (inc (inc (inc (inc (+ 0 5)))))\n",
    "    (inc (inc (inc (inc 5)))\n",
    "    (inc (inc (inc 6)))\n",
    "    (inc (inc 7))\n",
    "    (inc 8)\n",
    "    9\n",
    "\n",
    "→再帰プロセス"
   ]
  },
  {
   "cell_type": "markdown",
   "metadata": {},
   "source": [
    "#### 2つ目の定義の場合 ####\n",
    "\n",
    "    (+ 4 5)\n",
    "    (+ (+ (dec 4) (inc 5)))\n",
    "    (+ (+ 3 6))\n",
    "    (+ (+ (dec 3) (inc 6)))\n",
    "    (+ (+ 2 7))\n",
    "    (+ (+ (dec 2) (inc 7)))\n",
    "    (+ (+ 1 8))\n",
    "    (+ (+ (dec 1) (inc 8)))\n",
    "    (+ (+ 0 9))\n",
    "    9\n",
    "\n",
    "→反復プロセス"
   ]
  }
 ],
 "metadata": {
  "kernelspec": {
   "display_name": "Calysto Scheme 3",
   "language": "scheme",
   "name": "calysto_scheme"
  },
  "language_info": {
   "codemirror_mode": {
    "name": "scheme"
   },
   "mimetype": "text/x-scheme",
   "name": "scheme",
   "pygments_lexer": "scheme"
  }
 },
 "nbformat": 4,
 "nbformat_minor": 4
}
