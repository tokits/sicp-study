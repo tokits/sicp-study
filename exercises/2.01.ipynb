{
 "cells": [
  {
   "cell_type": "markdown",
   "metadata": {},
   "source": [
    "### 練習問題2.1\n",
    "正と負の両⽅の引数を扱うことができる改良版make-rat を定義せよ。  \n",
    "make-rat は符号を正規化し、正の有理数であれば分⼦と分⺟の両⽅が正となり、負の有理数であれば分⼦のみが負になるようにする。"
   ]
  },
  {
   "cell_type": "code",
   "execution_count": 1,
   "metadata": {},
   "outputs": [],
   "source": [
    "(define (numer x) (car x))\n",
    "(define (denom x) (cdr x))\n",
    "(define (print-rat x)\n",
    "  (newline)\n",
    "  (display (numer x))\n",
    "  (display \"/\")\n",
    "  (display (denom x)))"
   ]
  },
  {
   "cell_type": "code",
   "execution_count": 2,
   "metadata": {},
   "outputs": [],
   "source": [
    "(define (make-rat n d)\n",
    "  (let ((nn ((if (< (* n d) 0) - +) (abs n)))\n",
    "        (dd (abs d)))\n",
    "    (let ((g (gcd nn dd)))\n",
    "      (cons (/ nn g) (/ dd g))\n",
    "      )\n",
    "    )\n",
    "  )\n",
    "(define (gcd a b)\n",
    "  (if (= b 0) a\n",
    "       (gcd b (remainder a b))\n",
    "    )\n",
    "  )\n",
    ";(define n -10)\n",
    ";(define d 12)\n",
    ";(* (if (< (* n d) 0) -1 1) (abs n))"
   ]
  },
  {
   "cell_type": "code",
   "execution_count": 3,
   "metadata": {},
   "outputs": [
    {
     "name": "stdout",
     "output_type": "stream",
     "text": [
      "\n",
      "1/2\n",
      "-1/2\n",
      "-1/2\n",
      "1/2"
     ]
    }
   ],
   "source": [
    "(print-rat (make-rat 2 4))\n",
    "(print-rat (make-rat -2 4))\n",
    "(print-rat (make-rat 2 -4))\n",
    "(print-rat (make-rat -2 -4))"
   ]
  }
 ],
 "metadata": {
  "kernelspec": {
   "display_name": "Calysto Scheme 3",
   "language": "scheme",
   "name": "calysto_scheme"
  },
  "language_info": {
   "codemirror_mode": {
    "name": "scheme"
   },
   "mimetype": "text/x-scheme",
   "name": "scheme",
   "pygments_lexer": "scheme"
  }
 },
 "nbformat": 4,
 "nbformat_minor": 4
}
