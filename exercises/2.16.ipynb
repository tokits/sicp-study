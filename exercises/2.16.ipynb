{
 "cells": [
  {
   "cell_type": "markdown",
   "metadata": {},
   "source": [
    "### 練習問題2.16\n",
    "⼀般的に、なぜ代数的に等価な式が異なる答えになることがあるのかを説明せよ。  \n",
    "この⽋点のない区間演算パッケ ージを開発することはできるだろうか。  \n",
    "それとも、このタスクは不可能なのだろうか。(警告：この問題はとても難しい)"
   ]
  },
  {
   "cell_type": "markdown",
   "metadata": {},
   "source": [
    "回答は割愛する。"
   ]
  }
 ],
 "metadata": {
  "kernelspec": {
   "display_name": "Calysto Scheme 3",
   "language": "scheme",
   "name": "calysto_scheme"
  },
  "language_info": {
   "codemirror_mode": {
    "name": "scheme"
   },
   "mimetype": "text/x-scheme",
   "name": "scheme",
   "pygments_lexer": "scheme"
  }
 },
 "nbformat": 4,
 "nbformat_minor": 4
}
