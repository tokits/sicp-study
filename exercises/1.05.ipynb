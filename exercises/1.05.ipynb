{
 "cells": [
  {
   "cell_type": "markdown",
   "metadata": {},
   "source": [
    "### 練習問題1.5\n",
    "Ben Bitdiddle は、⾃分が対⾯しているインタプリタが適⽤順序評価と正規順序評価のどちらを使っているかを調べるテストを発明した。彼は、以下の 2 つの⼿続きを定義する。\n",
    "\n",
    "    (define (p) (p))\n",
    "    (define (test x y)\n",
    "    (if (= x 0) 0 y))\n",
    "\n",
    "それから、以下の式を評価する。\n",
    "    \n",
    "    (test 0 (p))\n",
    "\n",
    "適⽤順序評価を使うインタプリタでは、Ben はどのようなふるまいを観察するだろうか。  \n",
    "正規順序評価を使うインタプリタでは、どのようなふるまいを観察するだろうか。あなたの回答を説明せよ(特殊形式である if の評価規則は、インタプリタが適⽤順序評価でも正規順序評価でも同じであると仮定せよ。述語式が最初に評価され、その結果によって結果式と代替式のどちらを評価するかが決まる)。\n"
   ]
  },
  {
   "cell_type": "code",
   "execution_count": 1,
   "metadata": {},
   "outputs": [],
   "source": [
    "(define (p) (p))"
   ]
  },
  {
   "cell_type": "code",
   "execution_count": 2,
   "metadata": {},
   "outputs": [],
   "source": [
    "(define (test x y)\n",
    "  (if (= x 0) 0 y))"
   ]
  },
  {
   "cell_type": "code",
   "execution_count": 3,
   "metadata": {},
   "outputs": [
    {
     "data": {
      "text/plain": [
       "0"
      ]
     },
     "execution_count": 3,
     "metadata": {},
     "output_type": "execute_result"
    }
   ],
   "source": [
    "(test 0 0)"
   ]
  },
  {
   "cell_type": "code",
   "execution_count": 4,
   "metadata": {},
   "outputs": [
    {
     "data": {
      "text/plain": [
       "0"
      ]
     },
     "execution_count": 4,
     "metadata": {},
     "output_type": "execute_result"
    }
   ],
   "source": [
    "(test 0 1)"
   ]
  },
  {
   "cell_type": "code",
   "execution_count": 5,
   "metadata": {},
   "outputs": [
    {
     "data": {
      "text/plain": [
       "2"
      ]
     },
     "execution_count": 5,
     "metadata": {},
     "output_type": "execute_result"
    }
   ],
   "source": [
    "(test 1 2)"
   ]
  },
  {
   "cell_type": "markdown",
   "metadata": {},
   "source": [
    "以下を実行すると帰ってこない。  \n",
    "インタプリタが適応順序評価となっており、\n",
    "if文に到達する前に、第2引数の展開が行われ、\n",
    "第2引数の展開が再帰的となっており、\n",
    "帰ってこないと思われる。"
   ]
  },
  {
   "cell_type": "code",
   "execution_count": 6,
   "metadata": {},
   "outputs": [],
   "source": [
    ";(test 0 (p))"
   ]
  }
 ],
 "metadata": {
  "kernelspec": {
   "display_name": "Calysto Scheme 3",
   "language": "scheme",
   "name": "calysto_scheme"
  },
  "language_info": {
   "codemirror_mode": {
    "name": "scheme"
   },
   "mimetype": "text/x-scheme",
   "name": "scheme",
   "pygments_lexer": "scheme"
  }
 },
 "nbformat": 4,
 "nbformat_minor": 4
}
