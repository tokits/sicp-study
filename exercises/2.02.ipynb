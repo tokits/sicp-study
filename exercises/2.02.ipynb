{
 "cells": [
  {
   "cell_type": "markdown",
   "metadata": {},
   "source": [
    "### 練習問題2.2\n",
    "平⾯上の線分を表現するという問題について考える。\n",
    "それぞれの線分は、始点と終点という点のペアとして表す。コンストラクタ make-segment とセレクタ start-segment, end-segment を定義せよ。  \n",
    "さらに、点は x 座標と y 座標という数値のペアとして表現できる。  \n",
    "最後に、定義したセレクタとコンストラクタによって、線分を引数として取りその中点  \n",
    "(両端点の座標を平均した座標を持つ点) を返す midpoint-segment ⼿続きを定義せよ。  \n",
    "⼿続きをチェックするためには、例えば次のようにして点を表⽰することが必要となるだろう。  \n",
    "\n",
    "    (define (print-point p)\n",
    "        (newline)\n",
    "        (display \"(\")\n",
    "        (display (x-point p))\n",
    "        (display \",\")\n",
    "        (display (y-point p))\n",
    "        (display \")\"))\n"
   ]
  },
  {
   "cell_type": "code",
   "execution_count": 1,
   "metadata": {},
   "outputs": [
    {
     "name": "stdout",
     "output_type": "stream",
     "text": [
      "\n",
      "(1,2)\n",
      "(5,4)\n",
      "(3,3)"
     ]
    }
   ],
   "source": [
    "; 点のコンストラクタ\n",
    "(define (make-point x y)(cons x y))\n",
    "; セレクタ\n",
    "(define (x-point p)(car p))\n",
    "(define (y-point p)(cdr p))\n",
    "(define (print-point p)\n",
    "    (newline)\n",
    "    (display \"(\")\n",
    "    (display (x-point p))\n",
    "    (display \",\")\n",
    "    (display (y-point p))\n",
    "    (display \")\"))\n",
    "\n",
    "(define p1 (make-point 1 2))\n",
    "(print-point p1)\n",
    "(define p2 (make-point 5 4))\n",
    "(print-point p2)\n",
    "\n",
    "; 線分コンストラクタ\n",
    "(define (make-segment p1 p2)(cons p1 p2))\n",
    "; セレクタ\n",
    "(define (start-segment s)(car s))\n",
    "(define (end-segment s)(cdr s))\n",
    "(define (midpoint-segment s)\n",
    "  (let ((p1 (start-segment s))\n",
    "        (p2 (end-segment s)))\n",
    "    (let ((x1 (x-point p1))\n",
    "          (y1 (y-point p1))\n",
    "          (x2 (x-point p2))\n",
    "          (y2 (y-point p2)))\n",
    "      (make-point (+ (/ (- x2 x1) 2) x1) (+ (/ (- y2 y1) 2) y1))\n",
    "      )\n",
    "    )\n",
    "  )\n",
    "(define p3 (midpoint-segment (make-segment p1 p2)))\n",
    "(print-point p3)"
   ]
  }
 ],
 "metadata": {
  "kernelspec": {
   "display_name": "Calysto Scheme 3",
   "language": "scheme",
   "name": "calysto_scheme"
  },
  "language_info": {
   "codemirror_mode": {
    "name": "scheme"
   },
   "mimetype": "text/x-scheme",
   "name": "scheme",
   "pygments_lexer": "scheme"
  }
 },
 "nbformat": 4,
 "nbformat_minor": 4
}
