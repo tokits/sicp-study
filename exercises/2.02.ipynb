{
 "cells": [
  {
   "cell_type": "markdown",
   "metadata": {},
   "source": [
    "### 練習問題2.2\n",
    "平⾯上の線分を表現するという問題について考える。\n",
    "それぞれの線分は、始点と終点という点のペアとして表す。コンストラクタ make-segment とセレクタ start-segment, end-segment を定義せよ。  \n",
    "さらに、点は x 座標と y 座標という数値のペアとして表現できる。  \n",
    "最後に、定義したセレクタとコンストラクタによって、線分を引数として取りその中点  \n",
    "(両端点の座標を平均した座標を持つ点) を返す midpoint-segment ⼿続きを定義せよ。  \n",
    "⼿続きをチェックするためには、例えば次のようにして点を表⽰することが必要となるだろう。  \n",
    "\n",
    "    (define (print-point p)\n",
    "        (newline)\n",
    "        (display \"(\")\n",
    "        (display (x-point p))\n",
    "        (display \",\")\n",
    "        (display (y-point p))\n",
    "        (display \")\"))\n"
   ]
  }
 ],
 "metadata": {
  "kernelspec": {
   "display_name": "Calysto Scheme 3",
   "language": "scheme",
   "name": "calysto_scheme"
  },
  "language_info": {
   "codemirror_mode": {
    "name": "scheme"
   },
   "mimetype": "text/x-scheme",
   "name": "scheme",
   "pygments_lexer": "scheme"
  }
 },
 "nbformat": 4,
 "nbformat_minor": 4
}
