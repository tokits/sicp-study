{
 "cells": [
  {
   "cell_type": "markdown",
   "metadata": {},
   "source": [
    "### 練習問題1.42\n",
    "$f$と$g$を⼆つの1引数関数とする。  \n",
    "$g$に$f$を合成(composition)するということを、  \n",
    "関数$x \\mapsto f(g(x))$  \n",
    "として定義する。  \n",
    "合成を実装する⼿続きcomposeを定義せよ。  \n",
    "例えばincが引数に1を⾜す⼿続きであれば、以下のようになる。\n",
    "\n",
    "    ((compose square inc) 6)\n",
    "    49 "
   ]
  },
  {
   "cell_type": "code",
   "execution_count": 1,
   "metadata": {},
   "outputs": [],
   "source": [
    "(define (compose f g)\n",
    "  (lambda (x)(f (g x)))\n",
    "  )"
   ]
  },
  {
   "cell_type": "code",
   "execution_count": 2,
   "metadata": {},
   "outputs": [],
   "source": [
    "(define (inc x)(+ x 1))\n",
    "(define (square x)(* x x))"
   ]
  },
  {
   "cell_type": "code",
   "execution_count": 3,
   "metadata": {},
   "outputs": [
    {
     "data": {
      "text/plain": [
       "49"
      ]
     },
     "execution_count": 3,
     "metadata": {},
     "output_type": "execute_result"
    }
   ],
   "source": [
    "((compose square inc) 6)"
   ]
  }
 ],
 "metadata": {
  "kernelspec": {
   "display_name": "Calysto Scheme 3",
   "language": "scheme",
   "name": "calysto_scheme"
  },
  "language_info": {
   "codemirror_mode": {
    "name": "scheme"
   },
   "mimetype": "text/x-scheme",
   "name": "scheme",
   "pygments_lexer": "scheme"
  }
 },
 "nbformat": 4,
 "nbformat_minor": 4
}
