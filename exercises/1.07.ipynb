{
 "cells": [
  {
   "cell_type": "markdown",
   "metadata": {},
   "source": [
    "### 練習問題1.7\n",
    "平⽅根の計算に使ったgood-enough?テストは、\n",
    "とも⼩さい数値の平⽅根を求めるのにはあまり効率的ではないだろう。\n",
    "また、実際のコンピュータでは、数値演算はほとんど必ず有限の有効数字で⾏われることになる。\n",
    "この問題があるので、とても⼤きい数に対しては、\n",
    "我々のテストは不適切なものになる。\n",
    "これらの⾔明について、⼩さい数と⼤きい数でテストがうまくいかない例を使って説明せよ。\n",
    "good-enough?を実装するためのもうひとつの戦略としては、guessが繰り返しごとにどれだけ変化するかを確認して、\n",
    "差分が推定値に対してとても⼩さいものになったら⽌めるというものもある。\n",
    "これは、⼩さい数値や⼤きい数値に対して、よりうまくいくだろうか。"
   ]
  },
  {
   "cell_type": "code",
   "execution_count": 1,
   "metadata": {},
   "outputs": [],
   "source": [
    "(define (sqrt-iter guess x)\n",
    "  (if (good-enough? guess x)\n",
    "      guess\n",
    "      (sqrt-iter (improve guess x) x)))\n",
    "(define (square x)(* x x))\n",
    "(define (improve guess x)\n",
    "  (average guess (/ x guess)))\n",
    "(define (average x y)\n",
    "  (/ (+ x y) 2))\n",
    "(define (good-enough? guess x)\n",
    "  (< (abs (- (square guess) x)) 0.001))\n",
    "(define (sqrt x)\n",
    "  (sqrt-iter 1.0 x))"
   ]
  },
  {
   "cell_type": "code",
   "execution_count": 2,
   "metadata": {},
   "outputs": [
    {
     "data": {
      "text/plain": [
       "3.00009155413138"
      ]
     },
     "execution_count": 2,
     "metadata": {},
     "output_type": "execute_result"
    }
   ],
   "source": [
    "(sqrt 9)"
   ]
  },
  {
   "cell_type": "code",
   "execution_count": 3,
   "metadata": {},
   "outputs": [
    {
     "data": {
      "text/plain": [
       "0.10032578510960605"
      ]
     },
     "execution_count": 3,
     "metadata": {},
     "output_type": "execute_result"
    }
   ],
   "source": [
    "(sqrt 0.01)"
   ]
  },
  {
   "cell_type": "code",
   "execution_count": 4,
   "metadata": {},
   "outputs": [
    {
     "data": {
      "text/plain": [
       "0.03230844833048122"
      ]
     },
     "execution_count": 4,
     "metadata": {},
     "output_type": "execute_result"
    }
   ],
   "source": [
    "; good-enough?手続きで使用している許容する誤差の値\n",
    "; 以下の値を入力値とすると、正常に動作しない。\n",
    "(sqrt 0.0001)"
   ]
  },
  {
   "cell_type": "code",
   "execution_count": 5,
   "metadata": {},
   "outputs": [],
   "source": [
    "; なので、good-enough?手続きの誤差の値を\n",
    "; 小さくすれば、小さい入力値に対しては動作するようになる。\n",
    "(define (good-enough-small? guess x)\n",
    "  (< (abs (- (square guess) x)) 0.0000000001))\n",
    "(define (sqrt-small-iter guess x)\n",
    "  (if (good-enough-small? guess x)\n",
    "      guess\n",
    "      (sqrt-small-iter (improve guess x) x)))\n",
    "(define (sqrt-small x)\n",
    "  (sqrt-small-iter 1.0 x))"
   ]
  },
  {
   "cell_type": "code",
   "execution_count": 6,
   "metadata": {},
   "outputs": [
    {
     "data": {
      "text/plain": [
       "0.010000000025490743"
      ]
     },
     "execution_count": 6,
     "metadata": {},
     "output_type": "execute_result"
    }
   ],
   "source": [
    "(sqrt-small 0.0001)"
   ]
  },
  {
   "cell_type": "code",
   "execution_count": 7,
   "metadata": {},
   "outputs": [],
   "source": [
    "; だが、巨大な数値を入力値とすると、\n",
    "; いつまでも収束しない場合があり、\n",
    "; 返ってこないということが起こりえる。\n",
    ";(sqrt 10000000000000)"
   ]
  },
  {
   "cell_type": "code",
   "execution_count": 8,
   "metadata": {},
   "outputs": [],
   "source": [
    "; 新しい推定値と一つ前の推定値の差分で判定するようにした。\n",
    "; 入力値が大きい値でも小さい値でも動作するように見える。\n",
    "(define (good-enough-new? next-guess x guess)\n",
    "  (< (abs (- next-guess guess)) 0.0001))\n",
    "(define (sqrt-new-iter guess x old-guess)\n",
    "  (if (good-enough-new? guess x old-guess)\n",
    "      guess\n",
    "      (let ((next-guess (improve guess x)))\n",
    "        (sqrt-new-iter next-guess x guess)\n",
    "        )\n",
    "      )\n",
    "    )\n",
    "(define (sqrt-new x)\n",
    "  (sqrt-new-iter 1.0 x 0.0))"
   ]
  },
  {
   "cell_type": "code",
   "execution_count": 9,
   "metadata": {},
   "outputs": [
    {
     "data": {
      "text/plain": [
       "1.4142135623746899"
      ]
     },
     "execution_count": 9,
     "metadata": {},
     "output_type": "execute_result"
    }
   ],
   "source": [
    "(sqrt-new 2)"
   ]
  },
  {
   "cell_type": "code",
   "execution_count": 10,
   "metadata": {},
   "outputs": [
    {
     "data": {
      "text/plain": [
       "0.010000000025490743"
      ]
     },
     "execution_count": 10,
     "metadata": {},
     "output_type": "execute_result"
    }
   ],
   "source": [
    "(sqrt-new 0.0001)"
   ]
  },
  {
   "cell_type": "code",
   "execution_count": 11,
   "metadata": {},
   "outputs": [
    {
     "data": {
      "text/plain": [
       "3162277.6601683795"
      ]
     },
     "execution_count": 11,
     "metadata": {},
     "output_type": "execute_result"
    }
   ],
   "source": [
    "(sqrt-new 10000000000000)"
   ]
  }
 ],
 "metadata": {
  "kernelspec": {
   "display_name": "Calysto Scheme 3",
   "language": "scheme",
   "name": "calysto_scheme"
  },
  "language_info": {
   "codemirror_mode": {
    "name": "scheme"
   },
   "mimetype": "text/x-scheme",
   "name": "scheme",
   "pygments_lexer": "scheme"
  }
 },
 "nbformat": 4,
 "nbformat_minor": 4
}
