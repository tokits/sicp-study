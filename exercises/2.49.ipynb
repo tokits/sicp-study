{
 "cells": [
  {
   "cell_type": "markdown",
   "metadata": {},
   "source": [
    "### 練習問題2.49\n",
    "segments->painterを使って、以下の基本ペインタを定義せよ。  \n",
    "\n",
    "- a. 指定された枠の輪郭を描くペインタ。\n",
    "- b. 枠の対⾓線同⼠をつないで\"X\"を描くペインタ。\n",
    "- c. 枠の辺の中点をつないで菱形を描くペインタ。 \n",
    "- d. waveペインタ。\n"
   ]
  },
  {
   "cell_type": "code",
   "execution_count": 1,
   "metadata": {
    "jupyter": {
     "source_hidden": true
    }
   },
   "outputs": [],
   "source": [
    "; 線形変換\n",
    "; 通常の行列計算より最適化してある。\n",
    "; transform-painter手続きで線形変換だけ必要だったので、\n",
    "; frame-coord-map手続きのアフィン変換と分離した。\n",
    "(define (linear-transform frame v)\n",
    "  (let ((edge1 (edge1-frame frame))\n",
    "        (edge2 (edge2-frame frame)))\n",
    "    (let ((x (xcor-vect v))\n",
    "          (y (ycor-vect v)))\n",
    "      (add-vect (scale-vect x edge1) (scale-vect y edge2))\n",
    "     )\n",
    "    )\n",
    "  )\n",
    "\n",
    "\n",
    "; テキストの実装から変更している。\n",
    "; 通常の線形変換の数式に沿っている。\n",
    "(define (frame-coord-map frame)\n",
    "  (lambda (v)\n",
    "    (let ((edge1 (edge1-frame frame))\n",
    "          (edge2 (edge2-frame frame)))\n",
    "      (add-vect\n",
    "       (origin-frame frame)\n",
    "       (linear-transform frame v)\n",
    "      )\n",
    "     )\n",
    "    )\n",
    "  )\n",
    "\n",
    "; ベクトルコンストラクタ・セレクタ\n",
    "(define (make-vect x y) (cons x y))\n",
    "(define (xcor-vect v)(car v))\n",
    "(define (ycor-vect v)(cdr v))\n",
    "\n",
    "; ベクトル演算\n",
    "(define (add-vect v1 v2)\n",
    "  (make-vect (+ (xcor-vect v1)\n",
    "                (xcor-vect v2))\n",
    "             (+ (ycor-vect v1)\n",
    "                (ycor-vect v2))))\n",
    "(define (sub-vect v1 v2)\n",
    "  (make-vect (- (xcor-vect v1)\n",
    "                (xcor-vect v2))\n",
    "             (- (ycor-vect v1)\n",
    "                (ycor-vect v2))))\n",
    "(define (scale-vect s v)\n",
    "  (make-vect (* s (xcor-vect v))\n",
    "             (* s (ycor-vect v))))\n",
    "\n",
    "; フレームコンストラクタ・セレクタ\n",
    "(define (make-frame origin edge1 edge2)(list origin edge1 edge2))\n",
    "(define (origin-frame frame)(car frame))\n",
    "(define (edge1-frame frame)(cadr frame))\n",
    "(define (edge2-frame frame)(caddr frame))\n",
    "\n",
    "; 線分コンストラクタ・セレクタ\n",
    "(define (make-segment v1 v2)(cons v1 v2))\n",
    "(define (start-segment seg)(car seg))\n",
    "(define (end-segment seg)(cdr seg))\n",
    "\n",
    "; ペインタ\n",
    "(define (segments->painter segment-list)\n",
    "  (lambda (frame)\n",
    "    (for-each\n",
    "     (lambda (segment)\n",
    "       (draw-line\n",
    "        ((frame-coord-map frame) (start-segment segment))\n",
    "        ((frame-coord-map frame) (end-segment segment))))\n",
    "     segment-list)))\n",
    "\n",
    "; ペインタ変換と組み合わせ\n",
    "(define (transform-painter painter origin corner1 corner2)\n",
    "  (lambda (frame)\n",
    "    (let ((m (frame-coord-map frame)))\n",
    "      (let ((new-origin (m origin)))\n",
    "        (painter\n",
    "         (make-frame new-origin\n",
    "                     (linear-transform frame corner1)\n",
    "                     (linear-transform frame corner2)\n",
    "                     )\n",
    "         )\n",
    "        )\n",
    "      )\n",
    "    )\n",
    "  )\n",
    "\n",
    "\n",
    "; 線形変換のベクトルは変更\n",
    "(define (flip-vert painter)\n",
    "  (transform-painter painter\n",
    "                     ;(make-vect 0.0 1.0)\n",
    "                     ;(make-vect 1.0 1.0)\n",
    "                     ;(make-vect 0.0 0.0)\n",
    "                     (make-vect 0.0 1.0)\n",
    "                     (make-vect 1.0 0.0)\n",
    "                     (make-vect 0.0 -1.0)\n",
    "    )\n",
    "  )\n",
    "\n",
    "; 線形変換のベクトルは変更\n",
    "(define (beside painter1 painter2)\n",
    "  (let ((split-point (make-vect 0.5 0.0)))\n",
    "    (let ((paint-left\n",
    "           (transform-painter painter1\n",
    "                              (make-vect 0.0 0.0)\n",
    "                              split-point\n",
    "                              (make-vect 0.0 1.0)\n",
    "                              )\n",
    "           )\n",
    "          (paint-right\n",
    "           (transform-painter painter2\n",
    "                              ;split-point\n",
    "                              ;(make-vect 1.0 0.0)\n",
    "                              ;(make-vect 0.5 1.0)\n",
    "                              split-point\n",
    "                              split-point\n",
    "                              (make-vect 0.0 1.0)\n",
    "                              )\n",
    "           )\n",
    "          )\n",
    "      (lambda (frame)\n",
    "        (paint-left frame)\n",
    "        (paint-right frame)))))\n",
    "\n",
    "(define (below painter1 painter2)\n",
    "  (let ((split-point (make-vect 0.0 0.5)))\n",
    "    (let ((paint-below\n",
    "           (transform-painter painter1\n",
    "                              (make-vect 0.0 0.0)\n",
    "                              (make-vect 1.0 0.0)\n",
    "                              split-point))\n",
    "          (paint-above\n",
    "           (transform-painter painter2\n",
    "                              split-point\n",
    "                              (make-vect 1.0 0.0)\n",
    "                              (make-vect 0.0 0.5))))\n",
    "      (lambda (frame)\n",
    "        (paint-below frame)\n",
    "        (paint-above frame)))))\n",
    "\n",
    "(import-as \"picseg\" 'pic)\n",
    "\n",
    "(define (draw-line v1 v2)\n",
    "  (let ((start-x (xcor-vect v1))\n",
    "        (start-y (ycor-vect v1))\n",
    "        (end-x (xcor-vect v2))\n",
    "        (end-y (ycor-vect v2)))\n",
    "    (pic.draw_line start-x start-y end-x end-y)\n",
    "    ;(display \"(\")\n",
    "    ;(display start-x)\n",
    "    ;(display \",\")\n",
    "    ;(display start-y)\n",
    "    ;(display \") (\")\n",
    "    ;(display end-x)\n",
    "    ;(display \",\")\n",
    "    ;(display end-y)\n",
    "    ;(display \")\")\n",
    "    ;(newline)\n",
    "    )\n",
    "  )\n",
    "\n",
    "; ペインタの動作確認\n",
    "(define (paint painter)\n",
    "  (let ((frame0 (make-frame\n",
    "                            (make-vect 0 0)\n",
    "                            (make-vect 1 0)\n",
    "                            (make-vect 0 1))))\n",
    "    (pic.clear)\n",
    "    (painter frame0)\n",
    "    (pic.update)\n",
    "    )\n",
    "  )"
   ]
  },
  {
   "cell_type": "code",
   "execution_count": 2,
   "metadata": {},
   "outputs": [
    {
     "data": {
      "image/svg+xml": [
       "<svg baseProfile=\"full\" height=\"256\" version=\"1.1\" width=\"256\" xmlns=\"http://www.w3.org/2000/svg\" xmlns:ev=\"http://www.w3.org/2001/xml-events\" xmlns:xlink=\"http://www.w3.org/1999/xlink\"><defs /><line fill=\"#800080\" stroke=\"#000000\" stroke-width=\"1\" x1=\"0\" x2=\"0\" y1=\"256\" y2=\"0\" /><line fill=\"#800080\" stroke=\"#000000\" stroke-width=\"1\" x1=\"0\" x2=\"256\" y1=\"0\" y2=\"0\" /><line fill=\"#800080\" stroke=\"#000000\" stroke-width=\"1\" x1=\"256\" x2=\"256\" y1=\"0\" y2=\"256\" /><line fill=\"#800080\" stroke=\"#000000\" stroke-width=\"1\" x1=\"256\" x2=\"0\" y1=\"256\" y2=\"256\" /></svg>"
      ],
      "text/plain": [
       "<Canvas (256, 256)>"
      ]
     },
     "metadata": {},
     "output_type": "display_data"
    }
   ],
   "source": [
    "; a.指定された枠の輪郭を描くペインタ。\n",
    "(define (rect s)\n",
    "  (lambda (frame)\n",
    "    ((segments->painter\n",
    "      (list (make-segment (make-vect 0 0) (make-vect 0 s))\n",
    "            (make-segment (make-vect 0 s) (make-vect s s))\n",
    "            (make-segment (make-vect s s) (make-vect s 0))\n",
    "            (make-segment (make-vect s 0) (make-vect 0 0)))) frame)))\n",
    "\n",
    "(paint (rect 1))"
   ]
  },
  {
   "cell_type": "code",
   "execution_count": 3,
   "metadata": {},
   "outputs": [
    {
     "data": {
      "image/svg+xml": [
       "<svg baseProfile=\"full\" height=\"256\" version=\"1.1\" width=\"256\" xmlns=\"http://www.w3.org/2000/svg\" xmlns:ev=\"http://www.w3.org/2001/xml-events\" xmlns:xlink=\"http://www.w3.org/1999/xlink\"><defs /><line fill=\"#800080\" stroke=\"#000000\" stroke-width=\"1\" x1=\"0\" x2=\"256\" y1=\"256\" y2=\"0\" /><line fill=\"#800080\" stroke=\"#000000\" stroke-width=\"1\" x1=\"0\" x2=\"256\" y1=\"0\" y2=\"256\" /></svg>"
      ],
      "text/plain": [
       "<Canvas (256, 256)>"
      ]
     },
     "metadata": {},
     "output_type": "display_data"
    }
   ],
   "source": [
    "; b.枠の対⾓線同⼠をつないで\"X\"を描くペインタ。\n",
    "(define (rect-x s)\n",
    "  (lambda (frame)\n",
    "    ((segments->painter\n",
    "      (list (make-segment (make-vect 0 0) (make-vect s s))\n",
    "            (make-segment (make-vect 0 s) (make-vect s 0)))) frame)))\n",
    "\n",
    "(paint (rect-x 1))"
   ]
  },
  {
   "cell_type": "code",
   "execution_count": 4,
   "metadata": {},
   "outputs": [
    {
     "data": {
      "image/svg+xml": [
       "<svg baseProfile=\"full\" height=\"256\" version=\"1.1\" width=\"256\" xmlns=\"http://www.w3.org/2000/svg\" xmlns:ev=\"http://www.w3.org/2001/xml-events\" xmlns:xlink=\"http://www.w3.org/1999/xlink\"><defs /><line fill=\"#800080\" stroke=\"#000000\" stroke-width=\"1\" x1=\"0\" x2=\"128\" y1=\"128\" y2=\"0\" /><line fill=\"#800080\" stroke=\"#000000\" stroke-width=\"1\" x1=\"128\" x2=\"256\" y1=\"0\" y2=\"128\" /><line fill=\"#800080\" stroke=\"#000000\" stroke-width=\"1\" x1=\"256\" x2=\"128\" y1=\"128\" y2=\"256\" /><line fill=\"#800080\" stroke=\"#000000\" stroke-width=\"1\" x1=\"128\" x2=\"0\" y1=\"256\" y2=\"128\" /></svg>"
      ],
      "text/plain": [
       "<Canvas (256, 256)>"
      ]
     },
     "metadata": {},
     "output_type": "display_data"
    }
   ],
   "source": [
    "; c.枠の辺の中点をつないで菱形を描くペインタ。\n",
    "(define (dia s)\n",
    "  (let ((c (/ s 2)))\n",
    "    (lambda (frame)\n",
    "      ((segments->painter\n",
    "        (list (make-segment (make-vect 0 c) (make-vect c s))\n",
    "              (make-segment (make-vect c s) (make-vect s c))\n",
    "              (make-segment (make-vect s c) (make-vect c 0))\n",
    "              (make-segment (make-vect c 0) (make-vect 0 c)))) frame))\n",
    "    )\n",
    "  )\n",
    "\n",
    "(paint (dia 1))"
   ]
  },
  {
   "cell_type": "code",
   "execution_count": 5,
   "metadata": {},
   "outputs": [
    {
     "data": {
      "image/svg+xml": [
       "<svg baseProfile=\"full\" height=\"256\" version=\"1.1\" width=\"256\" xmlns=\"http://www.w3.org/2000/svg\" xmlns:ev=\"http://www.w3.org/2001/xml-events\" xmlns:xlink=\"http://www.w3.org/1999/xlink\"><defs /><line fill=\"#800080\" stroke=\"#000000\" stroke-width=\"1\" x1=\"0.0\" x2=\"39.424\" y1=\"90.88\" y2=\"150.784\" /><line fill=\"#800080\" stroke=\"#000000\" stroke-width=\"1\" x1=\"39.424\" x2=\"77.312\" y1=\"150.784\" y2=\"105.47200000000001\" /><line fill=\"#800080\" stroke=\"#000000\" stroke-width=\"1\" x1=\"77.312\" x2=\"90.624\" y1=\"105.47200000000001\" y2=\"128.768\" /><line fill=\"#800080\" stroke=\"#000000\" stroke-width=\"1\" x1=\"90.624\" x2=\"62.72\" y1=\"128.768\" y2=\"256.0\" /><line fill=\"#800080\" stroke=\"#000000\" stroke-width=\"1\" x1=\"107.264\" x2=\"127.232\" y1=\"256.0\" y2=\"212.224\" /><line fill=\"#800080\" stroke=\"#000000\" stroke-width=\"1\" x1=\"127.232\" x2=\"147.2\" y1=\"212.224\" y2=\"256.0\" /><line fill=\"#800080\" stroke=\"#000000\" stroke-width=\"1\" x1=\"191.488\" x2=\"154.88\" y1=\"256.0\" y2=\"137.728\" /><line fill=\"#800080\" stroke=\"#000000\" stroke-width=\"1\" x1=\"154.88\" x2=\"256.0\" y1=\"137.728\" y2=\"219.648\" /><line fill=\"#800080\" stroke=\"#000000\" stroke-width=\"1\" x1=\"256.0\" x2=\"191.488\" y1=\"165.376\" y2=\"87.80799999999999\" /><line fill=\"#800080\" stroke=\"#000000\" stroke-width=\"1\" x1=\"191.488\" x2=\"148.992\" y1=\"87.80799999999999\" y2=\"87.80799999999999\" /><line fill=\"#800080\" stroke=\"#000000\" stroke-width=\"1\" x1=\"148.992\" x2=\"163.84\" y1=\"87.80799999999999\" y2=\"36.608000000000004\" /><line fill=\"#800080\" stroke=\"#000000\" stroke-width=\"1\" x1=\"163.84\" x2=\"147.2\" y1=\"36.608000000000004\" y2=\"0.0\" /><line fill=\"#800080\" stroke=\"#000000\" stroke-width=\"1\" x1=\"107.264\" x2=\"90.624\" y1=\"0.0\" y2=\"36.608000000000004\" /><line fill=\"#800080\" stroke=\"#000000\" stroke-width=\"1\" x1=\"90.624\" x2=\"105.216\" y1=\"36.608000000000004\" y2=\"87.80799999999999\" /><line fill=\"#800080\" stroke=\"#000000\" stroke-width=\"1\" x1=\"105.216\" x2=\"72.96\" y1=\"87.80799999999999\" y2=\"87.80799999999999\" /><line fill=\"#800080\" stroke=\"#000000\" stroke-width=\"1\" x1=\"72.96\" x2=\"39.424\" y1=\"87.80799999999999\" y2=\"101.12\" /><line fill=\"#800080\" stroke=\"#000000\" stroke-width=\"1\" x1=\"39.424\" x2=\"0.0\" y1=\"101.12\" y2=\"36.608000000000004\" /></svg>"
      ],
      "text/plain": [
       "<Canvas (256, 256)>"
      ]
     },
     "metadata": {},
     "output_type": "display_data"
    }
   ],
   "source": [
    "; d.waveペインタ\n",
    "; 以下のサイトを参照しました。\n",
    "; https://gist.github.com/tkmr/28498\n",
    "(define wave\n",
    "  (lambda (frame)\n",
    "    ((segments->painter\n",
    "      (list (make-segment (make-vect 0.000 0.645) (make-vect 0.154 0.411))\n",
    "            (make-segment (make-vect 0.154 0.411) (make-vect 0.302 0.588))\n",
    "            (make-segment (make-vect 0.302 0.588) (make-vect 0.354 0.497))\n",
    "            (make-segment (make-vect 0.354 0.497) (make-vect 0.245 0.000))\n",
    "            (make-segment (make-vect 0.419 0.000) (make-vect 0.497 0.171))\n",
    "            (make-segment (make-vect 0.497 0.171) (make-vect 0.575 0.000))\n",
    "            (make-segment (make-vect 0.748 0.000) (make-vect 0.605 0.462))\n",
    "            (make-segment (make-vect 0.605 0.462) (make-vect 1.000 0.142))\n",
    "            (make-segment (make-vect 1.000 0.354) (make-vect 0.748 0.657))\n",
    "            (make-segment (make-vect 0.748 0.657) (make-vect 0.582 0.657))\n",
    "            (make-segment (make-vect 0.582 0.657) (make-vect 0.640 0.857))\n",
    "            (make-segment (make-vect 0.640 0.857) (make-vect 0.575 1.000))\n",
    "            (make-segment (make-vect 0.419 1.000) (make-vect 0.354 0.857))\n",
    "            (make-segment (make-vect 0.354 0.857) (make-vect 0.411 0.657))\n",
    "            (make-segment (make-vect 0.411 0.657) (make-vect 0.285 0.657))\n",
    "            (make-segment (make-vect 0.285 0.657) (make-vect 0.154 0.605))\n",
    "            (make-segment (make-vect 0.154 0.605) (make-vect 0.000 0.857)))) frame)))\n",
    "\n",
    "\n",
    "(paint wave)"
   ]
  }
 ],
 "metadata": {
  "kernelspec": {
   "display_name": "Calysto Scheme 3",
   "language": "scheme",
   "name": "calysto_scheme"
  },
  "language_info": {
   "codemirror_mode": {
    "name": "scheme"
   },
   "mimetype": "text/x-scheme",
   "name": "scheme",
   "pygments_lexer": "scheme"
  }
 },
 "nbformat": 4,
 "nbformat_minor": 4
}
