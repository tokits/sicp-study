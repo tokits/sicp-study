{
 "cells": [
  {
   "cell_type": "markdown",
   "metadata": {},
   "source": [
    "### 練習問題1.31\n",
    "a.  \n",
    "sum⼿続きは、⾼階⼿続きとして表せる数多くの似たような抽象化の中で、  \n",
    "最も単純なものにすぎない。  \n",
    "特定範囲の点における関数の値の積を返す似たような仕組みの⼿続きを、  \n",
    "productという名前で書け。  \n",
    "productを使ってfactorialを定義するやり⽅を⽰せ。  \n",
    "また、次の公式を使って、product によって${\\pi}$の近似値を計算せよ。   \n",
    "\n",
    "$\\frac{\\pi}{4}=\\frac{2\\cdot4\\cdot4\\cdot6\\cdot6\\cdot8 \\cdots}{3\\cdot3\\cdot5\\cdot5\\cdot7\\cdot7 \\cdots}$  "
   ]
  },
  {
   "cell_type": "markdown",
   "metadata": {},
   "source": [
    "b.  \n",
    "あなたが書いたproduct⼿続きが再帰プロセスを⽣成するのであれば、  \n",
    "線形プロセスを⽣成するものを書け。  \n",
    "線形プロセスを⽣成するのであれば、\n",
    "再帰プロセスを⽣成するものを書け。"
   ]
  },
  {
   "cell_type": "code",
   "execution_count": 1,
   "metadata": {},
   "outputs": [
    {
     "data": {
      "text/plain": [
       "24"
      ]
     },
     "execution_count": 1,
     "metadata": {},
     "output_type": "execute_result"
    }
   ],
   "source": [
    "; 線形反復プロセス\n",
    "(define (product term a next b)\n",
    "  (define (iter a result)\n",
    "    (if (> a b) result\n",
    "        (iter (next a) (* result (term a)))\n",
    "        )\n",
    "    )\n",
    "  (iter a 1)\n",
    "  )\n",
    "\n",
    "; aからbまでの整数の積\n",
    "(define (factorial a b)\n",
    "  (product (lambda (x) x) a (lambda (n)(+ n 1)) b)\n",
    "  )\n",
    "(factorial 1 4)"
   ]
  },
  {
   "cell_type": "code",
   "execution_count": 2,
   "metadata": {},
   "outputs": [
    {
     "data": {
      "text/plain": [
       "3.141200053639707"
      ]
     },
     "execution_count": 2,
     "metadata": {},
     "output_type": "execute_result"
    }
   ],
   "source": [
    "; 線形反復プロセス\n",
    "(define (product term a next b)\n",
    "  (define (iter a result)\n",
    "    (if (> a b) result\n",
    "        (iter (next a) (* result (term a)))\n",
    "        )\n",
    "    )\n",
    "  (iter a 1)\n",
    "  )\n",
    "\n",
    "(define (pi-product a b)\n",
    "  (define (pi-term x)(/ (* (+ x 3) (+ x 3)) (* (+ x 2) (+ x 2))))\n",
    "  (define (pi-next x)(+ x 2))\n",
    "  (/ (* 2 (product pi-term a pi-next b)) (pi-next (+ b 3)))\n",
    "  )\n",
    "\n",
    "(* 4.0 (pi-product 1 20000))"
   ]
  },
  {
   "cell_type": "code",
   "execution_count": 3,
   "metadata": {},
   "outputs": [
    {
     "name": "stdout",
     "output_type": "stream",
     "text": [
      "24\n",
      "3.1337781362620207\n"
     ]
    }
   ],
   "source": [
    "; 線形再帰プロセス\n",
    "(define (product term a next b)\n",
    "  (if (> a b) 1\n",
    "      (* (term a) (product term (next a) next b))\n",
    "    )\n",
    "  )\n",
    "\n",
    "; aからbまでの整数の積\n",
    "(define (factorial a b)\n",
    "  (product (lambda (x) x) a (lambda (n)(+ n 1)) b)\n",
    "  )\n",
    "(display (factorial 1 4))\n",
    "(newline)\n",
    "(display (* 4.0 (pi-product 1 1000)))\n",
    "(newline)"
   ]
  }
 ],
 "metadata": {
  "kernelspec": {
   "display_name": "Calysto Scheme 3",
   "language": "scheme",
   "name": "calysto_scheme"
  },
  "language_info": {
   "codemirror_mode": {
    "name": "scheme"
   },
   "mimetype": "text/x-scheme",
   "name": "scheme",
   "pygments_lexer": "scheme"
  }
 },
 "nbformat": 4,
 "nbformat_minor": 4
}
