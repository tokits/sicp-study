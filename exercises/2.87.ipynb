{
 "cells": [
  {
   "cell_type": "markdown",
   "metadata": {},
   "source": [
    "### 練習問題2.87\n",
    "多項式に対する =zero? をジェネリック数値演算パッケージに組み込め。<br />\n",
    "こうすることで、係数がそれ⾃⾝多項式となっている多項式に対して adjoin-term が動作するようになる。"
   ]
  },
  {
   "cell_type": "markdown",
   "metadata": {},
   "source": [
    "; グローバルに以下を追加\n",
    "\n",
    "    (define (=zero? x) (apply-generic '=zero? x))    ;追加手続き\n",
    "\n",
    "; scheme-numberに以下を追加\n",
    "\n",
    "    (put '=zero? '(scheme-number) (lambda (x) (= x 0)))    ;追加手続き\n",
    "  \n",
    "; polynomialに以下を追加\n",
    "\n",
    "    (put '=zero? '(polynomial) (lambda (p) (zero-terms (term-list p))))  ; 追加手続き\n",
    "    (define (zero-terms L)\n",
    "    (if (empty-termlist? L) #t\n",
    "        (let ((t1 (first-term L)))\n",
    "          (if (not (=zero? (coeff t1))) #f\n",
    "              (zero-terms (rest-terms L))\n",
    "          )\n",
    "          )\n",
    "        )\n",
    "    )\n",
    "\n",
    "; 他の型については省略"
   ]
  }
 ],
 "metadata": {
  "kernelspec": {
   "display_name": "Calysto Scheme 3",
   "language": "scheme",
   "name": "calysto_scheme"
  },
  "language_info": {
   "codemirror_mode": {
    "name": "scheme"
   },
   "mimetype": "text/x-scheme",
   "name": "scheme",
   "pygments_lexer": "scheme"
  }
 },
 "nbformat": 4,
 "nbformat_minor": 4
}
