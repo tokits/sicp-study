{
 "cells": [
  {
   "cell_type": "markdown",
   "metadata": {},
   "source": [
    "### 練習問題2.41\n",
    "ある整数$n$以下の異なる正の整数が大きい順に並んだ三つ組$i,j,k$の中で、  \n",
    "合計がある整数$s$となるものすべてを見つける手続きを書け。"
   ]
  },
  {
   "cell_type": "code",
   "execution_count": 1,
   "metadata": {},
   "outputs": [
    {
     "data": {
      "text/plain": [
       "((3 2 1) (4 2 1) (4 3 1) (4 3 2) (5 2 1) (5 3 1) (5 3 2) (5 4 1) (5 4 2) (5 4 3))"
      ]
     },
     "execution_count": 1,
     "metadata": {},
     "output_type": "execute_result"
    }
   ],
   "source": [
    "; 集積\n",
    "(define (accumulate op initial sequence)\n",
    "  (if (null? sequence) initial\n",
    "      (op (car sequence) (accumulate op initial (cdr sequence)))))\n",
    "\n",
    "; 整数列の列挙\n",
    "(define (enumerate-interval low high)\n",
    "  (if (> low high) '()\n",
    "      (cons low (enumerate-interval (+ low 1) high))))\n",
    "\n",
    "(define (flatmap proc seq)\n",
    "  (accumulate append '() (map proc seq)))\n",
    "\n",
    "; n以下の異なる正の整数が降順に並んだ3つ組(𝑖,𝑗,𝑘)のリスト\n",
    "(define (unique-list n)\n",
    "  (accumulate append '()\n",
    "              (map (lambda (i)\n",
    "                       (flatmap (lambda (j)\n",
    "                              (map (lambda (k) (list i j k)) (enumerate-interval 1 (- j 1)))\n",
    "                              )\n",
    "                            (enumerate-interval 1 (- i 1))\n",
    "                            )\n",
    "                         )\n",
    "                     (enumerate-interval 1 n)\n",
    "                    )\n",
    "    )\n",
    "  )\n",
    "(unique-list 5)"
   ]
  },
  {
   "cell_type": "code",
   "execution_count": 2,
   "metadata": {},
   "outputs": [
    {
     "data": {
      "text/plain": [
       "((5 3 2) (5 4 1))"
      ]
     },
     "execution_count": 2,
     "metadata": {},
     "output_type": "execute_result"
    }
   ],
   "source": [
    "(define (sum l)\n",
    "    (if (null? l) 0\n",
    "        (+ (car l) (sum (cdr l))))\n",
    "  )\n",
    "\n",
    "; フィルタリング\n",
    "(define (filter predicate sequence)\n",
    "  (cond ((null? sequence) '())\n",
    "        ((predicate (car sequence))(cons (car sequence) (filter predicate (cdr sequence))))\n",
    "        (else (filter predicate (cdr sequence))))\n",
    "  )\n",
    "  \n",
    ";(make-list-sum (list 1 2 3))\n",
    ";(sum-equals? (list 7 1 2 3))\n",
    ";(sum (list 1 2 3))\n",
    "\n",
    "; 回答\n",
    "(define (sum-list n s)\n",
    "  ;(accumulate cons '() (filter (lambda (l)(= s (sum l))) (unique-list n)))\n",
    "  (filter (lambda (l)(= s (sum l))) (unique-list n))\n",
    "  )\n",
    "\n",
    "; 動作確認\n",
    "(sum-list 5 10)"
   ]
  },
  {
   "cell_type": "code",
   "execution_count": 3,
   "metadata": {},
   "outputs": [
    {
     "data": {
      "text/plain": [
       "((6 4 3 2) (6 5 3 1) (7 4 3 1) (7 5 2 1))"
      ]
     },
     "execution_count": 3,
     "metadata": {},
     "output_type": "execute_result"
    }
   ],
   "source": [
    "; マップと集積をappendによって組み合わせる処理はよく使われるので、\n",
    "; 独立した⼿続きとして実装する。\n",
    "(define (flatmap proc seq)\n",
    "  (accumulate append '() (map proc seq)))\n",
    "\n",
    "; リストが大きい順にならんでいるかどうか\n",
    "(define (order? l)\n",
    "  ;(display l)\n",
    "  ;(newline)\n",
    "  (cond ((null? l) #t)\n",
    "        ((null? (cdr l)) #t)\n",
    "        (else (and (> (car l) (cadr l))\n",
    "                   (order? (cdr l))\n",
    "            )\n",
    "        )\n",
    "    )\n",
    "  )\n",
    "\n",
    "; ネストしたループでの実装\n",
    "; 変数の個数も可変にした場合\n",
    "; depth:変数の個数\n",
    "(define (sum-list2 n s depth)\n",
    "  (define (iter k)\n",
    "    (if (= k 0) (list ())\n",
    "        (filter order?\n",
    "          (flatmap (lambda (rest)\n",
    "                    (map (lambda (new-row) (append rest (list new-row)))\n",
    "                         (enumerate-interval 1 n))\n",
    "                    )\n",
    "                  (iter (- k 1))\n",
    "          )\n",
    "         )\n",
    "        )\n",
    "    )\n",
    "  (filter (lambda (l)(= s (sum l))) (iter depth))\n",
    "  ;(iter depth)\n",
    "  )\n",
    "(sum-list2 7 15 4)\n",
    ";(sum-list2 5 10 3)"
   ]
  }
 ],
 "metadata": {
  "kernelspec": {
   "display_name": "Calysto Scheme 3",
   "language": "scheme",
   "name": "calysto_scheme"
  },
  "language_info": {
   "codemirror_mode": {
    "name": "scheme"
   },
   "mimetype": "text/x-scheme",
   "name": "scheme",
   "pygments_lexer": "scheme"
  }
 },
 "nbformat": 4,
 "nbformat_minor": 4
}
