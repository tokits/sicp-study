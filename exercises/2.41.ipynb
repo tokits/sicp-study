{
 "cells": [
  {
   "cell_type": "markdown",
   "metadata": {},
   "source": [
    "### 練習問題2.41\n",
    "ある整数n以下の異なる正の整数が⼤⼩順に並んだ三つ組$i,j,k$の中で、  \n",
    "合計がある整数$s$となるものすべてを⾒つける⼿続きを書け。"
   ]
  },
  {
   "cell_type": "code",
   "execution_count": 1,
   "metadata": {},
   "outputs": [
    {
     "data": {
      "text/plain": [
       "((3 2 1) (4 2 1) (4 3 1) (4 3 2) (5 2 1) (5 3 1) (5 3 2) (5 4 1) (5 4 2) (5 4 3))"
      ]
     },
     "execution_count": 1,
     "metadata": {},
     "output_type": "execute_result"
    }
   ],
   "source": [
    "; 集積\n",
    "(define (accumulate op initial sequence)\n",
    "  (if (null? sequence) initial\n",
    "      (op (car sequence) (accumulate op initial (cdr sequence)))))\n",
    "\n",
    "; 整数列の列挙\n",
    "(define (enumerate-interval low high)\n",
    "  (if (> low high) '()\n",
    "      (cons low (enumerate-interval (+ low 1) high))))\n",
    "\n",
    "; 回答\n",
    "(define (unique-pairs n)\n",
    "  (accumulate append '()\n",
    "              (map (lambda (i)\n",
    "                   (map (lambda (j) (list i j))\n",
    "                        (enumerate-interval 1 (- i 1)))\n",
    "                   )\n",
    "                 (enumerate-interval 1 n)\n",
    "                 )\n",
    "    )\n",
    "  )\n",
    "\n",
    ";(unique-pairs 4)\n",
    "\n",
    "(define (flatmap proc seq)\n",
    "  (accumulate append '() (map proc seq)))\n",
    "\n",
    "; n以下の異なる正の整数が降順に並んだ3つ組(𝑖,𝑗,𝑘)のリスト\n",
    "(define (unique-list n)\n",
    "  (accumulate append '()\n",
    "              (map (lambda (i)\n",
    "                       (flatmap (lambda (j)\n",
    "                              (map (lambda (k) (list i j k)) (enumerate-interval 1 (- j 1)))\n",
    "                              )\n",
    "                            (enumerate-interval 1 (- i 1))\n",
    "                            )\n",
    "                         )\n",
    "                     (enumerate-interval 1 n)\n",
    "                    )\n",
    "    )\n",
    "  )\n",
    "(unique-list 5)"
   ]
  },
  {
   "cell_type": "code",
   "execution_count": 2,
   "metadata": {},
   "outputs": [
    {
     "data": {
      "text/plain": [
       "((5 3 2) (5 4 1))"
      ]
     },
     "execution_count": 2,
     "metadata": {},
     "output_type": "execute_result"
    }
   ],
   "source": [
    "(define (sum l)\n",
    "    (if (null? l) 0\n",
    "        (+ (car l) (sum (cdr l))))\n",
    "  )\n",
    "\n",
    "; フィルタリング\n",
    "(define (filter predicate sequence)\n",
    "  (cond ((null? sequence) '())\n",
    "        ((predicate (car sequence))(cons (car sequence) (filter predicate (cdr sequence))))\n",
    "        (else (filter predicate (cdr sequence))))\n",
    "  )\n",
    "  \n",
    ";(make-list-sum (list 1 2 3))\n",
    ";(sum-equals? (list 7 1 2 3))\n",
    ";(sum (list 1 2 3))\n",
    "\n",
    "; 回答\n",
    "(define (sum-list n s)\n",
    "  (accumulate cons '() (filter (lambda (l)(= s (sum l))) (unique-list n))\n",
    "    )\n",
    "  )\n",
    "\n",
    "; 動作確認\n",
    "(sum-list 5 10)"
   ]
  }
 ],
 "metadata": {
  "kernelspec": {
   "display_name": "Calysto Scheme 3",
   "language": "scheme",
   "name": "calysto_scheme"
  },
  "language_info": {
   "codemirror_mode": {
    "name": "scheme"
   },
   "mimetype": "text/x-scheme",
   "name": "scheme",
   "pygments_lexer": "scheme"
  }
 },
 "nbformat": 4,
 "nbformat_minor": 4
}
