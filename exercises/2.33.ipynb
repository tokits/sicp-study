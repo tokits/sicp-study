{
 "cells": [
  {
   "cell_type": "markdown",
   "metadata": {},
   "source": [
    "### 練習問題2.33\n",
    "基本的なリスト操作のいくつかを集積として定義したものを以下に⽰す。  \n",
    "⽋けている式を埋めて、完成させよ。  \n",
    "\n",
    "    (define (map p sequence)\n",
    "      (accumulate (lambda (x y) ⟨??⟩) nil sequence))\n",
    "    (define (append seq1 seq2)\n",
    "      (accumulate cons ⟨??⟩ ⟨??⟩))\n",
    "    (define (length sequence)\n",
    "      (accumulate ⟨??⟩ 0 sequence))"
   ]
  },
  {
   "cell_type": "code",
   "execution_count": 1,
   "metadata": {},
   "outputs": [],
   "source": [
    "; 集積\n",
    "(define (accumulate op initial sequence)\n",
    "  (if (null? sequence) initial\n",
    "      (op (car sequence) (accumulate op initial (cdr sequence)))))\n"
   ]
  },
  {
   "cell_type": "code",
   "execution_count": 2,
   "metadata": {},
   "outputs": [],
   "source": [
    "; 元の定義\n",
    ";(define (map proc items)\n",
    ";  (if (null? items) '()\n",
    ";      (cons (proc (car items)) (map proc (cdr items)))))\n",
    "\n",
    "; mapの回答\n",
    "(define (map proc items)\n",
    "  (accumulate (lambda (x y)\n",
    "                (cons (proc x) y)\n",
    "                )\n",
    "              '() items))"
   ]
  },
  {
   "cell_type": "code",
   "execution_count": 3,
   "metadata": {},
   "outputs": [
    {
     "data": {
      "text/plain": [
       "(0 1 1 2 3 5 8 13 21 34 55)"
      ]
     },
     "execution_count": 3,
     "metadata": {},
     "output_type": "execute_result"
    }
   ],
   "source": [
    "; mapの動作確認\n",
    "; フィボナッチ数列の偶数のもののリスト\n",
    "(define (fib n)\n",
    "  (cond ((= n 0) 0)\n",
    "        ((= n 1) 1) \n",
    "        (else (+ (fib (- n 1)) (fib (- n 2))))\n",
    "        )\n",
    "  )\n",
    "\n",
    "(map fib '(0 1 2 3 4 5 6 7 8 9 10))"
   ]
  },
  {
   "cell_type": "code",
   "execution_count": 4,
   "metadata": {},
   "outputs": [
    {
     "data": {
      "text/plain": [
       "(1 2 3 4 5 6 7)"
      ]
     },
     "execution_count": 4,
     "metadata": {},
     "output_type": "execute_result"
    }
   ],
   "source": [
    "; appendの回答\n",
    "(define (append seq1 seq2)\n",
    "  (accumulate cons seq2 seq1)\n",
    "  )\n",
    "\n",
    "; 動作確認\n",
    "(append '(1 2 3 4) '(5 6 7))"
   ]
  },
  {
   "cell_type": "code",
   "execution_count": 5,
   "metadata": {},
   "outputs": [
    {
     "data": {
      "text/plain": [
       "7"
      ]
     },
     "execution_count": 5,
     "metadata": {},
     "output_type": "execute_result"
    }
   ],
   "source": [
    "; lengthの回答\n",
    "(define (length sequence)\n",
    "  (accumulate (lambda (x y)\n",
    "                    (+ 1 y)\n",
    "                )\n",
    "              0 sequence))\n",
    "\n",
    "; 動作確認\n",
    "(length '(1 2 3 4 5 6 7))"
   ]
  }
 ],
 "metadata": {
  "kernelspec": {
   "display_name": "Calysto Scheme 3",
   "language": "scheme",
   "name": "calysto_scheme"
  },
  "language_info": {
   "codemirror_mode": {
    "name": "scheme"
   },
   "mimetype": "text/x-scheme",
   "name": "scheme",
   "pygments_lexer": "scheme"
  }
 },
 "nbformat": 4,
 "nbformat_minor": 4
}
