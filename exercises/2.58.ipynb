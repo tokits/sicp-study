{
 "cells": [
  {
   "cell_type": "markdown",
   "metadata": {},
   "source": [
    "### 練習問題2.58\n",
    "微分プログラムを修正して、+と\\*が前置演算⼦で はなく中置演算⼦となるような、  \n",
    "通常の数学の記法に対して動作させたいとする。  \n",
    "微分プログラムは抽象データによって定義されているので、  \n",
    "微分プログラムの動作基盤となる代数式の表現を定義する述語、  \n",
    "セレクタ、コンストラクタを変更するだけで、異なる表現を扱うように修正できる。\n",
    "\n",
    "- a. (x + (3 * (x + (y + 2))))のような中置記法で表された代数式を微分するにはどのようにするかを⽰せ。\n",
    "     問題を簡単に するため、+と\\*は常に⼆つの引数を取り、式は完全に括弧 でくくられていると仮定せよ。   \n",
    "     \n",
    "- b. (x + 3 * (x + y + 2))のような標準的な代数記法を認めると、  \n",
    "     問題はずっと難しくなる。この記法では、必要のない括弧は省略し、  \n",
    "     乗算は加算より先に⾏われると仮定している。   \n",
    "     ここでの微分プログラムがそのような記法に対してもうまく動くように、  \n",
    "     適切な述語、セレクタ、コンストラクタを設計 できるだろうか。\n"
   ]
  },
  {
   "cell_type": "markdown",
   "metadata": {},
   "source": [
    "bについては回答を割愛する。  \n",
    "演算子の優先順位、非演算子の取り出しなどが難しいと思われる。"
   ]
  },
  {
   "cell_type": "code",
   "execution_count": 1,
   "metadata": {},
   "outputs": [],
   "source": [
    "; aの回答\n",
    "\n",
    "(define (=number? exp num)(and (number? exp) (= exp num)))\n",
    "\n",
    "; eは変数か?\n",
    "(define (variable? x)(symbol? x)) \n",
    "\n",
    "; v1とv2は同じ変数か?\n",
    "(define (same-variable? v1 v2)(and (variable? v1) (variable? v2) (eq? v1 v2)))\n",
    "\n",
    "; eは和か?\n",
    "(define (sum? x)(and (pair? x) (eq? (cadr x) '+)))\n",
    "\n",
    "; 和eの加数\n",
    "(define (addend s)(car s))\n",
    "\n",
    "; 和eの被加数\n",
    "(define (augend s)(caddr s))\n",
    "\n",
    "; a1とa2の和を構築する\n",
    "(define (make-sum a1 a2)\n",
    "  (cond ((=number? a1 0) a2)\n",
    "        ((=number? a2 0) a1)\n",
    "        ((and (number? a1) (number? a2)) (+ a1 a2))\n",
    "        (else (list a1 '+ a2)))\n",
    "  )\n",
    "\n",
    ";eは積か?\n",
    "(define (product? x)(and (pair? x) (eq? (cadr x) '*))) \n",
    "\n",
    "; 積eの乗数\n",
    "(define (multiplier p)(car p))\n",
    "\n",
    ";積eの被乗数\n",
    "(define (multiplicand p)(caddr p))\n",
    "\n",
    "; m1とm2の積を構築する\n",
    "(define (make-product m1 m2)\n",
    "  (cond ((or (=number? m1 0) (=number? m2 0)) 0)\n",
    "        ((=number? m1 1) m2) ((=number? m2 1) m1)\n",
    "        ((and (number? m1) (number? m2)) (* m1 m2))\n",
    "        (else (list m1 '* m2))\n",
    "    )\n",
    "  )\n",
    "\n",
    ";eはべき乗か?\n",
    "(define (exponentiation? x)\n",
    "  (and (pair? x) (eq? (cadr x) '**))) \n",
    "\n",
    "; べき乗の基数\n",
    "(define (base x)(car x))\n",
    "\n",
    "; 指数\n",
    "(define (exponent x)(caddr x))\n",
    "\n",
    "; べき数を構築する\n",
    "(define (make-exponentiation m1 m2)\n",
    "  (cond ((=number? m2 0) 1)\n",
    "        ((=number? m2 1) m1)\n",
    "        ;((=number? m1 1) m2) ((=number? m2 1) m1)\n",
    "        ((and (number? m1) (number? m2) (> m2 0)) ((make-exponentiation (* m1 m1) (- m2 1))))\n",
    "        (else (list m1 '** m2)))\n",
    "  )\n",
    "\n",
    "\n",
    "(define (deriv exp var)\n",
    "  (cond ((number? exp) 0)\n",
    "        ((variable? exp) (if (same-variable? exp var) 1 0))\n",
    "        ((sum? exp) (make-sum (deriv (addend exp) var)\n",
    "                              (deriv (augend exp) var)))\n",
    "        ((product? exp) (make-sum (make-product (multiplier exp)\n",
    "                                                (deriv (multiplicand exp) var))\n",
    "                                  (make-product (deriv (multiplier exp) var) (multiplicand exp))))\n",
    "        ((exponentiation? exp)\n",
    "         (let ((u (base exp))\n",
    "               (e (exponent exp)))\n",
    "            (make-product (make-product e (make-exponentiation u (- e 1))) (deriv u var))\n",
    "           )\n",
    "         )\n",
    "        (else (error \"unknown expression type: DERIV\" exp)))\n",
    "  )"
   ]
  },
  {
   "cell_type": "code",
   "execution_count": 2,
   "metadata": {},
   "outputs": [
    {
     "data": {
      "text/plain": [
       "(x + x)"
      ]
     },
     "execution_count": 2,
     "metadata": {},
     "output_type": "execute_result"
    }
   ],
   "source": [
    "(deriv '(x * x) 'x)"
   ]
  },
  {
   "cell_type": "code",
   "execution_count": 3,
   "metadata": {},
   "outputs": [
    {
     "data": {
      "text/plain": [
       "((x * (x + x)) + (x * x))"
      ]
     },
     "execution_count": 3,
     "metadata": {},
     "output_type": "execute_result"
    }
   ],
   "source": [
    "(deriv '(x * (x * x)) 'x)"
   ]
  },
  {
   "cell_type": "code",
   "execution_count": 4,
   "metadata": {},
   "outputs": [
    {
     "data": {
      "text/plain": [
       "4"
      ]
     },
     "execution_count": 4,
     "metadata": {},
     "output_type": "execute_result"
    }
   ],
   "source": [
    "(deriv '(x + (3 * (x + (y + 2)))) 'x)"
   ]
  },
  {
   "cell_type": "code",
   "execution_count": 5,
   "metadata": {},
   "outputs": [
    {
     "data": {
      "text/plain": [
       "(2 * x)"
      ]
     },
     "execution_count": 5,
     "metadata": {},
     "output_type": "execute_result"
    }
   ],
   "source": [
    "(deriv '(x ** 2) 'x)"
   ]
  },
  {
   "cell_type": "code",
   "execution_count": 6,
   "metadata": {},
   "outputs": [
    {
     "data": {
      "text/plain": [
       "(3 * (x ** 2))"
      ]
     },
     "execution_count": 6,
     "metadata": {},
     "output_type": "execute_result"
    }
   ],
   "source": [
    "(deriv '(x ** 3) 'x)"
   ]
  }
 ],
 "metadata": {
  "kernelspec": {
   "display_name": "Calysto Scheme 3",
   "language": "scheme",
   "name": "calysto_scheme"
  },
  "language_info": {
   "codemirror_mode": {
    "name": "scheme"
   },
   "mimetype": "text/x-scheme",
   "name": "scheme",
   "pygments_lexer": "scheme"
  }
 },
 "nbformat": 4,
 "nbformat_minor": 4
}
