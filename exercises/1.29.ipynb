{
 "cells": [
  {
   "cell_type": "markdown",
   "metadata": {},
   "source": [
    "### 練習問題1.29\n",
    "シンプソンの公式は、上で⽰したものより正確な数値積分の⽅法である。  \n",
    "シンプソンの公式では、関数$f$の範囲$a$から$b$の定積分は次のように近似される。  \n",
    "\n",
    "$\\frac{h}{3}(y_{0}+4y_{1}+2y_{2}+4y_{3}+2y_{4}+\\cdots+2y_{n−2}+4y_{n−1}+y_{n})$  \n",
    "\n",
    "\n",
    "ここで、$n$を適当な偶整数として$h=(b−a)/n$で、$y_{k}=f(a+ kh)$\n",
    "である。($n$⼤きくすると近似の精度が上がる)。  \n",
    "$f, a, b, n$を引数に取り、シンプソンの公式によって計算した定積分の値を返す⼿続きを定義せよ。  \n",
    "その⼿続きを使い、($n=100$と$n=1000$で)cube の範囲$0$から $1$の定積分を求め、上で⽰したintegral⼿続きと結果を⽐較せよ。\n"
   ]
  },
  {
   "cell_type": "code",
   "execution_count": 1,
   "metadata": {},
   "outputs": [
    {
     "name": "stdout",
     "output_type": "stream",
     "text": [
      "0.25\n",
      "0.25\n"
     ]
    }
   ],
   "source": [
    "; 1つ項の計算式:term\n",
    "; 次の値を算出:next\n",
    "; 係数:coef\n",
    "(define (sum term next coef k n)\n",
    "  ;debug\n",
    "  ;(display k)\n",
    "  ;(display ':)\n",
    "  ;(display (coef k))\n",
    "  ;(newline)\n",
    "  (if (> k n) 0\n",
    "      (+ (* (coef k) (term (next k)))\n",
    "         (sum term next coef (+ k 1) n)\n",
    "         )\n",
    "    )\n",
    "  )\n",
    "\n",
    "(define (integral f a b n)\n",
    "  (define h (/ (- b a) n))\n",
    "  (define (next k)(+ a (* k h)))\n",
    "  (define (coef k)\n",
    "    (cond ((or (= k 0) (= k n)) 1)\n",
    "          ((= (% k 2) 1) 4)\n",
    "          (else 2)\n",
    "     )\n",
    "    )\n",
    "  (* (/ h 3.0) (sum f next coef 0 n))\n",
    "  )\n",
    "\n",
    "(define (cube x)(* x x x))\n",
    "(display (integral cube 0 1 100))\n",
    "(newline)\n",
    "(display (integral cube 0 1 1000))\n",
    "(newline)"
   ]
  },
  {
   "cell_type": "code",
   "execution_count": 2,
   "metadata": {},
   "outputs": [
    {
     "name": "stdout",
     "output_type": "stream",
     "text": [
      "0.3333333333333333\n",
      "0.5\n"
     ]
    }
   ],
   "source": [
    "(display (integral (lambda (x)(* x x)) 0 1 1000))\n",
    "(newline)\n",
    "(display (integral (lambda (x)x) 0 1 1000))\n",
    "(newline)"
   ]
  },
  {
   "cell_type": "code",
   "execution_count": 3,
   "metadata": {},
   "outputs": [
    {
     "name": "stdout",
     "output_type": "stream",
     "text": [
      "0.25\n",
      "0.25\n",
      "0.5\n"
     ]
    }
   ],
   "source": [
    "; 1つ項の計算式:term\n",
    "; 次の値を算出:next\n",
    "(define (sum term a next b)\n",
    "  (if (> a b) 0\n",
    "      (+ (term a)\n",
    "         (sum term (next a) next b))\n",
    "    )\n",
    "  )\n",
    "\n",
    "(define (integral f a b n)\n",
    "  (define h (/ (- b a) n))\n",
    "  (define (next a)(+ a h))\n",
    "  (define (coef k)\n",
    "    (cond ((or (= k 0) (= k n)) 1)\n",
    "          ((= (% k 2) 1) 4)\n",
    "          (else 2)\n",
    "     )\n",
    "    )\n",
    "  (define kk -1)\n",
    "  (define (term a)\n",
    "    (set! kk (+ kk 1))\n",
    "    ;debug\n",
    "    ;(display kk)\n",
    "    ;(display ':)\n",
    "    ;(display (coef kk))\n",
    "    ;(newline)\n",
    "    (* (coef kk) (f a))\n",
    "    )\n",
    "  (* (/ h 3.0) (sum term a next b))\n",
    "  )\n",
    "\n",
    "(define (cube x)(* x x x))\n",
    "(display (integral cube 0 1 100))\n",
    "(newline)\n",
    "(display (integral cube 0 1 1000))\n",
    "(newline)\n",
    "(display (integral (lambda (x) x) 0 1 100))\n",
    "(newline)"
   ]
  }
 ],
 "metadata": {
  "kernelspec": {
   "display_name": "Calysto Scheme 3",
   "language": "scheme",
   "name": "calysto_scheme"
  },
  "language_info": {
   "codemirror_mode": {
    "name": "scheme"
   },
   "mimetype": "text/x-scheme",
   "name": "scheme",
   "pygments_lexer": "scheme"
  }
 },
 "nbformat": 4,
 "nbformat_minor": 4
}
