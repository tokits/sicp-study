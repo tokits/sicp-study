{
 "cells": [
  {
   "cell_type": "markdown",
   "metadata": {},
   "source": [
    "### 練習問題1.26\n",
    "Louis Reasoner は 練習問題 1.24を解くのにだいぶ\n",
    "苦労している。彼の fast-prime? テストは、彼の prime? テストよ\n",
    "りだいぶ遅いようだ。Louis は友達の Eva Lu Ator に見てもらうこ\n",
    "とにした。⼆⼈で Louis のコードをよく⾒てみると、expmod手続\n",
    "きで square手続きを呼ぶのでなく、明示的にかけ算を使うように\n",
    "書き換えていることがわかった。\n",
    "\n",
    "    (define (expmod base exp m)\n",
    "      (cond ((= exp 0) 1)\n",
    "            ((even? exp)\n",
    "             (remainder (* (expmod base (/ exp 2) m) (expmod base (/ exp 2) m)) m))\n",
    "            (else (remainder (* base (expmod base (- exp 1) m)) m))))\n",
    "\n",
    "Louisは「何も違わないように⾒えるけど」と⾔っている。  \n",
    "Evaは「いや、違うって。⼿続きの書き⽅のせいで、  \n",
    "$\\Theta(\\log{n})$のプロセスが$\\Theta(n)$のプロセスになっちゃったんだよ」と⾔う。  \n",
    "説明せよ。"
   ]
  },
  {
   "cell_type": "markdown",
   "metadata": {},
   "source": [
    "expが偶数のとき、\n",
    "(expmod base (/ exp 2) m)の2乗を求めているが、\n",
    "2回expmod base (/ exp 2) m)を計算するため、\n",
    "ステップ数は$\\Theta(n)$となる。"
   ]
  }
 ],
 "metadata": {
  "kernelspec": {
   "display_name": "Calysto Scheme 3",
   "language": "scheme",
   "name": "calysto_scheme"
  },
  "language_info": {
   "codemirror_mode": {
    "name": "scheme"
   },
   "mimetype": "text/x-scheme",
   "name": "scheme",
   "pygments_lexer": "scheme"
  }
 },
 "nbformat": 4,
 "nbformat_minor": 4
}
