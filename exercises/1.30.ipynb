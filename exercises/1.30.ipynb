{
 "cells": [
  {
   "cell_type": "markdown",
   "metadata": {},
   "source": [
    "### 練習問題1.30\n",
    "上で挙げたsum⼿続きは線形再帰を⽣成する。  \n",
    "この⼿続きは、総和計算が反復的に⾏われるように書き直すことができる。  \n",
    "次の定義の中で⽋けている式を埋め、そのやり⽅を⽰せ。\n",
    "\n",
    "    (define (sum term a next b)\n",
    "        (define (iter a result)\n",
    "            (if ⟨??⟩ ⟨??⟩\n",
    "                (iter ⟨??⟩ ⟨??⟩)))\n",
    "            ( iter ⟨??⟩ ⟨??⟩)\n",
    "    )"
   ]
  },
  {
   "cell_type": "code",
   "execution_count": 2,
   "metadata": {},
   "outputs": [
    {
     "data": {
      "text/plain": [
       "55"
      ]
     },
     "execution_count": 2,
     "metadata": {},
     "output_type": "execute_result"
    }
   ],
   "source": [
    "; 1つ項の計算式:term\n",
    "; 次の値を算出:next\n",
    "(define (sum term a next b)\n",
    "  (define (iter a result)\n",
    "    (if (> a b) result\n",
    "        (iter (next a) (+ result (term a)))\n",
    "        )\n",
    "    )\n",
    "  (iter a 0)\n",
    "  )\n",
    "\n",
    "\n",
    "; aからbまでの整数の和\n",
    "(define (sum-integers a b)\n",
    "  (sum (lambda (x) x) a (lambda (n)(+ n a)) b)\n",
    "  )\n",
    "(sum-integers 1 10)"
   ]
  }
 ],
 "metadata": {
  "kernelspec": {
   "display_name": "Calysto Scheme 3",
   "language": "scheme",
   "name": "calysto_scheme"
  },
  "language_info": {
   "codemirror_mode": {
    "name": "scheme"
   },
   "mimetype": "text/x-scheme",
   "name": "scheme",
   "pygments_lexer": "scheme"
  }
 },
 "nbformat": 4,
 "nbformat_minor": 4
}
