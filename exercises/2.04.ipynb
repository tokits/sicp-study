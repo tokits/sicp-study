{
 "cells": [
  {
   "cell_type": "markdown",
   "metadata": {},
   "source": [
    "### 練習問題2.4\n",
    "次に⽰すものは、⼿続きによるペアの表現の別の\n",
    "やり⽅である。この表現で、任意のオブジェクト x と y に対して、\n",
    "(car (cons x y)) が x を返すことを確認せよ。\n",
    "\n",
    "    (define (cons x y)\n",
    "        (lambda (m) (m x y)))\n",
    "    (define (car z)\n",
    "        (z (lambda (p q) p)))\n",
    "\n",
    "対応する cdr の定義はどうなるだろうか。(ヒント：これが動作す\n",
    "ることを確認するには1.1.5 節の置換モデルを利⽤する)"
   ]
  },
  {
   "cell_type": "code",
   "execution_count": 1,
   "metadata": {},
   "outputs": [],
   "source": [
    "(define (cons x y)\n",
    "    (lambda (m) (m x y)))\n",
    "(define (car z)\n",
    "    (z (lambda (p q) p)))"
   ]
  },
  {
   "cell_type": "code",
   "execution_count": 2,
   "metadata": {},
   "outputs": [],
   "source": [
    "; cdrの定義\n",
    "(define (cdr z)\n",
    "    (z (lambda (p q) q)))"
   ]
  },
  {
   "cell_type": "code",
   "execution_count": 3,
   "metadata": {},
   "outputs": [
    {
     "name": "stdout",
     "output_type": "stream",
     "text": [
      "1\n",
      "2\n"
     ]
    }
   ],
   "source": [
    "(define x (cons 1 2))\n",
    "(display (car x))\n",
    "(newline)\n",
    "(display (cdr x))\n",
    "(newline)"
   ]
  },
  {
   "cell_type": "code",
   "execution_count": 4,
   "metadata": {},
   "outputs": [
    {
     "name": "stdout",
     "output_type": "stream",
     "text": [
      "\n",
      "2/4\n",
      "-2/4\n",
      "2/-4\n",
      "-2/-4"
     ]
    }
   ],
   "source": [
    "; 動作確認\n",
    "(define (make-rat n d)(cons n d))\n",
    "(define (numer x) (car x))\n",
    "(define (denom x) (cdr x))\n",
    "(define (print-rat x)\n",
    "  (newline)\n",
    "  (display (numer x))\n",
    "  (display \"/\")\n",
    "  (display (denom x)))\n",
    "(print-rat (make-rat 2 4))\n",
    "(print-rat (make-rat -2 4))\n",
    "(print-rat (make-rat 2 -4))\n",
    "(print-rat (make-rat -2 -4))"
   ]
  }
 ],
 "metadata": {
  "kernelspec": {
   "display_name": "Calysto Scheme 3",
   "language": "scheme",
   "name": "calysto_scheme"
  },
  "language_info": {
   "codemirror_mode": {
    "name": "scheme"
   },
   "mimetype": "text/x-scheme",
   "name": "scheme",
   "pygments_lexer": "scheme"
  }
 },
 "nbformat": 4,
 "nbformat_minor": 4
}
