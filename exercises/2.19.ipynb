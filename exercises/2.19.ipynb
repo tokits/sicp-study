{
 "cells": [
  {
   "cell_type": "markdown",
   "metadata": {},
   "source": [
    "### 練習問題2.19\n",
    "1.2.2節の両替パターン数計算プログラムについ て考える。プログラムで使う通貨を変えられるようにして、例え ばイギリスポンドの両替パターン数を計算できるようになると便 利だろう。現状のプログラムでは、通貨についての知識は⼀部は first-denominationに、⼀部はcount-change (アメリカには5種 類のコインがあるということを知っている)に分散されている。両 替に使うコインのリストを与えられるようになればもっとよくな るだろう。 ⼿続きccを書き直して、⼆つ⽬の引数として取るものを、どのコ インを使うかを指定する整数ではなく、使うコインの値のリスト となるようにしたい。それから、それぞれの通貨の種類を定義す るリストを次のように持っておく。  \n",
    "\n",
    "    (define us-coins (list 50 25 10 5 1))\n",
    "    (define uk-coins (list 100 50 20 10 5 2 1 0.5))\n",
    "    \n",
    "そして、ccは次のように呼び出すことにしよう。  \n",
    "\n",
    "    (cc 100 us-coins)\n",
    "    292\n",
    "    \n",
    "このためには、プログラムccに対して何らかの変更を加える必要がある。プログラムの形は同じだが、⼆つ⽬の引数に対するアクセスの仕⽅が次のように変わる。\n",
    "\n",
    "    (define (cc amount coin-values)\n",
    "        (cond ((= amount 0) 1)\n",
    "              ((or (< amount 0) (no-more? coin-values)) 0)\n",
    "              (else\n",
    "                  (+ (cc amount\n",
    "                      (except-first-denomination coin-values))\n",
    "                      (cc (- amount (first-denomination\n",
    "                                      coin-values))\n",
    "                          coin-values)))))\n",
    "                      \n",
    "リスト構造に対する基本演算によって、⼿続きfirst-denomination, except-first-denomination, no-more?を定義せよ。リストcoinvaluesの順序は、ccによって返される解答に影響を与えるだろう か、それとも与えないだろうか。それはどうしてだろうか。"
   ]
  },
  {
   "cell_type": "code",
   "execution_count": 1,
   "metadata": {},
   "outputs": [],
   "source": [
    "(define (cc amount coin-values)\n",
    "    (cond ((= amount 0) 1)\n",
    "          ((or (< amount 0) (no-more? coin-values)) 0)\n",
    "          (else\n",
    "              (+ (cc amount\n",
    "                  (except-first-denomination coin-values))\n",
    "                  (cc (- amount (first-denomination\n",
    "                                  coin-values))\n",
    "                      coin-values)))))\n",
    "\n",
    "; coin-values(リスト)が空どうかを判定する。\n",
    "(define (no-more? coin-values)(null? coin-values))\n",
    "; 最初のコイン種別を除いたコイン種別リストを返す。\n",
    "(define (except-first-denomination coin-values)(cdr coin-values))\n",
    "; 最初のコイン種別を返す。\n",
    "(define (first-denomination coin-values)(car coin-values))"
   ]
  },
  {
   "cell_type": "code",
   "execution_count": 2,
   "metadata": {},
   "outputs": [
    {
     "data": {
      "text/plain": [
       "292"
      ]
     },
     "execution_count": 2,
     "metadata": {},
     "output_type": "execute_result"
    }
   ],
   "source": [
    "; 動作確認\n",
    "(define us-coins (list 50 25 10 5 1))\n",
    "(define uk-coins (list 100 50 20 10 5 2 1 0.5))\n",
    ";(display us-coins)\n",
    "(cc 100 us-coins)"
   ]
  }
 ],
 "metadata": {
  "kernelspec": {
   "display_name": "Calysto Scheme 3",
   "language": "scheme",
   "name": "calysto_scheme"
  },
  "language_info": {
   "codemirror_mode": {
    "name": "scheme"
   },
   "mimetype": "text/x-scheme",
   "name": "scheme",
   "pygments_lexer": "scheme"
  }
 },
 "nbformat": 4,
 "nbformat_minor": 4
}
