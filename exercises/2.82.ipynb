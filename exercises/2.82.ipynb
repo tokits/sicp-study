{
 "cells": [
  {
   "cell_type": "markdown",
   "metadata": {},
   "source": [
    "### 練習問題2.82\n",
    "apply-generic を⼀般化し、複数の引数⼀般について強制型変換を扱うようにするやり⽅を⽰せ。<br />\n",
    "戦略のひとつとしては、<br />\n",
    "  すべての引数を⼀つ⽬の引数の型に強制型変換することを試み、<br />\n",
    "  次に⼆つ⽬の引数の型に強制型変換することを試み、<br />\n",
    "と\n",
    "いうことを続けるというものだ。<br />\n",
    "この戦略について (また、上で述べた⼆引数バージョンについても)、<br />\n",
    "それが⼗分に⼀般的でないような状況の例を挙げよ <br />\n",
    "(ヒント：テーブルには適切な混合型演算があり、それが試⾏されないという場合について考える)。"
   ]
  },
  {
   "cell_type": "markdown",
   "metadata": {},
   "source": [
    "回答：保留"
   ]
  }
 ],
 "metadata": {
  "kernelspec": {
   "display_name": "Calysto Scheme 3",
   "language": "scheme",
   "name": "calysto_scheme"
  },
  "language_info": {
   "codemirror_mode": {
    "name": "scheme"
   },
   "mimetype": "text/x-scheme",
   "name": "scheme",
   "pygments_lexer": "scheme"
  }
 },
 "nbformat": 4,
 "nbformat_minor": 4
}
