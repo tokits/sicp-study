{
 "cells": [
  {
   "cell_type": "markdown",
   "metadata": {},
   "source": [
    "### 練習問題1.13\n",
    "$Fib(n) \\approx \\frac{\\varphi^n}{\\sqrt 5}$ (nが大きくなると)    \n",
    "を証明せよ。  \n",
    "ここでは、数学的な証明は割愛し、計算して値が一致することを確認する。\n",
    "\n",
    "$\\frac{Fib(n+1)}{Fib(n)} \\approx \\varphi$ (nが大きくなると)    \n",
    "$\\varphi=\\frac{1+\\sqrt 5}{2} \\approx 1.6180$(値は$\\varphi^2=\\varphi+1$より求まる)  \n",
    "についても確認する。\n"
   ]
  },
  {
   "cell_type": "code",
   "execution_count": 1,
   "metadata": {},
   "outputs": [],
   "source": [
    "(define (sqrt-iter guess x)\n",
    "  (if (good-enough? guess x)\n",
    "      guess\n",
    "      (sqrt-iter (improve guess x) x)))\n",
    "(define (improve guess x)\n",
    "  (average guess (/ x guess)))\n",
    "(define (average x y)\n",
    "  (/ (+ x y) 2))\n",
    "(define (good-enough? guess x)\n",
    "  (< (abs (- (square guess) x)) 0.0000000000001))\n",
    "(define (square x) (* x x))\n",
    "(define (sqrt x)\n",
    "  (sqrt-iter 1.0 x))"
   ]
  },
  {
   "cell_type": "code",
   "execution_count": 2,
   "metadata": {},
   "outputs": [
    {
     "data": {
      "text/plain": [
       "2.23606797749979"
      ]
     },
     "execution_count": 2,
     "metadata": {},
     "output_type": "execute_result"
    }
   ],
   "source": [
    "(sqrt 5)"
   ]
  },
  {
   "cell_type": "code",
   "execution_count": 8,
   "metadata": {},
   "outputs": [
    {
     "name": "stdout",
     "output_type": "stream",
     "text": [
      "1.618033988749895\n",
      "2.618033988749895\n"
     ]
    }
   ],
   "source": [
    "; 黄金比\n",
    "(define phi (/ (+ 1 (sqrt 5)) 2))\n",
    "(display phi)\n",
    "(newline)\n",
    "; phi^2=phi+1になっている\n",
    "(display (* phi phi))\n",
    "(newline)"
   ]
  },
  {
   "cell_type": "code",
   "execution_count": 4,
   "metadata": {},
   "outputs": [],
   "source": [
    "(define (fib4 n)\n",
    "  (fib-iter 1 0 n)\n",
    "  )\n",
    "(define (fib-iter a b count)\n",
    "  (if (= count 0) b\n",
    "      (fib-iter (+ a b) a (- count 1))\n",
    "      )\n",
    "  )"
   ]
  },
  {
   "cell_type": "code",
   "execution_count": 5,
   "metadata": {},
   "outputs": [
    {
     "name": "stdout",
     "output_type": "stream",
     "text": [
      "10610209857723\n"
     ]
    }
   ],
   "source": [
    "(display (fib4 64))\n",
    "(newline)"
   ]
  },
  {
   "cell_type": "markdown",
   "metadata": {},
   "source": [
    "$Fib(64) \\approx \\frac{\\varphi^{64}}{\\sqrt 5}$"
   ]
  },
  {
   "cell_type": "code",
   "execution_count": 9,
   "metadata": {},
   "outputs": [
    {
     "data": {
      "text/plain": [
       "10610209857723.021"
      ]
     },
     "execution_count": 9,
     "metadata": {},
     "output_type": "execute_result"
    }
   ],
   "source": [
    "(/ (pow phi 64) (sqrt 5))"
   ]
  },
  {
   "cell_type": "code",
   "execution_count": 7,
   "metadata": {},
   "outputs": [
    {
     "name": "stdout",
     "output_type": "stream",
     "text": [
      "1.618033988749895\n"
     ]
    }
   ],
   "source": [
    "; 黄金比の確認\n",
    "(display (+ 0.0 (/ (fib4 64) (fib4 63))))\n",
    "(newline)"
   ]
  }
 ],
 "metadata": {
  "kernelspec": {
   "display_name": "Calysto Scheme 3",
   "language": "scheme",
   "name": "calysto_scheme"
  },
  "language_info": {
   "codemirror_mode": {
    "name": "scheme"
   },
   "mimetype": "text/x-scheme",
   "name": "scheme",
   "pygments_lexer": "scheme"
  }
 },
 "nbformat": 4,
 "nbformat_minor": 4
}
