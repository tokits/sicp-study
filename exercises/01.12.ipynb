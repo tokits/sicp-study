{
 "cells": [
  {
   "cell_type": "markdown",
   "metadata": {},
   "source": [
    "### 練習問題1.12\n",
    "以下の数値のパターンはパスカルの三⾓形(Pascal’s triangle)と呼ばれる。   \n",
    "\n",
    "1  \n",
    "1 1   \n",
    "1 2 1   \n",
    "1 3 3 1   \n",
    "1 4 6 4 1  \n",
    "・・・\n",
    "\n",
    "三⾓形の辺の数値はすべて1で、三⾓形内部の数値は、  \n",
    "\n",
    "それぞれ その上にある2つの数値の合計となっている。  \n",
    "パスカルの三⾓形の要素を再帰プロセスによって求める⼿続きを書け。 \n"
   ]
  },
  {
   "cell_type": "raw",
   "metadata": {},
   "source": [
    "1.2.2までのテキストの内容では、実装は難しいので割愛する。   \n",
    "また、再帰プロセスで実装となっているが、   \n",
    "１つ前の状態から次の状態を作るため、反復プロセスで実装するのが通常の方法だと思われる。  "
   ]
  }
 ],
 "metadata": {
  "kernelspec": {
   "display_name": "Calysto Scheme 3",
   "language": "scheme",
   "name": "calysto_scheme"
  },
  "language_info": {
   "codemirror_mode": {
    "name": "scheme"
   },
   "mimetype": "text/x-scheme",
   "name": "scheme",
   "pygments_lexer": "scheme"
  }
 },
 "nbformat": 4,
 "nbformat_minor": 4
}
