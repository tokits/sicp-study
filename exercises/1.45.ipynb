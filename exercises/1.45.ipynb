{
 "cells": [
  {
   "cell_type": "markdown",
   "metadata": {},
   "source": [
    "### 練習問題1.45\n",
    "1.3.3節では、単純に$y \\mapsto \\frac{x}{y}$の不動点を探すことによって平⽅根を計算しようとすると収束しないということと、   \n",
    "それを平均緩和法によって解決できるということを⾒た。  \n",
    "三乗根の計算にも同じ⽅法を使うことができ、\n",
    "$y \\mapsto \\frac{x}{y^2}$を平均緩和したものの不動点として求めることができる。  \n",
    "残念ながら、このプロセスは四乗根ではうまくいかない。  \n",
    "$y \\mapsto \\frac{x}{y^3}$を収束させるのに、平均緩和を⼀回するだけでは⼗分ではない。  \n",
    "⼀⽅、平均緩和を⼆回⾏う(つまり、$y \\mapsto \\frac{x}{y^3}$の平均緩和の平均緩和を使う)と、  \n",
    "不動点探索は収束するようになる。$y \\mapsto \\frac{x}{y^{n-1}}$を繰り返し平均緩和したものに対する不動点探索によって$n^{th}$を計算する場合、何回の平均 緩和が必要となるか実験せよ。  \n",
    "その結果を利⽤し、fixed-point, average-dampおよび練習問題1.43のrepeated⼿続きを使って$n$乗根を計算する単独の⼿続きを実装せよ。  \n",
    "必要な数値演算は基本⼿続きとして利⽤できるとする。"
   ]
  },
  {
   "cell_type": "markdown",
   "metadata": {},
   "source": [
    "回答は割愛する。"
   ]
  }
 ],
 "metadata": {
  "kernelspec": {
   "display_name": "Calysto Scheme 3",
   "language": "scheme",
   "name": "calysto_scheme"
  },
  "language_info": {
   "codemirror_mode": {
    "name": "scheme"
   },
   "mimetype": "text/x-scheme",
   "name": "scheme",
   "pygments_lexer": "scheme"
  }
 },
 "nbformat": 4,
 "nbformat_minor": 4
}
