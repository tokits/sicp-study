{
 "cells": [
  {
   "cell_type": "markdown",
   "metadata": {},
   "source": [
    "### 練習問題2.88\n",
    "多項式システムを拡張し、多項式の減算ができるようにせよ<br />\n",
    "(ヒント：ジェネリックな符号反転演算を定義するといいかもしれない)。"
   ]
  },
  {
   "cell_type": "markdown",
   "metadata": {},
   "source": [
    "; グローバルに以下を追加\n",
    "\n",
    "    (define (reverse-sign x) (apply-generic 'reverse-sign x))    ;追加手続き\n",
    "\n",
    "; scheme-numberに以下を追加\n",
    "\n",
    "    (put 'reverse-sign '(scheme-number) (lambda (x) (* x -1)))    ;追加手続き\n",
    "  \n",
    "; polynomialに以下を追加\n",
    "\n",
    "    ; 符号反転\n",
    "    (define (reverse-sign-proc p)\n",
    "        (make-poly (variable p)\n",
    "          (reverse-sign-terms (term-list p)))    \n",
    "      )\n",
    "    (define (reverse-sign-terms L1)\n",
    "      (if (empty-termlist? L1) (the-empty-termlist)\n",
    "        (let ((t1 (first-term L1)))\n",
    "          (adjoin-term\n",
    "           (make-term (order t1) (reverse-sign (coeff t1)))\n",
    "           (reverse-sign-terms (rest-terms L1))))))\n",
    "    ; 減算\n",
    "    (define (sub-poly p1 p2)\n",
    "    (if (same-variable? (variable p1) (variable p2))\n",
    "        (add-poly p1 (reverse-sign-proc p2))\n",
    "        (error \"Polys not in same var: ADD-POLY\" (list p1 p2))))\n",
    "    (define (sub-terms t1 t2)\n",
    "        (add-terms t1 (reverse-sign-terms t2))\n",
    "        )\n",
    "    (put 'reverse-sign '(polynomial) (lambda (p) (tag (reverse-sign-proc p))))  ; 追加手続き\n",
    "    (put 'sub '(polynomial polynomial) (lambda (p1 p2) (tag (sub-poly p1 p2))))  ; 追加手続き\n",
    "\n",
    "  \n",
    "; 他の型については省略"
   ]
  }
 ],
 "metadata": {
  "kernelspec": {
   "display_name": "Calysto Scheme 3",
   "language": "scheme",
   "name": "calysto_scheme"
  },
  "language_info": {
   "codemirror_mode": {
    "name": "scheme"
   },
   "mimetype": "text/x-scheme",
   "name": "scheme",
   "pygments_lexer": "scheme"
  }
 },
 "nbformat": 4,
 "nbformat_minor": 4
}
