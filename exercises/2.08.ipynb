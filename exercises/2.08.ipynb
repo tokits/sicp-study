{
 "cells": [
  {
   "cell_type": "markdown",
   "metadata": {},
   "source": [
    "### 練習問題2.8\n",
    "Alyssa と同じような推論を使って、⼆つの区間の差をどのように計算するかを記述せよ。それに対応する引き算の⼿続き sub-interval を定義せよ。"
   ]
  },
  {
   "cell_type": "markdown",
   "metadata": {},
   "source": [
    "区間の差は、  \n",
    "・下限は2つの下限の差  \n",
    "・上限は2つの上限の差  \n",
    "とする。"
   ]
  },
  {
   "cell_type": "code",
   "execution_count": 8,
   "metadata": {},
   "outputs": [],
   "source": [
    "(define (make-interval a b) (cons a b))\n",
    "(define (lower-bound x)(car x))\n",
    "(define (upper-bound x)(cdr x))\n",
    "(define (lower r e)(- r (* r e)))\n",
    "(define (upper r e)(+ r (* r e)))\n",
    "; 区間の和\n",
    "(define (add-interval x y)\n",
    "  (make-interval (+ (lower-bound x) (lower-bound y))\n",
    "                 (+ (upper-bound x) (upper-bound y)))\n",
    "  )\n",
    "; 区間の差\n",
    "(define (sub-interval x y)\n",
    "  (make-interval (- (lower-bound x) (lower-bound y))\n",
    "                 (- (upper-bound x) (upper-bound y)))\n",
    "  ) "
   ]
  },
  {
   "cell_type": "code",
   "execution_count": 9,
   "metadata": {},
   "outputs": [
    {
     "name": "stdout",
     "output_type": "stream",
     "text": [
      "6.12\n",
      "7.4799999999999995\n"
     ]
    }
   ],
   "source": [
    "(define R1 6.8)\n",
    "(define E1 0.1)\n",
    "\n",
    "(define x (make-interval (lower R1 E1) (upper R1 E1)))\n",
    "(display (lower-bound x))\n",
    "(newline)\n",
    "(display (upper-bound x))\n",
    "(newline)"
   ]
  },
  {
   "cell_type": "code",
   "execution_count": 10,
   "metadata": {},
   "outputs": [
    {
     "name": "stdout",
     "output_type": "stream",
     "text": [
      "4.465\n",
      "4.9350000000000005\n"
     ]
    }
   ],
   "source": [
    "(define R2 4.7)\n",
    "(define E2 0.05)\n",
    "\n",
    "(define y (make-interval (lower R2 E2) (upper R2 E2)))\n",
    "(display (lower-bound y))\n",
    "(newline)\n",
    "(display (upper-bound y))\n",
    "(newline)"
   ]
  },
  {
   "cell_type": "code",
   "execution_count": 11,
   "metadata": {},
   "outputs": [
    {
     "name": "stdout",
     "output_type": "stream",
     "text": [
      "10.585\n",
      "12.415\n"
     ]
    }
   ],
   "source": [
    "; 加算の動作確認\n",
    "(display (lower-bound (add-interval x y)))\n",
    "(newline)\n",
    "(display (upper-bound (add-interval x y)))\n",
    "(newline)"
   ]
  },
  {
   "cell_type": "code",
   "execution_count": 12,
   "metadata": {},
   "outputs": [
    {
     "name": "stdout",
     "output_type": "stream",
     "text": [
      "1.6550000000000002\n",
      "2.544999999999999\n"
     ]
    }
   ],
   "source": [
    "; 減算の動作確認\n",
    "(display (lower-bound (sub-interval x y)))\n",
    "(newline)\n",
    "(display (upper-bound (sub-interval x y)))\n",
    "(newline)"
   ]
  }
 ],
 "metadata": {
  "kernelspec": {
   "display_name": "Calysto Scheme 3",
   "language": "scheme",
   "name": "calysto_scheme"
  },
  "language_info": {
   "codemirror_mode": {
    "name": "scheme"
   },
   "mimetype": "text/x-scheme",
   "name": "scheme",
   "pygments_lexer": "scheme"
  }
 },
 "nbformat": 4,
 "nbformat_minor": 4
}
