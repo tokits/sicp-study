{
 "cells": [
  {
   "cell_type": "markdown",
   "metadata": {},
   "source": [
    "### 練習問題1.10\n",
    "次の2つの手続きは、アッカーマン関数と呼ばれる数学の関数を計算する。　　\n",
    "\n",
    "    (define (A x y)\n",
    "      (cond ((= y 0) 0)\n",
    "            ((= x 0) (* 2 y))\n",
    "            ((= y 1) 2)\n",
    "            (else (A (- x 1) (A x (- y 1))))\n",
    "            )\n",
    "      )\n",
    "      \n",
    "以下の式の値は何になるか。\n",
    "\n",
    "    (A 1 10)\n",
    "    (A 2 4)\n",
    "    (A 3 3)\n"
   ]
  },
  {
   "cell_type": "code",
   "execution_count": 1,
   "metadata": {},
   "outputs": [],
   "source": [
    "(define (A x y)\n",
    "  (cond ((= y 0) 0)\n",
    "        ((= x 0) (* 2 y))\n",
    "        ((= y 1) 2)\n",
    "        (else (A (- x 1) (A x (- y 1))))\n",
    "        )\n",
    "  )"
   ]
  },
  {
   "cell_type": "code",
   "execution_count": 2,
   "metadata": {},
   "outputs": [
    {
     "data": {
      "text/plain": [
       "1024"
      ]
     },
     "execution_count": 2,
     "metadata": {},
     "output_type": "execute_result"
    }
   ],
   "source": [
    "(A 1 10)"
   ]
  },
  {
   "cell_type": "code",
   "execution_count": 3,
   "metadata": {},
   "outputs": [
    {
     "data": {
      "text/plain": [
       "65536"
      ]
     },
     "execution_count": 3,
     "metadata": {},
     "output_type": "execute_result"
    }
   ],
   "source": [
    "(A 2 4)"
   ]
  },
  {
   "cell_type": "code",
   "execution_count": 4,
   "metadata": {},
   "outputs": [
    {
     "data": {
      "text/plain": [
       "65536"
      ]
     },
     "execution_count": 4,
     "metadata": {},
     "output_type": "execute_result"
    }
   ],
   "source": [
    "(A 3 3)"
   ]
  },
  {
   "cell_type": "markdown",
   "metadata": {},
   "source": [
    "Aが上で定義された⼿続きであるとき、以下の⼿続きについて考えよ。 \n",
    "\n",
    "    (define (f n) (A 0 n))\n",
    "    (define (g n) (A 1 n))\n",
    "    (define (h n) (A 2 n))\n",
    "    (define (k n) (* 5 n n))\n",
    "    \n",
    "⼿続きf, g, hによって、正の整数$n$に対して計算される関数に対し、  \n",
    "簡潔な数学的定義を与えよ。  \n",
    "例えば、(k  n)は$5n^2$を計算する。"
   ]
  },
  {
   "cell_type": "code",
   "execution_count": 5,
   "metadata": {},
   "outputs": [
    {
     "data": {
      "text/plain": [
       "10"
      ]
     },
     "execution_count": 5,
     "metadata": {},
     "output_type": "execute_result"
    }
   ],
   "source": [
    "(A 0 5)"
   ]
  },
  {
   "cell_type": "markdown",
   "metadata": {},
   "source": [
    "(f n) = $2n$"
   ]
  },
  {
   "cell_type": "code",
   "execution_count": 6,
   "metadata": {},
   "outputs": [
    {
     "data": {
      "text/plain": [
       "2"
      ]
     },
     "execution_count": 6,
     "metadata": {},
     "output_type": "execute_result"
    }
   ],
   "source": [
    "(A 1 1)"
   ]
  },
  {
   "cell_type": "markdown",
   "metadata": {},
   "source": [
    "(g n) = $2^n$"
   ]
  },
  {
   "cell_type": "code",
   "execution_count": 7,
   "metadata": {
    "scrolled": true
   },
   "outputs": [
    {
     "data": {
      "text/plain": [
       "16"
      ]
     },
     "execution_count": 7,
     "metadata": {},
     "output_type": "execute_result"
    }
   ],
   "source": [
    "(A 2 3)"
   ]
  },
  {
   "cell_type": "code",
   "execution_count": null,
   "metadata": {},
   "outputs": [],
   "source": []
  },
  {
   "cell_type": "markdown",
   "metadata": {},
   "source": [
    "(h n) =   \n",
    "  $2^{1}$  $\\dots n=1$  \n",
    "  $2^{2}$  $\\dots n=2$  \n",
    "  $2^{4}$  $\\dots n=3$  \n",
    "  $2^{16}$  $\\dots n=4$  \n",
    "\n",
    "$\n",
    "\\def\\rddots#1{\\cdot^{\\cdot^{\\cdot^{#1}}}}\n",
    "h(n)=2^{2^{\\rddots{2}}}\n",
    "$  ・・・一般的にすると  \n",
    "$h(n)=2^{h(n-1)}$  ・・・再帰的な定義  \n",
    "  \n",
    "![01.10.jpg](01.10.jpg)"
   ]
  }
 ],
 "metadata": {
  "kernelspec": {
   "display_name": "Calysto Scheme 3",
   "language": "scheme",
   "name": "calysto_scheme"
  },
  "language_info": {
   "codemirror_mode": {
    "name": "scheme"
   },
   "mimetype": "text/x-scheme",
   "name": "scheme",
   "pygments_lexer": "scheme"
  }
 },
 "nbformat": 4,
 "nbformat_minor": 4
}
