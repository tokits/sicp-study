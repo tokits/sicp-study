{
 "cells": [
  {
   "cell_type": "markdown",
   "metadata": {},
   "source": [
    "### 練習問題2.68\n",
    "encode手続きは、引数としてメッセージと木を取り、  \n",
    "メッセージを符号化したビットのリストを返す。\n",
    "\n",
    "    (define (encode message tree)\n",
    "        (if (null? message) '()\n",
    "            (append\n",
    "                (encode-symbol (car message) tree)\n",
    "                (encode (cdr message) tree))\n",
    "        )\n",
    "    ) \n",
    "\n",
    "encode-symbolは、与えられた木に従って与えられた記号を符号化したビット列を返す。  \n",
    "この手続きを書け。  \n",
    "記号が木に含まれていなければエラーを出すようにencode-symbolを設計せよ。  \n",
    "練習問題2.67で得た結果をサンプルの木を使って符号化し、  \n",
    "それが元のサンプルメッセージと同じになるかどうか確認して、  \n",
    "書いた手続きをテストせよ。"
   ]
  },
  {
   "cell_type": "code",
   "execution_count": 1,
   "metadata": {},
   "outputs": [],
   "source": [
    "(define (make-leaf symbol weight) (list 'leaf symbol weight))\n",
    "(define (leaf? object) (eq? (car object) 'leaf))\n",
    "(define (symbol-leaf x) (cadr x))\n",
    "(define (weight-leaf x) (caddr x))\n",
    "\n",
    "; コンストラクタ\n",
    "(define (make-code-tree left right)\n",
    "  (list left right\n",
    "        (append (symbols left) (symbols right))\n",
    "        (+ (weight left) (weight right))\n",
    "    )\n",
    "  )\n",
    "\n",
    "; セレクタ\n",
    "(define (left-branch tree) (car tree))\n",
    "(define (right-branch tree) (cadr tree))\n",
    "(define (symbols tree)\n",
    "  (if (leaf? tree) (list (symbol-leaf tree))\n",
    "      (caddr tree)\n",
    "    )\n",
    "  )\n",
    "(define (weight tree)\n",
    "  (if (leaf? tree) (weight-leaf tree)\n",
    "      (cadddr tree)\n",
    "    )\n",
    "  )\n",
    "\n",
    "(define (decode bits tree)\n",
    "  (define (decode-1 bits current-branch)\n",
    "    (if (null? bits) '()\n",
    "        (let ((next-branch (choose-branch (car bits) current-branch)))\n",
    "          (if (leaf? next-branch) (cons (symbol-leaf next-branch) (decode-1 (cdr bits) tree))\n",
    "              (decode-1 (cdr bits) next-branch))\n",
    "          )\n",
    "    )\n",
    "    )\n",
    "  (decode-1 bits tree)\n",
    ")  \n",
    "(define (choose-branch bit branch)\n",
    "  (cond ((= bit 0) (left-branch branch))\n",
    "        ((= bit 1) (right-branch branch))\n",
    "        (else (error \"bad bit: CHOOSE-BRANCH\" bit))\n",
    "        )\n",
    "  )\n",
    "\n",
    "(define (adjoin-set x set)\n",
    "  (cond ((null? set) (list x))\n",
    "        ((< (weight x) (weight (car set))) (cons x set))\n",
    "        (else (cons (car set) (adjoin-set x (cdr set))))))\n",
    "\n",
    "(define (make-leaf-set pairs)\n",
    "  (if (null? pairs) '()\n",
    "      (let ((pair (car pairs)))\n",
    "        (adjoin-set (make-leaf (car pair) ; symbol\n",
    "                               (cadr pair)) ; weight\n",
    "                    (make-leaf-set (cdr pairs)))\n",
    "        )\n",
    "    )\n",
    "  )"
   ]
  },
  {
   "cell_type": "code",
   "execution_count": 2,
   "metadata": {},
   "outputs": [],
   "source": [
    "(define sample-tree\n",
    "    (make-code-tree (make-leaf 'A 4)\n",
    "        (make-code-tree (make-leaf 'B 2)\n",
    "            (make-code-tree (make-leaf 'D 1)\n",
    "                (make-leaf 'C 1)\n",
    "            )\n",
    "        )\n",
    "    )\n",
    ")\n",
    "(define sample-message '(0 1 1 0 0 1 0 1 0 1 1 1 0))"
   ]
  },
  {
   "cell_type": "code",
   "execution_count": 3,
   "metadata": {},
   "outputs": [
    {
     "data": {
      "text/plain": [
       "(A D A B B C A)"
      ]
     },
     "execution_count": 3,
     "metadata": {},
     "output_type": "execute_result"
    }
   ],
   "source": [
    "; 復号\n",
    "(decode sample-message sample-tree)"
   ]
  },
  {
   "cell_type": "code",
   "execution_count": 4,
   "metadata": {},
   "outputs": [
    {
     "data": {
      "text/plain": [
       "((leaf A 4) ((leaf B 2) ((leaf D 1) (leaf C 1) (D C) 2) (B D C) 4) (A B D C) 8)"
      ]
     },
     "execution_count": 4,
     "metadata": {},
     "output_type": "execute_result"
    }
   ],
   "source": [
    "; ハフマン符号化木の確認\n",
    "sample-tree"
   ]
  },
  {
   "cell_type": "code",
   "execution_count": 5,
   "metadata": {},
   "outputs": [],
   "source": [
    "; 符号化処理\n",
    "; 回答\n",
    "(define (encode-symbol symbol tree)\n",
    "  (define (iter sub result)\n",
    "    (if (leaf? sub)\n",
    "        (if (eq? (symbol-leaf sub) symbol) result\n",
    "            '())\n",
    "        (let ((l (left-branch sub))\n",
    "              (r (right-branch sub)))\n",
    "          (let ((l-result (iter l (append result '(0)))))\n",
    "            (if (not (null? l-result)) l-result\n",
    "                (iter r (append result '(1)))\n",
    "              )\n",
    "            )\n",
    "        )\n",
    "      )\n",
    "    )\n",
    "  (let ((result (iter tree '())))\n",
    "    (if (null? result) (error \"bad symbol: ENCODE\" symbol)\n",
    "        result\n",
    "        )\n",
    "    )\n",
    ")"
   ]
  },
  {
   "cell_type": "code",
   "execution_count": 6,
   "metadata": {},
   "outputs": [
    {
     "name": "stdout",
     "output_type": "stream",
     "text": [
      "(0)\n",
      "(1 0)\n",
      "(1 1 1)\n",
      "(1 1 0)\n"
     ]
    }
   ],
   "source": [
    "; 個々の記号で動作確認\n",
    "(display (encode-symbol 'A sample-tree))\n",
    "(newline)\n",
    "(display (encode-symbol 'B sample-tree))\n",
    "(newline)\n",
    "(display (encode-symbol 'C sample-tree))\n",
    "(newline)\n",
    "(display (encode-symbol 'D sample-tree))\n",
    "(newline)\n",
    ";(display (encode-symbol 'E sample-tree))\n",
    ";(newline)"
   ]
  },
  {
   "cell_type": "code",
   "execution_count": 7,
   "metadata": {},
   "outputs": [],
   "source": [
    "; 問題の符号化処理 \n",
    "(define (encode message tree)\n",
    "    (if (null? message) '()\n",
    "        (append\n",
    "            (encode-symbol (car message) tree)\n",
    "            (encode (cdr message) tree))\n",
    "    )\n",
    ")"
   ]
  },
  {
   "cell_type": "code",
   "execution_count": 8,
   "metadata": {},
   "outputs": [
    {
     "data": {
      "text/plain": [
       "(0 1 1 0 0 1 0 1 0 1 1 1 0)"
      ]
     },
     "execution_count": 8,
     "metadata": {},
     "output_type": "execute_result"
    }
   ],
   "source": [
    "(encode '(A D A B B C A) sample-tree)"
   ]
  }
 ],
 "metadata": {
  "kernelspec": {
   "display_name": "Calysto Scheme 3",
   "language": "scheme",
   "name": "calysto_scheme"
  },
  "language_info": {
   "codemirror_mode": {
    "name": "scheme"
   },
   "mimetype": "text/x-scheme",
   "name": "scheme",
   "pygments_lexer": "scheme"
  }
 },
 "nbformat": 4,
 "nbformat_minor": 4
}
