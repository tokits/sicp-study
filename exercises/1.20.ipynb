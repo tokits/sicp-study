{
 "cells": [
  {
   "cell_type": "markdown",
   "metadata": {},
   "source": [
    "### 練習問題1.20\n",
    "ある⼿続きが⽣成するプロセスは、もちろん、インタプリタの規則によって異なる。  \n",
    "例として、上で説明した反復gcd⼿続きについて考える。  \n",
    "この⼿続きを、1.1.5 節で考察した正規順序評価によって解釈するとする  \n",
    "(if に対する正規順序評価規則は練習問題 1.5に記述されている)。  \n",
    "置換法を(正規順序に対して)使って、  \n",
    "(gcd 206 40) を評価する際に⽣成されるプロセスを図⽰し、  \n",
    "実際に実⾏される remainder 演算を⽰せ。(gcd 206 40)の正規順序評価では、  \n",
    "remainder 演算は何回実⾏されるだろうか。  \n",
    "適⽤順序評価ではどうだろうか。説明せよ。"
   ]
  },
  {
   "cell_type": "markdown",
   "metadata": {},
   "source": [
    "回答は割愛する。"
   ]
  },
  {
   "cell_type": "code",
   "execution_count": 1,
   "metadata": {},
   "outputs": [
    {
     "name": "stdout",
     "output_type": "stream",
     "text": [
      "gcd(206,40)\n",
      "gcd(40,6)\n",
      "gcd(6,4)\n",
      "gcd(4,2)\n"
     ]
    },
    {
     "data": {
      "text/plain": [
       "2"
      ]
     },
     "execution_count": 1,
     "metadata": {},
     "output_type": "execute_result"
    }
   ],
   "source": [
    "(define (gcd a b)\n",
    "  (if (= b 0) a\n",
    "      (begin \n",
    "       (display \"gcd(\")\n",
    "       (display a)\n",
    "       (display \",\")\n",
    "       (display b)\n",
    "       (display \")\")\n",
    "       (newline)\n",
    "       (gcd b (remainder a b))\n",
    "       )\n",
    "    )\n",
    "  )\n",
    "(gcd 206 40)"
   ]
  },
  {
   "cell_type": "markdown",
   "metadata": {},
   "source": [
    "**正規順序評価**  \n",
    "\n",
    "    (gcd 206 40)\n",
    "    (gcd 40 (remainder 206 40))\n",
    "    (gcd (remainder 206 40) (remainder 40 (remainder 206 40)))\n",
    "    (gcd (remainder 40 (remainder 206 40)) (remainder (remainder 206 40) (remainder 40 (remainder 206 40))))\n",
    "    ？？\n",
    "\n",
    "    (gcd 206 40)\n",
    "    (gcd 40 (remainder 206 40))\n",
    "    (gcd (remainder 206 40) (remainder 40 (remainder 206 40)))\n",
    "    (gcd (remainder 206 40) (remainder 40 6))\n",
    "    (gcd (remainder 20 6) (remainder (remainder 206 40) (remainder 40 6)))\n",
    "    (gcd (remainder 20 6) (remainder 6 4))\n",
    "    (gcd (remainder 6 4) (remainder (remainder 20 6) (remainder 6 4)))\n",
    "    (gcd (remainder 6 4) (remainder 2 2))\n",
    "    (gcd 2 0)\n",
    "    →2\n",
    "\n",
    "**適応順序評価**  \n",
    "\n",
    "    (gcd 206 40)\n",
    "    (gcd 40 (remainder 206 40))\n",
    "    (gcd 40 6)\n",
    "    (gcd 6 (remainder 40 6))\n",
    "    (gcd 6 4)\n",
    "    (gcd 4 (remainder 6 4))\n",
    "    (gcd 4 2)\n",
    "    (gcd 2 (remainder 4 2))\n",
    "    (gcd 2 0)\n",
    "    →2\n"
   ]
  },
  {
   "cell_type": "code",
   "execution_count": 2,
   "metadata": {},
   "outputs": [
    {
     "data": {
      "text/plain": [
       "6"
      ]
     },
     "execution_count": 2,
     "metadata": {},
     "output_type": "execute_result"
    }
   ],
   "source": [
    "(remainder 206 40)"
   ]
  },
  {
   "cell_type": "code",
   "execution_count": 3,
   "metadata": {},
   "outputs": [
    {
     "data": {
      "text/plain": [
       "6"
      ]
     },
     "execution_count": 3,
     "metadata": {},
     "output_type": "execute_result"
    }
   ],
   "source": [
    "(% 206 40)"
   ]
  },
  {
   "cell_type": "code",
   "execution_count": null,
   "metadata": {},
   "outputs": [],
   "source": []
  }
 ],
 "metadata": {
  "kernelspec": {
   "display_name": "Calysto Scheme 3",
   "language": "scheme",
   "name": "calysto_scheme"
  },
  "language_info": {
   "codemirror_mode": {
    "name": "scheme"
   },
   "mimetype": "text/x-scheme",
   "name": "scheme",
   "pygments_lexer": "scheme"
  }
 },
 "nbformat": 4,
 "nbformat_minor": 4
}
