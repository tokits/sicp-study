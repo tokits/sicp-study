{
 "cells": [
  {
   "cell_type": "markdown",
   "metadata": {},
   "source": [
    "### 練習問題1.20\n",
    "ある⼿続きが⽣成するプロセスは、もちろん、イ\n",
    "ンタプリタの規則によって異なる。  \n",
    "例として、上で説明した反復gcd⼿続きについて考える。  \n",
    "この⼿続きを、1.1.5 節で考察した正規順序評価によって解釈するとする(if に対する正規順序評価規\n",
    "則は練習問題 1.5に記述されている)。  \n",
    "置換法を(正規順序に対して)使って、  \n",
    "(gcd 206 40) を評価する際に⽣成されるプロセスを図⽰し、  \n",
    "実際に実⾏される remainder 演算を⽰せ。(gcd 206 40)の正規順序評価では、  \n",
    "remainder 演算は何回実⾏されるだろうか。  \n",
    "適⽤順序評価ではどうだろうか。説明せよ。"
   ]
  },
  {
   "cell_type": "markdown",
   "metadata": {},
   "source": [
    "回答は割愛する。"
   ]
  }
 ],
 "metadata": {
  "kernelspec": {
   "display_name": "Calysto Scheme 3",
   "language": "scheme",
   "name": "calysto_scheme"
  },
  "language_info": {
   "codemirror_mode": {
    "name": "scheme"
   },
   "mimetype": "text/x-scheme",
   "name": "scheme",
   "pygments_lexer": "scheme"
  }
 },
 "nbformat": 4,
 "nbformat_minor": 4
}
