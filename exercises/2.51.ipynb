{
 "cells": [
  {
   "cell_type": "markdown",
   "metadata": {},
   "source": [
    "### 練習問題2.51\n",
    "ペインタに対するbelow演算を定義せよ。  \n",
    "belowは⼆つのペインタを引数に取る。  \n",
    "返り値となるペインタは、枠が与えられたとき、  \n",
    "⼀つ⽬のペインタで枠の下部を描画し、  \n",
    "⼆つ⽬のペインタで上部を描画する。  \n",
    "⼆つのやり⽅でbelowを定義せよ。  \n",
    "⼀つ⽬は、上に⽰したbeside⼿続きと似たような⼿続きを書くというもので、  \n",
    "⼆つ⽬は、besideと適切な回転演算(練習問題2.50のもの)によって定義するというものである。"
   ]
  },
  {
   "cell_type": "code",
   "execution_count": 1,
   "metadata": {
    "jupyter": {
     "source_hidden": true
    }
   },
   "outputs": [],
   "source": [
    "; 線形変換\n",
    "; 通常の行列計算より最適化してある。\n",
    "; transform-painter手続きで線形変換だけ必要だったので、\n",
    "; frame-coord-map手続きのアフィン変換と分離した。\n",
    "(define (linear-transform frame v)\n",
    "  (let ((edge1 (edge1-frame frame))\n",
    "        (edge2 (edge2-frame frame)))\n",
    "    (let ((x (xcor-vect v))\n",
    "          (y (ycor-vect v)))\n",
    "      (add-vect (scale-vect x edge1) (scale-vect y edge2))\n",
    "     )\n",
    "    )\n",
    "  )\n",
    "\n",
    "\n",
    "; テキストの実装から変更している。\n",
    "; 通常の線形変換の数式に沿っている。\n",
    "(define (frame-coord-map frame)\n",
    "  (lambda (v)\n",
    "    (let ((edge1 (edge1-frame frame))\n",
    "          (edge2 (edge2-frame frame)))\n",
    "      (add-vect\n",
    "       (origin-frame frame)\n",
    "       (linear-transform frame v)\n",
    "      )\n",
    "     )\n",
    "    )\n",
    "  )\n",
    "\n",
    "; ベクトルコンストラクタ・セレクタ\n",
    "(define (make-vect x y) (cons x y))\n",
    "(define (xcor-vect v)(car v))\n",
    "(define (ycor-vect v)(cdr v))\n",
    "\n",
    "; ベクトル演算\n",
    "(define (add-vect v1 v2)\n",
    "  (make-vect (+ (xcor-vect v1)\n",
    "                (xcor-vect v2))\n",
    "             (+ (ycor-vect v1)\n",
    "                (ycor-vect v2))))\n",
    "(define (sub-vect v1 v2)\n",
    "  (make-vect (- (xcor-vect v1)\n",
    "                (xcor-vect v2))\n",
    "             (- (ycor-vect v1)\n",
    "                (ycor-vect v2))))\n",
    "(define (scale-vect s v)\n",
    "  (make-vect (* s (xcor-vect v))\n",
    "             (* s (ycor-vect v))))\n",
    "\n",
    "; フレームコンストラクタ・セレクタ\n",
    "(define (make-frame origin edge1 edge2)(list origin edge1 edge2))\n",
    "(define (origin-frame frame)(car frame))\n",
    "(define (edge1-frame frame)(cadr frame))\n",
    "(define (edge2-frame frame)(caddr frame))\n",
    "\n",
    "; 線分コンストラクタ・セレクタ\n",
    "(define (make-segment v1 v2)(cons v1 v2))\n",
    "(define (start-segment seg)(car seg))\n",
    "(define (end-segment seg)(cdr seg))\n",
    "\n",
    "; ペインタ\n",
    "(define (segments->painter segment-list)\n",
    "  (lambda (frame)\n",
    "    (for-each\n",
    "     (lambda (segment)\n",
    "       (draw-line\n",
    "        ((frame-coord-map frame) (start-segment segment))\n",
    "        ((frame-coord-map frame) (end-segment segment))))\n",
    "     segment-list)))\n",
    "\n",
    "; ペインタ変換と組み合わせ\n",
    "(define (transform-painter painter origin corner1 corner2)\n",
    "  (lambda (frame)\n",
    "    (let ((m (frame-coord-map frame)))\n",
    "      (let ((new-origin (m origin)))\n",
    "        (painter\n",
    "         (make-frame new-origin\n",
    "                     (linear-transform frame corner1)\n",
    "                     (linear-transform frame corner2)\n",
    "                     )\n",
    "         )\n",
    "        )\n",
    "      )\n",
    "    )\n",
    "  )\n",
    "\n",
    "(import-as \"picseg\" 'pic)\n",
    "\n",
    "(define (draw-line v1 v2)\n",
    "  (let ((start-x (xcor-vect v1))\n",
    "        (start-y (ycor-vect v1))\n",
    "        (end-x (xcor-vect v2))\n",
    "        (end-y (ycor-vect v2)))\n",
    "    (pic.draw_line start-x start-y end-x end-y)\n",
    "    ;(display \"(\")\n",
    "    ;(display start-x)\n",
    "    ;(display \",\")\n",
    "    ;(display start-y)\n",
    "    ;(display \") (\")\n",
    "    ;(display end-x)\n",
    "    ;(display \",\")\n",
    "    ;(display end-y)\n",
    "    ;(display \")\")\n",
    "    ;(newline)\n",
    "    )\n",
    "  )\n",
    "\n",
    "; ペインタの動作確認\n",
    "(define (paint painter)\n",
    "  (let ((frame0 (make-frame\n",
    "                            (make-vect 0 0)\n",
    "                            (make-vect 1 0)\n",
    "                            (make-vect 0 1))))\n",
    "    (pic.clear)\n",
    "    (painter frame0)\n",
    "    (pic.update)\n",
    "    )\n",
    "  )"
   ]
  },
  {
   "cell_type": "code",
   "execution_count": 2,
   "metadata": {
    "jupyter": {
     "source_hidden": true
    }
   },
   "outputs": [
    {
     "data": {
      "image/svg+xml": [
       "<svg baseProfile=\"full\" height=\"256\" version=\"1.1\" width=\"256\" xmlns=\"http://www.w3.org/2000/svg\" xmlns:ev=\"http://www.w3.org/2001/xml-events\" xmlns:xlink=\"http://www.w3.org/1999/xlink\"><defs /><line fill=\"#800080\" stroke=\"#000000\" stroke-width=\"1\" x1=\"0.0\" x2=\"39.424\" y1=\"90.88\" y2=\"150.784\" /><line fill=\"#800080\" stroke=\"#000000\" stroke-width=\"1\" x1=\"39.424\" x2=\"77.312\" y1=\"150.784\" y2=\"105.47200000000001\" /><line fill=\"#800080\" stroke=\"#000000\" stroke-width=\"1\" x1=\"77.312\" x2=\"90.624\" y1=\"105.47200000000001\" y2=\"128.768\" /><line fill=\"#800080\" stroke=\"#000000\" stroke-width=\"1\" x1=\"90.624\" x2=\"62.72\" y1=\"128.768\" y2=\"256.0\" /><line fill=\"#800080\" stroke=\"#000000\" stroke-width=\"1\" x1=\"107.264\" x2=\"127.232\" y1=\"256.0\" y2=\"212.224\" /><line fill=\"#800080\" stroke=\"#000000\" stroke-width=\"1\" x1=\"127.232\" x2=\"147.2\" y1=\"212.224\" y2=\"256.0\" /><line fill=\"#800080\" stroke=\"#000000\" stroke-width=\"1\" x1=\"191.488\" x2=\"154.88\" y1=\"256.0\" y2=\"137.728\" /><line fill=\"#800080\" stroke=\"#000000\" stroke-width=\"1\" x1=\"154.88\" x2=\"256.0\" y1=\"137.728\" y2=\"219.648\" /><line fill=\"#800080\" stroke=\"#000000\" stroke-width=\"1\" x1=\"256.0\" x2=\"191.488\" y1=\"165.376\" y2=\"87.80799999999999\" /><line fill=\"#800080\" stroke=\"#000000\" stroke-width=\"1\" x1=\"191.488\" x2=\"148.992\" y1=\"87.80799999999999\" y2=\"87.80799999999999\" /><line fill=\"#800080\" stroke=\"#000000\" stroke-width=\"1\" x1=\"148.992\" x2=\"163.84\" y1=\"87.80799999999999\" y2=\"36.608000000000004\" /><line fill=\"#800080\" stroke=\"#000000\" stroke-width=\"1\" x1=\"163.84\" x2=\"147.2\" y1=\"36.608000000000004\" y2=\"0.0\" /><line fill=\"#800080\" stroke=\"#000000\" stroke-width=\"1\" x1=\"107.264\" x2=\"90.624\" y1=\"0.0\" y2=\"36.608000000000004\" /><line fill=\"#800080\" stroke=\"#000000\" stroke-width=\"1\" x1=\"90.624\" x2=\"105.216\" y1=\"36.608000000000004\" y2=\"87.80799999999999\" /><line fill=\"#800080\" stroke=\"#000000\" stroke-width=\"1\" x1=\"105.216\" x2=\"72.96\" y1=\"87.80799999999999\" y2=\"87.80799999999999\" /><line fill=\"#800080\" stroke=\"#000000\" stroke-width=\"1\" x1=\"72.96\" x2=\"39.424\" y1=\"87.80799999999999\" y2=\"101.12\" /><line fill=\"#800080\" stroke=\"#000000\" stroke-width=\"1\" x1=\"39.424\" x2=\"0.0\" y1=\"101.12\" y2=\"36.608000000000004\" /></svg>"
      ],
      "text/plain": [
       "<Canvas (256, 256)>"
      ]
     },
     "metadata": {},
     "output_type": "display_data"
    }
   ],
   "source": [
    "; waveペインタ\n",
    "; 以下のサイトを参照しました。\n",
    "; https://gist.github.com/tkmr/28498\n",
    "(define wave\n",
    "  (lambda (frame)\n",
    "    ((segments->painter\n",
    "      (list (make-segment (make-vect 0.000 0.645) (make-vect 0.154 0.411))\n",
    "            (make-segment (make-vect 0.154 0.411) (make-vect 0.302 0.588))\n",
    "            (make-segment (make-vect 0.302 0.588) (make-vect 0.354 0.497))\n",
    "            (make-segment (make-vect 0.354 0.497) (make-vect 0.245 0.000))\n",
    "            (make-segment (make-vect 0.419 0.000) (make-vect 0.497 0.171))\n",
    "            (make-segment (make-vect 0.497 0.171) (make-vect 0.575 0.000))\n",
    "            (make-segment (make-vect 0.748 0.000) (make-vect 0.605 0.462))\n",
    "            (make-segment (make-vect 0.605 0.462) (make-vect 1.000 0.142))\n",
    "            (make-segment (make-vect 1.000 0.354) (make-vect 0.748 0.657))\n",
    "            (make-segment (make-vect 0.748 0.657) (make-vect 0.582 0.657))\n",
    "            (make-segment (make-vect 0.582 0.657) (make-vect 0.640 0.857))\n",
    "            (make-segment (make-vect 0.640 0.857) (make-vect 0.575 1.000))\n",
    "            (make-segment (make-vect 0.419 1.000) (make-vect 0.354 0.857))\n",
    "            (make-segment (make-vect 0.354 0.857) (make-vect 0.411 0.657))\n",
    "            (make-segment (make-vect 0.411 0.657) (make-vect 0.285 0.657))\n",
    "            (make-segment (make-vect 0.285 0.657) (make-vect 0.154 0.605))\n",
    "            (make-segment (make-vect 0.154 0.605) (make-vect 0.000 0.857)))) frame)))\n",
    "\n",
    "\n",
    "(paint wave)"
   ]
  },
  {
   "cell_type": "code",
   "execution_count": 3,
   "metadata": {},
   "outputs": [
    {
     "data": {
      "image/svg+xml": [
       "<svg baseProfile=\"full\" height=\"256\" version=\"1.1\" width=\"256\" xmlns=\"http://www.w3.org/2000/svg\" xmlns:ev=\"http://www.w3.org/2001/xml-events\" xmlns:xlink=\"http://www.w3.org/1999/xlink\"><defs /><line fill=\"#800080\" stroke=\"#000000\" stroke-width=\"1\" x1=\"0.0\" x2=\"39.424\" y1=\"173.44\" y2=\"203.392\" /><line fill=\"#800080\" stroke=\"#000000\" stroke-width=\"1\" x1=\"39.424\" x2=\"77.312\" y1=\"203.392\" y2=\"180.736\" /><line fill=\"#800080\" stroke=\"#000000\" stroke-width=\"1\" x1=\"77.312\" x2=\"90.624\" y1=\"180.736\" y2=\"192.38400000000001\" /><line fill=\"#800080\" stroke=\"#000000\" stroke-width=\"1\" x1=\"90.624\" x2=\"62.72\" y1=\"192.38400000000001\" y2=\"256.0\" /><line fill=\"#800080\" stroke=\"#000000\" stroke-width=\"1\" x1=\"107.264\" x2=\"127.232\" y1=\"256.0\" y2=\"234.112\" /><line fill=\"#800080\" stroke=\"#000000\" stroke-width=\"1\" x1=\"127.232\" x2=\"147.2\" y1=\"234.112\" y2=\"256.0\" /><line fill=\"#800080\" stroke=\"#000000\" stroke-width=\"1\" x1=\"191.488\" x2=\"154.88\" y1=\"256.0\" y2=\"196.864\" /><line fill=\"#800080\" stroke=\"#000000\" stroke-width=\"1\" x1=\"154.88\" x2=\"256.0\" y1=\"196.864\" y2=\"237.824\" /><line fill=\"#800080\" stroke=\"#000000\" stroke-width=\"1\" x1=\"256.0\" x2=\"191.488\" y1=\"210.688\" y2=\"171.904\" /><line fill=\"#800080\" stroke=\"#000000\" stroke-width=\"1\" x1=\"191.488\" x2=\"148.992\" y1=\"171.904\" y2=\"171.904\" /><line fill=\"#800080\" stroke=\"#000000\" stroke-width=\"1\" x1=\"148.992\" x2=\"163.84\" y1=\"171.904\" y2=\"146.304\" /><line fill=\"#800080\" stroke=\"#000000\" stroke-width=\"1\" x1=\"163.84\" x2=\"147.2\" y1=\"146.304\" y2=\"128.0\" /><line fill=\"#800080\" stroke=\"#000000\" stroke-width=\"1\" x1=\"107.264\" x2=\"90.624\" y1=\"128.0\" y2=\"146.304\" /><line fill=\"#800080\" stroke=\"#000000\" stroke-width=\"1\" x1=\"90.624\" x2=\"105.216\" y1=\"146.304\" y2=\"171.904\" /><line fill=\"#800080\" stroke=\"#000000\" stroke-width=\"1\" x1=\"105.216\" x2=\"72.96\" y1=\"171.904\" y2=\"171.904\" /><line fill=\"#800080\" stroke=\"#000000\" stroke-width=\"1\" x1=\"72.96\" x2=\"39.424\" y1=\"171.904\" y2=\"178.56\" /><line fill=\"#800080\" stroke=\"#000000\" stroke-width=\"1\" x1=\"39.424\" x2=\"0.0\" y1=\"178.56\" y2=\"146.304\" /><line fill=\"#800080\" stroke=\"#000000\" stroke-width=\"1\" x1=\"0.0\" x2=\"39.424\" y1=\"45.44\" y2=\"75.392\" /><line fill=\"#800080\" stroke=\"#000000\" stroke-width=\"1\" x1=\"39.424\" x2=\"77.312\" y1=\"75.392\" y2=\"52.73599999999999\" /><line fill=\"#800080\" stroke=\"#000000\" stroke-width=\"1\" x1=\"77.312\" x2=\"90.624\" y1=\"52.73599999999999\" y2=\"64.38400000000001\" /><line fill=\"#800080\" stroke=\"#000000\" stroke-width=\"1\" x1=\"90.624\" x2=\"62.72\" y1=\"64.38400000000001\" y2=\"128.0\" /><line fill=\"#800080\" stroke=\"#000000\" stroke-width=\"1\" x1=\"107.264\" x2=\"127.232\" y1=\"128.0\" y2=\"106.112\" /><line fill=\"#800080\" stroke=\"#000000\" stroke-width=\"1\" x1=\"127.232\" x2=\"147.2\" y1=\"106.112\" y2=\"128.0\" /><line fill=\"#800080\" stroke=\"#000000\" stroke-width=\"1\" x1=\"191.488\" x2=\"154.88\" y1=\"128.0\" y2=\"68.864\" /><line fill=\"#800080\" stroke=\"#000000\" stroke-width=\"1\" x1=\"154.88\" x2=\"256.0\" y1=\"68.864\" y2=\"109.82400000000001\" /><line fill=\"#800080\" stroke=\"#000000\" stroke-width=\"1\" x1=\"256.0\" x2=\"191.488\" y1=\"82.68799999999999\" y2=\"43.903999999999996\" /><line fill=\"#800080\" stroke=\"#000000\" stroke-width=\"1\" x1=\"191.488\" x2=\"148.992\" y1=\"43.903999999999996\" y2=\"43.903999999999996\" /><line fill=\"#800080\" stroke=\"#000000\" stroke-width=\"1\" x1=\"148.992\" x2=\"163.84\" y1=\"43.903999999999996\" y2=\"18.304000000000002\" /><line fill=\"#800080\" stroke=\"#000000\" stroke-width=\"1\" x1=\"163.84\" x2=\"147.2\" y1=\"18.304000000000002\" y2=\"0.0\" /><line fill=\"#800080\" stroke=\"#000000\" stroke-width=\"1\" x1=\"107.264\" x2=\"90.624\" y1=\"0.0\" y2=\"18.304000000000002\" /><line fill=\"#800080\" stroke=\"#000000\" stroke-width=\"1\" x1=\"90.624\" x2=\"105.216\" y1=\"18.304000000000002\" y2=\"43.903999999999996\" /><line fill=\"#800080\" stroke=\"#000000\" stroke-width=\"1\" x1=\"105.216\" x2=\"72.96\" y1=\"43.903999999999996\" y2=\"43.903999999999996\" /><line fill=\"#800080\" stroke=\"#000000\" stroke-width=\"1\" x1=\"72.96\" x2=\"39.424\" y1=\"43.903999999999996\" y2=\"50.56\" /><line fill=\"#800080\" stroke=\"#000000\" stroke-width=\"1\" x1=\"39.424\" x2=\"0.0\" y1=\"50.56\" y2=\"18.304000000000002\" /></svg>"
      ],
      "text/plain": [
       "<Canvas (256, 256)>"
      ]
     },
     "metadata": {},
     "output_type": "display_data"
    }
   ],
   "source": [
    "; 1つ目の回答\n",
    "; beside手続きと同様の実装\n",
    "(define (below painter1 painter2)\n",
    "  (let ((split-point (make-vect 0.0 0.5)))\n",
    "    (let ((paint-below\n",
    "           (transform-painter painter1\n",
    "                              (make-vect 0.0 0.0)\n",
    "                              (make-vect 1.0 0.0)\n",
    "                              (make-vect 0.0 0.5)))\n",
    "          (paint-above\n",
    "           (transform-painter painter2\n",
    "                              (make-vect 0.0 0.5)\n",
    "                              (make-vect 1.0 0.0)\n",
    "                              (make-vect 0.0 0.5))))\n",
    "      (lambda (frame)\n",
    "        (paint-below frame)\n",
    "        (paint-above frame)))))\n",
    "\n",
    "(paint (below wave wave))"
   ]
  },
  {
   "cell_type": "code",
   "execution_count": 4,
   "metadata": {},
   "outputs": [
    {
     "data": {
      "image/svg+xml": [
       "<svg baseProfile=\"full\" height=\"256\" version=\"1.1\" width=\"256\" xmlns=\"http://www.w3.org/2000/svg\" xmlns:ev=\"http://www.w3.org/2001/xml-events\" xmlns:xlink=\"http://www.w3.org/1999/xlink\"><defs /><line fill=\"#800080\" stroke=\"#000000\" stroke-width=\"1\" x1=\"90.88\" x2=\"150.784\" y1=\"256.0\" y2=\"216.576\" /><line fill=\"#800080\" stroke=\"#000000\" stroke-width=\"1\" x1=\"150.784\" x2=\"105.47200000000001\" y1=\"216.576\" y2=\"178.688\" /><line fill=\"#800080\" stroke=\"#000000\" stroke-width=\"1\" x1=\"105.47200000000001\" x2=\"128.768\" y1=\"178.688\" y2=\"165.376\" /><line fill=\"#800080\" stroke=\"#000000\" stroke-width=\"1\" x1=\"128.768\" x2=\"256.0\" y1=\"165.376\" y2=\"193.28\" /><line fill=\"#800080\" stroke=\"#000000\" stroke-width=\"1\" x1=\"256.0\" x2=\"212.224\" y1=\"148.736\" y2=\"128.768\" /><line fill=\"#800080\" stroke=\"#000000\" stroke-width=\"1\" x1=\"212.224\" x2=\"256.0\" y1=\"128.768\" y2=\"108.80000000000001\" /><line fill=\"#800080\" stroke=\"#000000\" stroke-width=\"1\" x1=\"256.0\" x2=\"137.728\" y1=\"64.512\" y2=\"101.12\" /><line fill=\"#800080\" stroke=\"#000000\" stroke-width=\"1\" x1=\"137.728\" x2=\"219.648\" y1=\"101.12\" y2=\"0.0\" /><line fill=\"#800080\" stroke=\"#000000\" stroke-width=\"1\" x1=\"165.376\" x2=\"87.80799999999999\" y1=\"0.0\" y2=\"64.512\" /><line fill=\"#800080\" stroke=\"#000000\" stroke-width=\"1\" x1=\"87.80799999999999\" x2=\"87.80799999999999\" y1=\"64.512\" y2=\"107.00800000000001\" /><line fill=\"#800080\" stroke=\"#000000\" stroke-width=\"1\" x1=\"87.80799999999999\" x2=\"36.608000000000004\" y1=\"107.00800000000001\" y2=\"92.16\" /><line fill=\"#800080\" stroke=\"#000000\" stroke-width=\"1\" x1=\"36.608000000000004\" x2=\"0.0\" y1=\"92.16\" y2=\"108.80000000000001\" /><line fill=\"#800080\" stroke=\"#000000\" stroke-width=\"1\" x1=\"0.0\" x2=\"36.608000000000004\" y1=\"148.736\" y2=\"165.376\" /><line fill=\"#800080\" stroke=\"#000000\" stroke-width=\"1\" x1=\"36.608000000000004\" x2=\"87.80799999999999\" y1=\"165.376\" y2=\"150.784\" /><line fill=\"#800080\" stroke=\"#000000\" stroke-width=\"1\" x1=\"87.80799999999999\" x2=\"87.80799999999999\" y1=\"150.784\" y2=\"183.04000000000002\" /><line fill=\"#800080\" stroke=\"#000000\" stroke-width=\"1\" x1=\"87.80799999999999\" x2=\"101.12\" y1=\"183.04000000000002\" y2=\"216.576\" /><line fill=\"#800080\" stroke=\"#000000\" stroke-width=\"1\" x1=\"101.12\" x2=\"36.608000000000004\" y1=\"216.576\" y2=\"256.0\" /></svg>"
      ],
      "text/plain": [
       "<Canvas (256, 256)>"
      ]
     },
     "metadata": {},
     "output_type": "display_data"
    },
    {
     "data": {
      "image/svg+xml": [
       "<svg baseProfile=\"full\" height=\"256\" version=\"1.1\" width=\"256\" xmlns=\"http://www.w3.org/2000/svg\" xmlns:ev=\"http://www.w3.org/2001/xml-events\" xmlns:xlink=\"http://www.w3.org/1999/xlink\"><defs /><line fill=\"#800080\" stroke=\"#000000\" stroke-width=\"1\" x1=\"256.0\" x2=\"216.576\" y1=\"165.12\" y2=\"105.21600000000001\" /><line fill=\"#800080\" stroke=\"#000000\" stroke-width=\"1\" x1=\"216.576\" x2=\"178.688\" y1=\"105.21600000000001\" y2=\"150.528\" /><line fill=\"#800080\" stroke=\"#000000\" stroke-width=\"1\" x1=\"178.688\" x2=\"165.376\" y1=\"150.528\" y2=\"127.232\" /><line fill=\"#800080\" stroke=\"#000000\" stroke-width=\"1\" x1=\"165.376\" x2=\"193.28\" y1=\"127.232\" y2=\"0.0\" /><line fill=\"#800080\" stroke=\"#000000\" stroke-width=\"1\" x1=\"148.736\" x2=\"128.768\" y1=\"0.0\" y2=\"43.77600000000001\" /><line fill=\"#800080\" stroke=\"#000000\" stroke-width=\"1\" x1=\"128.768\" x2=\"108.80000000000001\" y1=\"43.77600000000001\" y2=\"0.0\" /><line fill=\"#800080\" stroke=\"#000000\" stroke-width=\"1\" x1=\"64.512\" x2=\"101.12\" y1=\"0.0\" y2=\"118.27199999999999\" /><line fill=\"#800080\" stroke=\"#000000\" stroke-width=\"1\" x1=\"101.12\" x2=\"0.0\" y1=\"118.27199999999999\" y2=\"36.352000000000004\" /><line fill=\"#800080\" stroke=\"#000000\" stroke-width=\"1\" x1=\"0.0\" x2=\"64.512\" y1=\"90.624\" y2=\"168.192\" /><line fill=\"#800080\" stroke=\"#000000\" stroke-width=\"1\" x1=\"64.512\" x2=\"107.00800000000001\" y1=\"168.192\" y2=\"168.192\" /><line fill=\"#800080\" stroke=\"#000000\" stroke-width=\"1\" x1=\"107.00800000000001\" x2=\"92.16\" y1=\"168.192\" y2=\"219.392\" /><line fill=\"#800080\" stroke=\"#000000\" stroke-width=\"1\" x1=\"92.16\" x2=\"108.80000000000001\" y1=\"219.392\" y2=\"256.0\" /><line fill=\"#800080\" stroke=\"#000000\" stroke-width=\"1\" x1=\"148.736\" x2=\"165.376\" y1=\"256.0\" y2=\"219.392\" /><line fill=\"#800080\" stroke=\"#000000\" stroke-width=\"1\" x1=\"165.376\" x2=\"150.784\" y1=\"219.392\" y2=\"168.192\" /><line fill=\"#800080\" stroke=\"#000000\" stroke-width=\"1\" x1=\"150.784\" x2=\"183.04000000000002\" y1=\"168.192\" y2=\"168.192\" /><line fill=\"#800080\" stroke=\"#000000\" stroke-width=\"1\" x1=\"183.04000000000002\" x2=\"216.576\" y1=\"168.192\" y2=\"154.88\" /><line fill=\"#800080\" stroke=\"#000000\" stroke-width=\"1\" x1=\"216.576\" x2=\"256.0\" y1=\"154.88\" y2=\"219.392\" /></svg>"
      ],
      "text/plain": [
       "<Canvas (256, 256)>"
      ]
     },
     "metadata": {},
     "output_type": "display_data"
    },
    {
     "data": {
      "image/svg+xml": [
       "<svg baseProfile=\"full\" height=\"256\" version=\"1.1\" width=\"256\" xmlns=\"http://www.w3.org/2000/svg\" xmlns:ev=\"http://www.w3.org/2001/xml-events\" xmlns:xlink=\"http://www.w3.org/1999/xlink\"><defs /><line fill=\"#800080\" stroke=\"#000000\" stroke-width=\"1\" x1=\"165.12\" x2=\"105.216\" y1=\"0.0\" y2=\"39.42400000000001\" /><line fill=\"#800080\" stroke=\"#000000\" stroke-width=\"1\" x1=\"105.216\" x2=\"150.528\" y1=\"39.42400000000001\" y2=\"77.31200000000001\" /><line fill=\"#800080\" stroke=\"#000000\" stroke-width=\"1\" x1=\"150.528\" x2=\"127.232\" y1=\"77.31200000000001\" y2=\"90.624\" /><line fill=\"#800080\" stroke=\"#000000\" stroke-width=\"1\" x1=\"127.232\" x2=\"0.0\" y1=\"90.624\" y2=\"62.72\" /><line fill=\"#800080\" stroke=\"#000000\" stroke-width=\"1\" x1=\"0.0\" x2=\"43.776\" y1=\"107.26400000000001\" y2=\"127.232\" /><line fill=\"#800080\" stroke=\"#000000\" stroke-width=\"1\" x1=\"43.776\" x2=\"0.0\" y1=\"127.232\" y2=\"147.2\" /><line fill=\"#800080\" stroke=\"#000000\" stroke-width=\"1\" x1=\"0.0\" x2=\"118.272\" y1=\"191.488\" y2=\"154.88\" /><line fill=\"#800080\" stroke=\"#000000\" stroke-width=\"1\" x1=\"118.272\" x2=\"36.352\" y1=\"154.88\" y2=\"256.0\" /><line fill=\"#800080\" stroke=\"#000000\" stroke-width=\"1\" x1=\"90.624\" x2=\"168.192\" y1=\"256.0\" y2=\"191.488\" /><line fill=\"#800080\" stroke=\"#000000\" stroke-width=\"1\" x1=\"168.192\" x2=\"168.192\" y1=\"191.488\" y2=\"148.992\" /><line fill=\"#800080\" stroke=\"#000000\" stroke-width=\"1\" x1=\"168.192\" x2=\"219.392\" y1=\"148.992\" y2=\"163.84\" /><line fill=\"#800080\" stroke=\"#000000\" stroke-width=\"1\" x1=\"219.392\" x2=\"256.0\" y1=\"163.84\" y2=\"147.2\" /><line fill=\"#800080\" stroke=\"#000000\" stroke-width=\"1\" x1=\"256.0\" x2=\"219.392\" y1=\"107.26400000000001\" y2=\"90.624\" /><line fill=\"#800080\" stroke=\"#000000\" stroke-width=\"1\" x1=\"219.392\" x2=\"168.192\" y1=\"90.624\" y2=\"105.21600000000001\" /><line fill=\"#800080\" stroke=\"#000000\" stroke-width=\"1\" x1=\"168.192\" x2=\"168.192\" y1=\"105.21600000000001\" y2=\"72.95999999999998\" /><line fill=\"#800080\" stroke=\"#000000\" stroke-width=\"1\" x1=\"168.192\" x2=\"154.88\" y1=\"72.95999999999998\" y2=\"39.42400000000001\" /><line fill=\"#800080\" stroke=\"#000000\" stroke-width=\"1\" x1=\"154.88\" x2=\"219.392\" y1=\"39.42400000000001\" y2=\"0.0\" /></svg>"
      ],
      "text/plain": [
       "<Canvas (256, 256)>"
      ]
     },
     "metadata": {},
     "output_type": "display_data"
    }
   ],
   "source": [
    "; beside手続き\n",
    "; フレームの仕様を変えたので線形変換のベクトルは変更してある。\n",
    "(define (beside painter1 painter2)\n",
    "  (let ((split-point (make-vect 0.5 0.0)))\n",
    "    (let ((paint-left\n",
    "           (transform-painter painter1\n",
    "                              (make-vect 0.0 0.0)\n",
    "                              split-point\n",
    "                              (make-vect 0.0 1.0)\n",
    "                              )\n",
    "           )\n",
    "          (paint-right\n",
    "           (transform-painter painter2\n",
    "                              ;split-point\n",
    "                              ;(make-vect 1.0 0.0)\n",
    "                              ;(make-vect 0.5 1.0)\n",
    "                              split-point\n",
    "                              split-point\n",
    "                              (make-vect 0.0 1.0)\n",
    "                              )\n",
    "           )\n",
    "          )\n",
    "      (lambda (frame)\n",
    "        (paint-left frame)\n",
    "        (paint-right frame)))))\n",
    "\n",
    "(define (rotate90 painter)\n",
    "  (transform-painter painter\n",
    "                     (make-vect 1.0 0.0)\n",
    "                     (make-vect 0.0 1.0)\n",
    "                     (make-vect -1.0 0.0)\n",
    "            )\n",
    "  )\n",
    "\n",
    "(paint (rotate90 wave))\n",
    "\n",
    "(define (rotate180 painter)\n",
    "  (transform-painter painter\n",
    "                     (make-vect 1.0 1.0)\n",
    "                     (make-vect -1.0 0.0)\n",
    "                     (make-vect 0.0 -1.0)\n",
    "            )\n",
    "  )\n",
    "\n",
    "(paint (rotate180 wave))\n",
    "\n",
    "(define (rotate270 painter)\n",
    "  (transform-painter painter\n",
    "                     (make-vect 0.0 1.0)\n",
    "                     (make-vect 0.0 -1.0)\n",
    "                     (make-vect 1.0 0.0)\n",
    "            )\n",
    "  )\n",
    "\n",
    "(paint (rotate270 wave))"
   ]
  },
  {
   "cell_type": "code",
   "execution_count": 5,
   "metadata": {},
   "outputs": [
    {
     "data": {
      "image/svg+xml": [
       "<svg baseProfile=\"full\" height=\"256\" version=\"1.1\" width=\"256\" xmlns=\"http://www.w3.org/2000/svg\" xmlns:ev=\"http://www.w3.org/2001/xml-events\" xmlns:xlink=\"http://www.w3.org/1999/xlink\"><defs /><line fill=\"#800080\" stroke=\"#000000\" stroke-width=\"1\" x1=\"0.0\" x2=\"39.424\" y1=\"45.44\" y2=\"75.392\" /><line fill=\"#800080\" stroke=\"#000000\" stroke-width=\"1\" x1=\"39.424\" x2=\"77.312\" y1=\"75.392\" y2=\"52.73599999999999\" /><line fill=\"#800080\" stroke=\"#000000\" stroke-width=\"1\" x1=\"77.312\" x2=\"90.624\" y1=\"52.73599999999999\" y2=\"64.38400000000001\" /><line fill=\"#800080\" stroke=\"#000000\" stroke-width=\"1\" x1=\"90.624\" x2=\"62.72\" y1=\"64.38400000000001\" y2=\"128.0\" /><line fill=\"#800080\" stroke=\"#000000\" stroke-width=\"1\" x1=\"107.264\" x2=\"127.232\" y1=\"128.0\" y2=\"106.112\" /><line fill=\"#800080\" stroke=\"#000000\" stroke-width=\"1\" x1=\"127.232\" x2=\"147.2\" y1=\"106.112\" y2=\"128.0\" /><line fill=\"#800080\" stroke=\"#000000\" stroke-width=\"1\" x1=\"191.488\" x2=\"154.88\" y1=\"128.0\" y2=\"68.864\" /><line fill=\"#800080\" stroke=\"#000000\" stroke-width=\"1\" x1=\"154.88\" x2=\"256.0\" y1=\"68.864\" y2=\"109.82400000000001\" /><line fill=\"#800080\" stroke=\"#000000\" stroke-width=\"1\" x1=\"256.0\" x2=\"191.488\" y1=\"82.68799999999999\" y2=\"43.903999999999996\" /><line fill=\"#800080\" stroke=\"#000000\" stroke-width=\"1\" x1=\"191.488\" x2=\"148.992\" y1=\"43.903999999999996\" y2=\"43.903999999999996\" /><line fill=\"#800080\" stroke=\"#000000\" stroke-width=\"1\" x1=\"148.992\" x2=\"163.84\" y1=\"43.903999999999996\" y2=\"18.304000000000002\" /><line fill=\"#800080\" stroke=\"#000000\" stroke-width=\"1\" x1=\"163.84\" x2=\"147.2\" y1=\"18.304000000000002\" y2=\"0.0\" /><line fill=\"#800080\" stroke=\"#000000\" stroke-width=\"1\" x1=\"107.264\" x2=\"90.624\" y1=\"0.0\" y2=\"18.304000000000002\" /><line fill=\"#800080\" stroke=\"#000000\" stroke-width=\"1\" x1=\"90.624\" x2=\"105.216\" y1=\"18.304000000000002\" y2=\"43.903999999999996\" /><line fill=\"#800080\" stroke=\"#000000\" stroke-width=\"1\" x1=\"105.216\" x2=\"72.96\" y1=\"43.903999999999996\" y2=\"43.903999999999996\" /><line fill=\"#800080\" stroke=\"#000000\" stroke-width=\"1\" x1=\"72.96\" x2=\"39.424\" y1=\"43.903999999999996\" y2=\"50.56\" /><line fill=\"#800080\" stroke=\"#000000\" stroke-width=\"1\" x1=\"39.424\" x2=\"0.0\" y1=\"50.56\" y2=\"18.304000000000002\" /><line fill=\"#800080\" stroke=\"#000000\" stroke-width=\"1\" x1=\"0.0\" x2=\"39.424\" y1=\"173.44\" y2=\"203.392\" /><line fill=\"#800080\" stroke=\"#000000\" stroke-width=\"1\" x1=\"39.424\" x2=\"77.312\" y1=\"203.392\" y2=\"180.736\" /><line fill=\"#800080\" stroke=\"#000000\" stroke-width=\"1\" x1=\"77.312\" x2=\"90.624\" y1=\"180.736\" y2=\"192.38400000000001\" /><line fill=\"#800080\" stroke=\"#000000\" stroke-width=\"1\" x1=\"90.624\" x2=\"62.72\" y1=\"192.38400000000001\" y2=\"256.0\" /><line fill=\"#800080\" stroke=\"#000000\" stroke-width=\"1\" x1=\"107.264\" x2=\"127.232\" y1=\"256.0\" y2=\"234.112\" /><line fill=\"#800080\" stroke=\"#000000\" stroke-width=\"1\" x1=\"127.232\" x2=\"147.2\" y1=\"234.112\" y2=\"256.0\" /><line fill=\"#800080\" stroke=\"#000000\" stroke-width=\"1\" x1=\"191.488\" x2=\"154.88\" y1=\"256.0\" y2=\"196.864\" /><line fill=\"#800080\" stroke=\"#000000\" stroke-width=\"1\" x1=\"154.88\" x2=\"256.0\" y1=\"196.864\" y2=\"237.824\" /><line fill=\"#800080\" stroke=\"#000000\" stroke-width=\"1\" x1=\"256.0\" x2=\"191.488\" y1=\"210.688\" y2=\"171.904\" /><line fill=\"#800080\" stroke=\"#000000\" stroke-width=\"1\" x1=\"191.488\" x2=\"148.992\" y1=\"171.904\" y2=\"171.904\" /><line fill=\"#800080\" stroke=\"#000000\" stroke-width=\"1\" x1=\"148.992\" x2=\"163.84\" y1=\"171.904\" y2=\"146.304\" /><line fill=\"#800080\" stroke=\"#000000\" stroke-width=\"1\" x1=\"163.84\" x2=\"147.2\" y1=\"146.304\" y2=\"128.0\" /><line fill=\"#800080\" stroke=\"#000000\" stroke-width=\"1\" x1=\"107.264\" x2=\"90.624\" y1=\"128.0\" y2=\"146.304\" /><line fill=\"#800080\" stroke=\"#000000\" stroke-width=\"1\" x1=\"90.624\" x2=\"105.216\" y1=\"146.304\" y2=\"171.904\" /><line fill=\"#800080\" stroke=\"#000000\" stroke-width=\"1\" x1=\"105.216\" x2=\"72.96\" y1=\"171.904\" y2=\"171.904\" /><line fill=\"#800080\" stroke=\"#000000\" stroke-width=\"1\" x1=\"72.96\" x2=\"39.424\" y1=\"171.904\" y2=\"178.56\" /><line fill=\"#800080\" stroke=\"#000000\" stroke-width=\"1\" x1=\"39.424\" x2=\"0.0\" y1=\"178.56\" y2=\"146.304\" /></svg>"
      ],
      "text/plain": [
       "<Canvas (256, 256)>"
      ]
     },
     "metadata": {},
     "output_type": "display_data"
    }
   ],
   "source": [
    "; 2つ目の回答\n",
    "; 回転とbeside手続きを使って実装\n",
    "(define (below painter1 painter2)\n",
    "  (rotate270 (beside (rotate90 painter1) (rotate90 painter2)))\n",
    "  )\n",
    "\n",
    "(paint (below wave wave))"
   ]
  }
 ],
 "metadata": {
  "kernelspec": {
   "display_name": "Calysto Scheme 3",
   "language": "scheme",
   "name": "calysto_scheme"
  },
  "language_info": {
   "codemirror_mode": {
    "name": "scheme"
   },
   "mimetype": "text/x-scheme",
   "name": "scheme",
   "pygments_lexer": "scheme"
  }
 },
 "nbformat": 4,
 "nbformat_minor": 4
}
