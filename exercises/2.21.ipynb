{
 "cells": [
  {
   "cell_type": "markdown",
   "metadata": {},
   "source": [
    "### 練習問題2.21\n",
    "⼿続きsquare-listは、引数として数値のリストを取り、それらの数値の⼆乗の列を持つリストを返す。  \n",
    "\n",
    "    (square-list (list 1 2 3 4))\n",
    "    (1 4 9 16)\n",
    "    \n",
    "次に⼆つの異なるsquare-listの定義を⽰す。  \n",
    "⽋けた部分を埋め、 ⼆つとも完成させよ。  \n",
    "\n",
    "    (define (square-list items)\n",
    "      (if (null? items) nil\n",
    "          (cons ⟨??⟩ ⟨??⟩)))\n",
    "\n",
    "    (define (square-list items)\n",
    "          (map ⟨??⟩ ⟨??⟩))\n"
   ]
  },
  {
   "cell_type": "code",
   "execution_count": 1,
   "metadata": {},
   "outputs": [],
   "source": [
    "(define (square x)(* x x))"
   ]
  },
  {
   "cell_type": "code",
   "execution_count": 2,
   "metadata": {},
   "outputs": [
    {
     "data": {
      "text/plain": [
       "(1 4 9 16)"
      ]
     },
     "execution_count": 2,
     "metadata": {},
     "output_type": "execute_result"
    }
   ],
   "source": [
    "; map無し版\n",
    "(define (square-list items)\n",
    "  (if (null? items) '()\n",
    "      (cons (square (car items)) (square-list (cdr items)))\n",
    "      )\n",
    "  )\n",
    "(square-list (list 1 2 3 4))"
   ]
  },
  {
   "cell_type": "code",
   "execution_count": 3,
   "metadata": {},
   "outputs": [
    {
     "data": {
      "text/plain": [
       "(1 4 9 16)"
      ]
     },
     "execution_count": 3,
     "metadata": {},
     "output_type": "execute_result"
    }
   ],
   "source": [
    "; map使用版\n",
    "(define (square-list items)\n",
    "  (map square items))\n",
    "(square-list (list 1 2 3 4))"
   ]
  }
 ],
 "metadata": {
  "kernelspec": {
   "display_name": "Calysto Scheme 3",
   "language": "scheme",
   "name": "calysto_scheme"
  },
  "language_info": {
   "codemirror_mode": {
    "name": "scheme"
   },
   "mimetype": "text/x-scheme",
   "name": "scheme",
   "pygments_lexer": "scheme"
  }
 },
 "nbformat": 4,
 "nbformat_minor": 4
}
