{
 "cells": [
  {
   "cell_type": "markdown",
   "metadata": {},
   "source": [
    "### 練習問題2.20\n",
    "⼿続き+, \\*, listは任意の数の引数を取る。  \n",
    "このような⼿続きを定義する⽅法のひとつとして、  \n",
    "defineで**ドット末尾記法**(dotted-tail notation)を使うというものがある。  \n",
    "⼿続きの定義の中で、仮引数リストの最後の仮引数名の前にドットのあるものは、  \n",
    "⼿続きが呼ばれるときに、  前のほうの仮引数は(もしあれば)  \n",
    "通常通り前のほうの引数の値を持つことになるが、  \n",
    "最後の仮引数の値は残りの引数すべてのリスト(list)となる。  \n",
    "例えば、次のような定義の場合、\n",
    "    \n",
    "    (define (f x y . z) ⟨body⟩)\n",
    "    \n",
    "⼿続きfは、⼆つ以上の引数で呼び出すことができる。  \n",
    "次のもの を評価すると、\n",
    "\n",
    "    (f 1 2 3 4 5 6)  \n",
    "    \n",
    "fの本体では、xは1となり、yは2で、zはリスト(3 4 5 6)となる。  \n",
    "次の定義の場合、  \n",
    "\n",
    "    (define (g . w) ⟨body⟩)\n",
    "    \n",
    "⼿続きgは0個以上の引数で呼び出すことができる。\n",
    "次のものを評価すると、\n",
    "\n",
    "    (g 1 2 3 4 5 6)  \n",
    "    \n",
    "gの本体では、wはリスト(1 2 3 4 5 6)となる。\n",
    "same-parityは、ひとつ以上の整数を引数として取り、  \n",
    "最初の引数と同じ偶奇性を持つ引数すべてのリストを返す⼿続きとする。  \n",
    "例えば、次のようになる。\n",
    "\n",
    "    (same-parity 1 2 3 4 5 6 7)\n",
    "    (1 3 5 7)\n",
    "    (same-parity 2 3 4 5 6 7)\n",
    "    (2 4 6)\n",
    "    \n",
    "上記の記法を使ってこの⼿続きを書け。"
   ]
  },
  {
   "cell_type": "code",
   "execution_count": 1,
   "metadata": {},
   "outputs": [
    {
     "name": "stdout",
     "output_type": "stream",
     "text": [
      "(1 3 5 7)\n",
      "(2 4 6)\n",
      "(3 5 15 23 65 73)\n",
      "(2)\n",
      "()\n"
     ]
    }
   ],
   "source": [
    "; 再帰プロセス\n",
    "(define (same-parity . l)\n",
    "  (if (null? l) '()\n",
    "      (let ((top (car l)))\n",
    "        (let ((mod (% top 2)))\n",
    "          (define (iter l_tmp)\n",
    "              (if (null? l_tmp) '()\n",
    "                (let ((item (car l_tmp)))\n",
    "                  (if (= (% item 2) mod)(cons (car l_tmp) (iter (cdr l_tmp)))\n",
    "                      (iter (cdr l_tmp))\n",
    "                      )\n",
    "                  )\n",
    "                )\n",
    "          )\n",
    "          (iter l)\n",
    "        )\n",
    "      )\n",
    "    )\n",
    "  )\n",
    "\n",
    "; 動作確認\n",
    "(display (same-parity 1 2 3 4 5 6 7))\n",
    "(newline)\n",
    "(display (same-parity 2 3 4 5 6 7))\n",
    "(newline)\n",
    "(display (same-parity 3 4 5 6 12 15 20 23 30 65 73))\n",
    "(newline)\n",
    "(display (same-parity 2))\n",
    "(newline)\n",
    "(display (same-parity))\n",
    "(newline)"
   ]
  }
 ],
 "metadata": {
  "kernelspec": {
   "display_name": "Calysto Scheme 3",
   "language": "scheme",
   "name": "calysto_scheme"
  },
  "language_info": {
   "codemirror_mode": {
    "name": "scheme"
   },
   "mimetype": "text/x-scheme",
   "name": "scheme",
   "pygments_lexer": "scheme"
  }
 },
 "nbformat": 4,
 "nbformat_minor": 4
}
