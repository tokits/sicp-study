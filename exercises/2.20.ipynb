{
 "cells": [
  {
   "cell_type": "markdown",
   "metadata": {},
   "source": [
    "### 練習問題2.20\n",
    "⼿続き+, \\*, listは任意の数の引数を取る。  \n",
    "このような⼿続きを定義する⽅法のひとつとして、  \n",
    "defineで**ドット末尾記法**(dotted-tail notation)を使うというものがある。  \n",
    "⼿続きの定義の中で、仮引数リストの最後の仮引数名の前にドットのあるものは、  \n",
    "⼿続きが呼ばれるときに、  前のほうの仮引数は(もしあれば)  \n",
    "通常通り前のほうの引数の値を持つことになるが、  \n",
    "最後の仮引数の値は残りの引数すべてのリスト(list)となる。  \n",
    "例えば、次のような定義の場合、\n",
    "    \n",
    "    (define (f x y . z) ⟨body⟩)\n",
    "    \n",
    "⼿続きfは、⼆つ以上の引数で呼び出すことができる。  \n",
    "次のもの を評価すると、\n",
    "\n",
    "    (f 1 2 3 4 5 6)  \n",
    "    \n",
    "fの本体では、xは1となり、yは2で、zはリスト(3 4 5 6)となる。  \n",
    "次の定義の場合、  \n",
    "\n",
    "    (define (g . w) ⟨body⟩)\n",
    "    \n",
    "⼿続きgは0個以上の引数で呼び出すことができる。\n",
    "次のものを評価すると、\n",
    "\n",
    "    (g 1 2 3 4 5 6)  \n",
    "    \n",
    "gの本体では、wはリスト(1 2 3 4 5 6)となる。\n",
    "same-parityは、ひとつ以上の整数を引数として取り、  \n",
    "最初の引数と同じ偶奇性を持つ引数すべてのリストを返す⼿続きとする。  \n",
    "例えば、次のようになる。\n",
    "\n",
    "    (same-parity 1 2 3 4 5 6 7)\n",
    "    (1 3 5 7)\n",
    "    (same-parity 2 3 4 5 6 7)\n",
    "    (2 4 6)\n",
    "    \n",
    "上記の記法を使ってこの⼿続きを書け。"
   ]
  },
  {
   "cell_type": "code",
   "execution_count": 1,
   "metadata": {},
   "outputs": [
    {
     "name": "stdout",
     "output_type": "stream",
     "text": [
      "(1 3 5 7)\n",
      "(2 4 6)\n",
      "(3 5 15 23 65 73)\n",
      "(2)\n"
     ]
    }
   ],
   "source": [
    "; 問題文から一つ目の引数は必須である。\n",
    "; 2つ目からは可変とする。\n",
    "; 再帰プロセスで記述する。\n",
    "(define (same-parity top . except-list)\n",
    "  (let ((mod (% top 2)))\n",
    "    (define (iter l)\n",
    "      (if (null? l) '()\n",
    "          (let ((next (car l)))\n",
    "            (if (= (% next 2) mod) (cons next (iter (cdr l)))\n",
    "                (iter (cdr l))\n",
    "                )\n",
    "            )\n",
    "          )\n",
    "      )\n",
    "    (cons top (iter except-list))\n",
    "    )\n",
    "  )\n",
    "\n",
    "; 動作確認\n",
    "(display (same-parity 1 2 3 4 5 6 7))\n",
    "(newline)\n",
    "(display (same-parity 2 3 4 5 6 7))\n",
    "(newline)\n",
    "(display (same-parity 3 4 5 6 12 15 20 23 30 65 73))\n",
    "(newline)\n",
    "(display (same-parity 2))\n",
    "(newline)"
   ]
  }
 ],
 "metadata": {
  "kernelspec": {
   "display_name": "Calysto Scheme 3",
   "language": "scheme",
   "name": "calysto_scheme"
  },
  "language_info": {
   "codemirror_mode": {
    "name": "scheme"
   },
   "mimetype": "text/x-scheme",
   "name": "scheme",
   "pygments_lexer": "scheme"
  }
 },
 "nbformat": 4,
 "nbformat_minor": 4
}
