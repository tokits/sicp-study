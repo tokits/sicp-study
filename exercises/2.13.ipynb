{
 "cells": [
  {
   "cell_type": "markdown",
   "metadata": {},
   "source": [
    "### 練習問題2.13\n",
    "パーセント許容誤差が⼩さいという前提のもとでは、  \n",
    "⼆つの区間の積のパーセント許容誤差を因数の許容誤差の積によって  \n",
    "近似する簡単な式が存在することを⽰せ。  \n",
    "すべての数値は正であると仮定して問題を単純化してもよい。"
   ]
  },
  {
   "cell_type": "code",
   "execution_count": 1,
   "metadata": {},
   "outputs": [
    {
     "name": "stdout",
     "output_type": "stream",
     "text": [
      "16.0\n",
      "0.16000000000000014\n",
      "1.0000000000000009\n",
      "16.0\n",
      "0.16000000000000014\n",
      "1.0000000000000009\n",
      "32.0\n",
      "0.15999999999999837\n",
      "0.4999999999999949\n",
      "256.0256\n",
      "5.1200000000000045\n",
      "1.999800019998002\n",
      "512.0255999999999\n",
      "7.680000000000007\n",
      "1.499925003749814\n",
      "512.0\n",
      "7.679999999999978\n",
      "1.4999999999999958\n"
     ]
    }
   ],
   "source": [
    "(define (make-interval a b) (cons a b))\n",
    "(define (lower-bound x)(car x))\n",
    "(define (upper-bound x)(cdr x))\n",
    "\n",
    "(define (make-center-width c w)\n",
    "  (make-interval (- c w) (+ c w)))\n",
    "(define (center i)\n",
    "  (/ (+ (lower-bound i) (upper-bound i)) 2))\n",
    "(define (width i)\n",
    "  (/ (- (upper-bound i) (lower-bound i)) 2))\n",
    "(define (make-center-percent c p)\n",
    "  (let ((w (* c (/ p 100.0))))\n",
    "    (make-interval (- c w) (+ c w)))\n",
    "  )\n",
    "(define (percent i)\n",
    "  (* (/ (width i) (center i)) 100.0)\n",
    "  )\n",
    "; 区間の積\n",
    "(define (mul-interval x y)\n",
    "  (let ((p1 (* (lower-bound x) (lower-bound y)))\n",
    "        (p2 (* (lower-bound x) (upper-bound y)))\n",
    "        (p3 (* (upper-bound x) (lower-bound y)))\n",
    "        (p4 (* (upper-bound x) (upper-bound y))))\n",
    "    (make-interval (min p1 p2 p3 p4)\n",
    "                   (max p1 p2 p3 p4)))\n",
    "  )\n",
    "\n",
    "; 動作確認\n",
    "(define i1 (make-center-percent 16.0 1.0))\n",
    "(display (center i1))\n",
    "(newline)\n",
    "(display (width i1))\n",
    "(newline)\n",
    "(display (percent i1))\n",
    "(newline)\n",
    "(define i2 (make-center-percent 16.0 1.0))\n",
    "(display (center i2))\n",
    "(newline)\n",
    "(display (width i2))\n",
    "(newline)\n",
    "(display (percent i2))\n",
    "(newline)\n",
    "(define i3 (make-center-percent 32.0 0.5))\n",
    "(display (center i3))\n",
    "(newline)\n",
    "(display (width i3))\n",
    "(newline)\n",
    "(display (percent i3))\n",
    "(newline)\n",
    "\n",
    "(define i12 (mul-interval i1 i2))\n",
    "(display (center i12))\n",
    "(newline)\n",
    "(display (width i12))\n",
    "(newline)\n",
    "(display (percent i12))\n",
    "(newline)\n",
    "\n",
    "(define i13 (mul-interval i1 i3))\n",
    "(display (center i13))\n",
    "(newline)\n",
    "(display (width i13))\n",
    "(newline)\n",
    "(display (percent i13))\n",
    "(newline)\n",
    "\n",
    "(define i3 (make-center-percent (* 16.0 32.0) (+ 1.0 0.5)))\n",
    "(display (center i3))\n",
    "(newline)\n",
    "(display (width i3))\n",
    "(newline)\n",
    "(display (percent i3))\n",
    "(newline)\n"
   ]
  },
  {
   "cell_type": "markdown",
   "metadata": {},
   "source": [
    "パーセント許容誤差は2つのパーセント許容誤差の和、抵抗値は2つの抵抗値の積とする。"
   ]
  }
 ],
 "metadata": {
  "kernelspec": {
   "display_name": "Calysto Scheme 3",
   "language": "scheme",
   "name": "calysto_scheme"
  },
  "language_info": {
   "codemirror_mode": {
    "name": "scheme"
   },
   "mimetype": "text/x-scheme",
   "name": "scheme",
   "pygments_lexer": "scheme"
  }
 },
 "nbformat": 4,
 "nbformat_minor": 4
}
