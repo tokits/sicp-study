{
 "cells": [
  {
   "cell_type": "markdown",
   "metadata": {},
   "source": [
    "### 練習問題2.13\n",
    "パーセント許容誤差が⼩さいという前提のもとでは、  \n",
    "⼆つの区間の積のパーセント許容誤差を因数の許容誤差の積によって  \n",
    "近似する簡単な式が存在することを⽰せ。  \n",
    "すべての数値は正であると仮定して問題を単純化してもよい。"
   ]
  },
  {
   "cell_type": "code",
   "execution_count": 1,
   "metadata": {},
   "outputs": [
    {
     "name": "stdout",
     "output_type": "stream",
     "text": [
      "16.0\n",
      "1.0\n",
      "6.25\n"
     ]
    }
   ],
   "source": [
    "(define (make-interval a b) (cons a b))\n",
    "(define (lower-bound x)(car x))\n",
    "(define (upper-bound x)(cdr x))\n",
    "\n",
    "(define (make-center-width c w)\n",
    "  (make-interval (- c w) (+ c w)))\n",
    "(define (center i)\n",
    "  (/ (+ (lower-bound i) (upper-bound i)) 2))\n",
    "(define (width i)\n",
    "  (/ (- (upper-bound i) (lower-bound i)) 2))\n",
    "(define (make-center-percent c p)\n",
    "  (let ((w (* c (/ p 100.0))))\n",
    "    (make-interval (- c w) (+ c w)))\n",
    "  )\n",
    "(define (percent i)\n",
    "  (* (/ (width i) (center i)) 100.0)\n",
    "  )\n",
    "\n",
    "; 動作確認\n",
    "(let ((i (make-center-percent 16.0 6.25)))\n",
    "  (display (center i))\n",
    "  (newline)\n",
    "  (display (width i))\n",
    "  (newline)\n",
    "  (display (percent i))\n",
    "  (newline)\n",
    "  )"
   ]
  },
  {
   "cell_type": "markdown",
   "metadata": {},
   "source": [
    "「⼆つの区間の積のパーセント許容誤差を因数の許容誤差の積によって近似する簡単な式」の  \n",
    "因数の意味がよく分からないため、回答は保留。"
   ]
  }
 ],
 "metadata": {
  "kernelspec": {
   "display_name": "Calysto Scheme 3",
   "language": "scheme",
   "name": "calysto_scheme"
  },
  "language_info": {
   "codemirror_mode": {
    "name": "scheme"
   },
   "mimetype": "text/x-scheme",
   "name": "scheme",
   "pygments_lexer": "scheme"
  }
 },
 "nbformat": 4,
 "nbformat_minor": 4
}
