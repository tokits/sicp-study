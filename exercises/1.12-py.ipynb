{
 "cells": [
  {
   "cell_type": "markdown",
   "metadata": {},
   "source": [
    "### 練習問題1.12\n",
    "以下の数値のパターンはパスカルの三⾓形(Pascal’s triangle)と呼ばれる。  \n",
    "\n",
    "        1   \n",
    "       1 1  \n",
    "      1 2 1  \n",
    "     1 3 3 1  \n",
    "    1 4 6 4 1  \n",
    "    ・・・  \n",
    "三⾓形の辺の数値はすべて1で、三⾓形内部の数値は、   \n",
    "それぞれ その上にある2つの数値の合計となっている。  \n",
    "パスカルの三⾓形の**要素**を再帰プロセスによって求める⼿続きを書け。"
   ]
  },
  {
   "cell_type": "markdown",
   "metadata": {},
   "source": [
    "1.2.2までのテキストの内容では、実装は難しいので割愛する。   \n",
    "また、再帰プロセスで実装となっているが、   \n",
    "１つ前の状態から次の状態を作るため、反復プロセスで実装するのが通常の方法だと思われる。  "
   ]
  },
  {
   "cell_type": "code",
   "execution_count": 1,
   "metadata": {},
   "outputs": [
    {
     "name": "stdout",
     "output_type": "stream",
     "text": [
      "1\n",
      "1 1\n",
      "1 2 1\n",
      "1 3 3 1\n",
      "1 4 6 4 1\n",
      "1 5 10 10 5 1\n",
      "1 6 15 20 15 6 1\n",
      "1 7 21 35 35 21 7 1\n",
      "1 8 28 56 70 56 28 8 1\n",
      "1 9 36 84 126 126 84 36 9 1\n",
      "1 10 45 120 210 252 210 120 45 10 1\n",
      "1 11 55 165 330 462 462 330 165 55 11 1\n",
      "1 12 66 220 495 792 924 792 495 220 66 12 1\n",
      "1 13 78 286 715 1287 1716 1716 1287 715 286 78 13 1\n",
      "1 14 91 364 1001 2002 3003 3432 3003 2002 1001 364 91 14 1\n",
      "1 15 105 455 1365 3003 5005 6435 6435 5005 3003 1365 455 105 15 1\n",
      "1 16 120 560 1820 4368 8008 11440 12870 11440 8008 4368 1820 560 120 16 1\n",
      "1 17 136 680 2380 6188 12376 19448 24310 24310 19448 12376 6188 2380 680 136 17 1\n",
      "1 18 153 816 3060 8568 18564 31824 43758 48620 43758 31824 18564 8568 3060 816 153 18 1\n",
      "1 19 171 969 3876 11628 27132 50388 75582 92378 92378 75582 50388 27132 11628 3876 969 171 19 1\n"
     ]
    }
   ],
   "source": [
    "# パスカルの三角形を反復プロセスで実装してみた。\n",
    "depth=20\n",
    "ll=[1]\n",
    "\n",
    "print(\"%d\" % ll[0], end=\"\\n\")\n",
    "for i in range(depth-1):\n",
    "    new_l=[1]                 # 端は1\n",
    "    print(\"%d \" % new_l[0], end=\"\")\n",
    "    for i in range(len(ll)-1):\n",
    "        new_l.append(ll[i]+ll[i+1])   # 前の数列を使って、今の項と次の項の和にすることで新しい数列を作成\n",
    "        print(\"%d \" % new_l[-1], end=\"\")\n",
    "    new_l.append(1)                 # 端は1\n",
    "    print(\"%d\" % new_l[-1], end=\"\\n\")\n",
    "    ll=new_l"
   ]
  },
  {
   "cell_type": "code",
   "execution_count": 2,
   "metadata": {},
   "outputs": [
    {
     "name": "stdout",
     "output_type": "stream",
     "text": [
      "\t\t\t\t\t\t\t\t\t1\t\n",
      "\t\t\t\t\t\t\t\t\t1\t1\t\n",
      "\t\t\t\t\t\t\t\t1\t2\t1\t\n",
      "\t\t\t\t\t\t\t\t1\t3\t3\t1\t\n",
      "\t\t\t\t\t\t\t1\t4\t6\t4\t1\t\n",
      "\t\t\t\t\t\t\t1\t5\t10\t10\t5\t1\t\n",
      "\t\t\t\t\t\t1\t6\t15\t20\t15\t6\t1\t\n",
      "\t\t\t\t\t\t1\t7\t21\t35\t35\t21\t7\t1\t\n",
      "\t\t\t\t\t1\t8\t28\t56\t70\t56\t28\t8\t1\t\n",
      "\t\t\t\t\t1\t9\t36\t84\t126\t126\t84\t36\t9\t1\t\n",
      "\t\t\t\t1\t10\t45\t120\t210\t252\t210\t120\t45\t10\t1\t\n",
      "\t\t\t\t1\t11\t55\t165\t330\t462\t462\t330\t165\t55\t11\t1\t\n",
      "\t\t\t1\t12\t66\t220\t495\t792\t924\t792\t495\t220\t66\t12\t1\t\n",
      "\t\t\t1\t13\t78\t286\t715\t1287\t1716\t1716\t1287\t715\t286\t78\t13\t1\t\n",
      "\t\t1\t14\t91\t364\t1001\t2002\t3003\t3432\t3003\t2002\t1001\t364\t91\t14\t1\t\n",
      "\t\t1\t15\t105\t455\t1365\t3003\t5005\t6435\t6435\t5005\t3003\t1365\t455\t105\t15\t1\t\n",
      "\t1\t16\t120\t560\t1820\t4368\t8008\t11440\t12870\t11440\t8008\t4368\t1820\t560\t120\t16\t1\t\n",
      "\t1\t17\t136\t680\t2380\t6188\t12376\t19448\t24310\t24310\t19448\t12376\t6188\t2380\t680\t136\t17\t1\t\n",
      "1\t18\t153\t816\t3060\t8568\t18564\t31824\t43758\t48620\t43758\t31824\t18564\t8568\t3060\t816\t153\t18\t1\t\n",
      "1\t19\t171\t969\t3876\t11628\t27132\t50388\t75582\t92378\t92378\t75582\t50388\t27132\t11628\t3876\t969\t171\t19\t1\t\n"
     ]
    }
   ],
   "source": [
    "# パスカルの三角形をpythonで実装してみた。\n",
    "# ただし、再帰プロセスではなく、反復プロセスになっている。\n",
    "def pascal(depth, ll):\n",
    "    if ll is None:\n",
    "        ll=list([[1]])\n",
    "        pascal(depth, ll)\n",
    "    elif len(ll)==depth:\n",
    "        # 目的の深さまで作成したのでコンソールに出力する\n",
    "        if 1:\n",
    "            # インデントあり版\n",
    "            s=len(ll)/2\n",
    "            for h in ll:\n",
    "                for n in range((int)(s-len(h)/2)):\n",
    "                    print(\"\\t\", end=\"\")\n",
    "                for n in h:\n",
    "                    print(\"%d\\t\" % (n), end=\"\")\n",
    "                print()\n",
    "        else:\n",
    "            # インデントなし版\n",
    "            for h in ll:\n",
    "                for n in h:\n",
    "                    print(\"%d \" % (n), end=\"\")\n",
    "                print()\n",
    "    else:\n",
    "        new_l=list([1])                 # 端は1\n",
    "        l=ll[len(ll)-1]\n",
    "        for i in range(len(l)-1):\n",
    "            new_l.append(l[i]+l[i+1])   # 前の数列を使って、今の項と次の項の和にすることで新しい数列を作成\n",
    "        new_l.append(1)                 # 端は1\n",
    "        ll.append(new_l)\n",
    "        pascal(depth, ll)\n",
    "        \n",
    "pascal(20, None)"
   ]
  }
 ],
 "metadata": {
  "kernelspec": {
   "display_name": "Python 3",
   "language": "python",
   "name": "python3"
  },
  "language_info": {
   "codemirror_mode": {
    "name": "ipython",
    "version": 3
   },
   "file_extension": ".py",
   "mimetype": "text/x-python",
   "name": "python",
   "nbconvert_exporter": "python",
   "pygments_lexer": "ipython3",
   "version": "3.7.6"
  }
 },
 "nbformat": 4,
 "nbformat_minor": 4
}
