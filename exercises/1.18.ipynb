{
 "cells": [
  {
   "cell_type": "markdown",
   "metadata": {},
   "source": [
    "### 練習問題1.17\n",
    "練習問題1.16と練習問題1.17の結果を使って、⾜し算、double、halveによって、  \n",
    "かけ算を対数的ステップ数で実⾏ する反復的プロセスを⽣成する⼿続きを考えよ"
   ]
  },
  {
   "cell_type": "code",
   "execution_count": 1,
   "metadata": {},
   "outputs": [],
   "source": [
    "(define (* a b)\n",
    "  (multi-iter a b 0)\n",
    "  )\n",
    "(define (multi-iter a counter add)\n",
    "  (display a)\n",
    "  (display \" \")\n",
    "  (display counter)\n",
    "  (display \" \")\n",
    "  (display add)\n",
    "  (newline)\n",
    "  (cond ((= counter 0) add)\n",
    "        ((even? counter)(multi-iter (double a) (halve counter) add))\n",
    "        (else (multi-iter a (- counter 1) (+ a add)))\n",
    "    )\n",
    "  )\n",
    "; 偶数かどうか判定\n",
    "(define (even? n)\n",
    "  (= (remainder n 2) 0)\n",
    "  )\n",
    "(define (halve x)(/ x 2))\n",
    "(define (double x)(+ x x))"
   ]
  },
  {
   "cell_type": "code",
   "execution_count": 2,
   "metadata": {},
   "outputs": [
    {
     "name": "stdout",
     "output_type": "stream",
     "text": [
      "145 999 0\n",
      "145 998 145\n",
      "290 499 145\n",
      "290 498 435\n",
      "580 249 435\n",
      "580 248 1015\n",
      "1160 124 1015\n",
      "2320 62 1015\n",
      "4640 31 1015\n",
      "4640 30 5655\n",
      "9280 15 5655\n",
      "9280 14 14935\n",
      "18560 7 14935\n",
      "18560 6 33495\n",
      "37120 3 33495\n",
      "37120 2 70615\n",
      "74240 1 70615\n",
      "74240 0 144855\n"
     ]
    },
    {
     "data": {
      "text/plain": [
       "144855"
      ]
     },
     "execution_count": 2,
     "metadata": {},
     "output_type": "execute_result"
    }
   ],
   "source": [
    "(* 145 999)"
   ]
  }
 ],
 "metadata": {
  "kernelspec": {
   "display_name": "Calysto Scheme 3",
   "language": "scheme",
   "name": "calysto_scheme"
  },
  "language_info": {
   "codemirror_mode": {
    "name": "scheme"
   },
   "mimetype": "text/x-scheme",
   "name": "scheme",
   "pygments_lexer": "scheme"
  }
 },
 "nbformat": 4,
 "nbformat_minor": 4
}
