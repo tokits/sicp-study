{
 "cells": [
  {
   "cell_type": "markdown",
   "metadata": {},
   "source": [
    "### 練習問題1.17\n",
    "練習問題1.16と練習問題1.17の結果を使って、⾜し算、double、halveによって、  \n",
    "かけ算を対数的ステップ数で実⾏ する反復的プロセスを⽣成する⼿続きを考えよ"
   ]
  },
  {
   "cell_type": "code",
   "execution_count": 1,
   "metadata": {},
   "outputs": [
    {
     "name": "stdout",
     "output_type": "stream",
     "text": [
      "145 997\n",
      "145 996\n",
      "290 498\n",
      "580 249\n",
      "580 248\n",
      "1160 124\n",
      "2320 62\n",
      "4640 31\n",
      "4640 30\n",
      "9280 15\n",
      "9280 14\n",
      "18560 7\n",
      "18560 6\n",
      "37120 3\n",
      "37120 2\n",
      "74240 1\n",
      "74240 0\n"
     ]
    },
    {
     "data": {
      "text/plain": [
       "144565"
      ]
     },
     "execution_count": 1,
     "metadata": {},
     "output_type": "execute_result"
    }
   ],
   "source": [
    ";対数的ステップ数の再帰プロセスによる実装(練習問題1.16の回答)\n",
    "(define (* a b)\n",
    "  (display a)\n",
    "  (display \" \")\n",
    "  (display b)\n",
    "  (newline)\n",
    "  (cond ((= b 0) 0)\n",
    "        ((even? b)(* (double a) (halve b)))\n",
    "        (else (+ a (* a (- b 1))))\n",
    "    )\n",
    "  )\n",
    "; 偶数かどうか判定\n",
    "(define (even? n)\n",
    "  (= (remainder n 2) 0)\n",
    "  )\n",
    "(define (halve x)(/ x 2))\n",
    "(define (double x)(+ x x))\n",
    "\n",
    "(* 145 997)"
   ]
  },
  {
   "cell_type": "code",
   "execution_count": 2,
   "metadata": {},
   "outputs": [
    {
     "name": "stdout",
     "output_type": "stream",
     "text": [
      "145 997 0\n",
      "145 996 145\n",
      "290 498 145\n",
      "580 249 145\n",
      "580 248 725\n",
      "1160 124 725\n",
      "2320 62 725\n",
      "4640 31 725\n",
      "4640 30 5365\n",
      "9280 15 5365\n",
      "9280 14 14645\n",
      "18560 7 14645\n",
      "18560 6 33205\n",
      "37120 3 33205\n",
      "37120 2 70325\n",
      "74240 1 70325\n",
      "74240 0 144565\n"
     ]
    },
    {
     "data": {
      "text/plain": [
       "144565"
      ]
     },
     "execution_count": 2,
     "metadata": {},
     "output_type": "execute_result"
    }
   ],
   "source": [
    ";対数的ステップ数の反復プロセスによる実装\n",
    "(define (* a b)\n",
    "  (multi-iter a b 0)\n",
    "  )\n",
    "(define (multi-iter a counter add)\n",
    "  (display a)\n",
    "  (display \" \")\n",
    "  (display counter)\n",
    "  (display \" \")\n",
    "  (display add)\n",
    "  (newline)\n",
    "  (cond ((= counter 0) add)\n",
    "        ((even? counter)(multi-iter (double a) (halve counter) add))\n",
    "        (else (multi-iter a (- counter 1) (+ a add)))\n",
    "    )\n",
    "  )\n",
    "; 偶数かどうか判定\n",
    "(define (even? n)\n",
    "  (= (remainder n 2) 0)\n",
    "  )\n",
    "(define (halve x)(/ x 2))\n",
    "(define (double x)(+ x x))\n",
    "\n",
    "(* 145 997)"
   ]
  }
 ],
 "metadata": {
  "kernelspec": {
   "display_name": "Calysto Scheme 3",
   "language": "scheme",
   "name": "calysto_scheme"
  },
  "language_info": {
   "codemirror_mode": {
    "name": "scheme"
   },
   "mimetype": "text/x-scheme",
   "name": "scheme",
   "pygments_lexer": "scheme"
  }
 },
 "nbformat": 4,
 "nbformat_minor": 4
}
