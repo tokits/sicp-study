{
 "cells": [
  {
   "cell_type": "markdown",
   "metadata": {},
   "source": [
    "### 練習問題2.45\n",
    "right-splitとup-splitは、汎⽤の分割演算の具体例として表現できる。  \n",
    "以下の式を評価したとき、  \n",
    "\n",
    "    (define right-split (split beside below))\n",
    "    (define up-split (split below beside))\n",
    "\n",
    "すでに定義したのものと同じふるまいを持つ⼿続き  \n",
    "right-splitとup-splitが得られるように、   \n",
    "split⼿続きを定義せよ。"
   ]
  },
  {
   "cell_type": "code",
   "execution_count": 1,
   "metadata": {
    "jupyter": {
     "source_hidden": true
    }
   },
   "outputs": [],
   "source": [
    ";\n",
    "(define (frame-coord-map frame)\n",
    "  (lambda (v)\n",
    "    (add-vect\n",
    "     (origin-frame frame)\n",
    "     (add-vect (scale-vect (xcor-vect v)\n",
    "                           (edge1-frame frame))\n",
    "               (scale-vect (ycor-vect v)\n",
    "                           (edge2-frame frame))))))\n",
    "\n",
    "; ベクトルコンストラクタ・セレクタ\n",
    "(define (make-vect x y) (cons x y))\n",
    "(define (xcor-vect v)(car v))\n",
    "(define (ycor-vect v)(cdr v))\n",
    "\n",
    "; ベクトル演算\n",
    "(define (add-vect v1 v2)\n",
    "  (make-vect (+ (xcor-vect v1)\n",
    "                (xcor-vect v2))\n",
    "             (+ (ycor-vect v1)\n",
    "                (ycor-vect v2))))\n",
    "(define (sub-vect v1 v2)\n",
    "  (make-vect (- (xcor-vect v1)\n",
    "                (xcor-vect v2))\n",
    "             (- (ycor-vect v1)\n",
    "                (ycor-vect v2))))\n",
    "\n",
    "; ベクトル演算\n",
    "(define (scale-vect s v)\n",
    "  (make-vect (* s (xcor-vect v))\n",
    "             (* s (ycor-vect v))))\n",
    "\n",
    "; フレームコンストラクタ・セレクタ\n",
    "(define (make-frame origin edge1 edge2)(list origin edge1 edge2))\n",
    "(define (origin-frame frame)(car frame))\n",
    "(define (edge1-frame frame)(cadr frame))\n",
    "(define (edge2-frame frame)(caddr frame))\n",
    "\n",
    "; 線分コンストラクタ・セレクタ\n",
    "(define (make-segment v1 v2)(cons v1 v2))\n",
    "(define (start-segment seg)(car seg))\n",
    "(define (end-segment seg)(cdr seg))\n",
    "\n",
    "; ペインタ\n",
    "(define (segments->painter segment-list)\n",
    "  (lambda (frame)\n",
    "    (for-each\n",
    "     (lambda (segment)\n",
    "       (draw-line\n",
    "        ((frame-coord-map frame) (start-segment segment))\n",
    "        ((frame-coord-map frame) (end-segment segment))))\n",
    "     segment-list)))\n",
    "\n",
    ";\n",
    "(define (make-segment-list vect-list)\n",
    "  (map\n",
    "   (lambda (x)\n",
    "     (make-segment (car x) (cadr x)))\n",
    "   vect-list))\n",
    "\n",
    "; waveペインタ\n",
    "; https://gist.github.com/tkmr/28498\n",
    "; を参考にしました。\n",
    "(define wave\n",
    "  (lambda (frame)\n",
    "    ((segments->painter\n",
    "      (list (make-segment (make-vect 0.000 0.645) (make-vect 0.154 0.411))\n",
    "            (make-segment (make-vect 0.154 0.411) (make-vect 0.302 0.588))\n",
    "            (make-segment (make-vect 0.302 0.588) (make-vect 0.354 0.497))\n",
    "            (make-segment (make-vect 0.354 0.497) (make-vect 0.245 0.000))\n",
    "            (make-segment (make-vect 0.419 0.000) (make-vect 0.497 0.171))\n",
    "            (make-segment (make-vect 0.497 0.171) (make-vect 0.575 0.000))\n",
    "            (make-segment (make-vect 0.748 0.000) (make-vect 0.605 0.462))\n",
    "            (make-segment (make-vect 0.605 0.462) (make-vect 1.000 0.142))\n",
    "            (make-segment (make-vect 1.000 0.354) (make-vect 0.748 0.657))\n",
    "            (make-segment (make-vect 0.748 0.657) (make-vect 0.582 0.657))\n",
    "            (make-segment (make-vect 0.582 0.657) (make-vect 0.640 0.857))\n",
    "            (make-segment (make-vect 0.640 0.857) (make-vect 0.575 1.000))\n",
    "            (make-segment (make-vect 0.419 1.000) (make-vect 0.354 0.857))\n",
    "            (make-segment (make-vect 0.354 0.857) (make-vect 0.411 0.657))\n",
    "            (make-segment (make-vect 0.411 0.657) (make-vect 0.285 0.657))\n",
    "            (make-segment (make-vect 0.285 0.657) (make-vect 0.154 0.605))\n",
    "            (make-segment (make-vect 0.154 0.605) (make-vect 0.000 0.857)))) frame)))\n",
    "\n",
    "\n",
    "; ペインタ変換と組み合わせ\n",
    "(define (transform-painter painter origin corner1 corner2)\n",
    "  (lambda (frame)\n",
    "    (let ((m (frame-coord-map frame)))\n",
    "      (let ((new-origin (m origin)))\n",
    "        (painter\n",
    "         (make-frame new-origin\n",
    "                     (sub-vect (m corner1) new-origin)\n",
    "                     (sub-vect (m corner2) new-origin)))))))\n",
    "\n",
    "(define (flip-vert painter)\n",
    "  (transform-painter painter\n",
    "                     (make-vect 0.0 1.0)\n",
    "                     (make-vect 1.0 1.0)\n",
    "                     (make-vect 0.0 0.0)))\n",
    "\n",
    "(define (rotate90 painter)\n",
    "  (transform-painter painter\n",
    "                     (make-vect 1.0 0.0)\n",
    "                     (make-vect 1.0 1.0)\n",
    "                     (make-vect 0.0 1.0)))\n",
    "\n",
    "(define (beside painter1 painter2)\n",
    "  (let ((split-point (make-vect 0.5 0.0)))\n",
    "    (let ((paint-left\n",
    "           (transform-painter painter1\n",
    "                              (make-vect 0.0 0.0)\n",
    "                              split-point\n",
    "                              (make-vect 0.0 1.0)))\n",
    "          (paint-right\n",
    "           (transform-painter painter2\n",
    "                              split-point\n",
    "                              (make-vect 1.0 0.0)\n",
    "                              (make-vect 0.5 1.0))))\n",
    "      (lambda (frame)\n",
    "        (paint-left frame)\n",
    "        (paint-right frame)))))\n",
    "\n",
    "(define (below painter1 painter2)\n",
    "  (let ((split-point (make-vect 0.0 0.5)))\n",
    "    (let ((paint-below\n",
    "           (transform-painter painter1\n",
    "                              (make-vect 0.0 0.0)\n",
    "                              (make-vect 1.0 0.0)\n",
    "                              split-point))\n",
    "          (paint-above\n",
    "           (transform-painter painter2\n",
    "                              split-point\n",
    "                              (make-vect 1.0 0.5)\n",
    "                              (make-vect 0.0 1.0))))\n",
    "      (lambda (frame)\n",
    "        (paint-below frame)\n",
    "        (paint-above frame)))))\n",
    "\n",
    "; pythonのcalystoを利用した線画用の描画モジュール\n",
    "(import-as \"picseg\" 'pic)\n",
    "\n",
    "; 線分の描画\n",
    "(define (draw-line v1 v2)\n",
    "  (let ((start-x (xcor-vect v1))\n",
    "        (start-y (ycor-vect v1))\n",
    "        (end-x (xcor-vect v2))\n",
    "        (end-y (ycor-vect v2)))\n",
    "    (pic.draw_line start-x start-y end-x end-y)\n",
    "    )\n",
    "  )\n",
    "\n",
    "; ペインタの動作確認\n",
    "(define (disp painter)\n",
    "  (let ((frame0 (make-frame\n",
    "                            (make-vect 0 0)\n",
    "                            (make-vect 1 0)\n",
    "                            (make-vect 0 1))))\n",
    "    (pic.clear)\n",
    "    (painter frame0)\n",
    "    (pic.update)\n",
    "    )\n",
    "  )"
   ]
  },
  {
   "cell_type": "code",
   "execution_count": 2,
   "metadata": {},
   "outputs": [],
   "source": [
    "; 回答\n",
    "; splitの実装\n",
    "(define (split op1 op2)\n",
    "  (lambda (painter n) ; lambdaで実装できた！\n",
    "    (if (= n 0) painter\n",
    "      (let ((smaller ((split op1 op2) painter (- n 1))))\n",
    "        (op1 painter (op2 smaller smaller))\n",
    "        )\n",
    "      )\n",
    "    )\n",
    "  )"
   ]
  },
  {
   "cell_type": "code",
   "execution_count": 3,
   "metadata": {},
   "outputs": [
    {
     "data": {
      "image/svg+xml": [
       "<svg baseProfile=\"full\" height=\"256\" version=\"1.1\" width=\"256\" xmlns=\"http://www.w3.org/2000/svg\" xmlns:ev=\"http://www.w3.org/2001/xml-events\" xmlns:xlink=\"http://www.w3.org/1999/xlink\"><defs /><line fill=\"#800080\" stroke=\"#000000\" stroke-width=\"1\" x1=\"0.0\" x2=\"19.712\" y1=\"90.88\" y2=\"150.784\" /><line fill=\"#800080\" stroke=\"#000000\" stroke-width=\"1\" x1=\"19.712\" x2=\"38.656\" y1=\"150.784\" y2=\"105.47200000000001\" /><line fill=\"#800080\" stroke=\"#000000\" stroke-width=\"1\" x1=\"38.656\" x2=\"45.312\" y1=\"105.47200000000001\" y2=\"128.768\" /><line fill=\"#800080\" stroke=\"#000000\" stroke-width=\"1\" x1=\"45.312\" x2=\"31.36\" y1=\"128.768\" y2=\"256.0\" /><line fill=\"#800080\" stroke=\"#000000\" stroke-width=\"1\" x1=\"53.632\" x2=\"63.616\" y1=\"256.0\" y2=\"212.224\" /><line fill=\"#800080\" stroke=\"#000000\" stroke-width=\"1\" x1=\"63.616\" x2=\"73.6\" y1=\"212.224\" y2=\"256.0\" /><line fill=\"#800080\" stroke=\"#000000\" stroke-width=\"1\" x1=\"95.744\" x2=\"77.44\" y1=\"256.0\" y2=\"137.728\" /><line fill=\"#800080\" stroke=\"#000000\" stroke-width=\"1\" x1=\"77.44\" x2=\"128.0\" y1=\"137.728\" y2=\"219.648\" /><line fill=\"#800080\" stroke=\"#000000\" stroke-width=\"1\" x1=\"128.0\" x2=\"95.744\" y1=\"165.376\" y2=\"87.80799999999999\" /><line fill=\"#800080\" stroke=\"#000000\" stroke-width=\"1\" x1=\"95.744\" x2=\"74.496\" y1=\"87.80799999999999\" y2=\"87.80799999999999\" /><line fill=\"#800080\" stroke=\"#000000\" stroke-width=\"1\" x1=\"74.496\" x2=\"81.92\" y1=\"87.80799999999999\" y2=\"36.608000000000004\" /><line fill=\"#800080\" stroke=\"#000000\" stroke-width=\"1\" x1=\"81.92\" x2=\"73.6\" y1=\"36.608000000000004\" y2=\"0.0\" /><line fill=\"#800080\" stroke=\"#000000\" stroke-width=\"1\" x1=\"53.632\" x2=\"45.312\" y1=\"0.0\" y2=\"36.608000000000004\" /><line fill=\"#800080\" stroke=\"#000000\" stroke-width=\"1\" x1=\"45.312\" x2=\"52.608\" y1=\"36.608000000000004\" y2=\"87.80799999999999\" /><line fill=\"#800080\" stroke=\"#000000\" stroke-width=\"1\" x1=\"52.608\" x2=\"36.48\" y1=\"87.80799999999999\" y2=\"87.80799999999999\" /><line fill=\"#800080\" stroke=\"#000000\" stroke-width=\"1\" x1=\"36.48\" x2=\"19.712\" y1=\"87.80799999999999\" y2=\"101.12\" /><line fill=\"#800080\" stroke=\"#000000\" stroke-width=\"1\" x1=\"19.712\" x2=\"0.0\" y1=\"101.12\" y2=\"36.608000000000004\" /><line fill=\"#800080\" stroke=\"#000000\" stroke-width=\"1\" x1=\"128.0\" x2=\"147.712\" y1=\"173.44\" y2=\"203.392\" /><line fill=\"#800080\" stroke=\"#000000\" stroke-width=\"1\" x1=\"147.712\" x2=\"166.656\" y1=\"203.392\" y2=\"180.736\" /><line fill=\"#800080\" stroke=\"#000000\" stroke-width=\"1\" x1=\"166.656\" x2=\"173.312\" y1=\"180.736\" y2=\"192.38400000000001\" /><line fill=\"#800080\" stroke=\"#000000\" stroke-width=\"1\" x1=\"173.312\" x2=\"159.36\" y1=\"192.38400000000001\" y2=\"256.0\" /><line fill=\"#800080\" stroke=\"#000000\" stroke-width=\"1\" x1=\"181.632\" x2=\"191.61599999999999\" y1=\"256.0\" y2=\"234.112\" /><line fill=\"#800080\" stroke=\"#000000\" stroke-width=\"1\" x1=\"191.61599999999999\" x2=\"201.6\" y1=\"234.112\" y2=\"256.0\" /><line fill=\"#800080\" stroke=\"#000000\" stroke-width=\"1\" x1=\"223.744\" x2=\"205.44\" y1=\"256.0\" y2=\"196.864\" /><line fill=\"#800080\" stroke=\"#000000\" stroke-width=\"1\" x1=\"205.44\" x2=\"256.0\" y1=\"196.864\" y2=\"237.824\" /><line fill=\"#800080\" stroke=\"#000000\" stroke-width=\"1\" x1=\"256.0\" x2=\"223.744\" y1=\"210.688\" y2=\"171.904\" /><line fill=\"#800080\" stroke=\"#000000\" stroke-width=\"1\" x1=\"223.744\" x2=\"202.49599999999998\" y1=\"171.904\" y2=\"171.904\" /><line fill=\"#800080\" stroke=\"#000000\" stroke-width=\"1\" x1=\"202.49599999999998\" x2=\"209.92000000000002\" y1=\"171.904\" y2=\"146.304\" /><line fill=\"#800080\" stroke=\"#000000\" stroke-width=\"1\" x1=\"209.92000000000002\" x2=\"201.6\" y1=\"146.304\" y2=\"128.0\" /><line fill=\"#800080\" stroke=\"#000000\" stroke-width=\"1\" x1=\"181.632\" x2=\"173.312\" y1=\"128.0\" y2=\"146.304\" /><line fill=\"#800080\" stroke=\"#000000\" stroke-width=\"1\" x1=\"173.312\" x2=\"180.608\" y1=\"146.304\" y2=\"171.904\" /><line fill=\"#800080\" stroke=\"#000000\" stroke-width=\"1\" x1=\"180.608\" x2=\"164.48\" y1=\"171.904\" y2=\"171.904\" /><line fill=\"#800080\" stroke=\"#000000\" stroke-width=\"1\" x1=\"164.48\" x2=\"147.712\" y1=\"171.904\" y2=\"178.56\" /><line fill=\"#800080\" stroke=\"#000000\" stroke-width=\"1\" x1=\"147.712\" x2=\"128.0\" y1=\"178.56\" y2=\"146.304\" /><line fill=\"#800080\" stroke=\"#000000\" stroke-width=\"1\" x1=\"128.0\" x2=\"147.712\" y1=\"45.44\" y2=\"75.392\" /><line fill=\"#800080\" stroke=\"#000000\" stroke-width=\"1\" x1=\"147.712\" x2=\"166.656\" y1=\"75.392\" y2=\"52.73599999999999\" /><line fill=\"#800080\" stroke=\"#000000\" stroke-width=\"1\" x1=\"166.656\" x2=\"173.312\" y1=\"52.73599999999999\" y2=\"64.38400000000001\" /><line fill=\"#800080\" stroke=\"#000000\" stroke-width=\"1\" x1=\"173.312\" x2=\"159.36\" y1=\"64.38400000000001\" y2=\"128.0\" /><line fill=\"#800080\" stroke=\"#000000\" stroke-width=\"1\" x1=\"181.632\" x2=\"191.61599999999999\" y1=\"128.0\" y2=\"106.112\" /><line fill=\"#800080\" stroke=\"#000000\" stroke-width=\"1\" x1=\"191.61599999999999\" x2=\"201.6\" y1=\"106.112\" y2=\"128.0\" /><line fill=\"#800080\" stroke=\"#000000\" stroke-width=\"1\" x1=\"223.744\" x2=\"205.44\" y1=\"128.0\" y2=\"68.864\" /><line fill=\"#800080\" stroke=\"#000000\" stroke-width=\"1\" x1=\"205.44\" x2=\"256.0\" y1=\"68.864\" y2=\"109.82400000000001\" /><line fill=\"#800080\" stroke=\"#000000\" stroke-width=\"1\" x1=\"256.0\" x2=\"223.744\" y1=\"82.68799999999999\" y2=\"43.903999999999996\" /><line fill=\"#800080\" stroke=\"#000000\" stroke-width=\"1\" x1=\"223.744\" x2=\"202.49599999999998\" y1=\"43.903999999999996\" y2=\"43.903999999999996\" /><line fill=\"#800080\" stroke=\"#000000\" stroke-width=\"1\" x1=\"202.49599999999998\" x2=\"209.92000000000002\" y1=\"43.903999999999996\" y2=\"18.304000000000002\" /><line fill=\"#800080\" stroke=\"#000000\" stroke-width=\"1\" x1=\"209.92000000000002\" x2=\"201.6\" y1=\"18.304000000000002\" y2=\"0.0\" /><line fill=\"#800080\" stroke=\"#000000\" stroke-width=\"1\" x1=\"181.632\" x2=\"173.312\" y1=\"0.0\" y2=\"18.304000000000002\" /><line fill=\"#800080\" stroke=\"#000000\" stroke-width=\"1\" x1=\"173.312\" x2=\"180.608\" y1=\"18.304000000000002\" y2=\"43.903999999999996\" /><line fill=\"#800080\" stroke=\"#000000\" stroke-width=\"1\" x1=\"180.608\" x2=\"164.48\" y1=\"43.903999999999996\" y2=\"43.903999999999996\" /><line fill=\"#800080\" stroke=\"#000000\" stroke-width=\"1\" x1=\"164.48\" x2=\"147.712\" y1=\"43.903999999999996\" y2=\"50.56\" /><line fill=\"#800080\" stroke=\"#000000\" stroke-width=\"1\" x1=\"147.712\" x2=\"128.0\" y1=\"50.56\" y2=\"18.304000000000002\" /></svg>"
      ],
      "text/plain": [
       "<Canvas (256, 256)>"
      ]
     },
     "metadata": {},
     "output_type": "display_data"
    },
    {
     "data": {
      "image/svg+xml": [
       "<svg baseProfile=\"full\" height=\"256\" version=\"1.1\" width=\"256\" xmlns=\"http://www.w3.org/2000/svg\" xmlns:ev=\"http://www.w3.org/2001/xml-events\" xmlns:xlink=\"http://www.w3.org/1999/xlink\"><defs /><line fill=\"#800080\" stroke=\"#000000\" stroke-width=\"1\" x1=\"0.0\" x2=\"19.712\" y1=\"90.88\" y2=\"150.784\" /><line fill=\"#800080\" stroke=\"#000000\" stroke-width=\"1\" x1=\"19.712\" x2=\"38.656\" y1=\"150.784\" y2=\"105.47200000000001\" /><line fill=\"#800080\" stroke=\"#000000\" stroke-width=\"1\" x1=\"38.656\" x2=\"45.312\" y1=\"105.47200000000001\" y2=\"128.768\" /><line fill=\"#800080\" stroke=\"#000000\" stroke-width=\"1\" x1=\"45.312\" x2=\"31.36\" y1=\"128.768\" y2=\"256.0\" /><line fill=\"#800080\" stroke=\"#000000\" stroke-width=\"1\" x1=\"53.632\" x2=\"63.616\" y1=\"256.0\" y2=\"212.224\" /><line fill=\"#800080\" stroke=\"#000000\" stroke-width=\"1\" x1=\"63.616\" x2=\"73.6\" y1=\"212.224\" y2=\"256.0\" /><line fill=\"#800080\" stroke=\"#000000\" stroke-width=\"1\" x1=\"95.744\" x2=\"77.44\" y1=\"256.0\" y2=\"137.728\" /><line fill=\"#800080\" stroke=\"#000000\" stroke-width=\"1\" x1=\"77.44\" x2=\"128.0\" y1=\"137.728\" y2=\"219.648\" /><line fill=\"#800080\" stroke=\"#000000\" stroke-width=\"1\" x1=\"128.0\" x2=\"95.744\" y1=\"165.376\" y2=\"87.80799999999999\" /><line fill=\"#800080\" stroke=\"#000000\" stroke-width=\"1\" x1=\"95.744\" x2=\"74.496\" y1=\"87.80799999999999\" y2=\"87.80799999999999\" /><line fill=\"#800080\" stroke=\"#000000\" stroke-width=\"1\" x1=\"74.496\" x2=\"81.92\" y1=\"87.80799999999999\" y2=\"36.608000000000004\" /><line fill=\"#800080\" stroke=\"#000000\" stroke-width=\"1\" x1=\"81.92\" x2=\"73.6\" y1=\"36.608000000000004\" y2=\"0.0\" /><line fill=\"#800080\" stroke=\"#000000\" stroke-width=\"1\" x1=\"53.632\" x2=\"45.312\" y1=\"0.0\" y2=\"36.608000000000004\" /><line fill=\"#800080\" stroke=\"#000000\" stroke-width=\"1\" x1=\"45.312\" x2=\"52.608\" y1=\"36.608000000000004\" y2=\"87.80799999999999\" /><line fill=\"#800080\" stroke=\"#000000\" stroke-width=\"1\" x1=\"52.608\" x2=\"36.48\" y1=\"87.80799999999999\" y2=\"87.80799999999999\" /><line fill=\"#800080\" stroke=\"#000000\" stroke-width=\"1\" x1=\"36.48\" x2=\"19.712\" y1=\"87.80799999999999\" y2=\"101.12\" /><line fill=\"#800080\" stroke=\"#000000\" stroke-width=\"1\" x1=\"19.712\" x2=\"0.0\" y1=\"101.12\" y2=\"36.608000000000004\" /><line fill=\"#800080\" stroke=\"#000000\" stroke-width=\"1\" x1=\"128.0\" x2=\"137.856\" y1=\"173.44\" y2=\"203.392\" /><line fill=\"#800080\" stroke=\"#000000\" stroke-width=\"1\" x1=\"137.856\" x2=\"147.328\" y1=\"203.392\" y2=\"180.736\" /><line fill=\"#800080\" stroke=\"#000000\" stroke-width=\"1\" x1=\"147.328\" x2=\"150.656\" y1=\"180.736\" y2=\"192.38400000000001\" /><line fill=\"#800080\" stroke=\"#000000\" stroke-width=\"1\" x1=\"150.656\" x2=\"143.68\" y1=\"192.38400000000001\" y2=\"256.0\" /><line fill=\"#800080\" stroke=\"#000000\" stroke-width=\"1\" x1=\"154.816\" x2=\"159.808\" y1=\"256.0\" y2=\"234.112\" /><line fill=\"#800080\" stroke=\"#000000\" stroke-width=\"1\" x1=\"159.808\" x2=\"164.8\" y1=\"234.112\" y2=\"256.0\" /><line fill=\"#800080\" stroke=\"#000000\" stroke-width=\"1\" x1=\"175.872\" x2=\"166.72\" y1=\"256.0\" y2=\"196.864\" /><line fill=\"#800080\" stroke=\"#000000\" stroke-width=\"1\" x1=\"166.72\" x2=\"192.0\" y1=\"196.864\" y2=\"237.824\" /><line fill=\"#800080\" stroke=\"#000000\" stroke-width=\"1\" x1=\"192.0\" x2=\"175.872\" y1=\"210.688\" y2=\"171.904\" /><line fill=\"#800080\" stroke=\"#000000\" stroke-width=\"1\" x1=\"175.872\" x2=\"165.248\" y1=\"171.904\" y2=\"171.904\" /><line fill=\"#800080\" stroke=\"#000000\" stroke-width=\"1\" x1=\"165.248\" x2=\"168.96\" y1=\"171.904\" y2=\"146.304\" /><line fill=\"#800080\" stroke=\"#000000\" stroke-width=\"1\" x1=\"168.96\" x2=\"164.8\" y1=\"146.304\" y2=\"128.0\" /><line fill=\"#800080\" stroke=\"#000000\" stroke-width=\"1\" x1=\"154.816\" x2=\"150.656\" y1=\"128.0\" y2=\"146.304\" /><line fill=\"#800080\" stroke=\"#000000\" stroke-width=\"1\" x1=\"150.656\" x2=\"154.304\" y1=\"146.304\" y2=\"171.904\" /><line fill=\"#800080\" stroke=\"#000000\" stroke-width=\"1\" x1=\"154.304\" x2=\"146.24\" y1=\"171.904\" y2=\"171.904\" /><line fill=\"#800080\" stroke=\"#000000\" stroke-width=\"1\" x1=\"146.24\" x2=\"137.856\" y1=\"171.904\" y2=\"178.56\" /><line fill=\"#800080\" stroke=\"#000000\" stroke-width=\"1\" x1=\"137.856\" x2=\"128.0\" y1=\"178.56\" y2=\"146.304\" /><line fill=\"#800080\" stroke=\"#000000\" stroke-width=\"1\" x1=\"192.0\" x2=\"201.856\" y1=\"214.72\" y2=\"229.696\" /><line fill=\"#800080\" stroke=\"#000000\" stroke-width=\"1\" x1=\"201.856\" x2=\"211.328\" y1=\"229.696\" y2=\"218.368\" /><line fill=\"#800080\" stroke=\"#000000\" stroke-width=\"1\" x1=\"211.328\" x2=\"214.656\" y1=\"218.368\" y2=\"224.192\" /><line fill=\"#800080\" stroke=\"#000000\" stroke-width=\"1\" x1=\"214.656\" x2=\"207.68\" y1=\"224.192\" y2=\"256.0\" /><line fill=\"#800080\" stroke=\"#000000\" stroke-width=\"1\" x1=\"218.816\" x2=\"223.808\" y1=\"256.0\" y2=\"245.056\" /><line fill=\"#800080\" stroke=\"#000000\" stroke-width=\"1\" x1=\"223.808\" x2=\"228.8\" y1=\"245.056\" y2=\"256.0\" /><line fill=\"#800080\" stroke=\"#000000\" stroke-width=\"1\" x1=\"239.872\" x2=\"230.72\" y1=\"256.0\" y2=\"226.432\" /><line fill=\"#800080\" stroke=\"#000000\" stroke-width=\"1\" x1=\"230.72\" x2=\"256.0\" y1=\"226.432\" y2=\"246.912\" /><line fill=\"#800080\" stroke=\"#000000\" stroke-width=\"1\" x1=\"256.0\" x2=\"239.872\" y1=\"233.344\" y2=\"213.952\" /><line fill=\"#800080\" stroke=\"#000000\" stroke-width=\"1\" x1=\"239.872\" x2=\"229.248\" y1=\"213.952\" y2=\"213.952\" /><line fill=\"#800080\" stroke=\"#000000\" stroke-width=\"1\" x1=\"229.248\" x2=\"232.96\" y1=\"213.952\" y2=\"201.152\" /><line fill=\"#800080\" stroke=\"#000000\" stroke-width=\"1\" x1=\"232.96\" x2=\"228.8\" y1=\"201.152\" y2=\"192.0\" /><line fill=\"#800080\" stroke=\"#000000\" stroke-width=\"1\" x1=\"218.816\" x2=\"214.656\" y1=\"192.0\" y2=\"201.152\" /><line fill=\"#800080\" stroke=\"#000000\" stroke-width=\"1\" x1=\"214.656\" x2=\"218.304\" y1=\"201.152\" y2=\"213.952\" /><line fill=\"#800080\" stroke=\"#000000\" stroke-width=\"1\" x1=\"218.304\" x2=\"210.24\" y1=\"213.952\" y2=\"213.952\" /><line fill=\"#800080\" stroke=\"#000000\" stroke-width=\"1\" x1=\"210.24\" x2=\"201.856\" y1=\"213.952\" y2=\"217.28\" /><line fill=\"#800080\" stroke=\"#000000\" stroke-width=\"1\" x1=\"201.856\" x2=\"192.0\" y1=\"217.28\" y2=\"201.152\" /><line fill=\"#800080\" stroke=\"#000000\" stroke-width=\"1\" x1=\"192.0\" x2=\"201.856\" y1=\"150.72\" y2=\"165.696\" /><line fill=\"#800080\" stroke=\"#000000\" stroke-width=\"1\" x1=\"201.856\" x2=\"211.328\" y1=\"165.696\" y2=\"154.368\" /><line fill=\"#800080\" stroke=\"#000000\" stroke-width=\"1\" x1=\"211.328\" x2=\"214.656\" y1=\"154.368\" y2=\"160.192\" /><line fill=\"#800080\" stroke=\"#000000\" stroke-width=\"1\" x1=\"214.656\" x2=\"207.68\" y1=\"160.192\" y2=\"192.0\" /><line fill=\"#800080\" stroke=\"#000000\" stroke-width=\"1\" x1=\"218.816\" x2=\"223.808\" y1=\"192.0\" y2=\"181.05599999999998\" /><line fill=\"#800080\" stroke=\"#000000\" stroke-width=\"1\" x1=\"223.808\" x2=\"228.8\" y1=\"181.05599999999998\" y2=\"192.0\" /><line fill=\"#800080\" stroke=\"#000000\" stroke-width=\"1\" x1=\"239.872\" x2=\"230.72\" y1=\"192.0\" y2=\"162.43200000000002\" /><line fill=\"#800080\" stroke=\"#000000\" stroke-width=\"1\" x1=\"230.72\" x2=\"256.0\" y1=\"162.43200000000002\" y2=\"182.912\" /><line fill=\"#800080\" stroke=\"#000000\" stroke-width=\"1\" x1=\"256.0\" x2=\"239.872\" y1=\"169.344\" y2=\"149.952\" /><line fill=\"#800080\" stroke=\"#000000\" stroke-width=\"1\" x1=\"239.872\" x2=\"229.248\" y1=\"149.952\" y2=\"149.952\" /><line fill=\"#800080\" stroke=\"#000000\" stroke-width=\"1\" x1=\"229.248\" x2=\"232.96\" y1=\"149.952\" y2=\"137.152\" /><line fill=\"#800080\" stroke=\"#000000\" stroke-width=\"1\" x1=\"232.96\" x2=\"228.8\" y1=\"137.152\" y2=\"128.0\" /><line fill=\"#800080\" stroke=\"#000000\" stroke-width=\"1\" x1=\"218.816\" x2=\"214.656\" y1=\"128.0\" y2=\"137.152\" /><line fill=\"#800080\" stroke=\"#000000\" stroke-width=\"1\" x1=\"214.656\" x2=\"218.304\" y1=\"137.152\" y2=\"149.952\" /><line fill=\"#800080\" stroke=\"#000000\" stroke-width=\"1\" x1=\"218.304\" x2=\"210.24\" y1=\"149.952\" y2=\"149.952\" /><line fill=\"#800080\" stroke=\"#000000\" stroke-width=\"1\" x1=\"210.24\" x2=\"201.856\" y1=\"149.952\" y2=\"153.28\" /><line fill=\"#800080\" stroke=\"#000000\" stroke-width=\"1\" x1=\"201.856\" x2=\"192.0\" y1=\"153.28\" y2=\"137.152\" /><line fill=\"#800080\" stroke=\"#000000\" stroke-width=\"1\" x1=\"128.0\" x2=\"137.856\" y1=\"45.44\" y2=\"75.392\" /><line fill=\"#800080\" stroke=\"#000000\" stroke-width=\"1\" x1=\"137.856\" x2=\"147.328\" y1=\"75.392\" y2=\"52.73599999999999\" /><line fill=\"#800080\" stroke=\"#000000\" stroke-width=\"1\" x1=\"147.328\" x2=\"150.656\" y1=\"52.73599999999999\" y2=\"64.38400000000001\" /><line fill=\"#800080\" stroke=\"#000000\" stroke-width=\"1\" x1=\"150.656\" x2=\"143.68\" y1=\"64.38400000000001\" y2=\"128.0\" /><line fill=\"#800080\" stroke=\"#000000\" stroke-width=\"1\" x1=\"154.816\" x2=\"159.808\" y1=\"128.0\" y2=\"106.112\" /><line fill=\"#800080\" stroke=\"#000000\" stroke-width=\"1\" x1=\"159.808\" x2=\"164.8\" y1=\"106.112\" y2=\"128.0\" /><line fill=\"#800080\" stroke=\"#000000\" stroke-width=\"1\" x1=\"175.872\" x2=\"166.72\" y1=\"128.0\" y2=\"68.864\" /><line fill=\"#800080\" stroke=\"#000000\" stroke-width=\"1\" x1=\"166.72\" x2=\"192.0\" y1=\"68.864\" y2=\"109.82400000000001\" /><line fill=\"#800080\" stroke=\"#000000\" stroke-width=\"1\" x1=\"192.0\" x2=\"175.872\" y1=\"82.68799999999999\" y2=\"43.903999999999996\" /><line fill=\"#800080\" stroke=\"#000000\" stroke-width=\"1\" x1=\"175.872\" x2=\"165.248\" y1=\"43.903999999999996\" y2=\"43.903999999999996\" /><line fill=\"#800080\" stroke=\"#000000\" stroke-width=\"1\" x1=\"165.248\" x2=\"168.96\" y1=\"43.903999999999996\" y2=\"18.304000000000002\" /><line fill=\"#800080\" stroke=\"#000000\" stroke-width=\"1\" x1=\"168.96\" x2=\"164.8\" y1=\"18.304000000000002\" y2=\"0.0\" /><line fill=\"#800080\" stroke=\"#000000\" stroke-width=\"1\" x1=\"154.816\" x2=\"150.656\" y1=\"0.0\" y2=\"18.304000000000002\" /><line fill=\"#800080\" stroke=\"#000000\" stroke-width=\"1\" x1=\"150.656\" x2=\"154.304\" y1=\"18.304000000000002\" y2=\"43.903999999999996\" /><line fill=\"#800080\" stroke=\"#000000\" stroke-width=\"1\" x1=\"154.304\" x2=\"146.24\" y1=\"43.903999999999996\" y2=\"43.903999999999996\" /><line fill=\"#800080\" stroke=\"#000000\" stroke-width=\"1\" x1=\"146.24\" x2=\"137.856\" y1=\"43.903999999999996\" y2=\"50.56\" /><line fill=\"#800080\" stroke=\"#000000\" stroke-width=\"1\" x1=\"137.856\" x2=\"128.0\" y1=\"50.56\" y2=\"18.304000000000002\" /><line fill=\"#800080\" stroke=\"#000000\" stroke-width=\"1\" x1=\"192.0\" x2=\"201.856\" y1=\"86.72\" y2=\"101.696\" /><line fill=\"#800080\" stroke=\"#000000\" stroke-width=\"1\" x1=\"201.856\" x2=\"211.328\" y1=\"101.696\" y2=\"90.368\" /><line fill=\"#800080\" stroke=\"#000000\" stroke-width=\"1\" x1=\"211.328\" x2=\"214.656\" y1=\"90.368\" y2=\"96.19200000000001\" /><line fill=\"#800080\" stroke=\"#000000\" stroke-width=\"1\" x1=\"214.656\" x2=\"207.68\" y1=\"96.19200000000001\" y2=\"128.0\" /><line fill=\"#800080\" stroke=\"#000000\" stroke-width=\"1\" x1=\"218.816\" x2=\"223.808\" y1=\"128.0\" y2=\"117.05600000000001\" /><line fill=\"#800080\" stroke=\"#000000\" stroke-width=\"1\" x1=\"223.808\" x2=\"228.8\" y1=\"117.05600000000001\" y2=\"128.0\" /><line fill=\"#800080\" stroke=\"#000000\" stroke-width=\"1\" x1=\"239.872\" x2=\"230.72\" y1=\"128.0\" y2=\"98.43199999999999\" /><line fill=\"#800080\" stroke=\"#000000\" stroke-width=\"1\" x1=\"230.72\" x2=\"256.0\" y1=\"98.43199999999999\" y2=\"118.912\" /><line fill=\"#800080\" stroke=\"#000000\" stroke-width=\"1\" x1=\"256.0\" x2=\"239.872\" y1=\"105.344\" y2=\"85.952\" /><line fill=\"#800080\" stroke=\"#000000\" stroke-width=\"1\" x1=\"239.872\" x2=\"229.248\" y1=\"85.952\" y2=\"85.952\" /><line fill=\"#800080\" stroke=\"#000000\" stroke-width=\"1\" x1=\"229.248\" x2=\"232.96\" y1=\"85.952\" y2=\"73.15199999999999\" /><line fill=\"#800080\" stroke=\"#000000\" stroke-width=\"1\" x1=\"232.96\" x2=\"228.8\" y1=\"73.15199999999999\" y2=\"64.0\" /><line fill=\"#800080\" stroke=\"#000000\" stroke-width=\"1\" x1=\"218.816\" x2=\"214.656\" y1=\"64.0\" y2=\"73.15199999999999\" /><line fill=\"#800080\" stroke=\"#000000\" stroke-width=\"1\" x1=\"214.656\" x2=\"218.304\" y1=\"73.15199999999999\" y2=\"85.952\" /><line fill=\"#800080\" stroke=\"#000000\" stroke-width=\"1\" x1=\"218.304\" x2=\"210.24\" y1=\"85.952\" y2=\"85.952\" /><line fill=\"#800080\" stroke=\"#000000\" stroke-width=\"1\" x1=\"210.24\" x2=\"201.856\" y1=\"85.952\" y2=\"89.28\" /><line fill=\"#800080\" stroke=\"#000000\" stroke-width=\"1\" x1=\"201.856\" x2=\"192.0\" y1=\"89.28\" y2=\"73.15199999999999\" /><line fill=\"#800080\" stroke=\"#000000\" stroke-width=\"1\" x1=\"192.0\" x2=\"201.856\" y1=\"22.72\" y2=\"37.696\" /><line fill=\"#800080\" stroke=\"#000000\" stroke-width=\"1\" x1=\"201.856\" x2=\"211.328\" y1=\"37.696\" y2=\"26.367999999999995\" /><line fill=\"#800080\" stroke=\"#000000\" stroke-width=\"1\" x1=\"211.328\" x2=\"214.656\" y1=\"26.367999999999995\" y2=\"32.19200000000001\" /><line fill=\"#800080\" stroke=\"#000000\" stroke-width=\"1\" x1=\"214.656\" x2=\"207.68\" y1=\"32.19200000000001\" y2=\"64.0\" /><line fill=\"#800080\" stroke=\"#000000\" stroke-width=\"1\" x1=\"218.816\" x2=\"223.808\" y1=\"64.0\" y2=\"53.05600000000001\" /><line fill=\"#800080\" stroke=\"#000000\" stroke-width=\"1\" x1=\"223.808\" x2=\"228.8\" y1=\"53.05600000000001\" y2=\"64.0\" /><line fill=\"#800080\" stroke=\"#000000\" stroke-width=\"1\" x1=\"239.872\" x2=\"230.72\" y1=\"64.0\" y2=\"34.43199999999999\" /><line fill=\"#800080\" stroke=\"#000000\" stroke-width=\"1\" x1=\"230.72\" x2=\"256.0\" y1=\"34.43199999999999\" y2=\"54.912000000000006\" /><line fill=\"#800080\" stroke=\"#000000\" stroke-width=\"1\" x1=\"256.0\" x2=\"239.872\" y1=\"41.343999999999994\" y2=\"21.951999999999998\" /><line fill=\"#800080\" stroke=\"#000000\" stroke-width=\"1\" x1=\"239.872\" x2=\"229.248\" y1=\"21.951999999999998\" y2=\"21.951999999999998\" /><line fill=\"#800080\" stroke=\"#000000\" stroke-width=\"1\" x1=\"229.248\" x2=\"232.96\" y1=\"21.951999999999998\" y2=\"9.151999999999987\" /><line fill=\"#800080\" stroke=\"#000000\" stroke-width=\"1\" x1=\"232.96\" x2=\"228.8\" y1=\"9.151999999999987\" y2=\"0.0\" /><line fill=\"#800080\" stroke=\"#000000\" stroke-width=\"1\" x1=\"218.816\" x2=\"214.656\" y1=\"0.0\" y2=\"9.151999999999987\" /><line fill=\"#800080\" stroke=\"#000000\" stroke-width=\"1\" x1=\"214.656\" x2=\"218.304\" y1=\"9.151999999999987\" y2=\"21.951999999999998\" /><line fill=\"#800080\" stroke=\"#000000\" stroke-width=\"1\" x1=\"218.304\" x2=\"210.24\" y1=\"21.951999999999998\" y2=\"21.951999999999998\" /><line fill=\"#800080\" stroke=\"#000000\" stroke-width=\"1\" x1=\"210.24\" x2=\"201.856\" y1=\"21.951999999999998\" y2=\"25.28\" /><line fill=\"#800080\" stroke=\"#000000\" stroke-width=\"1\" x1=\"201.856\" x2=\"192.0\" y1=\"25.28\" y2=\"9.151999999999987\" /></svg>"
      ],
      "text/plain": [
       "<Canvas (256, 256)>"
      ]
     },
     "metadata": {},
     "output_type": "display_data"
    }
   ],
   "source": [
    "(define right-split (split beside below))\n",
    "\n",
    "; right-splitの動作確認\n",
    "(disp (right-split wave 1))\n",
    "(disp (right-split wave 2))"
   ]
  },
  {
   "cell_type": "code",
   "execution_count": 4,
   "metadata": {},
   "outputs": [
    {
     "data": {
      "image/svg+xml": [
       "<svg baseProfile=\"full\" height=\"256\" version=\"1.1\" width=\"256\" xmlns=\"http://www.w3.org/2000/svg\" xmlns:ev=\"http://www.w3.org/2001/xml-events\" xmlns:xlink=\"http://www.w3.org/1999/xlink\"><defs /><line fill=\"#800080\" stroke=\"#000000\" stroke-width=\"1\" x1=\"0.0\" x2=\"39.424\" y1=\"173.44\" y2=\"203.392\" /><line fill=\"#800080\" stroke=\"#000000\" stroke-width=\"1\" x1=\"39.424\" x2=\"77.312\" y1=\"203.392\" y2=\"180.736\" /><line fill=\"#800080\" stroke=\"#000000\" stroke-width=\"1\" x1=\"77.312\" x2=\"90.624\" y1=\"180.736\" y2=\"192.38400000000001\" /><line fill=\"#800080\" stroke=\"#000000\" stroke-width=\"1\" x1=\"90.624\" x2=\"62.72\" y1=\"192.38400000000001\" y2=\"256.0\" /><line fill=\"#800080\" stroke=\"#000000\" stroke-width=\"1\" x1=\"107.264\" x2=\"127.232\" y1=\"256.0\" y2=\"234.112\" /><line fill=\"#800080\" stroke=\"#000000\" stroke-width=\"1\" x1=\"127.232\" x2=\"147.2\" y1=\"234.112\" y2=\"256.0\" /><line fill=\"#800080\" stroke=\"#000000\" stroke-width=\"1\" x1=\"191.488\" x2=\"154.88\" y1=\"256.0\" y2=\"196.864\" /><line fill=\"#800080\" stroke=\"#000000\" stroke-width=\"1\" x1=\"154.88\" x2=\"256.0\" y1=\"196.864\" y2=\"237.824\" /><line fill=\"#800080\" stroke=\"#000000\" stroke-width=\"1\" x1=\"256.0\" x2=\"191.488\" y1=\"210.688\" y2=\"171.904\" /><line fill=\"#800080\" stroke=\"#000000\" stroke-width=\"1\" x1=\"191.488\" x2=\"148.992\" y1=\"171.904\" y2=\"171.904\" /><line fill=\"#800080\" stroke=\"#000000\" stroke-width=\"1\" x1=\"148.992\" x2=\"163.84\" y1=\"171.904\" y2=\"146.304\" /><line fill=\"#800080\" stroke=\"#000000\" stroke-width=\"1\" x1=\"163.84\" x2=\"147.2\" y1=\"146.304\" y2=\"128.0\" /><line fill=\"#800080\" stroke=\"#000000\" stroke-width=\"1\" x1=\"107.264\" x2=\"90.624\" y1=\"128.0\" y2=\"146.304\" /><line fill=\"#800080\" stroke=\"#000000\" stroke-width=\"1\" x1=\"90.624\" x2=\"105.216\" y1=\"146.304\" y2=\"171.904\" /><line fill=\"#800080\" stroke=\"#000000\" stroke-width=\"1\" x1=\"105.216\" x2=\"72.96\" y1=\"171.904\" y2=\"171.904\" /><line fill=\"#800080\" stroke=\"#000000\" stroke-width=\"1\" x1=\"72.96\" x2=\"39.424\" y1=\"171.904\" y2=\"178.56\" /><line fill=\"#800080\" stroke=\"#000000\" stroke-width=\"1\" x1=\"39.424\" x2=\"0.0\" y1=\"178.56\" y2=\"146.304\" /><line fill=\"#800080\" stroke=\"#000000\" stroke-width=\"1\" x1=\"0.0\" x2=\"19.712\" y1=\"45.44\" y2=\"75.392\" /><line fill=\"#800080\" stroke=\"#000000\" stroke-width=\"1\" x1=\"19.712\" x2=\"38.656\" y1=\"75.392\" y2=\"52.73599999999999\" /><line fill=\"#800080\" stroke=\"#000000\" stroke-width=\"1\" x1=\"38.656\" x2=\"45.312\" y1=\"52.73599999999999\" y2=\"64.38400000000001\" /><line fill=\"#800080\" stroke=\"#000000\" stroke-width=\"1\" x1=\"45.312\" x2=\"31.36\" y1=\"64.38400000000001\" y2=\"128.0\" /><line fill=\"#800080\" stroke=\"#000000\" stroke-width=\"1\" x1=\"53.632\" x2=\"63.616\" y1=\"128.0\" y2=\"106.112\" /><line fill=\"#800080\" stroke=\"#000000\" stroke-width=\"1\" x1=\"63.616\" x2=\"73.6\" y1=\"106.112\" y2=\"128.0\" /><line fill=\"#800080\" stroke=\"#000000\" stroke-width=\"1\" x1=\"95.744\" x2=\"77.44\" y1=\"128.0\" y2=\"68.864\" /><line fill=\"#800080\" stroke=\"#000000\" stroke-width=\"1\" x1=\"77.44\" x2=\"128.0\" y1=\"68.864\" y2=\"109.82400000000001\" /><line fill=\"#800080\" stroke=\"#000000\" stroke-width=\"1\" x1=\"128.0\" x2=\"95.744\" y1=\"82.68799999999999\" y2=\"43.903999999999996\" /><line fill=\"#800080\" stroke=\"#000000\" stroke-width=\"1\" x1=\"95.744\" x2=\"74.496\" y1=\"43.903999999999996\" y2=\"43.903999999999996\" /><line fill=\"#800080\" stroke=\"#000000\" stroke-width=\"1\" x1=\"74.496\" x2=\"81.92\" y1=\"43.903999999999996\" y2=\"18.304000000000002\" /><line fill=\"#800080\" stroke=\"#000000\" stroke-width=\"1\" x1=\"81.92\" x2=\"73.6\" y1=\"18.304000000000002\" y2=\"0.0\" /><line fill=\"#800080\" stroke=\"#000000\" stroke-width=\"1\" x1=\"53.632\" x2=\"45.312\" y1=\"0.0\" y2=\"18.304000000000002\" /><line fill=\"#800080\" stroke=\"#000000\" stroke-width=\"1\" x1=\"45.312\" x2=\"52.608\" y1=\"18.304000000000002\" y2=\"43.903999999999996\" /><line fill=\"#800080\" stroke=\"#000000\" stroke-width=\"1\" x1=\"52.608\" x2=\"36.48\" y1=\"43.903999999999996\" y2=\"43.903999999999996\" /><line fill=\"#800080\" stroke=\"#000000\" stroke-width=\"1\" x1=\"36.48\" x2=\"19.712\" y1=\"43.903999999999996\" y2=\"50.56\" /><line fill=\"#800080\" stroke=\"#000000\" stroke-width=\"1\" x1=\"19.712\" x2=\"0.0\" y1=\"50.56\" y2=\"18.304000000000002\" /><line fill=\"#800080\" stroke=\"#000000\" stroke-width=\"1\" x1=\"128.0\" x2=\"147.712\" y1=\"45.44\" y2=\"75.392\" /><line fill=\"#800080\" stroke=\"#000000\" stroke-width=\"1\" x1=\"147.712\" x2=\"166.656\" y1=\"75.392\" y2=\"52.73599999999999\" /><line fill=\"#800080\" stroke=\"#000000\" stroke-width=\"1\" x1=\"166.656\" x2=\"173.312\" y1=\"52.73599999999999\" y2=\"64.38400000000001\" /><line fill=\"#800080\" stroke=\"#000000\" stroke-width=\"1\" x1=\"173.312\" x2=\"159.36\" y1=\"64.38400000000001\" y2=\"128.0\" /><line fill=\"#800080\" stroke=\"#000000\" stroke-width=\"1\" x1=\"181.632\" x2=\"191.61599999999999\" y1=\"128.0\" y2=\"106.112\" /><line fill=\"#800080\" stroke=\"#000000\" stroke-width=\"1\" x1=\"191.61599999999999\" x2=\"201.6\" y1=\"106.112\" y2=\"128.0\" /><line fill=\"#800080\" stroke=\"#000000\" stroke-width=\"1\" x1=\"223.744\" x2=\"205.44\" y1=\"128.0\" y2=\"68.864\" /><line fill=\"#800080\" stroke=\"#000000\" stroke-width=\"1\" x1=\"205.44\" x2=\"256.0\" y1=\"68.864\" y2=\"109.82400000000001\" /><line fill=\"#800080\" stroke=\"#000000\" stroke-width=\"1\" x1=\"256.0\" x2=\"223.744\" y1=\"82.68799999999999\" y2=\"43.903999999999996\" /><line fill=\"#800080\" stroke=\"#000000\" stroke-width=\"1\" x1=\"223.744\" x2=\"202.49599999999998\" y1=\"43.903999999999996\" y2=\"43.903999999999996\" /><line fill=\"#800080\" stroke=\"#000000\" stroke-width=\"1\" x1=\"202.49599999999998\" x2=\"209.92000000000002\" y1=\"43.903999999999996\" y2=\"18.304000000000002\" /><line fill=\"#800080\" stroke=\"#000000\" stroke-width=\"1\" x1=\"209.92000000000002\" x2=\"201.6\" y1=\"18.304000000000002\" y2=\"0.0\" /><line fill=\"#800080\" stroke=\"#000000\" stroke-width=\"1\" x1=\"181.632\" x2=\"173.312\" y1=\"0.0\" y2=\"18.304000000000002\" /><line fill=\"#800080\" stroke=\"#000000\" stroke-width=\"1\" x1=\"173.312\" x2=\"180.608\" y1=\"18.304000000000002\" y2=\"43.903999999999996\" /><line fill=\"#800080\" stroke=\"#000000\" stroke-width=\"1\" x1=\"180.608\" x2=\"164.48\" y1=\"43.903999999999996\" y2=\"43.903999999999996\" /><line fill=\"#800080\" stroke=\"#000000\" stroke-width=\"1\" x1=\"164.48\" x2=\"147.712\" y1=\"43.903999999999996\" y2=\"50.56\" /><line fill=\"#800080\" stroke=\"#000000\" stroke-width=\"1\" x1=\"147.712\" x2=\"128.0\" y1=\"50.56\" y2=\"18.304000000000002\" /></svg>"
      ],
      "text/plain": [
       "<Canvas (256, 256)>"
      ]
     },
     "metadata": {},
     "output_type": "display_data"
    },
    {
     "data": {
      "image/svg+xml": [
       "<svg baseProfile=\"full\" height=\"256\" version=\"1.1\" width=\"256\" xmlns=\"http://www.w3.org/2000/svg\" xmlns:ev=\"http://www.w3.org/2001/xml-events\" xmlns:xlink=\"http://www.w3.org/1999/xlink\"><defs /><line fill=\"#800080\" stroke=\"#000000\" stroke-width=\"1\" x1=\"0.0\" x2=\"39.424\" y1=\"173.44\" y2=\"203.392\" /><line fill=\"#800080\" stroke=\"#000000\" stroke-width=\"1\" x1=\"39.424\" x2=\"77.312\" y1=\"203.392\" y2=\"180.736\" /><line fill=\"#800080\" stroke=\"#000000\" stroke-width=\"1\" x1=\"77.312\" x2=\"90.624\" y1=\"180.736\" y2=\"192.38400000000001\" /><line fill=\"#800080\" stroke=\"#000000\" stroke-width=\"1\" x1=\"90.624\" x2=\"62.72\" y1=\"192.38400000000001\" y2=\"256.0\" /><line fill=\"#800080\" stroke=\"#000000\" stroke-width=\"1\" x1=\"107.264\" x2=\"127.232\" y1=\"256.0\" y2=\"234.112\" /><line fill=\"#800080\" stroke=\"#000000\" stroke-width=\"1\" x1=\"127.232\" x2=\"147.2\" y1=\"234.112\" y2=\"256.0\" /><line fill=\"#800080\" stroke=\"#000000\" stroke-width=\"1\" x1=\"191.488\" x2=\"154.88\" y1=\"256.0\" y2=\"196.864\" /><line fill=\"#800080\" stroke=\"#000000\" stroke-width=\"1\" x1=\"154.88\" x2=\"256.0\" y1=\"196.864\" y2=\"237.824\" /><line fill=\"#800080\" stroke=\"#000000\" stroke-width=\"1\" x1=\"256.0\" x2=\"191.488\" y1=\"210.688\" y2=\"171.904\" /><line fill=\"#800080\" stroke=\"#000000\" stroke-width=\"1\" x1=\"191.488\" x2=\"148.992\" y1=\"171.904\" y2=\"171.904\" /><line fill=\"#800080\" stroke=\"#000000\" stroke-width=\"1\" x1=\"148.992\" x2=\"163.84\" y1=\"171.904\" y2=\"146.304\" /><line fill=\"#800080\" stroke=\"#000000\" stroke-width=\"1\" x1=\"163.84\" x2=\"147.2\" y1=\"146.304\" y2=\"128.0\" /><line fill=\"#800080\" stroke=\"#000000\" stroke-width=\"1\" x1=\"107.264\" x2=\"90.624\" y1=\"128.0\" y2=\"146.304\" /><line fill=\"#800080\" stroke=\"#000000\" stroke-width=\"1\" x1=\"90.624\" x2=\"105.216\" y1=\"146.304\" y2=\"171.904\" /><line fill=\"#800080\" stroke=\"#000000\" stroke-width=\"1\" x1=\"105.216\" x2=\"72.96\" y1=\"171.904\" y2=\"171.904\" /><line fill=\"#800080\" stroke=\"#000000\" stroke-width=\"1\" x1=\"72.96\" x2=\"39.424\" y1=\"171.904\" y2=\"178.56\" /><line fill=\"#800080\" stroke=\"#000000\" stroke-width=\"1\" x1=\"39.424\" x2=\"0.0\" y1=\"178.56\" y2=\"146.304\" /><line fill=\"#800080\" stroke=\"#000000\" stroke-width=\"1\" x1=\"0.0\" x2=\"19.712\" y1=\"86.72\" y2=\"101.696\" /><line fill=\"#800080\" stroke=\"#000000\" stroke-width=\"1\" x1=\"19.712\" x2=\"38.656\" y1=\"101.696\" y2=\"90.368\" /><line fill=\"#800080\" stroke=\"#000000\" stroke-width=\"1\" x1=\"38.656\" x2=\"45.312\" y1=\"90.368\" y2=\"96.19200000000001\" /><line fill=\"#800080\" stroke=\"#000000\" stroke-width=\"1\" x1=\"45.312\" x2=\"31.36\" y1=\"96.19200000000001\" y2=\"128.0\" /><line fill=\"#800080\" stroke=\"#000000\" stroke-width=\"1\" x1=\"53.632\" x2=\"63.616\" y1=\"128.0\" y2=\"117.05600000000001\" /><line fill=\"#800080\" stroke=\"#000000\" stroke-width=\"1\" x1=\"63.616\" x2=\"73.6\" y1=\"117.05600000000001\" y2=\"128.0\" /><line fill=\"#800080\" stroke=\"#000000\" stroke-width=\"1\" x1=\"95.744\" x2=\"77.44\" y1=\"128.0\" y2=\"98.43199999999999\" /><line fill=\"#800080\" stroke=\"#000000\" stroke-width=\"1\" x1=\"77.44\" x2=\"128.0\" y1=\"98.43199999999999\" y2=\"118.912\" /><line fill=\"#800080\" stroke=\"#000000\" stroke-width=\"1\" x1=\"128.0\" x2=\"95.744\" y1=\"105.344\" y2=\"85.952\" /><line fill=\"#800080\" stroke=\"#000000\" stroke-width=\"1\" x1=\"95.744\" x2=\"74.496\" y1=\"85.952\" y2=\"85.952\" /><line fill=\"#800080\" stroke=\"#000000\" stroke-width=\"1\" x1=\"74.496\" x2=\"81.92\" y1=\"85.952\" y2=\"73.15199999999999\" /><line fill=\"#800080\" stroke=\"#000000\" stroke-width=\"1\" x1=\"81.92\" x2=\"73.6\" y1=\"73.15199999999999\" y2=\"64.0\" /><line fill=\"#800080\" stroke=\"#000000\" stroke-width=\"1\" x1=\"53.632\" x2=\"45.312\" y1=\"64.0\" y2=\"73.15199999999999\" /><line fill=\"#800080\" stroke=\"#000000\" stroke-width=\"1\" x1=\"45.312\" x2=\"52.608\" y1=\"73.15199999999999\" y2=\"85.952\" /><line fill=\"#800080\" stroke=\"#000000\" stroke-width=\"1\" x1=\"52.608\" x2=\"36.48\" y1=\"85.952\" y2=\"85.952\" /><line fill=\"#800080\" stroke=\"#000000\" stroke-width=\"1\" x1=\"36.48\" x2=\"19.712\" y1=\"85.952\" y2=\"89.28\" /><line fill=\"#800080\" stroke=\"#000000\" stroke-width=\"1\" x1=\"19.712\" x2=\"0.0\" y1=\"89.28\" y2=\"73.15199999999999\" /><line fill=\"#800080\" stroke=\"#000000\" stroke-width=\"1\" x1=\"0.0\" x2=\"9.856\" y1=\"22.72\" y2=\"37.696\" /><line fill=\"#800080\" stroke=\"#000000\" stroke-width=\"1\" x1=\"9.856\" x2=\"19.328\" y1=\"37.696\" y2=\"26.367999999999995\" /><line fill=\"#800080\" stroke=\"#000000\" stroke-width=\"1\" x1=\"19.328\" x2=\"22.656\" y1=\"26.367999999999995\" y2=\"32.19200000000001\" /><line fill=\"#800080\" stroke=\"#000000\" stroke-width=\"1\" x1=\"22.656\" x2=\"15.68\" y1=\"32.19200000000001\" y2=\"64.0\" /><line fill=\"#800080\" stroke=\"#000000\" stroke-width=\"1\" x1=\"26.816\" x2=\"31.808\" y1=\"64.0\" y2=\"53.05600000000001\" /><line fill=\"#800080\" stroke=\"#000000\" stroke-width=\"1\" x1=\"31.808\" x2=\"36.8\" y1=\"53.05600000000001\" y2=\"64.0\" /><line fill=\"#800080\" stroke=\"#000000\" stroke-width=\"1\" x1=\"47.872\" x2=\"38.72\" y1=\"64.0\" y2=\"34.43199999999999\" /><line fill=\"#800080\" stroke=\"#000000\" stroke-width=\"1\" x1=\"38.72\" x2=\"64.0\" y1=\"34.43199999999999\" y2=\"54.912000000000006\" /><line fill=\"#800080\" stroke=\"#000000\" stroke-width=\"1\" x1=\"64.0\" x2=\"47.872\" y1=\"41.343999999999994\" y2=\"21.951999999999998\" /><line fill=\"#800080\" stroke=\"#000000\" stroke-width=\"1\" x1=\"47.872\" x2=\"37.248\" y1=\"21.951999999999998\" y2=\"21.951999999999998\" /><line fill=\"#800080\" stroke=\"#000000\" stroke-width=\"1\" x1=\"37.248\" x2=\"40.96\" y1=\"21.951999999999998\" y2=\"9.151999999999987\" /><line fill=\"#800080\" stroke=\"#000000\" stroke-width=\"1\" x1=\"40.96\" x2=\"36.8\" y1=\"9.151999999999987\" y2=\"0.0\" /><line fill=\"#800080\" stroke=\"#000000\" stroke-width=\"1\" x1=\"26.816\" x2=\"22.656\" y1=\"0.0\" y2=\"9.151999999999987\" /><line fill=\"#800080\" stroke=\"#000000\" stroke-width=\"1\" x1=\"22.656\" x2=\"26.304\" y1=\"9.151999999999987\" y2=\"21.951999999999998\" /><line fill=\"#800080\" stroke=\"#000000\" stroke-width=\"1\" x1=\"26.304\" x2=\"18.24\" y1=\"21.951999999999998\" y2=\"21.951999999999998\" /><line fill=\"#800080\" stroke=\"#000000\" stroke-width=\"1\" x1=\"18.24\" x2=\"9.856\" y1=\"21.951999999999998\" y2=\"25.28\" /><line fill=\"#800080\" stroke=\"#000000\" stroke-width=\"1\" x1=\"9.856\" x2=\"0.0\" y1=\"25.28\" y2=\"9.151999999999987\" /><line fill=\"#800080\" stroke=\"#000000\" stroke-width=\"1\" x1=\"64.0\" x2=\"73.856\" y1=\"22.72\" y2=\"37.696\" /><line fill=\"#800080\" stroke=\"#000000\" stroke-width=\"1\" x1=\"73.856\" x2=\"83.328\" y1=\"37.696\" y2=\"26.367999999999995\" /><line fill=\"#800080\" stroke=\"#000000\" stroke-width=\"1\" x1=\"83.328\" x2=\"86.656\" y1=\"26.367999999999995\" y2=\"32.19200000000001\" /><line fill=\"#800080\" stroke=\"#000000\" stroke-width=\"1\" x1=\"86.656\" x2=\"79.68\" y1=\"32.19200000000001\" y2=\"64.0\" /><line fill=\"#800080\" stroke=\"#000000\" stroke-width=\"1\" x1=\"90.816\" x2=\"95.80799999999999\" y1=\"64.0\" y2=\"53.05600000000001\" /><line fill=\"#800080\" stroke=\"#000000\" stroke-width=\"1\" x1=\"95.80799999999999\" x2=\"100.8\" y1=\"53.05600000000001\" y2=\"64.0\" /><line fill=\"#800080\" stroke=\"#000000\" stroke-width=\"1\" x1=\"111.872\" x2=\"102.72\" y1=\"64.0\" y2=\"34.43199999999999\" /><line fill=\"#800080\" stroke=\"#000000\" stroke-width=\"1\" x1=\"102.72\" x2=\"128.0\" y1=\"34.43199999999999\" y2=\"54.912000000000006\" /><line fill=\"#800080\" stroke=\"#000000\" stroke-width=\"1\" x1=\"128.0\" x2=\"111.872\" y1=\"41.343999999999994\" y2=\"21.951999999999998\" /><line fill=\"#800080\" stroke=\"#000000\" stroke-width=\"1\" x1=\"111.872\" x2=\"101.24799999999999\" y1=\"21.951999999999998\" y2=\"21.951999999999998\" /><line fill=\"#800080\" stroke=\"#000000\" stroke-width=\"1\" x1=\"101.24799999999999\" x2=\"104.96000000000001\" y1=\"21.951999999999998\" y2=\"9.151999999999987\" /><line fill=\"#800080\" stroke=\"#000000\" stroke-width=\"1\" x1=\"104.96000000000001\" x2=\"100.8\" y1=\"9.151999999999987\" y2=\"0.0\" /><line fill=\"#800080\" stroke=\"#000000\" stroke-width=\"1\" x1=\"90.816\" x2=\"86.656\" y1=\"0.0\" y2=\"9.151999999999987\" /><line fill=\"#800080\" stroke=\"#000000\" stroke-width=\"1\" x1=\"86.656\" x2=\"90.304\" y1=\"9.151999999999987\" y2=\"21.951999999999998\" /><line fill=\"#800080\" stroke=\"#000000\" stroke-width=\"1\" x1=\"90.304\" x2=\"82.24\" y1=\"21.951999999999998\" y2=\"21.951999999999998\" /><line fill=\"#800080\" stroke=\"#000000\" stroke-width=\"1\" x1=\"82.24\" x2=\"73.856\" y1=\"21.951999999999998\" y2=\"25.28\" /><line fill=\"#800080\" stroke=\"#000000\" stroke-width=\"1\" x1=\"73.856\" x2=\"64.0\" y1=\"25.28\" y2=\"9.151999999999987\" /><line fill=\"#800080\" stroke=\"#000000\" stroke-width=\"1\" x1=\"128.0\" x2=\"147.712\" y1=\"86.72\" y2=\"101.696\" /><line fill=\"#800080\" stroke=\"#000000\" stroke-width=\"1\" x1=\"147.712\" x2=\"166.656\" y1=\"101.696\" y2=\"90.368\" /><line fill=\"#800080\" stroke=\"#000000\" stroke-width=\"1\" x1=\"166.656\" x2=\"173.312\" y1=\"90.368\" y2=\"96.19200000000001\" /><line fill=\"#800080\" stroke=\"#000000\" stroke-width=\"1\" x1=\"173.312\" x2=\"159.36\" y1=\"96.19200000000001\" y2=\"128.0\" /><line fill=\"#800080\" stroke=\"#000000\" stroke-width=\"1\" x1=\"181.632\" x2=\"191.61599999999999\" y1=\"128.0\" y2=\"117.05600000000001\" /><line fill=\"#800080\" stroke=\"#000000\" stroke-width=\"1\" x1=\"191.61599999999999\" x2=\"201.6\" y1=\"117.05600000000001\" y2=\"128.0\" /><line fill=\"#800080\" stroke=\"#000000\" stroke-width=\"1\" x1=\"223.744\" x2=\"205.44\" y1=\"128.0\" y2=\"98.43199999999999\" /><line fill=\"#800080\" stroke=\"#000000\" stroke-width=\"1\" x1=\"205.44\" x2=\"256.0\" y1=\"98.43199999999999\" y2=\"118.912\" /><line fill=\"#800080\" stroke=\"#000000\" stroke-width=\"1\" x1=\"256.0\" x2=\"223.744\" y1=\"105.344\" y2=\"85.952\" /><line fill=\"#800080\" stroke=\"#000000\" stroke-width=\"1\" x1=\"223.744\" x2=\"202.49599999999998\" y1=\"85.952\" y2=\"85.952\" /><line fill=\"#800080\" stroke=\"#000000\" stroke-width=\"1\" x1=\"202.49599999999998\" x2=\"209.92000000000002\" y1=\"85.952\" y2=\"73.15199999999999\" /><line fill=\"#800080\" stroke=\"#000000\" stroke-width=\"1\" x1=\"209.92000000000002\" x2=\"201.6\" y1=\"73.15199999999999\" y2=\"64.0\" /><line fill=\"#800080\" stroke=\"#000000\" stroke-width=\"1\" x1=\"181.632\" x2=\"173.312\" y1=\"64.0\" y2=\"73.15199999999999\" /><line fill=\"#800080\" stroke=\"#000000\" stroke-width=\"1\" x1=\"173.312\" x2=\"180.608\" y1=\"73.15199999999999\" y2=\"85.952\" /><line fill=\"#800080\" stroke=\"#000000\" stroke-width=\"1\" x1=\"180.608\" x2=\"164.48\" y1=\"85.952\" y2=\"85.952\" /><line fill=\"#800080\" stroke=\"#000000\" stroke-width=\"1\" x1=\"164.48\" x2=\"147.712\" y1=\"85.952\" y2=\"89.28\" /><line fill=\"#800080\" stroke=\"#000000\" stroke-width=\"1\" x1=\"147.712\" x2=\"128.0\" y1=\"89.28\" y2=\"73.15199999999999\" /><line fill=\"#800080\" stroke=\"#000000\" stroke-width=\"1\" x1=\"128.0\" x2=\"137.856\" y1=\"22.72\" y2=\"37.696\" /><line fill=\"#800080\" stroke=\"#000000\" stroke-width=\"1\" x1=\"137.856\" x2=\"147.328\" y1=\"37.696\" y2=\"26.367999999999995\" /><line fill=\"#800080\" stroke=\"#000000\" stroke-width=\"1\" x1=\"147.328\" x2=\"150.656\" y1=\"26.367999999999995\" y2=\"32.19200000000001\" /><line fill=\"#800080\" stroke=\"#000000\" stroke-width=\"1\" x1=\"150.656\" x2=\"143.68\" y1=\"32.19200000000001\" y2=\"64.0\" /><line fill=\"#800080\" stroke=\"#000000\" stroke-width=\"1\" x1=\"154.816\" x2=\"159.808\" y1=\"64.0\" y2=\"53.05600000000001\" /><line fill=\"#800080\" stroke=\"#000000\" stroke-width=\"1\" x1=\"159.808\" x2=\"164.8\" y1=\"53.05600000000001\" y2=\"64.0\" /><line fill=\"#800080\" stroke=\"#000000\" stroke-width=\"1\" x1=\"175.872\" x2=\"166.72\" y1=\"64.0\" y2=\"34.43199999999999\" /><line fill=\"#800080\" stroke=\"#000000\" stroke-width=\"1\" x1=\"166.72\" x2=\"192.0\" y1=\"34.43199999999999\" y2=\"54.912000000000006\" /><line fill=\"#800080\" stroke=\"#000000\" stroke-width=\"1\" x1=\"192.0\" x2=\"175.872\" y1=\"41.343999999999994\" y2=\"21.951999999999998\" /><line fill=\"#800080\" stroke=\"#000000\" stroke-width=\"1\" x1=\"175.872\" x2=\"165.248\" y1=\"21.951999999999998\" y2=\"21.951999999999998\" /><line fill=\"#800080\" stroke=\"#000000\" stroke-width=\"1\" x1=\"165.248\" x2=\"168.96\" y1=\"21.951999999999998\" y2=\"9.151999999999987\" /><line fill=\"#800080\" stroke=\"#000000\" stroke-width=\"1\" x1=\"168.96\" x2=\"164.8\" y1=\"9.151999999999987\" y2=\"0.0\" /><line fill=\"#800080\" stroke=\"#000000\" stroke-width=\"1\" x1=\"154.816\" x2=\"150.656\" y1=\"0.0\" y2=\"9.151999999999987\" /><line fill=\"#800080\" stroke=\"#000000\" stroke-width=\"1\" x1=\"150.656\" x2=\"154.304\" y1=\"9.151999999999987\" y2=\"21.951999999999998\" /><line fill=\"#800080\" stroke=\"#000000\" stroke-width=\"1\" x1=\"154.304\" x2=\"146.24\" y1=\"21.951999999999998\" y2=\"21.951999999999998\" /><line fill=\"#800080\" stroke=\"#000000\" stroke-width=\"1\" x1=\"146.24\" x2=\"137.856\" y1=\"21.951999999999998\" y2=\"25.28\" /><line fill=\"#800080\" stroke=\"#000000\" stroke-width=\"1\" x1=\"137.856\" x2=\"128.0\" y1=\"25.28\" y2=\"9.151999999999987\" /><line fill=\"#800080\" stroke=\"#000000\" stroke-width=\"1\" x1=\"192.0\" x2=\"201.856\" y1=\"22.72\" y2=\"37.696\" /><line fill=\"#800080\" stroke=\"#000000\" stroke-width=\"1\" x1=\"201.856\" x2=\"211.328\" y1=\"37.696\" y2=\"26.367999999999995\" /><line fill=\"#800080\" stroke=\"#000000\" stroke-width=\"1\" x1=\"211.328\" x2=\"214.656\" y1=\"26.367999999999995\" y2=\"32.19200000000001\" /><line fill=\"#800080\" stroke=\"#000000\" stroke-width=\"1\" x1=\"214.656\" x2=\"207.68\" y1=\"32.19200000000001\" y2=\"64.0\" /><line fill=\"#800080\" stroke=\"#000000\" stroke-width=\"1\" x1=\"218.816\" x2=\"223.808\" y1=\"64.0\" y2=\"53.05600000000001\" /><line fill=\"#800080\" stroke=\"#000000\" stroke-width=\"1\" x1=\"223.808\" x2=\"228.8\" y1=\"53.05600000000001\" y2=\"64.0\" /><line fill=\"#800080\" stroke=\"#000000\" stroke-width=\"1\" x1=\"239.872\" x2=\"230.72\" y1=\"64.0\" y2=\"34.43199999999999\" /><line fill=\"#800080\" stroke=\"#000000\" stroke-width=\"1\" x1=\"230.72\" x2=\"256.0\" y1=\"34.43199999999999\" y2=\"54.912000000000006\" /><line fill=\"#800080\" stroke=\"#000000\" stroke-width=\"1\" x1=\"256.0\" x2=\"239.872\" y1=\"41.343999999999994\" y2=\"21.951999999999998\" /><line fill=\"#800080\" stroke=\"#000000\" stroke-width=\"1\" x1=\"239.872\" x2=\"229.248\" y1=\"21.951999999999998\" y2=\"21.951999999999998\" /><line fill=\"#800080\" stroke=\"#000000\" stroke-width=\"1\" x1=\"229.248\" x2=\"232.96\" y1=\"21.951999999999998\" y2=\"9.151999999999987\" /><line fill=\"#800080\" stroke=\"#000000\" stroke-width=\"1\" x1=\"232.96\" x2=\"228.8\" y1=\"9.151999999999987\" y2=\"0.0\" /><line fill=\"#800080\" stroke=\"#000000\" stroke-width=\"1\" x1=\"218.816\" x2=\"214.656\" y1=\"0.0\" y2=\"9.151999999999987\" /><line fill=\"#800080\" stroke=\"#000000\" stroke-width=\"1\" x1=\"214.656\" x2=\"218.304\" y1=\"9.151999999999987\" y2=\"21.951999999999998\" /><line fill=\"#800080\" stroke=\"#000000\" stroke-width=\"1\" x1=\"218.304\" x2=\"210.24\" y1=\"21.951999999999998\" y2=\"21.951999999999998\" /><line fill=\"#800080\" stroke=\"#000000\" stroke-width=\"1\" x1=\"210.24\" x2=\"201.856\" y1=\"21.951999999999998\" y2=\"25.28\" /><line fill=\"#800080\" stroke=\"#000000\" stroke-width=\"1\" x1=\"201.856\" x2=\"192.0\" y1=\"25.28\" y2=\"9.151999999999987\" /></svg>"
      ],
      "text/plain": [
       "<Canvas (256, 256)>"
      ]
     },
     "metadata": {},
     "output_type": "display_data"
    }
   ],
   "source": [
    "(define up-split (split below beside))\n",
    "\n",
    "; up-splitの動作確認\n",
    "(disp (up-split wave 1))\n",
    "(disp (up-split wave 2))"
   ]
  }
 ],
 "metadata": {
  "kernelspec": {
   "display_name": "Calysto Scheme 3",
   "language": "scheme",
   "name": "calysto_scheme"
  },
  "language_info": {
   "codemirror_mode": {
    "name": "scheme"
   },
   "mimetype": "text/x-scheme",
   "name": "scheme",
   "pygments_lexer": "scheme"
  }
 },
 "nbformat": 4,
 "nbformat_minor": 4
}
