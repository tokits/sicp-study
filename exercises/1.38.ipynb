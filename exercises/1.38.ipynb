{
 "cells": [
  {
   "cell_type": "markdown",
   "metadata": {},
   "source": [
    "### 練習問題1.38\n",
    "スイスの数学者レオンハルト・オイラーは、  \n",
    "1737 年にDe Fractionibus Continuisという学術報告を発表した。\n",
    "それには、$e−2$($e$は⾃然対数の底)の連分数展開が含まれていた。  \n",
    "この 分数では、$N_i$はすべて$1$で、$D_i$は$1, 2, 1, 1, 4, 1, 1, 6, 1, 1, \\cdots$と いう数列である。  \n",
    "オイラーの連分数展開をもとに、  \n",
    "練習問題1.37の cont-frac⼿続きを使って$e$を近似するプログラムを書け。"
   ]
  },
  {
   "cell_type": "code",
   "execution_count": 1,
   "metadata": {},
   "outputs": [],
   "source": [
    "; 反復プロセス\n",
    "(define (cont-frac N D k)\n",
    "  (define (iter d i)\n",
    "      (if (<= i 1)(/ (N 1) d)\n",
    "        (iter (+ (D (- i 1)) (/ (N i) d)) (- i 1))\n",
    "        )\n",
    "    )\n",
    "  (iter (D k) k)\n",
    "  )"
   ]
  },
  {
   "cell_type": "code",
   "execution_count": 2,
   "metadata": {},
   "outputs": [
    {
     "data": {
      "text/plain": [
       "2.7182818229439496"
      ]
     },
     "execution_count": 2,
     "metadata": {},
     "output_type": "execute_result"
    }
   ],
   "source": [
    "(+ (cont-frac (lambda (i) 1.0)\n",
    "              (lambda (i) (let ((mod (% (- i 2) 3))\n",
    "                                (div (/ (- i 2) 3)))\n",
    "                            (if (= mod 0)(* (+ div 1) 2)\n",
    "                                1\n",
    "                            )\n",
    "                        )\n",
    "                )\n",
    "              12)\n",
    "   2)"
   ]
  }
 ],
 "metadata": {
  "kernelspec": {
   "display_name": "Calysto Scheme 3",
   "language": "scheme",
   "name": "calysto_scheme"
  },
  "language_info": {
   "codemirror_mode": {
    "name": "scheme"
   },
   "mimetype": "text/x-scheme",
   "name": "scheme",
   "pygments_lexer": "scheme"
  }
 },
 "nbformat": 4,
 "nbformat_minor": 4
}
