{
 "cells": [
  {
   "cell_type": "markdown",
   "metadata": {},
   "source": [
    "### 練習問題1.38\n",
    "スイスの数学者レオンハルト・オイラーは、  \n",
    "1737 年にDe Fractionibus Continuisという学術報告を発表した。\n",
    "それには、$e−2$($e$は⾃然対数の底)の連分数展開が含まれていた。  \n",
    "この 分数では、$N_i$はすべて$1$で、$D_i$は$1, 2, 1, 1, 4, 1, 1, 6, 1, 1, \\cdots$と いう数列である。  \n",
    "オイラーの連分数展開をもとに、  \n",
    "練習問題1.37の cont-frac⼿続きを使って$e$を近似するプログラムを書け。"
   ]
  }
 ],
 "metadata": {
  "kernelspec": {
   "display_name": "Calysto Scheme 3",
   "language": "scheme",
   "name": "calysto_scheme"
  },
  "language_info": {
   "codemirror_mode": {
    "name": "scheme"
   },
   "mimetype": "text/x-scheme",
   "name": "scheme",
   "pygments_lexer": "scheme"
  }
 },
 "nbformat": 4,
 "nbformat_minor": 4
}
