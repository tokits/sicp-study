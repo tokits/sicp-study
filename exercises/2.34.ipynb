{
 "cells": [
  {
   "cell_type": "markdown",
   "metadata": {},
   "source": [
    "### 練習問題2.34\n",
    "ある$x$の値によって$x$の多項式を評価することは集積として定式化できる。  \n",
    "次の多項式について考える。  \n",
    "\n",
    "$a_{n} x^{n} + a_{n-1} x^{n−1} + \\cdots + a_{1} x + a_{0}$  \n",
    "\n",
    "この多項式をホーナー法(Horner’s rule)というアルゴリズムによって評価する。  \n",
    "ホーナー法では、この計算を以下のような構造にする。  \n",
    "\n",
    "$(\\cdots (a_{n} x + a_{n-1})x + \\cdots  + a_{1})x + a_{0}$.  \n",
    "\n",
    "つまり、$a_{n}$から始めて、それに$x$をかけ、$a_{n-1}$を⾜し、$x$をかけ $\\cdots$ということを、  \n",
    "$a_{0}$まで繰り返す。  \n",
    "以下のひな形を埋め、多項式をホーナー法によって評価する⼿続きを作れ。  \n",
    "多項式の係数$a_{0} \\cdots a_{n}$は列として並んでいるとする。  \n",
    "\n",
    "    (define (horner-eval x coefficient-sequence)\n",
    "      (accumulate (lambda (this-coeff higher-terms) ⟨??⟩)\n",
    "                  0\n",
    "                  coefficient-sequence))\n",
    "    \n",
    "例えば、$x = 2$のときの$1 + 3x + 5x^3 + x^5$を計算するには、  \n",
    "次を評価する。\n",
    "\n",
    "    (horner-eval 2 (list 1 3 0 5 0 1))\n"
   ]
  },
  {
   "cell_type": "code",
   "execution_count": 1,
   "metadata": {},
   "outputs": [
    {
     "name": "stdout",
     "output_type": "stream",
     "text": [
      "79\n"
     ]
    }
   ],
   "source": [
    "; 集積\n",
    "(define (accumulate op initial sequence)\n",
    "  (if (null? sequence) initial\n",
    "      (op (car sequence) (accumulate op initial (cdr sequence)))))\n",
    "\n",
    "(define (horner-eval x coefficient-sequence)\n",
    "  (accumulate (lambda (this-coeff higher-terms)\n",
    "                (+ this-coeff (* x higher-terms))\n",
    "                )\n",
    "              0\n",
    "              coefficient-sequence))\n",
    "\n",
    "(display (horner-eval 2 (list 1 3 0 5 0 1)))\n",
    "(newline)"
   ]
  }
 ],
 "metadata": {
  "kernelspec": {
   "display_name": "Calysto Scheme 3",
   "language": "scheme",
   "name": "calysto_scheme"
  },
  "language_info": {
   "codemirror_mode": {
    "name": "scheme"
   },
   "mimetype": "text/x-scheme",
   "name": "scheme",
   "pygments_lexer": "scheme"
  }
 },
 "nbformat": 4,
 "nbformat_minor": 4
}
