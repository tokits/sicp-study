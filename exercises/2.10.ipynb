{
 "cells": [
  {
   "cell_type": "markdown",
   "metadata": {},
   "source": [
    "### 練習問題2.10\n",
    "エキスパートシステムプログラマの Ben Bitdiddleは、  \n",
    "Alyssa の肩越しにのぞいてきて、  \n",
    "ゼロをまたぐ区間で割った場合にどうなるかはっきりしていないとコメントした。  \n",
    "Alyssa のコードを修正し、この条件についてチェックして、\n",
    "もしこれが起こればエラーのシグナルを送るようにせよ。"
   ]
  },
  {
   "cell_type": "code",
   "execution_count": 1,
   "metadata": {},
   "outputs": [],
   "source": [
    "(define (make-interval a b) (cons a b))\n",
    "(define (lower-bound x)(car x))\n",
    "(define (upper-bound x)(cdr x))\n",
    "; 区間の和\n",
    "(define (add-interval x y)\n",
    "  (make-interval (+ (lower-bound x) (lower-bound y))\n",
    "                 (+ (upper-bound x) (upper-bound y)))\n",
    "  )\n",
    "; 区間の差\n",
    "(define (sub-interval x y)\n",
    "  (make-interval (- (lower-bound x) (lower-bound y))\n",
    "                 (- (upper-bound x) (upper-bound y)))\n",
    "  )\n",
    "; 区間の積\n",
    "(define (mul-interval x y)\n",
    "  (let ((p1 (* (lower-bound x) (lower-bound y)))\n",
    "        (p2 (* (lower-bound x) (upper-bound y)))\n",
    "        (p3 (* (upper-bound x) (lower-bound y)))\n",
    "        (p4 (* (upper-bound x) (upper-bound y))))\n",
    "    (make-interval (min p1 p2 p3 p4)\n",
    "                   (max p1 p2 p3 p4)))\n",
    "  )\n",
    "; 区間の割り算\n",
    "(define (div-interval x y)\n",
    "  (mul-interval\n",
    "   x\n",
    "   (make-interval (/ 1.0 (upper-bound y))\n",
    "                  (/ 1.0 (lower-bound y))))\n",
    "  )"
   ]
  },
  {
   "cell_type": "code",
   "execution_count": 2,
   "metadata": {},
   "outputs": [
    {
     "name": "stderr",
     "output_type": "stream",
     "text": [
      "\u001b[1;31m\n",
      "Traceback (most recent call last):\n",
      "  File \"In [2]\", line 5, col 1, in 'div-interval'\n",
      "  File \"In [1]\", line 28, col 19, in '/'\n",
      "  File \"In [1]\", line 28, col 19\n",
      "RunTimeError: division by zero\n",
      "\n",
      "\u001b[0m"
     ]
    }
   ],
   "source": [
    "(define x (make-interval 0 20))\n",
    "(define y (make-interval 15 35))\n",
    "\n",
    "; 修正しない場合、0除算でエラーになる。\n",
    "(div-interval y x)"
   ]
  },
  {
   "cell_type": "code",
   "execution_count": 3,
   "metadata": {},
   "outputs": [
    {
     "name": "stderr",
     "output_type": "stream",
     "text": [
      "\u001b[1;31m\n",
      "Traceback (most recent call last):\n",
      "  File \"In [3]\", line 16, col 1, in 'div-interval'\n",
      "  File \"In [3]\", line 3, col 3, in 'let'\n",
      "  File \"In [3]\", line 5, col 42, in 'error'\n",
      "  File \"In [3]\", line 5, col 42\n",
      "RunTimeError: Error in 'div error.': \n",
      "\n",
      "\u001b[0m"
     ]
    }
   ],
   "source": [
    "; 区間の割り算\n",
    "(define (div-interval x y)\n",
    "  (let ((lower (lower-bound y))\n",
    "        (upper (upper-bound y)))\n",
    "        (if (or (= lower 0) (= upper 0)) (error \"div error.\" ())\n",
    "          (mul-interval\n",
    "           x\n",
    "           (make-interval (/ 1.0 (upper-bound y))\n",
    "                          (/ 1.0 (lower-bound y))))\n",
    "            )\n",
    "    )\n",
    "  )\n",
    "\n",
    "(define x (make-interval 0 20))\n",
    "(define y (make-interval 15 35))\n",
    "(div-interval y x)"
   ]
  },
  {
   "cell_type": "code",
   "execution_count": 4,
   "metadata": {},
   "outputs": [
    {
     "data": {
      "text/plain": [
       "(0.75 . 3.5)"
      ]
     },
     "execution_count": 4,
     "metadata": {},
     "output_type": "execute_result"
    }
   ],
   "source": [
    "(define x (make-interval 10 20))\n",
    "(define y (make-interval 15 35))\n",
    "(div-interval y x)"
   ]
  }
 ],
 "metadata": {
  "kernelspec": {
   "display_name": "Calysto Scheme 3",
   "language": "scheme",
   "name": "calysto_scheme"
  },
  "language_info": {
   "codemirror_mode": {
    "name": "scheme"
   },
   "mimetype": "text/x-scheme",
   "name": "scheme",
   "pygments_lexer": "scheme"
  }
 },
 "nbformat": 4,
 "nbformat_minor": 4
}
