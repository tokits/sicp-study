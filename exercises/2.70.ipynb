{
 "cells": [
  {
   "cell_type": "markdown",
   "metadata": {},
   "source": [
    "### 練習問題2.70\n",
    "以下に⽰す8記号の相対頻度つきアルファベットは、  \n",
    "1950年代のロックの歌詞を効率よく符号化できるよう設計されたものである  \n",
    "(“アルファベット”の“記号”が単独の⽂字であるとは限らないことに注意)。  \n",
    "\n",
    "    A 2\n",
    "    GET 2\n",
    "    SHA 3\n",
    "    WAH 1\n",
    "    BOOM 1\n",
    "    JOB 2\n",
    "    NA 16\n",
    "    YIP 9\n",
    "\n",
    "generate-huffman-tree(練習問題2.69)を使って対応するハフマ ン木を⽣成し、  \n",
    "encode (練習問題2.68)を使って次のメッセージを符号化せよ。  \n",
    "\n",
    "    Get a job\n",
    "    Sha na na na na na na na na\n",
    "    Get a job\n",
    "    Sha na na na na na na na na\n",
    "    Wah yip yip yip yip yip yip yip yip yip\n",
    "    Sha boom  \n",
    "\n",
    "符号化には何ビット必要だろうか。  \n",
    "もし固定⻑符号をこの8記号アルファベットに使ったとしたら、  \n",
    "最低でどれだけのビット数が必要になるだろうか。"
   ]
  },
  {
   "cell_type": "code",
   "execution_count": 1,
   "metadata": {},
   "outputs": [],
   "source": [
    "(define (make-leaf symbol weight) (list 'leaf symbol weight))\n",
    "(define (leaf? object) (eq? (car object) 'leaf))\n",
    "(define (symbol-leaf x) (cadr x))\n",
    "(define (weight-leaf x) (caddr x))\n",
    "\n",
    "; コンストラクタ\n",
    "(define (make-code-tree left right)\n",
    "  (list left right\n",
    "        (append (symbols left) (symbols right))\n",
    "        (+ (weight left) (weight right))\n",
    "    )\n",
    "  )\n",
    "\n",
    "; セレクタ\n",
    "(define (left-branch tree) (car tree))\n",
    "(define (right-branch tree) (cadr tree))\n",
    "(define (symbols tree)\n",
    "  (if (leaf? tree) (list (symbol-leaf tree))\n",
    "      (caddr tree)\n",
    "    )\n",
    "  )\n",
    "(define (weight tree)\n",
    "  (if (leaf? tree) (weight-leaf tree)\n",
    "      (cadddr tree)\n",
    "    )\n",
    "  )\n",
    "\n",
    "(define (decode bits tree)\n",
    "  (define (decode-1 bits current-branch)\n",
    "    (if (null? bits) '()\n",
    "        (let ((next-branch (choose-branch (car bits) current-branch)))\n",
    "          (if (leaf? next-branch) (cons (symbol-leaf next-branch) (decode-1 (cdr bits) tree))\n",
    "              (decode-1 (cdr bits) next-branch))\n",
    "          )\n",
    "    )\n",
    "    )\n",
    "  (decode-1 bits tree)\n",
    ")  \n",
    "(define (choose-branch bit branch)\n",
    "  (cond ((= bit 0) (left-branch branch))\n",
    "        ((= bit 1) (right-branch branch))\n",
    "        (else (error \"bad bit: CHOOSE-BRANCH\" bit))\n",
    "        )\n",
    "  )\n",
    "\n",
    "(define (adjoin-set x set)\n",
    "  (cond ((null? set) (list x))\n",
    "        ((< (weight x) (weight (car set))) (cons x set))\n",
    "        (else (cons (car set) (adjoin-set x (cdr set))))))\n",
    "\n",
    "(define (make-leaf-set pairs)\n",
    "  (if (null? pairs) '()\n",
    "      (let ((pair (car pairs)))\n",
    "        (adjoin-set (make-leaf (car pair) ; symbol\n",
    "                               (cadr pair)) ; weight\n",
    "                    (make-leaf-set (cdr pairs)))\n",
    "        )\n",
    "    )\n",
    "  )"
   ]
  },
  {
   "cell_type": "code",
   "execution_count": 2,
   "metadata": {},
   "outputs": [],
   "source": [
    "; 符号化処理\n",
    "(define (encode-symbol symbol tree)\n",
    "  (define (iter sub result)\n",
    "    (if (leaf? sub)\n",
    "        (if (eq? (symbol-leaf sub) symbol) result\n",
    "            '())\n",
    "        (let ((l (left-branch sub))\n",
    "              (r (right-branch sub)))\n",
    "          (let ((l-result (iter l (append result '(0)))))\n",
    "            (if (not (null? l-result)) l-result\n",
    "                (iter r (append result '(1)))\n",
    "              )\n",
    "            )\n",
    "        )\n",
    "      )\n",
    "    )\n",
    "  (let ((result (iter tree '())))\n",
    "    (if (null? result) (error \"bad symbol: ENCODE\" symbol)\n",
    "        result\n",
    "        )\n",
    "    )\n",
    ")\n",
    "\n",
    "; 符号化処理 \n",
    "(define (encode message tree)\n",
    "    (if (null? message) '()\n",
    "        (append\n",
    "            (encode-symbol (car message) tree)\n",
    "            (encode (cdr message) tree))\n",
    "    )\n",
    ")"
   ]
  },
  {
   "cell_type": "code",
   "execution_count": 3,
   "metadata": {},
   "outputs": [],
   "source": [
    "; 考え直した回答\n",
    "\n",
    "; 指定した頻度がリストに含まれているか。\n",
    "; 含まれていない場合、falseを返す。\n",
    "; 含まれている場合、最初に見つかったペアと次のペアを返す。（これの2つで木を生成する）\n",
    "(define (have-weight? w set)\n",
    "  ;(display \"have-weight? \")\n",
    "  ;(display w)\n",
    "  ;(display \" \")\n",
    "  ;(display set)\n",
    "  ;(display \" \")\n",
    "  ;(newline)\n",
    "  (cond ((null? set) #f)\n",
    "        ((not (pair? set))\n",
    "         (if (= (weight set) w) (list set)\n",
    "             #f\n",
    "             )\n",
    "         )\n",
    "        (else\n",
    "         (if (= (weight (car set)) w) (list (car set) (cadr set))\n",
    "             (have-weight? w (cdr set))\n",
    "             )\n",
    "         )\n",
    "    )\n",
    ")\n",
    "\n",
    "; ハフマン符号木の生成の記号・頻度ペアのリストから、指定したペアを削除したリストを返す。\n",
    "(define (remove-info item set)\n",
    "  (if (null? set) '()\n",
    "      (if (equal? item (car set)) (remove-info item (cdr set))\n",
    "          (cons (car set) (remove-info item (cdr set)))\n",
    "      )\n",
    "  )\n",
    "  )\n",
    "\n",
    "; 回答\n",
    "(define (successive-merge set)\n",
    "  (define (iter w result)\n",
    "    ;(display result)\n",
    "    ;(newline)\n",
    "    (cond ((null? result) '())\n",
    "          ((= (length result) 1) (car result))\n",
    "          ;((not (pair? result)) result) ; これは動作しない\n",
    "          ((= (length result) 2) (make-code-tree (cadr result) (car result)))\n",
    "          (else\n",
    "           (let ((ll (have-weight? w result)))\n",
    "             (if (equal? ll #f) (iter (+ w 1) result)\n",
    "                 (let ((top (car ll))\n",
    "                       (next (cadr ll)))\n",
    "                   (let ((new-result (remove-info next (remove-info top result))))\n",
    "                     (if (null? new-result) (iter w (list (make-code-tree next top)))\n",
    "                         (if (= (length new-result) 1) (iter w (append (list (make-code-tree next top)) new-result))\n",
    "                             (let (;(new-item (make-code-tree next top))\n",
    "                                   (new-item (if (>= (weight next) (weight top)) (make-code-tree next top) (make-code-tree top next)))\n",
    "                                   )\n",
    "                               (if (<= (weight new-item) (weight (car new-result)))\n",
    "                                   (iter w (append (list new-item) new-result))\n",
    "                                   (iter w (append new-result (list new-item)))\n",
    "                                )\n",
    "                              )\n",
    "                           )\n",
    "                        )\n",
    "                     )\n",
    "                    )\n",
    "                )\n",
    "             )\n",
    "           )\n",
    "        )\n",
    "    )\n",
    "  (iter 1 set)\n",
    "  )\n",
    "\n",
    "(define (generate-huffman-tree pairs)\n",
    "    (successive-merge (make-leaf-set pairs)))"
   ]
  },
  {
   "cell_type": "code",
   "execution_count": 4,
   "metadata": {},
   "outputs": [
    {
     "data": {
      "text/plain": [
       "((leaf na 16) (((leaf yip 9) (leaf sha 3) (yip sha) 12) (((leaf get 2) (leaf a 2) (get a) 4) ((leaf job 2) ((leaf wah 1) (leaf boom 1) (wah boom) 2) (job wah boom) 4) (get a job wah boom) 8) (yip sha get a job wah boom) 20) (na yip sha get a job wah boom) 36)"
      ]
     },
     "execution_count": 4,
     "metadata": {},
     "output_type": "execute_result"
    }
   ],
   "source": [
    ";(define pairs '((na 32) (yip 16) (get 9) (a 2) (job 2) (wah 1) (sha 1) (boom 1)))\n",
    "(define pairs '((na 16) (yip 9) (sha 3) (get 2) (a 2) (job 2) (wah 1) (boom 1)))\n",
    "(define sample (generate-huffman-tree pairs))\n",
    "sample"
   ]
  },
  {
   "cell_type": "code",
   "execution_count": 5,
   "metadata": {},
   "outputs": [
    {
     "name": "stdout",
     "output_type": "stream",
     "text": [
      "(0)\n",
      "(1 0 0)\n",
      "(1 0 1)\n",
      "(1 1 0 0)\n",
      "(1 1 0 1)\n",
      "(1 1 1 0)\n",
      "(1 1 1 1 0)\n",
      "(1 1 1 1 1)\n"
     ]
    }
   ],
   "source": [
    "; 単一の記号で動作確認\n",
    "(display (encode '(na) sample))\n",
    "(newline)\n",
    "(display (encode '(yip) sample))\n",
    "(newline)\n",
    "(display (encode '(sha) sample))\n",
    "(newline)\n",
    "(display (encode '(get) sample))\n",
    "(newline)\n",
    "(display (encode '(a) sample))\n",
    "(newline)\n",
    "(display (encode '(job) sample))\n",
    "(newline)\n",
    "(display (encode '(wah) sample))\n",
    "(newline)\n",
    "(display (encode '(boom) sample))\n",
    "(newline)"
   ]
  },
  {
   "cell_type": "code",
   "execution_count": 6,
   "metadata": {},
   "outputs": [
    {
     "data": {
      "text/plain": [
       "36"
      ]
     },
     "execution_count": 6,
     "metadata": {},
     "output_type": "execute_result"
    }
   ],
   "source": [
    "(define message '(get a job sha na na na na na na na na get a job sha na na na na na na na na wah yip yip yip yip yip yip yip yip yip sha boom))\n",
    "(length message)"
   ]
  },
  {
   "cell_type": "code",
   "execution_count": 7,
   "metadata": {},
   "outputs": [
    {
     "data": {
      "text/plain": [
       "(1 1 0 0 1 1 0 1 1 1 1 0 1 0 1 0 0 0 0 0 0 0 0 1 1 0 0 1 1 0 1 1 1 1 0 1 0 1 0 0 0 0 0 0 0 0 1 1 1 1 0 1 0 0 1 0 0 1 0 0 1 0 0 1 0 0 1 0 0 1 0 0 1 0 0 1 0 0 1 0 1 1 1 1 1 1)"
      ]
     },
     "execution_count": 7,
     "metadata": {},
     "output_type": "execute_result"
    }
   ],
   "source": [
    "(define encode-bits (encode message sample))\n",
    "encode-bits"
   ]
  },
  {
   "cell_type": "code",
   "execution_count": 8,
   "metadata": {},
   "outputs": [
    {
     "data": {
      "text/plain": [
       "86"
      ]
     },
     "execution_count": 8,
     "metadata": {},
     "output_type": "execute_result"
    }
   ],
   "source": [
    "; エンコード後のビット長\n",
    "(length encode-bits)"
   ]
  },
  {
   "cell_type": "code",
   "execution_count": 9,
   "metadata": {},
   "outputs": [
    {
     "data": {
      "text/plain": [
       "(get a job sha na na na na na na na na get a job sha na na na na na na na na wah yip yip yip yip yip yip yip yip yip sha boom)"
      ]
     },
     "execution_count": 9,
     "metadata": {},
     "output_type": "execute_result"
    }
   ],
   "source": [
    "(decode encode-bits sample)"
   ]
  },
  {
   "cell_type": "markdown",
   "metadata": {},
   "source": [
    "固定符号の場合、  \n",
    "8記号あるため、  \n",
    "2^3=8で1記号あたり3ビット必要。\n",
    "\n",
    "86語であるため、86\\*3=258bit必要。"
   ]
  }
 ],
 "metadata": {
  "kernelspec": {
   "display_name": "Calysto Scheme 3",
   "language": "scheme",
   "name": "calysto_scheme"
  },
  "language_info": {
   "codemirror_mode": {
    "name": "scheme"
   },
   "mimetype": "text/x-scheme",
   "name": "scheme",
   "pygments_lexer": "scheme"
  }
 },
 "nbformat": 4,
 "nbformat_minor": 4
}
