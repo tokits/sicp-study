{
 "cells": [
  {
   "cell_type": "markdown",
   "metadata": {},
   "source": [
    "### 練習問題2.70\n",
    "以下に⽰す8記号の相対頻度つきアルファベットは、  \n",
    "1950年代のロックの歌詞を効率よく符号化できるよう設計されたものである  \n",
    "(“アルファベット”の“記号”が単独の⽂字であるとは限らないことに注意)。  \n",
    "\n",
    "    A 2\n",
    "    GET 2\n",
    "    SHA 3\n",
    "    WAH 1\n",
    "    BOOM 1\n",
    "    JOB 2\n",
    "    NA 16\n",
    "    YIP 9\n",
    "\n",
    "generate-huffman-tree(練習問題2.69)を使って対応するハフマ ン木を⽣成し、  \n",
    "encode (練習問題2.68)を使って次のメッセージを符号化せよ。  \n",
    "\n",
    "    Get a job\n",
    "    Sha na na na na na na na na\n",
    "    Get a job\n",
    "    Sha na na na na na na na na\n",
    "    Wah yip yip yip yip yip yip yip yip yip\n",
    "    Sha boom  \n",
    "\n",
    "符号化には何ビット必要だろうか。  \n",
    "もし固定⻑符号をこの8記号アルファベットに使ったとしたら、  \n",
    "最低でどれだけのビット数が必要になるだろうか。"
   ]
  },
  {
   "cell_type": "code",
   "execution_count": 1,
   "metadata": {},
   "outputs": [],
   "source": [
    "(define (make-leaf symbol weight) (list 'leaf symbol weight))\n",
    "(define (leaf? object) (eq? (car object) 'leaf))\n",
    "(define (symbol-leaf x) (cadr x))\n",
    "(define (weight-leaf x) (caddr x))\n",
    "\n",
    "; コンストラクタ\n",
    "(define (make-code-tree left right)\n",
    "  (list left right\n",
    "        (append (symbols left) (symbols right))\n",
    "        (+ (weight left) (weight right))\n",
    "    )\n",
    "  )\n",
    "\n",
    "; セレクタ\n",
    "(define (left-branch tree) (car tree))\n",
    "(define (right-branch tree) (cadr tree))\n",
    "(define (symbols tree)\n",
    "  (if (leaf? tree) (list (symbol-leaf tree))\n",
    "      (caddr tree)\n",
    "    )\n",
    "  )\n",
    "(define (weight tree)\n",
    "  (if (leaf? tree) (weight-leaf tree)\n",
    "      (cadddr tree)\n",
    "    )\n",
    "  )\n",
    "\n",
    "(define (decode bits tree)\n",
    "  (define (decode-1 bits current-branch)\n",
    "    (if (null? bits) '()\n",
    "        (let ((next-branch (choose-branch (car bits) current-branch)))\n",
    "          (if (leaf? next-branch) (cons (symbol-leaf next-branch) (decode-1 (cdr bits) tree))\n",
    "              (decode-1 (cdr bits) next-branch))\n",
    "          )\n",
    "    )\n",
    "    )\n",
    "  (decode-1 bits tree)\n",
    ")  \n",
    "(define (choose-branch bit branch)\n",
    "  (cond ((= bit 0) (left-branch branch))\n",
    "        ((= bit 1) (right-branch branch))\n",
    "        (else (error \"bad bit: CHOOSE-BRANCH\" bit))\n",
    "        )\n",
    "  )\n",
    "\n",
    "(define (adjoin-set x set)\n",
    "  (cond ((null? set) (list x))\n",
    "        ((< (weight x) (weight (car set))) (cons x set))\n",
    "        (else (cons (car set) (adjoin-set x (cdr set))))))\n",
    "\n",
    "(define (make-leaf-set pairs)\n",
    "  (if (null? pairs) '()\n",
    "      (let ((pair (car pairs)))\n",
    "        (adjoin-set (make-leaf (car pair) ; symbol\n",
    "                               (cadr pair)) ; weight\n",
    "                    (make-leaf-set (cdr pairs)))\n",
    "        )\n",
    "    )\n",
    "  )"
   ]
  },
  {
   "cell_type": "code",
   "execution_count": 2,
   "metadata": {},
   "outputs": [],
   "source": [
    "; 符号化処理\n",
    "(define (encode-symbol symbol tree)\n",
    "  (define (iter sub result)\n",
    "    (if (leaf? sub)\n",
    "        (if (eq? (symbol-leaf sub) symbol) result\n",
    "            '())\n",
    "        (let ((l (left-branch sub))\n",
    "              (r (right-branch sub)))\n",
    "          (let ((l-result (iter l (append result '(0)))))\n",
    "            (if (not (null? l-result)) l-result\n",
    "                (iter r (append result '(1)))\n",
    "              )\n",
    "            )\n",
    "        )\n",
    "      )\n",
    "    )\n",
    "  (let ((result (iter tree '())))\n",
    "    (if (null? result) (error \"bad symbol: ENCODE\" symbol)\n",
    "        result\n",
    "        )\n",
    "    )\n",
    ")\n",
    "\n",
    "; 符号化処理 \n",
    "(define (encode message tree)\n",
    "    (if (null? message) '()\n",
    "        (append\n",
    "            (encode-symbol (car message) tree)\n",
    "            (encode (cdr message) tree))\n",
    "    )\n",
    ")"
   ]
  },
  {
   "cell_type": "code",
   "execution_count": 3,
   "metadata": {},
   "outputs": [],
   "source": [
    "; ハフマン符号木の生成の記号・頻度ペアのリストから、指定したペアを削除したリストを返す。\n",
    "(define (remove-set item set)\n",
    "  (if (null? set) '()\n",
    "      (if (equal? item (car set)) (remove-set item (cdr set))\n",
    "          (cons (car set) (remove-set item (cdr set)))\n",
    "      )\n",
    "  )\n",
    ")\n",
    "\n",
    "; 回答\n",
    "(define (successive-merge set)\n",
    "  (define (iter result)\n",
    "    (cond ((null? result) '())\n",
    "          ((= (length result) 1) (car result))\n",
    "          (else\n",
    "             (let ((top (car result))\n",
    "                   (next (cadr result))\n",
    "                   )\n",
    "               (let (\n",
    "                     (new-set (remove-set next (remove-set top result)))\n",
    "                     ;(new-set (cddr result)) ; remove-set手続きを使わなくてもcddrで代用可能\n",
    "                     )\n",
    "                   (iter (adjoin-set (make-code-tree top next) new-set))\n",
    "                 )\n",
    "               )\n",
    "           )\n",
    "        )\n",
    "    )\n",
    "  (iter set)\n",
    "  )\n",
    "\n",
    "(define (generate-huffman-tree pairs)\n",
    "    (successive-merge (make-leaf-set pairs)))"
   ]
  },
  {
   "cell_type": "code",
   "execution_count": 4,
   "metadata": {},
   "outputs": [
    {
     "data": {
      "text/plain": [
       "((leaf na 16) ((leaf yip 9) (((leaf get 2) ((leaf boom 1) (leaf wah 1) (boom wah) 2) (get boom wah) 4) ((leaf sha 3) ((leaf job 2) (leaf a 2) (job a) 4) (sha job a) 7) (get boom wah sha job a) 11) (yip get boom wah sha job a) 20) (na yip get boom wah sha job a) 36)"
      ]
     },
     "execution_count": 4,
     "metadata": {},
     "output_type": "execute_result"
    }
   ],
   "source": [
    ";(define pairs '((na 32) (yip 16) (get 9) (a 2) (job 2) (wah 1) (sha 1) (boom 1)))\n",
    "(define pairs '((na 16) (yip 9) (sha 3) (get 2) (a 2) (job 2) (wah 1) (boom 1)))\n",
    "(define sample (generate-huffman-tree pairs))\n",
    "sample"
   ]
  },
  {
   "cell_type": "code",
   "execution_count": 5,
   "metadata": {},
   "outputs": [
    {
     "name": "stdout",
     "output_type": "stream",
     "text": [
      "(0)\n",
      "(1 0)\n",
      "(1 1 1 0)\n",
      "(1 1 0 0)\n",
      "(1 1 1 1 1)\n",
      "(1 1 1 1 0)\n",
      "(1 1 0 1 1)\n",
      "(1 1 0 1 0)\n"
     ]
    }
   ],
   "source": [
    "; 単一の記号で動作確認\n",
    "(display (encode '(na) sample))\n",
    "(newline)\n",
    "(display (encode '(yip) sample))\n",
    "(newline)\n",
    "(display (encode '(sha) sample))\n",
    "(newline)\n",
    "(display (encode '(get) sample))\n",
    "(newline)\n",
    "(display (encode '(a) sample))\n",
    "(newline)\n",
    "(display (encode '(job) sample))\n",
    "(newline)\n",
    "(display (encode '(wah) sample))\n",
    "(newline)\n",
    "(display (encode '(boom) sample))\n",
    "(newline)"
   ]
  },
  {
   "cell_type": "code",
   "execution_count": 6,
   "metadata": {},
   "outputs": [
    {
     "data": {
      "text/plain": [
       "36"
      ]
     },
     "execution_count": 6,
     "metadata": {},
     "output_type": "execute_result"
    }
   ],
   "source": [
    "(define message '(get a job sha na na na na na na na na get a job sha na na na na na na na na wah yip yip yip yip yip yip yip yip yip sha boom))\n",
    "(length message)"
   ]
  },
  {
   "cell_type": "code",
   "execution_count": 7,
   "metadata": {},
   "outputs": [
    {
     "data": {
      "text/plain": [
       "(1 1 0 0 1 1 1 1 1 1 1 1 1 0 1 1 1 0 0 0 0 0 0 0 0 0 1 1 0 0 1 1 1 1 1 1 1 1 1 0 1 1 1 0 0 0 0 0 0 0 0 0 1 1 0 1 1 1 0 1 0 1 0 1 0 1 0 1 0 1 0 1 0 1 0 1 1 1 0 1 1 0 1 0)"
      ]
     },
     "execution_count": 7,
     "metadata": {},
     "output_type": "execute_result"
    }
   ],
   "source": [
    "(define encode-bits (encode message sample))\n",
    "encode-bits"
   ]
  },
  {
   "cell_type": "code",
   "execution_count": 8,
   "metadata": {},
   "outputs": [
    {
     "data": {
      "text/plain": [
       "84"
      ]
     },
     "execution_count": 8,
     "metadata": {},
     "output_type": "execute_result"
    }
   ],
   "source": [
    "; エンコード後のビット長\n",
    "(length encode-bits)"
   ]
  },
  {
   "cell_type": "code",
   "execution_count": 9,
   "metadata": {},
   "outputs": [
    {
     "data": {
      "text/plain": [
       "(get a job sha na na na na na na na na get a job sha na na na na na na na na wah yip yip yip yip yip yip yip yip yip sha boom)"
      ]
     },
     "execution_count": 9,
     "metadata": {},
     "output_type": "execute_result"
    }
   ],
   "source": [
    "(decode encode-bits sample)"
   ]
  },
  {
   "cell_type": "markdown",
   "metadata": {},
   "source": [
    "固定符号の場合、  \n",
    "8記号あるため、  \n",
    "2^3=8で1記号あたり3ビット必要。\n",
    "\n",
    "86語であるため、86\\*3=258bit必要。"
   ]
  }
 ],
 "metadata": {
  "kernelspec": {
   "display_name": "Calysto Scheme 3",
   "language": "scheme",
   "name": "calysto_scheme"
  },
  "language_info": {
   "codemirror_mode": {
    "name": "scheme"
   },
   "mimetype": "text/x-scheme",
   "name": "scheme",
   "pygments_lexer": "scheme"
  }
 },
 "nbformat": 4,
 "nbformat_minor": 4
}
