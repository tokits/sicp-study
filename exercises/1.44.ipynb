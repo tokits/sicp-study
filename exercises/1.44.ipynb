{
 "cells": [
  {
   "cell_type": "markdown",
   "metadata": {},
   "source": [
    "### 練習問題1.44\n",
    "関数の平滑化(smoothing)は、  \n",
    "信号処理において重要な概念である。  \n",
    "$f$が関数で$dx$がある⼩さな値であるとき、  \n",
    "$f$を平滑化したものは$x$での値が$f(x−dx), f(x), f(x + dx)$の平均となる関数である。  \n",
    "⼊⼒として$f$を計算する⼿続きを取り、$f$を平滑化したものを計算する⼿続きを返す⼿続きsmoothを書け。  \n",
    "時には、関数を繰り返し平滑化する(つまり、平滑化した関数をさらに平滑化することを続ける)ことによって**$n$重平滑化関数**(n-fold smoothedfunction)を得ることが役に⽴つこともある。  \n",
    "smoothと練習問題1.43のrepeatedを使って任意の関数の$n$重平滑化関数を ⽣成するやり⽅を⽰せ。"
   ]
  },
  {
   "cell_type": "markdown",
   "metadata": {},
   "source": [
    "回答は割愛する。"
   ]
  }
 ],
 "metadata": {
  "kernelspec": {
   "display_name": "Calysto Scheme 3",
   "language": "scheme",
   "name": "calysto_scheme"
  },
  "language_info": {
   "codemirror_mode": {
    "name": "scheme"
   },
   "mimetype": "text/x-scheme",
   "name": "scheme",
   "pygments_lexer": "scheme"
  }
 },
 "nbformat": 4,
 "nbformat_minor": 4
}
