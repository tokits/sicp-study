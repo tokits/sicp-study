{
 "cells": [
  {
   "cell_type": "markdown",
   "metadata": {},
   "source": [
    "### 練習問題2.36\n",
    "⼿続きaccumulate-nはaccumulateに似ているが、  \n",
    "三番⽬の引数として列の列を取る(要素となる列の⻑さは⼀定で あるとする)という違いがある。  \n",
    "この⼿続きは、指定された集積⼿ 続きを適⽤してそれぞれの列の最初の要素を結合したもの、  \n",
    "それぞれの列の⼆番⽬の要素を結合したもの...を返り値とする。  \n",
    "例えば、sが((1 2 3) (4 5 6) (7 8 9) (10 11 12))という四つの列を持つ列であるときに  \n",
    "(accumulate-n + 0 s)の値が(22 26 30) になるようにする。  \n",
    "次のaccumulate-nの定義に⽋けている式を埋めよ。  \n",
    "\n",
    "    (define (accumulate-n op init seqs)\n",
    "        (if (null? (car seqs)) nil\n",
    "            (cons (accumulate op init ⟨??⟩) (accumulate-n op init ⟨??⟩))))"
   ]
  },
  {
   "cell_type": "code",
   "execution_count": 1,
   "metadata": {},
   "outputs": [],
   "source": [
    "; 集積\n",
    "(define (accumulate op initial sequence)\n",
    "  (if (null? sequence) initial\n",
    "      (op (car sequence) (accumulate op initial (cdr sequence)))))"
   ]
  },
  {
   "cell_type": "code",
   "execution_count": 2,
   "metadata": {},
   "outputs": [
    {
     "name": "stdout",
     "output_type": "stream",
     "text": [
      "((1 2 3) (4 5 6) (7 8 9) (10 11 12))\n",
      "(1 4 7 10)\n",
      "((2 3) (5 6) (8 9) (11 12))\n"
     ]
    }
   ],
   "source": [
    "; 準備・検討\n",
    "(define s (list (list 1 2 3) (list 4 5 6) (list 7 8 9) (list 10 11 12)))\n",
    "(display s)\n",
    "(newline)\n",
    "\n",
    "; 1列目を列挙\n",
    "(display (accumulate (lambda (x y)(cons (car x) y)) () s))\n",
    "(newline)\n",
    "; 2列目以降を列挙\n",
    "(display (accumulate (lambda (x y)(cons (cdr x) y)) () s))\n",
    "(newline)"
   ]
  },
  {
   "cell_type": "code",
   "execution_count": 3,
   "metadata": {},
   "outputs": [
    {
     "name": "stdout",
     "output_type": "stream",
     "text": [
      "(22 26 30)\n"
     ]
    }
   ],
   "source": [
    "; 回答\n",
    "(define (accumulate-n op init seqs)\n",
    "    (if (null? (car seqs)) '()\n",
    "        (cons (accumulate op init (accumulate (lambda (x y)(cons (car x) y)) () seqs))\n",
    "              (accumulate-n op init (accumulate (lambda (x y)(cons (cdr x) y)) () seqs))\n",
    "              )\n",
    "        )\n",
    "  )\n",
    "\n",
    "; 動作確認\n",
    "(display (accumulate-n + 0 s))\n",
    "(newline)"
   ]
  }
 ],
 "metadata": {
  "kernelspec": {
   "display_name": "Calysto Scheme 3",
   "language": "scheme",
   "name": "calysto_scheme"
  },
  "language_info": {
   "codemirror_mode": {
    "name": "scheme"
   },
   "mimetype": "text/x-scheme",
   "name": "scheme",
   "pygments_lexer": "scheme"
  }
 },
 "nbformat": 4,
 "nbformat_minor": 4
}
