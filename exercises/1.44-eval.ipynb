{
 "cells": [
  {
   "cell_type": "markdown",
   "metadata": {},
   "source": [
    "### 練習問題1.44\n",
    "関数の平滑化(smoothing)は、  \n",
    "信号処理において重要な概念である。  \n",
    "$f$が関数で$dx$がある⼩さな値であるとき、  \n",
    "$f$を平滑化したものは$x$での値が$f(x - dx), f(x), f(x + dx)$の平均となる関数である。  \n",
    "⼊⼒として$f$を計算する⼿続きを取り、$f$を平滑化したものを計算する⼿続きを返す⼿続きsmoothを書け。  \n",
    "時には、関数を繰り返し平滑化する(つまり、平滑化した関数をさらに平滑化することを続ける)ことによって**$n$重平滑化関数**(n-fold smoothedfunction)を得ることが役に⽴つこともある。  \n",
    "smoothと練習問題1.43のrepeatedを使って任意の関数の$n$重平滑化関数を⽣成するやり⽅を⽰せ。"
   ]
  },
  {
   "cell_type": "code",
   "execution_count": 1,
   "metadata": {},
   "outputs": [
    {
     "data": {
      "text/plain": [
       "625"
      ]
     },
     "execution_count": 1,
     "metadata": {},
     "output_type": "execute_result"
    }
   ],
   "source": [
    "(define (compose f g)\n",
    "  (lambda (x) (f (g x))))\n",
    "\n",
    ";; 補助\n",
    "(define (square x) (* x x))\n",
    "(define (inc x) (+ 1 x))\n",
    "\n",
    "(define (repeated f n)\n",
    "  (define (iter i result)\n",
    "    (if (> i n)\n",
    "        result\n",
    "        (iter (+ i 1) (compose f result))))\n",
    "  (iter 2 f))\n",
    "\n",
    "((repeated square 2) 5)"
   ]
  },
  {
   "cell_type": "code",
   "execution_count": 2,
   "metadata": {},
   "outputs": [],
   "source": [
    ";; smooth\n",
    "(define dx 0.00001)\n",
    "(define (smooth f)\n",
    "  (lambda (x) (/ (+ (f (- x dx))\n",
    "                    (f x)\n",
    "                    (f (+ x dx)))\n",
    "                 3)))\n",
    "\n",
    "(define (n-smooth f n)\n",
    "  (repeated (smooth f) n))"
   ]
  },
  {
   "cell_type": "code",
   "execution_count": 3,
   "metadata": {},
   "outputs": [
    {
     "data": {
      "text/plain": [
       "4.006666666666667"
      ]
     },
     "execution_count": 3,
     "metadata": {},
     "output_type": "execute_result"
    }
   ],
   "source": [
    ";; f = incで確認\n",
    ";; わかりやすくするためdx=0.1とする\n",
    "(define dx 0.1)\n",
    "(/ (+ 1.9 2.0 2.1) 3)\n",
    "((smooth inc) 1)\n",
    "\n",
    ";; f = square で確認 \n",
    ";; ((smooth square) 2) の結果との比較\n",
    ";(/ (+ (* 1.9 1.9) 4.0 (* 2.1 2.1)) 3)\n",
    "\n",
    "((smooth square) 2)\n"
   ]
  },
  {
   "cell_type": "code",
   "execution_count": 4,
   "metadata": {},
   "outputs": [
    {
     "data": {
      "text/plain": [
       "2.0"
      ]
     },
     "execution_count": 4,
     "metadata": {},
     "output_type": "execute_result"
    }
   ],
   "source": [
    ";; f = incで確認\n",
    ";; わかりやすくするためdx=0.1とする\n",
    "(define dx 0.1)\n",
    "(/ (+ 1.9 2.0 2.1) 3)"
   ]
  },
  {
   "cell_type": "code",
   "execution_count": 5,
   "metadata": {},
   "outputs": [
    {
     "data": {
      "text/plain": [
       "2.0"
      ]
     },
     "execution_count": 5,
     "metadata": {},
     "output_type": "execute_result"
    }
   ],
   "source": [
    "((smooth inc) 1)"
   ]
  },
  {
   "cell_type": "code",
   "execution_count": 6,
   "metadata": {},
   "outputs": [
    {
     "data": {
      "text/plain": [
       "2.0"
      ]
     },
     "execution_count": 6,
     "metadata": {},
     "output_type": "execute_result"
    }
   ],
   "source": [
    "; 1重平滑化の動作確認\n",
    "((n-smooth inc 1) 1)"
   ]
  },
  {
   "cell_type": "code",
   "execution_count": 7,
   "metadata": {},
   "outputs": [
    {
     "data": {
      "text/plain": [
       "3.0"
      ]
     },
     "execution_count": 7,
     "metadata": {},
     "output_type": "execute_result"
    }
   ],
   "source": [
    "; 2重平滑化の動作確認\n",
    "((n-smooth inc 2) 1)"
   ]
  },
  {
   "cell_type": "code",
   "execution_count": 8,
   "metadata": {},
   "outputs": [
    {
     "data": {
      "text/plain": [
       "4.0"
      ]
     },
     "execution_count": 8,
     "metadata": {},
     "output_type": "execute_result"
    }
   ],
   "source": [
    "; 3重平滑化の動作確認\n",
    "((n-smooth inc 3) 1)"
   ]
  },
  {
   "cell_type": "code",
   "execution_count": 9,
   "metadata": {},
   "outputs": [
    {
     "data": {
      "text/plain": [
       "4.006666666666667"
      ]
     },
     "execution_count": 9,
     "metadata": {},
     "output_type": "execute_result"
    }
   ],
   "source": [
    ";; f = square で確認 \n",
    ";; ((smooth square) 2) の結果との比較\n",
    "(/ (+ (* 1.9 1.9) 4.0 (* 2.1 2.1)) 3)"
   ]
  },
  {
   "cell_type": "code",
   "execution_count": 10,
   "metadata": {},
   "outputs": [
    {
     "data": {
      "text/plain": [
       "4.006666666666667"
      ]
     },
     "execution_count": 10,
     "metadata": {},
     "output_type": "execute_result"
    }
   ],
   "source": [
    "((smooth square) 2)"
   ]
  },
  {
   "cell_type": "code",
   "execution_count": 11,
   "metadata": {},
   "outputs": [
    {
     "data": {
      "text/plain": [
       "4.006666666666667"
      ]
     },
     "execution_count": 11,
     "metadata": {},
     "output_type": "execute_result"
    }
   ],
   "source": [
    "; 1重平滑化の動作確認\n",
    "((n-smooth square 1) 2)"
   ]
  },
  {
   "cell_type": "code",
   "execution_count": 12,
   "metadata": {},
   "outputs": [
    {
     "data": {
      "text/plain": [
       "16.060044444444443"
      ]
     },
     "execution_count": 12,
     "metadata": {},
     "output_type": "execute_result"
    }
   ],
   "source": [
    "; 2重平滑化の動作確認\n",
    "((n-smooth square 2) 2)"
   ]
  },
  {
   "cell_type": "code",
   "execution_count": 13,
   "metadata": {},
   "outputs": [],
   "source": [
    "(define (f x)\n",
    "  (cond ((< x 20) 0)\n",
    "        ((and (>= x 20) (< x 40)) (- (* 5 x) 100))\n",
    "        ((and (>= x 40) (< x 60)) 100)\n",
    "        ((and (>= x 60) (< x 80)) (+ (* -5 x) 400))\n",
    "        ((>= x 80) 0)\n",
    "    )\n",
    "  )"
   ]
  },
  {
   "cell_type": "code",
   "execution_count": 14,
   "metadata": {},
   "outputs": [
    {
     "data": {
      "text/plain": [
       "(0 0 0 0 0 0 0 0 0 0 0 0 0 0 0 0 0 0 0 0 0 5 10 15 20 25 30 35 40 45 50 55 60 65 70 75 80 85 90 95 100 100 100 100 100 100 100 100 100 100 100 100 100 100 100 100 100 100 100 100 100 95 90 85 80 75 70 65 60 55 50 45 40 35 30 25 20 15 10 5 0 0 0 0 0 0 0 0 0 0 0 0 0 0 0 0 0 0 0 0 0)"
      ]
     },
     "execution_count": 14,
     "metadata": {},
     "output_type": "execute_result"
    }
   ],
   "source": [
    "; (x, y)を縦に出力する\n",
    "(define (disp-map proc items)\n",
    "  (if (null? items) '()\n",
    "       (let ((x (car items)))\n",
    "         (let ((y (proc x)))\n",
    "           (begin\n",
    "            (display x)\n",
    "            (display \"\\t\")\n",
    "            (display y)\n",
    "            (newline)\n",
    "            (disp-map proc (cdr items))\n",
    "            )\n",
    "           )\n",
    "        )\n",
    "    )\n",
    "  )\n",
    "\n",
    "(define (make-list n m)\n",
    "  (if (> n m) (list)\n",
    "      (append (list n) (make-list (+ n 1) m))\n",
    "    )\n",
    "  )\n",
    "\n",
    "(define x-domain (make-list 0 100))\n",
    ";x-domain\n",
    "\n",
    "; 縦に出力する場合\n",
    ";(disp-map f x-domain)\n",
    "\n",
    "(map f x-domain)"
   ]
  },
  {
   "cell_type": "code",
   "execution_count": 15,
   "metadata": {},
   "outputs": [
    {
     "data": {
      "text/plain": [
       "(0 0 0 0 0 0 0 0 0 0 0 0 0 0 0 0 0 0 0 0 0.16666666666666666 5.0 10.0 15.0 20.0 25.0 30.0 35.0 40.0 45.0 50.0 55.0 60.0 65.0 70.0 75.0 80.0 85.0 90.0 95.0 99.83333333333333 100 100 100 100 100 100 100 100 100 100 100 100 100 100 100 100 100 100 100 99.83333333333333 95.0 90.0 85.0 80.0 75.0 70.0 65.0 60.0 55.0 50.0 45.0 40.0 35.0 30.0 25.0 20.0 15.0 10.0 5.0 0.16666666666666666 0 0 0 0 0 0 0 0 0 0 0 0 0 0 0 0 0 0 0 0)"
      ]
     },
     "execution_count": 15,
     "metadata": {},
     "output_type": "execute_result"
    }
   ],
   "source": [
    "(define g (smooth f))\n",
    "(map g x-domain)"
   ]
  },
  {
   "cell_type": "code",
   "execution_count": 16,
   "metadata": {},
   "outputs": [
    {
     "data": {
      "text/plain": [
       "(0 0 0 0 0 0 0 0 0 0 0 0 0 0 0 0 0 0 0 0 0.16666666666666666 5.0 10.0 15.0 20.0 25.0 30.0 35.0 40.0 45.0 50.0 55.0 60.0 65.0 70.0 75.0 80.0 85.0 90.0 95.0 99.83333333333333 100 100 100 100 100 100 100 100 100 100 100 100 100 100 100 100 100 100 100 99.83333333333333 95.0 90.0 85.0 80.0 75.0 70.0 65.0 60.0 55.0 50.0 45.0 40.0 35.0 30.0 25.0 20.0 15.0 10.0 5.0 0.16666666666666666 0 0 0 0 0 0 0 0 0 0 0 0 0 0 0 0 0 0 0 0)"
      ]
     },
     "execution_count": 16,
     "metadata": {},
     "output_type": "execute_result"
    }
   ],
   "source": [
    "(define gg (n-smooth f 1))\n",
    "(map gg x-domain)"
   ]
  },
  {
   "cell_type": "code",
   "execution_count": 17,
   "metadata": {},
   "outputs": [
    {
     "data": {
      "text/plain": [
       "(0 0 0 0 0 0 0 0 0 0 0 0 0 0 0 0 0 0 0 0 0 0 0 0 0.16666666666666666 25.0 50.0 75.0 99.83333333333333 100 100 100 99.83333333333333 75.0 50.0 25.0 0.16666666666666666 0 0 0 0 0 0 0 0 0 0 0 0 0 0 0 0 0 0 0 0 0 0 0 0 0 0 0 0.16666666666666666 25.0 50.0 75.0 99.83333333333333 100 100 100 99.83333333333333 75.0 50.0 25.0 0.16666666666666666 0 0 0 0 0 0 0 0 0 0 0 0 0 0 0 0 0 0 0 0 0 0 0 0)"
      ]
     },
     "execution_count": 17,
     "metadata": {},
     "output_type": "execute_result"
    }
   ],
   "source": [
    "(define hh (n-smooth f 2))\n",
    "(map hh x-domain)"
   ]
  }
 ],
 "metadata": {
  "kernelspec": {
   "display_name": "Calysto Scheme 3",
   "language": "scheme",
   "name": "calysto_scheme"
  },
  "language_info": {
   "codemirror_mode": {
    "name": "scheme"
   },
   "mimetype": "text/x-scheme",
   "name": "scheme",
   "pygments_lexer": "scheme"
  }
 },
 "nbformat": 4,
 "nbformat_minor": 4
}
