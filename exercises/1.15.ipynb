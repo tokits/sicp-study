{
 "cells": [
  {
   "cell_type": "markdown",
   "metadata": {},
   "source": [
    "### 練習問題1.15\n",
    "(ラジアンで指定される)⾓度の正弦は、\n",
    "$x$が⼗分に⼩さいとき$\\sin x \\approx x$の近似式によって計算できる。  \n",
    "また、次の 三⾓法の恒等式によって、$\\sin$の引数の⼤きさを⼩さくできる。  \n",
    "$\\sin x = 3 \\sin \\frac{x}{3} − 4 \\sin^3 \\frac{x}{3}$  \n",
    "(この練習問題では、⾓が“⼗分に⼩さい”とはその⼤きさが0.1ラ ジアン以下であることとする)  \n",
    "これらの考えは、以下の⼿続きに組 み込まれている。\n",
    "\n",
    "\n",
    "    (define (cube x) (* x x x))\n",
    "    (define (p x) (- (* 3 x) (* 4 (cube x))))\n",
    "    (define (sine angle)\n",
    "        (if (not (> (abs angle) 0.1)) angle\n",
    "            (p (sine (/ angle 3.0)))))\n",
    "\n",
    "\n",
    "a.(sine 12.15)を評価する際に、⼿続きpは何回適⽤されるか。   \n",
    "b.(sine a)が評価される際にsine⼿続きによって⽣成される\n",
    "  プロセスが使⽤する空間とステップ数の増加オーダーを(a の関数として)求めよ。\n"
   ]
  },
  {
   "cell_type": "code",
   "execution_count": 1,
   "metadata": {},
   "outputs": [],
   "source": [
    "(define pi 3.1415926535897932384626433832795)\n",
    "\n",
    "(define (cube x)\n",
    "  (* x x x)\n",
    "  )\n",
    "(define (p x)\n",
    "  (begin\n",
    "   (display \"p \")\n",
    "   (display x)\n",
    "   (newline)\n",
    "   (- (* 3 x) (* 4 (cube x)))\n",
    "    )\n",
    "  )\n",
    "(define (sine angle)\n",
    "  (if (not (> (abs angle) 0.1))\n",
    "      angle (p (sine (/ angle 3.0))))\n",
    "  )"
   ]
  },
  {
   "cell_type": "code",
   "execution_count": 2,
   "metadata": {},
   "outputs": [
    {
     "name": "stdout",
     "output_type": "stream",
     "text": [
      "p 0.049999999999999996\n",
      "p 0.1495\n",
      "p 0.4351345505\n",
      "p 0.9758465331678772\n",
      "p -0.7895631144708228\n",
      "-0.39980345741334\n",
      "p 0.049999999999999996\n",
      "p 0.1495\n",
      "p 0.4351345505\n",
      "p 0.9758465331678772\n",
      "p -0.7895631144708228\n",
      "p -0.39980345741334\n",
      "-0.9437875486176319\n",
      "p 0.049999999999999996\n",
      "p 0.1495\n",
      "p 0.4351345505\n",
      "p 0.9758465331678772\n",
      "p -0.7895631144708228\n",
      "p -0.39980345741334\n",
      "p -0.9437875486176319\n",
      "0.5312955245037743\n"
     ]
    }
   ],
   "source": [
    "(display (sine 12.15))\n",
    "(newline)\n",
    "(display (sine 36.45))\n",
    "(newline)\n",
    "(display (sine 109.35))\n",
    "(newline)"
   ]
  },
  {
   "cell_type": "markdown",
   "metadata": {},
   "source": [
    "aの答え：5回"
   ]
  },
  {
   "cell_type": "code",
   "execution_count": 5,
   "metadata": {},
   "outputs": [
    {
     "name": "stdout",
     "output_type": "stream",
     "text": [
      "0.1\n",
      "p 0.09999999999999999\n",
      "0.296\n",
      "p 0.09999999999999999\n",
      "p 0.296\n",
      "0.7842626559999999\n",
      "p 0.09999999999999999\n",
      "p 0.296\n",
      "p 0.7842626559999999\n",
      "0.4232887858507435\n",
      "p 0.09999999999999999\n",
      "p 0.296\n",
      "p 0.7842626559999999\n",
      "p 0.4232887858507435\n",
      "0.9664980001695123\n",
      "p 0.09999999999999999\n",
      "p 0.296\n",
      "p 0.7842626559999999\n",
      "p 0.4232887858507435\n",
      "p 0.9664980001695123\n",
      "-0.7118002010039892\n"
     ]
    }
   ],
   "source": [
    "(display (sine 0.1))\n",
    "(newline)\n",
    "(display (sine 0.3))\n",
    "(newline)\n",
    "(display (sine 0.9))\n",
    "(newline)\n",
    "(display (sine 2.7))\n",
    "(newline)\n",
    "(display (sine 8.1))\n",
    "(newline)\n",
    "(display (sine 24.3))\n",
    "(newline)"
   ]
  },
  {
   "cell_type": "markdown",
   "metadata": {},
   "source": [
    "このプロセスは反復プロセスと考えられる。  \n",
    "ステップ数の増加オーダー  \n",
    "$R(0.1 \\cdot 3^{n-1})=n \\rightarrow R(x)=\\log_3{10x}=\\log_3{10}+\\log_3{x}$   \n",
    "よって、増加オーダーは $\\Theta(\\log_3{(x)})$ となる。"
   ]
  },
  {
   "cell_type": "markdown",
   "metadata": {},
   "source": [
    "この本では、計算結果の保持をメモリの使用容量と考えている。  \n",
    "ここでのプロセスは、反復プロセスであり、  \n",
    "計算結果を保持する必要がないため、  \n",
    "メモリの増加オーダーは $\\Theta(1)$ となる。"
   ]
  }
 ],
 "metadata": {
  "kernelspec": {
   "display_name": "Calysto Scheme 3",
   "language": "scheme",
   "name": "calysto_scheme"
  },
  "language_info": {
   "codemirror_mode": {
    "name": "scheme"
   },
   "mimetype": "text/x-scheme",
   "name": "scheme",
   "pygments_lexer": "scheme"
  }
 },
 "nbformat": 4,
 "nbformat_minor": 4
}
