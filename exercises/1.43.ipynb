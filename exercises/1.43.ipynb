{
 "cells": [
  {
   "cell_type": "markdown",
   "metadata": {},
   "source": [
    "### 練習問題1.43\n",
    "$f$が数値関数で$n$が正の整数であれば、  \n",
    "$f$の$n$回適⽤というものを作ることができ、  \n",
    "それは $x$での値が$f(f(\\cdots(f(x))\\cdots))$である関数として定義できる。  \n",
    "例えば、$f$が関数$x \\mapsto x+1$であれば、  \n",
    "$f$の$n$回適⽤は関数$x \\mapsto x + n$となる。  \n",
    "もし$f$が数値を⼆乗する演算であれば、  \n",
    "$f$の$n$回適⽤は、引数を$2^n$乗する関数になる。  \n",
    "⼊⼒としてfを計算する⼿続きと正の整数nを取り、  \n",
    "$f$の$n$回適⽤を計算する⼿続きを返す⼿続きを書け。  \n",
    "その⼿続きは、以下のように使えるはずである。\n",
    "\n",
    "    ((repeated square 2) 5)\n",
    "    625  \n",
    "    \n",
    "ヒント：練習問題1.42のcomposeを使うと便利かもしれない。"
   ]
  },
  {
   "cell_type": "code",
   "execution_count": 1,
   "metadata": {},
   "outputs": [],
   "source": [
    "(define (compose f g)\n",
    "  (lambda (x)(f (g x)))\n",
    "  )\n",
    "(define (repeated f n)\n",
    "  (define (iter g count)\n",
    "          (if (>= count n) g\n",
    "              (iter (compose f g) (+ count 1))\n",
    "          )\n",
    "    )\n",
    "  (iter f 1)\n",
    "  )"
   ]
  },
  {
   "cell_type": "code",
   "execution_count": 2,
   "metadata": {},
   "outputs": [],
   "source": [
    "(define (square x)(* x x))"
   ]
  },
  {
   "cell_type": "code",
   "execution_count": 3,
   "metadata": {},
   "outputs": [
    {
     "data": {
      "text/plain": [
       "625"
      ]
     },
     "execution_count": 3,
     "metadata": {},
     "output_type": "execute_result"
    }
   ],
   "source": [
    "((repeated square 2) 5)"
   ]
  }
 ],
 "metadata": {
  "kernelspec": {
   "display_name": "Calysto Scheme 3",
   "language": "scheme",
   "name": "calysto_scheme"
  },
  "language_info": {
   "codemirror_mode": {
    "name": "scheme"
   },
   "mimetype": "text/x-scheme",
   "name": "scheme",
   "pygments_lexer": "scheme"
  }
 },
 "nbformat": 4,
 "nbformat_minor": 4
}
