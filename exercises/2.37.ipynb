{
 "cells": [
  {
   "cell_type": "markdown",
   "metadata": {},
   "source": [
    "### 練習問題2.37\n",
    "ベクトル${\\bf v}=(v_{i})$を数値の列として表現し、  \n",
    "⾏列 ${\\bf m}=(m_{ij})$をベクトル(⾏列の⾏)の列として表現するとする。  \n",
    "例えば、以下の⾏列は\n",
    "$$\n",
    "\\left(\n",
    "    \\begin{array}{cccc}\n",
    "      1 & 2 & 3 & 4 \\\\\n",
    "      4 & 5 & 6 & 6 \\\\\n",
    "      6 & 7 & 8 & 9\n",
    "    \\end{array}\n",
    "  \\right)\n",
    "$$  \n",
    "\n",
    "列((1 2 3 4) (4 5 6 6) (6 7 8 9))として表現される。  \n",
    "この表現を使うと、列操作によって基本的な⾏列とベクトルの演算を簡潔に表現できる。  \n",
    "これらの(どんな行列演算の本にも書いてある) 演算は、次のようなものである。  \n",
    "\n",
    "(dot-product v w)・・・総和$\\sum_{i} v_{i}w_{i}$を返す。  \n",
    "(matrix-\\*-vector m v)・・・$t_{i}=\\sum_{j} v_{ij}w_{j}$ であるような ベクトル${\\bf t}$を返す。  \n",
    "(matrix-\\*-matrix m n)・・・$p_{ij}=\\sum_{k}m_{ik}n_{kj}$であるような ⾏列${\\bf p}$を返す。  \n",
    "(transpose m)・・・$n_{ij}=m_{ji}$であるような ⾏列${\\bf n}$を返す   \n",
    "\n",
    "内積は、次のように定義できる。  \n",
    "\n",
    "    (define (dot-product v w)\n",
    "       (accumulate + 0 (map * v w)))  \n",
    "       \n",
    "ほかの行列演算を計算する以下の手続きについて、欠けた式を補え  \n",
    "(⼿続きaccumulate-nは練習問題2.36で定義されている)。  \n",
    "\n",
    "    (define (matrix-*-vector m v)\n",
    "        (map ⟨??⟩ m))\n",
    "    (define (transpose mat)\n",
    "        (accumulate-n ⟨??⟩ ⟨??⟩ mat))\n",
    "    (define (matrix-*-matrix m n)\n",
    "        (let ((cols (transpose n)))\n",
    "            (map ⟨??⟩ m)))"
   ]
  },
  {
   "cell_type": "code",
   "execution_count": 1,
   "metadata": {},
   "outputs": [],
   "source": [
    "; 集積\n",
    "(define (accumulate op initial sequence)\n",
    "  (if (null? sequence) initial\n",
    "      (op (car sequence) (accumulate op initial (cdr sequence)))))\n",
    "\n",
    "(define (accumulate-n op init seqs)\n",
    "    (if (null? (car seqs)) '()\n",
    "        (cons (accumulate op init (accumulate (lambda (x y)(cons (car x) y)) () seqs))\n",
    "              (accumulate-n op init (accumulate (lambda (x y)(cons (cdr x) y)) () seqs))\n",
    "              )\n",
    "        )\n",
    "  )"
   ]
  },
  {
   "cell_type": "code",
   "execution_count": 2,
   "metadata": {},
   "outputs": [
    {
     "data": {
      "text/plain": [
       "-2"
      ]
     },
     "execution_count": 2,
     "metadata": {},
     "output_type": "execute_result"
    }
   ],
   "source": [
    "; 内積\n",
    "(define (dot-product v w)\n",
    "   (accumulate + 0 (map * v w)))\n",
    "\n",
    "; 動作確認\n",
    "(dot-product '(2 3) '(-4 2))"
   ]
  },
  {
   "cell_type": "code",
   "execution_count": 3,
   "metadata": {},
   "outputs": [
    {
     "data": {
      "text/plain": [
       "((1 4 6) (2 5 7) (3 6 8) (4 6 9))"
      ]
     },
     "execution_count": 3,
     "metadata": {},
     "output_type": "execute_result"
    }
   ],
   "source": [
    "; 回答\n",
    "; 転置行列\n",
    "; (define (transpose mat)\n",
    ";     (accumulate-n ⟨??⟩ ⟨??⟩ mat))\n",
    "\n",
    "(define (transpose mat)\n",
    "    (accumulate-n cons () mat))\n",
    "\n",
    "; 動作確認\n",
    "(transpose '((1 2 3 4) (4 5 6 6) (6 7 8 9)))"
   ]
  },
  {
   "cell_type": "code",
   "execution_count": 4,
   "metadata": {},
   "outputs": [
    {
     "data": {
      "text/plain": [
       "((1 4 2 5) (2 3 1 3))"
      ]
     },
     "execution_count": 4,
     "metadata": {},
     "output_type": "execute_result"
    }
   ],
   "source": [
    "; 動作確認\n",
    "(transpose '((1 2) (4 3) (2 1) (5 3)))"
   ]
  },
  {
   "cell_type": "code",
   "execution_count": 5,
   "metadata": {},
   "outputs": [
    {
     "data": {
      "text/plain": [
       "(8 18)"
      ]
     },
     "execution_count": 5,
     "metadata": {},
     "output_type": "execute_result"
    }
   ],
   "source": [
    "; 回答\n",
    "; 行列×ベクトル\n",
    ";(define (matrix-*-vector m v)\n",
    ";    (map ⟨??⟩ m))\n",
    "\n",
    "(define (matrix-*-vector m v)\n",
    "  (map (lambda (row)(dot-product row v)) m)\n",
    "  )\n",
    "\n",
    "; 動作確認\n",
    "(matrix-*-vector '((1 2) (3 4)) '(2 3))"
   ]
  },
  {
   "cell_type": "code",
   "execution_count": 6,
   "metadata": {},
   "outputs": [
    {
     "data": {
      "text/plain": [
       "((35 23) (66 47) (95 68))"
      ]
     },
     "execution_count": 6,
     "metadata": {},
     "output_type": "execute_result"
    }
   ],
   "source": [
    "; 回答\n",
    "; 行列の積\n",
    "; (define (matrix-*-matrix m n)\n",
    ";     (let ((cols (transpose n)))\n",
    ";        (map ⟨??⟩ m)))\n",
    "\n",
    "(define (matrix-*-matrix m n)\n",
    "    (let ((cols (transpose n)))\n",
    "        (map (lambda (row)\n",
    "               (map (lambda (col) (dot-product row col)) cols))\n",
    "             m)\n",
    "      )\n",
    "  )\n",
    "\n",
    "; 動作確認\n",
    "(matrix-*-matrix '((1 2 3 4) (4 5 6 6) (6 7 8 9)) '((1 2) (4 3) (2 1) (5 3)))"
   ]
  },
  {
   "cell_type": "code",
   "execution_count": 7,
   "metadata": {},
   "outputs": [
    {
     "data": {
      "text/plain": [
       "((35 23) (66 47) (95 68))"
      ]
     },
     "execution_count": 7,
     "metadata": {},
     "output_type": "execute_result"
    }
   ],
   "source": [
    "; 回答\n",
    "; 行列の積\n",
    "; 別解(transpose手続き使用)\n",
    "\n",
    "(define (matrix-*-matrix m n)\n",
    "    (let ((cols (transpose n)))\n",
    "      (transpose (map (lambda (col) (matrix-*-vector m col)) cols))\n",
    "      )\n",
    "  )\n",
    "\n",
    "; 動作確認\n",
    "(matrix-*-matrix '((1 2 3 4) (4 5 6 6) (6 7 8 9)) '((1 2) (4 3) (2 1) (5 3)))"
   ]
  },
  {
   "cell_type": "markdown",
   "metadata": {},
   "source": [
    "-------------------------------------------------------------"
   ]
  },
  {
   "cell_type": "code",
   "execution_count": 8,
   "metadata": {},
   "outputs": [
    {
     "data": {
      "text/plain": [
       "35"
      ]
     },
     "execution_count": 8,
     "metadata": {},
     "output_type": "execute_result"
    }
   ],
   "source": [
    "; 検討のための動作確認\n",
    "(define m '((1 2 3 4) (4 5 6 6) (6 7 8 9)))\n",
    "(define n '((1 2) (4 3) (2 1) (5 3)))\n",
    "(define cols (transpose '((1 2) (4 3) (2 1) (5 3))))\n",
    "\n",
    "; accumulate-nで乗算・加算を実行する。\n",
    "(accumulate + 0 (accumulate-n * 1 (list (car m) (car cols))))"
   ]
  },
  {
   "cell_type": "code",
   "execution_count": 9,
   "metadata": {},
   "outputs": [
    {
     "data": {
      "text/plain": [
       "35"
      ]
     },
     "execution_count": 9,
     "metadata": {},
     "output_type": "execute_result"
    }
   ],
   "source": [
    "; 検討のための動作確認\n",
    "(define (multi-sum row col)\n",
    "  (accumulate + 0\n",
    "    (map (lambda (x)(let ((a (car x))(b (car (cdr x))))(* a b)))\n",
    "        (transpose (list row col))\n",
    "      )\n",
    "    )\n",
    "  )\n",
    "(multi-sum (car m) (car cols))"
   ]
  },
  {
   "cell_type": "code",
   "execution_count": 10,
   "metadata": {},
   "outputs": [
    {
     "data": {
      "text/plain": [
       "150"
      ]
     },
     "execution_count": 10,
     "metadata": {},
     "output_type": "execute_result"
    }
   ],
   "source": [
    "; 検討のための動作確認\n",
    "(accumulate + 0\n",
    "            (map (lambda (x)(let ((a (car x))(b (car (cdr x))))(* a b)))\n",
    "                 (transpose '((11 13 15 17) (1 2 3 4)))\n",
    "                 )\n",
    "    )"
   ]
  },
  {
   "cell_type": "code",
   "execution_count": 11,
   "metadata": {},
   "outputs": [
    {
     "data": {
      "text/plain": [
       "(((1 1) (2 4) (3 2) (4 5)) ((1 2) (2 3) (3 1) (4 3)))"
      ]
     },
     "execution_count": 11,
     "metadata": {},
     "output_type": "execute_result"
    }
   ],
   "source": [
    "; 検討のための動作確認\n",
    "((lambda (x)(accumulate cons\n",
    "                        ()\n",
    "                        (map (lambda (y)(transpose (list x y))) cols)\n",
    "                )\n",
    "        ) (car m))"
   ]
  },
  {
   "cell_type": "code",
   "execution_count": 12,
   "metadata": {},
   "outputs": [
    {
     "data": {
      "text/plain": [
       "(11 26 45 68)"
      ]
     },
     "execution_count": 12,
     "metadata": {},
     "output_type": "execute_result"
    }
   ],
   "source": [
    "; 検討のための動作確認\n",
    "(map (lambda (x)\n",
    "       (let ((a (car x))\n",
    "             (b (car (cdr x))))\n",
    "         (* a b)\n",
    "         )\n",
    "       )\n",
    "     (transpose '((11 13 15 17) (1 2 3 4)))\n",
    "     )"
   ]
  },
  {
   "cell_type": "code",
   "execution_count": 13,
   "metadata": {},
   "outputs": [
    {
     "data": {
      "text/plain": [
       "(8 18)"
      ]
     },
     "execution_count": 13,
     "metadata": {},
     "output_type": "execute_result"
    }
   ],
   "source": [
    "; ボツ回答\n",
    "; 行列×ベクトル\n",
    ";(define (matrix-*-vector m v)\n",
    ";    (map ⟨??⟩ m))\n",
    "\n",
    "(define (matrix-*-vector m v)\n",
    "  (map (lambda (x)(accumulate (lambda (a b) a)\n",
    "                     ()\n",
    "                     (map (lambda (y)(accumulate + 0 (accumulate-n * 1 (list x y)))) (list v))\n",
    "            )\n",
    "        )\n",
    "    m)\n",
    "  )\n",
    "\n",
    "; 動作確認\n",
    "(matrix-*-vector '((1 2) (3 4)) '(2 3))"
   ]
  },
  {
   "cell_type": "code",
   "execution_count": 14,
   "metadata": {},
   "outputs": [
    {
     "data": {
      "text/plain": [
       "((35 23) (66 47) (95 68))"
      ]
     },
     "execution_count": 14,
     "metadata": {},
     "output_type": "execute_result"
    }
   ],
   "source": [
    "; ボツ回答\n",
    "; 行列の積\n",
    "; (define (matrix-*-matrix m n)\n",
    ";     (let ((cols (transpose n)))\n",
    ";        (map ⟨??⟩ m)))\n",
    "\n",
    "(define (matrix-*-matrix m n)\n",
    "    (let ((cols (transpose n)))\n",
    "        (map (lambda (x)(accumulate cons\n",
    "                                    ()\n",
    "                                    (map (lambda (y)(accumulate + 0 (accumulate-n * 1 (list x y)))) cols)\n",
    "                            )\n",
    "               )\n",
    "             m)\n",
    "      )\n",
    "  )\n",
    "\n",
    "; 動作確認\n",
    "(matrix-*-matrix '((1 2 3 4) (4 5 6 6) (6 7 8 9)) '((1 2) (4 3) (2 1) (5 3)))"
   ]
  }
 ],
 "metadata": {
  "kernelspec": {
   "display_name": "Calysto Scheme 3",
   "language": "scheme",
   "name": "calysto_scheme"
  },
  "language_info": {
   "codemirror_mode": {
    "name": "scheme"
   },
   "mimetype": "text/x-scheme",
   "name": "scheme",
   "pygments_lexer": "scheme"
  }
 },
 "nbformat": 4,
 "nbformat_minor": 4
}
