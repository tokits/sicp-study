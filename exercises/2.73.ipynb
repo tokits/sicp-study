{
 "cells": [
  {
   "cell_type": "markdown",
   "metadata": {},
   "source": [
    "### 練習問題2.73\n",
    "[2.3.2節](../texts/2.3.2.ipynb)では、記号微分を⾏うプログラムについて説明した。\n",
    "\n",
    "    (define (deriv exp var)\n",
    "      (cond ((number? exp) 0)\n",
    "            ((variable? exp)\n",
    "              (if (same-variable? exp var) 1 0))\n",
    "                 ((sum? exp)\n",
    "                  (make-sum (deriv (addend exp) var)\n",
    "                  (deriv (augend exp) var)))\n",
    "           ((product? exp)\n",
    "             (make-sum (make-product\n",
    "                (multiplier exp)\n",
    "                  (deriv (multiplicand exp) var))\n",
    "                (make-product\n",
    "                  (deriv (multiplier exp) var)\n",
    "                    (multiplicand exp))))\n",
    "           ⟨more rules can be added here⟩\n",
    "           (else (error \"unknown expression type:\n",
    "             DERIV\" exp))))\n",
    "\n",
    "このプログラムは、微分する式の型によってディスパッチを実⾏していると捉えることもできる。この場合、データの \"タイプタグ\" は代数演算記号 (+ など) で、\n",
    "⾏う演算は deriv ということになる。\n",
    "基本的な微分を⾏う⼿続きを次のように書き直すと、\n",
    "プログラムをデータ主導スタイルに変形できる。\n",
    "\n",
    "    (define (deriv exp var)\n",
    "      (cond ((number? exp) 0)\n",
    "            ((variable? exp) (if (same-variable? exp var) 1 0))\n",
    "                              (else ((get 'deriv (operator exp))\n",
    "                                    (operands exp) var))))\n",
    "\n",
    "    (define (operator exp) (car exp))\n",
    "\n",
    "    (define (operands exp) (cdr exp))\n",
    "\n",
    "  - a. 上で何をしているか説明せよ。⼿続き number? と variable?は、なぜデータ主導ディスパッチとして取り込むことができないのだろうか。\n",
    "\n",
    "  - b. 和と積に対する微分⼿続きと、上記のプログラムで使っているテーブルにそれらを組み込む補助コードを書け。\n",
    "\n",
    "  - c. 任意の微分規則 (例えば、[練習問題2.56](2.56.ipynb)の指数の微分など) を選び、それをこのデータ主導システムに組み込め。\n",
    "\n",
    "  - d. この単純な代数操作では、式の型は式をまとめる代数演算⼦となっている。しかし、仮に⼿続きのインデックスを逆にして、deriv でディスパッチを⾏う箇所を次のようにするとする。\n",
    "\n",
    "        ((get (operator exp) 'deriv) (operands exp) var)\n",
    "\n",
    "\n",
    "    これに対応して、微分システムにはどのような変更を加える\n",
    "    必要があるだろうか。"
   ]
  },
  {
   "cell_type": "code",
   "execution_count": 47,
   "metadata": {},
   "outputs": [],
   "source": [
    "(define (deriv exp var)\n",
    "  (cond ((number? exp) 0)\n",
    "        ((variable? exp) (if (same-variable? exp var) 1 0))\n",
    "                          (else ((get 'deriv (operator exp))\n",
    "                                (operands exp) var))))\n",
    "\n",
    "(define (operator exp) (car exp))\n",
    "\n",
    "(define (operands exp) (cdr exp))"
   ]
  },
  {
   "cell_type": "code",
   "execution_count": 48,
   "metadata": {
    "jupyter": {
     "source_hidden": true
    },
    "tags": []
   },
   "outputs": [],
   "source": [
    "(define (lookup key table)\n",
    "  (let ((record (assoc key (cdr table))))\n",
    "    (if record (cdr record)\n",
    "        #f)\n",
    "    )\n",
    "  )\n",
    "\n",
    "(define (assoc key records)\n",
    "  (cond ((null? records) #f)\n",
    "        ((equal? key (caar records)) (car records))\n",
    "        (else (assoc key (cdr records)))\n",
    "        )\n",
    "  )\n",
    "\n",
    "(define (insert! key value table)\n",
    "  (let ((record (assoc key (cdr table))))\n",
    "    (if record (set-cdr! record value)\n",
    "        (set-cdr! table (cons (cons key value) (cdr table)))\n",
    "        )\n",
    "    )\n",
    "  'ok)\n",
    "\n",
    "(define (lookup key-1 key-2 table)\n",
    "  (let ((subtable (assoc key-1 (cdr table))))\n",
    "    (if subtable\n",
    "        (let ((record (assoc key-2 (cdr subtable))))\n",
    "          (if record (cdr record)\n",
    "              #f\n",
    "              )\n",
    "          )\n",
    "        #f\n",
    "        )\n",
    "    )\n",
    "  )\n",
    "\n",
    "(define (insert! key-1 key-2 value table)\n",
    "  (let ((subtable (assoc key-1 (cdr table))))\n",
    "    (if subtable\n",
    "        (let ((record (assoc key-2 (cdr subtable))))\n",
    "          (if record (set-cdr! record value)\n",
    "              (set-cdr! subtable (cons (cons key-2 value) (cdr subtable)))\n",
    "              )\n",
    "          )\n",
    "        (set-cdr! table (cons (list key-1 (cons key-2 value)) (cdr table)))\n",
    "        )\n",
    "    )\n",
    "  'ok)\n",
    "\n",
    "(define (make-table)\n",
    "  (let ((local-table (list '*table*)))\n",
    "    (define (lookup key-1 key-2)\n",
    "      (let ((subtable (assoc key-1 (cdr local-table))))\n",
    "        (if subtable\n",
    "            (let ((record (assoc key-2 (cdr subtable))))\n",
    "              (if record (cdr record) #f))\n",
    "            #f)\n",
    "        )\n",
    "      )\n",
    "    (define (insert! key-1 key-2 value)\n",
    "      (let ((subtable (assoc key-1 (cdr local-table))))\n",
    "        (if subtable\n",
    "            (let ((record (assoc key-2 (cdr subtable))))\n",
    "              (if record (set-cdr! record value)\n",
    "                  (set-cdr! subtable (cons (cons key-2 value) (cdr subtable)))\n",
    "                  )\n",
    "              )\n",
    "            (set-cdr! local-table (cons (list key-1 (cons key-2 value)) (cdr local-table )))\n",
    "            )\n",
    "        )\n",
    "      'ok)\n",
    "    (define (dispatch m)\n",
    "      (cond ((eq? m 'lookup-proc) lookup)\n",
    "            ((eq? m 'insert-proc!) insert!)\n",
    "            (else (error \"Unknown operation: TABLE\" m)))\n",
    "      )\n",
    "    dispatch)\n",
    "  )\n",
    "\n",
    ";(define (make-table) (list '*table*))\n",
    "\n",
    "(define operation-table (make-table))\n",
    "(define get (operation-table 'lookup-proc))\n",
    "(define put (operation-table 'insert-proc!))"
   ]
  },
  {
   "cell_type": "code",
   "execution_count": 53,
   "metadata": {
    "tags": []
   },
   "outputs": [],
   "source": [
    "; eは変数か?\n",
    "(define (variable? x)\n",
    "  (symbol? x)) \n",
    "\n",
    "; v1とv2は同じ変数か?\n",
    "(define (same-variable? v1 v2)\n",
    "  (and (variable? v1) (variable? v2) (eq? v1 v2)))\n",
    "\n",
    "; eは和か?\n",
    "(define (sum? x)\n",
    "  (and (pair? x) (eq? (car x) '+)))\n",
    "\n",
    "; 和eの加数\n",
    "(define (addend s)\n",
    "  ;(cadr s)\n",
    "  (car s)\n",
    "  ) \n",
    "\n",
    "; 和eの被加数\n",
    "(define (augend s)\n",
    "  ;(caddr s)\n",
    "  (cadr s)\n",
    "  )\n",
    "\n",
    "; a1とa2の和を構築する\n",
    "(define (make-sum a1 a2)\n",
    "  (list '+ a1 a2))\n",
    "\n",
    ";eは積か?\n",
    "(define (product? x)\n",
    "  (and (pair? x) (eq? (car x) '*))) \n",
    "\n",
    "; 積eの乗数\n",
    "(define (multiplier p)\n",
    "  ;(cadr p)\n",
    "  (car p)\n",
    "  ) \n",
    "\n",
    ";積eの被乗数\n",
    "(define (multiplicand p)\n",
    "  ;(caddr p)\n",
    "  (cadr p)\n",
    "  )\n",
    "\n",
    "; m1とm2の積を構築する\n",
    "(define (make-product m1 m2)\n",
    "  (list '* m1 m2))\n",
    "\n",
    "(define (make-sum a1 a2)\n",
    "  (cond ((=number? a1 0) a2)\n",
    "        ((=number? a2 0) a1)\n",
    "        ((and (number? a1) (number? a2)) (+ a1 a2))\n",
    "        (else (list '+ a1 a2)))\n",
    "  )\n",
    "(define (=number? exp num)\n",
    "  (and (number? exp) (= exp num)))\n",
    "(define (make-product m1 m2)\n",
    "  (cond ((or (=number? m1 0) (=number? m2 0)) 0)\n",
    "        ((=number? m1 1) m2) ((=number? m2 1) m1)\n",
    "        ((and (number? m1) (number? m2)) (* m1 m2))\n",
    "        (else (list '* m1 m2)))\n",
    "  )"
   ]
  },
  {
   "cell_type": "code",
   "execution_count": 54,
   "metadata": {},
   "outputs": [
    {
     "data": {
      "text/plain": [
       "ok"
      ]
     },
     "execution_count": 54,
     "metadata": {},
     "output_type": "execute_result"
    }
   ],
   "source": [
    "(put 'deriv '+\n",
    "     (lambda (exp var)(make-sum (deriv (addend exp) var) (deriv (augend exp) var))\n",
    "        )\n",
    "     )"
   ]
  },
  {
   "cell_type": "code",
   "execution_count": 55,
   "metadata": {},
   "outputs": [
    {
     "data": {
      "text/plain": [
       "ok"
      ]
     },
     "execution_count": 55,
     "metadata": {},
     "output_type": "execute_result"
    }
   ],
   "source": [
    "(put 'deriv '*\n",
    "     (lambda (exp var)\n",
    "       (make-sum (make-product (multiplier exp)\n",
    "                                                (deriv (multiplicand exp) var))\n",
    "                                  (make-product (deriv (multiplier exp) var) (multiplicand exp)))\n",
    "       )\n",
    "     )"
   ]
  },
  {
   "cell_type": "code",
   "execution_count": 56,
   "metadata": {
    "tags": []
   },
   "outputs": [
    {
     "data": {
      "text/plain": [
       "1"
      ]
     },
     "execution_count": 56,
     "metadata": {},
     "output_type": "execute_result"
    }
   ],
   "source": [
    "(deriv '(+ x 3) 'x)"
   ]
  },
  {
   "cell_type": "code",
   "execution_count": 57,
   "metadata": {},
   "outputs": [
    {
     "data": {
      "text/plain": [
       "y"
      ]
     },
     "execution_count": 57,
     "metadata": {},
     "output_type": "execute_result"
    }
   ],
   "source": [
    "(deriv '(* x y) 'x)"
   ]
  },
  {
   "cell_type": "code",
   "execution_count": 58,
   "metadata": {},
   "outputs": [
    {
     "data": {
      "text/plain": [
       "(+ (* x y) (* y (+ x 3)))"
      ]
     },
     "execution_count": 58,
     "metadata": {},
     "output_type": "execute_result"
    }
   ],
   "source": [
    "(deriv '(* (* x y) (+ x 3)) 'x)"
   ]
  },
  {
   "cell_type": "code",
   "execution_count": 63,
   "metadata": {},
   "outputs": [
    {
     "data": {
      "text/plain": [
       "ok"
      ]
     },
     "execution_count": 63,
     "metadata": {},
     "output_type": "execute_result"
    }
   ],
   "source": [
    "\n",
    "; べき乗の基数\n",
    "(define (base x)\n",
    "  ;(cadr x)\n",
    "  (car x)\n",
    "  )\n",
    "\n",
    "; 指数\n",
    "(define (exponent x)\n",
    "  ;(caddr x)\n",
    "  (cadr x)\n",
    "  )\n",
    "\n",
    "; べき数を構築する\n",
    "(define (make-exponentiation m1 m2)\n",
    "  (cond ((=number? m2 0) 1)\n",
    "        ((=number? m2 1) m1)\n",
    "        ;((=number? m1 1) m2) ((=number? m2 1) m1)\n",
    "        ((and (number? m1) (number? m2) (> m2 0)) ((make-exponentiation (* m1 m1) (- m2 1))))\n",
    "        (else (list '** m1 m2)))\n",
    "  )\n",
    "\n",
    "(put 'deriv '**\n",
    "     (lambda (exp var)\n",
    "         (let ((u (base exp))\n",
    "               (e (exponent exp)))\n",
    "            (make-product (make-product e (make-exponentiation u (- e 1))) (deriv u var))\n",
    "           )\n",
    "       )\n",
    "     )\n"
   ]
  },
  {
   "cell_type": "code",
   "execution_count": 64,
   "metadata": {},
   "outputs": [
    {
     "data": {
      "text/plain": [
       "(* 3 (** x 2))"
      ]
     },
     "execution_count": 64,
     "metadata": {},
     "output_type": "execute_result"
    }
   ],
   "source": [
    "(deriv '(** x 3) 'x)"
   ]
  },
  {
   "cell_type": "code",
   "execution_count": 65,
   "metadata": {},
   "outputs": [
    {
     "data": {
      "text/plain": [
       "(* 2 (+ x 1))"
      ]
     },
     "execution_count": 65,
     "metadata": {},
     "output_type": "execute_result"
    }
   ],
   "source": [
    "(deriv '(** (+ x 1) 2) 'x)"
   ]
  },
  {
   "cell_type": "code",
   "execution_count": 67,
   "metadata": {},
   "outputs": [
    {
     "data": {
      "text/plain": [
       "ok"
      ]
     },
     "execution_count": 67,
     "metadata": {},
     "output_type": "execute_result"
    }
   ],
   "source": [
    "(define (deriv exp var)\n",
    "  (cond ((number? exp) 0)\n",
    "        ((variable? exp) (if (same-variable? exp var) 1 0))\n",
    "                          (else ((get (operator exp) 'deriv)\n",
    "                                (operands exp) var))))\n",
    "\n",
    "(put '+ 'deriv\n",
    "     (lambda (exp var)(make-sum (deriv (addend exp) var) (deriv (augend exp) var))\n",
    "        )\n",
    "     )\n",
    "\n",
    "(put '* 'deriv\n",
    "     (lambda (exp var)\n",
    "       (make-sum (make-product (multiplier exp)\n",
    "                                                (deriv (multiplicand exp) var))\n",
    "                                  (make-product (deriv (multiplier exp) var) (multiplicand exp)))\n",
    "       )\n",
    "     )\n",
    "\n",
    "(put '** 'deriv\n",
    "     (lambda (exp var)\n",
    "         (let ((u (base exp))\n",
    "               (e (exponent exp)))\n",
    "            (make-product (make-product e (make-exponentiation u (- e 1))) (deriv u var))\n",
    "           )\n",
    "       )\n",
    "     )\n"
   ]
  },
  {
   "cell_type": "code",
   "execution_count": 68,
   "metadata": {},
   "outputs": [
    {
     "data": {
      "text/plain": [
       "1"
      ]
     },
     "execution_count": 68,
     "metadata": {},
     "output_type": "execute_result"
    }
   ],
   "source": [
    "(deriv '(+ x 3) 'x)"
   ]
  },
  {
   "cell_type": "code",
   "execution_count": 69,
   "metadata": {},
   "outputs": [
    {
     "data": {
      "text/plain": [
       "y"
      ]
     },
     "execution_count": 69,
     "metadata": {},
     "output_type": "execute_result"
    }
   ],
   "source": [
    "(deriv '(* x y) 'x)"
   ]
  },
  {
   "cell_type": "code",
   "execution_count": 70,
   "metadata": {},
   "outputs": [
    {
     "data": {
      "text/plain": [
       "(+ (* x y) (* y (+ x 3)))"
      ]
     },
     "execution_count": 70,
     "metadata": {},
     "output_type": "execute_result"
    }
   ],
   "source": [
    "(deriv '(* (* x y) (+ x 3)) 'x)"
   ]
  },
  {
   "cell_type": "code",
   "execution_count": 71,
   "metadata": {},
   "outputs": [
    {
     "data": {
      "text/plain": [
       "(* 3 (** x 2))"
      ]
     },
     "execution_count": 71,
     "metadata": {},
     "output_type": "execute_result"
    }
   ],
   "source": [
    "(deriv '(** x 3) 'x)"
   ]
  },
  {
   "cell_type": "code",
   "execution_count": null,
   "metadata": {},
   "outputs": [],
   "source": []
  }
 ],
 "metadata": {
  "kernelspec": {
   "display_name": "Calysto Scheme 3",
   "language": "scheme",
   "name": "calysto_scheme"
  },
  "language_info": {
   "codemirror_mode": {
    "name": "scheme"
   },
   "mimetype": "text/x-scheme",
   "name": "scheme",
   "pygments_lexer": "scheme"
  }
 },
 "nbformat": 4,
 "nbformat_minor": 4
}
