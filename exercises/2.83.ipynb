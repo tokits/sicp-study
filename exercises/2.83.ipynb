{
 "cells": [
  {
   "cell_type": "markdown",
   "metadata": {},
   "source": [
    "### 練習問題2.83\n",
    "図 2.25に⽰した型のタワー (整数、有理数、実数、複素数) を扱うジェネリック算術演算システムを設計しているとする。<br />\n",
    "それぞれの型 (複素数を除く) に対し、<br />\n",
    "その型のオブジェクトをタワーの中で⼀階上げる⼿続きを設計せよ。<br />\n",
    "それぞれの型 (複素数を除く) に対して動作するジェネリックな raise 演算を組み込む⽅法を⽰せ。"
   ]
  },
  {
   "cell_type": "markdown",
   "metadata": {},
   "source": [
    "回答：保留"
   ]
  }
 ],
 "metadata": {
  "kernelspec": {
   "display_name": "Calysto Scheme 3",
   "language": "scheme",
   "name": "calysto_scheme"
  },
  "language_info": {
   "codemirror_mode": {
    "name": "scheme"
   },
   "mimetype": "text/x-scheme",
   "name": "scheme",
   "pygments_lexer": "scheme"
  }
 },
 "nbformat": 4,
 "nbformat_minor": 4
}
