{
 "cells": [
  {
   "cell_type": "markdown",
   "metadata": {},
   "source": [
    "### 練習問題2.35\n",
    "2.2.2節のcount-leavesを集積として再定義せよ。  \n",
    "\n",
    "    (define (count-leaves t)\n",
    "        (accumulate ⟨??⟩ ⟨??⟩ (map ⟨??⟩ ⟨??⟩)))"
   ]
  },
  {
   "cell_type": "code",
   "execution_count": 1,
   "metadata": {},
   "outputs": [],
   "source": [
    "; 2.2.2節の定義\n",
    ";(define (count-leaves x)\n",
    ";  (cond ((null? x) 0)\n",
    ";        ((not (pair? x)) 1)\n",
    ";        (else (+ (count-leaves (car x)) (count-leaves (cdr x))))))\n",
    "\n",
    "; 集積\n",
    "(define (accumulate op initial sequence)\n",
    "  (if (null? sequence) initial\n",
    "      (op (car sequence) (accumulate op initial (cdr sequence)))))"
   ]
  },
  {
   "cell_type": "code",
   "execution_count": 2,
   "metadata": {},
   "outputs": [
    {
     "name": "stdout",
     "output_type": "stream",
     "text": [
      "4\n",
      "8\n",
      "7\n"
     ]
    }
   ],
   "source": [
    "; mapを使うのがひっかかる。\n",
    "; 木は線形的なリストに変換しないと、accumulate手続きで計算できないと思われる。\n",
    "(define (fringe l)\n",
    "  (define (iter ll)\n",
    "  (cond ((null? ll) ())\n",
    "        ((not (pair? ll)) (list ll)) ; append手続きは2つの引数がリストでないと実行できないため、リストにする。\n",
    "        (else (append (fringe (car ll)) (fringe (cdr ll))))\n",
    "        )\n",
    "    )\n",
    "  (iter l)\n",
    ")\n",
    "\n",
    "(define (count-leaves t)\n",
    "    (accumulate (lambda (x y)(+ 1 y))\n",
    "                0\n",
    "                (map (lambda (x) x) (fringe t))  ; mapを使っているが、実際はfringe手続きで線形的なリストに変換している。\n",
    "        )\n",
    "  )\n",
    "\n",
    "; 動作確認\n",
    "(display (count-leaves (cons '(1 2) '(3 4))))\n",
    "(newline)\n",
    "(display (count-leaves '(((1 2) (3 4)) ((1 2) (3 4)))))\n",
    "(newline)\n",
    "(display (count-leaves '(1 (2 (3 4) 5) (6 7))))\n",
    "(newline)"
   ]
  },
  {
   "cell_type": "markdown",
   "metadata": {},
   "source": [
    "以下のようにすると回答がスマートになる。  \n",
    "参考サイト：以下のようにすると回答がスマートになる。  \n",
    "参考サイト：https://github.com/reddikih/study-sicp/blob/master/sicp-2.2.org"
   ]
  },
  {
   "cell_type": "code",
   "execution_count": 3,
   "metadata": {},
   "outputs": [
    {
     "name": "stdout",
     "output_type": "stream",
     "text": [
      "4\n",
      "8\n",
      "7\n"
     ]
    }
   ],
   "source": [
    "(define (count-leaves t)\n",
    "    (accumulate +\n",
    "                0\n",
    "                (map (lambda (x) 1) (fringe t))  ; mapを使っているが、実際はfringe手続きで線形的なリストに変換している。\n",
    "        )\n",
    "  )\n",
    "\n",
    "; 動作確認\n",
    "(display (count-leaves (cons '(1 2) '(3 4))))\n",
    "(newline)\n",
    "(display (count-leaves '(((1 2) (3 4)) ((1 2) (3 4)))))\n",
    "(newline)\n",
    "(display (count-leaves '(1 (2 (3 4) 5) (6 7))))\n",
    "(newline)"
   ]
  },
  {
   "cell_type": "markdown",
   "metadata": {},
   "source": [
    "最初、map手続きを使う実装の仕方がわからなかったので、\n",
    "map手続きを使わないバージョンを作ってみた。"
   ]
  },
  {
   "cell_type": "code",
   "execution_count": 4,
   "metadata": {},
   "outputs": [
    {
     "name": "stdout",
     "output_type": "stream",
     "text": [
      "(1 2 3 4)\n",
      "4\n",
      "8\n",
      "7\n"
     ]
    }
   ],
   "source": [
    "(define (fringe l)\n",
    "  (define (iter ll)\n",
    "  (cond ((null? ll) ())\n",
    "        ((not (pair? ll)) (list ll)) ; append手続きは2つの引数がリストでないと実行できないため、リストにする。\n",
    "        (else (append (fringe (car ll)) (fringe (cdr ll))))\n",
    "        )\n",
    "    )\n",
    "  (iter l)\n",
    ")\n",
    "(display (fringe (cons (list 1 2) (list 3 4))))\n",
    "(newline)\n",
    "\n",
    "; 木の葉を列挙するやり方であれば、以下の方法でできる。\n",
    "; map手続きで葉を列挙する方法が分かればいいのだが、mapの実装を変えない限りできなかった。\n",
    "(define (count-leaves t)\n",
    "    (accumulate (lambda (x y)(+ 1 y)) 0 (fringe t))\n",
    "  )\n",
    "\n",
    "; 動作確認\n",
    "(display (count-leaves (cons '(1 2) '(3 4))))\n",
    "(newline)\n",
    "(display (count-leaves '(((1 2) (3 4)) ((1 2) (3 4)))))\n",
    "(newline)\n",
    "(display (count-leaves '(1 (2 (3 4) 5) (6 7))))\n",
    "(newline)"
   ]
  },
  {
   "cell_type": "code",
   "execution_count": 5,
   "metadata": {},
   "outputs": [
    {
     "name": "stdout",
     "output_type": "stream",
     "text": [
      "4\n",
      "8\n",
      "7\n"
     ]
    }
   ],
   "source": [
    "; ボツ回答\n",
    "; mapを使うのがひっかかる。\n",
    "; 良い回答ではない。\n",
    "(define (count-iter x y)\n",
    "  (cond ((null? x) y)\n",
    "        ((not (pair? x)) (+ 1 y))\n",
    "        (else (+ (count-iter (car x) 0) (count-iter (cdr x) 0) y)\n",
    "              )\n",
    "   )\n",
    "  )\n",
    "\n",
    "(define (count-leaves t)\n",
    "    (accumulate count-iter\n",
    "                0\n",
    "                (map (lambda (x) x) t))\n",
    "  )\n",
    "\n",
    "; 動作確認\n",
    "(display (count-leaves (cons '(1 2) '(3 4))))\n",
    "(newline)\n",
    "(display (count-leaves '(((1 2) (3 4)) ((1 2) (3 4)))))\n",
    "(newline)\n",
    "(display (count-leaves '(1 (2 (3 4) 5) (6 7))))\n",
    "(newline)"
   ]
  }
 ],
 "metadata": {
  "kernelspec": {
   "display_name": "Calysto Scheme 3",
   "language": "scheme",
   "name": "calysto_scheme"
  },
  "language_info": {
   "codemirror_mode": {
    "name": "scheme"
   },
   "mimetype": "text/x-scheme",
   "name": "scheme",
   "pygments_lexer": "scheme"
  }
 },
 "nbformat": 4,
 "nbformat_minor": 4
}
