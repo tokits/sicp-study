{
 "cells": [
  {
   "cell_type": "markdown",
   "metadata": {},
   "source": [
    "### 練習問題 1.3\n",
    "三つの数値を引数として取り、そのうち⼤きいほうから⼆つの数値の⼆乗の和を返す⼿続きを定義せよ。"
   ]
  },
  {
   "cell_type": "code",
   "execution_count": 1,
   "metadata": {},
   "outputs": [],
   "source": [
    "; 3つの整数のうち、一番小さい整数を確定させ、\n",
    "; それ以外の2つの整数で2乗和を計算すればよい。\n",
    "(define (square x) (* x x))\n",
    "(define (square-add x y) (+ (square x) (square y)))\n",
    "(define (f-cond x y z)\n",
    "  (cond\n",
    "   ((and (>= x y) (>= y z))(square-add x y))\n",
    "   ((and (>= x z) (>= z y))(square-add x z))\n",
    "   ((and (>= y x) (>= x z))(square-add y x))\n",
    "   ((and (>= y z) (>= z x))(square-add y z))\n",
    "   ((and (>= z x) (>= x y))(square-add z x))\n",
    "   ((and (>= z y) (>= y x))(square-add z y))\n",
    "   )\n",
    ")"
   ]
  },
  {
   "cell_type": "code",
   "execution_count": 2,
   "metadata": {},
   "outputs": [
    {
     "name": "stdout",
     "output_type": "stream",
     "text": [
      "13\n",
      "13\n",
      "13\n",
      "13\n",
      "13\n",
      "13\n",
      "41\n"
     ]
    }
   ],
   "source": [
    "; 動作確認\n",
    "(display (f-cond -1 2 3))\n",
    "(newline)\n",
    "(display (f-cond -1 3 2))\n",
    "(newline)\n",
    "(display (f-cond 2 -1 3))\n",
    "(newline)\n",
    "(display (f-cond 2 3 -1))\n",
    "(newline)\n",
    "(display (f-cond 3 -1 2))\n",
    "(newline)\n",
    "(display (f-cond 3 2 -1))\n",
    "(newline)\n",
    "(display (f-cond 5 -4 -7))\n",
    "(newline)"
   ]
  },
  {
   "cell_type": "code",
   "execution_count": 3,
   "metadata": {},
   "outputs": [],
   "source": [
    "; if文の場合\n",
    "(define (f-if x y z)\n",
    "  (if (>= x y)\n",
    "   (if (>= y z) (square-add x y) (square-add x z))\n",
    "   (if (>= x z) (square-add y x) (square-add y z))\n",
    "   )\n",
    ")"
   ]
  },
  {
   "cell_type": "code",
   "execution_count": 4,
   "metadata": {},
   "outputs": [
    {
     "name": "stdout",
     "output_type": "stream",
     "text": [
      "13\n",
      "13\n",
      "13\n",
      "13\n",
      "13\n",
      "13\n",
      "74\n"
     ]
    }
   ],
   "source": [
    "; 動作確認\n",
    "(display (f-if 1 2 3))\n",
    "(newline)\n",
    "(display (f-if 1 3 2))\n",
    "(newline)\n",
    "(display (f-if 2 1 3))\n",
    "(newline)\n",
    "(display (f-if 2 3 1))\n",
    "(newline)\n",
    "(display (f-if 3 1 2))\n",
    "(newline)\n",
    "(display (f-if 3 2 1))\n",
    "(newline)\n",
    "(display (f-if 5 4 7))\n",
    "(newline)"
   ]
  }
 ],
 "metadata": {
  "kernelspec": {
   "display_name": "Calysto Scheme 3",
   "language": "scheme",
   "name": "calysto_scheme"
  },
  "language_info": {
   "codemirror_mode": {
    "name": "scheme"
   },
   "mimetype": "text/x-scheme",
   "name": "scheme",
   "pygments_lexer": "scheme"
  }
 },
 "nbformat": 4,
 "nbformat_minor": 4
}
