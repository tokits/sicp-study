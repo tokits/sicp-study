{
 "cells": [
  {
   "cell_type": "markdown",
   "metadata": {},
   "source": [
    "### 練習問題2.46\n",
    "原点からある⼀点に張られる⼆次元ベクトルは、  \n",
    "x座標とy座標からなるペアとして表現できる。  \n",
    "コンストラクタ make-vectと、それに対応するセレクタxcor-vect, ycor-vectを与え、  \n",
    "ベクトルに対するデータ抽象化を実装せよ。  \n",
    "それらのセレクタとコンストラクタによって、  \n",
    "ベクトルの⾜し算、引き算、スカラによるかけ算という演算を⾏う⼿続き  \n",
    "add-vect, sub-vect, scale-vectを実装せよ。 \n",
    "\n",
    "$$\n",
    "(x_1, y_1) + (x_2, y_2) = (x_1 + x_2, y_1 + y_2) \\\\\n",
    "(x_1, y_1) − (x_2, y_2) = (x_1 − x_2, y_1 − y_2) \\\\\n",
    "s \\cdot (x, y) = (s x, s y) \\\\\n",
    "$$"
   ]
  },
  {
   "cell_type": "code",
   "execution_count": 1,
   "metadata": {},
   "outputs": [],
   "source": [
    "; 回答\n",
    "; ベクトルコンストラクタ・セレクタ\n",
    "(define (make-vect x y)(cons x y))\n",
    "(define (xcor-vect v)(car v))\n",
    "(define (ycor-vect v)(cdr v))\n",
    "\n",
    "; ベクトル演算\n",
    "(define (add-vect v1 v2)\n",
    "  (make-vect (+ (xcor-vect v1) (xcor-vect v2))\n",
    "             (+ (ycor-vect v1) (ycor-vect v2))\n",
    "             )\n",
    "  )\n",
    "(define (sub-vect v1 v2)\n",
    "  (make-vect (- (xcor-vect v1) (xcor-vect v2))\n",
    "             (- (ycor-vect v1) (ycor-vect v2))\n",
    "             )\n",
    "  )\n",
    "(define (scale-vect s v)\n",
    "  (make-vect (* s (xcor-vect v)) (* s (ycor-vect v))\n",
    "             )\n",
    "  )"
   ]
  },
  {
   "cell_type": "code",
   "execution_count": 2,
   "metadata": {},
   "outputs": [],
   "source": [
    "; 動作確認\n",
    "(define v1 (make-vect 1 -2))\n",
    "(define v2 (make-vect -3 4))"
   ]
  },
  {
   "cell_type": "code",
   "execution_count": 3,
   "metadata": {},
   "outputs": [
    {
     "data": {
      "text/plain": [
       "(-2 . 2)"
      ]
     },
     "execution_count": 3,
     "metadata": {},
     "output_type": "execute_result"
    }
   ],
   "source": [
    "; 動作確認\n",
    "(add-vect v1 v2)"
   ]
  },
  {
   "cell_type": "code",
   "execution_count": 4,
   "metadata": {},
   "outputs": [
    {
     "data": {
      "text/plain": [
       "(4 . -6)"
      ]
     },
     "execution_count": 4,
     "metadata": {},
     "output_type": "execute_result"
    }
   ],
   "source": [
    "; 動作確認\n",
    "(sub-vect v1 v2)"
   ]
  },
  {
   "cell_type": "code",
   "execution_count": 5,
   "metadata": {},
   "outputs": [
    {
     "data": {
      "text/plain": [
       "(-15 . 20)"
      ]
     },
     "execution_count": 5,
     "metadata": {},
     "output_type": "execute_result"
    }
   ],
   "source": [
    "; 動作確認\n",
    "(scale-vect 5 v2)"
   ]
  }
 ],
 "metadata": {
  "kernelspec": {
   "display_name": "Calysto Scheme 3",
   "language": "scheme",
   "name": "calysto_scheme"
  },
  "language_info": {
   "codemirror_mode": {
    "name": "scheme"
   },
   "mimetype": "text/x-scheme",
   "name": "scheme",
   "pygments_lexer": "scheme"
  }
 },
 "nbformat": 4,
 "nbformat_minor": 4
}
