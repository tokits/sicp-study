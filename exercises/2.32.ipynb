{
 "cells": [
  {
   "cell_type": "markdown",
   "metadata": {},
   "source": [
    "### 練習問題2.32\n",
    "集合は、それぞれ異なる要素を持つリストとして表現できる。  \n",
    "また、集合のすべての部分集合の集合は、リストのリストとして表現できる。  \n",
    "例えば、集合が(1 2 3)の場合、  \n",
    "すべての部分集合の集合は(() (3) (2) (2 3) (1) (1 3) (1 2) (1 2 3))となる。  \n",
    "以下に、集合のすべての部分集合の集合を⽣成する⼿続きを⽰す。  \n",
    "これを完成させ、なぜそれが動作するのかを明確に説明せよ。  \n",
    "\n",
    "    (define (subsets s)\n",
    "      (if (null? s) (list nil)\n",
    "          (let ((rest (subsets (cdr s))))\n",
    "            (append rest (map ⟨??⟩ rest)))\n",
    "        )\n",
    "      )"
   ]
  },
  {
   "cell_type": "code",
   "execution_count": 1,
   "metadata": {},
   "outputs": [
    {
     "data": {
      "text/plain": [
       "(() (3) (2) (2 3) (1) (1 3) (1 2) (1 2 3))"
      ]
     },
     "execution_count": 1,
     "metadata": {},
     "output_type": "execute_result"
    }
   ],
   "source": [
    ";(define (map proc items)\n",
    ";  (if (null? items) '()\n",
    ";      (cons (proc (car items)) (map proc (cdr items)))\n",
    ";    )\n",
    ";  )\n",
    "; -> map手続きは定義済み\n",
    "\n",
    "(define (subsets s)\n",
    "  (if (null? s) (list '())\n",
    "      (let ((rest (subsets (cdr s))))\n",
    "        (append rest (map\n",
    "                      (lambda (x)\n",
    "                        (if (null? x) (list (car s))\n",
    "                            (append (list (car s)) x)\n",
    "                        )\n",
    "                        )\n",
    "                      rest)))\n",
    "    )\n",
    "  )\n",
    "\n",
    "(subsets (list 1 2 3))"
   ]
  },
  {
   "cell_type": "markdown",
   "metadata": {},
   "source": [
    "なぜこの実装でよいのかの説明については保留。"
   ]
  },
  {
   "cell_type": "code",
   "execution_count": 2,
   "metadata": {},
   "outputs": [
    {
     "data": {
      "text/plain": [
       "(() (1) (2) (1 2) (3) (1 3) (2 3) (1 2 3) (4) (1 4) (2 4) (1 2 4) (3 4) (1 3 4) (2 3 4) (1 2 3 4))"
      ]
     },
     "execution_count": 2,
     "metadata": {},
     "output_type": "execute_result"
    }
   ],
   "source": [
    "; 別な実装方法\n",
    "; ビットで考えて部分集合を列挙する。\n",
    "\n",
    "(import \"math\")\n",
    "\n",
    "; べき乗の計算。\n",
    "(define (expt b n)\n",
    "  (if (= n 0) 1\n",
    "      (* b (expt b (- n 1)))\n",
    "    )\n",
    "  )\n",
    "\n",
    "; リストから指定インデックス(0オリジン)の要素を返す。\n",
    "(define (at l index)\n",
    "  (define (iter ll i)\n",
    "    (if (= i index) (car ll)\n",
    "        (iter (cdr ll) (+ i 1)))\n",
    "    )\n",
    "  (iter l 0)\n",
    "  )\n",
    "\n",
    "; 数値numのeビット目が経っているかどうか。\n",
    "; num & (1 << e)\n",
    "(define (bit? num e)\n",
    "  (let ((tmp (expt 2 e)))\n",
    "    (let ((div (math.floor (/ num tmp))))\n",
    "      (= (% div 2) 1)\n",
    "      )\n",
    "    )\n",
    "  )\n",
    ";(at (list 1 2 3) 2)\n",
    ";(bit? 5 0)\n",
    "\n",
    "; 部分集合列挙\n",
    "; accumulateなどを使えばスマートに記述できるかもしれないが、\n",
    "; ベタに実装してみた。\n",
    "(define (subsets s)\n",
    "  (let ((len (length s)))\n",
    "    (let ((bit_limit (expt 2 len)))\n",
    "      (define (iter1 i)\n",
    "        (if (>= i bit_limit) (list)\n",
    "            (append (list (iter2 i 0)) (iter1 (+ i 1)))    \n",
    "        )\n",
    "        )\n",
    "      (define (iter2 i j)\n",
    "        (if (= i 0) (list)\n",
    "            (if (>= j len) (list)\n",
    "                (if (bit? i j) (append (list (at s j)) (iter2 i (+ j 1)))\n",
    "                    (iter2 i (+ j 1))\n",
    "                )\n",
    "             )\n",
    "        )\n",
    "      )\n",
    "      (iter1 0)\n",
    "    )\n",
    "  )\n",
    "  )\n",
    "\n",
    "(subsets (list 1 2 3 4))"
   ]
  }
 ],
 "metadata": {
  "kernelspec": {
   "display_name": "Calysto Scheme 3",
   "language": "scheme",
   "name": "calysto_scheme"
  },
  "language_info": {
   "codemirror_mode": {
    "name": "scheme"
   },
   "mimetype": "text/x-scheme",
   "name": "scheme",
   "pygments_lexer": "scheme"
  }
 },
 "nbformat": 4,
 "nbformat_minor": 4
}
