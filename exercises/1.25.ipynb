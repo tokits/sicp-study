{
 "cells": [
  {
   "cell_type": "markdown",
   "metadata": {},
   "source": [
    "### 練習問題1.25\n",
    "Alyssa P. Hacker は、expmod を書くのにだいぶ余\n",
    "計な⼿間がかかったと愚痴をこぼした。どうせ指数の計算のやり\n",
    "⽅はわかっているんだから、単純にこんなふうに書いたらよかっ\n",
    "たんじゃないの、と。\n",
    "\n",
    "    (define (expmod base exp m)\n",
    "      (remainder (fast-expt base exp) m))\n",
    "\n",
    "彼⼥は正しいだろうか。⾼速素数判定にこの⼿続きを使っても同\n",
    "じようにうまく⾏くだろうか。"
   ]
  },
  {
   "cell_type": "markdown",
   "metadata": {},
   "source": [
    "動作イメージ  \n",
    "(remainder手続きをmod()で表記)  \n",
    "例:base=3 exp=5 m=5(n=5,a=3としてnが素数であるかのテスト)\n",
    "\n",
    "$mod(3,5)=3$  \n",
    "$mod(3^5,5)=mod(243,5)=3$  \n",
    "$expmod(3,5,5)$  \n",
    "$=mod(fastexpt(3,5),5)$  \n",
    "$=mod(3\\cdot fastexpt(3,4),5)$  \n",
    "$=mod(3\\cdot fastexpt(3,2)^2,5)$  \n",
    "$=mod(3\\cdot (fastexpt(3,1)^2)^2,5)$  \n",
    "$=mod(3\\cdot (3\\cdot fastexpt(3,0)^2)^2,5)$  \n",
    "$=mod(3\\cdot (3\\cdot 1)^2)^2,5)$  \n",
    "$=mod(3\\cdot (3^2)^2,5)$  \n",
    "$=mod(3\\cdot 9^2,5)$  \n",
    "$=mod(3\\cdot 81,5)$  \n",
    "$=mod(243,5)$  \n",
    "$=3$  \n",
    "\n",
    "正しく動作する。  \n",
    "だが、素数かどうかをテストする数が大きい場合、\n",
    "$a^n$の指数が大きくなってしまい、巨大な数を計算することになり、\n",
    "ステップ数が膨大になる。"
   ]
  },
  {
   "cell_type": "code",
   "execution_count": 2,
   "metadata": {},
   "outputs": [],
   "source": [
    "(define (fast-expt b n)\n",
    "  (cond ((= n 0) 1)\n",
    "        ((even? n)(square (fast-expt b (/ n 2))))\n",
    "        (else (* b (fast-expt b (- n 1))))\n",
    "    )\n",
    "  )\n",
    "; 偶数かどうか判定\n",
    "(define (even? n)\n",
    "  (= (remainder n 2) 0)\n",
    "  )\n",
    "(define (square x) (* x x))\n",
    "\n",
    "(define (expmod base exp m)\n",
    "  (remainder (fast-expt base exp) m))"
   ]
  },
  {
   "cell_type": "code",
   "execution_count": 3,
   "metadata": {},
   "outputs": [],
   "source": [
    "(define (fermat-test n)\n",
    "  (define (try-it a)\n",
    "    (= (expmod a n n) a))\n",
    "  (try-it (+ 1 (random (- n 1))))\n",
    "  )\n",
    "(define (fast-prime? n times)\n",
    "  (cond ((= times 0) True)\n",
    "        ((fermat-test n) (fast-prime? n (- times 1)))\n",
    "        (else False)\n",
    "         )\n",
    "  )"
   ]
  },
  {
   "cell_type": "code",
   "execution_count": 4,
   "metadata": {},
   "outputs": [
    {
     "name": "stdout",
     "output_type": "stream",
     "text": [
      "True"
     ]
    }
   ],
   "source": [
    "(display (fast-prime? 1039 10))"
   ]
  },
  {
   "cell_type": "code",
   "execution_count": 5,
   "metadata": {},
   "outputs": [],
   "source": [
    "(define (odd? n)(= (remainder n 2) 1))\n",
    "(define (search-for-primes n m)\n",
    "  ;(display n)\n",
    "  (if (<= n m)\n",
    "      (if (odd? n)\n",
    "          (if (fast-prime? n 10)\n",
    "              (begin\n",
    "               (display n)\n",
    "               (display \" *** \")\n",
    "               (newline)\n",
    "              (search-for-primes (+ n 2) m)\n",
    "              )\n",
    "              (search-for-primes (+ n 2) m)\n",
    "            )\n",
    "      (search-for-primes (+ n 1) m)\n",
    "      )\n",
    "        ()\n",
    "      )\n",
    "  )"
   ]
  },
  {
   "cell_type": "code",
   "execution_count": 6,
   "metadata": {},
   "outputs": [
    {
     "name": "stdout",
     "output_type": "stream",
     "text": [
      "3 *** \n",
      "5 *** \n",
      "7 *** \n",
      "11 *** \n",
      "13 *** \n",
      "17 *** \n",
      "19 *** \n",
      "23 *** \n",
      "29 *** \n"
     ]
    },
    {
     "data": {
      "text/plain": [
       "()"
      ]
     },
     "execution_count": 6,
     "metadata": {},
     "output_type": "execute_result"
    }
   ],
   "source": [
    "(search-for-primes 2 30)"
   ]
  },
  {
   "cell_type": "code",
   "execution_count": 7,
   "metadata": {},
   "outputs": [
    {
     "name": "stdout",
     "output_type": "stream",
     "text": [
      "1009 *** \n",
      "1013 *** \n",
      "1019 *** \n",
      "Time: 0.6416311264038086 seconds.\n",
      "\n"
     ]
    },
    {
     "data": {
      "text/plain": [
       "()"
      ]
     },
     "execution_count": 7,
     "metadata": {},
     "output_type": "execute_result"
    }
   ],
   "source": [
    "%%time\n",
    "(search-for-primes 1009 1009)\n",
    "(search-for-primes 1013 1013)\n",
    "(search-for-primes 1019 1019)"
   ]
  },
  {
   "cell_type": "code",
   "execution_count": 8,
   "metadata": {},
   "outputs": [
    {
     "name": "stdout",
     "output_type": "stream",
     "text": [
      "10007 *** \n",
      "10009 *** \n",
      "10037 *** \n",
      "Time: 0.7705564498901367 seconds.\n",
      "\n"
     ]
    },
    {
     "data": {
      "text/plain": [
       "()"
      ]
     },
     "execution_count": 8,
     "metadata": {},
     "output_type": "execute_result"
    }
   ],
   "source": [
    "%%time\n",
    "(search-for-primes 10007 10007)\n",
    "(search-for-primes 10009 10009)\n",
    "(search-for-primes 10037 10037)"
   ]
  },
  {
   "cell_type": "code",
   "execution_count": 9,
   "metadata": {},
   "outputs": [
    {
     "name": "stdout",
     "output_type": "stream",
     "text": [
      "100003 *** \n",
      "100019 *** \n",
      "100043 *** \n",
      "Time: 5.349922180175781 seconds.\n",
      "\n"
     ]
    },
    {
     "data": {
      "text/plain": [
       "()"
      ]
     },
     "execution_count": 9,
     "metadata": {},
     "output_type": "execute_result"
    }
   ],
   "source": [
    "%%time\n",
    "(search-for-primes 100003 100003)\n",
    "(search-for-primes 100019 100019)\n",
    "(search-for-primes 100043 100043)"
   ]
  },
  {
   "cell_type": "code",
   "execution_count": 10,
   "metadata": {},
   "outputs": [
    {
     "name": "stdout",
     "output_type": "stream",
     "text": [
      "1000003 *** \n",
      "1000033 *** \n",
      "1000037 *** \n",
      "Time: 261.2980422973633 seconds.\n",
      "\n"
     ]
    },
    {
     "data": {
      "text/plain": [
       "()"
      ]
     },
     "execution_count": 10,
     "metadata": {},
     "output_type": "execute_result"
    }
   ],
   "source": [
    "%%time\n",
    "(search-for-primes 1000003 1000003)\n",
    "(search-for-primes 1000033 1000033)\n",
    "(search-for-primes 1000037 1000037)"
   ]
  }
 ],
 "metadata": {
  "kernelspec": {
   "display_name": "Calysto Scheme 3",
   "language": "scheme",
   "name": "calysto_scheme"
  },
  "language_info": {
   "codemirror_mode": {
    "name": "scheme"
   },
   "mimetype": "text/x-scheme",
   "name": "scheme",
   "pygments_lexer": "scheme"
  }
 },
 "nbformat": 4,
 "nbformat_minor": 4
}
