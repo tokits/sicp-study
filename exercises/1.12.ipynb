{
 "cells": [
  {
   "cell_type": "markdown",
   "metadata": {},
   "source": [
    "### 練習問題1.12\n",
    "以下の数値のパターンはパスカルの三⾓形(Pascal’s triangle)と呼ばれる。  \n",
    "\n",
    "        1   \n",
    "       1 1  \n",
    "      1 2 1  \n",
    "     1 3 3 1  \n",
    "    1 4 6 4 1  \n",
    "    ・・・  \n",
    "三⾓形の辺の数値はすべて1で、三⾓形内部の数値は、   \n",
    "それぞれ その上にある2つの数値の合計となっている。  \n",
    "パスカルの三⾓形の**要素**を再帰プロセスによって求める⼿続きを書け。"
   ]
  },
  {
   "cell_type": "markdown",
   "metadata": {},
   "source": [
    "回答は以下のブログを参考にした。  \n",
    "http://sicp-zemi.hatenablog.jp/entry/2016/02/24/143126\n",
    "\n",
    "ここでの回答は、  \n",
    "上からの段数と左からの位置により、その位置の要素を求められればよいと考えられる。"
   ]
  },
  {
   "cell_type": "code",
   "execution_count": 1,
   "metadata": {},
   "outputs": [],
   "source": [
    "(define (pascal y x)\n",
    "  (cond ((< y x) 0)\n",
    "        ((= x 1) 1)\n",
    "        ((= y x) 1)\n",
    "        (else (+ (pascal (- y 1) (- x 1)) (pascal (- y 1) x)))))"
   ]
  },
  {
   "cell_type": "code",
   "execution_count": 2,
   "metadata": {},
   "outputs": [
    {
     "name": "stdout",
     "output_type": "stream",
     "text": [
      "1\n",
      "1 1\n",
      "1 2 1\n",
      "1 3 3 1\n"
     ]
    }
   ],
   "source": [
    ";動作確認\n",
    "(display (pascal 1 1))\n",
    "(newline)\n",
    "(display (pascal 2 1))\n",
    "(display \" \")\n",
    "(display (pascal 2 2))\n",
    "(newline)\n",
    "(display (pascal 3 1))\n",
    "(display \" \")\n",
    "(display (pascal 3 2))\n",
    "(display \" \")\n",
    "(display (pascal 3 3))\n",
    "(newline)\n",
    "(display (pascal 4 1))\n",
    "(display \" \")\n",
    "(display (pascal 4 2))\n",
    "(display \" \")\n",
    "(display (pascal 4 3))\n",
    "(display \" \")\n",
    "(display (pascal 4 4))\n",
    "(newline)"
   ]
  },
  {
   "cell_type": "code",
   "execution_count": 3,
   "metadata": {},
   "outputs": [],
   "source": [
    ";pascal手続きを2重の反復で呼び出してみた\n",
    "(define (pascal-print depth)\n",
    "  (define (iter2 len counter)\n",
    "    (cond ((= counter (+ len 1))(begin (newline)()))\n",
    "          (else (begin\n",
    "                 (display (pascal len counter))\n",
    "                 (display \" \")\n",
    "                 (iter2 len (+ counter 1))\n",
    "            )\n",
    "         )\n",
    "    )\n",
    "  )\n",
    "  (define (iter1 depth counter)\n",
    "    (cond ((= counter (+ depth 1)) ())\n",
    "        (else (iter2 counter 1)\n",
    "              (iter1 depth (+ counter 1))\n",
    "        )\n",
    "    )\n",
    "  )\n",
    "  (iter1 depth 1)\n",
    "  )"
   ]
  },
  {
   "cell_type": "code",
   "execution_count": 4,
   "metadata": {
    "scrolled": true
   },
   "outputs": [
    {
     "name": "stdout",
     "output_type": "stream",
     "text": [
      "1 \n",
      "1 1 \n",
      "1 2 1 \n",
      "1 3 3 1 \n",
      "1 4 6 4 1 \n",
      "1 5 10 10 5 1 \n",
      "1 6 15 20 15 6 1 \n",
      "1 7 21 35 35 21 7 1 \n",
      "1 8 28 56 70 56 28 8 1 \n",
      "1 9 36 84 126 126 84 36 9 1 \n"
     ]
    },
    {
     "data": {
      "text/plain": [
       "()"
      ]
     },
     "execution_count": 4,
     "metadata": {},
     "output_type": "execute_result"
    }
   ],
   "source": [
    "(pascal-print 10)"
   ]
  },
  {
   "cell_type": "code",
   "execution_count": 5,
   "metadata": {},
   "outputs": [],
   "source": [
    "; 別解\n",
    "; リストを使ってパスカルの三角形を表示する。\n",
    "(define (pascal-print2 depth)\n",
    "  (define (iter2 x x-max pre-list)\n",
    "    (cond ((>= x x-max) '(1))\n",
    "          ((= x 1) (append '(1) (iter2 (+ x 1) x-max pre-list)))\n",
    "          (else (append (list (+ (car pre-list) (cadr pre-list))) (iter2 (+ x 1) x-max (cdr pre-list))))\n",
    "        )\n",
    "    )\n",
    "  (define (iter1 y l)\n",
    "    (if (> y depth) '()\n",
    "        (begin\n",
    "         (let ((ll (iter2 1 y l)))\n",
    "           (display ll)\n",
    "           (newline)\n",
    "           (iter1 (+ y 1) ll)\n",
    "           )\n",
    "         )\n",
    "     )\n",
    "    )\n",
    "  (iter1 1 '())\n",
    "  )"
   ]
  },
  {
   "cell_type": "code",
   "execution_count": 6,
   "metadata": {},
   "outputs": [
    {
     "name": "stdout",
     "output_type": "stream",
     "text": [
      "(1)\n",
      "(1 1)\n",
      "(1 2 1)\n",
      "(1 3 3 1)\n",
      "(1 4 6 4 1)\n",
      "(1 5 10 10 5 1)\n",
      "(1 6 15 20 15 6 1)\n",
      "(1 7 21 35 35 21 7 1)\n",
      "(1 8 28 56 70 56 28 8 1)\n",
      "(1 9 36 84 126 126 84 36 9 1)\n",
      "(1 10 45 120 210 252 210 120 45 10 1)\n",
      "(1 11 55 165 330 462 462 330 165 55 11 1)\n",
      "(1 12 66 220 495 792 924 792 495 220 66 12 1)\n",
      "(1 13 78 286 715 1287 1716 1716 1287 715 286 78 13 1)\n",
      "(1 14 91 364 1001 2002 3003 3432 3003 2002 1001 364 91 14 1)\n"
     ]
    },
    {
     "data": {
      "text/plain": [
       "()"
      ]
     },
     "execution_count": 6,
     "metadata": {},
     "output_type": "execute_result"
    }
   ],
   "source": [
    "(pascal-print2 15)"
   ]
  }
 ],
 "metadata": {
  "kernelspec": {
   "display_name": "Calysto Scheme 3",
   "language": "scheme",
   "name": "calysto_scheme"
  },
  "language_info": {
   "codemirror_mode": {
    "name": "scheme"
   },
   "mimetype": "text/x-scheme",
   "name": "scheme",
   "pygments_lexer": "scheme"
  }
 },
 "nbformat": 4,
 "nbformat_minor": 4
}
