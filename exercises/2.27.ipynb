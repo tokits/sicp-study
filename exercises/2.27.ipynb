{
 "cells": [
  {
   "cell_type": "markdown",
   "metadata": {},
   "source": [
    "### 練習問題2.27\n",
    "練習問題2.18のreverse⼿続きを修正し、deep-reverseという⼿続きを書け。  \n",
    "deep-reverseは、ひとつのリストを引数として取り、  \n",
    "要素が逆順で、サブリストもすべて要素が逆順になっているリストを返す⼿続きである。  \n",
    "例えば、次のようになる。  \n",
    "\n",
    "    (define x (list (list 1 2) (list 3 4)))\n",
    "    x\n",
    "    ((1 2) (3 4))\n",
    "    (reverse x)\n",
    "    ((3 4) (1 2))\n",
    "    (deep-reverse x)\n",
    "    ((4 3) (2 1))"
   ]
  },
  {
   "cell_type": "markdown",
   "metadata": {},
   "source": [
    "#### 所感  \n",
    "反復プロセスで解こうとして出来なかった。  \n",
    "引数で処理結果(最終的な出力するリスト)を渡しても、  \n",
    "分岐して再帰手続きの呼び出しになるので、実装が難しいと思われる。  "
   ]
  },
  {
   "cell_type": "code",
   "execution_count": 1,
   "metadata": {},
   "outputs": [
    {
     "data": {
      "text/plain": [
       "(34 149 72 23)"
      ]
     },
     "execution_count": 1,
     "metadata": {},
     "output_type": "execute_result"
    }
   ],
   "source": [
    "; 反復プロセス版\n",
    "(define (reverse l)\n",
    "  (define (iter result ll)\n",
    "    (if (null? ll) result\n",
    "        (iter (cons (car ll) result) (cdr ll))\n",
    "        )\n",
    "    )\n",
    "  (iter () l)\n",
    "  )\n",
    "\n",
    "(reverse (list 23 72 149 34))\n",
    "\n",
    "; (23 (72 (149 (34 nil))))を作るイメージ\n",
    "; -> これでdeep-reverse手続きを作ることは出来なかった。\n",
    ";    引数で処理結果を渡しつつ、更新していくことが難しく思えた。"
   ]
  },
  {
   "cell_type": "code",
   "execution_count": 2,
   "metadata": {},
   "outputs": [
    {
     "name": "stdout",
     "output_type": "stream",
     "text": [
      "34\n",
      "(23 72 149)\n"
     ]
    },
    {
     "data": {
      "text/plain": [
       "(34 149 72 23)"
      ]
     },
     "execution_count": 2,
     "metadata": {},
     "output_type": "execute_result"
    }
   ],
   "source": [
    "; 再帰プロセスでの実装\n",
    "; →やってみたが、メモリ的にもステップ数的にも無駄な実装となっている。\n",
    "\n",
    "; リストから最後の要素を取得する。\n",
    "(define (get-last l)\n",
    "  (define (iter item l_tmp)\n",
    "    (if (null? l_tmp) item\n",
    "        (iter (car l_tmp) (cdr l_tmp)))\n",
    "    )\n",
    "  (iter () l)\n",
    "  )\n",
    "\n",
    "(display (get-last (list 23 72 149 34)))\n",
    "(newline)\n",
    "\n",
    "; リストから最後の要素を除外したリストを返す。\n",
    "(define (remove-last l)\n",
    "  (define (iter l1 l2)\n",
    "    (if (null? l2) '()\n",
    "        (cons (car l1) (iter (cdr l1) (cdr l2)))\n",
    "        )\n",
    "    )\n",
    "  (iter l (cdr l))\n",
    "  )\n",
    "\n",
    "(display (remove-last (list 23 72 149 34)))\n",
    "(newline)\n",
    "\n",
    "(define (reverse l)\n",
    "  (define (iter ll)\n",
    "    (if (null? ll) '()\n",
    "        (cons (get-last ll) (iter (remove-last ll)))\n",
    "        )\n",
    "    )\n",
    "  (iter l)\n",
    "  )\n",
    "\n",
    "(reverse (list 23 72 149 34))"
   ]
  },
  {
   "cell_type": "code",
   "execution_count": 3,
   "metadata": {},
   "outputs": [],
   "source": [
    "; 再帰プロセス版\n",
    "(define (deep-reverse l)\n",
    "  (define (iter ll)\n",
    "    (cond ;((null? ll) ())        ; 葉がnilの場合 この条件はいらないらしい。葉を返すに含まれる？\n",
    "          ((not (pair? ll)) ll)  ; 葉を返す\n",
    "          (else (cons (iter (get-last ll)) (iter (remove-last ll))))\n",
    "        )\n",
    "    )\n",
    "  (iter l)\n",
    "  )"
   ]
  },
  {
   "cell_type": "code",
   "execution_count": 4,
   "metadata": {},
   "outputs": [
    {
     "data": {
      "text/plain": [
       "((1 2) (3 4))"
      ]
     },
     "execution_count": 4,
     "metadata": {},
     "output_type": "execute_result"
    }
   ],
   "source": [
    "(define x (list (list 1 2) (list 3 4)))\n",
    "x"
   ]
  },
  {
   "cell_type": "code",
   "execution_count": 5,
   "metadata": {},
   "outputs": [
    {
     "data": {
      "text/plain": [
       "((3 4) (1 2))"
      ]
     },
     "execution_count": 5,
     "metadata": {},
     "output_type": "execute_result"
    }
   ],
   "source": [
    "(reverse x)"
   ]
  },
  {
   "cell_type": "code",
   "execution_count": 6,
   "metadata": {},
   "outputs": [
    {
     "data": {
      "text/plain": [
       "((4 3) (2 1))"
      ]
     },
     "execution_count": 6,
     "metadata": {},
     "output_type": "execute_result"
    }
   ],
   "source": [
    "(deep-reverse x)"
   ]
  },
  {
   "cell_type": "code",
   "execution_count": 7,
   "metadata": {},
   "outputs": [
    {
     "data": {
      "text/plain": [
       "((((1 2) (3 4)) (5 6)) ((7 8) (9 10)) (11 12))"
      ]
     },
     "execution_count": 7,
     "metadata": {},
     "output_type": "execute_result"
    }
   ],
   "source": [
    "(define y (list (list (list (list 1 2) (list 3 4)) (list 5 6)) (list (list 7 8) (list 9 10)) (list 11 12)))\n",
    "y"
   ]
  },
  {
   "cell_type": "code",
   "execution_count": 8,
   "metadata": {},
   "outputs": [
    {
     "data": {
      "text/plain": [
       "((11 12) ((7 8) (9 10)) (((1 2) (3 4)) (5 6)))"
      ]
     },
     "execution_count": 8,
     "metadata": {},
     "output_type": "execute_result"
    }
   ],
   "source": [
    "(reverse y)"
   ]
  },
  {
   "cell_type": "code",
   "execution_count": 9,
   "metadata": {},
   "outputs": [
    {
     "data": {
      "text/plain": [
       "((12 11) ((10 9) (8 7)) ((6 5) ((4 3) (2 1))))"
      ]
     },
     "execution_count": 9,
     "metadata": {},
     "output_type": "execute_result"
    }
   ],
   "source": [
    "(deep-reverse y)"
   ]
  },
  {
   "cell_type": "code",
   "execution_count": 10,
   "metadata": {},
   "outputs": [
    {
     "data": {
      "text/plain": [
       "((1 2) (3 4) (5 6))"
      ]
     },
     "execution_count": 10,
     "metadata": {},
     "output_type": "execute_result"
    }
   ],
   "source": [
    "(define z (list (list 1 2) (list 3 4) (list 5 6)))\n",
    "z"
   ]
  },
  {
   "cell_type": "code",
   "execution_count": 11,
   "metadata": {},
   "outputs": [
    {
     "data": {
      "text/plain": [
       "((5 6) (3 4) (1 2))"
      ]
     },
     "execution_count": 11,
     "metadata": {},
     "output_type": "execute_result"
    }
   ],
   "source": [
    "(reverse z)"
   ]
  },
  {
   "cell_type": "code",
   "execution_count": 12,
   "metadata": {},
   "outputs": [
    {
     "data": {
      "text/plain": [
       "((6 5) (4 3) (2 1))"
      ]
     },
     "execution_count": 12,
     "metadata": {},
     "output_type": "execute_result"
    }
   ],
   "source": [
    "(deep-reverse z)"
   ]
  }
 ],
 "metadata": {
  "kernelspec": {
   "display_name": "Calysto Scheme 3",
   "language": "scheme",
   "name": "calysto_scheme"
  },
  "language_info": {
   "codemirror_mode": {
    "name": "scheme"
   },
   "mimetype": "text/x-scheme",
   "name": "scheme",
   "pygments_lexer": "scheme"
  }
 },
 "nbformat": 4,
 "nbformat_minor": 4
}
