{
 "cells": [
  {
   "cell_type": "markdown",
   "metadata": {},
   "source": [
    "### 練習問題2.61\n",
    "順序つき表現を使ったadjoin-setを実装せよ。  \n",
    "element-of-set?から類推して、順序つきであることの利点を⽣かして、  \n",
    "順序なしの表現に⽐べて平均的に半分のステップを必要とする⼿続きを作るやり⽅を⽰せ。 "
   ]
  },
  {
   "cell_type": "code",
   "execution_count": 1,
   "metadata": {},
   "outputs": [],
   "source": [
    "(define (element-of-set? x set)\n",
    "  (cond ((null? set) #f)\n",
    "        ((= x (car set)) #t)\n",
    "        ((< x (car set)) #f)\n",
    "        (else (element-of-set? x (cdr set))))\n",
    "  )\n",
    "\n",
    "(define (intersection-set set1 set2)\n",
    "  (if (or (null? set1) (null? set2)) '()\n",
    "      (let ((x1 (car set1))\n",
    "            (x2 (car set2)))\n",
    "        (cond ((= x1 x2) (cons x1 (intersection-set (cdr set1) (cdr set2))))\n",
    "              ((< x1 x2) (intersection-set (cdr set1) set2))\n",
    "              ((< x2 x1) (intersection-set set1 (cdr set2)))\n",
    "              )\n",
    "        )\n",
    "      )\n",
    "  )"
   ]
  },
  {
   "cell_type": "code",
   "execution_count": 2,
   "metadata": {},
   "outputs": [],
   "source": [
    "; 回答\n",
    "(define (adjoin-set x set)\n",
    "  (cond ((null? set) (cons x set))\n",
    "        ((= x (car set)) set)\n",
    "        ((< x (car set)) (cons x set))\n",
    "        (else (cons (car set) (adjoin-set x (cdr set))))\n",
    "    )\n",
    "  )"
   ]
  },
  {
   "cell_type": "code",
   "execution_count": 3,
   "metadata": {},
   "outputs": [
    {
     "data": {
      "text/plain": [
       "(1 2 3 4)"
      ]
     },
     "execution_count": 3,
     "metadata": {},
     "output_type": "execute_result"
    }
   ],
   "source": [
    "(adjoin-set 1 '(1 2 3 4))"
   ]
  },
  {
   "cell_type": "code",
   "execution_count": 4,
   "metadata": {},
   "outputs": [
    {
     "data": {
      "text/plain": [
       "(1 2 4 6 7)"
      ]
     },
     "execution_count": 4,
     "metadata": {},
     "output_type": "execute_result"
    }
   ],
   "source": [
    "(adjoin-set 1 '(2 4 6 7))"
   ]
  },
  {
   "cell_type": "code",
   "execution_count": 5,
   "metadata": {},
   "outputs": [
    {
     "data": {
      "text/plain": [
       "(2 3 4 6 7)"
      ]
     },
     "execution_count": 5,
     "metadata": {},
     "output_type": "execute_result"
    }
   ],
   "source": [
    "(adjoin-set 3 '(2 4 6 7))"
   ]
  },
  {
   "cell_type": "code",
   "execution_count": 6,
   "metadata": {},
   "outputs": [
    {
     "data": {
      "text/plain": [
       "(2 4 5 6 7)"
      ]
     },
     "execution_count": 6,
     "metadata": {},
     "output_type": "execute_result"
    }
   ],
   "source": [
    "(adjoin-set 5 '(2 4 6 7))"
   ]
  },
  {
   "cell_type": "code",
   "execution_count": 7,
   "metadata": {},
   "outputs": [
    {
     "data": {
      "text/plain": [
       "(2 4 6 7)"
      ]
     },
     "execution_count": 7,
     "metadata": {},
     "output_type": "execute_result"
    }
   ],
   "source": [
    "(adjoin-set 7 '(2 4 6 7))"
   ]
  },
  {
   "cell_type": "code",
   "execution_count": 8,
   "metadata": {},
   "outputs": [
    {
     "data": {
      "text/plain": [
       "(2 4 6 7 8)"
      ]
     },
     "execution_count": 8,
     "metadata": {},
     "output_type": "execute_result"
    }
   ],
   "source": [
    "(adjoin-set 8 '(2 4 6 7))"
   ]
  }
 ],
 "metadata": {
  "kernelspec": {
   "display_name": "Calysto Scheme 3",
   "language": "scheme",
   "name": "calysto_scheme"
  },
  "language_info": {
   "codemirror_mode": {
    "name": "scheme"
   },
   "mimetype": "text/x-scheme",
   "name": "scheme",
   "pygments_lexer": "scheme"
  }
 },
 "nbformat": 4,
 "nbformat_minor": 4
}
