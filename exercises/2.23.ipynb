{
 "cells": [
  {
   "cell_type": "markdown",
   "metadata": {},
   "source": [
    "### 練習問題2.23\n",
    "⼿続きfor-eachはmapに似ている。  \n",
    "引数として⼿続きと要素のリストを取る。  \n",
    "しかし、結果のリストを⽣成するの ではなく、  \n",
    "for-eachは⼿続きをそれぞれの要素に左から右に順番に⼿続きを適⽤していくだけである。  \n",
    "⼿続きを要素に適⽤して返される値はまったく使わない—for-eachは、  \n",
    "表⽰のような、  \n",
    "何かのアクションを実⾏する⼿続きとともに使う。  \n",
    "例えば次の例で、  \n",
    "\n",
    "    (for-each\n",
    "      (lambda (x)(newline) (display x))\n",
    "      (list 57 321 88)\n",
    "      )\n",
    "    57\n",
    "    321\n",
    "    88\n",
    "    \n",
    "for-eachへの呼び出し(上では⽰していないが)に返される値は何でもよく、  \n",
    "例えば真の値などでもよい。for-eachを実装せよ。"
   ]
  },
  {
   "cell_type": "code",
   "execution_count": 1,
   "metadata": {},
   "outputs": [],
   "source": [
    "; まだテキストでは紹介されていない、beginを使わないと出来なさそう。\n",
    "; beginを使わない実装方法がわからなかった。\n",
    "(define (for-each proc items)\n",
    "  ;(display items)\n",
    "  (if (null? items) '()\n",
    "      (begin\n",
    "       (proc (car items))\n",
    "       (for-each proc (cdr items))\n",
    "       )\n",
    "      )\n",
    "  (iter items)\n",
    "  )"
   ]
  },
  {
   "cell_type": "code",
   "execution_count": 2,
   "metadata": {},
   "outputs": [
    {
     "name": "stdout",
     "output_type": "stream",
     "text": [
      "\n",
      "57\n",
      "321\n",
      "88"
     ]
    },
    {
     "data": {
      "text/plain": [
       "(57 321 88)"
      ]
     },
     "execution_count": 2,
     "metadata": {},
     "output_type": "execute_result"
    }
   ],
   "source": [
    "(for-each\n",
    "  (lambda (x)(newline) (display x))\n",
    "  (list 57 321 88)\n",
    "  )"
   ]
  },
  {
   "cell_type": "markdown",
   "metadata": {},
   "source": [
    "※for-eachはschemeとして標準で実装されてる模様。"
   ]
  }
 ],
 "metadata": {
  "kernelspec": {
   "display_name": "Calysto Scheme 3",
   "language": "scheme",
   "name": "calysto_scheme"
  },
  "language_info": {
   "codemirror_mode": {
    "name": "scheme"
   },
   "mimetype": "text/x-scheme",
   "name": "scheme",
   "pygments_lexer": "scheme"
  }
 },
 "nbformat": 4,
 "nbformat_minor": 4
}
