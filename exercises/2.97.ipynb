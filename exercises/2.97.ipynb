{
 "cells": [
  {
   "cell_type": "markdown",
   "metadata": {},
   "source": [
    "### 練習問題2.97\n",
    "a. このアルゴリズムを reduce-terms という⼿続きとして実装せよ。<br />\n",
    "⼿続きは n と d という⼆つの項リストを引数として取り、<br />\n",
    "上で説明したアルゴリズムによって n と d を既約にした nn と dd のリストを返す。<br />\n",
    "また、add-poly と同様の⼿続き reduce-poly を実装せよ。<br />\n",
    "これは⼆つの poly が同じ変数を持つかどうかチェックし、<br />\n",
    "もし同じであれば変数を取り去って問題を reduce-terms に渡し、<br />\n",
    "reduce-terms に返された⼆つの項リストにその変数をつけ直す。<br />\n",
    "\n",
    "b. reduce-terms と似たような⼿続きとして、<br />\n",
    "元々の make-rat が整数に対して⾏っていたことと<br />\n",
    "同じことを実⾏するものを次のように定義せよ。<br />\n",
    "\n",
    "    (define (reduce-integers n d)\n",
    "        (let ((g (gcd n d)))\n",
    "            (list (/ n g) (/ d g))))\n",
    "\n",
    "そして、reduce というジェネリック演算を定義せよ。<br />\n",
    "これは、apply-generic を呼んで、reduce-poly(polynomial 型引数に対して) <br />\n",
    "または reduce-integers(scheme-number 型引数に対して) にディスパッチする。<br />\n",
    "こうすると、make-rat が分⼦と分⺟を組み合わせて有理数を作る前に reduce を呼ぶようにすることで、<br />\n",
    "有理数算術演算パッケージが有理数を既約にするようにできる。<br />\n",
    "これで、このシステムは整数と多項式のどちらの有理式も扱えるようになった。<br />\n",
    "プログラムをテストするために、この拡張練習問題の最初に出てきた例を試してみよ。<br />\n",
    "\n",
    "    (define p1 (make-polynomial 'x '((1 1) (0 1))))\n",
    "    (define p2 (make-polynomial 'x '((3 1) (0 -1))))\n",
    "    (define p3 (make-polynomial 'x '((1 1))))\n",
    "    (define p4 (make-polynomial 'x '((2 1) (0 -1))))\n",
    "    (define rf1 (make-rational p1 p2))\n",
    "    (define rf2 (make-rational p3 p4))\n",
    "    (add rf1 rf2)\n",
    "\n",
    "正しく既約になっている正しい答えが返ってくるかどうかを\n",
    "確認せよ。"
   ]
  },
  {
   "cell_type": "code",
   "execution_count": 1,
   "metadata": {
    "jupyter": {
     "source_hidden": true
    },
    "tags": []
   },
   "outputs": [
    {
     "data": {
      "text/plain": [
       "done"
      ]
     },
     "execution_count": 1,
     "metadata": {},
     "output_type": "execute_result"
    }
   ],
   "source": [
    "(define (assoc key records)\n",
    "  (cond ((null? records) #f)\n",
    "        ((equal? key (caar records)) (car records))\n",
    "        (else (assoc key (cdr records)))\n",
    "        )\n",
    "  )\n",
    "\n",
    "(define (lookup key-1 key-2 table)\n",
    "  (let ((subtable (assoc key-1 (cdr table))))\n",
    "    (if subtable\n",
    "        (let ((record (assoc key-2 (cdr subtable))))\n",
    "          (if record (cdr record)\n",
    "              #f\n",
    "              )\n",
    "          )\n",
    "        #f\n",
    "        )\n",
    "    )\n",
    "  )\n",
    "\n",
    "(define (insert! key-1 key-2 value table)\n",
    "  (let ((subtable (assoc key-1 (cdr table))))\n",
    "    (if subtable\n",
    "        (let ((record (assoc key-2 (cdr subtable))))\n",
    "          (if record (set-cdr! record value)\n",
    "              (set-cdr! subtable (cons (cons key-2 value) (cdr subtable)))\n",
    "              )\n",
    "          )\n",
    "        (set-cdr! table (cons (list key-1 (cons key-2 value)) (cdr table)))\n",
    "        )\n",
    "    )\n",
    "  'ok)\n",
    "\n",
    "(define (make-table)\n",
    "  (let ((local-table (list '*table*)))\n",
    "    (define (lookup key-1 key-2)\n",
    "      (let ((subtable (assoc key-1 (cdr local-table))))\n",
    "        (if subtable\n",
    "            (let ((record (assoc key-2 (cdr subtable))))\n",
    "              (if record (cdr record) #f))\n",
    "            #f)\n",
    "        )\n",
    "      )\n",
    "    (define (insert! key-1 key-2 value)\n",
    "      (let ((subtable (assoc key-1 (cdr local-table))))\n",
    "        (if subtable\n",
    "            (let ((record (assoc key-2 (cdr subtable))))\n",
    "              (if record (set-cdr! record value)\n",
    "                  (set-cdr! subtable (cons (cons key-2 value) (cdr subtable)))\n",
    "                  )\n",
    "              )\n",
    "            (set-cdr! local-table (cons (list key-1 (cons key-2 value)) (cdr local-table )))\n",
    "            )\n",
    "        )\n",
    "      'ok)\n",
    "    (define (dispatch m)\n",
    "      (cond ((eq? m 'lookup-proc) lookup)\n",
    "            ((eq? m 'insert-proc!) insert!)\n",
    "            (else (error \"Unknown operation: TABLE\" m)))\n",
    "      )\n",
    "    dispatch)\n",
    "  )\n",
    "\n",
    "(define operation-table (make-table))\n",
    "(define get (operation-table 'lookup-proc))\n",
    "(define put (operation-table 'insert-proc!))\n",
    "(define get-coercion get)\n",
    "(define put-coercion put)\n",
    "\n",
    "; タグつきデータのコンストラクタ　練習問題2.78にあるsheme-numberは数値そのものとする\n",
    "(define (attach-tag type-tag contents)\n",
    "  (if (number? contents)\n",
    "      contents\n",
    "      (cons type-tag contents)))\n",
    "\n",
    "; タグを返すセレクタ　練習問題2.78にあるsheme-numberは数値そのものとする\n",
    "(define (type-tag datum)\n",
    "  (cond ((number? datum) 'scheme-number)\n",
    "        ((pair? datum) (car datum))\n",
    "        (else (error \"Bad tagged datum: TYPE-TAG\" datum))))\n",
    "\n",
    "; データを返すセレクタ　練習問題2.78にあるsheme-numberは数値そのものとする\n",
    "(define (contents datum)\n",
    "  (cond ((number? datum) datum)\n",
    "        ((pair? datum) (cdr datum))\n",
    "        (else (error \"Bad tagged datum: CONTENTS\" datum))))\n",
    "\n",
    ";\n",
    "(define (apply-generic op . args)\n",
    "  (let ((type-tags (map type-tag args)))\n",
    "    (let ((proc (get op type-tags)))\n",
    "      (if proc\n",
    "          (apply proc (map contents args))\n",
    "          (if (= (length args) 2)\n",
    "              (let ((type1 (car type-tags))\n",
    "                    (type2 (cadr type-tags))\n",
    "                    (a1 (car args))\n",
    "                    (a2 (cadr args)))\n",
    "                (if (not (eq? type1 type2))\n",
    "                    (let ((t1->t2 (get-coercion type1 type2))\n",
    "                          (t2->t1 (get-coercion type2 type1)))\n",
    "                      (cond (t1->t2\n",
    "                             ;(apply-generic op (t1->t2 a1) a2))\n",
    "                             (apply-generic op (t1->t2 a1 a2) a2))\n",
    "                            (t2->t1\n",
    "                             ;(apply-generic op a1 (t2->t1 a2)))\n",
    "                             (apply-generic op a1 (t2->t1 a2 a1)))\n",
    "                            (else (error \"No method for these types\" (list op type-tags)))\n",
    "                            )\n",
    "                      )\n",
    "                    (error \"Same types\" (list op type-tags))\n",
    "                    )\n",
    "                )\n",
    "              (error \"No method for these types\" (list op type-tags)))))\n",
    "      )\n",
    "    )\n",
    "\n",
    "; ジェネリック算術演算手続き\n",
    "(define (add x y) (apply-generic 'add x y))\n",
    "(define (sub x y) (apply-generic 'sub x y))\n",
    "(define (mul x y) (apply-generic 'mul x y))\n",
    "(define (div x y) (apply-generic 'div x y))\n",
    "(define (=zero? x) (apply-generic '=zero? x))    ;追加手続き\n",
    "(define (reverse-sign x) (apply-generic 'reverse-sign x))    ;追加手続き\n",
    "(define (power x y) (apply-generic 'power x y))    ;べき数\n",
    "(define (greatest-common-divisor x y) (apply-generic 'greatest-common-divisor x y))    ;追加手続き\n",
    "(define (reduce x y) (apply-generic 'reduce x y))    ;追加手続き\n",
    "\n",
    "; scheme-number\n",
    "(define (install-scheme-number-package)\n",
    "  (define (tag x) (attach-tag 'scheme-number x))\n",
    "  (define (power-schme-number x y)\n",
    "    (if (= y 0) 1\n",
    "        (* x (power-schme-number x (- y 1)))\n",
    "        )\n",
    "    )\n",
    "  (define (gcd a b)\n",
    "    (if (= b 0) a\n",
    "        (gcd b (remainder a b)))\n",
    "    )\n",
    "  (define (reduce-integers n d)\n",
    "    (let ((g (gcd n d)))\n",
    "      (list (/ n g) (/ d g))))  \n",
    "  (put 'add '(scheme-number scheme-number) (lambda (x y) (tag (+ x y))))\n",
    "  (put 'sub '(scheme-number scheme-number) (lambda (x y) (tag (- x y))))\n",
    "  (put 'mul '(scheme-number scheme-number) (lambda (x y) (tag (* x y))))\n",
    "  (put 'div '(scheme-number scheme-number) (lambda (x y) (tag (/ x y))))\n",
    "  (put '=zero? '(scheme-number) (lambda (x) (= x 0)))    ;追加手続き\n",
    "  (put 'reverse-sign '(scheme-number) (lambda (x) (* x -1)))    ;追加手続き\n",
    "  (put 'power '(scheme-number scheme-number) (lambda (x y) (power-schme-number x y)))    ;べき数\n",
    "  (put 'greatest-common-divisor '(scheme-number scheme-number) (lambda (x y) (tag (gcd x y))))  ; 追加手続き\n",
    "  ; 追加手続き\n",
    "  (put 'reduce '(scheme-number scheme-number)\n",
    "       (lambda (x y)\n",
    "         (let ((d (reduce-integers x y)))\n",
    "           (list (tag (car d)) (tag (cadr d)))\n",
    "         )\n",
    "       )\n",
    "    )\n",
    "  (put 'make 'scheme-number (lambda (x) (tag x)))\n",
    "'done)\n",
    "\n",
    "(define (make-scheme-number n) ((get 'make 'scheme-number) n))\n",
    "\n",
    "(install-scheme-number-package)"
   ]
  },
  {
   "cell_type": "code",
   "execution_count": 2,
   "metadata": {
    "jupyter": {
     "source_hidden": true
    },
    "tags": []
   },
   "outputs": [
    {
     "data": {
      "text/plain": [
       "done"
      ]
     },
     "execution_count": 2,
     "metadata": {},
     "output_type": "execute_result"
    }
   ],
   "source": [
    "(define (install-rational-package)\n",
    "  ;(define (gcd a b)\n",
    "  ;  (if (= b 0) a\n",
    "  ;      (gcd b (remainder a b)))\n",
    "  ;  )\n",
    "  ;; 内部⼿続き\n",
    "  (define (numer x) (car x))\n",
    "  (define (denom x) (cdr x))\n",
    "  (define (make-rat n d)\n",
    "    (let ((g (reduce n d)))\n",
    "      ;(display g)\n",
    "      ;(display \"\\n\")\n",
    "      (cons (car g) (cadr g))\n",
    "      ;(cons n d)\n",
    "    )\n",
    "    )\n",
    "  (define (add-rat x y) (make-rat (add (mul (numer x) (denom y))\n",
    "                                     (mul (numer y) (denom x)))\n",
    "                                  (mul (denom x) (denom y))))\n",
    "  (define (sub-rat x y) (make-rat (sub (mul (numer x) (denom y))\n",
    "                                     (mul (numer y) (denom x)))\n",
    "                                  (mul (denom x) (denom y))))\n",
    "  (define (mul-rat x y) (make-rat (mul (numer x) (numer y))\n",
    "                                  (mul (denom x) (denom y))))\n",
    "  (define (div-rat x y) (make-rat (mul (numer x) (denom y)) (mul (denom x) (numer y))))\n",
    "  ;; システムのほかの部分とのインターフェイス\n",
    "  (define (tag x) (attach-tag 'rational x))\n",
    "  (put 'add '(rational rational) (lambda (x y) (tag (add-rat x y))))\n",
    "  (put 'sub '(rational rational) (lambda (x y) (tag (sub-rat x y))))\n",
    "  (put 'mul '(rational rational) (lambda (x y) (tag (mul-rat x y)))) \n",
    "  (put 'div '(rational rational) (lambda (x y) (tag (div-rat x y))))\n",
    "  (put 'reverse-sign '(rational) (lambda (x) (mul (numer x) -1)))    ;追加手続き\n",
    "  (put 'make 'rational (lambda (n d) (tag (make-rat n d))))\n",
    "  'done)\n",
    "\n",
    "(define (make-rational n d) ((get 'make 'rational) n d))\n",
    "\n",
    "(install-rational-package)"
   ]
  },
  {
   "cell_type": "code",
   "execution_count": 3,
   "metadata": {
    "jupyter": {
     "source_hidden": true
    },
    "tags": []
   },
   "outputs": [
    {
     "data": {
      "text/plain": [
       "done"
      ]
     },
     "execution_count": 3,
     "metadata": {},
     "output_type": "execute_result"
    }
   ],
   "source": [
    "; polynomialの実装\n",
    "(define (install-polynomial-package)\n",
    "  ; 内部⼿続き\n",
    "  ; poly の表現\n",
    "  (define (make-poly variable term-list) (cons variable term-list))\n",
    "  (define (variable p) (car p))\n",
    "  (define (term-list p) (cdr p))\n",
    "  ; 2.3.2 節の same-variable? と variable? ⼿続き\n",
    "  (define (same-variable? v1 v2) (and (variable? v1) (variable? v2) (eq? v1 v2)))\n",
    "  (define (variable? x) (symbol? x))\n",
    "  ; 項と項リストの表現\n",
    "  ; 下記の adjoin-term . . . coeff ⼿続き\n",
    "  (define (adjoin-term term term-list)\n",
    "    (if (=zero? (coeff term))\n",
    "        term-list\n",
    "        (cons term term-list)))\n",
    "  (define (the-empty-termlist) '())\n",
    "  (define (first-term term-list) (car term-list))\n",
    "  (define (rest-terms term-list) (cdr term-list))\n",
    "  (define (empty-termlist? term-list) (null? term-list))\n",
    "  (define (make-term order coeff) (list order coeff))\n",
    "  (define (order term) (car term))\n",
    "  (define (coeff term) (cadr term))\n",
    "  (define (add-poly p1 p2)\n",
    "    (if (same-variable? (variable p1) (variable p2))\n",
    "        (make-poly (variable p1)\n",
    "                   (add-terms (term-list p1) (term-list p2)))\n",
    "        (error \"Polys not in same var: ADD-POLY\" (list p1 p2))))\n",
    "  (define (mul-poly p1 p2)\n",
    "    (if (same-variable? (variable p1) (variable p2))\n",
    "        (make-poly (variable p1)\n",
    "                   (mul-terms (term-list p1) (term-list p2)))\n",
    "        (error \"Polys not in same var: MUL-POLY\" (list p1 p2))))  \n",
    "  ; add-poly/mul-polyが使う⼿続き\n",
    "  (define (add-terms L1 L2)\n",
    "    (cond ((empty-termlist? L1) L2)\n",
    "          ((empty-termlist? L2) L1)\n",
    "          (else\n",
    "           (let ((t1 (first-term L1))\n",
    "                 (t2 (first-term L2)))\n",
    "             (cond ((> (order t1) (order t2))\n",
    "                    (adjoin-term\n",
    "                     t1 (add-terms (rest-terms L1) L2)))\n",
    "                   ((< (order t1) (order t2))\n",
    "                    (adjoin-term\n",
    "                     t2 (add-terms L1 (rest-terms L2))))\n",
    "                   (else\n",
    "                    (adjoin-term\n",
    "                     (make-term (order t1)\n",
    "                                (add (coeff t1) (coeff t2)))\n",
    "                     (add-terms (rest-terms L1)\n",
    "                                (rest-terms L2)))))))))\n",
    "  (define (mul-terms L1 L2)\n",
    "    (if (empty-termlist? L1)\n",
    "        (the-empty-termlist)\n",
    "        (add-terms (mul-term-by-all-terms (first-term L1) L2)\n",
    "                   (mul-terms (rest-terms L1) L2))))\n",
    "  (define (mul-term-by-all-terms t1 L)\n",
    "    (if (empty-termlist? L)\n",
    "        (the-empty-termlist)\n",
    "        (let ((t2 (first-term L)))\n",
    "          (adjoin-term\n",
    "           (make-term (+ (order t1) (order t2))\n",
    "                      (mul (coeff t1) (coeff t2)))\n",
    "           (mul-term-by-all-terms t1 (rest-terms L))))))\n",
    "  ; 符号反転\n",
    "  (define (reverse-sign-proc p)\n",
    "        (make-poly (variable p)\n",
    "                   (reverse-sign-terms (term-list p)))    \n",
    "    )\n",
    "  (define (reverse-sign-terms L1)\n",
    "    (if (empty-termlist? L1) (the-empty-termlist)\n",
    "        (let ((t1 (first-term L1)))\n",
    "          (adjoin-term\n",
    "           (make-term (order t1) (reverse-sign (coeff t1)))\n",
    "           (reverse-sign-terms (rest-terms L1))))))\n",
    "  ; 減算\n",
    "  (define (sub-poly p1 p2)\n",
    "    (if (same-variable? (variable p1) (variable p2))\n",
    "        (add-poly p1 (reverse-sign-proc p2))\n",
    "        (error \"Polys not in same var: ADD-POLY\" (list p1 p2))))\n",
    "  (define (sub-terms t1 t2)\n",
    "        (add-terms t1 (reverse-sign-terms t2))\n",
    "    )\n",
    "  (define (zero-terms L)\n",
    "    (if (empty-termlist? L) #t\n",
    "        (let ((t1 (first-term L)))\n",
    "          (if (not (=zero? (coeff t1))) #f\n",
    "              (zero-terms (rest-terms L))\n",
    "          )\n",
    "          )\n",
    "        )\n",
    "    )\n",
    "  ; 強制型変換\n",
    "  (define (scheme-number->polynomial n p)\n",
    "    (tag (make-poly (variable (contents p)) (list (make-term 0 (contents n)))))\n",
    "    )\n",
    "  ; 除算\n",
    "  (define (div-poly p1 p2)\n",
    "    (if (same-variable? (variable p1) (variable p2))\n",
    "        (let ((ans (div-terms (term-list p1) (term-list p2))))\n",
    "          ;ans\n",
    "          (list (make-poly (variable p1) (car ans)) (make-poly (variable p2) (cadr ans))) \n",
    "            )\n",
    "        ;(make-poly (variable p1)(div-terms (term-list p1) (term-list p2)))\n",
    "        (error \"Polys not in same var: DIV-POLY\" (list p1 p2))\n",
    "        )\n",
    "    )\n",
    "  (define (div-terms L1 L2)\n",
    "    (if (empty-termlist? L1)\n",
    "        (list (the-empty-termlist) (the-empty-termlist))\n",
    "        (let ((t1 (first-term L1))\n",
    "              (t2 (first-term L2)))\n",
    "          (if (> (order t2) (order t1))\n",
    "              (list (the-empty-termlist) L1)\n",
    "              (let (\n",
    "                    (new-c (div (coeff t1) (coeff t2)))\n",
    "                    ;(new-c (div (coeff t1) (mul (coeff t2) (power (coeff t2) (add 1 (sub (order t1) (order t2)))))))\n",
    "                    (new-o (sub (order t1) (order t2)))\n",
    "                    ;(new-c2 (power (coeff t2) (add 1 (sub (order t1) (order t2)))))\n",
    "                    )\n",
    "                (let ((rest-of-result\n",
    "                       ; 再帰的に残りを計算する\n",
    "                       (div-terms (sub-terms L1 (mul-terms L2 (list (make-term new-o new-c)))) L2)\n",
    "                  ))\n",
    "                  ; 完全な結果を作る\n",
    "                  (list (add-terms (list (make-term new-o new-c)) (car rest-of-result))\n",
    "                        (cadr rest-of-result))\n",
    "               ))))))\n",
    "  ; 剰余\n",
    "  (define (remainder-terms t1 t2)\n",
    "    (let ((ans (div-terms t1 t2)))\n",
    "          (cadr ans)\n",
    "      )\n",
    "    )  \n",
    "  (define (pseudoremainder-terms L1 L2)\n",
    "    (let ((ans (div-terms L1 L2))\n",
    "          (t1 (first-term L1))\n",
    "          (t2 (first-term L2))\n",
    "          )\n",
    "      (if (>= (add 1 (sub (order t1) (order t2))) 0)\n",
    "          (let ((new-c (power (coeff t2) (add 1 (sub (order t1) (order t2))))))\n",
    "            (mul-term-by-all-terms (make-term 0 new-c) (cadr ans)))\n",
    "          (pseudoremainder-terms L2 L1)\n",
    "        )\n",
    "      )\n",
    "    )\n",
    "  (define (gcd-terms a b)\n",
    "    (if (empty-termlist? b)\n",
    "        (let ((coeffs (map coeff a)))\n",
    "            (if (> (length coeffs) 1)\n",
    "                (let ((d (accumulate greatest-common-divisor (car coeffs) (cdr coeffs)))\n",
    "                      )\n",
    "                  (mul-term-by-all-terms (make-term 0 (/ 1 d)) a)\n",
    "                  )\n",
    "                a\n",
    "            )\n",
    "          )\n",
    "        (gcd-terms b (pseudoremainder-terms a b))))\n",
    "  (define (gcd-poly p1 p2)\n",
    "    (if (same-variable? (variable p1) (variable p2))\n",
    "        (make-poly (variable p1) (gcd-terms (term-list p1) (term-list p2)))\n",
    "        (error \"Polys not in same var: GCD-POLY\" (list p1 p2))\n",
    "        )\n",
    "    )\n",
    "  ; 既約にする。簡略化\n",
    "  (define (reduce-poly p1 p2)\n",
    "    (if (same-variable? (variable p1) (variable p2))\n",
    "        (let ((ans (reduce-terms (term-list p1) (term-list p2))))\n",
    "          (list (make-poly (variable p1) (car ans)) (make-poly (variable p2) (cadr ans))) \n",
    "            )\n",
    "        (error \"Polys not in same var: REDUCE-POLY\" (list p1 p2))\n",
    "        )\n",
    "    )\n",
    "  (define (reduce-terms L1 L2)\n",
    "    (let ((d (gcd-terms L1 L2))\n",
    "          )\n",
    "      (if (empty-termlist? d) (list L1 L2)\n",
    "          (list (car (div-terms L1 d)) (car (div-terms L2 d)))\n",
    "          )\n",
    "     )\n",
    "    )\n",
    "  ; システムのほかの部分とのインターフェイス\n",
    "  (define (tag p) (attach-tag 'polynomial p))\n",
    "  (put 'add '(polynomial polynomial) (lambda (p1 p2) (tag (add-poly p1 p2))))\n",
    "  (put 'mul '(polynomial polynomial) (lambda (p1 p2) (tag (mul-poly p1 p2))))\n",
    "  ;(put '=zero? '(polynomial) (lambda (p) (or (eq? p '()) (=zero? p))))  ; 追加手続き\n",
    "  (put '=zero? '(polynomial) (lambda (p) (zero-terms (term-list p))))  ; 追加手続き\n",
    "  (put 'reverse-sign '(polynomial) (lambda (p) (tag (reverse-sign-proc p))))  ; 追加手続き\n",
    "  (put 'sub '(polynomial polynomial) (lambda (p1 p2) (tag (sub-poly p1 p2))))  ; 追加手続き\n",
    "  ; 追加手続き\n",
    "  (put 'div '(polynomial polynomial) (lambda (p1 p2)\n",
    "                                       (let ((ans (div-poly p1 p2)))\n",
    "                                         ;ans\n",
    "                                         (list (tag (car ans)) (tag (cadr ans)))\n",
    "                                         )\n",
    "                                       )\n",
    "       )\n",
    "  ;(put 'remainder '(polynomial polynomial) (lambda (p1 p2) (tag (remainder-poly p1 p2))))  ; テスト用\n",
    "  (put 'greatest-common-divisor '(polynomial polynomial) (lambda (p1 p2) (tag (gcd-poly p1 p2))))  ; 追加手続き\n",
    "  ; 追加手続き\n",
    "  (put 'reduce '(polynomial polynomial)\n",
    "       (lambda (x y)\n",
    "         (let ((ans (reduce-poly x y)))\n",
    "           ;(display ans)\n",
    "           ;(display \"\\n\")\n",
    "           (list (tag (car ans)) (tag (cadr ans)))\n",
    "           )\n",
    "       )\n",
    "    )\n",
    "  (put 'make 'polynomial (lambda (var terms) (tag (make-poly var terms))))\n",
    "  (put-coercion  'scheme-number 'polynomial scheme-number->polynomial)\n",
    "'done)\n",
    "\n",
    "; 集積\n",
    "(define (accumulate op initial sequence)\n",
    "  (if (null? sequence) initial\n",
    "      (op (car sequence) (accumulate op initial (cdr sequence)))\n",
    "      )\n",
    "  )\n",
    "\n",
    "(define (make-polynomial var terms) ((get 'make 'polynomial) var terms))\n",
    "\n",
    "(install-polynomial-package)"
   ]
  },
  {
   "cell_type": "code",
   "execution_count": 4,
   "metadata": {},
   "outputs": [],
   "source": [
    "(define P1 (make-polynomial 'x '((2 1) (1 -2) (0 1))))\n",
    "(define P2 (make-polynomial 'x '((2 11) (0 7))))\n",
    "(define P3 (make-polynomial 'x '((1 13) (0 5))))\n",
    "(define Q1 (mul P1 P2))\n",
    "(define Q2 (mul P1 P3))"
   ]
  },
  {
   "cell_type": "code",
   "execution_count": 5,
   "metadata": {},
   "outputs": [
    {
     "data": {
      "text/plain": [
       "(polynomial x (2 1) (1 -2) (0 1))"
      ]
     },
     "execution_count": 5,
     "metadata": {},
     "output_type": "execute_result"
    }
   ],
   "source": [
    "(greatest-common-divisor Q1 Q2)"
   ]
  },
  {
   "cell_type": "code",
   "execution_count": 6,
   "metadata": {},
   "outputs": [
    {
     "data": {
      "text/plain": [
       "(4 3)"
      ]
     },
     "execution_count": 6,
     "metadata": {},
     "output_type": "execute_result"
    }
   ],
   "source": [
    "(reduce 32 24)"
   ]
  },
  {
   "cell_type": "code",
   "execution_count": 7,
   "metadata": {},
   "outputs": [
    {
     "data": {
      "text/plain": [
       "((polynomial x (2 11) (0 7)) (polynomial x (1 13) (0 5)))"
      ]
     },
     "execution_count": 7,
     "metadata": {},
     "output_type": "execute_result"
    }
   ],
   "source": [
    "(reduce Q1 Q2)"
   ]
  },
  {
   "cell_type": "code",
   "execution_count": 8,
   "metadata": {},
   "outputs": [
    {
     "data": {
      "text/plain": [
       "(rational 2 . 3)"
      ]
     },
     "execution_count": 8,
     "metadata": {},
     "output_type": "execute_result"
    }
   ],
   "source": [
    "(make-rational 32 48)"
   ]
  },
  {
   "cell_type": "code",
   "execution_count": 9,
   "metadata": {},
   "outputs": [],
   "source": [
    "(define p1 (make-polynomial 'x '((1 1) (0 1))))\n",
    "(define p2 (make-polynomial 'x '((3 1) (0 -1))))\n",
    "(define p3 (make-polynomial 'x '((1 1))))\n",
    "(define p4 (make-polynomial 'x '((2 1) (0 -1))))"
   ]
  },
  {
   "cell_type": "code",
   "execution_count": 10,
   "metadata": {},
   "outputs": [
    {
     "data": {
      "text/plain": [
       "(rational (polynomial x (1 -1)) polynomial x (2 -1) (0 1))"
      ]
     },
     "execution_count": 10,
     "metadata": {},
     "output_type": "execute_result"
    }
   ],
   "source": [
    "(make-rational p3 p4)"
   ]
  },
  {
   "cell_type": "code",
   "execution_count": 11,
   "metadata": {},
   "outputs": [
    {
     "data": {
      "text/plain": [
       "(rational (polynomial x (3 -1/2) (0 1/2)) polynomial x (1 -1/2) (0 -1/2))"
      ]
     },
     "execution_count": 11,
     "metadata": {},
     "output_type": "execute_result"
    }
   ],
   "source": [
    "(make-rational p2 p1)"
   ]
  },
  {
   "cell_type": "code",
   "execution_count": 12,
   "metadata": {},
   "outputs": [
    {
     "data": {
      "text/plain": [
       "(rational (polynomial x (1 -1/2) (0 -1/2)) polynomial x (3 -1/2) (0 1/2))"
      ]
     },
     "execution_count": 12,
     "metadata": {},
     "output_type": "execute_result"
    }
   ],
   "source": [
    "(make-rational p1 p2)"
   ]
  },
  {
   "cell_type": "code",
   "execution_count": 13,
   "metadata": {},
   "outputs": [],
   "source": [
    "(define rf1 (make-rational p1 p2))"
   ]
  },
  {
   "cell_type": "code",
   "execution_count": 14,
   "metadata": {},
   "outputs": [],
   "source": [
    "(define rf2 (make-rational p3 p4))"
   ]
  },
  {
   "cell_type": "code",
   "execution_count": 15,
   "metadata": {},
   "outputs": [
    {
     "data": {
      "text/plain": [
       "(rational (polynomial x (3 1/2) (2 1) (1 3/2) (0 1/2)) polynomial x (4 1/2) (3 1/2) (1 -1/2) (0 -1/2))"
      ]
     },
     "execution_count": 15,
     "metadata": {},
     "output_type": "execute_result"
    }
   ],
   "source": [
    "(add rf1 rf2)"
   ]
  }
 ],
 "metadata": {
  "kernelspec": {
   "display_name": "Calysto Scheme 3",
   "language": "scheme",
   "name": "calysto_scheme"
  },
  "language_info": {
   "codemirror_mode": {
    "name": "scheme"
   },
   "mimetype": "text/x-scheme",
   "name": "scheme",
   "pygments_lexer": "scheme"
  }
 },
 "nbformat": 4,
 "nbformat_minor": 4
}
