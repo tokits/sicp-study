{
 "cells": [
  {
   "cell_type": "markdown",
   "metadata": {},
   "source": [
    "### 練習問題2.86\n",
    "複素数の実部、虚部、絶対値、偏⾓に、通常の数値や有理数や、<br />\n",
    "これからシステムに追加するその他の数値を使えるようにしたいとする。<br />\n",
    "そのような複素数を使えるようにするために、システムにどのような変更を加える必要があるか説明し、それを実装せよ。<br />\n",
    "通常の数値と有理数に対してジェネリックに使える sine や cosine のような演算を定義する必要があるだろう。"
   ]
  },
  {
   "cell_type": "markdown",
   "metadata": {},
   "source": [
    "回答：保留"
   ]
  }
 ],
 "metadata": {
  "kernelspec": {
   "display_name": "Calysto Scheme 3",
   "language": "scheme",
   "name": "calysto_scheme"
  },
  "language_info": {
   "codemirror_mode": {
    "name": "scheme"
   },
   "mimetype": "text/x-scheme",
   "name": "scheme",
   "pygments_lexer": "scheme"
  }
 },
 "nbformat": 4,
 "nbformat_minor": 4
}
