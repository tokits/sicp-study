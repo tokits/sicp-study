{
 "cells": [
  {
   "cell_type": "markdown",
   "metadata": {},
   "source": [
    "### 練習問題1.33\n",
    "結合する項に対するフィルタ(filter)という概念を導⼊することで、  \n",
    "さらに⼀般的なバージョンのaccumulate(練習問 題1.32)を⼿に⼊れることができる。  \n",
    "指定された条件を満たす範囲内の値から導出される項だけを結合するというものだ。  \n",
    "結果となる filtered-accumulate抽象は、accumulateと同じ引数に加えて、  \n",
    "フィルタを指定する1引数の述語を取る。  \n",
    "filtered-accumulate を⼿続きとして書け。  \n",
    "次のものをfiltered-accumulateを使ってどのように表現するかを⽰せ。  "
   ]
  },
  {
   "cell_type": "markdown",
   "metadata": {},
   "source": [
    "a.  \n",
    "aからbの区間の素数の⼆乗の和(すでにprime?述語を書い ているとする) "
   ]
  },
  {
   "cell_type": "markdown",
   "metadata": {},
   "source": [
    "b.  \n",
    "$n$と互いに素である$n$未満のすべての正の整数 (つまり、 $gcd(i,n) = 1$となるすべての整数$i < n$)の積"
   ]
  },
  {
   "cell_type": "code",
   "execution_count": 1,
   "metadata": {},
   "outputs": [
    {
     "name": "stdout",
     "output_type": "stream",
     "text": [
      "24\n",
      "5050\n"
     ]
    }
   ],
   "source": [
    "; 線形反復プロセス\n",
    "(define (filtered-accumulate combiner null-value filter term a next b)\n",
    "  (define (iter a result)\n",
    "    (if (> a b) result\n",
    "        (let ((term-val (term a))\n",
    "              (result-next result))\n",
    "          (if (filter term-val)(set! result-next (combiner result (term a))))\n",
    "          (iter (next a) result-next)\n",
    "        )\n",
    "      )\n",
    "    )\n",
    "  (iter a null-value)\n",
    "  )\n",
    "\n",
    "; aからbまでの整数の積\n",
    "(define (factorial a b)\n",
    "  (filtered-accumulate * 1 (lambda (x) #t) (lambda (x) x) a (lambda (n)(+ n 1)) b)\n",
    "  )\n",
    "(display (factorial 1 4))\n",
    "(newline)\n",
    "\n",
    "; aからbまでの整数の和\n",
    "(define (sum a b)\n",
    "  (filtered-accumulate + 0 (lambda (x) #t) (lambda (x) x) a (lambda (n)(+ n 1)) b)\n",
    "  )\n",
    "(display (sum 1 100))\n",
    "(newline)"
   ]
  },
  {
   "cell_type": "code",
   "execution_count": 2,
   "metadata": {},
   "outputs": [
    {
     "name": "stdout",
     "output_type": "stream",
     "text": [
      "False\n",
      "True\n"
     ]
    }
   ],
   "source": [
    "(define (smallest-divisor n)\n",
    "  (find-divisor n 2)\n",
    "  )\n",
    "(define (find-divisor n test-divisor)\n",
    "  (cond ((> (square test-divisor) n) n)\n",
    "        ((divides? test-divisor n) test-divisor)\n",
    "        (else (find-divisor n (+ test-divisor 1)))\n",
    "    )\n",
    "  )\n",
    "(define (divides? a b)\n",
    "  (= (remainder b a) 0)\n",
    "  )\n",
    "(define (square x) (* x x))\n",
    "(define (prime? n)\n",
    "  (= n (smallest-divisor n))\n",
    "  )\n",
    "; 動作確認\n",
    "(display (prime? 27))\n",
    "(newline)\n",
    "(display (prime? 109))\n",
    "(newline)"
   ]
  },
  {
   "cell_type": "code",
   "execution_count": 3,
   "metadata": {},
   "outputs": [
    {
     "name": "stdout",
     "output_type": "stream",
     "text": [
      "17\n"
     ]
    }
   ],
   "source": [
    "; aからbまでの素数の和\n",
    "(define (sum a b)\n",
    "  (filtered-accumulate + 0 prime? (lambda (x) x) a (lambda (n)(+ n 1)) b)\n",
    "  )\n",
    "(display (sum 2 10))\n",
    "(newline)"
   ]
  },
  {
   "cell_type": "code",
   "execution_count": 4,
   "metadata": {},
   "outputs": [
    {
     "data": {
      "text/plain": [
       "2"
      ]
     },
     "execution_count": 4,
     "metadata": {},
     "output_type": "execute_result"
    }
   ],
   "source": [
    "(define (gcd a b)\n",
    "  (if (= b 0) a\n",
    "      (begin\n",
    "       ;(display \"gcd(\")\n",
    "       ;(display a)\n",
    "       ;(display \",\")\n",
    "       ;(display b)\n",
    "       ;(display \")\")\n",
    "       ;(newline)\n",
    "       (gcd b (remainder a b))\n",
    "       )\n",
    "    )\n",
    "  )\n",
    "(gcd 206 40)"
   ]
  },
  {
   "cell_type": "code",
   "execution_count": 5,
   "metadata": {},
   "outputs": [
    {
     "name": "stdout",
     "output_type": "stream",
     "text": [
      "189\n"
     ]
    }
   ],
   "source": [
    "; bと互いに素なる整数の和\n",
    "(define (product a b)\n",
    "  (filtered-accumulate * 1 (lambda (x)(= (gcd x b) 1)) (lambda (x) x) a (lambda (n)(+ n 1)) b)\n",
    "  )\n",
    "(display (product 1 10))\n",
    "(newline)"
   ]
  },
  {
   "cell_type": "code",
   "execution_count": 6,
   "metadata": {},
   "outputs": [
    {
     "name": "stdout",
     "output_type": "stream",
     "text": [
      "8729721\n"
     ]
    }
   ],
   "source": [
    "(display (product 1 20))\n",
    "(newline)"
   ]
  }
 ],
 "metadata": {
  "kernelspec": {
   "display_name": "Calysto Scheme 3",
   "language": "scheme",
   "name": "calysto_scheme"
  },
  "language_info": {
   "codemirror_mode": {
    "name": "scheme"
   },
   "mimetype": "text/x-scheme",
   "name": "scheme",
   "pygments_lexer": "scheme"
  }
 },
 "nbformat": 4,
 "nbformat_minor": 4
}
