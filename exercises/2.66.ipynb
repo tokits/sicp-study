{
 "cells": [
  {
   "cell_type": "markdown",
   "metadata": {},
   "source": [
    "### 練習問題2.66\n",
    "レコードの集合が、キーの数値の大小によって順序づけられた  \n",
    "⼆分木という構造になっている場合について、lookup⼿続きを実装 せよ。 "
   ]
  },
  {
   "cell_type": "code",
   "execution_count": 1,
   "metadata": {},
   "outputs": [],
   "source": [
    "(define (entry tree) (car tree))\n",
    "(define (left-branch tree) (cadr tree))\n",
    "(define (right-branch tree) (caddr tree))\n",
    "(define (make-tree entry left right) (list entry left right))\n",
    "(define (element-of-set? k set)\n",
    "  (if (null? set) #f\n",
    "      (let ((entry-key (key (entry set))))\n",
    "        (cond ((= k entry-key) #t)\n",
    "              ((< k entry-key) (element-of-set? k (left-branch set)))\n",
    "              ((> k entry-key) (element-of-set? k (right-branch set)))\n",
    "          )\n",
    "        )\n",
    "    )\n",
    "  )\n",
    "\n",
    "; key-valコンストラクタ(キーとデータ)\n",
    "(define (make-key-val k v) (list k v))\n",
    "; keyセレクタ\n",
    "(define (key record) (car record))\n",
    "; valセレクタ\n",
    "(define (val record) (cadr record))\n",
    "\n",
    "(define (lookup k set)\n",
    "  (if (null? set) #f\n",
    "      (let ((entry-key (key (entry set))))\n",
    "        (cond ((= k entry-key) (val (entry set)))\n",
    "              ((< k entry-key) (lookup k (left-branch set)))\n",
    "              ((> k entry-key) (lookup k (right-branch set)))\n",
    "          )\n",
    "        )\n",
    "    )\n",
    "  )"
   ]
  },
  {
   "cell_type": "code",
   "execution_count": 2,
   "metadata": {},
   "outputs": [
    {
     "data": {
      "text/plain": [
       "(5 (1 () (3 () ())) (9 (7 () ()) (11 () ())))"
      ]
     },
     "execution_count": 2,
     "metadata": {},
     "output_type": "execute_result"
    }
   ],
   "source": [
    "'(5 (1 () (3 () ())) (9 (7 () ()) (11 () ())))"
   ]
  },
  {
   "cell_type": "code",
   "execution_count": 3,
   "metadata": {},
   "outputs": [
    {
     "data": {
      "text/plain": [
       "((5 \"test5\") ((1 \"test1\") () ((3 \"test3\") () ())) ((9 \"test9\") ((7 \"test7\") () ()) ((11 \"test11\") () ())))"
      ]
     },
     "execution_count": 3,
     "metadata": {},
     "output_type": "execute_result"
    }
   ],
   "source": [
    "(define database\n",
    "  '((5 \"test5\")  ((1 \"test1\") () ((3 \"test3\") () ())) ((9 \"test9\") ((7 \"test7\") () ()) ((11 \"test11\") () ()))))\n",
    "database"
   ]
  },
  {
   "cell_type": "code",
   "execution_count": 4,
   "metadata": {},
   "outputs": [
    {
     "data": {
      "text/plain": [
       "#t"
      ]
     },
     "execution_count": 4,
     "metadata": {},
     "output_type": "execute_result"
    }
   ],
   "source": [
    "(element-of-set? 9 database)"
   ]
  },
  {
   "cell_type": "code",
   "execution_count": 5,
   "metadata": {},
   "outputs": [
    {
     "data": {
      "text/plain": [
       "#f"
      ]
     },
     "execution_count": 5,
     "metadata": {},
     "output_type": "execute_result"
    }
   ],
   "source": [
    "(element-of-set? 4 database)"
   ]
  },
  {
   "cell_type": "code",
   "execution_count": 6,
   "metadata": {},
   "outputs": [
    {
     "data": {
      "text/plain": [
       "\"test9\""
      ]
     },
     "execution_count": 6,
     "metadata": {},
     "output_type": "execute_result"
    }
   ],
   "source": [
    "(lookup 9 database)"
   ]
  },
  {
   "cell_type": "code",
   "execution_count": 7,
   "metadata": {},
   "outputs": [
    {
     "data": {
      "text/plain": [
       "\"test7\""
      ]
     },
     "execution_count": 7,
     "metadata": {},
     "output_type": "execute_result"
    }
   ],
   "source": [
    "(lookup 7 database)"
   ]
  },
  {
   "cell_type": "code",
   "execution_count": 8,
   "metadata": {},
   "outputs": [
    {
     "data": {
      "text/plain": [
       "#f"
      ]
     },
     "execution_count": 8,
     "metadata": {},
     "output_type": "execute_result"
    }
   ],
   "source": [
    "(lookup 4 database)"
   ]
  }
 ],
 "metadata": {
  "kernelspec": {
   "display_name": "Calysto Scheme 3",
   "language": "scheme",
   "name": "calysto_scheme"
  },
  "language_info": {
   "codemirror_mode": {
    "name": "scheme"
   },
   "mimetype": "text/x-scheme",
   "name": "scheme",
   "pygments_lexer": "scheme"
  }
 },
 "nbformat": 4,
 "nbformat_minor": 4
}
