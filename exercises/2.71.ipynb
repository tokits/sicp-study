{
 "cells": [
  {
   "cell_type": "markdown",
   "metadata": {},
   "source": [
    "### 練習問題2.71\n",
    "$n$記号のアルファベットに対するハフマン木があり、  \n",
    "記号の相対頻度は$1,2,4,...,2^{n−1}$であるとする。  \n",
    "$n = 5$、$n = 10$の場合の⽊をスケッチせよ。  \n",
    "そのような木では、(⼀般の$n$について )最も頻度の⾼い記号を符号化するのに何ビット必要になるだろうか。  \n",
    "最も頻度の低い記号はどうだろうか。"
   ]
  },
  {
   "cell_type": "markdown",
   "metadata": {},
   "source": [
    "木の回答は保留にする。"
   ]
  },
  {
   "cell_type": "code",
   "execution_count": 1,
   "metadata": {},
   "outputs": [],
   "source": [
    "(define (make-leaf symbol weight) (list 'leaf symbol weight))\n",
    "(define (leaf? object) (eq? (car object) 'leaf))\n",
    "(define (symbol-leaf x) (cadr x))\n",
    "(define (weight-leaf x) (caddr x))\n",
    "\n",
    "; コンストラクタ\n",
    "(define (make-code-tree left right)\n",
    "  (list left right\n",
    "        (append (symbols left) (symbols right))\n",
    "        (+ (weight left) (weight right))\n",
    "    )\n",
    "  )\n",
    "\n",
    "; セレクタ\n",
    "(define (left-branch tree) (car tree))\n",
    "(define (right-branch tree) (cadr tree))\n",
    "(define (symbols tree)\n",
    "  (if (leaf? tree) (list (symbol-leaf tree))\n",
    "      (caddr tree)\n",
    "    )\n",
    "  )\n",
    "(define (weight tree)\n",
    "  (if (leaf? tree) (weight-leaf tree)\n",
    "      (cadddr tree)\n",
    "    )\n",
    "  )\n",
    "\n",
    "(define (decode bits tree)\n",
    "  (define (decode-1 bits current-branch)\n",
    "    (if (null? bits) '()\n",
    "        (let ((next-branch (choose-branch (car bits) current-branch)))\n",
    "          (if (leaf? next-branch) (cons (symbol-leaf next-branch) (decode-1 (cdr bits) tree))\n",
    "              (decode-1 (cdr bits) next-branch))\n",
    "          )\n",
    "    )\n",
    "    )\n",
    "  (decode-1 bits tree)\n",
    ")  \n",
    "(define (choose-branch bit branch)\n",
    "  (cond ((= bit 0) (left-branch branch))\n",
    "        ((= bit 1) (right-branch branch))\n",
    "        (else (error \"bad bit: CHOOSE-BRANCH\" bit))\n",
    "        )\n",
    "  )\n",
    "\n",
    "(define (adjoin-set x set)\n",
    "  (cond ((null? set) (list x))\n",
    "        ((< (weight x) (weight (car set))) (cons x set))\n",
    "        (else (cons (car set) (adjoin-set x (cdr set))))))\n",
    "\n",
    "(define (make-leaf-set pairs)\n",
    "  (if (null? pairs) '()\n",
    "      (let ((pair (car pairs)))\n",
    "        (adjoin-set (make-leaf (car pair) ; symbol\n",
    "                               (cadr pair)) ; weight\n",
    "                    (make-leaf-set (cdr pairs)))\n",
    "        )\n",
    "    )\n",
    "  )"
   ]
  },
  {
   "cell_type": "code",
   "execution_count": 2,
   "metadata": {},
   "outputs": [],
   "source": [
    "; 符号化処理\n",
    "(define (encode-symbol symbol tree)\n",
    "  (define (iter sub result)\n",
    "    (if (leaf? sub)\n",
    "        (if (eq? (symbol-leaf sub) symbol) result\n",
    "            '())\n",
    "        (let ((l (left-branch sub))\n",
    "              (r (right-branch sub)))\n",
    "          (let ((l-result (iter l (append result '(0)))))\n",
    "            (if (not (null? l-result)) l-result\n",
    "                (iter r (append result '(1)))\n",
    "              )\n",
    "            )\n",
    "        )\n",
    "      )\n",
    "    )\n",
    "  (let ((result (iter tree '())))\n",
    "    (if (null? result) (error \"bad symbol: ENCODE\" symbol)\n",
    "        result\n",
    "        )\n",
    "    )\n",
    ")\n",
    "\n",
    "; 符号化処理 \n",
    "(define (encode message tree)\n",
    "    (if (null? message) '()\n",
    "        (append\n",
    "            (encode-symbol (car message) tree)\n",
    "            (encode (cdr message) tree))\n",
    "    )\n",
    ")"
   ]
  },
  {
   "cell_type": "code",
   "execution_count": 3,
   "metadata": {},
   "outputs": [],
   "source": [
    "; 考え直した回答\n",
    "\n",
    "; 指定した頻度がリストに含まれているか。\n",
    "; 含まれていない場合、falseを返す。\n",
    "; 含まれている場合、最初に見つかったペアと次のペアを返す。（これの2つで木を生成する）\n",
    "(define (have-weight? w set)\n",
    "  ;(display \"have-weight? \")\n",
    "  ;(display w)\n",
    "  ;(display \" \")\n",
    "  ;(display set)\n",
    "  ;(display \" \")\n",
    "  ;(newline)\n",
    "  (cond ((null? set) #f)\n",
    "        ((not (pair? set))\n",
    "         (if (= (weight set) w) (list set)\n",
    "             #f\n",
    "             )\n",
    "         )\n",
    "        (else\n",
    "         (if (= (weight (car set)) w) (list (car set) (cadr set))\n",
    "             (have-weight? w (cdr set))\n",
    "             )\n",
    "         )\n",
    "    )\n",
    ")\n",
    "\n",
    "; ハフマン符号木の生成の記号・頻度ペアのリストから、指定したペアを削除したリストを返す。\n",
    "(define (remove-info item set)\n",
    "  (if (null? set) '()\n",
    "      (if (equal? item (car set)) (remove-info item (cdr set))\n",
    "          (cons (car set) (remove-info item (cdr set)))\n",
    "      )\n",
    "  )\n",
    "  )\n",
    "\n",
    "; 回答\n",
    "(define (successive-merge set)\n",
    "  (define (iter w result)\n",
    "    ;(display result)\n",
    "    ;(newline)\n",
    "    (cond ((null? result) '())\n",
    "          ((= (length result) 1) (car result))\n",
    "          ;((not (pair? result)) result) ; これは動作しない\n",
    "          ((= (length result) 2) (make-code-tree (cadr result) (car result)))\n",
    "          (else\n",
    "           (let ((ll (have-weight? w result)))\n",
    "             (if (equal? ll #f) (iter (+ w 1) result)\n",
    "                 (let ((top (car ll))\n",
    "                       (next (cadr ll)))\n",
    "                   (let ((new-result (remove-info next (remove-info top result))))\n",
    "                     (if (null? new-result) (iter w (list (make-code-tree next top)))\n",
    "                         (if (= (length new-result) 1) (iter w (append (list (make-code-tree next top)) new-result))\n",
    "                             (let (;(new-item (make-code-tree next top))\n",
    "                                   (new-item (if (>= (weight next) (weight top)) (make-code-tree next top) (make-code-tree top next)))\n",
    "                                   )\n",
    "                               (if (<= (weight new-item) (weight (car new-result)))\n",
    "                                   (iter w (append (list new-item) new-result))\n",
    "                                   (iter w (append new-result (list new-item)))\n",
    "                                )\n",
    "                              )\n",
    "                           )\n",
    "                        )\n",
    "                     )\n",
    "                    )\n",
    "                )\n",
    "             )\n",
    "           )\n",
    "        )\n",
    "    )\n",
    "  (iter 1 set)\n",
    "  )\n",
    "\n",
    "(define (generate-huffman-tree pairs)\n",
    "    (successive-merge (make-leaf-set pairs)))"
   ]
  },
  {
   "cell_type": "code",
   "execution_count": 4,
   "metadata": {},
   "outputs": [
    {
     "data": {
      "text/plain": [
       "((leaf A 16) ((leaf B 8) ((leaf C 4) ((leaf D 2) (leaf E 1) (D E) 3) (C D E) 7) (B C D E) 15) (A B C D E) 31)"
      ]
     },
     "execution_count": 4,
     "metadata": {},
     "output_type": "execute_result"
    }
   ],
   "source": [
    "; 2^(5-1)\n",
    "(define pairs1 '((A 16) (B 8) (C 4) (D 2) (E 1)))\n",
    "(define sample1 (generate-huffman-tree pairs1))\n",
    "sample1"
   ]
  },
  {
   "cell_type": "code",
   "execution_count": 5,
   "metadata": {},
   "outputs": [
    {
     "name": "stdout",
     "output_type": "stream",
     "text": [
      "(0)\n",
      "(1 0)\n",
      "(1 1 0)\n",
      "(1 1 1 0)\n",
      "(1 1 1 1)\n"
     ]
    }
   ],
   "source": [
    "; 単一の記号で動作確認\n",
    "(display (encode '(A) sample1))\n",
    "(newline)\n",
    "(display (encode '(B) sample1))\n",
    "(newline)\n",
    "(display (encode '(C) sample1))\n",
    "(newline)\n",
    "(display (encode '(D) sample1))\n",
    "(newline)\n",
    "(display (encode '(E) sample1))\n",
    "(newline)"
   ]
  },
  {
   "cell_type": "code",
   "execution_count": 6,
   "metadata": {},
   "outputs": [
    {
     "data": {
      "text/plain": [
       "((leaf A 512) ((leaf B 256) ((leaf C 128) ((leaf D 64) ((leaf E 32) ((leaf F 16) ((leaf G 8) ((leaf H 4) ((leaf I 2) (leaf J 1) (I J) 3) (H I J) 7) (G H I J) 15) (F G H I J) 31) (E F G H I J) 63) (D E F G H I J) 127) (C D E F G H I J) 255) (B C D E F G H I J) 511) (A B C D E F G H I J) 1023)"
      ]
     },
     "execution_count": 6,
     "metadata": {},
     "output_type": "execute_result"
    }
   ],
   "source": [
    "; 2^(10-1)\n",
    "(define pairs2 '((A 512) (B 256) (C 128) (D 64) (E 32) (F 16) (G 8) (H 4) (I 2) (J 1)))\n",
    "(define sample2 (generate-huffman-tree pairs2))\n",
    "sample2"
   ]
  },
  {
   "cell_type": "code",
   "execution_count": 7,
   "metadata": {},
   "outputs": [
    {
     "name": "stdout",
     "output_type": "stream",
     "text": [
      "(0)\n",
      "(1 0)\n",
      "(1 1 0)\n",
      "(1 1 1 0)\n",
      "(1 1 1 1 0)\n",
      "(1 1 1 1 1 0)\n",
      "(1 1 1 1 1 1 0)\n",
      "(1 1 1 1 1 1 1 0)\n",
      "(1 1 1 1 1 1 1 1 0)\n",
      "(1 1 1 1 1 1 1 1 1)\n"
     ]
    }
   ],
   "source": [
    "; 単一の記号で動作確認\n",
    "(display (encode '(A) sample2))\n",
    "(newline)\n",
    "(display (encode '(B) sample2))\n",
    "(newline)\n",
    "(display (encode '(C) sample2))\n",
    "(newline)\n",
    "(display (encode '(D) sample2))\n",
    "(newline)\n",
    "(display (encode '(E) sample2))\n",
    "(newline)\n",
    "(display (encode '(F) sample2))\n",
    "(newline)\n",
    "(display (encode '(G) sample2))\n",
    "(newline)\n",
    "(display (encode '(H) sample2))\n",
    "(newline)\n",
    "(display (encode '(I) sample2))\n",
    "(newline)\n",
    "(display (encode '(J) sample2))\n",
    "(newline)"
   ]
  }
 ],
 "metadata": {
  "kernelspec": {
   "display_name": "Calysto Scheme 3",
   "language": "scheme",
   "name": "calysto_scheme"
  },
  "language_info": {
   "codemirror_mode": {
    "name": "scheme"
   },
   "mimetype": "text/x-scheme",
   "name": "scheme",
   "pygments_lexer": "scheme"
  }
 },
 "nbformat": 4,
 "nbformat_minor": 4
}
