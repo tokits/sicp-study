{
 "cells": [
  {
   "cell_type": "markdown",
   "metadata": {},
   "source": [
    "### 練習問題2.71\n",
    "$n$記号のアルファベットに対するハフマン木があり、  \n",
    "記号の相対頻度は$1,2,4,...,2^{n−1}$であるとする。  \n",
    "$n = 5$、$n = 10$の場合の⽊をスケッチせよ。  \n",
    "そのような木では、(⼀般の$n$について )最も頻度の⾼い記号を符号化するのに何ビット必要になるだろうか。  \n",
    "最も頻度の低い記号はどうだろうか。"
   ]
  },
  {
   "cell_type": "markdown",
   "metadata": {},
   "source": [
    "木の回答は保留にする。"
   ]
  },
  {
   "cell_type": "code",
   "execution_count": 1,
   "metadata": {},
   "outputs": [],
   "source": [
    "(define (make-leaf symbol weight) (list 'leaf symbol weight))\n",
    "(define (leaf? object) (eq? (car object) 'leaf))\n",
    "(define (symbol-leaf x) (cadr x))\n",
    "(define (weight-leaf x) (caddr x))\n",
    "\n",
    "; コンストラクタ\n",
    "(define (make-code-tree left right)\n",
    "  (list left right\n",
    "        (append (symbols left) (symbols right))\n",
    "        (+ (weight left) (weight right))\n",
    "    )\n",
    "  )\n",
    "\n",
    "; セレクタ\n",
    "(define (left-branch tree) (car tree))\n",
    "(define (right-branch tree) (cadr tree))\n",
    "(define (symbols tree)\n",
    "  (if (leaf? tree) (list (symbol-leaf tree))\n",
    "      (caddr tree)\n",
    "    )\n",
    "  )\n",
    "(define (weight tree)\n",
    "  (if (leaf? tree) (weight-leaf tree)\n",
    "      (cadddr tree)\n",
    "    )\n",
    "  )\n",
    "\n",
    "(define (decode bits tree)\n",
    "  (define (decode-1 bits current-branch)\n",
    "    (if (null? bits) '()\n",
    "        (let ((next-branch (choose-branch (car bits) current-branch)))\n",
    "          (if (leaf? next-branch) (cons (symbol-leaf next-branch) (decode-1 (cdr bits) tree))\n",
    "              (decode-1 (cdr bits) next-branch))\n",
    "          )\n",
    "    )\n",
    "    )\n",
    "  (decode-1 bits tree)\n",
    ")  \n",
    "(define (choose-branch bit branch)\n",
    "  (cond ((= bit 0) (left-branch branch))\n",
    "        ((= bit 1) (right-branch branch))\n",
    "        (else (error \"bad bit: CHOOSE-BRANCH\" bit))\n",
    "        )\n",
    "  )\n",
    "\n",
    "(define (adjoin-set x set)\n",
    "  (cond ((null? set) (list x))\n",
    "        ((< (weight x) (weight (car set))) (cons x set))\n",
    "        (else (cons (car set) (adjoin-set x (cdr set))))))\n",
    "\n",
    "(define (make-leaf-set pairs)\n",
    "  (if (null? pairs) '()\n",
    "      (let ((pair (car pairs)))\n",
    "        (adjoin-set (make-leaf (car pair) ; symbol\n",
    "                               (cadr pair)) ; weight\n",
    "                    (make-leaf-set (cdr pairs)))\n",
    "        )\n",
    "    )\n",
    "  )"
   ]
  },
  {
   "cell_type": "code",
   "execution_count": 2,
   "metadata": {},
   "outputs": [],
   "source": [
    "; 符号化処理\n",
    "(define (encode-symbol symbol tree)\n",
    "  (define (iter sub result)\n",
    "    (if (leaf? sub)\n",
    "        (if (eq? (symbol-leaf sub) symbol) result\n",
    "            '())\n",
    "        (let ((l (left-branch sub))\n",
    "              (r (right-branch sub)))\n",
    "          (let ((l-result (iter l (append result '(0)))))\n",
    "            (if (not (null? l-result)) l-result\n",
    "                (iter r (append result '(1)))\n",
    "              )\n",
    "            )\n",
    "        )\n",
    "      )\n",
    "    )\n",
    "  (let ((result (iter tree '())))\n",
    "    (if (null? result) (error \"bad symbol: ENCODE\" symbol)\n",
    "        result\n",
    "        )\n",
    "    )\n",
    ")\n",
    "\n",
    "; 符号化処理 \n",
    "(define (encode message tree)\n",
    "    (if (null? message) '()\n",
    "        (append\n",
    "            (encode-symbol (car message) tree)\n",
    "            (encode (cdr message) tree))\n",
    "    )\n",
    ")"
   ]
  },
  {
   "cell_type": "code",
   "execution_count": 3,
   "metadata": {},
   "outputs": [],
   "source": [
    "; ハフマン符号木の生成の記号・頻度ペアのリストから、指定したペアを削除したリストを返す。\n",
    "(define (remove-set item set)\n",
    "  (if (null? set) '()\n",
    "      (if (equal? item (car set)) (remove-set item (cdr set))\n",
    "          (cons (car set) (remove-set item (cdr set)))\n",
    "      )\n",
    "  )\n",
    ")\n",
    "\n",
    "; 回答\n",
    "(define (successive-merge set)\n",
    "  (define (iter result)\n",
    "    (cond ((null? result) '())\n",
    "          ((= (length result) 1) (car result))\n",
    "          (else\n",
    "             (let ((top (car result))\n",
    "                   (next (cadr result))\n",
    "                   )\n",
    "               (let (\n",
    "                     (new-set (remove-set next (remove-set top result)))\n",
    "                     ;(new-set (cddr result)) ; remove-set手続きを使わなくてもcddrで代用可能\n",
    "                     )\n",
    "                   (iter (adjoin-set (make-code-tree top next) new-set))\n",
    "                 )\n",
    "               )\n",
    "           )\n",
    "        )\n",
    "    )\n",
    "  (iter set)\n",
    "  )\n",
    "\n",
    "(define (generate-huffman-tree pairs)\n",
    "    (successive-merge (make-leaf-set pairs)))"
   ]
  },
  {
   "cell_type": "code",
   "execution_count": 4,
   "metadata": {},
   "outputs": [
    {
     "data": {
      "text/plain": [
       "(((((leaf E 1) (leaf D 2) (E D) 3) (leaf C 4) (E D C) 7) (leaf B 8) (E D C B) 15) (leaf A 16) (E D C B A) 31)"
      ]
     },
     "execution_count": 4,
     "metadata": {},
     "output_type": "execute_result"
    }
   ],
   "source": [
    "; 2^(5-1)\n",
    "(define pairs1 '((A 16) (B 8) (C 4) (D 2) (E 1)))\n",
    "(define sample1 (generate-huffman-tree pairs1))\n",
    "sample1"
   ]
  },
  {
   "cell_type": "code",
   "execution_count": 5,
   "metadata": {},
   "outputs": [
    {
     "name": "stdout",
     "output_type": "stream",
     "text": [
      "(1)\n",
      "(0 1)\n",
      "(0 0 1)\n",
      "(0 0 0 1)\n",
      "(0 0 0 0)\n"
     ]
    }
   ],
   "source": [
    "; 単一の記号で動作確認\n",
    "(display (encode '(A) sample1))\n",
    "(newline)\n",
    "(display (encode '(B) sample1))\n",
    "(newline)\n",
    "(display (encode '(C) sample1))\n",
    "(newline)\n",
    "(display (encode '(D) sample1))\n",
    "(newline)\n",
    "(display (encode '(E) sample1))\n",
    "(newline)"
   ]
  },
  {
   "cell_type": "code",
   "execution_count": 6,
   "metadata": {},
   "outputs": [
    {
     "data": {
      "text/plain": [
       "((((((((((leaf J 1) (leaf I 2) (J I) 3) (leaf H 4) (J I H) 7) (leaf G 8) (J I H G) 15) (leaf F 16) (J I H G F) 31) (leaf E 32) (J I H G F E) 63) (leaf D 64) (J I H G F E D) 127) (leaf C 128) (J I H G F E D C) 255) (leaf B 256) (J I H G F E D C B) 511) (leaf A 512) (J I H G F E D C B A) 1023)"
      ]
     },
     "execution_count": 6,
     "metadata": {},
     "output_type": "execute_result"
    }
   ],
   "source": [
    "; 2^(10-1)\n",
    "(define pairs2 '((A 512) (B 256) (C 128) (D 64) (E 32) (F 16) (G 8) (H 4) (I 2) (J 1)))\n",
    "(define sample2 (generate-huffman-tree pairs2))\n",
    "sample2"
   ]
  },
  {
   "cell_type": "code",
   "execution_count": 7,
   "metadata": {},
   "outputs": [
    {
     "name": "stdout",
     "output_type": "stream",
     "text": [
      "(1)\n",
      "(0 1)\n",
      "(0 0 1)\n",
      "(0 0 0 1)\n",
      "(0 0 0 0 1)\n",
      "(0 0 0 0 0 1)\n",
      "(0 0 0 0 0 0 1)\n",
      "(0 0 0 0 0 0 0 1)\n",
      "(0 0 0 0 0 0 0 0 1)\n",
      "(0 0 0 0 0 0 0 0 0)\n"
     ]
    }
   ],
   "source": [
    "; 単一の記号で動作確認\n",
    "(display (encode '(A) sample2))\n",
    "(newline)\n",
    "(display (encode '(B) sample2))\n",
    "(newline)\n",
    "(display (encode '(C) sample2))\n",
    "(newline)\n",
    "(display (encode '(D) sample2))\n",
    "(newline)\n",
    "(display (encode '(E) sample2))\n",
    "(newline)\n",
    "(display (encode '(F) sample2))\n",
    "(newline)\n",
    "(display (encode '(G) sample2))\n",
    "(newline)\n",
    "(display (encode '(H) sample2))\n",
    "(newline)\n",
    "(display (encode '(I) sample2))\n",
    "(newline)\n",
    "(display (encode '(J) sample2))\n",
    "(newline)"
   ]
  }
 ],
 "metadata": {
  "kernelspec": {
   "display_name": "Calysto Scheme 3",
   "language": "scheme",
   "name": "calysto_scheme"
  },
  "language_info": {
   "codemirror_mode": {
    "name": "scheme"
   },
   "mimetype": "text/x-scheme",
   "name": "scheme",
   "pygments_lexer": "scheme"
  }
 },
 "nbformat": 4,
 "nbformat_minor": 4
}
