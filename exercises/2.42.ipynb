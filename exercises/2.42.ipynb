{
 "cells": [
  {
   "cell_type": "markdown",
   "metadata": {},
   "source": [
    "### 練習問題2.42\n",
    "\"8クイーンパズル\"とは、どのクイーンもほかのクイーンの利き筋に⼊らない  \n",
    "(つまり、同じ⾏・列・対⾓線の上に⼆つのクイーンがあるということがないようにする)ように  \n",
    "8個のクイーンをチェス盤の上に置く⽅法を問うものである。  \n",
    "図2.8に考えられる解のひとつを⽰す。  \n",
    "このパズルを解くひとつのやり⽅として、  \n",
    "各列にひとつのクイーンを置きながらチェス盤を横に移動していくというものがある。  \n",
    "$k−1$個のクイーンを置いた状態では、$k$個⽬のクイーンは、すでに盤上にあるどのクイーンも利き筋に⼊らない位置に置く必要がある。  \n",
    "この解き⽅は再帰的に定式化できる。最初の$k−1$列に$k−1$個のクイーンを置くパターンをすべて⽣成済みだと想定する。  \n",
    "それぞれのパターンに対して、$k$列⽬のそれぞれの⾏にクイーンを置いていって、  \n",
    "位置の集合を拡張したものを⽣成する。  \n",
    "次にこれらをフィルタして、$k$列⽬のクイーンがほかのクイ ーンに利かないものだけを残す。  \n",
    "こうすると、最初の$k$列に$k$個のクイーンを置くすべてのパターンの列ができる。  \n",
    "このプロセスを続けると、パズルの解答のひとつだけではなく、すべての解答が得られる。  \n",
    "この解き⽅をqueensという⼿続きとして実装し、  \n",
    "$n \\times n$のチェス盤に$n$個のクイーンを置くという問題に対するすべての答えの列を返すようにする。  \n",
    "queensは、盤の最初の$k$列にクイーンを置くすべてのパターンの列を返す内部⼿続きqueen-colsを持っている。\n",
    "\n",
    "    (define (queens board-size)\n",
    "      (define (queen-cols k)\n",
    "        (if (= k 0) (list empty-board)\n",
    "            (filter\n",
    "             (lambda (positions) (safe? k positions))\n",
    "              (flatmap (lambda (rest-of-queens)\n",
    "                        (map (lambda (new-row) (adjoin-position new-row k rest-of-queens))\n",
    "                             (enumerate-interval 1 board-size))\n",
    "                        )\n",
    "                      (queen-cols (- k 1))\n",
    "              )\n",
    "             )\n",
    "            )\n",
    "        )\n",
    "      (queen-cols board-size)\n",
    "      )\n",
    "      \n",
    "この⼿続きの中で、rest-of-queensは最初の$k−1$列に$k−1$個のクイーンを置くパターンのひとつで、  \n",
    "new-rowは$k$列⽬のクイーンを置く候補となる⾏である。  \n",
    "盤上の位置集合に対する表現⽅法と、位置集合に新しい⾏・列の位置を追加するadjoin-position⼿続きと  \n",
    "位置の空集合を表すempty-boardを実装し、プログラムを完成させよ。  \n",
    "また、位置集合に対して、$k$列⽬のクイーンがほかのクイーンに利いていないかを調べるsafe?⼿続きも書く必要がある  \n",
    "(新しいクイーンの利きだけをチェックすればいいということに注意。  \n",
    "ほかのクイーンは互いに利いていないことが保証済みである)。 "
   ]
  },
  {
   "cell_type": "markdown",
   "metadata": {},
   "source": [
    "<img src=\"2.8.png\" width=\"50%\">\n",
    "\n",
    "<div style=\"text-align:center;\">図2.8:8クイーンパズルのひとつの解</div>"
   ]
  },
  {
   "cell_type": "markdown",
   "metadata": {},
   "source": [
    "チェスの駒の動きについては以下を参照。  \n",
    "http://www.jca-chess.com/chess-2.htm"
   ]
  },
  {
   "cell_type": "markdown",
   "metadata": {},
   "source": [
    "<img src=\"2.42-01.png\" width=\"100%\">\n",
    "\n",
    "<div style=\"text-align: center;\">駒の動きとこの回答での駒の位置の表し方</div>"
   ]
  },
  {
   "cell_type": "markdown",
   "metadata": {},
   "source": [
    "基本な戦略としては、  \n",
    "「8x8のチェス盤に8個のクイーンを互いに取り合わない座標を列挙する」だから、\n",
    "\n",
    "1. 同じ列に2つ以上のクイーンは置かない→各列にクイーンを配置する\n",
    "2. 各クイーンの互いのy座標は重複しない\n",
    "3. 各クイーンの互いは対角線上にない\n",
    "\n",
    "を満たす、組み合わせを列挙すればよい。  \n",
    "\n",
    "この問題の解き方としては、各列のクイーンのy座標を列挙すればいいので、  \n",
    "1つの組み合わせ候補を(1 5 8 6 3 7 2 4)のようなy座標のリストとして表す。  \n",
    "各クイーンのx座標はこのリストのインデックス(1オリジン)と分かるので敢えて明記はしないこととする。  \n",
    "\n",
    "2.と3.についてはsafe?手続きでOKとなる組み合わせとなるかチェックする。  \n",
    "全体的な考え方としては、\n",
    "- 1列目から候補リストのリストを作成\n",
    "- 作成した候補リストのリストをsafe?手続きでフィルタする(NGとなるものはそぎ落とす)\n",
    "- フィルタ後のリストに2列目のy座標を加えて、候補リストのリストを作成\n",
    "- 作成した候補リストのリストをsafe?手続きでフィルタする(NGとなるものはそぎ落とす)\n",
    "- ・・・  \n",
    "\n",
    "という動作を8列目まで繰り返す。"
   ]
  },
  {
   "cell_type": "code",
   "execution_count": 1,
   "metadata": {},
   "outputs": [],
   "source": [
    "; 問題文のqueens手続き\n",
    "; 以下の定義が必要\n",
    "; ・empty-board\n",
    "; ・safe?手続き\n",
    "; ・adjoin-position手続き\n",
    "(define (queens board-size)\n",
    "  (define (queen-cols k)\n",
    "    (if (= k 0) (list empty-board)\n",
    "        (filter\n",
    "         (lambda (positions) (safe? k positions))\n",
    "          (flatmap (lambda (rest-of-queens)\n",
    "                    (map (lambda (new-row) (adjoin-position new-row k rest-of-queens))\n",
    "                         (enumerate-interval 1 board-size))\n",
    "                    )\n",
    "                  (queen-cols (- k 1))\n",
    "          )\n",
    "         )\n",
    "        )\n",
    "    )\n",
    "  (queen-cols board-size)\n",
    "  )\n",
    "\n",
    "(define (flatmap proc seq)\n",
    "  (accumulate append '() (map proc seq)))\n",
    "\n",
    "; 整数列の列挙\n",
    "(define (enumerate-interval low high)\n",
    "  (if (> low high) '()\n",
    "      (cons low (enumerate-interval (+ low 1) high))))\n",
    "\n",
    "; 集積\n",
    "(define (accumulate op initial sequence)\n",
    "  (if (null? sequence) initial\n",
    "      (op (car sequence) (accumulate op initial (cdr sequence)))))\n",
    "\n",
    "; フィルタリング\n",
    "(define (filter predicate sequence)\n",
    "  (cond ((null? sequence) '())\n",
    "        ((predicate (car sequence))(cons (car sequence) (filter predicate (cdr sequence))))\n",
    "        (else (filter predicate (cdr sequence))))\n",
    "  )\n",
    "\n",
    "; 回答1\n",
    "(define empty-board ())\n"
   ]
  },
  {
   "cell_type": "code",
   "execution_count": 2,
   "metadata": {},
   "outputs": [
    {
     "data": {
      "text/plain": [
       "((2 4 1 1) (2 4 1 2) (2 4 1 3) (2 4 1 4))"
      ]
     },
     "execution_count": 2,
     "metadata": {},
     "output_type": "execute_result"
    }
   ],
   "source": [
    "; 回答2\n",
    "; adjoin-position手続きの呼び出し方が決まっているため、\n",
    "; この回答しかないはず。\n",
    "; 列ごとの位置(Y座標)をリストで表す。\n",
    "(define (adjoin-position new-row k rest-of-queens)\n",
    "  (append rest-of-queens (list new-row))\n",
    "  )\n",
    "  \n",
    "(define k 4)\n",
    "(define board-size 4)\n",
    "(define rest-of-queens (list 2 4 1))\n",
    "(map (lambda (new-row) (adjoin-position new-row k rest-of-queens))\n",
    "     (enumerate-interval 1 board-size))"
   ]
  },
  {
   "cell_type": "markdown",
   "metadata": {},
   "source": [
    "<img src=\"2.42-02.png\" width=\"100%\">\n",
    "<img src=\"2.42-03.png\" width=\"100%\">\n",
    "\n",
    "<div style=\"text-align: center;\">safe?手続きの考え方</div>"
   ]
  },
  {
   "cell_type": "code",
   "execution_count": 3,
   "metadata": {},
   "outputs": [
    {
     "data": {
      "text/plain": [
       "#t"
      ]
     },
     "execution_count": 3,
     "metadata": {},
     "output_type": "execute_result"
    }
   ],
   "source": [
    "; k列目の位置のy座標を返す\n",
    "(define (get-k-y k positions)\n",
    "  (define (iter count pos)\n",
    "    (if (>= count k) (car pos)\n",
    "        (iter (+ count 1) (cdr pos))\n",
    "        )\n",
    "    )\n",
    "  (iter 1 positions)\n",
    "  )\n",
    "\n",
    "; 回答3\n",
    "(define (safe? k positions)\n",
    "  (let ((k-y-pos (get-k-y k positions)))\n",
    "    (define (iter count pos)\n",
    "      (if (>= count k) #t\n",
    "        (if (null? pos) #t\n",
    "            (let ((y (car pos)))\n",
    "              (let ((y-upper (- y (- k count)))\n",
    "                    (y-lower (+ y (- k count))))\n",
    "                ; y座標が同じか、対角線上にあればFalseを返す。\n",
    "                ; それ以外はチェックを継続する。\n",
    "                (if (or (= k-y-pos y) (= k-y-pos y-upper) (= k-y-pos y-lower)) #f\n",
    "                    (iter (+ count 1) (cdr pos))\n",
    "                    )\n",
    "                )\n",
    "              )\n",
    "            )\n",
    "        )\n",
    "      )\n",
    "      (iter 1 positions)\n",
    "    )\n",
    "  )\n",
    "\n",
    ";(safe? 4 (list 1 2 3 4))\n",
    ";(safe? 3 (list 2 4 1 3))\n",
    "(safe? 4 (list 2 4 1 3))"
   ]
  },
  {
   "cell_type": "code",
   "execution_count": 4,
   "metadata": {},
   "outputs": [
    {
     "data": {
      "text/plain": [
       "()"
      ]
     },
     "execution_count": 4,
     "metadata": {},
     "output_type": "execute_result"
    }
   ],
   "source": [
    "(queens 3)"
   ]
  },
  {
   "cell_type": "code",
   "execution_count": 5,
   "metadata": {},
   "outputs": [
    {
     "data": {
      "text/plain": [
       "((2 4 1 3) (3 1 4 2))"
      ]
     },
     "execution_count": 5,
     "metadata": {},
     "output_type": "execute_result"
    }
   ],
   "source": [
    "(queens 4)"
   ]
  },
  {
   "cell_type": "code",
   "execution_count": 6,
   "metadata": {},
   "outputs": [
    {
     "data": {
      "text/plain": [
       "((2 4 6 1 3 5) (3 6 2 5 1 4) (4 1 5 2 6 3) (5 3 1 6 4 2))"
      ]
     },
     "execution_count": 6,
     "metadata": {},
     "output_type": "execute_result"
    }
   ],
   "source": [
    "(queens 6)"
   ]
  },
  {
   "cell_type": "code",
   "execution_count": 7,
   "metadata": {},
   "outputs": [
    {
     "data": {
      "text/plain": [
       "((1 5 8 6 3 7 2 4) (1 6 8 3 7 4 2 5) (1 7 4 6 8 2 5 3) (1 7 5 8 2 4 6 3) (2 4 6 8 3 1 7 5) (2 5 7 1 3 8 6 4) (2 5 7 4 1 8 6 3) (2 6 1 7 4 8 3 5) (2 6 8 3 1 4 7 5) (2 7 3 6 8 5 1 4) (2 7 5 8 1 4 6 3) (2 8 6 1 3 5 7 4) (3 1 7 5 8 2 4 6) (3 5 2 8 1 7 4 6) (3 5 2 8 6 4 7 1) (3 5 7 1 4 2 8 6) (3 5 8 4 1 7 2 6) (3 6 2 5 8 1 7 4) (3 6 2 7 1 4 8 5) (3 6 2 7 5 1 8 4) (3 6 4 1 8 5 7 2) (3 6 4 2 8 5 7 1) (3 6 8 1 4 7 5 2) (3 6 8 1 5 7 2 4) (3 6 8 2 4 1 7 5) (3 7 2 8 5 1 4 6) (3 7 2 8 6 4 1 5) (3 8 4 7 1 6 2 5) (4 1 5 8 2 7 3 6) (4 1 5 8 6 3 7 2) (4 2 5 8 6 1 3 7) (4 2 7 3 6 8 1 5) (4 2 7 3 6 8 5 1) (4 2 7 5 1 8 6 3) (4 2 8 5 7 1 3 6) (4 2 8 6 1 3 5 7) (4 6 1 5 2 8 3 7) (4 6 8 2 7 1 3 5) (4 6 8 3 1 7 5 2) (4 7 1 8 5 2 6 3) (4 7 3 8 2 5 1 6) (4 7 5 2 6 1 3 8) (4 7 5 3 1 6 8 2) (4 8 1 3 6 2 7 5) (4 8 1 5 7 2 6 3) (4 8 5 3 1 7 2 6) (5 1 4 6 8 2 7 3) (5 1 8 4 2 7 3 6) (5 1 8 6 3 7 2 4) (5 2 4 6 8 3 1 7) (5 2 4 7 3 8 6 1) (5 2 6 1 7 4 8 3) (5 2 8 1 4 7 3 6) (5 3 1 6 8 2 4 7) (5 3 1 7 2 8 6 4) (5 3 8 4 7 1 6 2) (5 7 1 3 8 6 4 2) (5 7 1 4 2 8 6 3) (5 7 2 4 8 1 3 6) (5 7 2 6 3 1 4 8) (5 7 2 6 3 1 8 4) (5 7 4 1 3 8 6 2) (5 8 4 1 3 6 2 7) (5 8 4 1 7 2 6 3) (6 1 5 2 8 3 7 4) (6 2 7 1 3 5 8 4) (6 2 7 1 4 8 5 3) (6 3 1 7 5 8 2 4) (6 3 1 8 4 2 7 5) (6 3 1 8 5 2 4 7) (6 3 5 7 1 4 2 8) (6 3 5 8 1 4 2 7) (6 3 7 2 4 8 1 5) (6 3 7 2 8 5 1 4) (6 3 7 4 1 8 2 5) (6 4 1 5 8 2 7 3) (6 4 2 8 5 7 1 3) (6 4 7 1 3 5 2 8) (6 4 7 1 8 2 5 3) (6 8 2 4 1 7 5 3) (7 1 3 8 6 4 2 5) (7 2 4 1 8 5 3 6) (7 2 6 3 1 4 8 5) (7 3 1 6 8 5 2 4) (7 3 8 2 5 1 6 4) (7 4 2 5 8 1 3 6) (7 4 2 8 6 1 3 5) (7 5 3 1 6 8 2 4) (8 2 4 1 7 5 3 6) (8 2 5 3 1 7 4 6) (8 3 1 6 2 5 7 4) (8 4 1 3 6 2 7 5))"
      ]
     },
     "execution_count": 7,
     "metadata": {},
     "output_type": "execute_result"
    }
   ],
   "source": [
    "(queens 8)"
   ]
  },
  {
   "cell_type": "markdown",
   "metadata": {},
   "source": [
    "8クイーンパズルの解法プログラムのプロセス図については、  \n",
    "[練習問題2.43 間違った8クイーンパズルの回答](../exercises/2.43.ipynb)  \n",
    "で説明する。"
   ]
  }
 ],
 "metadata": {
  "kernelspec": {
   "display_name": "Calysto Scheme 3",
   "language": "scheme",
   "name": "calysto_scheme"
  },
  "language_info": {
   "codemirror_mode": {
    "name": "scheme"
   },
   "mimetype": "text/x-scheme",
   "name": "scheme",
   "pygments_lexer": "scheme"
  }
 },
 "nbformat": 4,
 "nbformat_minor": 4
}
