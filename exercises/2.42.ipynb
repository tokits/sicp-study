{
 "cells": [
  {
   "cell_type": "markdown",
   "metadata": {},
   "source": [
    "### 練習問題2.42\n",
    "\"8クイーンパズル\"とは、どのクイーンもほかのクイーンの利き筋に⼊らない  \n",
    "(つまり、同じ⾏・列・対⾓線の上に⼆つのクイーンがあるということがないようにする)ように  \n",
    "8個のクイーンをチェス盤の上に置く⽅法を問うものである。  \n",
    "図2.8に考えられる解のひとつを⽰す。  \n",
    "このパズルを解くひとつのやり⽅として、  \n",
    "各列にひとつのクイーンを置きながらチェス盤を横に移動していくというものがある。  \n",
    "$k−1$個のクイーンを置いた状態では、$k$個⽬のクイーンは、すでに盤上にあるどのクイーンも利き筋に⼊らない位置に置く必要がある。  \n",
    "この解き⽅は再帰的に定式化できる。最初の$k−1$列に$k−1$個のクイーンを置くパターンをすべて⽣成済みだと想定する。  \n",
    "それぞれのパターンに対して、$k$列⽬のそれぞれの⾏にクイーンを置いていって、  \n",
    "位置の集合を拡張したものを⽣成する。  \n",
    "次にこれらをフィルタして、$k$列⽬のクイーンがほかのクイ ーンに利かないものだけを残す。  \n",
    "こうすると、最初の$k$列に$k$個のクイーンを置くすべてのパターンの列ができる。  \n",
    "このプロセスを続けると、パズルの解答のひとつだけではなく、すべての解答が得られる。  \n",
    "この解き⽅をqueensという⼿続きとして実装し、  \n",
    "$n \\times n$のチェス盤に$n$個のクイーンを置くという問題に対するすべての答えの列を返すようにする。  \n",
    "queensは、盤の最初の$k$列にクイーンを置くすべてのパターンの列を返す内部⼿続きqueen-colsを持っている。\n",
    "\n",
    "    (define (queens board-size)\n",
    "      (define (queen-cols k)\n",
    "        (if (= k 0) (list empty-board)\n",
    "            (filter\n",
    "             (lambda (positions) (safe? k positions))\n",
    "              (flatmap (lambda (rest-of-queens)\n",
    "                        (map (lambda (new-row) (adjoin-position new-row k rest-of-queens))\n",
    "                             (enumerate-interval 1 board-size))\n",
    "                        )\n",
    "                      (queen-cols (- k 1))\n",
    "              )\n",
    "             )\n",
    "            )\n",
    "        )\n",
    "      (queen-cols board-size)\n",
    "      )\n",
    "      \n",
    "この⼿続きの中で、rest-of-queensは最初の$k−1$列に$k−1$個のクイーンを置くパターンのひとつで、  \n",
    "new-rowは$k$列⽬のクイーンを置く候補となる⾏である。  \n",
    "盤上の位置集合に対する表現⽅法と、位置集合に新しい⾏・列の位置を追加するadjoin-position⼿続きと  \n",
    "位置の空集合を表すempty-boardを実装し、プログラムを完成させよ。  \n",
    "また、位置集合に対して、$k$列⽬のクイーンがほかのクイーンに利いていないかを調べるsafe?⼿続きも書く必要がある  \n",
    "(新しいクイーンの利きだけをチェックすればいいということに注意。  \n",
    "ほかのクイーンは互いに利いていないことが保証済みである)。 "
   ]
  },
  {
   "cell_type": "code",
   "execution_count": 1,
   "metadata": {},
   "outputs": [],
   "source": [
    "; 問題文のqueens手続き\n",
    "; 以下の定義が必要\n",
    "; ・empty-board\n",
    "; ・safe?手続き\n",
    "; ・adjoin-position手続き\n",
    "(define (queens board-size)\n",
    "  (define (queen-cols k)\n",
    "    (if (= k 0) (list empty-board)\n",
    "        (filter\n",
    "         (lambda (positions) (safe? k positions))\n",
    "          (flatmap (lambda (rest-of-queens)\n",
    "                    (map (lambda (new-row) (adjoin-position new-row k rest-of-queens))\n",
    "                         (enumerate-interval 1 board-size))\n",
    "                    )\n",
    "                  (queen-cols (- k 1))\n",
    "          )\n",
    "         )\n",
    "        )\n",
    "    )\n",
    "  (queen-cols board-size)\n",
    "  )\n",
    "\n",
    "(define (flatmap proc seq)\n",
    "  (accumulate append '() (map proc seq)))\n",
    "\n",
    "; 整数列の列挙\n",
    "(define (enumerate-interval low high)\n",
    "  (if (> low high) '()\n",
    "      (cons low (enumerate-interval (+ low 1) high))))\n",
    "\n",
    "; 集積\n",
    "(define (accumulate op initial sequence)\n",
    "  (if (null? sequence) initial\n",
    "      (op (car sequence) (accumulate op initial (cdr sequence)))))\n",
    "\n",
    "; フィルタリング\n",
    "(define (filter predicate sequence)\n",
    "  (cond ((null? sequence) '())\n",
    "        ((predicate (car sequence))(cons (car sequence) (filter predicate (cdr sequence))))\n",
    "        (else (filter predicate (cdr sequence))))\n",
    "  )\n",
    "\n",
    "; 回答1\n",
    "(define empty-board ())\n"
   ]
  },
  {
   "cell_type": "code",
   "execution_count": 2,
   "metadata": {},
   "outputs": [
    {
     "data": {
      "text/plain": [
       "(((1 . 2) (2 . 4) (3 . 1) (4 . 1)) ((1 . 2) (2 . 4) (3 . 1) (4 . 2)) ((1 . 2) (2 . 4) (3 . 1) (4 . 3)) ((1 . 2) (2 . 4) (3 . 1) (4 . 4)))"
      ]
     },
     "execution_count": 2,
     "metadata": {},
     "output_type": "execute_result"
    }
   ],
   "source": [
    "(define (make-pos x y)(cons x y))\n",
    "(define (x-pos p)(car p))\n",
    "(define (y-pos p)(cdr p))\n",
    "\n",
    "; 回答2\n",
    "; adjoin-position手続きの呼び出し方が決まっているため、\n",
    "; この回答しかないはず。\n",
    "(define (adjoin-position new-row k rest-of-queens)\n",
    "  (append rest-of-queens (list (make-pos k new-row)))\n",
    "  )\n",
    "  \n",
    "(define k 4)\n",
    "(define board-size 4)\n",
    "(define rest-of-queens (list (make-pos 1 2) (make-pos 2 4) (make-pos 3 1)))\n",
    "(map (lambda (new-row) (adjoin-position new-row k rest-of-queens))\n",
    "     (enumerate-interval 1 board-size))\n",
    "\n",
    ";(x-pos (make-pos 1 2))\n",
    ";(y-pos (make-pos 1 2))\n"
   ]
  },
  {
   "cell_type": "code",
   "execution_count": 3,
   "metadata": {},
   "outputs": [],
   "source": [
    "\n",
    "(define (same-row? row l)\n",
    "  (cond ((null? l) #f)\n",
    "        (else (or\n",
    "                 (= row (y-pos (car l)))\n",
    "                 (same-row? row (cdr l))\n",
    "               )\n",
    "          )\n",
    "      )\n",
    "  )\n",
    "\n",
    "; 各行異なることは確認できる。\n",
    "; 各列について位置情報をリストに追加するので、\n",
    "; 列については元々異なっているので、チェックしていない。\n",
    "; 対角線のチェックが出来ていない。\n",
    "(define (safe? k positions)\n",
    "  (if (<= k 1) #t\n",
    "      (if (null? positions) #t\n",
    "          (if (same-row? (y-pos (car positions)) (cdr positions)) #f\n",
    "              (safe? k (cdr positions))\n",
    "           )\n",
    "      )\n",
    "    )\n",
    "  )\n",
    "\n",
    ";(define (safe? k positions) #t)\n",
    ";(car (list (make-pos 1 2) (make-pos 2 4) (make-pos 3 1)))\n",
    ";(cdr (list (make-pos 1 2) (make-pos 2 4) (make-pos 3 1)))\n",
    ";(same-col? 3 (list (make-pos 1 2) (make-pos 2 4) (make-pos 3 1)))\n",
    "\n",
    ";(define (diagonal k size positions)\n",
    ";  \n",
    ";  )\n"
   ]
  },
  {
   "cell_type": "code",
   "execution_count": 4,
   "metadata": {},
   "outputs": [
    {
     "data": {
      "text/plain": [
       "(((1 . 1) (2 . 2) (3 . 3)) ((1 . 1) (2 . 3) (3 . 2)) ((1 . 2) (2 . 1) (3 . 3)) ((1 . 2) (2 . 3) (3 . 1)) ((1 . 3) (2 . 1) (3 . 2)) ((1 . 3) (2 . 2) (3 . 1)))"
      ]
     },
     "execution_count": 4,
     "metadata": {},
     "output_type": "execute_result"
    }
   ],
   "source": [
    "(queens 3)"
   ]
  },
  {
   "cell_type": "code",
   "execution_count": 5,
   "metadata": {},
   "outputs": [
    {
     "data": {
      "text/plain": [
       "(((1 . 1) (2 . 2) (3 . 3) (4 . 4)) ((1 . 1) (2 . 2) (3 . 4) (4 . 3)) ((1 . 1) (2 . 3) (3 . 2) (4 . 4)) ((1 . 1) (2 . 3) (3 . 4) (4 . 2)) ((1 . 1) (2 . 4) (3 . 2) (4 . 3)) ((1 . 1) (2 . 4) (3 . 3) (4 . 2)) ((1 . 2) (2 . 1) (3 . 3) (4 . 4)) ((1 . 2) (2 . 1) (3 . 4) (4 . 3)) ((1 . 2) (2 . 3) (3 . 1) (4 . 4)) ((1 . 2) (2 . 3) (3 . 4) (4 . 1)) ((1 . 2) (2 . 4) (3 . 1) (4 . 3)) ((1 . 2) (2 . 4) (3 . 3) (4 . 1)) ((1 . 3) (2 . 1) (3 . 2) (4 . 4)) ((1 . 3) (2 . 1) (3 . 4) (4 . 2)) ((1 . 3) (2 . 2) (3 . 1) (4 . 4)) ((1 . 3) (2 . 2) (3 . 4) (4 . 1)) ((1 . 3) (2 . 4) (3 . 1) (4 . 2)) ((1 . 3) (2 . 4) (3 . 2) (4 . 1)) ((1 . 4) (2 . 1) (3 . 2) (4 . 3)) ((1 . 4) (2 . 1) (3 . 3) (4 . 2)) ((1 . 4) (2 . 2) (3 . 1) (4 . 3)) ((1 . 4) (2 . 2) (3 . 3) (4 . 1)) ((1 . 4) (2 . 3) (3 . 1) (4 . 2)) ((1 . 4) (2 . 3) (3 . 2) (4 . 1)))"
      ]
     },
     "execution_count": 5,
     "metadata": {},
     "output_type": "execute_result"
    }
   ],
   "source": [
    "(queens 4)"
   ]
  }
 ],
 "metadata": {
  "kernelspec": {
   "display_name": "Calysto Scheme 3",
   "language": "scheme",
   "name": "calysto_scheme"
  },
  "language_info": {
   "codemirror_mode": {
    "name": "scheme"
   },
   "mimetype": "text/x-scheme",
   "name": "scheme",
   "pygments_lexer": "scheme"
  }
 },
 "nbformat": 4,
 "nbformat_minor": 4
}
