{
 "cells": [
  {
   "cell_type": "markdown",
   "metadata": {},
   "source": [
    "### 練習問題2.22\n",
    "LouisReasonerは練習問題2.21の⼀つ⽬のsquare-list手続きを書き直し、反復プロセスを展開するようにしようと している。  \n",
    "\n",
    "    (define (square-list items)\n",
    "      (define (iter things answer)\n",
    "        (if (null? things) answer\n",
    "            (iter (cdr things) (cons (square (car things)) answer))))\n",
    "       (iter items nil))  \n",
    "    \n",
    "残念ながら、このようにsquare-listを定義すると、答えとなるリストは望むものの逆順になってしまう。なぜだろうか。  \n",
    "それから、Louisはconsの引数を逆順にしてバグを直そうとした。 \n",
    "\n",
    "    (define (square-list items)\n",
    "      (define (iter things answer)\n",
    "        (if (null? things) answer\n",
    "            (iter (cdr things) (cons answer (square (car things))))))\n",
    "      (iter items nil))\n",
    "\n",
    "これもうまくいかない。説明せよ。 "
   ]
  },
  {
   "cell_type": "code",
   "execution_count": 1,
   "metadata": {},
   "outputs": [],
   "source": [
    "(define (square x)(* x x))"
   ]
  },
  {
   "cell_type": "code",
   "execution_count": 2,
   "metadata": {},
   "outputs": [
    {
     "name": "stdout",
     "output_type": "stream",
     "text": [
      "(1 2 3 4) ()\n",
      "(2 3 4) (1)\n",
      "(3 4) (4 1)\n",
      "(4) (9 4 1)\n",
      "() (16 9 4 1)\n"
     ]
    },
    {
     "data": {
      "text/plain": [
       "(16 9 4 1)"
      ]
     },
     "execution_count": 2,
     "metadata": {},
     "output_type": "execute_result"
    }
   ],
   "source": [
    "; 最初の定義\n",
    "(define (square-list items)\n",
    "  (define (iter things answer)\n",
    "    (begin\n",
    "      (display things)\n",
    "      (display \" \")\n",
    "      (display answer)\n",
    "      (newline)\n",
    "      (if (null? things) answer\n",
    "        (iter (cdr things) (cons (square (car things)) answer))\n",
    "        )\n",
    "      )\n",
    "    )\n",
    "  (iter items ())\n",
    "  )\n",
    "(square-list (list 1 2 3 4))"
   ]
  },
  {
   "cell_type": "markdown",
   "metadata": {},
   "source": [
    "(list 1 2 3 4)を動作させると以下のようになる。\n",
    "((things answer)のトレース)\n",
    "\n",
    "    (1 2 3 4) ()\n",
    "    (2 3 4) (cons 1 ())\n",
    "    (3 4) (cons 4 ((1 ())))\n",
    "    (4) (cons 9 (4 ((1 ()))))\n",
    "    () (cons 16 (9 (4 ((1 ())))))\n",
    "\n",
    "よって、最終的な処理結果として、\n",
    "\n",
    "    (16 (9 (4 ((1 ())))))\n",
    "    =\n",
    "    (16 9 4 1)\n",
    "    \n",
    "となる。  \n",
    "この手続きとしては末尾から構築してしまうことになり、  \n",
    "逆順となる。"
   ]
  },
  {
   "cell_type": "code",
   "execution_count": 3,
   "metadata": {},
   "outputs": [
    {
     "data": {
      "text/plain": [
       "((((() . 1) . 4) . 9) . 16)"
      ]
     },
     "execution_count": 3,
     "metadata": {},
     "output_type": "execute_result"
    }
   ],
   "source": [
    "; 修正版\n",
    "(define (square-list items)\n",
    "  (define (iter things answer)\n",
    "    (if (null? things) answer\n",
    "        (iter (cdr things) (cons answer (square (car things))))))\n",
    "  (iter items ()))\n",
    "(square-list (list 1 2 3 4))"
   ]
  },
  {
   "cell_type": "markdown",
   "metadata": {},
   "source": [
    "cons手続きの引数の順序を変えると、  \n",
    "listの定義に合わないため、  \n",
    "リストではなくなっている。"
   ]
  },
  {
   "cell_type": "code",
   "execution_count": 4,
   "metadata": {},
   "outputs": [
    {
     "data": {
      "text/plain": [
       "(1 4 9 16)"
      ]
     },
     "execution_count": 4,
     "metadata": {},
     "output_type": "execute_result"
    }
   ],
   "source": [
    "; もし、反復プロセスで無理に書こうと思えば、\n",
    "; append手続きでリスト同士を結合するというやり方がある。\n",
    "; この方法では、反復プロセスだが、毎回でappend手続きで新しくリストを構築しているので、\n",
    "; 全体的にみると効率的なやり方ではないと思われる。\n",
    "(define (square-list items)\n",
    "  (define (iter things answer)\n",
    "    (if (null? things) answer\n",
    "        (iter (cdr things) (append answer (list (square (car things)))))))\n",
    "  (iter items ()))\n",
    "(square-list (list 1 2 3 4))"
   ]
  }
 ],
 "metadata": {
  "kernelspec": {
   "display_name": "Calysto Scheme 3",
   "language": "scheme",
   "name": "calysto_scheme"
  },
  "language_info": {
   "codemirror_mode": {
    "name": "scheme"
   },
   "mimetype": "text/x-scheme",
   "name": "scheme",
   "pygments_lexer": "scheme"
  }
 },
 "nbformat": 4,
 "nbformat_minor": 4
}
