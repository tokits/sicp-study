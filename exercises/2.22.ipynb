{
 "cells": [
  {
   "cell_type": "markdown",
   "metadata": {},
   "source": [
    "### 練習問題2.22\n",
    "LouisReasonerは練習問題2.21の⼀つ⽬のsquare-list⼿続きを書き直し、反復プロセスを展開するようにしようと している。  \n",
    "\n",
    "    (define (square-list items)\n",
    "      (define (iter things answer)\n",
    "        (if (null? things) answer\n",
    "            (iter (cdr things) (cons (square (car things)) answer))))\n",
    "       (iter items nil))  \n",
    "    \n",
    "残念ながら、このようにsquare-listを定義すると、答えとなるリストは望むものの逆順になってしまう。なぜだろうか。  \n",
    "それから、Louisはconsの引数を逆順にしてバグを直そうとした。 \n",
    "\n",
    "    (define (square-list items)\n",
    "      (define (iter things answer)\n",
    "        (if (null? things) answer\n",
    "            (iter (cdr things) (cons answer (square (car things))))))\n",
    "      (iter items nil))\n",
    "\n",
    "これもうまくいかない。説明せよ。 "
   ]
  },
  {
   "cell_type": "code",
   "execution_count": 1,
   "metadata": {},
   "outputs": [],
   "source": [
    "(define (square x)(* x x))"
   ]
  },
  {
   "cell_type": "code",
   "execution_count": null,
   "metadata": {},
   "outputs": [
    {
     "name": "stdout",
     "output_type": "stream",
     "text": [
      "(1 2 3 4) ()\n",
      "(2 3 4) (1)\n",
      "(3 4) (4 1)\n",
      "(4) (9 4 1)\n",
      "()"
     ]
    }
   ],
   "source": [
    "; 最初の定義\n",
    "(define (square-list items)\n",
    "  (define (iter things answer)\n",
    "    (begin\n",
    "      (display things)\n",
    "      (display \" \")\n",
    "      (display answer)\n",
    "      (newline)\n",
    "      (if (null? things) answer\n",
    "        (iter (cdr things) (cons (square (car things)) answer))\n",
    "        )\n",
    "      )\n",
    "    )\n",
    "  (iter items ())\n",
    "  )\n",
    "(square-list (list 1 2 3 4))"
   ]
  },
  {
   "cell_type": "markdown",
   "metadata": {},
   "source": [
    "(list 1 2 3 4)を動作させると以下のようになる。\n",
    "((things answer)のトレース)\n",
    "\n",
    "    (1 2 3 4) ()\n",
    "    (2 3 4) (cons 1 ())\n",
    "    (3 4) (cons 4 ((1 ())))\n",
    "    (4) (cons 9 (4 ((1 ()))))\n",
    "    () (cons 16 (9 (4 ((1 ())))))\n",
    "\n",
    "よって、最終的な処理結果として、\n",
    "\n",
    "    (16 (9 (4 ((1 ())))))\n",
    "    =\n",
    "    (16 9 4 1)\n",
    "    \n",
    "となる。  \n",
    "この手続きとしては末尾から構築してしまうことになり、  \n",
    "逆順となる。"
   ]
  },
  {
   "cell_type": "code",
   "execution_count": null,
   "metadata": {},
   "outputs": [],
   "source": [
    "; 修正版\n",
    "(define (square-list items)\n",
    "  (define (iter things answer)\n",
    "    (if (null? things) answer\n",
    "        (iter (cdr things) (cons answer (square (car things))))))\n",
    "  (iter items ()))\n",
    "(square-list (list 1 2 3 4))"
   ]
  },
  {
   "cell_type": "markdown",
   "metadata": {},
   "source": [
    "cons手続きの引数の順序を変えると、  \n",
    "listの定義に合わないため、  \n",
    "リストではなくなっている。"
   ]
  }
 ],
 "metadata": {
  "kernelspec": {
   "display_name": "Calysto Scheme 3",
   "language": "scheme",
   "name": "calysto_scheme"
  },
  "language_info": {
   "codemirror_mode": {
    "name": "scheme"
   },
   "mimetype": "text/x-scheme",
   "name": "scheme",
   "pygments_lexer": "scheme"
  }
 },
 "nbformat": 4,
 "nbformat_minor": 4
}
