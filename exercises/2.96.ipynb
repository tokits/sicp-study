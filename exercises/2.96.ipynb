{
 "cells": [
  {
   "cell_type": "markdown",
   "metadata": {},
   "source": [
    "### 練習問題2.96\n",
    "\n",
    "a. ⼿続き pseudoremainder-terms を実装せよ。<br />\n",
    "これは remainder-terms と同じようなものになるが、div-terms を呼ぶ前に、<br />\n",
    "上で述べた整数化因数を被除数にかけるというところが違う。<br />\n",
    "gcd-terms を修正して pseudoremainder-terms を使うようにし、<br />\n",
    "greatest-common-divisor が[練習問題2.95](2.95.ipynb)の例に対して整数係数の答えを返すようになっていることを確認せよ。<br />\n",
    "\n",
    "b. これで gcd は整数係数になる。しかし、係数は $P1$ の係数よりも⼤きくなる。<br />\n",
    "gcd-terms を修正し、答えの係数すべての(整数の) 最⼤公約数で係数を割ることに<br />\n",
    "よって答えの係数から共通因数を取り除くようにせよ。<br />"
   ]
  },
  {
   "cell_type": "markdown",
   "metadata": {},
   "source": [
    "[aの回答](2.96-a.ipynb) <br/>\n",
    "[bの回答](2.96-b.ipynb)"
   ]
  }
 ],
 "metadata": {
  "kernelspec": {
   "display_name": "Calysto Scheme 3",
   "language": "scheme",
   "name": "calysto_scheme"
  },
  "language_info": {
   "codemirror_mode": {
    "name": "scheme"
   },
   "mimetype": "text/x-scheme",
   "name": "scheme",
   "pygments_lexer": "scheme"
  }
 },
 "nbformat": 4,
 "nbformat_minor": 4
}
