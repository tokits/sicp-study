{
 "cells": [
  {
   "cell_type": "markdown",
   "metadata": {},
   "source": [
    "### 練習問題2.30\n",
    "練習問題2.21のsquare-listと似たような⼿続きsquare-treeを定義せよ。  \n",
    "square-treeは以下のように動作する。  \n",
    "\n",
    "    (square-tree (list 1 (list 2 (list 3 4) 5) (list 6 7)))\n",
    "    (1 (4 (9 16) 25) (36 49))\n",
    "    \n",
    "直接的な(つまり、⾼階⼿続きをまったく使わない)やり⽅と、  \n",
    "mapと再帰を使うやり⽅の両⽅で、square-treeを定義せよ。"
   ]
  },
  {
   "cell_type": "code",
   "execution_count": 1,
   "metadata": {},
   "outputs": [],
   "source": [
    "(define (square x)(* x x))"
   ]
  },
  {
   "cell_type": "code",
   "execution_count": 2,
   "metadata": {},
   "outputs": [
    {
     "data": {
      "text/plain": [
       "(1 (4 (9 16) 25) (36 49))"
      ]
     },
     "execution_count": 2,
     "metadata": {},
     "output_type": "execute_result"
    }
   ],
   "source": [
    "; map無し版\n",
    "(define (square-tree tree)\n",
    "  (cond ((null? tree) ())\n",
    "        ((not (pair? tree)) (square tree))  ; 葉を返す\n",
    "        (else (cons (square-tree (car tree)) (square-tree (cdr tree))))\n",
    "    )\n",
    "  )\n",
    "(square-tree (list 1 (list 2 (list 3 4) 5) (list 6 7)))"
   ]
  },
  {
   "cell_type": "code",
   "execution_count": 3,
   "metadata": {},
   "outputs": [
    {
     "data": {
      "text/plain": [
       "(1 (4 (9 16) 25) (36 49))"
      ]
     },
     "execution_count": 3,
     "metadata": {},
     "output_type": "execute_result"
    }
   ],
   "source": [
    "; map使用版\n",
    ";(define (map proc items)\n",
    ";  (if (null? items) '()\n",
    ";      (cons (proc (car items)) (map proc (cdr items)))))\n",
    "; -> map手続きは定義済み\n",
    "\n",
    "(define (square-tree tree)\n",
    "  (map (lambda (sub-tree)\n",
    "         (if (pair? sub-tree) (square-tree sub-tree)\n",
    "             (square sub-tree))) tree\n",
    "       )\n",
    "  )\n",
    "(square-tree (list 1 (list 2 (list 3 4) 5) (list 6 7)))"
   ]
  }
 ],
 "metadata": {
  "kernelspec": {
   "display_name": "Calysto Scheme 3",
   "language": "scheme",
   "name": "calysto_scheme"
  },
  "language_info": {
   "codemirror_mode": {
    "name": "scheme"
   },
   "mimetype": "text/x-scheme",
   "name": "scheme",
   "pygments_lexer": "scheme"
  }
 },
 "nbformat": 4,
 "nbformat_minor": 4
}
