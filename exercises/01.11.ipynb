{
 "cells": [
  {
   "cell_type": "markdown",
   "metadata": {},
   "source": [
    "### 練習問題1.11\n",
    "関数$f$は次のように定義される。\n",
    "\n",
    "$\n",
    "  f(n)=\\begin{cases}\n",
    "    n & (n < 3) \\\\\n",
    "    f(n-1) + 2 \\cdot f(n-2) + 3 \\cdot f(n - 3) & (n>=3)\n",
    "  \\end{cases}\n",
    "$  \n",
    "\n",
    "$f$を表す⼿続きを再帰プロセスによって実装しなさい。  \n",
    "また、$f$を表す⼿続きを反復プロセスによって実装しなさい。\n"
   ]
  },
  {
   "cell_type": "code",
   "execution_count": 1,
   "metadata": {},
   "outputs": [],
   "source": [
    ";再帰プロセスによる実装\n",
    "(define (f n)\n",
    "  (if (< n 3)\n",
    "      (begin\n",
    "       (display \"f(\")\n",
    "       (display n)\n",
    "       (display \")=\")\n",
    "       (display n)\n",
    "       (newline)\n",
    "       n\n",
    "       )\n",
    "      (begin\n",
    "       (display \"f(\")\n",
    "       (display (- n 1))\n",
    "       (display \")+2*f(\")\n",
    "       (display (- n 2))\n",
    "       (display \")+3*f(\")\n",
    "       (display (- n 3))\n",
    "       (display \")\")\n",
    "       (newline)\n",
    "       (+ (+ (f (- n 1)) (* 2 (f (- n 2)))) (* 3 (f (- n 3)))))\n",
    "    )\n",
    "  )"
   ]
  },
  {
   "cell_type": "code",
   "execution_count": 2,
   "metadata": {
    "scrolled": true
   },
   "outputs": [
    {
     "name": "stdout",
     "output_type": "stream",
     "text": [
      "f(0)=0\n",
      "0\n",
      "f(1)=1\n",
      "1\n",
      "f(2)=2\n",
      "2\n",
      "f(2)+2*f(1)+3*f(0)\n",
      "f(2)=2\n",
      "f(1)=1\n",
      "f(0)=0\n",
      "4\n",
      "f(3)+2*f(2)+3*f(1)\n",
      "f(2)+2*f(1)+3*f(0)\n",
      "f(2)=2\n",
      "f(1)=1\n",
      "f(0)=0\n",
      "f(2)=2\n",
      "f(1)=1\n",
      "11\n",
      "f(4)+2*f(3)+3*f(2)\n",
      "f(3)+2*f(2)+3*f(1)\n",
      "f(2)+2*f(1)+3*f(0)\n",
      "f(2)=2\n",
      "f(1)=1\n",
      "f(0)=0\n",
      "f(2)=2\n",
      "f(1)=1\n",
      "f(2)+2*f(1)+3*f(0)\n",
      "f(2)=2\n",
      "f(1)=1\n",
      "f(0)=0\n",
      "f(2)=2\n",
      "25\n"
     ]
    }
   ],
   "source": [
    "(display (f 0))\n",
    "(newline)\n",
    "(display (f 1))\n",
    "(newline)\n",
    "(display (f 2))\n",
    "(newline)\n",
    "(display (f 3))\n",
    "(newline)\n",
    "(display (f 4))\n",
    "(newline)\n",
    "(display (f 5))\n",
    "(newline)"
   ]
  },
  {
   "cell_type": "code",
   "execution_count": 3,
   "metadata": {},
   "outputs": [
    {
     "name": "stdout",
     "output_type": "stream",
     "text": [
      "f(4)+2*f(3)+3*f(2)\n",
      "f(3)+2*f(2)+3*f(1)\n",
      "f(2)+2*f(1)+3*f(0)\n",
      "f(2)=2\n",
      "f(1)=1\n",
      "f(0)=0\n",
      "f(2)=2\n",
      "f(1)=1\n",
      "f(2)+2*f(1)+3*f(0)\n",
      "f(2)=2\n",
      "f(1)=1\n",
      "f(0)=0\n",
      "f(2)=2\n",
      "25\n"
     ]
    }
   ],
   "source": [
    "(display (f 5))\n",
    "(newline)"
   ]
  },
  {
   "cell_type": "markdown",
   "metadata": {},
   "source": [
    "以下のように考えることで、反復プロセスで実装できる。\n",
    "\n",
    "$ a'_{n + 2} \\leftarrow a_{n + 2} + 2 \\cdot a_{n + 1} + 3 \\cdot a_{n} $  \n",
    "$ a'_{n + 1} \\leftarrow a_{n + 2} $  \n",
    "$ a'_{n} \\leftarrow a_{n + 1} $  \n"
   ]
  },
  {
   "cell_type": "code",
   "execution_count": 4,
   "metadata": {},
   "outputs": [],
   "source": [
    "; 反復プロセスによる実装\n",
    "(define (f2 n)\n",
    "  (f-iter 2 1 0 n))\n",
    "(define (f-iter a b c count)\n",
    "  (if (= count 0)\n",
    "      c\n",
    "      (begin\n",
    "       (display \"f-iter \")\n",
    "       (display (+ a (* 2 b)(* 3 c)))\n",
    "       (display \" \")\n",
    "       (display a)\n",
    "       (display \" \")\n",
    "       (display b)\n",
    "       (display \" \")\n",
    "       (display (- count 1))\n",
    "       (newline)\n",
    "       (f-iter (+ a (* 2 b)(* 3 c)) a b (- count 1))\n",
    "       )\n",
    "    )\n",
    "  )"
   ]
  },
  {
   "cell_type": "code",
   "execution_count": 5,
   "metadata": {},
   "outputs": [
    {
     "name": "stdout",
     "output_type": "stream",
     "text": [
      "f-iter 4 2 1 4\n",
      "f-iter 11 4 2 3\n",
      "f-iter 25 11 4 2\n",
      "f-iter 59 25 11 1\n",
      "f-iter 142 59 25 0\n",
      "25\n"
     ]
    }
   ],
   "source": [
    "(display (f2 5))\n",
    "(newline)"
   ]
  }
 ],
 "metadata": {
  "kernelspec": {
   "display_name": "Calysto Scheme 3",
   "language": "scheme",
   "name": "calysto_scheme"
  },
  "language_info": {
   "codemirror_mode": {
    "name": "scheme"
   },
   "mimetype": "text/x-scheme",
   "name": "scheme",
   "pygments_lexer": "scheme"
  }
 },
 "nbformat": 4,
 "nbformat_minor": 4
}
