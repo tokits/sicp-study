{
 "cells": [
  {
   "cell_type": "markdown",
   "metadata": {},
   "source": [
    "### 練習問題2.12\n",
    "中央値とパーセント許容誤差を取り、  \n",
    "求める範囲を返すコンストラクタmake-center-percentを定義せよ。  \n",
    "また、与えられた区間に対してパーセント許容誤差を  \n",
    "返すセレクタpercent も定義する必要がある。  \n",
    "centerセレクタは上に書いたものと同じである。"
   ]
  },
  {
   "cell_type": "code",
   "execution_count": 1,
   "metadata": {},
   "outputs": [
    {
     "name": "stdout",
     "output_type": "stream",
     "text": [
      "16.0\n",
      "2.0\n"
     ]
    }
   ],
   "source": [
    "(define (make-interval a b) (cons a b))\n",
    "(define (lower-bound x)(car x))\n",
    "(define (upper-bound x)(cdr x))\n",
    "\n",
    "(define (make-center-width c w)\n",
    "  (make-interval (- c w) (+ c w)))\n",
    "(define (center i)\n",
    "  (/ (+ (lower-bound i) (upper-bound i)) 2))\n",
    "(define (width i)\n",
    "  (/ (- (upper-bound i) (lower-bound i)) 2))\n",
    "\n",
    "; 動作確認\n",
    "(let ((i (make-center-width 16.0 2.0)))\n",
    "  (display (center i))\n",
    "  (newline)\n",
    "  (display (width i))\n",
    "  (newline)\n",
    "  )"
   ]
  },
  {
   "cell_type": "code",
   "execution_count": 2,
   "metadata": {},
   "outputs": [
    {
     "name": "stdout",
     "output_type": "stream",
     "text": [
      "16.0\n",
      "1.0\n",
      "6.25\n"
     ]
    }
   ],
   "source": [
    "(define (make-center-percent c p)\n",
    "  (let ((w (* c (/ p 100.0))))\n",
    "    (make-interval (- c w) (+ c w)))\n",
    "  )\n",
    "(define (percent i)\n",
    "  (* (/ (width i) (center i)) 100.0)\n",
    "  )\n",
    "\n",
    "; 動作確認\n",
    "(let ((i (make-center-percent 16.0 6.25)))\n",
    "  (display (center i))\n",
    "  (newline)\n",
    "  (display (width i))\n",
    "  (newline)\n",
    "  (display (percent i))\n",
    "  (newline)\n",
    "  )"
   ]
  }
 ],
 "metadata": {
  "kernelspec": {
   "display_name": "Calysto Scheme 3",
   "language": "scheme",
   "name": "calysto_scheme"
  },
  "language_info": {
   "codemirror_mode": {
    "name": "scheme"
   },
   "mimetype": "text/x-scheme",
   "name": "scheme",
   "pygments_lexer": "scheme"
  }
 },
 "nbformat": 4,
 "nbformat_minor": 4
}
