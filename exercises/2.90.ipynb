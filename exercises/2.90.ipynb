{
 "cells": [
  {
   "cell_type": "markdown",
   "metadata": {},
   "source": [
    "### 練習問題2.90\n",
    "疎な多項式と密な多項式の両⽅に対して効率的な多項式システムを作りたいとする。<br />\n",
    "そのためのひとつの⽅法は、システム内でどちらの項リスト表現も使えるようにするということである。<br />\n",
    "この状況は2.4 節の複素数の例と似ている。<br />\n",
    "そのときは直交形式と極形式のどちらの表現も使えるようにした。<br />\n",
    "これを⾏うためには、異なる型の項リストを識別し、項リストに対する演算をジェネリックにしなければならない。<br />\n",
    "この⼀般化を実装するために、多項式システムを再設計せよ。<br />\n",
    "これは局所的な変更ではなく、かなりの作業が必要になる。"
   ]
  },
  {
   "cell_type": "markdown",
   "metadata": {},
   "source": [
    "回答：保留"
   ]
  }
 ],
 "metadata": {
  "kernelspec": {
   "display_name": "Calysto Scheme 3",
   "language": "scheme",
   "name": "calysto_scheme"
  },
  "language_info": {
   "codemirror_mode": {
    "name": "scheme"
   },
   "mimetype": "text/x-scheme",
   "name": "scheme",
   "pygments_lexer": "scheme"
  }
 },
 "nbformat": 4,
 "nbformat_minor": 4
}
