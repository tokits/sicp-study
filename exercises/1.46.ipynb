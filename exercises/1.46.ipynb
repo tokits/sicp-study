{
 "cells": [
  {
   "cell_type": "markdown",
   "metadata": {},
   "source": [
    "### 練習問題1.46\n",
    "この章で記述した数値計算法のいくつかは、  \n",
    "反復 改良法(iterative improvement)と呼ばれる⾮常に汎⽤的な計算戦略の実例である。  \n",
    "反復改良法というのは、何かを計算するにあたって、  \n",
    "答えに対する初期推測値から始めて、  \n",
    "その推測値が⼗分によいかテストし、  \n",
    "よくなければ推測値を改良し、  \n",
    "改良した推測値を新しい推測値としてそのプロセスを続けるというものである。  \n",
    "⼆つの⼿続きを引数として取る⼿続きiterative-improveを書け。  \n",
    "引数はそれぞれ、推測値が⼗分によいか判断する⼿続きと、  \n",
    "推測値を改良する⼿続きとする。  \n",
    "iterative-improveの返り値は、引数 として初期推測値を取り、  \n",
    "それが⼗分によくなるまで改良を続ける⼿続きとする。  \n",
    "1.1.7節のsqrt⼿続きと1.3.3節のfixed-point ⼿続きをiterative-improveによって書き直せ。"
   ]
  },
  {
   "cell_type": "markdown",
   "metadata": {},
   "source": [
    "回答は割愛する。"
   ]
  }
 ],
 "metadata": {
  "kernelspec": {
   "display_name": "Calysto Scheme 3",
   "language": "scheme",
   "name": "calysto_scheme"
  },
  "language_info": {
   "codemirror_mode": {
    "name": "scheme"
   },
   "mimetype": "text/x-scheme",
   "name": "scheme",
   "pygments_lexer": "scheme"
  }
 },
 "nbformat": 4,
 "nbformat_minor": 4
}
