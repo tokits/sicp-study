{
 "cells": [
  {
   "cell_type": "markdown",
   "metadata": {},
   "source": [
    "### 練習問題1.19\n",
    "フィボナッチ数を対数的ステップ数で計算する巧妙なアルゴリズムがある。  \n",
    "1.2.2節のfib-iterプロセスでの状態変数$a$と$b$の変換、  \n",
    "$a \\leftarrow a+b$、  \n",
    "$b \\leftarrow a$  \n",
    "を思い出そう。  \n",
    "この変換を$T$ と呼ぶことにする。  \n",
    "すると、$1$と$0$から始めて$T$を繰り返し$n$回適⽤すると  \n",
    "$Fib(n + 1)$と$Fib(n)$というペアができることになる。  \n",
    "⾔い換えれば、フィボナッチ数はペア$(1, 0)$に対して  \n",
    "$T_{n}$(変換$T$の$n$乗)を適⽤することで求められるということだ。  \n",
    "ここで、$(a,b)$というペアを  \n",
    "$a \\leftarrow bq + aq + ap$  \n",
    "と\n",
    "$b \\leftarrow bp + aq$  \n",
    "に変換するような変換族$T_{p,q}$の特殊な場合  \n",
    "$(p=0,q=1)$として$T$を考えることにする。  \n",
    "このような変換$T_{p,q}$を⼆回適⽤すると、  \n",
    "その効果は同じ形 式を持つ$T_{p',q'}$を⼀回適⽤するのと同じであることを⽰し、$p$と$q$に対する$p'$と$q'$を求めよ。  \n",
    "こうすると、この種の変換に対する⼆乗を明⽰的に⾏うことができるようになり、  \n",
    "fast-expt⼿続きと 同じように、$T^n$を⼆乗の連続によって求められるようになる。   \n",
    "これらをすべて組み合わせて、対数的ステップ数で動く次の⼿続きを完成させよ。\n",
    "\n",
    "    (define (fib n)\n",
    "      (fib-iter 1 0 0 1 n)\n",
    "      )\n",
    "    (define (fib-iter a b p q count)\n",
    "      (cond ((= count 0) b)\n",
    "            ((even? count)\n",
    "               (fib-iter a b \n",
    "                         <??> ; p'を計算する\n",
    "                         <??> ; q'を計算する\n",
    "                (/ count 2)))\n",
    "            (else (fib-iter (+ (* b q) (* a q) (* a p)) (+ (* b p) (* a q)) p q (- count 1)))\n",
    "       )\n",
    "      )"
   ]
  },
  {
   "cell_type": "markdown",
   "metadata": {},
   "source": [
    "**問題の解説**  \n",
    "$T_{p,q}(a,b)$の変換の定義  \n",
    "$a \\leftarrow bq + aq + ap$  \n",
    "$b \\leftarrow bp + aq$  \n",
    "\n",
    "$p=0,q=1$とすると、$T_{p,q}(a,b)=T_{0,1}(a,b)$の変換は、以下のようになる。  \n",
    "$a \\leftarrow a+b$  \n",
    "$b \\leftarrow a$  \n",
    "これは反復プロセスでフィボナッチ数を算出する際の式となっている。  \n",
    "よって、ペア$(a,b)=(1,0)$に対して、この変換を$n$回繰り返すことで、$n$番目のフィボナッチ数を得ることができる。  \n",
    "ペア$(a,b)=(1,0)$に対して$n$回繰り返すということを$T_{p,q}(a,b)$を使って、  \n",
    "$T_{0,1}(\\cdots T_{0,1}(T_{0,1}(1,0))\\cdots)=T_{0,1}^n(1,0)$    \n",
    "と書くことができる。  \n",
    "（これは、フィボナッチ数の計算が、指数計算の要領で計算できることを示している！)  \n",
    "\n",
    "$n$が奇数のときは、$T_{p,q}(a,b)$を1回施すことで  \n",
    "$T_{p,q}^n(a,b)=T_{p,q}^{n-1}(bq + aq + ap,bp + aq)$\n",
    "となり、べき数を下げることができる。  \n",
    "$n$が偶数のとき、  \n",
    "$T_{p,q}^n(a,b)=(T_{p,q}^{\\frac{n}{2}}(a,b))^2=T_{p',q'}^{\\frac{n}{2}}(a,b))$   \n",
    "と変形できれば、べき数下げることができ、計算量を下げることができる。  \n",
    "これがこの問題で求められている$p',q'$である。"
   ]
  },
  {
   "cell_type": "markdown",
   "metadata": {},
   "source": [
    "**回答**  \n",
    "$T_{p,q}(a,b)$を2回行うと以下のようになる。  \n",
    "($a$に$bq + aq + ap$を、$b$に$bp + aq$を代入)    \n",
    "1つ目の式：$(bp + aq)q + (bq + aq + ap)q + (bq + aq + ap)p=b(q^2+2pq)+a(q^2+2pq)+a(p^2+q^2)$  \n",
    "2つ目の式：$(bp + aq)p + (bq + aq + ap)q=b(p^2+q^2)+a(q^2+2pq)$  \n",
    "\n",
    "よって、  \n",
    "$p'=p^2+q^2$  \n",
    "$q'=q^2+2pq$  \n",
    "となる。  \n",
    "\n",
    "$n$が偶数のときは、  \n",
    "$T_{p,q}^n(a,b)=(T_{p,q}^{\\frac{n}{2}}(a,b))^2=T_{p',q'}^{\\frac{n}{2}}(a,b))=T_{p^2+q^2,q^2+2pq}^{\\frac{n}{2}}(a,b))$  \n",
    "を求めることでべき数を下げることができる。"
   ]
  },
  {
   "cell_type": "code",
   "execution_count": 1,
   "metadata": {},
   "outputs": [],
   "source": [
    "(define (fib n)\n",
    "  (fib-iter 1 0 0 1 n)\n",
    "  )\n",
    "(define (fib-iter a b p q count)\n",
    "  (cond ((= count 0) b)\n",
    "        ((even? count)\n",
    "           (begin\n",
    "               (display \"fib-iter(\")\n",
    "               (display a)\n",
    "               (display \",\")\n",
    "               (display b)\n",
    "               (display \",\")\n",
    "               (display (+ (* p p) (* q q)))\n",
    "               (display \",\")\n",
    "               (display (+ (* q q) (* 2 p q)))\n",
    "               (display \",\")\n",
    "               (display (/ count 2))\n",
    "               (display \")\")\n",
    "               (newline)\n",
    "               (fib-iter a b \n",
    "                     (+ (* p p) (* q q)) ; p'を計算する\n",
    "                     (+ (* q q) (* 2 p q)) ; q'を計算する\n",
    "                     (/ count 2))\n",
    "             )\n",
    "           )\n",
    "        (else (begin \n",
    "               (display \"fib-iter(\")\n",
    "               (display (+ (* b q) (* a q) (* a p)))\n",
    "               (display \",\")\n",
    "               (display (+ (* b p) (* a q)))\n",
    "               (display \",\")\n",
    "               (display p)\n",
    "               (display \",\")\n",
    "               (display q)\n",
    "               (display \",\")\n",
    "               (display (- count 1))\n",
    "               (display \")\")\n",
    "               (newline)\n",
    "               (fib-iter (+ (* b q) (* a q) (* a p)) (+ (* b p) (* a q)) p q (- count 1))\n",
    "               )\n",
    "          )\n",
    "    )\n",
    "  )\n",
    "\n",
    "; 偶数かどうか判定\n",
    "(define (even? n)\n",
    "  (= (remainder n 2) 0)\n",
    "  )"
   ]
  },
  {
   "cell_type": "code",
   "execution_count": 2,
   "metadata": {},
   "outputs": [
    {
     "name": "stdout",
     "output_type": "stream",
     "text": [
      "fib-iter(1,0,1,1,32)\n",
      "fib-iter(1,0,2,3,16)\n",
      "fib-iter(1,0,13,21,8)\n",
      "fib-iter(1,0,610,987,4)\n",
      "fib-iter(1,0,1346269,2178309,2)\n",
      "fib-iter(1,0,6557470319842,10610209857723,1)\n",
      "fib-iter(17167680177565,10610209857723,6557470319842,10610209857723,0)\n"
     ]
    },
    {
     "data": {
      "text/plain": [
       "10610209857723"
      ]
     },
     "execution_count": 2,
     "metadata": {},
     "output_type": "execute_result"
    }
   ],
   "source": [
    "; 動作確認\n",
    "(fib 64)"
   ]
  },
  {
   "cell_type": "code",
   "execution_count": 3,
   "metadata": {},
   "outputs": [
    {
     "name": "stdout",
     "output_type": "stream",
     "text": [
      "fib-iter(1,1,0,1,12)\n",
      "fib-iter(1,1,1,1,6)\n",
      "fib-iter(1,1,2,3,3)\n",
      "fib-iter(8,5,2,3,2)\n",
      "fib-iter(8,5,13,21,1)\n",
      "fib-iter(377,233,13,21,0)\n"
     ]
    },
    {
     "data": {
      "text/plain": [
       "233"
      ]
     },
     "execution_count": 3,
     "metadata": {},
     "output_type": "execute_result"
    }
   ],
   "source": [
    "; 動作確認\n",
    "(fib 13)"
   ]
  },
  {
   "cell_type": "code",
   "execution_count": 4,
   "metadata": {},
   "outputs": [
    {
     "name": "stdout",
     "output_type": "stream",
     "text": [
      "fib-iter(1,0,1,1,32)\n",
      "fib-iter(1,0,2,3,16)\n",
      "fib-iter(1,0,13,21,8)\n",
      "fib-iter(1,0,610,987,4)\n",
      "fib-iter(1,0,1346269,2178309,2)\n",
      "fib-iter(1,0,6557470319842,10610209857723,1)\n",
      "fib-iter(17167680177565,10610209857723,6557470319842,10610209857723,0)\n",
      "fib-iter(1,1,0,1,62)\n",
      "fib-iter(1,1,1,1,31)\n",
      "fib-iter(3,2,1,1,30)\n",
      "fib-iter(3,2,2,3,15)\n",
      "fib-iter(21,13,2,3,14)\n",
      "fib-iter(21,13,13,21,7)\n",
      "fib-iter(987,610,13,21,6)\n",
      "fib-iter(987,610,610,987,3)\n",
      "fib-iter(2178309,1346269,610,987,2)\n",
      "fib-iter(2178309,1346269,1346269,2178309,1)\n",
      "fib-iter(10610209857723,6557470319842,1346269,2178309,0)\n"
     ]
    },
    {
     "data": {
      "text/plain": [
       "1.618033988749895"
      ]
     },
     "execution_count": 4,
     "metadata": {},
     "output_type": "execute_result"
    }
   ],
   "source": [
    "; 動作確認\n",
    "(+ 0.0 (/ (fib 64) (fib 63)))"
   ]
  }
 ],
 "metadata": {
  "kernelspec": {
   "display_name": "Calysto Scheme 3",
   "language": "scheme",
   "name": "calysto_scheme"
  },
  "language_info": {
   "codemirror_mode": {
    "name": "scheme"
   },
   "mimetype": "text/x-scheme",
   "name": "scheme",
   "pygments_lexer": "scheme"
  }
 },
 "nbformat": 4,
 "nbformat_minor": 4
}
