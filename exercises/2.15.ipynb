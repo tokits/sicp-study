{
 "cells": [
  {
   "cell_type": "markdown",
   "metadata": {},
   "source": [
    "### 練習問題2.15\n",
    "別のユーザーEva Lu Atorも、代数的に等価な異なる式によって計算すると異なる区間になることに気がついた。  \n",
    "彼⼥は、不確定な数値を表す変数が繰り返し出てこないように書けば、  \n",
    "より厳密な誤差限界を返すようにできると⾔う。  \n",
    "つまり、並列 抵抗を計算するのにpar2はpar1よりも“よりよい”プログラムだと⾔うのだ。\n",
    "彼⼥は正しいだろうか。また、それはなぜだろうか。"
   ]
  },
  {
   "cell_type": "markdown",
   "metadata": {},
   "source": [
    "回答は割愛する。"
   ]
  }
 ],
 "metadata": {
  "kernelspec": {
   "display_name": "Calysto Scheme 3",
   "language": "scheme",
   "name": "calysto_scheme"
  },
  "language_info": {
   "codemirror_mode": {
    "name": "scheme"
   },
   "mimetype": "text/x-scheme",
   "name": "scheme",
   "pygments_lexer": "scheme"
  }
 },
 "nbformat": 4,
 "nbformat_minor": 4
}
