{
 "cells": [
  {
   "cell_type": "markdown",
   "metadata": {},
   "source": [
    "### 練習問題1.39\n",
    "正接(タンジェント)関数の連分数表現は、  \n",
    "1770年 にドイツの数学者ヨハン・ハインリッヒ・ランベルトによって発表された。   \n",
    "\n",
    "$$\n",
    "\\tan{x}=\\frac{x}{1 - \\frac{x^2}{3 - \\frac{x^2}{5 - \\cdots}}}\n",
    "$$\n",
    "\n",
    "ここで、xはラジアンで表したものである。  \n",
    "ランベルトの式をもと に、正接関数の近似値を求める⼿続き(tan-cf x k)を定義せよ。  \n",
    "kは、練習問題1.37同様、計算する項の数を指定する。"
   ]
  },
  {
   "cell_type": "code",
   "execution_count": 1,
   "metadata": {},
   "outputs": [],
   "source": [
    "; 反復プロセス\n",
    "(define (cont-frac N D k)\n",
    "  (define (iter d i)\n",
    "      (if (<= i 1)(/ (N 1) d)\n",
    "        (iter (+ (D (- i 1)) (/ (N i) d)) (- i 1))\n",
    "        )\n",
    "    )\n",
    "  (iter (D k) k)\n",
    "  )"
   ]
  },
  {
   "cell_type": "code",
   "execution_count": 2,
   "metadata": {},
   "outputs": [],
   "source": [
    "(define (tan-cf x k)\n",
    "      (cont-frac\n",
    "               (lambda (i)\n",
    "                 (if (= i 1) x\n",
    "                     (- (* x x))\n",
    "                  )\n",
    "                )\n",
    "               (lambda (i)(- (* i 2) 1))\n",
    "        k)\n",
    "   )"
   ]
  },
  {
   "cell_type": "code",
   "execution_count": 3,
   "metadata": {},
   "outputs": [
    {
     "data": {
      "text/plain": [
       "1.0"
      ]
     },
     "execution_count": 3,
     "metadata": {},
     "output_type": "execute_result"
    }
   ],
   "source": [
    "(import \"math\")\n",
    ";(display math.pi)\n",
    "(tan-cf (/ math.pi 4) 12)"
   ]
  }
 ],
 "metadata": {
  "kernelspec": {
   "display_name": "Calysto Scheme 3",
   "language": "scheme",
   "name": "calysto_scheme"
  },
  "language_info": {
   "codemirror_mode": {
    "name": "scheme"
   },
   "mimetype": "text/x-scheme",
   "name": "scheme",
   "pygments_lexer": "scheme"
  }
 },
 "nbformat": 4,
 "nbformat_minor": 4
}
