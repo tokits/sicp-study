{
 "cells": [
  {
   "cell_type": "markdown",
   "metadata": {},
   "source": [
    "### 練習問題1.39\n",
    "正接(タンジェント)関数の連分数表現は、  \n",
    "1770年 にドイツの数学者ヨハン・ハインリッヒ・ランベルトによって発表された。   \n",
    "\n",
    "$$\n",
    "\\tan{x}=\\frac{x}{1 - \\frac{x^2}{3 - \\frac{x^2}{5 - \\cdots}}}\n",
    "$$\n",
    "\n",
    "ここで、xはラジアンで表したものである。  \n",
    "ランベルトの式をもと に、正接関数の近似値を求める⼿続き(tan-cf x k)を定義せよ。  \n",
    "kは、練習問題1.37同様、計算する項の数を指定する。"
   ]
  }
 ],
 "metadata": {
  "kernelspec": {
   "display_name": "Calysto Scheme 3",
   "language": "scheme",
   "name": "calysto_scheme"
  },
  "language_info": {
   "codemirror_mode": {
    "name": "scheme"
   },
   "mimetype": "text/x-scheme",
   "name": "scheme",
   "pygments_lexer": "scheme"
  }
 },
 "nbformat": 4,
 "nbformat_minor": 4
}
