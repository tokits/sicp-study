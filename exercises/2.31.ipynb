{
 "cells": [
  {
   "cell_type": "markdown",
   "metadata": {},
   "source": [
    "### 練習問題2.31\n",
    "練習問題2.30の解答を抽象化し、⼿続きtree-mapを作れ。  \n",
    "square-treeがtree-mapによって以下のように定義できるようにせよ。  \n",
    "\n",
    "    (define (square-tree tree)\n",
    "        (tree-map square tree))"
   ]
  },
  {
   "cell_type": "code",
   "execution_count": 1,
   "metadata": {},
   "outputs": [],
   "source": [
    "(define (tree-map proc tree)\n",
    "  (cond ((null? tree) ())\n",
    "        ((not (pair? tree)) (proc tree))\n",
    "        (else (cons (tree-map proc (car tree)) (tree-map proc (cdr tree))))\n",
    "    )\n",
    "  )"
   ]
  },
  {
   "cell_type": "code",
   "execution_count": 2,
   "metadata": {},
   "outputs": [
    {
     "data": {
      "text/plain": [
       "(1 (4 (9 16) 25) (36 49))"
      ]
     },
     "execution_count": 2,
     "metadata": {},
     "output_type": "execute_result"
    }
   ],
   "source": [
    "(define (square x)(* x x))\n",
    "\n",
    "(define (square-tree tree)\n",
    "  (tree-map square tree))\n",
    "\n",
    "(square-tree (list 1 (list 2 (list 3 4) 5) (list 6 7)))"
   ]
  },
  {
   "cell_type": "code",
   "execution_count": 3,
   "metadata": {},
   "outputs": [],
   "source": [
    "; map版\n",
    "(define (tree-map proc tree)\n",
    "  (map (lambda (sub-tree)\n",
    "         (if (pair? sub-tree) (tree-map proc sub-tree)\n",
    "             (proc sub-tree))) tree\n",
    "       )\n",
    "  )\n",
    "(define (square-tree tree)\n",
    "  (tree-map square tree))"
   ]
  },
  {
   "cell_type": "code",
   "execution_count": 4,
   "metadata": {},
   "outputs": [
    {
     "data": {
      "text/plain": [
       "(1 (4 (9 16) 25) (36 49))"
      ]
     },
     "execution_count": 4,
     "metadata": {},
     "output_type": "execute_result"
    }
   ],
   "source": [
    "(square-tree (list 1 (list 2 (list 3 4) 5) (list 6 7)))"
   ]
  }
 ],
 "metadata": {
  "kernelspec": {
   "display_name": "Calysto Scheme 3",
   "language": "scheme",
   "name": "calysto_scheme"
  },
  "language_info": {
   "codemirror_mode": {
    "name": "scheme"
   },
   "mimetype": "text/x-scheme",
   "name": "scheme",
   "pygments_lexer": "scheme"
  }
 },
 "nbformat": 4,
 "nbformat_minor": 4
}
