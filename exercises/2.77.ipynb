{
 "cells": [
  {
   "cell_type": "markdown",
   "metadata": {},
   "source": [
    "### 練習問題2.77\n",
    "Louis Reasoner は、式 (magnitude z) を評価しようとした。<br/>\n",
    "ここで、z は 図 2.24に⽰したオブジェクトである。<br/>\n",
    "驚いたことに、5 という答えが返ってくるのではなく、<br/>\n",
    "apply-generic からのエラーメッセージが返ってきて、型 (complex) には magnitude という演算を⾏う⼿続きがないという。<br/>\n",
    "彼がこの対話を Alyssa P. Hacker に⾒せると、<br/>\n",
    "Alyssa は <br/>\n",
    "“複素数セレクタが polar と rectangular の数値にだけしか定義されていなくて、complex の数値に対して定義されていないのが問題なのよ。<br/>\n",
    "動くようにするには complex パッケージに以下の式を追加すれば⼤丈夫” <br/>\n",
    "と⾔う。\n",
    "\n",
    "    (put 'real-part '(complex) real-part)\n",
    "    (put 'imag-part '(complex) imag-part)\n",
    "    (put 'magnitude '(complex) magnitude)\n",
    "    (put 'angle '(complex) angle)\n",
    "\n",
    "なぜこれが動くのか、詳しく説明せよ。<br/>\n",
    "例として、z が図 2.24に⽰したオブジェクトであるとき、式 (magnitude z) を評価した際に呼ばれるすべての⼿続きをトレースせよ。<br/>\n",
    "具体的には、apply-generic は何回起動されるだろうか。<br/>\n",
    "それぞれの場合について、ディスパッチ先の⼿続きは何になるだろうか。\n"
   ]
  },
  {
   "cell_type": "code",
   "execution_count": 20,
   "metadata": {},
   "outputs": [],
   "source": [
    "(define (lookup key table)\n",
    "  (let ((record (assoc key (cdr table))))\n",
    "    (if record (cdr record)\n",
    "        #f)\n",
    "    )\n",
    "  )\n",
    "\n",
    "(define (assoc key records)\n",
    "  (cond ((null? records) #f)\n",
    "        ((equal? key (caar records)) (car records))\n",
    "        (else (assoc key (cdr records)))\n",
    "        )\n",
    "  )\n",
    "\n",
    "(define (insert! key value table)\n",
    "  (let ((record (assoc key (cdr table))))\n",
    "    (if record (set-cdr! record value)\n",
    "        (set-cdr! table (cons (cons key value) (cdr table)))\n",
    "        )\n",
    "    )\n",
    "  'ok)\n",
    "\n",
    "(define (lookup key-1 key-2 table)\n",
    "  (let ((subtable (assoc key-1 (cdr table))))\n",
    "    (if subtable\n",
    "        (let ((record (assoc key-2 (cdr subtable))))\n",
    "          (if record (cdr record)\n",
    "              #f\n",
    "              )\n",
    "          )\n",
    "        #f\n",
    "        )\n",
    "    )\n",
    "  )\n",
    "\n",
    "(define (insert! key-1 key-2 value table)\n",
    "  (let ((subtable (assoc key-1 (cdr table))))\n",
    "    (if subtable\n",
    "        (let ((record (assoc key-2 (cdr subtable))))\n",
    "          (if record (set-cdr! record value)\n",
    "              (set-cdr! subtable (cons (cons key-2 value) (cdr subtable)))\n",
    "              )\n",
    "          )\n",
    "        (set-cdr! table (cons (list key-1 (cons key-2 value)) (cdr table)))\n",
    "        )\n",
    "    )\n",
    "  'ok)\n",
    "\n",
    "(define (make-table)\n",
    "  (let ((local-table (list '*table*)))\n",
    "    (define (lookup key-1 key-2)\n",
    "      (let ((subtable (assoc key-1 (cdr local-table))))\n",
    "        (if subtable\n",
    "            (let ((record (assoc key-2 (cdr subtable))))\n",
    "              (if record (cdr record) #f))\n",
    "            #f)\n",
    "        )\n",
    "      )\n",
    "    (define (insert! key-1 key-2 value)\n",
    "      (let ((subtable (assoc key-1 (cdr local-table))))\n",
    "        (if subtable\n",
    "            (let ((record (assoc key-2 (cdr subtable))))\n",
    "              (if record (set-cdr! record value)\n",
    "                  (set-cdr! subtable (cons (cons key-2 value) (cdr subtable)))\n",
    "                  )\n",
    "              )\n",
    "            (set-cdr! local-table (cons (list key-1 (cons key-2 value)) (cdr local-table )))\n",
    "            )\n",
    "        )\n",
    "      'ok)\n",
    "    (define (dispatch m)\n",
    "      (cond ((eq? m 'lookup-proc) lookup)\n",
    "            ((eq? m 'insert-proc!) insert!)\n",
    "            (else (error \"Unknown operation: TABLE\" m)))\n",
    "      )\n",
    "    dispatch)\n",
    "  )\n",
    "\n",
    ";(define (make-table) (list '*table*))\n",
    "\n",
    "(define operation-table (make-table))\n",
    "(define get (operation-table 'lookup-proc))\n",
    "(define put (operation-table 'insert-proc!))\n",
    "; タグつきデータのコンストラクタ\n",
    "(define (attach-tag type-tag contents)\n",
    "  (cons type-tag contents))\n",
    "; タグを返すセレクタ\n",
    "(define (type-tag datum)\n",
    "  (if (pair? datum) (car datum)\n",
    "      (error \"Bad tagged datum: TYPE-TAG\" datum))\n",
    "  )\n",
    "; データを返すセレクタ\n",
    "(define (contents datum)\n",
    "  (if (pair? datum) (cdr datum)\n",
    "      (error \"Bad tagged datum: CONTENTS\" datum))\n",
    "  )\n",
    "\n",
    ";\n",
    "(define (apply-generic op . args)\n",
    "  (display \"apply-generic \" op \" \" args)\n",
    "  (display \"\\n\")\n",
    "  (let ((type-tags (map type-tag args)))\n",
    "    (let ((proc (get op type-tags)))\n",
    "      (if proc\n",
    "          (apply proc (map contents args))\n",
    "          (error\n",
    "           \"No method for these types: APPLY-GENERIC\"\n",
    "           (list op type-tags )))))\n",
    "  )"
   ]
  },
  {
   "cell_type": "code",
   "execution_count": 21,
   "metadata": {},
   "outputs": [],
   "source": [
    "(define (add x y) (apply-generic 'add x y))\n",
    "(define (sub x y) (apply-generic 'sub x y))\n",
    "(define (mul x y) (apply-generic 'mul x y))\n",
    "(define (div x y) (apply-generic 'div x y))\n"
   ]
  },
  {
   "cell_type": "code",
   "execution_count": 22,
   "metadata": {},
   "outputs": [
    {
     "data": {
      "text/plain": [
       "done"
      ]
     },
     "execution_count": 22,
     "metadata": {},
     "output_type": "execute_result"
    }
   ],
   "source": [
    "(import \"math\")\n",
    "(define (square x)(* x x))\n",
    "\n",
    "(define (install-rectangular-package)\n",
    "  ;; 内部⼿続き\n",
    "  (define (real-part z) (car z))\n",
    "  (define (imag-part z) (cdr z))\n",
    "  (define (make-from-real-imag x y) (cons x y))\n",
    "  (define (magnitude z) (sqrt (+ (square (real-part z)) (square (imag-part z)))))\n",
    "  (define (angle z) (math.atan2 (imag-part z) (real-part z)))\n",
    "  (define (make-from-mag-ang r a) (cons (* r (math.cos a)) (* r (math.sin a))))\n",
    "  ;; システムのほかの部分とのインターフェイス\n",
    "  (define (tag x) (attach-tag 'rectangular x))\n",
    "  (put 'real-part '(rectangular) real-part)\n",
    "  (put 'imag-part '(rectangular) imag-part)\n",
    "  (put 'magnitude '(rectangular) magnitude)\n",
    "  (put 'angle '(rectangular) angle)\n",
    "  (put 'make-from-real-imag 'rectangular (lambda (x y) (tag (make-from-real-imag x y))))\n",
    "  (put 'make-from-mag-ang 'rectangular (lambda (r a) (tag (make-from-mag-ang r a))))\n",
    "'done)\n",
    "\n",
    "(define (install-polar-package)\n",
    "  ;; 内部⼿続き\n",
    "  (define (magnitude z) (car z))\n",
    "  (define (angle z) (cdr z))\n",
    "  (define (make-from-mag-ang r a) (cons r a))\n",
    "  (define (real-part z) (* (magnitude z) (math.cos (angle z))))\n",
    "  (define (imag-part z) (* (magnitude z) (math.sin (angle z))))\n",
    "  (define (make-from-real-imag x y) (cons (sqrt (+ (square x) (square y))) (math.atan2 y x)))\n",
    "  ;; システムのほかの部分とのインターフェイス\n",
    "  (define (tag x) (attach-tag 'polar x))\n",
    "  (put 'real-part '(polar) real-part)\n",
    "  (put 'imag-part '(polar) imag-part)\n",
    "  (put 'magnitude '(polar) magnitude)\n",
    "  (put 'angle '(polar) angle)\n",
    "  (put 'make-from-real-imag 'polar (lambda (x y) (tag (make-from-real-imag x y))))\n",
    "  (put 'make-from-mag-ang 'polar (lambda (r a) (tag (make-from-mag-ang r a))))\n",
    "  'done)\n",
    "\n",
    "(define (real-part z) (apply-generic 'real-part z))\n",
    "(define (imag-part z) (apply-generic 'imag-part z))\n",
    "(define (magnitude z) (apply-generic 'magnitude z))\n",
    "(define (angle z) (apply-generic 'angle z))\n",
    "\n",
    "(define (make-from-real-imag x y) ((get 'make-from-real-imag 'rectangular) x y))\n",
    "(define (make-from-mag-ang r a) ((get 'make-from-mag-ang 'polar) r a))\n",
    "\n",
    "(install-rectangular-package)\n",
    "(install-polar-package)"
   ]
  },
  {
   "cell_type": "code",
   "execution_count": 23,
   "metadata": {},
   "outputs": [
    {
     "data": {
      "text/plain": [
       "done"
      ]
     },
     "execution_count": 23,
     "metadata": {},
     "output_type": "execute_result"
    }
   ],
   "source": [
    "(define (install-complex-package)\n",
    "  ;; 直交形式パッケージと極形式パッケージからインポートした⼿続き\n",
    "  (define (make-from-real-imag x y) ((get 'make-from-real-imag 'rectangular) x y))\n",
    "  (define (make-from-mag-ang r a) ((get 'make-from-mag-ang 'polar) r a))\n",
    "  ;; 内部⼿続き\n",
    "  (define (add-complex z1 z2) (make-from-real-imag (+ (real-part z1) (real-part z2)) (+ (imag-part z1) (imag-part z2))))\n",
    "  (define (sub-complex z1 z2) (make-from-real-imag (- (real-part z1) (real-part z2)) (- (imag-part z1) (imag-part z2))))\n",
    "  (define (mul-complex z1 z2) (make-from-mag-ang (* (magnitude z1) (magnitude z2)) (+ (angle z1) (angle z2))))\n",
    "  (define (div-complex z1 z2) (make-from-mag-ang (/ (magnitude z1) (magnitude z2)) (- (angle z1) (angle z2))))\n",
    "  ;; システムのほかの部分とのインターフェイス\n",
    "  (define (tag z) (attach-tag 'complex z))\n",
    "  (put 'add '(complex complex) (lambda (z1 z2) (tag (add-complex z1 z2))))\n",
    "  (put 'sub '(complex complex) (lambda (z1 z2) (tag (sub-complex z1 z2))))\n",
    "  (put 'mul '(complex complex) (lambda (z1 z2) (tag (mul-complex z1 z2))))\n",
    "  (put 'div '(complex complex) (lambda (z1 z2) (tag (div-complex z1 z2))))\n",
    "  (put 'make-from-real-imag 'complex (lambda (x y) (tag (make-from-real-imag x y))))\n",
    "  (put 'make-from-mag-ang 'complex (lambda (r a) (tag (make-from-mag-ang r a))))\n",
    "  'done)\n",
    "\n",
    "(define (make-complex-from-real-imag x y) ((get 'make-from-real-imag 'complex) x y))\n",
    "(define (make-complex-from-mag-ang r a) ((get 'make-from-mag-ang 'complex) r a))\n",
    "\n",
    "(install-complex-package)"
   ]
  },
  {
   "cell_type": "code",
   "execution_count": 24,
   "metadata": {},
   "outputs": [
    {
     "name": "stdout",
     "output_type": "stream",
     "text": [
      "apply-generic \n",
      "apply-generic \n",
      "apply-generic \n",
      "apply-generic \n",
      "apply-generic \n",
      "(complex rectangular 2 . 5)\n",
      "apply-generic \n",
      "apply-generic \n",
      "apply-generic \n",
      "apply-generic \n",
      "apply-generic \n",
      "(complex rectangular 0 . -1)\n",
      "apply-generic \n",
      "apply-generic \n",
      "apply-generic \n",
      "apply-generic \n",
      "apply-generic \n",
      "(complex polar 7.071067811865476 . 2.356194490192345)\n",
      "apply-generic \n",
      "apply-generic \n",
      "apply-generic \n",
      "apply-generic \n",
      "apply-generic \n",
      "(complex polar 0.7071067811865475 . -0.14189705460416402)\n"
     ]
    }
   ],
   "source": [
    "(define a (make-complex-from-real-imag 1 2))\n",
    "(define b (make-complex-from-real-imag 1 3))\n",
    "\n",
    "(display (add a b))\n",
    "(display \"\\n\")\n",
    "(display (sub a b))\n",
    "(display \"\\n\")\n",
    "(display (mul a b))\n",
    "(display \"\\n\")\n",
    "(display (div a b))\n",
    "(display \"\\n\")\n"
   ]
  },
  {
   "cell_type": "code",
   "execution_count": 25,
   "metadata": {},
   "outputs": [
    {
     "name": "stdout",
     "output_type": "stream",
     "text": [
      "apply-generic \n"
     ]
    },
    {
     "name": "stderr",
     "output_type": "stream",
     "text": [
      "\u001b[1;31m\n",
      "Traceback (most recent call last):\n",
      "  File \"In [25]\", line 3, col 1, in 'magnitude'\n",
      "  File \"In [22]\", line 42, col 23, in 'apply-generic'\n",
      "  File \"In [20]\", line 102, col 3, in 'let'\n",
      "  File \"In [20]\", line 103, col 5, in 'let'\n",
      "  File \"In [20]\", line 106, col 11, in 'error'\n",
      "UnhandledException: string argument expected, got 'Symbol'\n",
      "\n",
      "\u001b[0m"
     ]
    }
   ],
   "source": [
    "(define a (make-complex-from-real-imag 3 4))\n",
    "\n",
    "(magnitude a)\n"
   ]
  },
  {
   "cell_type": "code",
   "execution_count": 26,
   "metadata": {},
   "outputs": [
    {
     "data": {
      "text/plain": [
       "done"
      ]
     },
     "execution_count": 26,
     "metadata": {},
     "output_type": "execute_result"
    }
   ],
   "source": [
    "(define (install-complex-package)\n",
    "  ;; 直交形式パッケージと極形式パッケージからインポートした⼿続き\n",
    "  (define (make-from-real-imag x y) ((get 'make-from-real-imag 'rectangular) x y))\n",
    "  (define (make-from-mag-ang r a) ((get 'make-from-mag-ang 'polar) r a))\n",
    "  ;; 内部⼿続き\n",
    "  (define (add-complex z1 z2) (make-from-real-imag (+ (real-part z1) (real-part z2)) (+ (imag-part z1) (imag-part z2))))\n",
    "  (define (sub-complex z1 z2) (make-from-real-imag (- (real-part z1) (real-part z2)) (- (imag-part z1) (imag-part z2))))\n",
    "  (define (mul-complex z1 z2) (make-from-mag-ang (* (magnitude z1) (magnitude z2)) (+ (angle z1) (angle z2))))\n",
    "  (define (div-complex z1 z2) (make-from-mag-ang (/ (magnitude z1) (magnitude z2)) (- (angle z1) (angle z2))))\n",
    "  ;; システムのほかの部分とのインターフェイス\n",
    "  (define (tag z) (attach-tag 'complex z))\n",
    "  (put 'add '(complex complex) (lambda (z1 z2) (tag (add-complex z1 z2))))\n",
    "  (put 'sub '(complex complex) (lambda (z1 z2) (tag (sub-complex z1 z2))))\n",
    "  (put 'mul '(complex complex) (lambda (z1 z2) (tag (mul-complex z1 z2))))\n",
    "  (put 'div '(complex complex) (lambda (z1 z2) (tag (div-complex z1 z2))))\n",
    "  (put 'make-from-real-imag 'complex (lambda (x y) (tag (make-from-real-imag x y))))\n",
    "  (put 'make-from-mag-ang 'complex (lambda (r a) (tag (make-from-mag-ang r a))))\n",
    "  ;; 追加\n",
    "  (put 'real-part '(complex) real-part)\n",
    "  (put 'imag-part '(complex) imag-part)\n",
    "  (put 'magnitude '(complex) magnitude)\n",
    "  (put 'angle '(complex) angle)\n",
    "\n",
    "  'done)\n",
    "\n",
    "(define (make-complex-from-real-imag x y) ((get 'make-from-real-imag 'complex) x y))\n",
    "(define (make-complex-from-mag-ang r a) ((get 'make-from-mag-ang 'complex) r a))\n",
    "\n",
    "(install-complex-package)"
   ]
  },
  {
   "cell_type": "code",
   "execution_count": 27,
   "metadata": {},
   "outputs": [
    {
     "name": "stdout",
     "output_type": "stream",
     "text": [
      "apply-generic \n",
      "apply-generic \n",
      "5.0\n",
      "apply-generic \n",
      "apply-generic \n",
      "0.9272952180016122\n"
     ]
    }
   ],
   "source": [
    "(define a (make-complex-from-real-imag 3 4))\n",
    "\n",
    "(display (magnitude a))\n",
    "(display \"\\n\")\n",
    "(display (angle a))\n",
    "(display \"\\n\")\n"
   ]
  },
  {
   "cell_type": "code",
   "execution_count": 28,
   "metadata": {},
   "outputs": [
    {
     "name": "stdout",
     "output_type": "stream",
     "text": [
      "apply-generic \n",
      "apply-generic \n",
      "1.4142135623730951\n",
      "apply-generic \n",
      "apply-generic \n",
      "0.7853981633974483\n"
     ]
    }
   ],
   "source": [
    "(define b (make-complex-from-real-imag 1 1))\n",
    "\n",
    "(display (magnitude b))\n",
    "(display \"\\n\")\n",
    "(display (angle b))\n",
    "(display \"\\n\")\n"
   ]
  },
  {
   "cell_type": "code",
   "execution_count": 19,
   "metadata": {},
   "outputs": [
    {
     "name": "stdout",
     "output_type": "stream",
     "text": [
      "apply-generic apply-generic "
     ]
    },
    {
     "name": "stderr",
     "output_type": "stream",
     "text": [
      "\u001b[1;31m\n",
      "Traceback (most recent call last):\n",
      "  File \"In [19]\", line 1, col 1, in 'magnitude'\n",
      "  File \"In [3]\", line 42, col 23, in 'apply-generic'\n",
      "  File \"In [14]\", line 102, col 3, in 'let'\n",
      "  File \"In [14]\", line 103, col 5, in 'let'\n",
      "  File \"In [14]\", line 105, col 11, in 'apply'\n",
      "  File \"In [3]\", line 42, col 23, in 'apply-generic'\n",
      "  File \"In [14]\", line 102, col 3, in 'let'\n",
      "  File \"In [14]\", line 103, col 5, in 'let'\n",
      "  File \"In [14]\", line 106, col 11, in 'error'\n",
      "UnhandledException: string argument expected, got 'Symbol'\n",
      "\n",
      "\u001b[0m"
     ]
    }
   ],
   "source": [
    "(magnitude b)\n",
    "->\n",
    "(apply-generic 'magnitude b)\n",
    "->\n",
    "complex <- tape-tag b\n",
    "pro1c <- complexのmagunitude\n",
    "data1 <- contents b\n",
    "->\n",
    "(magunitude data1)\n",
    "->\n",
    "(apply-generic 'rectangular b)\n",
    "->\n",
    "rectangular <- tape-tag data1\n",
    "proc <- rectangularのmagunitude\n",
    "data2(real imag) <- contents data1\n"
   ]
  },
  {
   "cell_type": "code",
   "execution_count": null,
   "metadata": {},
   "outputs": [],
   "source": []
  }
 ],
 "metadata": {
  "kernelspec": {
   "display_name": "Calysto Scheme 3",
   "language": "scheme",
   "name": "calysto_scheme"
  },
  "language_info": {
   "codemirror_mode": {
    "name": "scheme"
   },
   "mimetype": "text/x-scheme",
   "name": "scheme",
   "pygments_lexer": "scheme"
  }
 },
 "nbformat": 4,
 "nbformat_minor": 4
}
