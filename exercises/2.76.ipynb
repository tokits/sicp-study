{
 "cells": [
  {
   "cell_type": "markdown",
   "metadata": {},
   "source": [
    "### 練習問題2.76\n",
    "ジェネリック演算を使った⼤きなシステムが発展するにつれ、新しいデータオブジェクトの型や新しい演算が必要になることがある。\n",
    "三つの戦略 (明⽰的ディスパッチによるジェネリック演算、データ主導スタイル、メッセージパッシングスタイル) それぞれについて、\n",
    "新しい型や新しい演算を追加するために必要な変更を記述せよ。\n",
    "新しい型がよく追加されるシステムでは、どの組み⽴て⽅が最も適しているだろうか。\n",
    "新しい演算を追加するシステムでは、どれが最も適しているだろうか。"
   ]
  },
  {
   "cell_type": "markdown",
   "metadata": {},
   "source": [
    "- 明⽰的ディスパッチによるジェネリック演算\n",
    "2.4.2節のプログラミングスタイル\n",
    "- データ主導スタイル\n",
    "2.4.3節のプログラミングスタイル\n",
    "- メッセージパッシングスタイル\n",
    "コンストラクタでdispatch手続きを返すプログラミングスタイル"
   ]
  },
  {
   "cell_type": "markdown",
   "metadata": {},
   "source": [
    "<b>新しい型がよく追加されるシステム</b>\n",
    "・・・データ主導スタイル<br/>\n",
    "理由：加法敵なので、型・算術演算のパッケージとして追加できる。\n",
    "\n"
   ]
  },
  {
   "cell_type": "markdown",
   "metadata": {},
   "source": [
    "<b>新しい演算を追加するシステム</b>\n",
    "・・・明示的ディスパッチによるジェネリック演算<br/>\n",
    "理由：演算毎に明示的にディスパッチするため、この方がコード量としては比較的に少なく実装できるように見えるから。"
   ]
  },
  {
   "cell_type": "code",
   "execution_count": null,
   "metadata": {},
   "outputs": [],
   "source": []
  }
 ],
 "metadata": {
  "kernelspec": {
   "display_name": "Calysto Scheme 3",
   "language": "scheme",
   "name": "calysto_scheme"
  },
  "language_info": {
   "codemirror_mode": {
    "name": "scheme"
   },
   "mimetype": "text/x-scheme",
   "name": "scheme",
   "pygments_lexer": "scheme"
  }
 },
 "nbformat": 4,
 "nbformat_minor": 4
}
