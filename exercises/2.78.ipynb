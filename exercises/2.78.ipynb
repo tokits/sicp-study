{
 "cells": [
  {
   "cell_type": "markdown",
   "metadata": {},
   "source": [
    "### 練習問題2.78\n",
    "scheme-number パッケージの内部⼿続きは、本質的に基本⼿続き +, - その他に対する呼び出しでしかない。<br/>\n",
    "ここでのタイプタグシステムでは、\n",
    "各データオブジェクトに型がくっついていないといけないようになっていたので、<br/>\n",
    "直接この⾔語の基本⼿続きを使うことはできなかった。<br/>\n",
    "しかし、実際のところ、Lispの実装はすべて型システムを持っていて、内部で使⽤している。<br/>\n",
    "symbol? や number? のような基本述語は、\n",
    "データオブジェクトが特定の型を持つか識別している。<br/>\n",
    "2.4.2 節の type-tag, contents,attach-tag の定義を変更し、<br/>\n",
    "ここでのジェネリックシステムがScheme の内部型システムを利⽤できるようにせよ。<br/>\n",
    "つまり、システムの挙動はそのままで、\n",
    "普通の数値を car が scheme-number という記号であるペアとして表すのではなく、<br/>\n",
    "単に Scheme の数値として表現されるようにせよ。"
   ]
  },
  {
   "cell_type": "code",
   "execution_count": 1,
   "metadata": {
    "tags": []
   },
   "outputs": [],
   "source": [
    "(define (lookup key table)\n",
    "  (let ((record (assoc key (cdr table))))\n",
    "    (if record (cdr record)\n",
    "        #f)\n",
    "    )\n",
    "  )\n",
    "\n",
    "(define (assoc key records)\n",
    "  (cond ((null? records) #f)\n",
    "        ((equal? key (caar records)) (car records))\n",
    "        (else (assoc key (cdr records)))\n",
    "        )\n",
    "  )\n",
    "\n",
    "(define (insert! key value table)\n",
    "  (let ((record (assoc key (cdr table))))\n",
    "    (if record (set-cdr! record value)\n",
    "        (set-cdr! table (cons (cons key value) (cdr table)))\n",
    "        )\n",
    "    )\n",
    "  'ok)\n",
    "\n",
    "(define (lookup key-1 key-2 table)\n",
    "  (let ((subtable (assoc key-1 (cdr table))))\n",
    "    (if subtable\n",
    "        (let ((record (assoc key-2 (cdr subtable))))\n",
    "          (if record (cdr record)\n",
    "              #f\n",
    "              )\n",
    "          )\n",
    "        #f\n",
    "        )\n",
    "    )\n",
    "  )\n",
    "\n",
    "(define (insert! key-1 key-2 value table)\n",
    "  (let ((subtable (assoc key-1 (cdr table))))\n",
    "    (if subtable\n",
    "        (let ((record (assoc key-2 (cdr subtable))))\n",
    "          (if record (set-cdr! record value)\n",
    "              (set-cdr! subtable (cons (cons key-2 value) (cdr subtable)))\n",
    "              )\n",
    "          )\n",
    "        (set-cdr! table (cons (list key-1 (cons key-2 value)) (cdr table)))\n",
    "        )\n",
    "    )\n",
    "  'ok)\n",
    "\n",
    "(define (make-table)\n",
    "  (let ((local-table (list '*table*)))\n",
    "    (define (lookup key-1 key-2)\n",
    "      (let ((subtable (assoc key-1 (cdr local-table))))\n",
    "        (if subtable\n",
    "            (let ((record (assoc key-2 (cdr subtable))))\n",
    "              (if record (cdr record) #f))\n",
    "            #f)\n",
    "        )\n",
    "      )\n",
    "    (define (insert! key-1 key-2 value)\n",
    "      (let ((subtable (assoc key-1 (cdr local-table))))\n",
    "        (if subtable\n",
    "            (let ((record (assoc key-2 (cdr subtable))))\n",
    "              (if record (set-cdr! record value)\n",
    "                  (set-cdr! subtable (cons (cons key-2 value) (cdr subtable)))\n",
    "                  )\n",
    "              )\n",
    "            (set-cdr! local-table (cons (list key-1 (cons key-2 value)) (cdr local-table )))\n",
    "            )\n",
    "        )\n",
    "      'ok)\n",
    "    (define (dispatch m)\n",
    "      (cond ((eq? m 'lookup-proc) lookup)\n",
    "            ((eq? m 'insert-proc!) insert!)\n",
    "            (else (error \"Unknown operation: TABLE\" m)))\n",
    "      )\n",
    "    dispatch)\n",
    "  )\n",
    "\n",
    ";(define (make-table) (list '*table*))\n",
    "\n",
    "(define operation-table (make-table))\n",
    "(define get (operation-table 'lookup-proc))\n",
    "(define put (operation-table 'insert-proc!))\n",
    "\n",
    "; タグつきデータのコンストラクタ\n",
    "(define (attach-tag type-tag contents)\n",
    "  (cons type-tag contents))\n",
    "\n",
    "; タグを返すセレクタ\n",
    "(define (type-tag datum)\n",
    "  (if (pair? datum) (car datum)\n",
    "      (error \"Bad tagged datum: TYPE-TAG\" datum))\n",
    "  )\n",
    "; データを返すセレクタ\n",
    "(define (contents datum)\n",
    "  (if (pair? datum) (cdr datum)\n",
    "      (error \"Bad tagged datum: CONTENTS\" datum))\n",
    "  )\n",
    "\n",
    ";\n",
    "(define (apply-generic op . args)\n",
    "  (let ((type-tags (map type-tag args)))\n",
    "    (let ((proc (get op type-tags)))\n",
    "      (if proc\n",
    "          (apply proc (map contents args))\n",
    "          (error\n",
    "           \"No method for these types: APPLY-GENERIC\"\n",
    "           (list op type-tags ))))))"
   ]
  },
  {
   "cell_type": "code",
   "execution_count": 2,
   "metadata": {},
   "outputs": [],
   "source": [
    "(define (add x y) (apply-generic 'add x y))\n",
    "(define (sub x y) (apply-generic 'sub x y))\n",
    "(define (mul x y) (apply-generic 'mul x y))\n",
    "(define (div x y) (apply-generic 'div x y))\n"
   ]
  },
  {
   "cell_type": "code",
   "execution_count": 3,
   "metadata": {},
   "outputs": [
    {
     "data": {
      "text/plain": [
       "done"
      ]
     },
     "execution_count": 3,
     "metadata": {},
     "output_type": "execute_result"
    }
   ],
   "source": [
    "(define (install-scheme-number-package)\n",
    "  (define (tag x) (attach-tag 'scheme-number x))\n",
    "  (put 'add '(scheme-number scheme-number) (lambda (x y) (tag (+ x y))))\n",
    "  (put 'sub '(scheme-number scheme-number) (lambda (x y) (tag (- x y))))\n",
    "  (put 'mul '(scheme-number scheme-number) (lambda (x y) (tag (* x y))))\n",
    "  (put 'div '(scheme-number scheme-number) (lambda (x y) (tag (/ x y))))\n",
    "  (put 'make 'scheme-number (lambda (x) (tag x)))\n",
    "'done)\n",
    "\n",
    "(define (make-scheme-number n) ((get 'make 'scheme-number) n))\n",
    "\n",
    "(install-scheme-number-package)"
   ]
  },
  {
   "cell_type": "code",
   "execution_count": 4,
   "metadata": {},
   "outputs": [],
   "source": [
    "; タグつきデータのコンストラクタ\n",
    "(define (attach-tag type-tag contents)\n",
    "  (if (eq? type-tag 'scheme-number) contents\n",
    "      (cons type-tag contents))\n",
    "  )\n",
    "\n",
    "; タグを返すセレクタ\n",
    "(define (type-tag datum)\n",
    "  (if (pair? datum) (car datum)\n",
    "      'scheme-number)\n",
    "  )\n",
    "\n",
    "; データを返すセレクタ\n",
    "(define (contents datum)\n",
    "  (if (pair? datum) (cdr datum)\n",
    "      datum)\n",
    "  )"
   ]
  },
  {
   "cell_type": "code",
   "execution_count": 5,
   "metadata": {},
   "outputs": [
    {
     "name": "stdout",
     "output_type": "stream",
     "text": [
      "2\n",
      "4\n"
     ]
    }
   ],
   "source": [
    "(define a (make-scheme-number 2))\n",
    "(define b (make-scheme-number 4))\n",
    "\n",
    "(display a)\n",
    "(display \"\\n\")\n",
    "(display b)\n",
    "(display \"\\n\")"
   ]
  },
  {
   "cell_type": "code",
   "execution_count": 6,
   "metadata": {},
   "outputs": [
    {
     "name": "stdout",
     "output_type": "stream",
     "text": [
      "6\n",
      "-2\n",
      "8\n",
      "1/2\n"
     ]
    }
   ],
   "source": [
    "(display (add a b))\n",
    "(display \"\\n\")\n",
    "(display (sub a b))\n",
    "(display \"\\n\")\n",
    "(display (mul a b))\n",
    "(display \"\\n\")\n",
    "(display (div a b))\n",
    "(display \"\\n\")"
   ]
  },
  {
   "cell_type": "code",
   "execution_count": 7,
   "metadata": {},
   "outputs": [],
   "source": [
    "; number?を使う場合\n",
    "\n",
    "(define (attach-tag type-tag contents)\n",
    "  (if (number? contents)\n",
    "      contents\n",
    "      (cons type-tag contents)))\n",
    "\n",
    "(define (type-tag datum)\n",
    "  (cond ((number? datum) 'scheme-number)\n",
    "        ((pair? datum) (car datum))\n",
    "        (else (error \"Bad tagged datum: TYPE-TAG\" datum))))\n",
    "\n",
    "(define (contents datum)\n",
    "  (cond ((number? datum) datum)\n",
    "        ((pair? datum) (cdr datum))\n",
    "        (else (error \"Bad tagged datum: CONTENTS\" datum))))"
   ]
  },
  {
   "cell_type": "code",
   "execution_count": null,
   "metadata": {},
   "outputs": [],
   "source": [
    "; symbol?を使う場合　-> 使ってはできない。\n",
    "\n",
    "(define (attach-tag type-tag contents)\n",
    "  (if (number? contents)\n",
    "      contents\n",
    "      (cons type-tag contents)))\n",
    "\n",
    "(define (type-tag datum)\n",
    "  (cond ((number? datum) 'scheme-number)\n",
    "        ((pair? datum) (car datum))\n",
    "        (else (error \"Bad tagged datum: TYPE-TAG\" datum))))\n",
    "\n",
    "(define (contents datum)\n",
    "  (cond ((number? datum) datum)\n",
    "        ((pair? datum) (cdr datum))\n",
    "        (else (error \"Bad tagged datum: CONTENTS\" datum))))"
   ]
  }
 ],
 "metadata": {
  "kernelspec": {
   "display_name": "Calysto Scheme 3",
   "language": "scheme",
   "name": "calysto_scheme"
  },
  "language_info": {
   "codemirror_mode": {
    "name": "scheme"
   },
   "mimetype": "text/x-scheme",
   "name": "scheme",
   "pygments_lexer": "scheme"
  }
 },
 "nbformat": 4,
 "nbformat_minor": 4
}
