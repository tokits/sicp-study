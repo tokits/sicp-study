{
 "cells": [
  {
   "cell_type": "markdown",
   "metadata": {},
   "source": [
    "### 練習問題1.35\n",
    "⻩⾦⽐$\\varphi$(1.2.2節)が\n",
    "\n",
    "$x \\mapsto 1 + \\frac{1}{x}$  \n",
    "\n",
    "という変形の不動点であることを⽰し、  \n",
    "そのことを利⽤して$\\varphi$をfixed-point⼿続きによって求めよ。"
   ]
  },
  {
   "cell_type": "markdown",
   "metadata": {},
   "source": [
    "黄金比$\\varphi$は\n",
    "$x^2=x+1$の解であることが分かっている。  \n",
    "両辺を$x$で割ると、$x=1+\\frac{1}{x}$ となる。\n",
    "これは\n",
    "$f(x)=1+\\frac{1}{x}$  \n",
    "としたときの、不動点を表す式となっている。"
   ]
  },
  {
   "cell_type": "code",
   "execution_count": 1,
   "metadata": {},
   "outputs": [],
   "source": [
    "(define tolerance 0.00001)\n",
    "\n",
    "(define (fixed-point f first-guess)\n",
    "  (define (close-enough? v1 v2)\n",
    "    (begin\n",
    "     (display v1)\n",
    "     (display \" \")\n",
    "     (display v2)\n",
    "     (newline)\n",
    "     (< (abs (- v1 v2)) tolerance)\n",
    "     )\n",
    "    )\n",
    "  ;tryは予約後になっているようで名前を変えないと動作しなかった\n",
    "  (define (try-tmp guess)\n",
    "    ;(display first-guess)\n",
    "    ;(newline)\n",
    "    (let ((next (f guess)))\n",
    "      (if (close-enough? guess next) next\n",
    "          (try-tmp next)))\n",
    "    )\n",
    "  (try-tmp first-guess)\n",
    "  )"
   ]
  },
  {
   "cell_type": "code",
   "execution_count": 2,
   "metadata": {},
   "outputs": [
    {
     "name": "stdout",
     "output_type": "stream",
     "text": [
      "1.0 2.0\n",
      "2.0 1.5\n",
      "1.5 1.6666666666666665\n",
      "1.6666666666666665 1.6\n",
      "1.6 1.625\n",
      "1.625 1.6153846153846154\n",
      "1.6153846153846154 1.619047619047619\n",
      "1.619047619047619 1.6176470588235294\n",
      "1.6176470588235294 1.6181818181818182\n",
      "1.6181818181818182 1.6179775280898876\n",
      "1.6179775280898876 1.6180555555555556\n",
      "1.6180555555555556 1.6180257510729614\n",
      "1.6180257510729614 1.6180371352785146\n",
      "1.6180371352785146 1.6180327868852458\n"
     ]
    },
    {
     "data": {
      "text/plain": [
       "1.6180327868852458"
      ]
     },
     "execution_count": 2,
     "metadata": {},
     "output_type": "execute_result"
    }
   ],
   "source": [
    "(fixed-point (lambda (x)(+ 1 (/ 1 x))) 1.0)"
   ]
  }
 ],
 "metadata": {
  "kernelspec": {
   "display_name": "Calysto Scheme 3",
   "language": "scheme",
   "name": "calysto_scheme"
  },
  "language_info": {
   "codemirror_mode": {
    "name": "scheme"
   },
   "mimetype": "text/x-scheme",
   "name": "scheme",
   "pygments_lexer": "scheme"
  }
 },
 "nbformat": 4,
 "nbformat_minor": 4
}
