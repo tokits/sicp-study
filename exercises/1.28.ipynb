{
 "cells": [
  {
   "cell_type": "markdown",
   "metadata": {},
   "source": [
    "### 練習問題1.28\n",
    "騙すことができないフェルマーテストの変種の\n",
    "ひとつにミラー-ラビンテスト (Miller-Rabin test) (Miller 1976;\n",
    "Rabin 1980) がある。これは、次のようなフェルマーの⼩定理の別\n",
    "の形から始める。$n$が素数で、かつ$a$が$n$以下の任意の正の整数\n",
    "であれば、$a$の$(n−1)$乗は法$n$に関して$1$と合同であるという\n",
    "ものだ。Miller-Rabinテストで数値$n$の素数性をテストするには、\n",
    "$a<n$である適当な$a$を選び、expmod⼿続きを使って$a$の$(n − 1)$\n",
    "乗の$n$を法とする剰余を求める。しかし、expmod ⼿続きの中で⼆\n",
    "乗を⾏うステップで、毎回 \"法$n$に関する⾃明でない$1$の平⽅根\"\n",
    "を⾒つけたかチェックする。これは、$1$とも$n−1$とも等しくない\n",
    "数値で、その⼆乗が法$n$に関して$1$に等しい数値である。そのよ\n",
    "うな⾃明でない$1$の平⽅根が存在すれば$n$は素数ではないという\n",
    "ことは証明できる。また、もし$n$が素数でない奇数であれば、少な\n",
    "くとも$a<n$である$a$のうち半分は、このように$a^{n−1}$を演算する\n",
    "と、法$n$に関する⾃明でない$1$の平⽅根が現れるということも証\n",
    "明できる (このため、Miller-Rabin テストは騙すことができない)。\n",
    "expmod ⼿続きを変更し、⾃明でない$1$の平⽅根を⾒つけるとシグ\n",
    "ナルを送るようにして、それを使って fermat-test と同じような\n",
    "⼿続きとして Miller-Rabin テストを実装せよ。既知の素数、⾮素\n",
    "数を使ってその⼿続きをチェックせよ。ヒント：expmod にシグナルを送らせる簡単な⽅法のひとつとして、$0$を返すようにするとい\n",
    "うものがある。"
   ]
  },
  {
   "cell_type": "markdown",
   "metadata": {},
   "source": [
    "回答は割愛する。"
   ]
  }
 ],
 "metadata": {
  "kernelspec": {
   "display_name": "Calysto Scheme 3",
   "language": "scheme",
   "name": "calysto_scheme"
  },
  "language_info": {
   "codemirror_mode": {
    "name": "scheme"
   },
   "mimetype": "text/x-scheme",
   "name": "scheme",
   "pygments_lexer": "scheme"
  }
 },
 "nbformat": 4,
 "nbformat_minor": 4
}
