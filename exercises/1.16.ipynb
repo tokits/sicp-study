{
 "cells": [
  {
   "cell_type": "markdown",
   "metadata": {},
   "source": [
    "### 練習問題1.16\n",
    "fast-exptと同じように⼆乗の連続を使って、  \n",
    "指数計算を対数的ステップ数で実⾏する反復的プロセスを⽣成する⼿続きを設計せよ。  \n",
    "(ヒント：$(b^{\\frac{n}{2}})^2 = (b^2)^{\\frac{n}{2}}$を使い、 \n",
    "指数n、基数$b$のほかに追加の状態変数$a$を持ち、\n",
    "積$a \\cdot b^n$が各状態を通して⼀定であるような状態変換を定義せよ。  \n",
    "プロセスの最初では$a$は$1$ とし、答えはプロセス終了時のaの値として得られる。  \n",
    "⼀般的に、各状態を通して⼀定であるような不変量(invariant quantity)を  \n",
    "定義するというテクニックは、  \n",
    "反復アルゴリズムを設計するうえで 強⼒な⽅法である。)  "
   ]
  },
  {
   "cell_type": "code",
   "execution_count": 1,
   "metadata": {},
   "outputs": [],
   "source": [
    "(define (fast-expt b n)\n",
    "  (expt-iter b n 1)\n",
    "  )\n",
    "(define (expt-iter b counter product)\n",
    "  (cond ((= counter 0) product)\n",
    "        ((even? counter)(expt-iter (square b) (/ counter 2) product))\n",
    "        (else (expt-iter b (- counter 1) (* product b)))\n",
    "    )\n",
    "  )\n",
    "; 偶数かどうか判定\n",
    "(define (even? n)\n",
    "  (= (remainder n 2) 0)\n",
    "  )\n",
    "(define (square x) (* x x))"
   ]
  },
  {
   "cell_type": "code",
   "execution_count": 2,
   "metadata": {},
   "outputs": [
    {
     "data": {
      "text/plain": [
       "131072"
      ]
     },
     "execution_count": 2,
     "metadata": {},
     "output_type": "execute_result"
    }
   ],
   "source": [
    "(fast-expt 2 17)"
   ]
  },
  {
   "cell_type": "code",
   "execution_count": 3,
   "metadata": {},
   "outputs": [
    {
     "data": {
      "text/plain": [
       "10715086071862673209484250490600018105614048117055336074437503883703510511249361224931983788156958581275946729175531468251871452856923140435984577574698574803934567774824230985421074605062371141877954182153046474983581941267398767559165543946077062914571196477686542167660429831652624386837205668069376"
      ]
     },
     "execution_count": 3,
     "metadata": {},
     "output_type": "execute_result"
    }
   ],
   "source": [
    "(fast-expt 2 1000)"
   ]
  }
 ],
 "metadata": {
  "kernelspec": {
   "display_name": "Calysto Scheme 3",
   "language": "scheme",
   "name": "calysto_scheme"
  },
  "language_info": {
   "codemirror_mode": {
    "name": "scheme"
   },
   "mimetype": "text/x-scheme",
   "name": "scheme",
   "pygments_lexer": "scheme"
  }
 },
 "nbformat": 4,
 "nbformat_minor": 4
}
