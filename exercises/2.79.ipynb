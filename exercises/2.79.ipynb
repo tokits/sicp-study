{
 "cells": [
  {
   "cell_type": "markdown",
   "metadata": {},
   "source": [
    "### 練習問題2.79\n",
    "⼆つの数値の等価性をテストするジェネリックな等価性述語 equ? を定義し、<br/>\n",
    "ジェネリック算術演算パッケージに組み込め。この演算は、通常の数値、有理数、複素数に対して動作しなければならない。"
   ]
  },
  {
   "cell_type": "code",
   "execution_count": 1,
   "metadata": {
    "tags": []
   },
   "outputs": [],
   "source": [
    "(define (lookup key table)\n",
    "  (let ((record (assoc key (cdr table))))\n",
    "    (if record (cdr record)\n",
    "        #f)\n",
    "    )\n",
    "  )\n",
    "\n",
    "(define (assoc key records)\n",
    "  (cond ((null? records) #f)\n",
    "        ((equal? key (caar records)) (car records))\n",
    "        (else (assoc key (cdr records)))\n",
    "        )\n",
    "  )\n",
    "\n",
    "(define (insert! key value table)\n",
    "  (let ((record (assoc key (cdr table))))\n",
    "    (if record (set-cdr! record value)\n",
    "        (set-cdr! table (cons (cons key value) (cdr table)))\n",
    "        )\n",
    "    )\n",
    "  'ok)\n",
    "\n",
    "(define (lookup key-1 key-2 table)\n",
    "  (let ((subtable (assoc key-1 (cdr table))))\n",
    "    (if subtable\n",
    "        (let ((record (assoc key-2 (cdr subtable))))\n",
    "          (if record (cdr record)\n",
    "              #f\n",
    "              )\n",
    "          )\n",
    "        #f\n",
    "        )\n",
    "    )\n",
    "  )\n",
    "\n",
    "(define (insert! key-1 key-2 value table)\n",
    "  (let ((subtable (assoc key-1 (cdr table))))\n",
    "    (if subtable\n",
    "        (let ((record (assoc key-2 (cdr subtable))))\n",
    "          (if record (set-cdr! record value)\n",
    "              (set-cdr! subtable (cons (cons key-2 value) (cdr subtable)))\n",
    "              )\n",
    "          )\n",
    "        (set-cdr! table (cons (list key-1 (cons key-2 value)) (cdr table)))\n",
    "        )\n",
    "    )\n",
    "  'ok)\n",
    "\n",
    "(define (make-table)\n",
    "  (let ((local-table (list '*table*)))\n",
    "    (define (lookup key-1 key-2)\n",
    "      (let ((subtable (assoc key-1 (cdr local-table))))\n",
    "        (if subtable\n",
    "            (let ((record (assoc key-2 (cdr subtable))))\n",
    "              (if record (cdr record) #f))\n",
    "            #f)\n",
    "        )\n",
    "      )\n",
    "    (define (insert! key-1 key-2 value)\n",
    "      (let ((subtable (assoc key-1 (cdr local-table))))\n",
    "        (if subtable\n",
    "            (let ((record (assoc key-2 (cdr subtable))))\n",
    "              (if record (set-cdr! record value)\n",
    "                  (set-cdr! subtable (cons (cons key-2 value) (cdr subtable)))\n",
    "                  )\n",
    "              )\n",
    "            (set-cdr! local-table (cons (list key-1 (cons key-2 value)) (cdr local-table )))\n",
    "            )\n",
    "        )\n",
    "      'ok)\n",
    "    (define (dispatch m)\n",
    "      (cond ((eq? m 'lookup-proc) lookup)\n",
    "            ((eq? m 'insert-proc!) insert!)\n",
    "            (else (error \"Unknown operation: TABLE\" m)))\n",
    "      )\n",
    "    dispatch)\n",
    "  )\n",
    "\n",
    ";(define (make-table) (list '*table*))\n",
    "\n",
    "(define operation-table (make-table))\n",
    "(define get (operation-table 'lookup-proc))\n",
    "(define put (operation-table 'insert-proc!))\n",
    "\n",
    "; タグつきデータのコンストラクタ\n",
    "(define (attach-tag type-tag contents)\n",
    "  (cons type-tag contents))\n",
    "\n",
    "; タグを返すセレクタ\n",
    "(define (type-tag datum)\n",
    "  (if (pair? datum) (car datum)\n",
    "      (error \"Bad tagged datum: TYPE-TAG\" datum))\n",
    "  )\n",
    "; データを返すセレクタ\n",
    "(define (contents datum)\n",
    "  (if (pair? datum) (cdr datum)\n",
    "      (error \"Bad tagged datum: CONTENTS\" datum))\n",
    "  )\n",
    "\n",
    ";\n",
    "(define (apply-generic op . args)\n",
    "  (let ((type-tags (map type-tag args)))\n",
    "    (let ((proc (get op type-tags)))\n",
    "      (if proc\n",
    "          (apply proc (map contents args))\n",
    "          (error\n",
    "           \"No method for these types: APPLY-GENERIC\"\n",
    "           (list op type-tags ))))))"
   ]
  },
  {
   "cell_type": "code",
   "execution_count": 2,
   "metadata": {},
   "outputs": [],
   "source": [
    "(define (add x y) (apply-generic 'add x y))\n",
    "(define (sub x y) (apply-generic 'sub x y))\n",
    "(define (mul x y) (apply-generic 'mul x y))\n",
    "(define (div x y) (apply-generic 'div x y))\n",
    "(define (equ? x y) (apply-generic 'equ? x y))    ;追加手続き 戻り値がTrue/False\n"
   ]
  },
  {
   "cell_type": "code",
   "execution_count": 3,
   "metadata": {},
   "outputs": [
    {
     "data": {
      "text/plain": [
       "done"
      ]
     },
     "execution_count": 3,
     "metadata": {},
     "output_type": "execute_result"
    }
   ],
   "source": [
    "(define (install-scheme-number-package)\n",
    "  (define (tag x) (attach-tag 'scheme-number x))\n",
    "  (put 'add '(scheme-number scheme-number) (lambda (x y) (tag (+ x y))))\n",
    "  (put 'sub '(scheme-number scheme-number) (lambda (x y) (tag (- x y))))\n",
    "  (put 'mul '(scheme-number scheme-number) (lambda (x y) (tag (* x y))))\n",
    "  (put 'div '(scheme-number scheme-number) (lambda (x y) (tag (/ x y))))\n",
    "  (put 'equ? '(scheme-number scheme-number) (lambda (x y) (= x y)))    ;追加手続き 戻り値がTrue/False\n",
    "  (put 'make 'scheme-number (lambda (x) (tag x)))\n",
    "'done)\n",
    "\n",
    "(define (make-scheme-number n) ((get 'make 'scheme-number) n))\n",
    "\n",
    "(install-scheme-number-package)"
   ]
  },
  {
   "cell_type": "code",
   "execution_count": 4,
   "metadata": {},
   "outputs": [
    {
     "data": {
      "text/plain": [
       "done"
      ]
     },
     "execution_count": 4,
     "metadata": {},
     "output_type": "execute_result"
    }
   ],
   "source": [
    "(define (gcd a b)\n",
    "  (if (= b 0) a\n",
    "      (gcd b (remainder a b)))\n",
    "  )\n",
    "\n",
    "(define (install-rational-package)\n",
    "  ;; 内部⼿続き\n",
    "  (define (numer x) (car x))\n",
    "  (define (denom x) (cdr x))\n",
    "  (define (make-rat n d)\n",
    "    (let ((g (gcd n d))) (cons (/ n g) (/ d g))))\n",
    "  (define (add-rat x y) (make-rat (+ (* (numer x) (denom y))\n",
    "                                     (* (numer y) (denom x)))\n",
    "                                  (* (denom x) (denom y))))\n",
    "  (define (sub-rat x y) (make-rat (- (* (numer x) (denom y))\n",
    "                                     (* (numer y) (denom x)))\n",
    "                                  (* (denom x) (denom y))))\n",
    "  (define (mul-rat x y) (make-rat (* (numer x) (numer y))\n",
    "                                  (* (denom x) (denom y))))\n",
    "  (define (div-rat x y) (make-rat (* (numer x) (denom y)) (* (denom x) (numer y))))\n",
    "  ;; システムのほかの部分とのインターフェイス\n",
    "  (define (tag x) (attach-tag 'rational x))\n",
    "  (put 'add '(rational rational) (lambda (x y) (tag (add-rat x y))))\n",
    "  (put 'sub '(rational rational) (lambda (x y) (tag (sub-rat x y))))\n",
    "  (put 'mul '(rational rational) (lambda (x y) (tag (mul-rat x y)))) \n",
    "  (put 'div '(rational rational) (lambda (x y) (tag (div-rat x y))))\n",
    "  (put 'equ? '(rational rational) (lambda (x y) (and (= (numer x) (numer y)) (= (denom x) (denom y))))) ;追加手続き\n",
    "  (put 'make 'rational (lambda (n d) (tag (make-rat n d))))\n",
    "  'done)\n",
    "\n",
    "(define (make-rational n d) ((get 'make 'rational) n d))\n",
    "\n",
    "(install-rational-package)"
   ]
  },
  {
   "cell_type": "code",
   "execution_count": 49,
   "metadata": {},
   "outputs": [
    {
     "data": {
      "text/plain": [
       "done"
      ]
     },
     "execution_count": 49,
     "metadata": {},
     "output_type": "execute_result"
    }
   ],
   "source": [
    "(import \"math\")\n",
    ";(define (make-from-mag-ang r a)\n",
    ";  (define (dispatch op)\n",
    ";    (cond ((eq? op 'real-part) (* r (math.cos a)))\n",
    ";          ((eq? op 'imag-part) (* r (math.sin a)))\n",
    ";          ((eq? op 'magnitude) r)\n",
    ";          ((eq? op 'angle) a)\n",
    ";          (else (error \"Unknown op: MAKE-FROM-MAG-ANG\" op))\n",
    ";          )\n",
    ";  )\n",
    ";dispatch)\n",
    "\n",
    "(define (square x)(* x x))\n",
    "\n",
    "(define (install-rectangular-package)\n",
    "  ;; 内部⼿続き\n",
    "  (define (real-part z) (car z))\n",
    "  (define (imag-part z) (cdr z))\n",
    "  (define (make-from-real-imag x y) (cons x y))\n",
    "  (define (magnitude z) (sqrt (+ (square (real-part z)) (square (imag-part z)))))\n",
    "  (define (angle z) (math.atan2 (imag-part z) (real-part z)))\n",
    "  (define (make-from-mag-ang r a) (cons (* r (math.cos a)) (* r (math.sin a))))\n",
    "  ;; システムのほかの部分とのインターフェイス\n",
    "  (define (tag x) (attach-tag 'rectangular x))\n",
    "  (put 'real-part '(rectangular) real-part)\n",
    "  (put 'imag-part '(rectangular) imag-part)\n",
    "  (put 'magnitude '(rectangular) magnitude)\n",
    "  (put 'angle '(rectangular) angle)\n",
    "  (put 'make-from-real-imag 'rectangular (lambda (x y) (tag (make-from-real-imag x y))))\n",
    "  (put 'make-from-mag-ang 'rectangular (lambda (r a) (tag (make-from-mag-ang r a))))\n",
    "  ;(put 'equ? '(rectangular rectangular) (lambda (x y) (and (= (real-part x) (real-part y)) (= (imag-part x) (imag-part y))))) ;追加手続き\n",
    "'done)\n",
    "\n",
    "(define (install-polar-package)\n",
    "  ;; 内部⼿続き\n",
    "  (define (magnitude z) (car z))\n",
    "  (define (angle z) (cdr z))\n",
    "  (define (make-from-mag-ang r a) (cons r a))\n",
    "  (define (real-part z) (* (magnitude z) (math.cos (angle z))))\n",
    "  (define (imag-part z) (* (magnitude z) (math.sin (angle z))))\n",
    "  (define (make-from-real-imag x y) (cons (sqrt (+ (square x) (square y))) (math.atan2 y x)))\n",
    "  ;; システムのほかの部分とのインターフェイス\n",
    "  (define (tag x) (attach-tag 'polar x))\n",
    "  (put 'real-part '(polar) real-part)\n",
    "  (put 'imag-part '(polar) imag-part)\n",
    "  (put 'magnitude '(polar) magnitude)\n",
    "  (put 'angle '(polar) angle)\n",
    "  (put 'make-from-real-imag 'polar (lambda (x y) (tag (make-from-real-imag x y))))\n",
    "  (put 'make-from-mag-ang 'polar (lambda (r a) (tag (make-from-mag-ang r a))))\n",
    "  ;(put 'equ? '(polar polar) (lambda (x y) (and (= (magnitude x) (magnitude y)) (= (angle x) (angle y))))) ;追加手続き\n",
    "  'done)\n",
    "\n",
    "(define (real-part z) (apply-generic 'real-part z))\n",
    "(define (imag-part z) (apply-generic 'imag-part z))\n",
    "(define (magnitude z) (apply-generic 'magnitude z))\n",
    "(define (angle z) (apply-generic 'angle z))\n",
    "\n",
    "(define (make-from-real-imag x y) ((get 'make-from-real-imag 'rectangular) x y))\n",
    "(define (make-from-mag-ang r a) ((get 'make-from-mag-ang 'polar) r a))\n",
    "\n",
    "(install-rectangular-package)\n",
    "(install-polar-package)"
   ]
  },
  {
   "cell_type": "code",
   "execution_count": 50,
   "metadata": {},
   "outputs": [
    {
     "data": {
      "text/plain": [
       "done"
      ]
     },
     "execution_count": 50,
     "metadata": {},
     "output_type": "execute_result"
    }
   ],
   "source": [
    "(define (install-complex-package)\n",
    "  ;; 直交形式パッケージと極形式パッケージからインポートした⼿続き\n",
    "  (define (make-from-real-imag x y) ((get 'make-from-real-imag 'rectangular) x y))\n",
    "  (define (make-from-mag-ang r a) ((get 'make-from-mag-ang 'polar) r a))\n",
    "  ;; 内部⼿続き\n",
    "  (define (add-complex z1 z2) (make-from-real-imag (+ (real-part z1) (real-part z2)) (+ (imag-part z1) (imag-part z2))))\n",
    "  (define (sub-complex z1 z2) (make-from-real-imag (- (real-part z1) (real-part z2)) (- (imag-part z1) (imag-part z2))))\n",
    "  (define (mul-complex z1 z2) (make-from-mag-ang (* (magnitude z1) (magnitude z2)) (+ (angle z1) (angle z2))))\n",
    "  (define (div-complex z1 z2) (make-from-mag-ang (/ (magnitude z1) (magnitude z2)) (- (angle z1) (angle z2))))\n",
    "  ;; システムのほかの部分とのインターフェイス\n",
    "  (define (tag z) (attach-tag 'complex z))\n",
    "  (put 'add '(complex complex) (lambda (z1 z2) (tag (add-complex z1 z2))))\n",
    "  (put 'sub '(complex complex) (lambda (z1 z2) (tag (sub-complex z1 z2))))\n",
    "  (put 'mul '(complex complex) (lambda (z1 z2) (tag (mul-complex z1 z2))))\n",
    "  (put 'div '(complex complex) (lambda (z1 z2) (tag (div-complex z1 z2))))\n",
    "  ;(put 'equ? '(complex complex) (lambda (z1 z2) (equ? z1 z2))) ;追加手続き\n",
    "  ;(put 'equ? '(complex complex) (lambda (x y) (and (= (real-part x) (real-part y)) (= (imag-part x) (imag-part y))))) ;追加手続き\n",
    "  (put 'equ? '(complex complex) (lambda (x y) (and (= (magnitude x) (magnitude y)) (= (angle x) (angle y))))) ;追加手続き\n",
    "  (put 'make-from-real-imag 'complex (lambda (x y) (tag (make-from-real-imag x y))))\n",
    "  (put 'make-from-mag-ang 'complex (lambda (r a) (tag (make-from-mag-ang r a))))\n",
    "  'done)\n",
    "\n",
    "(define (make-complex-from-real-imag x y) ((get 'make-from-real-imag 'complex) x y))\n",
    "(define (make-complex-from-mag-ang r a) ((get 'make-from-mag-ang 'complex) r a))\n",
    "\n",
    "(install-complex-package)"
   ]
  },
  {
   "cell_type": "code",
   "execution_count": 51,
   "metadata": {},
   "outputs": [
    {
     "name": "stdout",
     "output_type": "stream",
     "text": [
      "(scheme-number . 2.0)\n",
      "(scheme-number . 2.0)\n",
      "True\n",
      "False\n"
     ]
    }
   ],
   "source": [
    "(define a (make-scheme-number 2.0))\n",
    "(define b (make-scheme-number 2.00))\n",
    "(define c (make-scheme-number 2.01))\n",
    "\n",
    "(display a)\n",
    "(display \"\\n\")\n",
    "(display b)\n",
    "(display \"\\n\")\n",
    "\n",
    "(display (equ? a b))\n",
    "(display \"\\n\")\n",
    "\n",
    "(display (equ? a c))\n",
    "(display \"\\n\")\n"
   ]
  },
  {
   "cell_type": "code",
   "execution_count": 9,
   "metadata": {},
   "outputs": [
    {
     "name": "stdout",
     "output_type": "stream",
     "text": [
      "(rational 1 . 2)\n",
      "(rational 1 . 2)\n",
      "True\n",
      "False\n"
     ]
    }
   ],
   "source": [
    "(define a (make-rational 1 2))\n",
    "(define b (make-rational -3 -6))\n",
    "(define c (make-rational 4 6))\n",
    "\n",
    "(display a)\n",
    "(display \"\\n\")\n",
    "(display b)\n",
    "(display \"\\n\")\n",
    "\n",
    "(display (equ? a b))\n",
    "(display \"\\n\")\n",
    "\n",
    "(display (equ? a c))\n",
    "(display \"\\n\")\n"
   ]
  },
  {
   "cell_type": "code",
   "execution_count": 20,
   "metadata": {},
   "outputs": [
    {
     "name": "stdout",
     "output_type": "stream",
     "text": [
      "(complex rectangular 1 . 2)\n",
      "(complex rectangular 1.0 . 2.0)\n",
      "True\n",
      "False\n"
     ]
    }
   ],
   "source": []
  },
  {
   "cell_type": "code",
   "execution_count": 10,
   "metadata": {},
   "outputs": [
    {
     "name": "stdout",
     "output_type": "stream",
     "text": [
      "(rectangular 1 . 2)\n",
      "(rectangular 1.0 . 2.0)\n",
      "True\n",
      "False\n"
     ]
    }
   ],
   "source": [
    "(define a (make-from-real-imag 1 2))\n",
    "(define b (make-from-real-imag 1.0 2.0))\n",
    "(define c (make-from-real-imag 1 3))\n",
    "\n",
    "(display a)\n",
    "(display \"\\n\")\n",
    "(display b)\n",
    "(display \"\\n\")\n",
    "\n",
    "(display (equ? a b))\n",
    "(display \"\\n\")\n",
    "\n",
    "(display (equ? a c))\n",
    "(display \"\\n\")\n"
   ]
  },
  {
   "cell_type": "code",
   "execution_count": 12,
   "metadata": {},
   "outputs": [
    {
     "name": "stdout",
     "output_type": "stream",
     "text": [
      "(polar 1 . 2)\n",
      "(polar 1.0 . 2.0)\n",
      "True\n",
      "False\n"
     ]
    }
   ],
   "source": [
    "(define a (make-from-mag-ang 1 2))\n",
    "(define b (make-from-mag-ang 1.0 2.0))\n",
    "(define c (make-from-mag-ang 1 3))\n",
    "\n",
    "(display a)\n",
    "(display \"\\n\")\n",
    "(display b)\n",
    "(display \"\\n\")\n",
    "\n",
    "(display (equ? a b))\n",
    "(display \"\\n\")\n",
    "\n",
    "(display (equ? a c))\n",
    "(display \"\\n\")\n"
   ]
  },
  {
   "cell_type": "code",
   "execution_count": 37,
   "metadata": {},
   "outputs": [
    {
     "name": "stdout",
     "output_type": "stream",
     "text": [
      "(complex rectangular 1 . 2)\n",
      "(complex rectangular 1.0 . 2.0)\n",
      "True\n",
      "False\n"
     ]
    }
   ],
   "source": [
    "(define a (make-complex-from-real-imag 1 2))\n",
    "(define b (make-complex-from-real-imag 1.0 2.0))\n",
    "(define c (make-complex-from-real-imag 1 3))\n",
    "\n",
    "(display a)\n",
    "(display \"\\n\")\n",
    "(display b)\n",
    "(display \"\\n\")\n",
    "\n",
    "(display (equ? a b))\n",
    "(display \"\\n\")\n",
    "\n",
    "(display (equ? a c))\n",
    "(display \"\\n\")\n"
   ]
  },
  {
   "cell_type": "code",
   "execution_count": 52,
   "metadata": {},
   "outputs": [],
   "source": [
    "(define a (make-complex-from-real-imag -1.0 0.0))\n",
    "(define b (make-complex-from-mag-ang 1.0 math.pi))\n",
    ";(define b (make-complex-from-real-imag -1.0 0))\n",
    "\n"
   ]
  },
  {
   "cell_type": "code",
   "execution_count": 53,
   "metadata": {},
   "outputs": [
    {
     "name": "stdout",
     "output_type": "stream",
     "text": [
      "(complex rectangular -1.0 . 0.0)\n",
      "(complex polar 1.0 . 3.141592653589793)\n"
     ]
    }
   ],
   "source": [
    "(display a)\n",
    "(display \"\\n\")\n",
    "(display b)\n",
    "(display \"\\n\")\n"
   ]
  },
  {
   "cell_type": "code",
   "execution_count": 54,
   "metadata": {},
   "outputs": [
    {
     "name": "stdout",
     "output_type": "stream",
     "text": [
      "True\n"
     ]
    }
   ],
   "source": [
    "(display (equ? a b))\n",
    "(display \"\\n\")\n"
   ]
  },
  {
   "cell_type": "code",
   "execution_count": 55,
   "metadata": {},
   "outputs": [
    {
     "name": "stdout",
     "output_type": "stream",
     "text": [
      "3.141592653589793"
     ]
    }
   ],
   "source": [
    "(display math.pi)"
   ]
  },
  {
   "cell_type": "code",
   "execution_count": 56,
   "metadata": {},
   "outputs": [
    {
     "data": {
      "text/plain": [
       "(complex rectangular -2.0 . 1.2246467991473532e-16)"
      ]
     },
     "execution_count": 56,
     "metadata": {},
     "output_type": "execute_result"
    }
   ],
   "source": [
    "(add a b)"
   ]
  },
  {
   "cell_type": "code",
   "execution_count": 46,
   "metadata": {},
   "outputs": [
    {
     "data": {
      "text/plain": [
       "(complex rectangular 0.0 . -1.2246467991473532e-16)"
      ]
     },
     "execution_count": 46,
     "metadata": {},
     "output_type": "execute_result"
    }
   ],
   "source": [
    "(sub a b)"
   ]
  },
  {
   "cell_type": "code",
   "execution_count": 47,
   "metadata": {},
   "outputs": [
    {
     "data": {
      "text/plain": [
       "(complex polar 1.0 . 6.283185307179586)"
      ]
     },
     "execution_count": 47,
     "metadata": {},
     "output_type": "execute_result"
    }
   ],
   "source": [
    "(mul a b)"
   ]
  },
  {
   "cell_type": "code",
   "execution_count": 48,
   "metadata": {},
   "outputs": [
    {
     "data": {
      "text/plain": [
       "(complex polar 1.0 . 0.0)"
      ]
     },
     "execution_count": 48,
     "metadata": {},
     "output_type": "execute_result"
    }
   ],
   "source": [
    "(div a b)"
   ]
  },
  {
   "cell_type": "code",
   "execution_count": null,
   "metadata": {},
   "outputs": [],
   "source": []
  }
 ],
 "metadata": {
  "kernelspec": {
   "display_name": "Calysto Scheme 3",
   "language": "scheme",
   "name": "calysto_scheme"
  },
  "language_info": {
   "codemirror_mode": {
    "name": "scheme"
   },
   "mimetype": "text/x-scheme",
   "name": "scheme",
   "pygments_lexer": "scheme"
  }
 },
 "nbformat": 4,
 "nbformat_minor": 4
}
