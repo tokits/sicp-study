{
 "cells": [
  {
   "cell_type": "markdown",
   "metadata": {},
   "source": [
    "### 練習問題2.39\n",
    "以下のreverse(練習問題2.18)⼿続きの定義を、  \n",
    "練習問題2.38のfold-rightとfold-leftによって完成させよ。\n",
    "\n",
    "    (define (reverse sequence)\n",
    "        (fold-right (lambda (x y) ⟨??⟩) nil sequence))\n",
    "    \n",
    "    (define (reverse sequence)\n",
    "        (fold-left (lambda (x y) ⟨??⟩) nil sequence))"
   ]
  },
  {
   "cell_type": "code",
   "execution_count": 1,
   "metadata": {},
   "outputs": [],
   "source": [
    "(define (fold-left op initial sequence)\n",
    "  (define (iter result rest)\n",
    "    (if (null? rest) result\n",
    "        (iter (op result (car rest)) (cdr rest))))\n",
    "  (iter initial sequence)\n",
    "  )"
   ]
  },
  {
   "cell_type": "code",
   "execution_count": 2,
   "metadata": {},
   "outputs": [],
   "source": [
    "; accumulate手続きをfold-rightと名前を変更\n",
    "(define (fold-right op initial sequence)\n",
    "  (if (null? sequence) initial\n",
    "      (op (car sequence) (fold-right op initial (cdr sequence)))))"
   ]
  },
  {
   "cell_type": "code",
   "execution_count": 3,
   "metadata": {},
   "outputs": [
    {
     "name": "stdout",
     "output_type": "stream",
     "text": [
      "4 ()\n",
      "3 (4)\n",
      "2 (4 3)\n",
      "1 (4 3 2)\n"
     ]
    },
    {
     "data": {
      "text/plain": [
       "(4 3 2 1)"
      ]
     },
     "execution_count": 3,
     "metadata": {},
     "output_type": "execute_result"
    }
   ],
   "source": [
    "; fold-right版reverse\n",
    "(define (reverse sequence)\n",
    "    (fold-right (lambda (x y)\n",
    "                (display x)\n",
    "                (display \" \")\n",
    "                (display y)\n",
    "                (newline)\n",
    "                  (append y (list x))\n",
    "                  ) '() sequence))\n",
    "\n",
    "; 動作確認\n",
    "(reverse '(1 2 3 4))"
   ]
  },
  {
   "cell_type": "code",
   "execution_count": 4,
   "metadata": {},
   "outputs": [
    {
     "name": "stdout",
     "output_type": "stream",
     "text": [
      "() 1\n",
      "(1) 2\n",
      "(2 1) 3\n",
      "(3 2 1) 4\n"
     ]
    },
    {
     "data": {
      "text/plain": [
       "(4 3 2 1)"
      ]
     },
     "execution_count": 4,
     "metadata": {},
     "output_type": "execute_result"
    }
   ],
   "source": [
    "; fold-left版reverse\n",
    "(define (reverse sequence)\n",
    "    (fold-left (lambda (x y)\n",
    "                (display x)\n",
    "                (display \" \")\n",
    "                (display y)\n",
    "                (newline)\n",
    "                (cons y x)\n",
    "                 ) '() sequence))\n",
    "\n",
    "; 動作確認\n",
    "(reverse '(1 2 3 4))"
   ]
  }
 ],
 "metadata": {
  "kernelspec": {
   "display_name": "Calysto Scheme 3",
   "language": "scheme",
   "name": "calysto_scheme"
  },
  "language_info": {
   "codemirror_mode": {
    "name": "scheme"
   },
   "mimetype": "text/x-scheme",
   "name": "scheme",
   "pygments_lexer": "scheme"
  }
 },
 "nbformat": 4,
 "nbformat_minor": 4
}
