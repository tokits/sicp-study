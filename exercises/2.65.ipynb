{
 "cells": [
  {
   "cell_type": "markdown",
   "metadata": {},
   "source": [
    "### 練習問題2.65\n",
    "練習問題2.63と練習問題2.64の結果を使って、  \n",
    "(バランスの取れた)⼆分木として実装された集合に対する  \n",
    "union-setとintersection-setを$\\Theta(n)$で実装せよ。 "
   ]
  },
  {
   "cell_type": "code",
   "execution_count": 1,
   "metadata": {},
   "outputs": [],
   "source": [
    "(define (entry tree) (car tree))\n",
    "(define (left-branch tree) (cadr tree))\n",
    "(define (right-branch tree) (caddr tree))\n",
    "(define (make-tree entry left right) (list entry left right))\n",
    "(define (element-of-set? x set)\n",
    "  (cond ((null? set) #f)\n",
    "        ((= x (entry set)) #t)\n",
    "        ((< x (entry set)) (element-of-set? x (left-branch set)))\n",
    "        ((> x (entry set)) (element-of-set? x (right-branch set)))\n",
    "        )\n",
    "  )\n",
    "\n",
    "(define (list->tree elements)\n",
    "  (car (partial-tree elements (length elements)))\n",
    "  )\n",
    "(define (partial-tree elts n)\n",
    "  (if (= n 0) (cons '() elts)\n",
    "      (let ((left-size (quotient (- n 1) 2)))\n",
    "        (let ((left-result (partial-tree elts left-size)))\n",
    "          (let ((left-tree (car left-result))\n",
    "                (non-left-elts (cdr left-result)) (right-size (- n (+ left-size 1))))\n",
    "            (let ((this-entry (car non-left-elts))\n",
    "                  (right-result (partial-tree (cdr non-left-elts) right-size)))\n",
    "              (let ((right-tree (car right-result))\n",
    "                    (remaining-elts (cdr right-result)))\n",
    "                (cons (make-tree this-entry left-tree right-tree) remaining-elts)\n",
    "                )              \n",
    "              )\n",
    "            )\n",
    "          )\n",
    "        )\n",
    "    )\n",
    ") \n",
    "\n",
    "(define (tree->list tree)\n",
    "    (if (null? tree) '()\n",
    "        (append\n",
    "            (tree->list (left-branch tree))\n",
    "            (cons (entry tree) (tree->list (right-branch tree)))\n",
    "        )\n",
    "    )\n",
    ")"
   ]
  },
  {
   "cell_type": "code",
   "execution_count": 2,
   "metadata": {},
   "outputs": [
    {
     "data": {
      "text/plain": [
       "(5 (1 () (3 () ())) (9 (7 () ()) (11 () ())))"
      ]
     },
     "execution_count": 2,
     "metadata": {},
     "output_type": "execute_result"
    }
   ],
   "source": [
    "(list->tree '(1 3 5 7 9 11))"
   ]
  },
  {
   "cell_type": "markdown",
   "metadata": {},
   "source": [
    "方針\n",
    "・2つの二分木をリストに順序付きリストa、bに変換する。\n",
    "・a、bから順序付きリストによる共通集合、和集合を生成する。\n",
    "・順序付きリストからlist->tree手続きを使って二分木に変換する。"
   ]
  },
  {
   "cell_type": "code",
   "execution_count": 3,
   "metadata": {},
   "outputs": [],
   "source": [
    "(define (element-of-set? x set)\n",
    "  (cond ((null? set) #f)\n",
    "        ((= x (car set)) #t)\n",
    "        ((< x (car set)) #f)\n",
    "        (else (element-of-set? x (cdr set))))\n",
    "  )\n",
    "\n",
    "(define (intersection-set tree1 tree2)\n",
    "  (define (iter set1 set2)\n",
    "    (if (or (null? set1) (null? set2)) '()\n",
    "        (let ((x1 (car set1))\n",
    "              (x2 (car set2)))\n",
    "          (cond ((= x1 x2) (cons x1 (iter (cdr set1) (cdr set2))))\n",
    "                ((< x1 x2) (iter (cdr set1) set2))\n",
    "                ((< x2 x1) (iter set1 (cdr set2)))\n",
    "            )\n",
    "          )\n",
    "        )\n",
    "    )\n",
    "  (let ((set1 (tree->list tree1))\n",
    "        (set2 (tree->list tree2)))\n",
    "    (let ((set (iter set1 set2)))\n",
    "      (list->tree set)\n",
    "      )\n",
    "    )\n",
    "  )\n",
    "\n",
    "(define (union-set tree1 tree2)\n",
    "  (define (iter set1 set2)\n",
    "    (cond ((and (null? set1) (null? set2)) '())\n",
    "          ((and (not (null? set1)) (null? set2)) set1)\n",
    "          ((and (null? set1) (not (null? set2))) set2)\n",
    "          (else\n",
    "           (let ((x1 (car set1))\n",
    "                 (x2 (car set2)))\n",
    "             (cond ((= x1 x2) (cons x1 (iter (cdr set1) (cdr set2))))\n",
    "                   ((< x1 x2) (cons x1 (iter (cdr set1) set2)))\n",
    "                   ((< x2 x1) (cons x2 (iter set1 (cdr set2))))\n",
    "               )\n",
    "            )\n",
    "           )\n",
    "          )\n",
    "       )\n",
    "  (let ((set1 (tree->list tree1))\n",
    "        (set2 (tree->list tree2)))\n",
    "    (let ((set (iter set1 set2)))\n",
    "      (list->tree set)\n",
    "      )\n",
    "    )\n",
    "  )"
   ]
  },
  {
   "cell_type": "code",
   "execution_count": 4,
   "metadata": {},
   "outputs": [
    {
     "data": {
      "text/plain": [
       "(5 (1 () ()) (7 () (9 () ())))"
      ]
     },
     "execution_count": 4,
     "metadata": {},
     "output_type": "execute_result"
    }
   ],
   "source": [
    "(intersection-set\n",
    "         '(5 (1 () (3 () ())) (9 (7 () ()) (11 () ())))\n",
    "         '(7 (4 (1 () ()) (5 () ())) (9 () (12 () ())))\n",
    " )"
   ]
  },
  {
   "cell_type": "code",
   "execution_count": 5,
   "metadata": {},
   "outputs": [
    {
     "data": {
      "text/plain": [
       "(5 (3 (1 () ()) (4 () ())) (9 (7 () ()) (11 () (12 () ()))))"
      ]
     },
     "execution_count": 5,
     "metadata": {},
     "output_type": "execute_result"
    }
   ],
   "source": [
    "(union-set\n",
    "         '(5 (1 () (3 () ())) (9 (7 () ()) (11 () ())))\n",
    "         '(7 (4 (1 () ()) (5 () ())) (9 () (12 () ())))\n",
    " )"
   ]
  }
 ],
 "metadata": {
  "kernelspec": {
   "display_name": "Calysto Scheme 3",
   "language": "scheme",
   "name": "calysto_scheme"
  },
  "language_info": {
   "codemirror_mode": {
    "name": "scheme"
   },
   "mimetype": "text/x-scheme",
   "name": "scheme",
   "pygments_lexer": "scheme"
  }
 },
 "nbformat": 4,
 "nbformat_minor": 4
}
