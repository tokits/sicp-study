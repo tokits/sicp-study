{
 "cells": [
  {
   "cell_type": "markdown",
   "metadata": {},
   "source": [
    "### 練習問題2.9\n",
    "区間の幅 (width) は、上限と下限の差の半分である。  \n",
    "幅は、区間によって規定される数値の不確かさの程度である。  \n",
    "いくつかの数値演算では、⼆つの区間を組み合わせた結果の幅は、  引数の区間の幅のみによる関数となるが、  \n",
    "それら以外の演算では、組み合わせたものの幅は、  \n",
    "引数の幅の関数とはならない。  \n",
    "⼆つの区間の和 (または差) の幅は、  \n",
    "⾜される (または引かれる) 区間の幅の関数となることを⽰せ。  \n",
    "これが乗算と除算については正しくないということを例を挙げて⽰せ。"
   ]
  },
  {
   "cell_type": "code",
   "execution_count": 1,
   "metadata": {},
   "outputs": [],
   "source": [
    "(define (make-interval a b) (cons a b))\n",
    "(define (lower-bound x)(car x))\n",
    "(define (upper-bound x)(cdr x))\n",
    "; 区間の和\n",
    "(define (add-interval x y)\n",
    "  (make-interval (+ (lower-bound x) (lower-bound y))\n",
    "                 (+ (upper-bound x) (upper-bound y)))\n",
    "  )\n",
    "; 区間の差\n",
    "(define (sub-interval x y)\n",
    "  (make-interval (- (lower-bound x) (lower-bound y))\n",
    "                 (- (upper-bound x) (upper-bound y)))\n",
    "  )\n",
    "; 区間の積\n",
    "(define (mul-interval x y)\n",
    "  (let ((p1 (* (lower-bound x) (lower-bound y)))\n",
    "        (p2 (* (lower-bound x) (upper-bound y)))\n",
    "        (p3 (* (upper-bound x) (lower-bound y)))\n",
    "        (p4 (* (upper-bound x) (upper-bound y))))\n",
    "    (make-interval (min p1 p2 p3 p4)\n",
    "                   (max p1 p2 p3 p4)))\n",
    "  )\n",
    "; 区間の割り算\n",
    "(define (div-interval x y)\n",
    "  (mul-interval\n",
    "   x\n",
    "   (make-interval (/ 1.0 (upper-bound y))\n",
    "                  (/ 1.0 (lower-bound y))))\n",
    "  )\n",
    "; 区間の幅\n",
    "(define (width x)\n",
    "  (let ((a (lower-bound x))\n",
    "        (b (upper-bound x)))\n",
    "    (/ (- b a) 2))\n",
    "  )"
   ]
  },
  {
   "cell_type": "code",
   "execution_count": 2,
   "metadata": {},
   "outputs": [
    {
     "name": "stdout",
     "output_type": "stream",
     "text": [
      "10\n",
      "20\n",
      "15\n",
      "35\n",
      "5\n",
      "10\n"
     ]
    }
   ],
   "source": [
    "(define x (make-interval 10 20))\n",
    "(display (lower-bound x))\n",
    "(newline)\n",
    "(display (upper-bound x))\n",
    "(newline)\n",
    "\n",
    "(define y (make-interval 15 35))\n",
    "(display (lower-bound y))\n",
    "(newline)\n",
    "(display (upper-bound y))\n",
    "(newline)\n",
    "\n",
    "(display (width x))\n",
    "(newline)\n",
    "(display (width y))\n",
    "(newline)"
   ]
  },
  {
   "cell_type": "code",
   "execution_count": 3,
   "metadata": {},
   "outputs": [
    {
     "name": "stdout",
     "output_type": "stream",
     "text": [
      "15\n",
      "5\n"
     ]
    }
   ],
   "source": [
    "; 区間の和の幅は、それぞれの幅の和になっている。\n",
    "(display (width (add-interval x y)))\n",
    "(newline)\n",
    "; 区間の差の幅は、それぞれの幅の差になっている。\n",
    "(display (width (sub-interval y x)))\n",
    "(newline)"
   ]
  },
  {
   "cell_type": "code",
   "execution_count": 4,
   "metadata": {},
   "outputs": [
    {
     "name": "stdout",
     "output_type": "stream",
     "text": [
      "275\n",
      "1.375\n"
     ]
    }
   ],
   "source": [
    "; 区間の和の積は、それぞれの幅の積にはなっていない。\n",
    "(display (width (mul-interval x y)))\n",
    "(newline)\n",
    "; 区間の和の割り算は、それぞれの幅の割り算にはなっていない。\n",
    "(display (width (div-interval y x)))\n",
    "(newline)"
   ]
  }
 ],
 "metadata": {
  "kernelspec": {
   "display_name": "Calysto Scheme 3",
   "language": "scheme",
   "name": "calysto_scheme"
  },
  "language_info": {
   "codemirror_mode": {
    "name": "scheme"
   },
   "mimetype": "text/x-scheme",
   "name": "scheme",
   "pygments_lexer": "scheme"
  }
 },
 "nbformat": 4,
 "nbformat_minor": 4
}
