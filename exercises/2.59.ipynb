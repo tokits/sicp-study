{
 "cells": [
  {
   "cell_type": "markdown",
   "metadata": {},
   "source": [
    "### 練習問題2.59\n",
    "順序なしリストとして表現した集合に対する union-set演算を実装せよ。"
   ]
  },
  {
   "cell_type": "code",
   "execution_count": 1,
   "metadata": {},
   "outputs": [],
   "source": [
    "(define (element-of-set? x set)\n",
    "  (cond ((null? set) #f)\n",
    "        ((equal? x (car set)) #t)\n",
    "        (else (element-of-set? x (cdr set))))\n",
    "  )\n",
    "\n",
    "(define (union-set set1 set2)\n",
    "  (cond ((and (null? set1) (null? set2)) '())\n",
    "        ((null? set1) set2)\n",
    "        ((null? set2) set1)\n",
    "        ((not (element-of-set? (car set1) set2)) (cons (car set1) (union-set (cdr set1) set2)))\n",
    "        ((not (element-of-set? (car set2) set1)) (cons (car set2) (union-set set1 (cdr set2))))\n",
    "        (else (cons (car set1) (union-set (cdr set1) (cdr set2))))\n",
    "        )\n",
    "  )"
   ]
  },
  {
   "cell_type": "code",
   "execution_count": 2,
   "metadata": {},
   "outputs": [
    {
     "data": {
      "text/plain": [
       "(1 2 3 4 5 6 7)"
      ]
     },
     "execution_count": 2,
     "metadata": {},
     "output_type": "execute_result"
    }
   ],
   "source": [
    "; 動作確認\n",
    "(define A (list 1 2 3 4))\n",
    "(define B (list 2 4 5 6))\n",
    "(define C (list 4 6 7))\n",
    "\n",
    "(union-set (union-set A B) C)"
   ]
  }
 ],
 "metadata": {
  "kernelspec": {
   "display_name": "Calysto Scheme 3",
   "language": "scheme",
   "name": "calysto_scheme"
  },
  "language_info": {
   "codemirror_mode": {
    "name": "scheme"
   },
   "mimetype": "text/x-scheme",
   "name": "scheme",
   "pygments_lexer": "scheme"
  }
 },
 "nbformat": 4,
 "nbformat_minor": 4
}
