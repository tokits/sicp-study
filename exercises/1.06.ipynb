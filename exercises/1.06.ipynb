{
 "cells": [
  {
   "cell_type": "markdown",
   "metadata": {},
   "source": [
    "### 練習問題1.6\n",
    "Alyssa P. Hackerは、なぜifが特殊形式として提 供される必要があるのか理解できなかった。“condを使って普通 の⼿続きとして定義したらいいんじゃないの”と彼⼥は質問した。 Alyssaの友達であるEva Lu Atorは、これは実際にできると主張 し、ifの新しいバージョンを定義した。\n",
    "\n",
    "    (define (new-if predicate then-clause else-clause)\n",
    "        (cond (predicate then-clause)\n",
    "              (else else-clause)\n",
    "          )\n",
    "     )\n",
    "\n",
    "EvaはAlyssaにプログラムのデモを⾏った。\n",
    "\n",
    "    (new-if (= 2 3) 0 5)\n",
    "    5\n",
    "    (new-if (= 1 1) 0 5)\n",
    "    0\n",
    "\n",
    "喜びながら、Alyssaはnew-ifを使って平⽅根のプログラムを書き直した。 \n",
    "\n",
    "    (define (sqrt-iter guess x)\n",
    "        (new-if (good-enough? guess x) guess\n",
    "                (sqrt-iter (improve guess x) x)\n",
    "          )\n",
    "      )\n",
    "\n",
    "Alyssaが平⽅根の計算するのにこれを使おうとすると、\n",
    "何が起こるだろうか。説明せよ。\n"
   ]
  },
  {
   "cell_type": "code",
   "execution_count": 1,
   "metadata": {},
   "outputs": [],
   "source": [
    "(define (new-if predicate then-clause else-clause)\n",
    "    (cond (predicate then-clause)\n",
    "          (else else-clause)\n",
    "      )\n",
    " )"
   ]
  },
  {
   "cell_type": "code",
   "execution_count": 3,
   "metadata": {},
   "outputs": [
    {
     "data": {
      "text/plain": [
       "5"
      ]
     },
     "execution_count": 3,
     "metadata": {},
     "output_type": "execute_result"
    }
   ],
   "source": [
    "(new-if (= 2 3) 0 5)"
   ]
  },
  {
   "cell_type": "code",
   "execution_count": 2,
   "metadata": {},
   "outputs": [
    {
     "data": {
      "text/plain": [
       "0"
      ]
     },
     "execution_count": 2,
     "metadata": {},
     "output_type": "execute_result"
    }
   ],
   "source": [
    "(new-if (= 1 1) 0 5)"
   ]
  },
  {
   "cell_type": "code",
   "execution_count": 8,
   "metadata": {},
   "outputs": [],
   "source": [
    "; 元のsqrt-iter手続き\n",
    ";(define (sqrt-iter guess x)\n",
    ";  (if (good-enough? guess x)\n",
    ";      guess\n",
    ";      (sqrt-iter (improve guess x) x)))\n",
    "(define (square x)(* x x))\n",
    "(define (improve guess x)\n",
    "  (average guess (/ x guess)))\n",
    "(define (average x y)\n",
    "  (/ (+ x y) 2))\n",
    "(define (good-enough? guess x)\n",
    "  (< (abs (- (square guess) x)) 0.001))\n",
    "(define (sqrt x)\n",
    "  (sqrt-iter 1.0 x))\n",
    "\n",
    "(define (sqrt-iter guess x)\n",
    "    (new-if (good-enough? guess x) guess\n",
    "            (sqrt-iter (improve guess x) x)\n",
    "      )\n",
    "  )"
   ]
  },
  {
   "cell_type": "markdown",
   "metadata": {},
   "source": [
    "以下を実行すると返ってこない。\n",
    "new-ifは特殊形式ではなく、通常の手続きなので、\n",
    "elseの述語式の部分のsqrt-iterが\n",
    "再帰敵に展開されることになり、\n",
    "返ってこないと思われる。"
   ]
  },
  {
   "cell_type": "code",
   "execution_count": null,
   "metadata": {},
   "outputs": [],
   "source": [
    "(sqrt 2)"
   ]
  }
 ],
 "metadata": {
  "kernelspec": {
   "display_name": "Calysto Scheme 3",
   "language": "scheme",
   "name": "calysto_scheme"
  },
  "language_info": {
   "codemirror_mode": {
    "name": "scheme"
   },
   "mimetype": "text/x-scheme",
   "name": "scheme",
   "pygments_lexer": "scheme"
  }
 },
 "nbformat": 4,
 "nbformat_minor": 4
}
