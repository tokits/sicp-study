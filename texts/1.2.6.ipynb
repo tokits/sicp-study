{
 "cells": [
  {
   "cell_type": "markdown",
   "metadata": {},
   "source": [
    "## 1.2.6 例:素数判定\n",
    "\n",
    "ここでは、整数$n$の素数性をチェックする2つの方法を紹介する。  \n",
    "- 増加オーダーが$\\Theta(\\sqrt{n})$であるアルゴリズム  \n",
    "- 増加オーダーが$\\Theta(\\log{n})$である\"確率的\"なアルゴリズム  "
   ]
  },
  {
   "cell_type": "markdown",
   "metadata": {},
   "source": [
    "#### 約数を探す\n",
    "ある数値が素数であるかテストする⽅法のひとつとして、  \n",
    "その数値の約数を探すというものがある。  \n",
    "次のプログラムは、$2$から始まる⼀連の数字$n$について割り切れるかどうかを調べるという素直な⽅法で、約数を探している。"
   ]
  },
  {
   "cell_type": "code",
   "execution_count": 1,
   "metadata": {},
   "outputs": [],
   "source": [
    "(define (smallest-divisor n)\n",
    "  (find-divisor n 2)\n",
    "  )\n",
    "(define (find-divisor n test-divisor)\n",
    "  (cond ((> (square test-divisor) n) n)\n",
    "        ((divides? test-divisor n) test-divisor)\n",
    "        (else (find-divisor n (+ test-divisor 1)))\n",
    "    )\n",
    "  )\n",
    "(define (divides? a b)\n",
    "  (= (remainder b a) 0)\n",
    "  )\n",
    "(define (square x) (* x x))"
   ]
  },
  {
   "cell_type": "markdown",
   "metadata": {},
   "source": [
    "動作イメージ  \n",
    "例:23\n",
    "\n",
    "    (smallest-divisor 23)\n",
    "    (find-divisor 23 2)    ;2^2 < 23\n",
    "    (find-divisor 23 3)    ;3^2 < 23\n",
    "    (find-divisor 23 4)    ;4^2 < 23\n",
    "    (find-divisor 23 5)    ;5^2 > 23\n",
    "    23  \n",
    "\n",
    "例:25\n",
    "\n",
    "    (smallest-divisor 25)\n",
    "    (find-divisor 25 2)    ;2^2 < 25\n",
    "    (find-divisor 25 3)    ;3^2 < 25\n",
    "    (find-divisor 25 4)    ;4^2 < 25\n",
    "    (find-divisor 25 5)    ;5^2 = 25\n",
    "    5"
   ]
  },
  {
   "cell_type": "markdown",
   "metadata": {},
   "source": [
    "数値が素数であるかは次のようにテストできる:$n$は、$n$⾃⾝がその最⼩の約数である場合、かつその場合に限り、素数である。"
   ]
  },
  {
   "cell_type": "code",
   "execution_count": 2,
   "metadata": {},
   "outputs": [
    {
     "name": "stdout",
     "output_type": "stream",
     "text": [
      "False\n",
      "True\n"
     ]
    }
   ],
   "source": [
    "(define (prime? n)\n",
    "  (= n (smallest-divisor n))\n",
    "  )\n",
    "; 動作確認\n",
    "(display (prime? 27))\n",
    "(newline)\n",
    "(display (prime? 109))\n",
    "(newline)"
   ]
  },
  {
   "cell_type": "markdown",
   "metadata": {},
   "source": [
    "find-divisorの終了条件は、もし$n$が素数でないならば、  \n",
    "それは$\\sqrt{n}$以下の約数を持つという事実に基づいている。  \n",
    "つまり、このアルゴリズムは、$1$から$\\sqrt{n}$までの約数についてだけテストすればよい。よって、このプログラムの必要なステップ数の増加オーダーは$\\Theta(\\sqrt{n})$となる。"
   ]
  },
  {
   "cell_type": "markdown",
   "metadata": {},
   "source": [
    "#### フェルマーテスト(確率的アルゴリズム)\n",
    "フェルマーの小定理(整数論の結果)に基づいたステップ数の増加オーダーが$\\Theta(\\log{n})$であるアルゴリズムを紹介する。  \n",
    "\n",
    "\n",
    "##### フェルマーの小定理\n",
    "$n$が素数で、$a$が$n$より⼩さい任意の正の整数であるとき、  \n",
    "$a$の$n$乗は法$n$に関して$a$と合同である。\n",
    "\n",
    "つまり、  \n",
    "素数$n$に対して,$n>\\forall{a}>0$ $\\Rightarrow$ $mod(a,n) \\equiv mod(a^n,n).$  \n",
    "待遇をとると、  \n",
    "$\\exists a(n>a>0), mod(a,n) \\not\\equiv mod(a^n,n)$ $\\Rightarrow$ $n$は素数でない.  \n",
    "また、すべての$a$に対して$mod(a,n) \\equiv mod(a^n,n)$が成り立ったとしても$n$は素数であるとは限らないので注意すること。   \n",
    "このような整数$n$をカーマイケル数という。"
   ]
  },
  {
   "cell_type": "code",
   "execution_count": 3,
   "metadata": {},
   "outputs": [],
   "source": [
    "(define (expmod base exp m)\n",
    "  (cond ((= exp 0) 1)\n",
    "        ((even? exp)(remainder (square (expmod base (/ exp 2) m)) m))\n",
    "        (else (remainder (* base (expmod base (- exp 1) m)) m)))\n",
    "  )"
   ]
  },
  {
   "cell_type": "code",
   "execution_count": 4,
   "metadata": {},
   "outputs": [],
   "source": [
    "(define (fermat-test n)\n",
    "  (define (try-it a)\n",
    "    (= (expmod a n n) a))\n",
    "  (try-it (+ 1 (random (- n 1))))\n",
    "  )"
   ]
  },
  {
   "cell_type": "code",
   "execution_count": 5,
   "metadata": {},
   "outputs": [],
   "source": [
    "(define (fast-prime? n times)\n",
    "  (cond ((= times 0) True)\n",
    "        ((fermat-test n) (fast-prime? n (- times 1)))\n",
    "        (else False)\n",
    "         )\n",
    "  )"
   ]
  },
  {
   "cell_type": "code",
   "execution_count": 6,
   "metadata": {},
   "outputs": [
    {
     "name": "stdout",
     "output_type": "stream",
     "text": [
      "True"
     ]
    }
   ],
   "source": [
    "(display (fast-prime? 1039 10))"
   ]
  },
  {
   "cell_type": "markdown",
   "metadata": {},
   "source": [
    "動作イメージ  \n",
    "(remainder手続きをmod()で表記)  \n",
    "例:base=3 exp=5 m=5(n=5,a=3としてnが素数であるかのテスト)\n",
    "\n",
    "$mod(3,5)=3$  \n",
    "$mod(3^5,5)=mod(243,5)=3$  \n",
    "$expmod(3,5,5)$  \n",
    "$=mod(3\\cdot expmod(3,4,5),5)$  \n",
    "$=mod(3\\cdot mod(expmod(3,2,5)^2,5),5)$  \n",
    "$=mod(3\\cdot mod(mod(expmod(3,1,5)^2,5)^2,5),5)$  \n",
    "$=mod(3\\cdot mod(mod(mod(3\\cdot expmod(3,0,5),5)^2,5)^2,5),5)$  \n",
    "$=mod(3\\cdot mod(mod(mod(3\\cdot 1,5)^2,5)^2,5),5)$  \n",
    "$=mod(3\\cdot mod(mod(mod(3,5)^2,5)^2,5),5)$  \n",
    "$=mod(3\\cdot mod(mod(3^2,5)^2,5),5)$  \n",
    "$=mod(3\\cdot mod(mod(9,5)^2,5),5)$  \n",
    "$=mod(3\\cdot mod(4^2,5),5)$  \n",
    "$=mod(3\\cdot mod(16,5),5)$  \n",
    "$=mod(3\\cdot 1,5)$  \n",
    "$=mod(3,5)$  \n",
    "$=3$  \n",
    "\n",
    "\n",
    "\n",
    "例:base=5 exp=6 m=6(n=6,a=5としてnが素数であるかのテスト)\n",
    "\n",
    "$mod(5,6)=5$  \n",
    "$mod(5^6,6)=mod(15625,6)=1$  \n",
    "$expmod(5,6,6)$  \n",
    "$=mod(expmod(5,3,5)^2,6)$  \n",
    "$=mod(mod(5\\cdot expmod(5,2,5),6)^2,6)$  \n",
    "$=mod(mod(5\\cdot mod(expmod(5,1,6)^2,6),6)^2,6)$  \n",
    "$=mod(mod(5\\cdot mod(mod(5 \\cdot expmod(5,0,6),6)^2,6),6)^2,6)$  \n",
    "$=mod(mod(5\\cdot mod(mod(5 \\cdot 1,6)^2,6),6)^2,6)$  \n",
    "$=mod(mod(5\\cdot mod(mod(5,6)^2,6),6)^2,6)$  \n",
    "$=mod(mod(5\\cdot mod(5^2,6),6)^2,6)$  \n",
    "$=mod(mod(5\\cdot mod(25,6),6)^2,6)$  \n",
    "$=mod(mod(5\\cdot 1,6)^2,6)$  \n",
    "$=mod(mod(5,6)^2,6)$  \n",
    "$=mod(1^2,6)$  \n",
    "$=mod(1,6)$  \n",
    "$=1$  \n"
   ]
  },
  {
   "cell_type": "markdown",
   "metadata": {},
   "source": [
    "##### 練習問題\n",
    "- [練習問題1.21 smallest-divisor手続きの確認](../exercises/1.21.ipynb)\n",
    "- [練習問題1.22 search-for-primes](../exercises/1.22.ipynb)\n",
    "- [練習問題1.23 素数判定で使用するnext手続き](../exercises/1.23.ipynb)\n",
    "- [練習問題1.24 timed-prime-test手続きの実行時間](../exercises/1.24.ipynb)\n",
    "- [練習問題1.25 expmod](../exercises/1.25.ipynb)\n",
    "- [練習問題1.26 実行速度が遅いfast-prime?](../exercises/1.26.ipynb)\n",
    "- [練習問題1.27 素数判定・カーマイケル数](../exercises/1.27.ipynb)\n",
    "- [練習問題1.28 素数判定・ミラー-ラビンテスト](../exercises/1.28.ipynb)"
   ]
  }
 ],
 "metadata": {
  "kernelspec": {
   "display_name": "Calysto Scheme 3",
   "language": "scheme",
   "name": "calysto_scheme"
  },
  "language_info": {
   "codemirror_mode": {
    "name": "scheme"
   },
   "mimetype": "text/x-scheme",
   "name": "scheme",
   "pygments_lexer": "scheme"
  }
 },
 "nbformat": 4,
 "nbformat_minor": 4
}
