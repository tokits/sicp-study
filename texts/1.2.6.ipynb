{
 "cells": [
  {
   "cell_type": "markdown",
   "metadata": {},
   "source": [
    "## 1.2.6 例:素数判定\n",
    "\n",
    "ここでは、整数$n$の素数性をチェックする2つの方法を紹介する。  \n",
    "- 増加オーダーが$\\Theta(\\sqrt{n})$であるアルゴリズム  \n",
    "- 増加オーダーが$\\Theta(\\log{n})$である\"確率的\"なアルゴリズム  "
   ]
  },
  {
   "cell_type": "markdown",
   "metadata": {},
   "source": [
    "#### 約数を探す\n",
    "ある数値が素数であるかテストする⽅法のひとつとして、  \n",
    "その数値の約数を探すというものがある。  \n",
    "次のプログラムは、$2$から始まる⼀連の数字$n$について割り切れるかどうかを調べるという素直な⽅法で、約数を探している。"
   ]
  },
  {
   "cell_type": "code",
   "execution_count": 1,
   "metadata": {},
   "outputs": [],
   "source": [
    "(define (smallest-divisor n)\n",
    "  (find-divisor n 2)\n",
    "  )\n",
    "(define (find-divisor n test-divisor)\n",
    "  (cond ((> (square test-divisor) n) n)\n",
    "        ((divides? test-divisor n) test-divisor)\n",
    "        (else (find-divisor n (+ test-divisor 1)))\n",
    "    )\n",
    "  )\n",
    "(define (divides? a b)\n",
    "  (= (remainder b a) 0)\n",
    "  )\n",
    "(define (square x) (* x x))"
   ]
  },
  {
   "cell_type": "markdown",
   "metadata": {},
   "source": [
    "数値が素数であるかは次のようにテストできる:$n$は、$n$⾃⾝がその最⼩の約数である場合、かつその場合に限り、素数である。"
   ]
  },
  {
   "cell_type": "code",
   "execution_count": 2,
   "metadata": {},
   "outputs": [
    {
     "name": "stdout",
     "output_type": "stream",
     "text": [
      "False\n",
      "True\n"
     ]
    }
   ],
   "source": [
    "(define (prime? n)\n",
    "  (= n (smallest-divisor n))\n",
    "  )\n",
    "; 動作確認\n",
    "(display (prime? 27))\n",
    "(newline)\n",
    "(display (prime? 109))\n",
    "(newline)"
   ]
  },
  {
   "cell_type": "markdown",
   "metadata": {},
   "source": [
    "find-divisorの終了条件は、もし$n$が素数でないならば、  \n",
    "それは$\\sqrt{n}$以下の約数を持つという事実に基づいている。  \n",
    "つまり、このアルゴリズムは、$1$から$\\sqrt{n}$までの約数についてだけテストすればよい。よって、このプログラムの必要なステップ数の増加オーダーは$\\Theta(\\sqrt{n})$となる。"
   ]
  },
  {
   "cell_type": "markdown",
   "metadata": {},
   "source": [
    "#### フェルマーテスト\n",
    "フェルマーの小定理(整数論の結果)に基づいたステップ数の増加オーダーが$\\Theta(\\log{n})$であるアルゴリズムを紹介する。\n",
    "\n",
    "##### フェルマーの小定理\n",
    "$n$が素数で、$a$が$n$より⼩さい任意の正の整数であるとき、  \n",
    "$a$の$n$乗は法$n$に関して$a$と合同である。\n",
    "\n",
    "つまり、素数$n$と$n>a>0$となる任意の整数$a$に対して、    \n",
    "$mod(a,n) \\equiv mod(a^n,n)$  \n",
    "が成り立つ。"
   ]
  },
  {
   "cell_type": "code",
   "execution_count": 18,
   "metadata": {},
   "outputs": [],
   "source": [
    "(define (expmod base exp m)\n",
    "  (cond ((= exp 0) 1)\n",
    "        ((even? exp)(remainder (square (expmod base (/ exp 2) m)) m))\n",
    "        (else (remainder (* base (expmod base (- exp 1) m)) m)))\n",
    "  )"
   ]
  },
  {
   "cell_type": "code",
   "execution_count": 19,
   "metadata": {},
   "outputs": [],
   "source": [
    "(define (fermat-test n)\n",
    "  (define (try-it a)\n",
    "    (= (expmod a n n) a))\n",
    "  (try-it (+ 1 (random (- n 1))))\n",
    "  )"
   ]
  },
  {
   "cell_type": "code",
   "execution_count": 20,
   "metadata": {},
   "outputs": [],
   "source": [
    "(define (fast-prime? n times)\n",
    "  (cond ((= times 0) #t)\n",
    "        ((fermat-test n) (fast-prime? n (- times 1)))\n",
    "        (else #f))\n",
    "  )"
   ]
  },
  {
   "cell_type": "code",
   "execution_count": 21,
   "metadata": {},
   "outputs": [
    {
     "data": {
      "text/plain": [
       "#t"
      ]
     },
     "execution_count": 21,
     "metadata": {},
     "output_type": "execute_result"
    }
   ],
   "source": [
    "(fast-prime? 1039 10)"
   ]
  },
  {
   "cell_type": "code",
   "execution_count": null,
   "metadata": {},
   "outputs": [],
   "source": []
  }
 ],
 "metadata": {
  "kernelspec": {
   "display_name": "Calysto Scheme 3",
   "language": "scheme",
   "name": "calysto_scheme"
  },
  "language_info": {
   "codemirror_mode": {
    "name": "scheme"
   },
   "mimetype": "text/x-scheme",
   "name": "scheme",
   "pygments_lexer": "scheme"
  }
 },
 "nbformat": 4,
 "nbformat_minor": 4
}
