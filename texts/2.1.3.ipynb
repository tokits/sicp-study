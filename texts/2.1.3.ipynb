{
 "cells": [
  {
   "cell_type": "markdown",
   "metadata": {},
   "source": [
    "### 2.1.3 データとは何か\n",
    "\n",
    "$$\n",
    "\\frac{numer(x)}{denom(x)} = \\frac{n}{d}\n",
    "$$"
   ]
  },
  {
   "cell_type": "code",
   "execution_count": 5,
   "metadata": {},
   "outputs": [],
   "source": [
    "(define (cons x y)\n",
    "  (define (dispatch m)\n",
    "    (cond ((= m 0) x)\n",
    "          ((= m 1) y)\n",
    "          (else (error \"Argument not 0 or 1: CONS\" m))))\n",
    "    dispatch)\n",
    "; lambda式で定義した場合。上と同義\n",
    "(define (cons x y)\n",
    "  (lambda (m)\n",
    "    (cond ((= m 0) x)\n",
    "          ((= m 1) y)\n",
    "          (else (error \"Argument not 0 or 1: CONS\" m))\n",
    "        )\n",
    "      )\n",
    "  )\n",
    "(define (car z) (z 0))\n",
    "(define (cdr z) (z 1))"
   ]
  },
  {
   "cell_type": "code",
   "execution_count": 8,
   "metadata": {},
   "outputs": [
    {
     "name": "stdout",
     "output_type": "stream",
     "text": [
      "\n",
      "2/4\n",
      "-2/4\n",
      "2/-4\n",
      "-2/-4"
     ]
    }
   ],
   "source": [
    "; 動作確認\n",
    "(define (make-rat n d)(cons n d))\n",
    "(define (numer x) (car x))\n",
    "(define (denom x) (cdr x))\n",
    "(define (print-rat x)\n",
    "  (newline)\n",
    "  (display (numer x))\n",
    "  (display \"/\")\n",
    "  (display (denom x)))\n",
    "(print-rat (make-rat 2 4))\n",
    "(print-rat (make-rat -2 4))\n",
    "(print-rat (make-rat 2 -4))\n",
    "(print-rat (make-rat -2 -4))"
   ]
  },
  {
   "cell_type": "code",
   "execution_count": null,
   "metadata": {},
   "outputs": [],
   "source": []
  }
 ],
 "metadata": {
  "kernelspec": {
   "display_name": "Calysto Scheme 3",
   "language": "scheme",
   "name": "calysto_scheme"
  },
  "language_info": {
   "codemirror_mode": {
    "name": "scheme"
   },
   "mimetype": "text/x-scheme",
   "name": "scheme",
   "pygments_lexer": "scheme"
  }
 },
 "nbformat": 4,
 "nbformat_minor": 4
}
