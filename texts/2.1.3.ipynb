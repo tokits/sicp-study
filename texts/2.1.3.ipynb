{
 "cells": [
  {
   "cell_type": "markdown",
   "metadata": {},
   "source": [
    "### 2.1.3 データとは何か\n",
    "\n",
    "ここではデータとは何かということについて考えます。  \n",
    "2.1.1では、有理数を分子・分母のペアとして考え、\n",
    "\n",
    "- make-rat手続き：コンストラクタ\n",
    "- number手続き：セレクタ(分子を返す)\n",
    "- denom手続き：セレクタ(分母を返す)\n",
    "\n",
    "を使って、有理数演算add-rat, sub-rat等を実装しました。  \n",
    "xをmake-rat手続きで作成した有理数オブジェクト、  \n",
    "数式上、有理数xが$\\frac{n}{d} \\ (d \\neq 0)$と表現されるならば、\n",
    "$$\n",
    "\\frac{numer(x)}{denom(x)} = \\frac{n}{d}\n",
    "$$\n",
    "を満たす必要があります。  \n",
    "\n",
    "上記の条件は、有理数表現の基礎となるために満たさないといけないただひとつの条件です。  \n",
    "（逆にこの条件を満たしていれば、make-rat,number,denomの内部はどのように実装されていてもかまいません。  \n",
    "　表現方法の自由度については練習問題 2.4～2.6を参照してください。）  \n",
    "\n",
    "⼀般的に、データというものは、  \n",
    "何らかのセレクタとコンストラクタの集合に加え、  \n",
    "それらが有効な表現となるために満たさなければならないと規定された条件によって定義されるものと考えることができます。  \n",
    "（注釈5では厳密に定式化するのは難しいと言っています）\n",
    "\n",
    "同様に、consで作成される低レベルのオブジェクトについても同様なことが言えます。  \n",
    "ペアについては、  \n",
    "\n",
    "- cons手続き：ペアを構築する\n",
    "- car手続き：ペアの先頭を返す\n",
    "- cdr手続き：ペアの後尾を返す\n",
    "\n",
    "を満たしていればよく、これらは以下のように実装することができます。"
   ]
  },
  {
   "cell_type": "code",
   "execution_count": 1,
   "metadata": {},
   "outputs": [],
   "source": [
    "(define (cons x y)\n",
    "  (define (dispatch m)\n",
    "    (cond ((= m 0) x)\n",
    "          ((= m 1) y)\n",
    "          (else (error \"Argument not 0 or 1: CONS\" m))))\n",
    "    dispatch)\n",
    "; lambda式で定義した場合。上と同義\n",
    "(define (cons x y)\n",
    "  (lambda (m)\n",
    "    (cond ((= m 0) x)\n",
    "          ((= m 1) y)\n",
    "          (else (error \"Argument not 0 or 1: CONS\" m))\n",
    "        )\n",
    "      )\n",
    "  )\n",
    "(define (car z) (z 0))\n",
    "(define (cdr z) (z 1))"
   ]
  },
  {
   "cell_type": "code",
   "execution_count": 2,
   "metadata": {},
   "outputs": [
    {
     "name": "stdout",
     "output_type": "stream",
     "text": [
      "\n",
      "2/4\n",
      "-2/4\n",
      "2/-4\n",
      "-2/-4"
     ]
    }
   ],
   "source": [
    "; 動作確認\n",
    "(define (make-rat n d)(cons n d))\n",
    "(define (numer x) (car x))\n",
    "(define (denom x) (cdr x))\n",
    "(define (print-rat x)\n",
    "  (newline)\n",
    "  (display (numer x))\n",
    "  (display \"/\")\n",
    "  (display (denom x)))\n",
    "(print-rat (make-rat 2 4))\n",
    "(print-rat (make-rat -2 4))\n",
    "(print-rat (make-rat 2 -4))\n",
    "(print-rat (make-rat -2 -4))"
   ]
  },
  {
   "cell_type": "markdown",
   "metadata": {},
   "source": [
    "ここで紹介したconsで返却するオブジェクトは手続きですが、  \n",
    "ペアとして完全に正しく機能します。  \n",
    "\n",
    "これは、今の段階ではただの⾯⽩いアイディアのように思われるかもしれませんが、  \n",
    "⼿続きによるデータの表現というものは、本書のプログラミングのレパートリーとして中⼼的な役割を果たしています。  \n",
    "このプログラミングスタイルはよく**メッセージパッシング**(message passing)と呼ばれ、  \n",
    "第3章のモデル化とシミュレーションの問題の中で、基本的な道具として紹介します。"
   ]
  }
 ],
 "metadata": {
  "kernelspec": {
   "display_name": "Calysto Scheme 3",
   "language": "scheme",
   "name": "calysto_scheme"
  },
  "language_info": {
   "codemirror_mode": {
    "name": "scheme"
   },
   "mimetype": "text/x-scheme",
   "name": "scheme",
   "pygments_lexer": "scheme"
  }
 },
 "nbformat": 4,
 "nbformat_minor": 4
}
