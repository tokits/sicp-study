{
 "cells": [
  {
   "cell_type": "markdown",
   "id": "5b262ddf-e4d6-4a9e-962f-ae1881a362be",
   "metadata": {},
   "source": [
    "### 2.4.3 データ主導プログラミングと加法性\n"
   ]
  },
  {
   "cell_type": "code",
   "execution_count": 1,
   "id": "7b29a082-7102-4489-a025-a4cc8df1ea55",
   "metadata": {},
   "outputs": [],
   "source": [
    "(define (lookup key table)\n",
    "  (let ((record (assoc key (cdr table))))\n",
    "    (if record (cdr record)\n",
    "        #f)\n",
    "    )\n",
    "  )\n",
    "\n",
    "(define (assoc key records)\n",
    "  (cond ((null? records) #f)\n",
    "        ((equal? key (caar records)) (car records))\n",
    "        (else (assoc key (cdr records)))\n",
    "        )\n",
    "  )\n",
    "\n",
    "(define (insert! key value table)\n",
    "  (let ((record (assoc key (cdr table))))\n",
    "    (if record (set-cdr! record value)\n",
    "        (set-cdr! table (cons (cons key value) (cdr table)))\n",
    "        )\n",
    "    )\n",
    "  'ok)\n",
    "\n",
    "(define (lookup key-1 key-2 table)\n",
    "  (let ((subtable (assoc key-1 (cdr table))))\n",
    "    (if subtable\n",
    "        (let ((record (assoc key-2 (cdr subtable))))\n",
    "          (if record (cdr record)\n",
    "              #f\n",
    "              )\n",
    "          )\n",
    "        #f\n",
    "        )\n",
    "    )\n",
    "  )\n",
    "\n",
    "(define (insert! key-1 key-2 value table)\n",
    "  (let ((subtable (assoc key-1 (cdr table))))\n",
    "    (if subtable\n",
    "        (let ((record (assoc key-2 (cdr subtable))))\n",
    "          (if record (set-cdr! record value)\n",
    "              (set-cdr! subtable (cons (cons key-2 value) (cdr subtable)))\n",
    "              )\n",
    "          )\n",
    "        (set-cdr! table (cons (list key-1 (cons key-2 value)) (cdr table)))\n",
    "        )\n",
    "    )\n",
    "  'ok)\n",
    "\n",
    "(define (make-table)\n",
    "  (let ((local-table (list '*table*)))\n",
    "    (define (lookup key-1 key-2)\n",
    "      (let ((subtable (assoc key-1 (cdr local-table))))\n",
    "        (if subtable\n",
    "            (let ((record (assoc key-2 (cdr subtable))))\n",
    "              (if record (cdr record) #f))\n",
    "            #f)\n",
    "        )\n",
    "      )\n",
    "    (define (insert! key-1 key-2 value)\n",
    "      (let ((subtable (assoc key-1 (cdr local-table))))\n",
    "        (if subtable\n",
    "            (let ((record (assoc key-2 (cdr subtable))))\n",
    "              (if record (set-cdr! record value)\n",
    "                  (set-cdr! subtable (cons (cons key-2 value) (cdr subtable)))\n",
    "                  )\n",
    "              )\n",
    "            (set-cdr! local-table (cons (list key-1 (cons key-2 value)) (cdr local-table )))\n",
    "            )\n",
    "        )\n",
    "      'ok)\n",
    "    (define (dispatch m)\n",
    "      (cond ((eq? m 'lookup-proc) lookup)\n",
    "            ((eq? m 'insert-proc!) insert!)\n",
    "            (else (error \"Unknown operation: TABLE\" m)))\n",
    "      )\n",
    "    dispatch)\n",
    "  )\n",
    "\n",
    ";(define (make-table) (list '*table*))\n",
    "\n",
    "(define operation-table (make-table))\n",
    "(define get (operation-table 'lookup-proc))\n",
    "(define put (operation-table 'insert-proc!))"
   ]
  },
  {
   "cell_type": "code",
   "execution_count": 2,
   "id": "b5e8b8a2-8db9-4f21-9145-fe35bdce43d4",
   "metadata": {},
   "outputs": [
    {
     "data": {
      "text/plain": [
       "ok"
      ]
     },
     "execution_count": 2,
     "metadata": {},
     "output_type": "execute_result"
    }
   ],
   "source": [
    "; put手続きの動作確認\n",
    "(put 'key1 '(key2) \"test\")"
   ]
  },
  {
   "cell_type": "code",
   "execution_count": 3,
   "id": "b61c9c67-a50e-400a-9ede-e4ac88dbf355",
   "metadata": {},
   "outputs": [
    {
     "data": {
      "text/plain": [
       "\"test\""
      ]
     },
     "execution_count": 3,
     "metadata": {},
     "output_type": "execute_result"
    }
   ],
   "source": [
    "; get手続きの動作\n",
    "(get 'key1 '(key2))"
   ]
  },
  {
   "cell_type": "code",
   "execution_count": 7,
   "id": "bde856ee-74d1-4f27-9249-ce98adf7c4db",
   "metadata": {},
   "outputs": [
    {
     "name": "stderr",
     "output_type": "stream",
     "text": [
      "\u001b[1;31m\n",
      "Traceback (most recent call last):\n",
      "  File \"In [7]\", line 58, col 1, in 'install-polar-package'\n",
      "  Source \"macro-generated-exp\"\n",
      "  File \"In [7]\", line 37, col 2\n",
      "RunTimeError: unbound variable 'put'\n",
      "\n",
      "\u001b[0m"
     ]
    }
   ],
   "source": [
    "(import \"math\")\n",
    "(define (make-from-mag-ang r a)\n",
    "  (define (dispatch op)\n",
    "    (cond ((eq? op 'real-part) (* r (math.cos a)))\n",
    "          ((eq? op 'imag-part) (* r (math.sin a)))\n",
    "          ((eq? op 'magnitude) r)\n",
    "          ((eq? op 'angle) a)\n",
    "          (else (error \"Unknown op: MAKE-FROM-MAG-ANG\" op))\n",
    "          )\n",
    "  )\n",
    "dispatch)\n",
    "\n",
    "(define (square x)(* x x))\n",
    "\n",
    "(define (install-rectangular-package)\n",
    ";; 内部⼿続き\n",
    "(define (real-part z) (car z))\n",
    "(define (imag-part z) (cdr z))\n",
    "(define (make-from-real-imag x y) (cons x y))\n",
    "(define (magnitude z)\n",
    "(sqrt (+ (square (real-part z))\n",
    "(square (imag-part z)))))\n",
    "(define (angle z)\n",
    "(atan (imag-part z) (real-part z)))\n",
    "(define (make-from-mag-ang r a)\n",
    "(cons (* r (cos a)) (* r (sin a))))\n",
    ";; システムのほかの部分とのインターフェイス\n",
    "(define (tag x) (attach-tag 'rectangular x))\n",
    "(put 'real-part '(rectangular) real-part)\n",
    "(put 'imag-part '(rectangular) imag-part)\n",
    "(put 'magnitude '(rectangular) magnitude)\n",
    "(put 'angle '(rectangular) angle)\n",
    "(put 'make-from-real-imag 'rectangular\n",
    "(lambda (x y) (tag (make-from-real-imag x y))))\n",
    "(put 'make-from-mag-ang 'rectangular\n",
    "(lambda (r a) (tag (make-from-mag-ang r a))))\n",
    "'done)\n",
    "\n",
    "(define (install-polar-package)\n",
    ";; 内部⼿続き\n",
    "(define (magnitude z) (car z))\n",
    "(define (angle z) (cdr z))\n",
    "(define (make-from-mag-ang r a) (cons r a))\n",
    "(define (real-part z) (* (magnitude z) (cos (angle z))))\n",
    "(define (imag-part z) (* (magnitude z) (sin (angle z))))\n",
    "(define (make-from-real-imag x y)\n",
    "(cons (sqrt (+ (square x) (square y)))\n",
    "(atan y x)))\n",
    ";; システムのほかの部分とのインターフェイス\n",
    "(define (tag x) (attach-tag 'polar x))\n",
    "(put 'real-part '(polar) real-part)\n",
    "(put 'imag-part '(polar) imag-part)\n",
    "(put 'magnitude '(polar) magnitude)\n",
    "(put 'angle '(polar) angle)\n",
    "(put 'make-from-real-imag 'polar\n",
    "(lambda (x y) (tag (make-from-real-imag x y))))\n",
    "(put 'make-from-mag-ang 'polar\n",
    "(lambda (r a) (tag (make-from-mag-ang r a))))\n",
    "  'done)\n",
    "\n",
    "(define (real-part z) (apply-generic 'real-part z))\n",
    "(define (imag-part z) (apply-generic 'imag-part z))\n",
    "(define (magnitude z) (apply-generic 'magnitude z))\n",
    "(define (angle z) (apply-generic 'angle z))\n",
    "\n",
    "(define (make-from-real-imag x y)\n",
    "((get 'make-from-real-imag 'rectangular) x y))\n",
    "(define (make-from-mag-ang r a)\n",
    "((get 'make-from-mag-ang 'polar) r a))\n",
    "\n",
    ";(install-rectangular-package)\n",
    "(install-polar-package)"
   ]
  },
  {
   "cell_type": "code",
   "execution_count": null,
   "id": "82c1735b-ae74-47b9-9bee-4bb7d7caca4a",
   "metadata": {},
   "outputs": [],
   "source": []
  },
  {
   "cell_type": "markdown",
   "id": "c37fefe2-e93c-4d47-bd32-02a494041a45",
   "metadata": {},
   "source": [
    "#### メッセージパッシング\n"
   ]
  },
  {
   "cell_type": "code",
   "execution_count": 27,
   "id": "ca57695f-c04e-412f-8273-be6076bd28ba",
   "metadata": {},
   "outputs": [],
   "source": [
    "(import \"math\")\n",
    "(define (make-from-real-imag x y)\n",
    "  (define (dispatch op)\n",
    "    (cond ((eq? op 'real-part) x)\n",
    "          ((eq? op 'imag-part) y)\n",
    "          ((eq? op 'magnitude) (sqrt (+ (square x) (square y))))\n",
    "          ;((eq? op 'angle) (atan y x))\n",
    "          ((eq? op 'angle) (math.atan2 y x))\n",
    "          (else (error \"Unknown op: MAKE-FROM-REAL-IMAG\" op))))\n",
    "dispatch)\n",
    "\n",
    "(define (square x)(* x x))\n",
    "(define (apply-generic op arg) (arg op))\n",
    "(define (real-part z) (apply-generic 'real-part z))\n",
    "(define (imag-part z) (apply-generic 'imag-part z))\n",
    "(define (magnitude z) (apply-generic 'magnitude z))\n",
    "(define (angle z) (apply-generic 'angle z))\n"
   ]
  },
  {
   "cell_type": "code",
   "execution_count": 28,
   "id": "29cbe84b-f160-43c9-a0ab-0ca6639c9c3f",
   "metadata": {},
   "outputs": [],
   "source": [
    "(define z (make-from-real-imag 1 2))"
   ]
  },
  {
   "cell_type": "code",
   "execution_count": 29,
   "id": "b2b4e798-56a4-4b28-ab98-12eb3e832bf5",
   "metadata": {},
   "outputs": [
    {
     "data": {
      "text/plain": [
       "1"
      ]
     },
     "execution_count": 29,
     "metadata": {},
     "output_type": "execute_result"
    }
   ],
   "source": [
    "(real-part z)"
   ]
  },
  {
   "cell_type": "code",
   "execution_count": 30,
   "id": "54f13a06-6419-4be2-afd7-50f44f71df0b",
   "metadata": {},
   "outputs": [
    {
     "data": {
      "text/plain": [
       "2"
      ]
     },
     "execution_count": 30,
     "metadata": {},
     "output_type": "execute_result"
    }
   ],
   "source": [
    "(imag-part z)"
   ]
  },
  {
   "cell_type": "code",
   "execution_count": 31,
   "id": "1964f91f-5bf2-4f75-907e-1ddea950e942",
   "metadata": {},
   "outputs": [
    {
     "data": {
      "text/plain": [
       "2.23606797749979"
      ]
     },
     "execution_count": 31,
     "metadata": {},
     "output_type": "execute_result"
    }
   ],
   "source": [
    "(magnitude z)"
   ]
  },
  {
   "cell_type": "code",
   "execution_count": 32,
   "id": "29e30bcb-2d4d-4905-b70d-627bdb4779ab",
   "metadata": {},
   "outputs": [
    {
     "data": {
      "text/plain": [
       "1.1071487177940904"
      ]
     },
     "execution_count": 32,
     "metadata": {},
     "output_type": "execute_result"
    }
   ],
   "source": [
    "(angle z)"
   ]
  },
  {
   "cell_type": "markdown",
   "id": "7b5f98c5-ded4-4fc6-b867-6b36cc7236a7",
   "metadata": {},
   "source": [
    "\n",
    "\n",
    "#### 練習問題\n",
    "\n",
    "- [練習問題2.73 記号微分のデータ主導システム](../exercises/2.73.ipynb)\n",
    "- [練習問題2.74 貪欲エンタープライズ社](../exercises/2.74.ipynb)\n",
    "- [練習問題2.75 make-from-mag-ang](../exercises/2.75.ipynb)\n",
    "- [練習問題2.76 三つの戦略](../exercises/2.76.ipynb)"
   ]
  }
 ],
 "metadata": {
  "kernelspec": {
   "display_name": "Calysto Scheme 3",
   "language": "scheme",
   "name": "calysto_scheme"
  },
  "language_info": {
   "codemirror_mode": {
    "name": "scheme"
   },
   "mimetype": "text/x-scheme",
   "name": "scheme",
   "pygments_lexer": "scheme"
  }
 },
 "nbformat": 4,
 "nbformat_minor": 5
}
