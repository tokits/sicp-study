{
 "cells": [
  {
   "cell_type": "markdown",
   "metadata": {},
   "source": [
    "### 1.3.4 返り値としての手続き"
   ]
  },
  {
   "cell_type": "code",
   "execution_count": 1,
   "metadata": {},
   "outputs": [],
   "source": [
    "(define tolerance 0.00001)\n",
    "\n",
    "(define (fixed-point f first-guess)\n",
    "  (define (close-enough? v1 v2)\n",
    "    (begin\n",
    "     (display v1)\n",
    "     (display \" \")\n",
    "     (display v2)\n",
    "     (newline)\n",
    "     (< (abs (- v1 v2)) tolerance)\n",
    "     )\n",
    "    )\n",
    "  ;tryは予約後になっているようで名前を変えないと動作しなかった\n",
    "  (define (try-tmp guess)\n",
    "    ;(display first-guess)\n",
    "    ;(newline)\n",
    "    (let ((next (f guess)))\n",
    "      (if (close-enough? guess next) next\n",
    "          (try-tmp next)))\n",
    "    )\n",
    "  (try-tmp first-guess)\n",
    "  )"
   ]
  },
  {
   "cell_type": "code",
   "execution_count": 5,
   "metadata": {},
   "outputs": [],
   "source": [
    "(define (average x y)(/ (+ x y) 2))\n",
    "(define (average-damp f)\n",
    "  (lambda (x) (average x (f x)))\n",
    "  )"
   ]
  },
  {
   "cell_type": "code",
   "execution_count": 6,
   "metadata": {},
   "outputs": [
    {
     "data": {
      "text/plain": [
       "55"
      ]
     },
     "execution_count": 6,
     "metadata": {},
     "output_type": "execute_result"
    }
   ],
   "source": [
    "(define (square x)(* x x))\n",
    "((average-damp square) 10)"
   ]
  },
  {
   "cell_type": "code",
   "execution_count": 15,
   "metadata": {},
   "outputs": [
    {
     "name": "stdout",
     "output_type": "stream",
     "text": [
      "1.0 5.5\n",
      "5.5 3.659090909090909\n",
      "3.659090909090909 3.196005081874647\n",
      "3.196005081874647 3.16245562280389\n",
      "3.16245562280389 3.162277665175675\n",
      "3.162277665175675 3.162277660168379\n"
     ]
    },
    {
     "data": {
      "text/plain": [
       "3.162277660168379"
      ]
     },
     "execution_count": 15,
     "metadata": {},
     "output_type": "execute_result"
    }
   ],
   "source": [
    "(define (sqrt x)\n",
    "  (fixed-point (average-damp (lambda (y) (/ x y))) 1.0)\n",
    "  )\n",
    "(sqrt 10)"
   ]
  },
  {
   "cell_type": "code",
   "execution_count": 9,
   "metadata": {},
   "outputs": [
    {
     "name": "stdout",
     "output_type": "stream",
     "text": [
      "1.0 500.5\n",
      "500.5 250.251996005992\n",
      "250.251996005992 125.13398189960365\n",
      "125.13398189960365 62.59892246120368\n",
      "62.59892246120368 31.427057004143535\n",
      "31.427057004143535 16.219775636287256\n",
      "16.219775636287256 10.010442281288746\n",
      "10.010442281288746 9.994795192798307\n",
      "9.994795192798307 10.00260646992535\n",
      "10.00260646992535 9.99869778373611\n",
      "9.99869778373611 10.000651362541197\n",
      "10.000651362541197 9.999674382364848\n",
      "9.999674382364848 10.000162824722292\n",
      "10.000162824722292 9.99991859161555\n",
      "9.99991859161555 10.000040705186333\n",
      "10.000040705186333 9.999979647655369\n",
      "9.999979647655369 10.000010176234447\n",
      "10.000010176234447 9.999994911898309\n",
      "9.999994911898309 10.000002544054729\n"
     ]
    },
    {
     "data": {
      "text/plain": [
       "10.000002544054729"
      ]
     },
     "execution_count": 9,
     "metadata": {},
     "output_type": "execute_result"
    }
   ],
   "source": [
    "(define (cube-root x)\n",
    "  (fixed-point (average-damp (lambda (y) (/ x (square y)))) 1.0)\n",
    "  )\n",
    "(cube-root 1000)"
   ]
  },
  {
   "cell_type": "markdown",
   "metadata": {},
   "source": [
    "#### ニュートン法"
   ]
  },
  {
   "cell_type": "code",
   "execution_count": 11,
   "metadata": {},
   "outputs": [],
   "source": [
    "(define (deriv g)\n",
    "  (lambda (x) (/ (- (g (+ x dx)) (g x)) dx))\n",
    "  )\n",
    "(define dx 0.00001)"
   ]
  },
  {
   "cell_type": "code",
   "execution_count": 12,
   "metadata": {},
   "outputs": [
    {
     "data": {
      "text/plain": [
       "75.00014999664018"
      ]
     },
     "execution_count": 12,
     "metadata": {},
     "output_type": "execute_result"
    }
   ],
   "source": [
    "(define (cube x) (* x x x))\n",
    "((deriv cube) 5)"
   ]
  },
  {
   "cell_type": "code",
   "execution_count": 13,
   "metadata": {},
   "outputs": [],
   "source": [
    "(define (newton-transform g)\n",
    "  (lambda (x) (- x (/ (g x) ((deriv g) x))))\n",
    "  )\n",
    "(define (newtons-method g guess)\n",
    "  (fixed-point (newton-transform g) guess)\n",
    "  )"
   ]
  },
  {
   "cell_type": "code",
   "execution_count": 14,
   "metadata": {},
   "outputs": [
    {
     "name": "stdout",
     "output_type": "stream",
     "text": [
      "1.0 5.49997749988132\n",
      "5.49997749988132 3.6590850515450537\n",
      "3.6590850515450537 3.1960049733464655\n",
      "3.1960049733464655 3.1624556741513277\n",
      "3.1624556741513277 3.162277665460004\n",
      "3.162277665460004 3.162277660168388\n"
     ]
    },
    {
     "data": {
      "text/plain": [
       "3.162277660168388"
      ]
     },
     "execution_count": 14,
     "metadata": {},
     "output_type": "execute_result"
    }
   ],
   "source": [
    "(define (sqrt x)\n",
    "  (newtons-method (lambda (y) (- (square y) x)) 1.0)\n",
    "  )\n",
    "(sqrt 10)"
   ]
  },
  {
   "cell_type": "markdown",
   "metadata": {},
   "source": [
    "#### 抽象化とファーストクラス⼿続き"
   ]
  },
  {
   "cell_type": "code",
   "execution_count": 16,
   "metadata": {},
   "outputs": [],
   "source": [
    "(define (fixed-point-of-transform g transform guess)\n",
    "  (fixed-point (transform g) guess)\n",
    "  )"
   ]
  },
  {
   "cell_type": "code",
   "execution_count": 17,
   "metadata": {},
   "outputs": [
    {
     "name": "stdout",
     "output_type": "stream",
     "text": [
      "1.0 5.5\n",
      "5.5 3.659090909090909\n",
      "3.659090909090909 3.196005081874647\n",
      "3.196005081874647 3.16245562280389\n",
      "3.16245562280389 3.162277665175675\n",
      "3.162277665175675 3.162277660168379\n"
     ]
    },
    {
     "data": {
      "text/plain": [
       "3.162277660168379"
      ]
     },
     "execution_count": 17,
     "metadata": {},
     "output_type": "execute_result"
    }
   ],
   "source": [
    "; 平均緩和バージョン\n",
    "(define (sqrt x)\n",
    "  (fixed-point-of-transform (lambda (y) (/ x y)) average-damp 1.0)\n",
    "  )\n",
    "(sqrt 10)"
   ]
  },
  {
   "cell_type": "code",
   "execution_count": 18,
   "metadata": {},
   "outputs": [
    {
     "name": "stdout",
     "output_type": "stream",
     "text": [
      "1.0 5.49997749988132\n",
      "5.49997749988132 3.6590850515450537\n",
      "3.6590850515450537 3.1960049733464655\n",
      "3.1960049733464655 3.1624556741513277\n",
      "3.1624556741513277 3.162277665460004\n",
      "3.162277665460004 3.162277660168388\n"
     ]
    },
    {
     "data": {
      "text/plain": [
       "3.162277660168388"
      ]
     },
     "execution_count": 18,
     "metadata": {},
     "output_type": "execute_result"
    }
   ],
   "source": [
    "; ニュートン法\n",
    "(define (sqrt x)\n",
    "  (fixed-point-of-transform (lambda (y) (- (square y) x)) newton-transform 1.0)\n",
    "  )\n",
    "(sqrt 10)"
   ]
  }
 ],
 "metadata": {
  "kernelspec": {
   "display_name": "Calysto Scheme 3",
   "language": "scheme",
   "name": "calysto_scheme"
  },
  "language_info": {
   "codemirror_mode": {
    "name": "scheme"
   },
   "mimetype": "text/x-scheme",
   "name": "scheme",
   "pygments_lexer": "scheme"
  }
 },
 "nbformat": 4,
 "nbformat_minor": 4
}
