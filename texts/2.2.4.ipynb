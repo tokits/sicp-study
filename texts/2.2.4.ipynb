{
 "cells": [
  {
   "cell_type": "markdown",
   "metadata": {},
   "source": [
    "### 2.2.4 例：図形言語\n"
   ]
  },
  {
   "cell_type": "markdown",
   "metadata": {},
   "source": [
    "#### 図形言語"
   ]
  },
  {
   "cell_type": "markdown",
   "metadata": {},
   "source": [
    "#### 高階演算"
   ]
  },
  {
   "cell_type": "markdown",
   "metadata": {},
   "source": [
    "#### 枠"
   ]
  },
  {
   "cell_type": "markdown",
   "metadata": {},
   "source": [
    "#### ペインタ"
   ]
  },
  {
   "cell_type": "markdown",
   "metadata": {},
   "source": [
    "#### ペインタの変形と組み合わせ"
   ]
  },
  {
   "cell_type": "markdown",
   "metadata": {},
   "source": [
    "#### 頑健な設計のための⾔語レベル"
   ]
  },
  {
   "cell_type": "markdown",
   "metadata": {},
   "source": [
    "#### 練習問題\n",
    "\n",
    "- [練習問題2.44 up-split](../exercises/2.44.ipynb)\n",
    "- [練習問題2.45 split](../exercises/2.45.ipynb)\n",
    "- [練習問題2.46 フレーム(xcor-vect,yxor-vect,add-vect,sub-vect)](../exercises/2.46.ipynb)\n",
    "- [練習問題2.47 フレーム(コンストラクタ別のセレクタ)](../exercises/2.47.ipynb)\n",
    "- [練習問題2.48 線分segmentの実装](../exercises/2.48.ipynb)\n",
    "- [練習問題2.49 ペインタの実装](../exercises/2.49.ipynb)\n",
    "- [練習問題2.50 rotate180,rotate270](../exercises/2.50.ipynb)\n",
    "- [練習問題2.51 below](../exercises/2.51.ipynb)"
   ]
  }
 ],
 "metadata": {
  "kernelspec": {
   "display_name": "Calysto Scheme 3",
   "language": "scheme",
   "name": "calysto_scheme"
  },
  "language_info": {
   "codemirror_mode": {
    "name": "scheme"
   },
   "mimetype": "text/x-scheme",
   "name": "scheme",
   "pygments_lexer": "scheme"
  }
 },
 "nbformat": 4,
 "nbformat_minor": 4
}
