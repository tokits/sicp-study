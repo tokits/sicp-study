{
 "cells": [
  {
   "cell_type": "markdown",
   "id": "5bbdeebe-9aea-417a-9559-3a533458ad82",
   "metadata": {},
   "source": [
    "### 2.5.3 例：記号代数\n",
    "\n",
    "一般的な代数式を扱うには、難しすぎるので、<br />\n",
    "ここではルールを設けて単純なもののみ扱います。"
   ]
  },
  {
   "cell_type": "markdown",
   "id": "dd3b4297-9522-49b2-b5d8-285438cea723",
   "metadata": {},
   "source": [
    "#### 多項式の算術演算\n",
    "\n",
    "多項式に関する仕様\n",
    "- 一元多項式（不定元が１つのみ）\n",
    "- 多項式は項の和\n",
    "- 項は係数、不定元の冪乗、係数と不定元の冪乗の積\n",
    "- 係数は不定元と独立な代数式\n",
    "- 演算は、加算と乗算のみ\n",
    "- 組み合わせる２つの多項式は同じ不定元を持つ\n",
    "- ジェネリック算術演算システムを拡張する形で多項式を追加する\n",
    "- 多項式の加算は項ごとに実行<br />\n",
    "同じ次数の項の場合は、足す項と足される項の係数の合計を係数同じ次数を持つ新しい項を作る<br />\n",
    "片方にだけ項があって、もう一方のほうに同じ次数の項がない場合は、構築中の和の多項式にその項をそのまま追加\n",
    "- 空の項リストを返すコンストラクタ the-empty-termlist を持つ\n",
    "- 項リストに新しい項を追加するコンストラクタ adjoin-term を持つ\n",
    "- 与えられた項リストが空かどうか調べる empty-termlist? という述語を持つ\n",
    "- 項リストから最⼤次数の項を取り出すセレクタ first-term を持つ\n",
    "- 数の項以外のすべての項を返すセレクタ rest-terms を持つ\n",
    "- ジェネリック手続きaddとmulを持つ\n",
    "\n",
    "項に関する仕様\n",
    "- 与えられた次数と係数から項を構築するコンストラクタ make-term を持つ\n",
    "- 項の次数を返すセレクタ order を持つ\n",
    "- 項の係数を返すセレクタ coeff を持つ\n",
    "\n",
    "多項式は、項リストとして表現します。<br />\n",
    "強制型変換が必要かは不明です。（おそらく必要？）"
   ]
  },
  {
   "cell_type": "markdown",
   "id": "2ffbd79e-9df5-4b76-b2cc-fc56b506f657",
   "metadata": {},
   "source": [
    "#### 項リストの表現\n",
    "\n",
    " $x^{100} + 2 x^2 +1$  \n",
    "\n",
    "を効率表現するように、\n",
    "次数とその項の係数のリストを使って、\n",
    "\n",
    "    ((100 1) (2 2) (0 1)) \n",
    " \n",
    "と表現し、高次から低次の順に並べられた項のリストとして表現します。\n",
    "\n",
    "また、scheme-numberは練習問題2.78にあるように数値そのものとなるよう定義にします。"
   ]
  },
  {
   "cell_type": "code",
   "execution_count": 1,
   "id": "7b29a082-7102-4489-a025-a4cc8df1ea55",
   "metadata": {
    "jupyter": {
     "source_hidden": true
    },
    "tags": []
   },
   "outputs": [
    {
     "data": {
      "text/plain": [
       "done"
      ]
     },
     "execution_count": 1,
     "metadata": {},
     "output_type": "execute_result"
    }
   ],
   "source": [
    "(define (assoc key records)\n",
    "  (cond ((null? records) #f)\n",
    "        ((equal? key (caar records)) (car records))\n",
    "        (else (assoc key (cdr records)))\n",
    "        )\n",
    "  )\n",
    "\n",
    "(define (lookup key-1 key-2 table)\n",
    "  (let ((subtable (assoc key-1 (cdr table))))\n",
    "    (if subtable\n",
    "        (let ((record (assoc key-2 (cdr subtable))))\n",
    "          (if record (cdr record)\n",
    "              #f\n",
    "              )\n",
    "          )\n",
    "        #f\n",
    "        )\n",
    "    )\n",
    "  )\n",
    "\n",
    "(define (insert! key-1 key-2 value table)\n",
    "  (let ((subtable (assoc key-1 (cdr table))))\n",
    "    (if subtable\n",
    "        (let ((record (assoc key-2 (cdr subtable))))\n",
    "          (if record (set-cdr! record value)\n",
    "              (set-cdr! subtable (cons (cons key-2 value) (cdr subtable)))\n",
    "              )\n",
    "          )\n",
    "        (set-cdr! table (cons (list key-1 (cons key-2 value)) (cdr table)))\n",
    "        )\n",
    "    )\n",
    "  'ok)\n",
    "\n",
    "(define (make-table)\n",
    "  (let ((local-table (list '*table*)))\n",
    "    (define (lookup key-1 key-2)\n",
    "      (let ((subtable (assoc key-1 (cdr local-table))))\n",
    "        (if subtable\n",
    "            (let ((record (assoc key-2 (cdr subtable))))\n",
    "              (if record (cdr record) #f))\n",
    "            #f)\n",
    "        )\n",
    "      )\n",
    "    (define (insert! key-1 key-2 value)\n",
    "      (let ((subtable (assoc key-1 (cdr local-table))))\n",
    "        (if subtable\n",
    "            (let ((record (assoc key-2 (cdr subtable))))\n",
    "              (if record (set-cdr! record value)\n",
    "                  (set-cdr! subtable (cons (cons key-2 value) (cdr subtable)))\n",
    "                  )\n",
    "              )\n",
    "            (set-cdr! local-table (cons (list key-1 (cons key-2 value)) (cdr local-table )))\n",
    "            )\n",
    "        )\n",
    "      'ok)\n",
    "    (define (dispatch m)\n",
    "      (cond ((eq? m 'lookup-proc) lookup)\n",
    "            ((eq? m 'insert-proc!) insert!)\n",
    "            (else (error \"Unknown operation: TABLE\" m)))\n",
    "      )\n",
    "    dispatch)\n",
    "  )\n",
    "\n",
    "(define operation-table (make-table))\n",
    "(define get (operation-table 'lookup-proc))\n",
    "(define put (operation-table 'insert-proc!))\n",
    "(define get-coercion get)\n",
    "(define put-coercion put)\n",
    "\n",
    "; タグつきデータのコンストラクタ　練習問題2.78にあるsheme-numberは数値そのものとする\n",
    "(define (attach-tag type-tag contents)\n",
    "  (if (number? contents)\n",
    "      contents\n",
    "      (cons type-tag contents)))\n",
    "\n",
    "; タグを返すセレクタ　練習問題2.78にあるsheme-numberは数値そのものとする\n",
    "(define (type-tag datum)\n",
    "  (cond ((number? datum) 'scheme-number)\n",
    "        ((pair? datum) (car datum))\n",
    "        (else (error \"Bad tagged datum: TYPE-TAG\" datum))))\n",
    "\n",
    "; データを返すセレクタ　練習問題2.78にあるsheme-numberは数値そのものとする\n",
    "(define (contents datum)\n",
    "  (cond ((number? datum) datum)\n",
    "        ((pair? datum) (cdr datum))\n",
    "        (else (error \"Bad tagged datum: CONTENTS\" datum))))\n",
    "\n",
    ";\n",
    "(define (apply-generic op . args)\n",
    "  (let ((type-tags (map type-tag args)))\n",
    "    (let ((proc (get op type-tags)))\n",
    "      (if proc\n",
    "          (apply proc (map contents args))\n",
    "          (if (= (length args) 2)\n",
    "              (let ((type1 (car type-tags))\n",
    "                    (type2 (cadr type-tags))\n",
    "                    (a1 (car args))\n",
    "                    (a2 (cadr args)))\n",
    "                (if (not (eq? type1 type2))\n",
    "                    (let ((t1->t2 (get-coercion type1 type2))\n",
    "                          (t2->t1 (get-coercion type2 type1)))\n",
    "                      (cond (t1->t2\n",
    "                             ;(apply-generic op (t1->t2 a1) a2))\n",
    "                             (apply-generic op (t1->t2 a1 a2) a2))\n",
    "                            (t2->t1\n",
    "                             ;(apply-generic op a1 (t2->t1 a2)))\n",
    "                             (apply-generic op a1 (t2->t1 a2 a1)))\n",
    "                            (else (error \"No method for these types\" (list op type-tags)))\n",
    "                            )\n",
    "                      )\n",
    "                    (error \"Same types\" (list op type-tags))\n",
    "                    )\n",
    "                )\n",
    "              (error \"No method for these types\" (list op type-tags)))))\n",
    "      )\n",
    "    )\n",
    "\n",
    "; ジェネリック算術演算手続き\n",
    "(define (add x y) (apply-generic 'add x y))\n",
    "(define (sub x y) (apply-generic 'sub x y))\n",
    "(define (mul x y) (apply-generic 'mul x y))\n",
    "(define (div x y) (apply-generic 'div x y))\n",
    "(define (=zero? x) (apply-generic '=zero? x))    ;追加手続き\n",
    "(define (reverse-sign x) (apply-generic 'reverse-sign x))    ;追加手続き\n",
    "\n",
    "; scheme-number\n",
    "(define (install-scheme-number-package)\n",
    "  (define (tag x) (attach-tag 'scheme-number x))\n",
    "  (put 'add '(scheme-number scheme-number) (lambda (x y) (tag (+ x y))))\n",
    "  (put 'sub '(scheme-number scheme-number) (lambda (x y) (tag (- x y))))\n",
    "  (put 'mul '(scheme-number scheme-number) (lambda (x y) (tag (* x y))))\n",
    "  (put 'div '(scheme-number scheme-number) (lambda (x y) (tag (/ x y))))\n",
    "  (put '=zero? '(scheme-number) (lambda (x) (= x 0)))    ;追加手続き\n",
    "  (put 'reverse-sign '(scheme-number) (lambda (x) (* x -1)))    ;追加手続き\n",
    "  (put 'make 'scheme-number (lambda (x) (tag x)))\n",
    "'done)\n",
    "\n",
    "(define (make-scheme-number n) ((get 'make 'scheme-number) n))\n",
    "\n",
    "(install-scheme-number-package)"
   ]
  },
  {
   "cell_type": "code",
   "execution_count": 2,
   "id": "9dc85c25-0f00-4582-8aee-a9fc7b0ce527",
   "metadata": {
    "tags": []
   },
   "outputs": [
    {
     "name": "stdout",
     "output_type": "stream",
     "text": [
      "6\n",
      "-2\n",
      "8\n",
      "1/2\n",
      "-2\n"
     ]
    }
   ],
   "source": [
    "; scheme-numberの動作確認\n",
    "(define a (make-scheme-number 2))\n",
    "(define b (make-scheme-number 4))\n",
    "\n",
    "(display (add a b))\n",
    "(display \"\\n\")\n",
    "(display (sub a b))\n",
    "(display \"\\n\")\n",
    "(display (mul a b))\n",
    "(display \"\\n\")\n",
    "(display (div a b))\n",
    "(display \"\\n\")\n",
    "(display (reverse-sign a))\n",
    "(display \"\\n\")"
   ]
  },
  {
   "cell_type": "code",
   "execution_count": 3,
   "id": "15794170-52f8-4fd7-97ce-e44bed893f62",
   "metadata": {},
   "outputs": [
    {
     "data": {
      "text/plain": [
       "#t"
      ]
     },
     "execution_count": 3,
     "metadata": {},
     "output_type": "execute_result"
    }
   ],
   "source": [
    "(define c (make-scheme-number 0))\n",
    "(=zero? c)"
   ]
  },
  {
   "cell_type": "code",
   "execution_count": 4,
   "id": "306d9ea8-711e-4113-b48f-98d7ebb644c2",
   "metadata": {
    "jupyter": {
     "source_hidden": true
    },
    "tags": []
   },
   "outputs": [
    {
     "data": {
      "text/plain": [
       "done"
      ]
     },
     "execution_count": 4,
     "metadata": {},
     "output_type": "execute_result"
    }
   ],
   "source": [
    "; polynomialの実装\n",
    "(define (install-polynomial-package)\n",
    "  ; 内部⼿続き\n",
    "  ; poly の表現\n",
    "  (define (make-poly variable term-list) (cons variable term-list))\n",
    "  (define (variable p) (car p))\n",
    "  (define (term-list p) (cdr p))\n",
    "  ; 2.3.2 節の same-variable? と variable? ⼿続き\n",
    "  (define (same-variable? v1 v2) (and (variable? v1) (variable? v2) (eq? v1 v2)))\n",
    "  (define (variable? x) (symbol? x))\n",
    "  ; 項と項リストの表現\n",
    "  ; 下記の adjoin-term . . . coeff ⼿続き\n",
    "  (define (adjoin-term term term-list)\n",
    "    (if (=zero? (coeff term))\n",
    "        term-list\n",
    "        (cons term term-list)))\n",
    "  (define (the-empty-termlist) '())\n",
    "  (define (first-term term-list) (car term-list))\n",
    "  (define (rest-terms term-list) (cdr term-list))\n",
    "  (define (empty-termlist? term-list) (null? term-list))\n",
    "  (define (make-term order coeff) (list order coeff))\n",
    "  (define (order term) (car term))\n",
    "  (define (coeff term) (cadr term))\n",
    "  (define (add-poly p1 p2)\n",
    "    (if (same-variable? (variable p1) (variable p2))\n",
    "        (make-poly (variable p1)\n",
    "                   (add-terms (term-list p1) (term-list p2)))\n",
    "        (error \"Polys not in same var: ADD-POLY\" (list p1 p2))))\n",
    "  (define (mul-poly p1 p2)\n",
    "    (if (same-variable? (variable p1) (variable p2))\n",
    "        (make-poly (variable p1)\n",
    "                   (mul-terms (term-list p1) (term-list p2)))\n",
    "        (error \"Polys not in same var: MUL-POLY\" (list p1 p2))))  \n",
    "  ; add-poly/mul-polyが使う⼿続き\n",
    "  (define (add-terms L1 L2)\n",
    "    (cond ((empty-termlist? L1) L2)\n",
    "          ((empty-termlist? L2) L1)\n",
    "          (else\n",
    "           (let ((t1 (first-term L1))\n",
    "                 (t2 (first-term L2)))\n",
    "             (cond ((> (order t1) (order t2))\n",
    "                    (adjoin-term\n",
    "                     t1 (add-terms (rest-terms L1) L2)))\n",
    "                   ((< (order t1) (order t2))\n",
    "                    (adjoin-term\n",
    "                     t2 (add-terms L1 (rest-terms L2))))\n",
    "                   (else\n",
    "                    (adjoin-term\n",
    "                     (make-term (order t1)\n",
    "                                (add (coeff t1) (coeff t2)))\n",
    "                     (add-terms (rest-terms L1)\n",
    "                                (rest-terms L2)))))))))\n",
    "  (define (mul-terms L1 L2)\n",
    "    (if (empty-termlist? L1)\n",
    "        (the-empty-termlist)\n",
    "        (add-terms (mul-term-by-all-terms (first-term L1) L2)\n",
    "                   (mul-terms (rest-terms L1) L2))))\n",
    "  (define (mul-term-by-all-terms t1 L)\n",
    "    (if (empty-termlist? L)\n",
    "        (the-empty-termlist)\n",
    "        (let ((t2 (first-term L)))\n",
    "          (adjoin-term\n",
    "           (make-term (+ (order t1) (order t2))\n",
    "                      (mul (coeff t1) (coeff t2)))\n",
    "           (mul-term-by-all-terms t1 (rest-terms L))))))\n",
    "  ; 符号反転\n",
    "  (define (reverse-sign-proc p)\n",
    "        (make-poly (variable p)\n",
    "                   (reverse-sign-terms (term-list p)))    \n",
    "    )\n",
    "  (define (reverse-sign-terms L1)\n",
    "    (if (empty-termlist? L1) (the-empty-termlist)\n",
    "        (let ((t1 (first-term L1)))\n",
    "          (adjoin-term\n",
    "           (make-term (order t1) (reverse-sign (coeff t1)))\n",
    "           (reverse-sign-terms (rest-terms L1))))))\n",
    "  ; 減算\n",
    "  (define (sub-poly p1 p2)\n",
    "    (if (same-variable? (variable p1) (variable p2))\n",
    "        (add-poly p1 (reverse-sign-proc p2))\n",
    "        (error \"Polys not in same var: ADD-POLY\" (list p1 p2))))\n",
    "  (define (sub-terms t1 t2)\n",
    "        (add-terms t1 (reverse-sign-terms t2))\n",
    "    )\n",
    "  (define (zero-terms L)\n",
    "    (if (empty-termlist? L) #t\n",
    "        (let ((t1 (first-term L)))\n",
    "          (if (not (=zero? (coeff t1))) #f\n",
    "              (zero-terms (rest-terms L))\n",
    "          )\n",
    "          )\n",
    "        )\n",
    "    )\n",
    "  ; 強制型変換\n",
    "  (define (scheme-number->polynomial n p)\n",
    "    (tag (make-poly (variable (contents p)) (list (make-term 0 (contents n)))))\n",
    "    )\n",
    "  ; システムのほかの部分とのインターフェイス\n",
    "  (define (tag p) (attach-tag 'polynomial p))\n",
    "  (put 'add '(polynomial polynomial) (lambda (p1 p2) (tag (add-poly p1 p2))))\n",
    "  (put 'mul '(polynomial polynomial) (lambda (p1 p2) (tag (mul-poly p1 p2))))\n",
    "  ;(put '=zero? '(polynomial) (lambda (p) (or (eq? p '()) (=zero? p))))  ; 追加手続き\n",
    "  (put '=zero? '(polynomial) (lambda (p) (zero-terms (term-list p))))  ; 追加手続き\n",
    "  (put 'reverse-sign '(polynomial) (lambda (p) (tag (reverse-sign-proc p))))  ; 追加手続き\n",
    "  (put 'sub '(polynomial polynomial) (lambda (p1 p2) (tag (sub-poly p1 p2))))  ; 追加手続き\n",
    "  ; 追加手続き\n",
    "  (put 'div '(polynomial polynomial) (lambda (p1 p2)\n",
    "                                       (let ((ans (div-poly p1 p2)))\n",
    "                                         ;ans\n",
    "                                         (list (tag (car ans)) (tag (cadr ans)))\n",
    "                                         )\n",
    "                                       )\n",
    "       )\n",
    "  (put 'make 'polynomial (lambda (var terms) (tag (make-poly var terms))))\n",
    "  (put-coercion  'scheme-number 'polynomial scheme-number->polynomial)\n",
    "'done)\n",
    "\n",
    "\n",
    "(define (make-polynomial var terms) ((get 'make 'polynomial) var terms))\n",
    "\n",
    "(install-polynomial-package)"
   ]
  },
  {
   "cell_type": "code",
   "execution_count": 5,
   "id": "e88112d1-03d0-4ae6-aeb4-6fbbd67aea83",
   "metadata": {},
   "outputs": [
    {
     "data": {
      "text/plain": [
       "(polynomial x (2 3) (1 -1) (0 6))"
      ]
     },
     "execution_count": 5,
     "metadata": {},
     "output_type": "execute_result"
    }
   ],
   "source": [
    "(define a (make-polynomial 'x '((2 1) (1 1) (0 1))))\n",
    "(define b (make-polynomial 'x '((2 2) (1 -2) (0 5))))\n",
    "(add a b)"
   ]
  },
  {
   "cell_type": "markdown",
   "id": "61c4337e-1d39-428c-bdda-bededafd7f3f",
   "metadata": {},
   "source": [
    "$(x^2 + x + 1)(2x^2 - 2x + 5)$  \n",
    "\n",
    "$x^2 \\times (2x^2 - 2x + 5) =  2x^4 -2x^3   + 5x^2$  \n",
    "$x \\times (2x^2 - 2x + 5) =          2 x^3   -2 x^2    + 5x$  \n",
    "$1 \\times (2x^2 - 2x + 5)    =                 2x^2    - 2x     +5$\n",
    "\n",
    "$                              2x^4          +5x^2     +3x      + 5$\n"
   ]
  },
  {
   "cell_type": "code",
   "execution_count": 6,
   "id": "91ead288-2a8d-4fd2-87d2-626b99086d36",
   "metadata": {},
   "outputs": [
    {
     "data": {
      "text/plain": [
       "(polynomial x (4 2) (2 5) (1 3) (0 5))"
      ]
     },
     "execution_count": 6,
     "metadata": {},
     "output_type": "execute_result"
    }
   ],
   "source": [
    "(mul a b)"
   ]
  },
  {
   "cell_type": "code",
   "execution_count": 7,
   "id": "dafb9101-1c75-4c0b-b632-01c80019d79f",
   "metadata": {},
   "outputs": [
    {
     "data": {
      "text/plain": [
       "10"
      ]
     },
     "execution_count": 7,
     "metadata": {},
     "output_type": "execute_result"
    }
   ],
   "source": [
    "(define d (make-scheme-number -10))\n",
    "(reverse-sign d)"
   ]
  },
  {
   "cell_type": "code",
   "execution_count": 8,
   "id": "b13514d2-bf8f-43ed-8847-8bef3d1187a1",
   "metadata": {},
   "outputs": [
    {
     "data": {
      "text/plain": [
       "(polynomial x (2 -2) (1 2) (0 -5))"
      ]
     },
     "execution_count": 8,
     "metadata": {},
     "output_type": "execute_result"
    }
   ],
   "source": [
    "(reverse-sign b)"
   ]
  },
  {
   "cell_type": "code",
   "execution_count": 9,
   "id": "2e1dbb20-6b5a-4b17-ac17-4914ab794f3c",
   "metadata": {},
   "outputs": [
    {
     "data": {
      "text/plain": [
       "(polynomial x (2 -1) (1 3) (0 -4))"
      ]
     },
     "execution_count": 9,
     "metadata": {},
     "output_type": "execute_result"
    }
   ],
   "source": [
    "(sub a b)"
   ]
  },
  {
   "cell_type": "code",
   "execution_count": 10,
   "id": "a3c6911c-0e9c-41ce-8273-94529f8b6eb0",
   "metadata": {},
   "outputs": [
    {
     "data": {
      "text/plain": [
       "#f"
      ]
     },
     "execution_count": 10,
     "metadata": {},
     "output_type": "execute_result"
    }
   ],
   "source": [
    "(define e (make-polynomial 'x '((2 0) (1 1) (0 0))))\n",
    "(=zero? e)"
   ]
  },
  {
   "cell_type": "code",
   "execution_count": 11,
   "id": "53015371-da93-4e3f-8355-31d9b878758a",
   "metadata": {},
   "outputs": [
    {
     "data": {
      "text/plain": [
       "(polynomial x (0 -10))"
      ]
     },
     "execution_count": 11,
     "metadata": {},
     "output_type": "execute_result"
    }
   ],
   "source": [
    "((get-coercion 'scheme-number 'polynomial) d a)"
   ]
  },
  {
   "cell_type": "code",
   "execution_count": 12,
   "id": "1a96e83b-e86b-4c8c-b85d-ebc3755fd527",
   "metadata": {},
   "outputs": [
    {
     "data": {
      "text/plain": [
       "(polynomial x (2 1) (1 1) (0 1))"
      ]
     },
     "execution_count": 12,
     "metadata": {},
     "output_type": "execute_result"
    }
   ],
   "source": [
    "a"
   ]
  },
  {
   "cell_type": "code",
   "execution_count": 13,
   "id": "3e37b921-7890-4eb3-8193-3dba0f2905e6",
   "metadata": {},
   "outputs": [
    {
     "data": {
      "text/plain": [
       "(polynomial y (1 2) (0 2))"
      ]
     },
     "execution_count": 13,
     "metadata": {},
     "output_type": "execute_result"
    }
   ],
   "source": [
    "(define c (make-polynomial 'y '((1 2) (0 2))))\n",
    "c"
   ]
  },
  {
   "cell_type": "code",
   "execution_count": 14,
   "id": "e103005c-6cf1-46a9-afcd-e33ec9b00d14",
   "metadata": {},
   "outputs": [
    {
     "data": {
      "text/plain": [
       "(polynomial x (2 (polynomial y (1 2) (0 2))) (1 1) (0 1))"
      ]
     },
     "execution_count": 14,
     "metadata": {},
     "output_type": "execute_result"
    }
   ],
   "source": [
    "(define e (make-polynomial 'x (list (list 2 c) '(1 1) '(0 1))))\n",
    ";(define e (make-polynomial 'x ((make-term 2 c) (make-term 1 1) (make-term 0 1))))\n",
    "e"
   ]
  },
  {
   "cell_type": "code",
   "execution_count": 15,
   "id": "1420bff0-195b-4a6f-ac1f-0f7b42d72741",
   "metadata": {},
   "outputs": [
    {
     "data": {
      "text/plain": [
       "(polynomial x (2 (polynomial y (1 2) (0 3))) (1 2) (0 2))"
      ]
     },
     "execution_count": 15,
     "metadata": {},
     "output_type": "execute_result"
    }
   ],
   "source": [
    "(add e a)"
   ]
  },
  {
   "cell_type": "markdown",
   "id": "0eef11cd-8912-4b33-b16a-51b3776f06b0",
   "metadata": {},
   "source": [
    "時間があったら試してみる\n",
    "\n",
    "    polynamial\n",
    "   ↑       ↑     \n",
    "complex     \n",
    "   ↑\n",
    "rational\n",
    "   ↑\n",
    "scheme-number\n",
    "\n",
    "時間があったら試してみる\n"
   ]
  },
  {
   "cell_type": "markdown",
   "id": "7b5f98c5-ded4-4fc6-b867-6b36cc7236a7",
   "metadata": {},
   "source": [
    "#### 練習問題\n",
    "\n",
    "- [練習問題2.87](../exercises/2.87.ipynb)\n",
    "- [練習問題2.88](../exercises/2.88.ipynb)\n",
    "- [練習問題2.89](../exercises/2.89.ipynb)\n",
    "- [練習問題2.90](../exercises/2.90.ipynb)\n",
    "- [練習問題2.91](../exercises/2.91.ipynb)"
   ]
  },
  {
   "cell_type": "markdown",
   "id": "bbc3d721-909c-4627-a8a6-238fde773bb7",
   "metadata": {},
   "source": [
    "#### 記号代数の方の階層"
   ]
  },
  {
   "cell_type": "markdown",
   "id": "ecea9394-52c2-4a54-b332-6d298680c92e",
   "metadata": {},
   "source": [
    "#### 練習問題\n",
    "\n",
    "- [練習問題2.92](../exercises/2.92.ipynb)\n"
   ]
  },
  {
   "cell_type": "markdown",
   "id": "dd28bd93-2c0b-476d-b73a-5fc49dcb0df8",
   "metadata": {},
   "source": [
    "#### 拡張問題:有理関数"
   ]
  },
  {
   "cell_type": "markdown",
   "id": "d9740f35-9a7f-4bb8-bc58-1951471e18a6",
   "metadata": {},
   "source": [
    "#### 練習問題\n",
    "\n",
    "- [練習問題2.93](../exercises/2.93.ipynb)\n",
    "- [練習問題2.94](../exercises/2.94.ipynb)\n",
    "- [練習問題2.95](../exercises/2.95.ipynb)\n",
    "- [練習問題2.96](../exercises/2.96.ipynb)\n",
    "- [練習問題2.97](../exercises/2.97.ipynb)"
   ]
  }
 ],
 "metadata": {
  "kernelspec": {
   "display_name": "Calysto Scheme 3",
   "language": "scheme",
   "name": "calysto_scheme"
  },
  "language_info": {
   "codemirror_mode": {
    "name": "scheme"
   },
   "mimetype": "text/x-scheme",
   "name": "scheme",
   "pygments_lexer": "scheme"
  }
 },
 "nbformat": 4,
 "nbformat_minor": 5
}
