{
 "cells": [
  {
   "cell_type": "markdown",
   "metadata": {},
   "source": [
    "### 2.3.4 例：ハフマン符号化木\n"
   ]
  },
  {
   "cell_type": "markdown",
   "metadata": {},
   "source": [
    "### 概要\n",
    "\n",
    "集合と木を操作するためのリスト構造とデータ抽象化の使い方を練習する。\n",
    "\n",
    "#### 符号化\n",
    "- 入力：記号列（シンボル）\n",
    "- 出力：1と0からなるビット列\n",
    "\n",
    "#### 復号化\n",
    "- 入力：1と0からなるビット列\n",
    "- 出力：記号列（シンボル）\n",
    "\n",
    "ASCII符号（コード）は、固定長符号としてよく知られている。\n",
    "ここでは詳細は割愛する。\n",
    "\n",
    "出現頻度が高い記号を、短いコードに割り当てることにより、\n",
    "符号化後、コードが短くなる場合がある。\n",
    "\n",
    "モールス符号はそのように設計されていて、\n",
    "可変長符号となっている。\n",
    "各符号を区別するために、分離符号がある。\n",
    "\n",
    "ハフマン符号では、\n",
    "分離符号を用いずに、接頭符号を用いて符号化を行っている。\n",
    "\n",
    "ハフマン符号の使用例：JPEG、ZIP\n",
    "\n",
    "#### この本で取り扱うとトピック\n",
    "- ハフマン符号による符号化\n",
    "- ハフマン符号による復号化\n",
    "- ハフマン符号化木の作り方（記号と重みが与えられていて、ハフマン符号化木を作る。頻度から重みを割り当てる処理は触れていない）\n",
    "→ハフマン符号化木は重みつ要素の集合（木）となっている。"
   ]
  },
  {
   "cell_type": "markdown",
   "metadata": {},
   "source": [
    "<img src=\"2.3.4-01.png\" width=\"40%\" align=\"left\">"
   ]
  },
  {
   "cell_type": "markdown",
   "metadata": {},
   "source": [
    "### ハフマン木の生成"
   ]
  },
  {
   "cell_type": "markdown",
   "metadata": {},
   "source": [
    "### ハフマン木の表現"
   ]
  },
  {
   "cell_type": "markdown",
   "metadata": {},
   "source": [
    "#### ハフマン符号木のデータ構造\n",
    "\n",
    "<img src=\"2.3.4-02.png\" width=\"40%\" align=\"left\">"
   ]
  },
  {
   "cell_type": "markdown",
   "metadata": {},
   "source": [
    "木というと全体のイメージがあるため、ノードと表現したほうが良い？部分木？"
   ]
  },
  {
   "cell_type": "markdown",
   "metadata": {},
   "source": [
    "#### ハフマン符号木全体のイメージ\n",
    "\n",
    "<img src=\"2.3.4-03.png\" width=\"40%\" align=\"left\">"
   ]
  },
  {
   "cell_type": "markdown",
   "metadata": {},
   "source": [
    "#### 葉のコンストラクタ\n",
    "    (define (make-leaf symbol weight) (list 'leaf symbol weight))\n",
    "\n",
    "\n",
    "#### 葉のセレクタ\n",
    "    ; 葉かどうか\n",
    "    (define (leaf? object) (eq? (car object) 'leaf))\n",
    "    ; 葉の記号を返す\n",
    "    (define (symbol-leaf x) (cadr x))\n",
    "    ; 葉の重みを返す\n",
    "    (define (weight-leaf x) (caddr x))/\n",
    "\n",
    "#### 木のコンストラクタ\n",
    "    (define (make-code-tree left right)\n",
    "        (list left                                          ; 左部分木\n",
    "              right                                         ; 右部分木\n",
    "              (append (symbols left) (symbols right))       ; 記号列\n",
    "              (+ (weight left) (weight right))))            ; 重み\n",
    "\n",
    "#### 木のセレクタ\n",
    "    ; 左部分木を返す\n",
    "    (define (left-branch tree) (car tree))\n",
    "    ; 右部分木を返す\n",
    "    (define (right-branch tree) (cadr tree))\n",
    "    ; 記号列を返す ※葉の場合は、葉の記号をリストにして返す\n",
    "    (define (symbols tree)\n",
    "        (if (leaf? tree) (list (symbol-leaf tree))\n",
    "          (caddr tree))\n",
    "        )\n",
    "    ; 重みを返す\n",
    "    (define (weight tree)\n",
    "        (if (leaf? tree) (weight-leaf tree)\n",
    "          (cadddr tree))\n",
    "        )"
   ]
  },
  {
   "cell_type": "markdown",
   "metadata": {},
   "source": [
    "### 復号化手続き\n",
    "\n",
    "\n"
   ]
  },
  {
   "cell_type": "markdown",
   "metadata": {},
   "source": [
    "### 重みつき要素の集合"
   ]
  },
  {
   "cell_type": "markdown",
   "metadata": {},
   "source": [
    "\n",
    "\n",
    "#### 練習問題\n",
    "\n",
    "- [練習問題2.67 復号化(decode)の動作確認](../exercises/2.67.ipynb)\n",
    "- [練習問題2.68 符号化(encode-symbol)の実装](../exercises/2.68.ipynb)\n",
    "- [練習問題2.69 ハフマン木の生成](../exercises/2.69.ipynb)\n",
    "- [練習問題2.70 符号化の例](../exercises/2.70.ipynb)\n",
    "- [練習問題2.71 ハフマン木のスケッチ](../exercises/2.71.ipynb)\n",
    "- [練習問題2.72 符号化の増加オーダー](../exercises/2.72.ipynb)"
   ]
  }
 ],
 "metadata": {
  "kernelspec": {
   "display_name": "Calysto Scheme 3",
   "language": "scheme",
   "name": "calysto_scheme"
  },
  "language_info": {
   "codemirror_mode": {
    "name": "scheme"
   },
   "mimetype": "text/x-scheme",
   "name": "scheme",
   "pygments_lexer": "scheme"
  }
 },
 "nbformat": 4,
 "nbformat_minor": 4
}
