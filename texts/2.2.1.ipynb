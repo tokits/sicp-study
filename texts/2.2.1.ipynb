{
 "cells": [
  {
   "cell_type": "markdown",
   "metadata": {},
   "source": [
    "## 2.2 階層データと閉包性\n",
    "\n",
    "概要の詳細はテキストを参照してください。  \n",
    "ここでは重要と思われる内容について説明を記載します。\n",
    "\n",
    "図2.2は、(cons 1 2)の、箱とポインタ記法の表現を表しています。  "
   ]
  },
  {
   "cell_type": "markdown",
   "metadata": {},
   "source": [
    "<img src=\"2.2.png\" width=\"75%\">\n",
    "\n",
    "<div style=\"text-align: center;\">図2.2:(cons 1 2)の箱とポインタ表現</div>"
   ]
  },
  {
   "cell_type": "markdown",
   "metadata": {},
   "source": [
    "consは数値だけでなくペアも結合できます。  \n",
    "図2.3はペアを使って数値1,2,3,4を組わせる方法を示しています。  \n",
    "ペアを要素とするペアを作る能力は、\n",
    "consの**閉包性**(closure property)と呼ばれています。  "
   ]
  },
  {
   "cell_type": "markdown",
   "metadata": {},
   "source": [
    "<img src=\"2.3.png\" width=\"75%\">\n",
    "\n",
    "<div style=\"text-align: center;\">図2.3:ペアを使って1, 2, 3, 4を組み合わせる⼆つの⽅法</div>"
   ]
  },
  {
   "cell_type": "code",
   "execution_count": 1,
   "metadata": {},
   "outputs": [
    {
     "data": {
      "text/plain": [
       "((1 . 2) 3 . 4)"
      ]
     },
     "execution_count": 1,
     "metadata": {},
     "output_type": "execute_result"
    }
   ],
   "source": [
    "; ペアを要素として構築した結果1\n",
    "(cons (cons 1 2) (cons 3 4))"
   ]
  },
  {
   "cell_type": "code",
   "execution_count": 2,
   "metadata": {},
   "outputs": [
    {
     "data": {
      "text/plain": [
       "((1 2 . 3) . 4)"
      ]
     },
     "execution_count": 2,
     "metadata": {},
     "output_type": "execute_result"
    }
   ],
   "source": [
    "; ペアを要素として構築した結果2\n",
    "(cons (cons 1 (cons 2 3)) 4)"
   ]
  },
  {
   "cell_type": "markdown",
   "metadata": {},
   "source": [
    "※上記のようなペアの組み合わせは木として使用します。\n",
    "\n",
    "この節では、\n",
    "複合データの閉包がもたらす結果について扱い、  \n",
    "ペアを使って列(リスト)や⽊を表現する確⽴されたテクニックについて説明します。"
   ]
  },
  {
   "cell_type": "markdown",
   "metadata": {},
   "source": [
    "### 2.2.1 列の表現\n",
    "\n",
    "#### 概要\n",
    "以下は2.2.1で扱う内容です。  \n",
    "- 列の表現\n",
    "- リスト演算\n",
    "    - cdrダウン\n",
    "    - consアップ\n",
    "    - list-ref\n",
    "    - length (再帰プロセス)\n",
    "    - length (反復プロセス)\n",
    "    - append\n",
    "    - 練習問題2.17 last-pair\n",
    "    - 練習問題2.18 reverse\n",
    "    - 練習問題2.19 リストを使った両替の組み合わせパターン\n",
    "    - 練習問題2.20 ドット記法(可変引数)\n",
    "- リストに対するマップ\n",
    "    - 練習問題2.21 square-list mapの使用方法\n",
    "    - 練習問題2.22 square-listの反復プロセス\n",
    "    - 練習問題2.23 for-each"
   ]
  },
  {
   "cell_type": "markdown",
   "metadata": {},
   "source": [
    "#### 列の表現\n",
    "\n",
    "列(sequence)とは、データオブジ ェクトの順序つき集合です。  \n",
    "ペアを使って列を表すやり⽅はいろいろありますが(キューとかも列の一部としている？)、  \n",
    "ここではリストとよばれる、チェーンでペアを接続する表現方法について説明します。  \n",
    "\n",
    "図2.4は、1,2,3,4のリストの表現方法を表しています。  \n",
    "リスト(list)という⾔葉はリスト終端マーカー(nil)で終わるペアのチェーンという意味で使います。  "
   ]
  },
  {
   "cell_type": "markdown",
   "metadata": {},
   "source": [
    "<img src=\"2.4.png\" width=\"75%\">\n",
    "\n",
    "<div style=\"text-align: center;\">図2.4:ペアの鎖として表現された列1, 2, 3, 4</div>"
   ]
  },
  {
   "cell_type": "markdown",
   "metadata": {},
   "source": [
    "上記のようなリストは、入れ子のconsによって作られます。"
   ]
  },
  {
   "cell_type": "code",
   "execution_count": 3,
   "metadata": {},
   "outputs": [
    {
     "data": {
      "text/plain": [
       "(1 2 3 4)"
      ]
     },
     "execution_count": 3,
     "metadata": {},
     "output_type": "execute_result"
    }
   ],
   "source": [
    "; ここで使用している処理系ではnilが使えないため、\n",
    "; nilと等価である '() を使用しています。\n",
    "(cons 1 (cons 2 (cons 3 (cons 4 '()))))"
   ]
  },
  {
   "cell_type": "markdown",
   "metadata": {},
   "source": [
    "上記の入れ子のconsは、list手続きで作成することが可能です。  \n",
    "つまり、入れ子のconsとlist手続きで作成されるリストは等価です。"
   ]
  },
  {
   "cell_type": "code",
   "execution_count": 4,
   "metadata": {},
   "outputs": [
    {
     "data": {
      "text/plain": [
       "(1 2 3 4)"
      ]
     },
     "execution_count": 4,
     "metadata": {},
     "output_type": "execute_result"
    }
   ],
   "source": [
    "(list 1 2 3 4)"
   ]
  },
  {
   "cell_type": "code",
   "execution_count": 5,
   "metadata": {},
   "outputs": [
    {
     "data": {
      "text/plain": [
       "(1 2 3 4)"
      ]
     },
     "execution_count": 5,
     "metadata": {},
     "output_type": "execute_result"
    }
   ],
   "source": [
    "; クォートを使った以下の書き方も等価です。\n",
    "; 後で動作確認します。\n",
    "'(1 2 3 4)"
   ]
  },
  {
   "cell_type": "markdown",
   "metadata": {},
   "source": [
    "式 (list 1 2 3 4) と、その式を評価した結果として得られるリスト (1 2 3 4)を混同しないように気をつけてください。  \n",
    "式(1 2 3 4)を評価 しようとすると、インタプリタは⼿続き1を引数2, 3, 4に適⽤しようとして、 エラーを起こします。 "
   ]
  },
  {
   "cell_type": "code",
   "execution_count": 6,
   "metadata": {},
   "outputs": [
    {
     "data": {
      "text/plain": [
       "(1 2 3 4)"
      ]
     },
     "execution_count": 6,
     "metadata": {},
     "output_type": "execute_result"
    }
   ],
   "source": [
    "(define one-through-four (list 1 2 3 4))\n",
    "one-through-four"
   ]
  },
  {
   "cell_type": "code",
   "execution_count": 7,
   "metadata": {},
   "outputs": [
    {
     "data": {
      "text/plain": [
       "1"
      ]
     },
     "execution_count": 7,
     "metadata": {},
     "output_type": "execute_result"
    }
   ],
   "source": [
    "; 先頭の取り出し\n",
    "(car one-through-four)"
   ]
  },
  {
   "cell_type": "code",
   "execution_count": 8,
   "metadata": {},
   "outputs": [
    {
     "data": {
      "text/plain": [
       "(2 3 4)"
      ]
     },
     "execution_count": 8,
     "metadata": {},
     "output_type": "execute_result"
    }
   ],
   "source": [
    "; 2番目以降の取り出し(ペアの後尾を返す)\n",
    "(cdr one-through-four)"
   ]
  },
  {
   "cell_type": "markdown",
   "metadata": {},
   "source": [
    "<img src=\"2.2-cdr.png\" width=\"75%\">\n",
    "\n",
    "<div style=\"text-align: center;\">リストに対するcdrの動作</div>"
   ]
  },
  {
   "cell_type": "code",
   "execution_count": 9,
   "metadata": {},
   "outputs": [
    {
     "data": {
      "text/plain": [
       "2"
      ]
     },
     "execution_count": 9,
     "metadata": {},
     "output_type": "execute_result"
    }
   ],
   "source": [
    "(car (cdr one-through-four))"
   ]
  },
  {
   "cell_type": "code",
   "execution_count": 10,
   "metadata": {},
   "outputs": [
    {
     "data": {
      "text/plain": [
       "(10 1 2 3 4)"
      ]
     },
     "execution_count": 10,
     "metadata": {},
     "output_type": "execute_result"
    }
   ],
   "source": [
    "; 10とリスト(1 2 3 4)をconsでペアにすると、\n",
    "; (10 1 2 3 4)という新しいリストが生成できます。\n",
    "(cons 10 one-through-four)"
   ]
  },
  {
   "cell_type": "markdown",
   "metadata": {},
   "source": [
    "<img src=\"2.2-cons1.png\" width=\"75%\">\n",
    "\n",
    "<div style=\"text-align: center;\">リストに対するconsの動作</div>"
   ]
  },
  {
   "cell_type": "code",
   "execution_count": 11,
   "metadata": {},
   "outputs": [
    {
     "data": {
      "text/plain": [
       "((1 2 3 4) . 5)"
      ]
     },
     "execution_count": 11,
     "metadata": {},
     "output_type": "execute_result"
    }
   ],
   "source": [
    "; リスト(1 2 3 4)と5をconsでペアにすると、\n",
    "; consの入れ子の形にならないので、出力するとリストの形では表示されません。\n",
    "(cons one-through-four 5)"
   ]
  },
  {
   "cell_type": "markdown",
   "metadata": {},
   "source": [
    "<img src=\"2.2-cons2.png\" width=\"75%\">\n",
    "\n",
    "<div style=\"text-align: center;\">リストに対するconsの動作</div>"
   ]
  },
  {
   "cell_type": "markdown",
   "metadata": {},
   "source": [
    "リストから2番目の要素を取り出す方法としてcadrが用意されています。\n",
    "\n",
    "    (cadr ⟨arg⟩) = (car (cdr ⟨arg⟩))\n",
    "\n",
    "同様にリストから3番目の要素を取り出す方法としてcaddrが用意されています。\n",
    "\n",
    "    (caddr ⟨arg⟩) = (car (cdr (cdr ⟨arg⟩)))\n",
    "    \n",
    "dの数が取り出す要素の順番に対応しています。"
   ]
  },
  {
   "cell_type": "code",
   "execution_count": 12,
   "metadata": {},
   "outputs": [
    {
     "data": {
      "text/plain": [
       "2"
      ]
     },
     "execution_count": 12,
     "metadata": {},
     "output_type": "execute_result"
    }
   ],
   "source": [
    "; 注釈にあるcadr手続き\n",
    "(cadr one-through-four)"
   ]
  },
  {
   "cell_type": "code",
   "execution_count": 13,
   "metadata": {},
   "outputs": [
    {
     "data": {
      "text/plain": [
       "3"
      ]
     },
     "execution_count": 13,
     "metadata": {},
     "output_type": "execute_result"
    }
   ],
   "source": [
    "; 注釈にあるcaddr手続き\n",
    "(caddr one-through-four)"
   ]
  },
  {
   "cell_type": "markdown",
   "metadata": {},
   "source": [
    "#### リスト演算\n",
    "\n",
    "ここではリストに対する操作について説明します。  \n",
    "cdrダウンとconsアップというテクニックでリストの操作を実装します。  \n",
    "（リストに対する操作は、自分で実装する場合、  \n",
    "  リストの構造から考えて基本的には、cdrダウンとconsアップしかないと思われます）"
   ]
  },
  {
   "cell_type": "code",
   "execution_count": 14,
   "metadata": {},
   "outputs": [
    {
     "data": {
      "text/plain": [
       "16"
      ]
     },
     "execution_count": 14,
     "metadata": {},
     "output_type": "execute_result"
    }
   ],
   "source": [
    "; リストからn番目(0オリジン)の要素を取り出します。\n",
    "; n-1番目までcdrダウンし、目的の位置になったらそのときの要素を返します。\n",
    "(define (list-ref items n)\n",
    "  (if (= n 0) (car items)\n",
    "      (list-ref (cdr items) (- n 1)))\n",
    "  )\n",
    "\n",
    "; 動作確認\n",
    "(define squares (list 1 4 9 16 25))\n",
    "(list-ref squares 3)"
   ]
  },
  {
   "cell_type": "code",
   "execution_count": 15,
   "metadata": {},
   "outputs": [
    {
     "data": {
      "text/plain": [
       "4"
      ]
     },
     "execution_count": 15,
     "metadata": {},
     "output_type": "execute_result"
    }
   ],
   "source": [
    "; リストの長さ(要素数)を返します。\n",
    "; 再帰プロセス版\n",
    "(define (length items)\n",
    "  (if (null? items) 0\n",
    "      (+ 1 (length (cdr items))))\n",
    "  )\n",
    "\n",
    "; 動作確認\n",
    "(define odds (list 1 3 5 7))\n",
    "(length odds)"
   ]
  },
  {
   "cell_type": "code",
   "execution_count": 16,
   "metadata": {},
   "outputs": [
    {
     "data": {
      "text/plain": [
       "4"
      ]
     },
     "execution_count": 16,
     "metadata": {},
     "output_type": "execute_result"
    }
   ],
   "source": [
    "; リストの長さ(要素数)を返す。\n",
    "; 反復プロセス版\n",
    "(define (length items)\n",
    "  (define (length-iter a count)\n",
    "    (if (null? a) count\n",
    "        (length-iter (cdr a) (+ 1 count)))\n",
    "    )\n",
    "  (length-iter items 0)\n",
    "  )\n",
    "\n",
    "; 動作確認\n",
    "(length odds)"
   ]
  },
  {
   "cell_type": "code",
   "execution_count": 17,
   "metadata": {},
   "outputs": [
    {
     "data": {
      "text/plain": [
       "(1 4 9 16 25 1 3 5 7)"
      ]
     },
     "execution_count": 17,
     "metadata": {},
     "output_type": "execute_result"
    }
   ],
   "source": [
    "; 2つのリストを接続したリストを返します。\n",
    "; append手続きはデフォルトで定義済みの操作です。\n",
    "(append squares odds)"
   ]
  },
  {
   "cell_type": "code",
   "execution_count": 18,
   "metadata": {},
   "outputs": [
    {
     "data": {
      "text/plain": [
       "(1 3 5 7 1 4 9 16 25)"
      ]
     },
     "execution_count": 18,
     "metadata": {},
     "output_type": "execute_result"
    }
   ],
   "source": [
    "; 入れ替えた場合\n",
    "(append odds squares)"
   ]
  },
  {
   "cell_type": "code",
   "execution_count": 19,
   "metadata": {},
   "outputs": [],
   "source": [
    "; appendの実装例\n",
    "; consアップの例になっています。\n",
    "; consアップとcdrダウンと組み合わせて新しいリストを構築します。\n",
    "(define (append list1 list2)\n",
    "  (if (null? list1) list2\n",
    "      (cons (car list1) (append (cdr list1) list2)))\n",
    "  )"
   ]
  },
  {
   "cell_type": "code",
   "execution_count": 20,
   "metadata": {},
   "outputs": [
    {
     "data": {
      "text/plain": [
       "(1 4 9 16 25 1 3 5 7)"
      ]
     },
     "execution_count": 20,
     "metadata": {},
     "output_type": "execute_result"
    }
   ],
   "source": [
    "(append squares odds)"
   ]
  },
  {
   "cell_type": "markdown",
   "metadata": {},
   "source": [
    "##### 練習問題\n",
    "\n",
    "- [練習問題2.17 last-pair](../exercises/2.17.ipynb)\n",
    "- [練習問題2.18 reverse](../exercises/2.18.ipynb)\n",
    "- [練習問題2.19 リストを使った両替の組み合わせパターン](../exercises/2.19.ipynb)\n",
    "- [練習問題2.20 ドット記法(可変引数)](../exercises/2.20.ipynb)"
   ]
  },
  {
   "cell_type": "markdown",
   "metadata": {},
   "source": [
    "#### リストに対するマップ\n",
    "\n",
    "ここでリストの各数値に対して、演算（操作：写像）を行い、  \n",
    "その結果をリストとして出力する処理を考えます。"
   ]
  },
  {
   "cell_type": "code",
   "execution_count": 21,
   "metadata": {},
   "outputs": [
    {
     "data": {
      "text/plain": [
       "(10 20 30 40 50)"
      ]
     },
     "execution_count": 21,
     "metadata": {},
     "output_type": "execute_result"
    }
   ],
   "source": [
    "(define (scale-list items factor)\n",
    "  (if (null? items) '()\n",
    "      (cons (* (car items) factor) (scale-list (cdr items) factor)))\n",
    "  )\n",
    "(scale-list (list 1 2 3 4 5) 10)"
   ]
  },
  {
   "cell_type": "markdown",
   "metadata": {},
   "source": [
    "<img src=\"2.2-list-map.png\" width=\"75%\">\n",
    "\n",
    "<div style=\"text-align: center;\">リストに対するマップの動作</div>"
   ]
  },
  {
   "cell_type": "markdown",
   "metadata": {},
   "source": [
    "1.3節であった、高階手続き（手続きを引数にとる手続き）の考え方に基づくと、  \n",
    "入力データとなるリストと写像に当たる手続きを引数にとり、  \n",
    "写像を施した結果をリストにするという処理を一般化することができます。  \n",
    "この手続きはmapと呼ばれ、schemeで標準的に実装されており、  \n",
    "より高いレベルの抽象化になっています。  \n",
    "map手続きは、リスト の要素をどうやって取り出して結合していくかという  \n",
    "細かいところから切り離しています。"
   ]
  },
  {
   "cell_type": "code",
   "execution_count": 24,
   "metadata": {},
   "outputs": [],
   "source": [
    "; mapの実装例\n",
    "(define (map proc items)\n",
    "  (if (null? items) '()\n",
    "      (cons (proc (car items)) (map proc (cdr items)))))"
   ]
  },
  {
   "cell_type": "code",
   "execution_count": 25,
   "metadata": {},
   "outputs": [
    {
     "data": {
      "text/plain": [
       "(10 2.5 11.6 17)"
      ]
     },
     "execution_count": 25,
     "metadata": {},
     "output_type": "execute_result"
    }
   ],
   "source": [
    "; mapの動作確認1\n",
    "(map abs (list -10 2.5 -11.6 17))"
   ]
  },
  {
   "cell_type": "code",
   "execution_count": 26,
   "metadata": {},
   "outputs": [
    {
     "data": {
      "text/plain": [
       "(1 4 9 16)"
      ]
     },
     "execution_count": 26,
     "metadata": {},
     "output_type": "execute_result"
    }
   ],
   "source": [
    "; mapの動作確認2\n",
    "(map (lambda (x) (* x x)) (list 1 2 3 4))"
   ]
  },
  {
   "cell_type": "code",
   "execution_count": 27,
   "metadata": {},
   "outputs": [
    {
     "data": {
      "text/plain": [
       "(10 20 30 40 50)"
      ]
     },
     "execution_count": 27,
     "metadata": {},
     "output_type": "execute_result"
    }
   ],
   "source": [
    "; scale-listをmapで書き直した場合\n",
    "(define (scale-list items factor) \n",
    "  (map (lambda (x) (* x factor)) items)\n",
    "  )\n",
    "(scale-list (list 1 2 3 4 5) 10)"
   ]
  },
  {
   "cell_type": "markdown",
   "metadata": {},
   "source": [
    "以下は、注釈にある、schemeで定義済みのmapの動作確認です。  \n",
    "このmap手続きは上記の実装例のmapより汎用的な動作となっています。  \n",
    "同じ要素数のリストを複数とり、それに対して処理を行います。"
   ]
  },
  {
   "cell_type": "markdown",
   "metadata": {},
   "source": [
    "$$\n",
    "f:\\mathbb{R} \\times \\mathbb{R} \\times \\mathbb{R} \\rightarrow \\mathbb{R} \\\\\n",
    "$$\n",
    "$$\n",
    "(x, y, z) \\mapsto (x + y + z)\n",
    "$$"
   ]
  },
  {
   "cell_type": "code",
   "execution_count": 22,
   "metadata": {},
   "outputs": [
    {
     "data": {
      "text/plain": [
       "(741 852 963)"
      ]
     },
     "execution_count": 22,
     "metadata": {},
     "output_type": "execute_result"
    }
   ],
   "source": [
    "(map + (list 1 2 3) (list 40 50 60) (list 700 800 900))"
   ]
  },
  {
   "cell_type": "markdown",
   "metadata": {},
   "source": [
    "$$\n",
    "g:\\mathbb{R} \\times \\mathbb{R} \\rightarrow \\mathbb{R} \\\\\n",
    "$$\n",
    "$$\n",
    "(x, y) \\mapsto (x + 2y)\n",
    "$$"
   ]
  },
  {
   "cell_type": "code",
   "execution_count": 23,
   "metadata": {},
   "outputs": [
    {
     "data": {
      "text/plain": [
       "(9 12 15)"
      ]
     },
     "execution_count": 23,
     "metadata": {},
     "output_type": "execute_result"
    }
   ],
   "source": [
    "(map (lambda (x y) (+ x (* 2 y)))\n",
    "     (list 1 2 3)\n",
    "     (list 4 5 6))"
   ]
  },
  {
   "cell_type": "markdown",
   "metadata": {},
   "source": [
    "「2.3.1クォート」で紹介される、以下のクォートによる記法によるリストの記述も、  \n",
    "list手続きの表現と等価です。  "
   ]
  },
  {
   "cell_type": "code",
   "execution_count": 28,
   "metadata": {},
   "outputs": [
    {
     "data": {
      "text/plain": [
       "(1 2 3 2 3 4)"
      ]
     },
     "execution_count": 28,
     "metadata": {},
     "output_type": "execute_result"
    }
   ],
   "source": [
    "(append '(1 2 3) '(2 3 4))"
   ]
  },
  {
   "cell_type": "code",
   "execution_count": 29,
   "metadata": {},
   "outputs": [
    {
     "data": {
      "text/plain": [
       "(10 20 30 40 50)"
      ]
     },
     "execution_count": 29,
     "metadata": {},
     "output_type": "execute_result"
    }
   ],
   "source": [
    "(scale-list '(1 2 3 4 5) 10)"
   ]
  },
  {
   "cell_type": "markdown",
   "metadata": {},
   "source": [
    "練習問題\n",
    "\n",
    "- [練習問題2.21 square-list mapの使用方法](../exercises/2.21.ipynb)\n",
    "- [練習問題2.22 square-listの反復プロセス](../exercises/2.22.ipynb)\n",
    "- [練習問題2.23 for-each](../exercises/2.23.ipynb)"
   ]
  }
 ],
 "metadata": {
  "kernelspec": {
   "display_name": "Calysto Scheme 3",
   "language": "scheme",
   "name": "calysto_scheme"
  },
  "language_info": {
   "codemirror_mode": {
    "name": "scheme"
   },
   "mimetype": "text/x-scheme",
   "name": "scheme",
   "pygments_lexer": "scheme"
  }
 },
 "nbformat": 4,
 "nbformat_minor": 4
}
