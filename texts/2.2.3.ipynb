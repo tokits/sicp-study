{
 "cells": [
  {
   "cell_type": "markdown",
   "metadata": {},
   "source": [
    "### 2.2.3 標準インターフェイスとしての列\n"
   ]
  },
  {
   "cell_type": "code",
   "execution_count": 1,
   "metadata": {},
   "outputs": [
    {
     "name": "stdout",
     "output_type": "stream",
     "text": [
      "(1 (2 (3 4) 5) (6 7))\n",
      "84\n"
     ]
    }
   ],
   "source": [
    "; ⽊を引数に取り、奇数の葉の⼆乗の合計\n",
    "(define (square x)(* x x))\n",
    "\n",
    "(define (sum-odd-squares tree)\n",
    "  (cond ((null? tree) 0)\n",
    "        ((not (pair? tree)) (if (odd? tree) (square tree) 0))\n",
    "        (else (+ (sum-odd-squares (car tree)) (sum-odd-squares (cdr tree)))))\n",
    "  )\n",
    "(define x (list 1 (list 2 (list 3 4) 5) (list 6 7)))\n",
    "(display x)\n",
    "(newline)\n",
    "(display (sum-odd-squares x))\n",
    "(newline)"
   ]
  },
  {
   "cell_type": "code",
   "execution_count": 2,
   "metadata": {},
   "outputs": [
    {
     "name": "stdout",
     "output_type": "stream",
     "text": [
      "(0 1 1 2 3 5 8 13 21 34 55)\n",
      "(0 2 8 34)\n"
     ]
    }
   ],
   "source": [
    "; フィボナッチ数列の偶数のもののリスト\n",
    "(define (fib n)\n",
    "  (cond ((= n 0) 0)\n",
    "        ((= n 1) 1) \n",
    "        (else (+ (fib (- n 1)) (fib (- n 2))))\n",
    "        )\n",
    "  )\n",
    "\n",
    "(define (even-fibs n)\n",
    "  (define (next k)\n",
    "    (if (> k n) '()\n",
    "        (let ((f (fib k)))\n",
    "          (if (even? f) (cons f (next (+ k 1)))\n",
    "              (next (+ k 1))))\n",
    "      )\n",
    "    )\n",
    "  (next 0)\n",
    "  )\n",
    "\n",
    ";(define (map proc items)\n",
    ";  (if (null? items) '()\n",
    ";      (cons (proc (car items)) (map proc (cdr items)))))\n",
    "; ->定義済み\n",
    "\n",
    "(define (make-list n m)\n",
    "  (if (> n m) (list)\n",
    "      (append (list n) (make-list (+ n 1) m))\n",
    "    )\n",
    "  )\n",
    "\n",
    ";(display (map fib (list 0 1 2 3 4 5 6 7 8 9 10)))\n",
    "(display (map fib (make-list 0 10)))\n",
    "(newline)\n",
    "(display (even-fibs 10))\n",
    "(newline)"
   ]
  },
  {
   "cell_type": "markdown",
   "metadata": {},
   "source": [
    "#### 列の演算"
   ]
  },
  {
   "cell_type": "code",
   "execution_count": 3,
   "metadata": {},
   "outputs": [
    {
     "data": {
      "text/plain": [
       "(1 4 9 16 25)"
      ]
     },
     "execution_count": 3,
     "metadata": {},
     "output_type": "execute_result"
    }
   ],
   "source": [
    "(map square (list 1 2 3 4 5))"
   ]
  },
  {
   "cell_type": "code",
   "execution_count": 4,
   "metadata": {},
   "outputs": [
    {
     "data": {
      "text/plain": [
       "(1 3 5)"
      ]
     },
     "execution_count": 4,
     "metadata": {},
     "output_type": "execute_result"
    }
   ],
   "source": [
    "; フィルタリング\n",
    "(define (filter predicate sequence)\n",
    "  (cond ((null? sequence) '())\n",
    "        ((predicate (car sequence))(cons (car sequence) (filter predicate (cdr sequence))))\n",
    "        (else (filter predicate (cdr sequence))))\n",
    "  )\n",
    "\n",
    "; 動作確認\n",
    "(filter odd? (list 1 2 3 4 5))"
   ]
  },
  {
   "cell_type": "code",
   "execution_count": 5,
   "metadata": {},
   "outputs": [
    {
     "name": "stdout",
     "output_type": "stream",
     "text": [
      "15\n",
      "120\n",
      "(1 2 3 4 5)\n"
     ]
    }
   ],
   "source": [
    "; 集積\n",
    "(define (accumulate op initial sequence)\n",
    "  (if (null? sequence) initial\n",
    "      (op (car sequence) (accumulate op initial (cdr sequence)))))\n",
    "\n",
    "; 動作確認\n",
    "(display (accumulate + 0 (list 1 2 3 4 5)))\n",
    "(newline)\n",
    "(display (accumulate * 1 (list 1 2 3 4 5)))\n",
    "(newline)\n",
    "(display (accumulate cons '() (list 1 2 3 4 5)))\n",
    "(newline)"
   ]
  },
  {
   "cell_type": "code",
   "execution_count": 6,
   "metadata": {},
   "outputs": [
    {
     "data": {
      "text/plain": [
       "(2 3 4 5 6 7)"
      ]
     },
     "execution_count": 6,
     "metadata": {},
     "output_type": "execute_result"
    }
   ],
   "source": [
    "; 整数列の列挙\n",
    "(define (enumerate-interval low high)\n",
    "  (if (> low high) '()\n",
    "      (cons low (enumerate-interval (+ low 1) high))))\n",
    "\n",
    "(enumerate-interval 2 7)"
   ]
  },
  {
   "cell_type": "code",
   "execution_count": 7,
   "metadata": {},
   "outputs": [
    {
     "data": {
      "text/plain": [
       "(1 2 3 4 5)"
      ]
     },
     "execution_count": 7,
     "metadata": {},
     "output_type": "execute_result"
    }
   ],
   "source": [
    "; 木の葉の列挙\n",
    "(define (enumerate-tree tree)\n",
    "  (cond ((null? tree) '())\n",
    "        ((not (pair? tree)) (list tree))\n",
    "        (else (append (enumerate-tree (car tree)) (enumerate-tree (cdr tree)))))\n",
    "  )\n",
    "\n",
    "(enumerate-tree (list 1 (list 2 (list 3 4)) 5))"
   ]
  },
  {
   "cell_type": "code",
   "execution_count": 8,
   "metadata": {},
   "outputs": [
    {
     "data": {
      "text/plain": [
       "84"
      ]
     },
     "execution_count": 8,
     "metadata": {},
     "output_type": "execute_result"
    }
   ],
   "source": [
    "(define (sum-odd-squares tree)\n",
    "  (accumulate + 0 (map square (filter odd? (enumerate-tree tree))))\n",
    "  )\n",
    "\n",
    "(sum-odd-squares (list 1 (list 2 (list 3 4) 5) (list 6 7)))"
   ]
  },
  {
   "cell_type": "code",
   "execution_count": 9,
   "metadata": {},
   "outputs": [
    {
     "data": {
      "text/plain": [
       "(0 2 8 34)"
      ]
     },
     "execution_count": 9,
     "metadata": {},
     "output_type": "execute_result"
    }
   ],
   "source": [
    "(define (even-fibs n)\n",
    "  (accumulate cons '() (filter even? (map fib (enumerate-interval 0 n)))))\n",
    "\n",
    "(even-fibs 10)"
   ]
  },
  {
   "cell_type": "code",
   "execution_count": 10,
   "metadata": {},
   "outputs": [
    {
     "data": {
      "text/plain": [
       "(0 1 1 4 9 25 64 169 441 1156 3025)"
      ]
     },
     "execution_count": 10,
     "metadata": {},
     "output_type": "execute_result"
    }
   ],
   "source": [
    "; フィボナッチ数の2乗の列挙\n",
    "(define (list-fib-squares n)\n",
    "  (accumulate cons '() (map square (map fib (enumerate-interval 0 n)))))\n",
    "\n",
    "(list-fib-squares 10)"
   ]
  },
  {
   "cell_type": "code",
   "execution_count": 11,
   "metadata": {},
   "outputs": [
    {
     "data": {
      "text/plain": [
       "225"
      ]
     },
     "execution_count": 11,
     "metadata": {},
     "output_type": "execute_result"
    }
   ],
   "source": [
    "; 奇数の値の2乗の値の積\n",
    "(define (product-of-squares-of-odd-elements sequence)\n",
    "  (accumulate * 1 (map square (filter odd? sequence))))\n",
    "\n",
    "(product-of-squares-of-odd-elements (list 1 2 3 4 5))"
   ]
  },
  {
   "cell_type": "markdown",
   "metadata": {},
   "source": [
    "salary"
   ]
  },
  {
   "cell_type": "markdown",
   "metadata": {},
   "source": [
    "#### マップのネスト"
   ]
  },
  {
   "cell_type": "markdown",
   "metadata": {},
   "source": [
    "$$\n",
    "\\begin{array}\n",
    "{l|ccccccc}\n",
    "i & 2 & 3 & 4 & 4 & 5 & 6 & 6 \\\\\n",
    "j & 1 & 2 & 1 & 3 & 2 & 1 & 5 \\\\ \\hline\n",
    "i+j & 3 & 5 & 5 & 7 & 7 & 7 & 11 \n",
    "\\end{array}\n",
    "$$"
   ]
  },
  {
   "cell_type": "code",
   "execution_count": 12,
   "metadata": {},
   "outputs": [
    {
     "data": {
      "text/plain": [
       "((2 1) (3 1) (3 2) (4 1) (4 2) (4 3) (5 1) (5 2) (5 3) (5 4) (6 1) (6 2) (6 3) (6 4) (6 5))"
      ]
     },
     "execution_count": 12,
     "metadata": {},
     "output_type": "execute_result"
    }
   ],
   "source": [
    "(accumulate append '()\n",
    "            (map (lambda (i)\n",
    "                   (map (lambda (j) (list i j))\n",
    "                        (enumerate-interval 1 (- i 1)))\n",
    "                   )\n",
    "                 (enumerate-interval 1 6)\n",
    "                 )\n",
    "    )"
   ]
  },
  {
   "cell_type": "code",
   "execution_count": 13,
   "metadata": {},
   "outputs": [
    {
     "data": {
      "text/plain": [
       "(1 2 3 4 5 6)"
      ]
     },
     "execution_count": 13,
     "metadata": {},
     "output_type": "execute_result"
    }
   ],
   "source": [
    "(enumerate-interval 1 6)"
   ]
  },
  {
   "cell_type": "code",
   "execution_count": 14,
   "metadata": {},
   "outputs": [],
   "source": [
    "(define (flatmap proc seq)\n",
    "  (accumulate append '() (map proc seq)))"
   ]
  },
  {
   "cell_type": "code",
   "execution_count": 15,
   "metadata": {},
   "outputs": [],
   "source": [
    "(define (prime-sum? pair)\n",
    "  (prime? (+ (car pair) (cadr pair))))"
   ]
  },
  {
   "cell_type": "code",
   "execution_count": 16,
   "metadata": {},
   "outputs": [],
   "source": [
    "(define (make-pair-sum pair)\n",
    "  (list (car pair) (cadr pair) (+ (car pair) (cadr pair))))"
   ]
  },
  {
   "cell_type": "code",
   "execution_count": 17,
   "metadata": {},
   "outputs": [],
   "source": [
    "(define (prime-sum-pairs n)\n",
    "  (map make-pair-sum (filter prime-sum?\n",
    "                             (flatmap (lambda (i)\n",
    "                                        (map (lambda (j) (list i j))\n",
    "                                             (enumerate-interval 1 (- i 1)))\n",
    "                                        )\n",
    "                                (enumerate-interval 1 n)\n",
    "                               )\n",
    "                        )\n",
    "       )\n",
    "  )"
   ]
  },
  {
   "cell_type": "code",
   "execution_count": 18,
   "metadata": {},
   "outputs": [],
   "source": [
    "(define (smallest-divisor n)\n",
    "  (find-divisor n 2)\n",
    "  )\n",
    "(define (find-divisor n test-divisor)\n",
    "  (cond ((> (square test-divisor) n) n)\n",
    "        ((divides? test-divisor n) test-divisor)\n",
    "        (else (find-divisor n (+ test-divisor 1)))\n",
    "    )\n",
    "  )\n",
    "(define (divides? a b)\n",
    "  (= (remainder b a) 0)\n",
    "  )\n",
    "(define (prime? n)\n",
    "  (= n (smallest-divisor n))\n",
    "  )"
   ]
  },
  {
   "cell_type": "code",
   "execution_count": 19,
   "metadata": {},
   "outputs": [
    {
     "data": {
      "text/plain": [
       "((2 1 3) (3 2 5) (4 1 5) (4 3 7) (5 2 7) (6 1 7) (6 5 11))"
      ]
     },
     "execution_count": 19,
     "metadata": {},
     "output_type": "execute_result"
    }
   ],
   "source": [
    "(prime-sum-pairs 6)"
   ]
  },
  {
   "cell_type": "code",
   "execution_count": 20,
   "metadata": {},
   "outputs": [],
   "source": [
    "; 順列\n",
    "(define (permutations s)\n",
    "  (if (null? s) ;集合は空か?\n",
    "      (list '()) ;空集合を持つ列\n",
    "      (flatmap (lambda (x) (map (lambda (p) (cons x p))\n",
    "                                (permutations (remove x s)))) s)))"
   ]
  },
  {
   "cell_type": "code",
   "execution_count": 21,
   "metadata": {},
   "outputs": [],
   "source": [
    "(define (remove item sequence)\n",
    "  (filter (lambda (x) (not (= x item))) sequence))"
   ]
  },
  {
   "cell_type": "code",
   "execution_count": 22,
   "metadata": {},
   "outputs": [
    {
     "data": {
      "text/plain": [
       "((1 2 3) (1 3 2) (2 1 3) (2 3 1) (3 1 2) (3 2 1))"
      ]
     },
     "execution_count": 22,
     "metadata": {},
     "output_type": "execute_result"
    }
   ],
   "source": [
    "(permutations (list 1 2 3))"
   ]
  }
 ],
 "metadata": {
  "kernelspec": {
   "display_name": "Calysto Scheme 3",
   "language": "scheme",
   "name": "calysto_scheme"
  },
  "language_info": {
   "codemirror_mode": {
    "name": "scheme"
   },
   "mimetype": "text/x-scheme",
   "name": "scheme",
   "pygments_lexer": "scheme"
  }
 },
 "nbformat": 4,
 "nbformat_minor": 4
}
