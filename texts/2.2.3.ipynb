{
 "cells": [
  {
   "cell_type": "markdown",
   "metadata": {},
   "source": [
    "### 2.2.3 標準インターフェイスとしての列\n"
   ]
  },
  {
   "cell_type": "markdown",
   "metadata": {},
   "source": [
    "#### 概要\n",
    "\n",
    "##### 列の演算\n",
    "あるプログラムで処理の共通パターンを見出し、共通化します。\n",
    "共通モジュールとして以下を挙げます。\n",
    "- 列挙(enumerator) ※こちらはプログラム毎に異なります。\n",
    "- フィルタ(filter)\n",
    "- マップ(map)\n",
    "- 集積器 (accumulator)\n",
    "\n",
    "これらを使って、完結に処理を記述する方法を紹介します。  \n",
    "各モジュールのインターフェースを入力・出力にリストを使用することで、  \n",
    "各モジュールが接続しやすくなります。  \n",
    "（リストを標準インターフェースと言っています）\n",
    "\n",
    "##### マップのネスト\n",
    "ネストしたループをマップのネストで実現します。\n",
    "\n",
    "##### 練習問題\n",
    "- [練習問題2.33 accumulateを使ったmap/append/lengthの実装](../exercises/2.33.ipynb)\n",
    "- [練習問題2.34 ホーナー法](../exercises/2.34.ipynb)\n",
    "- [練習問題2.35 count-leaves](../exercises/2.35.ipynb)\n",
    "- [練習問題2.36 accumulate-n](../exercises/2.36.ipynb)\n",
    "- [練習問題2.37 行列演算](../exercises/2.37.ipynb)\n",
    "- [練習問題2.38 fold-rightとfold-left](../exercises/2.38.ipynb)\n",
    "- [練習問題2.39 fold-rightとfold-leftを使ったreverseの実装](../exercises/2.39.ipynb)\n",
    "- [練習問題2.40 unique-pairs/prime-sum-pairs](../exercises/2.40.ipynb)\n",
    "- [練習問題2.41 3変数のマップ](../exercises/2.41.ipynb)\n",
    "- [練習問題2.42 8クイーンパズル](../exercises/2.42.ipynb)\n",
    "- [練習問題2.43 間違った8クイーンパズルの回答](../exercises/2.43.ipynb)"
   ]
  },
  {
   "cell_type": "markdown",
   "metadata": {},
   "source": [
    "#### はじめに\n",
    "\n",
    "ここでは2つのプログラムについて考えます。\n",
    "\n",
    "- sum-odd-squares手続き・・・⽊を引数に取り、奇数の葉の⼆乗の合計を出力する。\n",
    "- even-fibs手続き・・・フィボナッチ数が偶数となる値のリストを出力する。"
   ]
  },
  {
   "cell_type": "code",
   "execution_count": 1,
   "metadata": {},
   "outputs": [
    {
     "name": "stdout",
     "output_type": "stream",
     "text": [
      "(1 (2 (3 4) 5) (6 7))\n",
      "84\n"
     ]
    }
   ],
   "source": [
    "; ⽊を引数に取り、奇数の葉の⼆乗の合計を出力する。\n",
    "(define (square x)(* x x))\n",
    "\n",
    "(define (sum-odd-squares tree)\n",
    "  (cond ((null? tree) 0)\n",
    "        ((not (pair? tree))  ; 葉に到達したら\n",
    "         (if (odd? tree) (square tree) ; 葉の値が奇数なら2乗を計算する\n",
    "             0)                        ; 葉の値が偶数なら無視する\n",
    "         )\n",
    "        (else (+ (sum-odd-squares (car tree)) (sum-odd-squares (cdr tree)))))\n",
    "  )\n",
    "(define x (list 1 (list 2 (list 3 4) 5) (list 6 7)))\n",
    "(display x)\n",
    "(newline)\n",
    "(display (sum-odd-squares x))\n",
    "(newline)"
   ]
  },
  {
   "cell_type": "code",
   "execution_count": 2,
   "metadata": {},
   "outputs": [
    {
     "name": "stdout",
     "output_type": "stream",
     "text": [
      "(0 2 8 34)\n"
     ]
    }
   ],
   "source": [
    "; フィボナッチ数が偶数となる値のリストを出力する。\n",
    "(define (fib n)\n",
    "  (cond ((= n 0) 0)\n",
    "        ((= n 1) 1) \n",
    "        (else (+ (fib (- n 1)) (fib (- n 2))))\n",
    "        )\n",
    "  )\n",
    "\n",
    "(define (even-fibs n)\n",
    "  (define (next k)\n",
    "    (if (> k n) '()\n",
    "        (let ((f (fib k)))\n",
    "          (if (even? f) (cons f (next (+ k 1))) ; 偶数のフィボナッチ数は加算の対象とする -> consでつなぎ合わせてリストにする\n",
    "              (next (+ k 1))))                  ; 奇数のフィボナッチ数は無視する\n",
    "      )\n",
    "    )\n",
    "  (next 0)\n",
    "  )\n",
    "\n",
    "(display (even-fibs 10))\n",
    "(newline)"
   ]
  },
  {
   "cell_type": "code",
   "execution_count": 3,
   "metadata": {},
   "outputs": [
    {
     "data": {
      "text/plain": [
       "(0 1 1 2 3 5 8 13 21 34 55)"
      ]
     },
     "execution_count": 3,
     "metadata": {},
     "output_type": "execute_result"
    }
   ],
   "source": [
    "(map fib (list 0 1 2 3 4 5 6 7 8 9 10))"
   ]
  },
  {
   "cell_type": "markdown",
   "metadata": {},
   "source": [
    "上記2つの処理は、一見全く異なるものに見えますが、処理を分割すると共通性が見えてきます。\n",
    "\n",
    "- sum-odd-squares手続き\n",
    "    - 木の葉を列挙 \n",
    "    - フィルタによって奇数を選ぶ（フィルタ）\n",
    "    - 選ばれた数の⼆乗を求める（マップ）\n",
    "    - +を使って、0から始めて結果を合計する（集積）\n",
    "- even-fibs手続き\n",
    "    - 0からnまでの数値を列挙 \n",
    "    - それぞれの整数に対するフィボナッチ数を求る（マップ）\n",
    "    - フィルタによって偶数を選ぶ（フィルタ）\n",
    "    - consを使って、空リストから始めて結果をリストにする（集積）"
   ]
  },
  {
   "cell_type": "markdown",
   "metadata": {},
   "source": [
    "#### 列の演算\n",
    "\n",
    "ここでは、以下を実装します。\n",
    "- フィルタ\n",
    "- 集積\n",
    "- 木の葉を列挙\n",
    "- 0からnまでの数値を列挙\n",
    "\n",
    "マップは定義済みのものを使用します。  \n",
    "列挙はプログラム毎に実装します。（ただし、出力はリスト）"
   ]
  },
  {
   "cell_type": "markdown",
   "metadata": {},
   "source": [
    "<img src=\"2.7.png\" width=\"100%\">\n",
    "\n",
    "<div style=\"text-align: center;\">図2.7:⼿続きsum-odd-squares(上)とeven-fibs(下)を信号の流れという図式によって表現すると、⼆つのプログラ ムの共通性が明らかになる。</div>"
   ]
  },
  {
   "cell_type": "code",
   "execution_count": 4,
   "metadata": {},
   "outputs": [
    {
     "name": "stdout",
     "output_type": "stream",
     "text": [
      "(1 3 5 7 9)\n",
      "(2 4 6 8 10)\n"
     ]
    }
   ],
   "source": [
    "; フィルタ\n",
    "(define (filter predicate sequence)\n",
    "  (cond ((null? sequence) '())\n",
    "        (\n",
    "         (predicate (car sequence))\n",
    "             (cons (car sequence) (filter predicate (cdr sequence)))\n",
    "         )\n",
    "        (else (filter predicate (cdr sequence)))) ; 条件を満たさない要素は無視する\n",
    "  )\n",
    "\n",
    "; 動作確認\n",
    "(display (filter odd? (list 1 2 3 4 5 6 7 8 9 10)))\n",
    "(newline)\n",
    "(display (filter even? (list 1 2 3 4 5 6 7 8 9 10)))\n",
    "(newline)"
   ]
  },
  {
   "cell_type": "code",
   "execution_count": 5,
   "metadata": {},
   "outputs": [
    {
     "name": "stdout",
     "output_type": "stream",
     "text": [
      "15\n",
      "120\n",
      "(1 2 3 4 5)\n"
     ]
    }
   ],
   "source": [
    "; 集積\n",
    "(define (accumulate op initial sequence)\n",
    "  (if (null? sequence) initial\n",
    "      (op (car sequence) (accumulate op initial (cdr sequence))))) ; cdrダウンで各要素についてopの処理を施す\n",
    "\n",
    "; 動作確認\n",
    "(display (accumulate + 0 (list 1 2 3 4 5)))\n",
    "(newline)\n",
    "(display (accumulate * 1 (list 1 2 3 4 5)))\n",
    "(newline)\n",
    "(display (accumulate cons '() (list 1 2 3 4 5)))\n",
    "(newline)"
   ]
  },
  {
   "cell_type": "code",
   "execution_count": 6,
   "metadata": {},
   "outputs": [
    {
     "data": {
      "text/plain": [
       "(2 3 4 5 6 7)"
      ]
     },
     "execution_count": 6,
     "metadata": {},
     "output_type": "execute_result"
    }
   ],
   "source": [
    "; 整数列の列挙\n",
    "(define (enumerate-interval low high)\n",
    "  (if (> low high) '()\n",
    "      (cons low (enumerate-interval (+ low 1) high))))\n",
    "\n",
    "(enumerate-interval 2 7)"
   ]
  },
  {
   "cell_type": "code",
   "execution_count": 7,
   "metadata": {},
   "outputs": [
    {
     "data": {
      "text/plain": [
       "(1 2 3 4 5)"
      ]
     },
     "execution_count": 7,
     "metadata": {},
     "output_type": "execute_result"
    }
   ],
   "source": [
    "; 木の葉の列挙\n",
    "; 葉の要素をリストに変換する。\n",
    "; 練習問題2.28のfringe手続きそのものであることに注意。\n",
    "(define (enumerate-tree tree)\n",
    "  (cond ((null? tree) '())\n",
    "        ((not (pair? tree)) (list tree))\n",
    "        (else (append (enumerate-tree (car tree)) (enumerate-tree (cdr tree)))))\n",
    "  )\n",
    "\n",
    "(enumerate-tree (list 1 (list 2 (list 3 4)) 5))"
   ]
  },
  {
   "cell_type": "code",
   "execution_count": 8,
   "metadata": {},
   "outputs": [
    {
     "data": {
      "text/plain": [
       "84"
      ]
     },
     "execution_count": 8,
     "metadata": {},
     "output_type": "execute_result"
    }
   ],
   "source": [
    "; sum-odd-squares手続きを共通化したモジュールを使って実装した場合\n",
    "(define (sum-odd-squares tree)\n",
    "  (accumulate + 0 (map square (filter odd? (enumerate-tree tree))))\n",
    "  )\n",
    "\n",
    "(sum-odd-squares (list 1 (list 2 (list 3 4) 5) (list 6 7)))"
   ]
  },
  {
   "cell_type": "code",
   "execution_count": 9,
   "metadata": {},
   "outputs": [
    {
     "data": {
      "text/plain": [
       "(0 2 8 34)"
      ]
     },
     "execution_count": 9,
     "metadata": {},
     "output_type": "execute_result"
    }
   ],
   "source": [
    "; even-fibs手続きを共通化したモジュールを使って実装した場合\n",
    "(define (even-fibs n)\n",
    "  (accumulate cons '() (filter even? (map fib (enumerate-interval 0 n)))))\n",
    "\n",
    "(even-fibs 10)"
   ]
  },
  {
   "cell_type": "code",
   "execution_count": 10,
   "metadata": {},
   "outputs": [
    {
     "name": "stdout",
     "output_type": "stream",
     "text": [
      "(0 1 1 2 3 5 8 13 21 34 55)\n",
      "(0 1 1 4 9 25 64 169 441 1156 3025)\n"
     ]
    }
   ],
   "source": [
    "; 共通化したモジュールを使用することで、\n",
    "; フィボナッチ数の2乗の列挙するプログラムも定義済みの手続きの組み合わせで実装ができる。\n",
    "(define (list-fib-squares n)\n",
    "  (accumulate cons '() (map square (map fib (enumerate-interval 0 n)))))\n",
    "\n",
    "(display (map fib '(0 1 2 3 4 5 6 7 8 9 10)))\n",
    "(newline)\n",
    "(display (list-fib-squares 10))\n",
    "(newline)"
   ]
  },
  {
   "cell_type": "code",
   "execution_count": 11,
   "metadata": {},
   "outputs": [
    {
     "data": {
      "text/plain": [
       "225"
      ]
     },
     "execution_count": 11,
     "metadata": {},
     "output_type": "execute_result"
    }
   ],
   "source": [
    "; 奇数の値の2乗の値の積も\n",
    "; 定義済みの手続きの組み合わせで実装ができる。\n",
    "(define (product-of-squares-of-odd-elements sequence)\n",
    "  (accumulate * 1 (map square (filter odd? sequence))))\n",
    "\n",
    "(product-of-squares-of-odd-elements (list 1 2 3 4 5))"
   ]
  },
  {
   "cell_type": "markdown",
   "metadata": {},
   "source": [
    "⼀般的なデータ処理アプリケーションを列の演算として定式化することもできます。  \n",
    "人事記録（レコード）の列があるとして、最も給料の⾼いプログラマの給料を見つけたいとします。\n",
    "\n",
    "- セレクタsalary：人事レコードに含まれる給料を返す\n",
    "- セレクタprogrammer?：人事レコードがプログラマのものであるかをチェックする\n",
    "\n",
    "というセレクタが用意されているとすると、  \n",
    "「最も給料の⾼いプログラマの給料を見つける」というプログラムは次のように書くことができるでしょう。\n",
    "\n",
    "    (define (salary-of-highest-paid-programmer records) \n",
    "      accumulate max 0 (map salary (filter programmer? records))))\n",
    "      \n",
    "※ここではあまり深く説明しません。\n",
    "\n",
    "入出力インターフェースとして、リストを使うことによって、  \n",
    "各処理モジュールを接続できるようになるので有用です。  \n",
    "そのため、リストは処理モジュールを接続する標準インターフェイスとして使うことができます。  \n",
    "（「接続」というのは、手続きの引数に手続きの呼び出しを書くこと。手続きの呼び出しがネストしている）\n",
    " \n",
    "また、構造をリストとして統一することで、  \n",
    "リストに対する演算と、  \n",
    "データ構造に依存している処理とを分けて設計することができます。  \n",
    "これによって、 プログラムの全体的な設計に手を加えずに、  \n",
    "列の表現⽅法をいろいろ試してみることができます。  \n",
    "リストを標準インターフェイスとして使うことは、  \n",
    "3.5節ストリームにの話題につながっていきます。  "
   ]
  },
  {
   "cell_type": "markdown",
   "metadata": {},
   "source": [
    "#### 練習問題\n",
    "\n",
    "- [練習問題2.33 accumulateを使ったmap/append/lengthの実装](../exercises/2.33.ipynb)\n",
    "- [練習問題2.34 ホーナー法](../exercises/2.34.ipynb)\n",
    "- [練習問題2.35 count-leaves](../exercises/2.35.ipynb)\n",
    "- [練習問題2.36 accumulate-n](../exercises/2.36.ipynb)\n",
    "- [練習問題2.37 行列演算](../exercises/2.37.ipynb)\n",
    "- [練習問題2.38 fold-rightとfold-left](../exercises/2.38.ipynb)\n",
    "- [練習問題2.39 fold-rightとfold-leftを使ったreverseの実装](../exercises/2.39.ipynb)"
   ]
  },
  {
   "cell_type": "markdown",
   "metadata": {},
   "source": [
    "#### マップのネスト\n",
    "列というパラダイムは、ネストしたループによって表現される処理に適用することができます。 　\n",
    "次の問題について考えてみます。  \n",
    "「正の整数$n$が与えられたとき、$1 \\leq j < i \\leq n$で、かつ$i + j$が素数となるような異なる正の整数$i$と$j$のすべての順序つきペアを⾒つけよ。」  \n",
    "例えば、$n$が$6$のとき、ペアは以下のようになります。 "
   ]
  },
  {
   "cell_type": "markdown",
   "metadata": {},
   "source": [
    "$$\n",
    "\\begin{array}\n",
    "{l|ccccccc}\n",
    "i & 2 & 3 & 4 & 4 & 5 & 6 & 6 \\\\\n",
    "j & 1 & 2 & 1 & 3 & 2 & 1 & 5 \\\\ \\hline\n",
    "i+j & 3 & 5 & 5 & 7 & 7 & 7 & 11 \n",
    "\\end{array}\n",
    "$$"
   ]
  },
  {
   "cell_type": "markdown",
   "metadata": {},
   "source": [
    "この計算の実装を考えてみます。  \n",
    "- $n$以下の正の整数からなる、大きい順に並んだすべてのペアの列を生成する。  \n",
    "- フィルタによって合計が素数となるペアを選択する  \n",
    "- フィルタを通過したそれぞれの$(i,j)$のペアに対して$(i,j,i+j)$ という三つ組を作る。\n",
    "\n",
    "ペアの列の生成は以下の方法で出来ます。\n",
    "- すべての整数$i \\leq n$に対して整数$i$を列挙する。  \n",
    "  -> (enumerate-interval 1 n)で列挙する。\n",
    "- このような$i$に対して$j < i$となる$j$を列挙し、この$i,j$からペア$(i,j)$を生成する。  \n",
    "  -> (enumerate-interval 1 (- i 1))で列挙し、(list i j)を列挙する。\n",
    "- すべての$i$に対して、すべての列を(appendで集積して)組み合わせることで、求めるペアの列を生成する。\n",
    "\n",
    "これによって、それぞれの$i$に対するペアの列ができます。 "
   ]
  },
  {
   "cell_type": "code",
   "execution_count": 12,
   "metadata": {},
   "outputs": [
    {
     "data": {
      "text/plain": [
       "((2 1) (3 1) (3 2) (4 1) (4 2) (4 3) (5 1) (5 2) (5 3) (5 4) (6 1) (6 2) (6 3) (6 4) (6 5))"
      ]
     },
     "execution_count": 12,
     "metadata": {},
     "output_type": "execute_result"
    }
   ],
   "source": [
    "; ペア(i, j)の列の生成\n",
    "(define n 6)\n",
    "(accumulate append '()\n",
    "            (map (lambda (i)\n",
    "                   (map (lambda (j) (list i j))\n",
    "                        (enumerate-interval 1 (- i 1)))\n",
    "                   )\n",
    "                 (enumerate-interval 1 n)\n",
    "                 )\n",
    "    )"
   ]
  },
  {
   "cell_type": "code",
   "execution_count": 13,
   "metadata": {},
   "outputs": [],
   "source": [
    "; マップと集積をappendによって組み合わせる処理はよく使われるので、\n",
    "; 独立した⼿続きとして実装する。\n",
    "(define (flatmap proc seq)\n",
    "  (accumulate append '() (map proc seq)))"
   ]
  },
  {
   "cell_type": "code",
   "execution_count": 14,
   "metadata": {},
   "outputs": [],
   "source": [
    "; フィルタの述語。\n",
    "; ペアの合計が素数かどうか。\n",
    "(define (prime-sum? pair)\n",
    "  (prime? (+ (car pair) (cadr pair))))\n",
    "\n",
    "(define (smallest-divisor n)\n",
    "  (find-divisor n 2)\n",
    "  )\n",
    "(define (find-divisor n test-divisor)\n",
    "  (cond ((> (square test-divisor) n) n)\n",
    "        ((divides? test-divisor n) test-divisor)\n",
    "        (else (find-divisor n (+ test-divisor 1)))\n",
    "    )\n",
    "  )\n",
    "(define (divides? a b)\n",
    "  (= (remainder b a) 0)\n",
    "  )\n",
    "(define (prime? n)\n",
    "  (= n (smallest-divisor n))\n",
    "  )"
   ]
  },
  {
   "cell_type": "code",
   "execution_count": 15,
   "metadata": {},
   "outputs": [],
   "source": [
    "; フィルタを通ったペアの列に対して次の⼿続きでマップして、結果の列を⽣成する。\n",
    "; ペアの⼆つの要素とその合計からなる三つ組(i, j , i + j)を構築する。 \n",
    "(define (make-pair-sum pair)\n",
    "  (list (car pair) (cadr pair) (+ (car pair) (cadr pair))))"
   ]
  },
  {
   "cell_type": "code",
   "execution_count": 16,
   "metadata": {},
   "outputs": [
    {
     "data": {
      "text/plain": [
       "((2 1 3) (3 2 5) (4 1 5) (4 3 7) (5 2 7) (6 1 7) (6 5 11))"
      ]
     },
     "execution_count": 16,
     "metadata": {},
     "output_type": "execute_result"
    }
   ],
   "source": [
    "; 上記手続きを組み合わせて完成した手続き\n",
    "(define (prime-sum-pairs n)\n",
    "  (map make-pair-sum (filter prime-sum?\n",
    "                             (flatmap (lambda (i)\n",
    "                                        (map (lambda (j) (list i j))\n",
    "                                             (enumerate-interval 1 (- i 1)))\n",
    "                                        )\n",
    "                                (enumerate-interval 1 n)\n",
    "                               )\n",
    "                        )\n",
    "       )\n",
    "  )\n",
    "\n",
    "; 動作確認\n",
    "(prime-sum-pairs 6)"
   ]
  },
  {
   "cell_type": "markdown",
   "metadata": {},
   "source": [
    "マップのネストは、ある集合$S$に対する順列の列挙にも役に立ちます。  \n",
    "\n",
    "$S=\\{1,2,3\\}$ である場合、順列は以下のようになります。  \n",
    "$\\{1,2,3\\}, \\{1,3,2\\}, \\{2,1,3\\}, \\{2,3,1\\}, \\{3,1,2\\}, \\{3,2,1\\}$  \n",
    "\n",
    "集合$S$の順列を生成する方法として、以下の方法が使えます。  \n",
    "$S$の各要素$x$に対して、$S - \\{x\\}$の順列を生成し、それぞれの先頭に$x$を追加する。  \n",
    "\n",
    "$S - \\{x\\}$の順列を生成して、生成した順列のそれぞれの先頭に$x$を追加することで、  \n",
    "$x$から始まる$S$の順列が得られます。  \n",
    "これを全ての$x$について行うので、$S$の順列がすべて得られます。"
   ]
  },
  {
   "cell_type": "code",
   "execution_count": 17,
   "metadata": {},
   "outputs": [],
   "source": [
    "; 順列\n",
    "; 練習問題2.32の回答に近いことに注意。\n",
    "(define (permutations s)\n",
    "  (if (null? s) (list '()) ;集合sは空だったら空集合を持つ列\n",
    "      (flatmap (lambda (x) (map (lambda (p) (cons x p))\n",
    "                                (permutations (remove x s))))\n",
    "               s)\n",
    "      )\n",
    "  )"
   ]
  },
  {
   "cell_type": "code",
   "execution_count": 18,
   "metadata": {},
   "outputs": [
    {
     "data": {
      "text/plain": [
       "(1 2 4 5 6 5 4 2 1)"
      ]
     },
     "execution_count": 18,
     "metadata": {},
     "output_type": "execute_result"
    }
   ],
   "source": [
    "; 与えられたリストから指定された要素を除いたリストを返す。\n",
    "(define (remove item sequence)\n",
    "  (filter (lambda (x) (not (= x item))) sequence))\n",
    "\n",
    "; 動作確認\n",
    "(remove 3 '(1 2 3 4 5 6 5 4 3 2 1))"
   ]
  },
  {
   "cell_type": "code",
   "execution_count": 19,
   "metadata": {},
   "outputs": [
    {
     "data": {
      "text/plain": [
       "((1 2 3) (1 3 2) (2 1 3) (2 3 1) (3 1 2) (3 2 1))"
      ]
     },
     "execution_count": 19,
     "metadata": {},
     "output_type": "execute_result"
    }
   ],
   "source": [
    "; 動作確認\n",
    "(permutations '(1 2 3))"
   ]
  },
  {
   "cell_type": "code",
   "execution_count": 20,
   "metadata": {},
   "outputs": [
    {
     "name": "stdout",
     "output_type": "stream",
     "text": [
      "3,(),(3)\n",
      "2,(3),(2 3)\n",
      "2,(),(2)\n",
      "3,(2),(3 2)\n",
      "1,(2 3),(1 2 3)\n",
      "1,(3 2),(1 3 2)\n",
      "3,(),(3)\n",
      "1,(3),(1 3)\n",
      "1,(),(1)\n",
      "3,(1),(3 1)\n",
      "2,(1 3),(2 1 3)\n",
      "2,(3 1),(2 3 1)\n",
      "2,(),(2)\n",
      "1,(2),(1 2)\n",
      "1,(),(1)\n",
      "2,(1),(2 1)\n",
      "3,(1 2),(3 1 2)\n",
      "3,(2 1),(3 2 1)\n"
     ]
    },
    {
     "data": {
      "text/plain": [
       "((1 2 3) (1 3 2) (2 1 3) (2 3 1) (3 1 2) (3 2 1))"
      ]
     },
     "execution_count": 20,
     "metadata": {},
     "output_type": "execute_result"
    }
   ],
   "source": [
    "(define (permutations-debug s)\n",
    "  (if (null? s) (list '()) ;集合sは空だったら空集合を持つ列\n",
    "      (flatmap (lambda (x) (map\n",
    "                            (lambda (p)\n",
    "                              (display x)\n",
    "                              (display \",\")\n",
    "                              (display p)\n",
    "                              (display \",\")\n",
    "                              (display (cons x p))\n",
    "                              (newline)\n",
    "                              (cons x p)\n",
    "                              ) (permutations-debug (remove x s))))\n",
    "               s)\n",
    "      )\n",
    "  )\n",
    "\n",
    "; 動作確認\n",
    "(permutations-debug '(1 2 3))"
   ]
  },
  {
   "cell_type": "markdown",
   "metadata": {},
   "source": [
    "s=(1 2 3)の順序列挙方法。  \n",
    "\n",
    "    (1 2 3)  \n",
    "    ->x=1 s=(2 3)  \n",
    "    ->    x=2 s=(3) ->(2 3)\n",
    "    ->    x=3 s=(2) ->(3 2)\n",
    "    ->    ((2 3) (3 2))\n",
    "    -> ((1 2 3) (1 3 2)\n",
    "\n",
    "    ->x=2 s=(1 3)  \n",
    "    ->    x=1 s=(3) ->(1 3)\n",
    "    ->    x=3 s=(1) ->(3 1)\n",
    "    ->    ((1 3) (3 1))\n",
    "    -> ((2 1 3) (2 3 1)\n",
    "\n",
    "    ->x=3 s=(1 2)  \n",
    "    ->    x=1 s=(2) ->(1 2)\n",
    "    ->    x=2 s=(1) ->(2 1)\n",
    "    ->    ((1 2) (2 1))\n",
    "    -> ((3 1 2) (3 2 1)"
   ]
  },
  {
   "cell_type": "code",
   "execution_count": 21,
   "metadata": {},
   "outputs": [
    {
     "data": {
      "text/plain": [
       "(((1 1) (1 2) (1 3) (1 4)) ((2 1) (2 2) (2 3) (2 4)) ((3 1) (3 2) (3 3) (3 4)) ((4 1) (4 2) (4 3) (4 4)))"
      ]
     },
     "execution_count": 21,
     "metadata": {},
     "output_type": "execute_result"
    }
   ],
   "source": [
    "; (i, j)の列挙\n",
    "(define (enum-nn n)\n",
    "    (accumulate cons '()\n",
    "            (map (lambda (i)\n",
    "                   (accumulate cons '() (map (lambda (j) (list i j))\n",
    "                        (enumerate-interval 1 n))\n",
    "                   )\n",
    "                   )\n",
    "                 (enumerate-interval 1 n)\n",
    "                 )\n",
    "    )\n",
    "  )\n",
    "(enum-nn 4)"
   ]
  },
  {
   "cell_type": "code",
   "execution_count": 22,
   "metadata": {},
   "outputs": [
    {
     "data": {
      "text/plain": [
       "((1 1 1 1) (1 1 1 2) (1 1 1 3) (1 1 1 4) (1 1 2 1) (1 1 2 2) (1 1 2 3) (1 1 2 4) (1 1 3 1) (1 1 3 2) (1 1 3 3) (1 1 3 4) (1 1 4 1) (1 1 4 2) (1 1 4 3) (1 1 4 4) (1 2 1 1) (1 2 1 2) (1 2 1 3) (1 2 1 4) (1 2 2 1) (1 2 2 2) (1 2 2 3) (1 2 2 4) (1 2 3 1) (1 2 3 2) (1 2 3 3) (1 2 3 4) (1 2 4 1) (1 2 4 2) (1 2 4 3) (1 2 4 4) (1 3 1 1) (1 3 1 2) (1 3 1 3) (1 3 1 4) (1 3 2 1) (1 3 2 2) (1 3 2 3) (1 3 2 4) (1 3 3 1) (1 3 3 2) (1 3 3 3) (1 3 3 4) (1 3 4 1) (1 3 4 2) (1 3 4 3) (1 3 4 4) (1 4 1 1) (1 4 1 2) (1 4 1 3) (1 4 1 4) (1 4 2 1) (1 4 2 2) (1 4 2 3) (1 4 2 4) (1 4 3 1) (1 4 3 2) (1 4 3 3) (1 4 3 4) (1 4 4 1) (1 4 4 2) (1 4 4 3) (1 4 4 4) (2 1 1 1) (2 1 1 2) (2 1 1 3) (2 1 1 4) (2 1 2 1) (2 1 2 2) (2 1 2 3) (2 1 2 4) (2 1 3 1) (2 1 3 2) (2 1 3 3) (2 1 3 4) (2 1 4 1) (2 1 4 2) (2 1 4 3) (2 1 4 4) (2 2 1 1) (2 2 1 2) (2 2 1 3) (2 2 1 4) (2 2 2 1) (2 2 2 2) (2 2 2 3) (2 2 2 4) (2 2 3 1) (2 2 3 2) (2 2 3 3) (2 2 3 4) (2 2 4 1) (2 2 4 2) (2 2 4 3) (2 2 4 4) (2 3 1 1) (2 3 1 2) (2 3 1 3) (2 3 1 4) (2 3 2 1) (2 3 2 2) (2 3 2 3) (2 3 2 4) (2 3 3 1) (2 3 3 2) (2 3 3 3) (2 3 3 4) (2 3 4 1) (2 3 4 2) (2 3 4 3) (2 3 4 4) (2 4 1 1) (2 4 1 2) (2 4 1 3) (2 4 1 4) (2 4 2 1) (2 4 2 2) (2 4 2 3) (2 4 2 4) (2 4 3 1) (2 4 3 2) (2 4 3 3) (2 4 3 4) (2 4 4 1) (2 4 4 2) (2 4 4 3) (2 4 4 4) (3 1 1 1) (3 1 1 2) (3 1 1 3) (3 1 1 4) (3 1 2 1) (3 1 2 2) (3 1 2 3) (3 1 2 4) (3 1 3 1) (3 1 3 2) (3 1 3 3) (3 1 3 4) (3 1 4 1) (3 1 4 2) (3 1 4 3) (3 1 4 4) (3 2 1 1) (3 2 1 2) (3 2 1 3) (3 2 1 4) (3 2 2 1) (3 2 2 2) (3 2 2 3) (3 2 2 4) (3 2 3 1) (3 2 3 2) (3 2 3 3) (3 2 3 4) (3 2 4 1) (3 2 4 2) (3 2 4 3) (3 2 4 4) (3 3 1 1) (3 3 1 2) (3 3 1 3) (3 3 1 4) (3 3 2 1) (3 3 2 2) (3 3 2 3) (3 3 2 4) (3 3 3 1) (3 3 3 2) (3 3 3 3) (3 3 3 4) (3 3 4 1) (3 3 4 2) (3 3 4 3) (3 3 4 4) (3 4 1 1) (3 4 1 2) (3 4 1 3) (3 4 1 4) (3 4 2 1) (3 4 2 2) (3 4 2 3) (3 4 2 4) (3 4 3 1) (3 4 3 2) (3 4 3 3) (3 4 3 4) (3 4 4 1) (3 4 4 2) (3 4 4 3) (3 4 4 4) (4 1 1 1) (4 1 1 2) (4 1 1 3) (4 1 1 4) (4 1 2 1) (4 1 2 2) (4 1 2 3) (4 1 2 4) (4 1 3 1) (4 1 3 2) (4 1 3 3) (4 1 3 4) (4 1 4 1) (4 1 4 2) (4 1 4 3) (4 1 4 4) (4 2 1 1) (4 2 1 2) (4 2 1 3) (4 2 1 4) (4 2 2 1) (4 2 2 2) (4 2 2 3) (4 2 2 4) (4 2 3 1) (4 2 3 2) (4 2 3 3) (4 2 3 4) (4 2 4 1) (4 2 4 2) (4 2 4 3) (4 2 4 4) (4 3 1 1) (4 3 1 2) (4 3 1 3) (4 3 1 4) (4 3 2 1) (4 3 2 2) (4 3 2 3) (4 3 2 4) (4 3 3 1) (4 3 3 2) (4 3 3 3) (4 3 3 4) (4 3 4 1) (4 3 4 2) (4 3 4 3) (4 3 4 4) (4 4 1 1) (4 4 1 2) (4 4 1 3) (4 4 1 4) (4 4 2 1) (4 4 2 2) (4 4 2 3) (4 4 2 4) (4 4 3 1) (4 4 3 2) (4 4 3 3) (4 4 3 4) (4 4 4 1) (4 4 4 2) (4 4 4 3) (4 4 4 4))"
      ]
     },
     "execution_count": 22,
     "metadata": {},
     "output_type": "execute_result"
    }
   ],
   "source": [
    "; ネストしたループの動作確認\n",
    "(define (enum-nnn n)\n",
    "  (define (iter k)\n",
    "    (if (= k 0) (list ())\n",
    "        (filter\n",
    "         (lambda (x) #t)\n",
    "          (flatmap (lambda (rest)\n",
    "                    (map (lambda (new-row) (append rest (list new-row)))\n",
    "                         (enumerate-interval 1 n))\n",
    "                    )\n",
    "                  (iter (- k 1))\n",
    "          )\n",
    "         )\n",
    "        )\n",
    "    )\n",
    "  (iter n)\n",
    "  )\n",
    "(enum-nnn 4)"
   ]
  },
  {
   "cell_type": "markdown",
   "metadata": {},
   "source": [
    "#### 練習問題\n",
    "\n",
    "- [練習問題2.40 unique-pairs/prime-sum-pairs](../exercises/2.40.ipynb)\n",
    "- [練習問題2.41 3変数のマップ](../exercises/2.41.ipynb)\n",
    "- [練習問題2.42 8クイーンパズル](../exercises/2.42.ipynb)\n",
    "- [練習問題2.43 間違った8クイーンパズルの回答](../exercises/2.43.ipynb)"
   ]
  }
 ],
 "metadata": {
  "kernelspec": {
   "display_name": "Calysto Scheme 3",
   "language": "scheme",
   "name": "calysto_scheme"
  },
  "language_info": {
   "codemirror_mode": {
    "name": "scheme"
   },
   "mimetype": "text/x-scheme",
   "name": "scheme",
   "pygments_lexer": "scheme"
  }
 },
 "nbformat": 4,
 "nbformat_minor": 4
}
