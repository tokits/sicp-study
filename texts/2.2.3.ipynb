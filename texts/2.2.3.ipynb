{
 "cells": [
  {
   "cell_type": "markdown",
   "metadata": {},
   "source": [
    "### 2.2.3 標準インターフェイスとしての列\n"
   ]
  },
  {
   "cell_type": "markdown",
   "metadata": {},
   "source": [
    "#### 概要\n",
    "\n",
    "##### 列の演算\n",
    "あるプログラムで処理の共通パターンを見出し、共通化します。\n",
    "共通モジュールとして以下を挙げます。\n",
    "- 列挙(enumerator) ※こちらはプログラム毎に異なります。\n",
    "- フィルタ(filter)\n",
    "- マップ(map)\n",
    "- 集積器 (accumulator)\n",
    "これらを使って、完結に処理を記述する方法を紹介します。\n",
    "各モジュールのインターフェースを入力・出力にリストを使用することで、\n",
    "各モジュールが接続しやすくなります。\n",
    "（リストを標準インターフェースと言っています）\n",
    "\n",
    "##### マップのネスト\n",
    "2変数のループを2重ループで実装するのではなく、\n",
    "マップのネストで実現しています。\n",
    "\n",
    "##### 練習問題\n",
    "- [練習問題2.33 accumulateを使ったmap/append/lengthの実装](../exercises/2.33.ipynb)\n",
    "- [練習問題2.34 ホーナー法](../exercises/2.34.ipynb)\n",
    "- [練習問題2.35 count-leaves](../exercises/2.35.ipynb)\n",
    "- [練習問題2.36 accumulate-n](../exercises/2.36.ipynb)\n",
    "- [練習問題2.37 行列演算](../exercises/2.37.ipynb)\n",
    "- [練習問題2.38 fold-rightとfold-left](../exercises/2.38.ipynb)\n",
    "- [練習問題2.39 fold-rightとfold-leftを使ったreverseの実装](../exercises/2.39.ipynb)\n",
    "- [練習問題2.40 unique-pairs/prime-sum-pairs](../exercises/2.40.ipynb)\n",
    "- [練習問題2.41 3変数のマップ](../exercises/2.41.ipynb)\n",
    "- [練習問題2.42 8クイーンパズル](../exercises/2.42.ipynb)\n",
    "- [練習問題2.43 間違った8クイーンパズルの回答](../exercises/2.43.ipynb)"
   ]
  },
  {
   "cell_type": "markdown",
   "metadata": {},
   "source": [
    "#### はじめに\n",
    "\n",
    "ここでは2つのプログラムについて考えます。\n",
    "\n",
    "- sum-odd-squares手続き・・・⽊を引数に取り、奇数の葉の⼆乗の合計を出力する。\n",
    "- even-fibs手続き・・・フィボナッチ数列の偶数の値をとるものをリストとして撤去する。"
   ]
  },
  {
   "cell_type": "code",
   "execution_count": 1,
   "metadata": {},
   "outputs": [
    {
     "name": "stdout",
     "output_type": "stream",
     "text": [
      "(1 (2 (3 4) 5) (6 7))\n",
      "84\n"
     ]
    }
   ],
   "source": [
    "; ⽊を引数に取り、奇数の葉の⼆乗の合計を出力する。\n",
    "(define (square x)(* x x))\n",
    "\n",
    "(define (sum-odd-squares tree)\n",
    "  (cond ((null? tree) 0)\n",
    "        ((not (pair? tree)) (if (odd? tree) (square tree) 0))\n",
    "        (else (+ (sum-odd-squares (car tree)) (sum-odd-squares (cdr tree)))))\n",
    "  )\n",
    "(define x (list 1 (list 2 (list 3 4) 5) (list 6 7)))\n",
    "(display x)\n",
    "(newline)\n",
    "(display (sum-odd-squares x))\n",
    "(newline)"
   ]
  },
  {
   "cell_type": "code",
   "execution_count": 2,
   "metadata": {},
   "outputs": [
    {
     "name": "stdout",
     "output_type": "stream",
     "text": [
      "(0 2 8 34)\n"
     ]
    }
   ],
   "source": [
    "; フィボナッチ数列の偶数の値をとるものをリストとして撤去する。\n",
    "(define (fib n)\n",
    "  (cond ((= n 0) 0)\n",
    "        ((= n 1) 1) \n",
    "        (else (+ (fib (- n 1)) (fib (- n 2))))\n",
    "        )\n",
    "  )\n",
    "\n",
    "(define (even-fibs n)\n",
    "  (define (next k)\n",
    "    (if (> k n) '()\n",
    "        (let ((f (fib k)))\n",
    "          (if (even? f) (cons f (next (+ k 1)))\n",
    "              (next (+ k 1))))\n",
    "      )\n",
    "    )\n",
    "  (next 0)\n",
    "  )\n",
    "\n",
    "(display (even-fibs 10))\n",
    "(newline)"
   ]
  },
  {
   "cell_type": "markdown",
   "metadata": {},
   "source": [
    "- sum-odd-squares手続き・・・⽊を引数に取り、奇数の葉の⼆乗の合計を出力する。  \n",
    "- even-fibs手続き・・・フィボナッチ数列の偶数の値をとるものをリストとして撤去する。  \n",
    "\n",
    "上記2つの処理は、一見全く異なるものに見えますが、処理を分割すると共通性が見えてきます。\n",
    "\n",
    "- sum-odd-squares手続き\n",
    "    - 木の葉を列挙 \n",
    "    - フィルタによって奇数を選ぶ（フィルタ）\n",
    "    - 選ばれた数の⼆乗を求める（マップ）\n",
    "    - +を使って、0から始めて結果を合計する（集積）\n",
    "- even-fibs手続き\n",
    "    - 0からnまでの数値を列挙 \n",
    "    - それぞれの整数に対するフィボナッチ数を求る（マップ）\n",
    "    - フィルタによって偶数を選ぶ（フィルタ）\n",
    "    - consを使って、空リストから始めて結果をリストにする（集積）"
   ]
  },
  {
   "cell_type": "markdown",
   "metadata": {},
   "source": [
    "#### 列の演算\n",
    "\n",
    "ここでは、以下を実装します。\n",
    "- フィルタ\n",
    "- 集積\n",
    "- 木の葉を列挙\n",
    "- 0からnまでの数値を列挙\n",
    "\n",
    "マップは定義済みのものを使用します。  \n",
    "列挙はプログラム毎に実装します。（ただし、出力はリスト）"
   ]
  },
  {
   "cell_type": "markdown",
   "metadata": {},
   "source": [
    "<img src=\"2.7.png\" width=\"75%\">\n",
    "\n",
    "<div style=\"text-align: center;\">図2.7:⼿続きsum-odd-squares(上)とeven-fibs(下)を信号の流れという図式によって表現すると、⼆つのプログラ ムの共通性が明らかになる。</div>"
   ]
  },
  {
   "cell_type": "code",
   "execution_count": 3,
   "metadata": {},
   "outputs": [
    {
     "name": "stdout",
     "output_type": "stream",
     "text": [
      "(1 3 5 7 9)\n",
      "(2 4 6 8 10)\n"
     ]
    }
   ],
   "source": [
    "; フィルタ\n",
    "(define (filter predicate sequence)\n",
    "  (cond ((null? sequence) '())\n",
    "        ((predicate (car sequence))(cons (car sequence) (filter predicate (cdr sequence))))\n",
    "        (else (filter predicate (cdr sequence))))\n",
    "  )\n",
    "\n",
    "; 動作確認\n",
    "(display (filter odd? (list 1 2 3 4 5 6 7 8 9 10)))\n",
    "(newline)\n",
    "(display (filter even? (list 1 2 3 4 5 6 7 8 9 10)))\n",
    "(newline)"
   ]
  },
  {
   "cell_type": "code",
   "execution_count": 4,
   "metadata": {},
   "outputs": [
    {
     "name": "stdout",
     "output_type": "stream",
     "text": [
      "15\n",
      "120\n",
      "(1 2 3 4 5)\n"
     ]
    }
   ],
   "source": [
    "; 集積\n",
    "(define (accumulate op initial sequence)\n",
    "  (if (null? sequence) initial\n",
    "      (op (car sequence) (accumulate op initial (cdr sequence)))))\n",
    "\n",
    "; 動作確認\n",
    "(display (accumulate + 0 (list 1 2 3 4 5)))\n",
    "(newline)\n",
    "(display (accumulate * 1 (list 1 2 3 4 5)))\n",
    "(newline)\n",
    "(display (accumulate cons '() (list 1 2 3 4 5)))\n",
    "(newline)"
   ]
  },
  {
   "cell_type": "code",
   "execution_count": 5,
   "metadata": {},
   "outputs": [
    {
     "data": {
      "text/plain": [
       "(2 3 4 5 6 7)"
      ]
     },
     "execution_count": 5,
     "metadata": {},
     "output_type": "execute_result"
    }
   ],
   "source": [
    "; 整数列の列挙\n",
    "(define (enumerate-interval low high)\n",
    "  (if (> low high) '()\n",
    "      (cons low (enumerate-interval (+ low 1) high))))\n",
    "\n",
    "(enumerate-interval 2 7)"
   ]
  },
  {
   "cell_type": "code",
   "execution_count": 6,
   "metadata": {},
   "outputs": [
    {
     "data": {
      "text/plain": [
       "(1 2 3 4 5)"
      ]
     },
     "execution_count": 6,
     "metadata": {},
     "output_type": "execute_result"
    }
   ],
   "source": [
    "; 木の葉の列挙\n",
    "; 練習問題2.28のfringe手続きそのものであることに注意。\n",
    "(define (enumerate-tree tree)\n",
    "  (cond ((null? tree) '())\n",
    "        ((not (pair? tree)) (list tree))\n",
    "        (else (append (enumerate-tree (car tree)) (enumerate-tree (cdr tree)))))\n",
    "  )\n",
    "\n",
    "(enumerate-tree (list 1 (list 2 (list 3 4)) 5))"
   ]
  },
  {
   "cell_type": "code",
   "execution_count": 7,
   "metadata": {},
   "outputs": [
    {
     "data": {
      "text/plain": [
       "84"
      ]
     },
     "execution_count": 7,
     "metadata": {},
     "output_type": "execute_result"
    }
   ],
   "source": [
    "; sum-odd-squares手続きを共通化したモジュールを使って実装した場合\n",
    "(define (sum-odd-squares tree)\n",
    "  (accumulate + 0 (map square (filter odd? (enumerate-tree tree))))\n",
    "  )\n",
    "\n",
    "(sum-odd-squares (list 1 (list 2 (list 3 4) 5) (list 6 7)))"
   ]
  },
  {
   "cell_type": "code",
   "execution_count": 8,
   "metadata": {},
   "outputs": [
    {
     "data": {
      "text/plain": [
       "(0 2 8 34)"
      ]
     },
     "execution_count": 8,
     "metadata": {},
     "output_type": "execute_result"
    }
   ],
   "source": [
    "; even-fibs手続きを共通化したモジュールを使って実装した場合\n",
    "(define (even-fibs n)\n",
    "  (accumulate cons '() (filter even? (map fib (enumerate-interval 0 n)))))\n",
    "\n",
    "(even-fibs 10)"
   ]
  },
  {
   "cell_type": "code",
   "execution_count": 9,
   "metadata": {},
   "outputs": [
    {
     "data": {
      "text/plain": [
       "(0 1 1 4 9 25 64 169 441 1156 3025)"
      ]
     },
     "execution_count": 9,
     "metadata": {},
     "output_type": "execute_result"
    }
   ],
   "source": [
    "; 共通化したモジュールを使用することで、\n",
    "; フィボナッチ数の2乗の列挙するプログラムも定義済みの手続きの組み合わせで実装ができる。\n",
    "(define (list-fib-squares n)\n",
    "  (accumulate cons '() (map square (map fib (enumerate-interval 0 n)))))\n",
    "\n",
    "(list-fib-squares 10)"
   ]
  },
  {
   "cell_type": "code",
   "execution_count": 10,
   "metadata": {},
   "outputs": [
    {
     "data": {
      "text/plain": [
       "225"
      ]
     },
     "execution_count": 10,
     "metadata": {},
     "output_type": "execute_result"
    }
   ],
   "source": [
    "; 奇数の値の2乗の値の積も\n",
    "; 定義済みの手続きの組み合わせで実装ができる。\n",
    "(define (product-of-squares-of-odd-elements sequence)\n",
    "  (accumulate * 1 (map square (filter odd? sequence))))\n",
    "\n",
    "(product-of-squares-of-odd-elements (list 1 2 3 4 5))"
   ]
  },
  {
   "cell_type": "markdown",
   "metadata": {},
   "source": [
    "⼀般的なデータ処理アプリケーションを列の演算として定式化することもできます。  \n",
    "人事記録（レコード）の列があるとして、最も給料の⾼いプログラマの給料を見つけたいとします。\n",
    "\n",
    "- セレクタsalary：人事レコードに含まれる給料を返す\n",
    "- セレクタprogrammer?：人事レコードがプログラマのものであるかをチェックする\n",
    "\n",
    "というセレクタが用意されているとすると、  \n",
    "「最も給料の⾼いプログラマの給料を見つける」というプログラムは次のように書くことができるでしょう。\n",
    "\n",
    "    (define (salary-of-highest-paid-programmer records) \n",
    "      accumulate max 0 (map salary (filter programmer? records))))\n",
    "      \n",
    "※ここではあまり深く説明しません。\n",
    "\n",
    "入出力インターフェースとして、リストを使うことによって、  \n",
    "各処理モジュールを接続できるようになるので有用です。  \n",
    "そのため、リストは処理モジュールを接続する標準インターフェイスとして使うことができます。  \n",
    "（「接続」というのは、手続きの引数に手続きの呼び出しを書くこと。手続きの呼び出しがネストしている）\n",
    " \n",
    "また、構造を列として統⼀的に表現するときに、  \n",
    "プログラム中でのデータ構造の依存関係が少ない数の列の演算に局所化されるようにしています。  \n",
    "これらを変えることで、 プログラムの全体的な設計に手を加えずに、  \n",
    "列の表現⽅法をいろいろ試してみることができます。  \n",
    "3.5節で、無限列を扱えるように列処理のパラダイムを一般化する際に、  \n",
    "この能力を利用することになります。 "
   ]
  },
  {
   "cell_type": "markdown",
   "metadata": {},
   "source": [
    "#### 練習問題\n",
    "\n",
    "- [練習問題2.33 accumulateを使ったmap/append/lengthの実装](../exercises/2.33.ipynb)\n",
    "- [練習問題2.34 ホーナー法](../exercises/2.34.ipynb)\n",
    "- [練習問題2.35 count-leaves](../exercises/2.35.ipynb)\n",
    "- [練習問題2.36 accumulate-n](../exercises/2.36.ipynb)\n",
    "- [練習問題2.37 行列演算](../exercises/2.37.ipynb)\n",
    "- [練習問題2.38 fold-rightとfold-left](../exercises/2.38.ipynb)\n",
    "- [練習問題2.39 fold-rightとfold-leftを使ったreverseの実装](../exercises/2.39.ipynb)"
   ]
  },
  {
   "cell_type": "markdown",
   "metadata": {},
   "source": [
    "#### マップのネスト"
   ]
  },
  {
   "cell_type": "markdown",
   "metadata": {},
   "source": [
    "$$\n",
    "\\begin{array}\n",
    "{l|ccccccc}\n",
    "i & 2 & 3 & 4 & 4 & 5 & 6 & 6 \\\\\n",
    "j & 1 & 2 & 1 & 3 & 2 & 1 & 5 \\\\ \\hline\n",
    "i+j & 3 & 5 & 5 & 7 & 7 & 7 & 11 \n",
    "\\end{array}\n",
    "$$"
   ]
  },
  {
   "cell_type": "code",
   "execution_count": 11,
   "metadata": {},
   "outputs": [
    {
     "data": {
      "text/plain": [
       "((2 1) (3 1) (3 2) (4 1) (4 2) (4 3) (5 1) (5 2) (5 3) (5 4) (6 1) (6 2) (6 3) (6 4) (6 5))"
      ]
     },
     "execution_count": 11,
     "metadata": {},
     "output_type": "execute_result"
    }
   ],
   "source": [
    "(accumulate append '()\n",
    "            (map (lambda (i)\n",
    "                   (map (lambda (j) (list i j))\n",
    "                        (enumerate-interval 1 (- i 1)))\n",
    "                   )\n",
    "                 (enumerate-interval 1 6)\n",
    "                 )\n",
    "    )"
   ]
  },
  {
   "cell_type": "code",
   "execution_count": 12,
   "metadata": {},
   "outputs": [
    {
     "data": {
      "text/plain": [
       "(1 2 3 4 5 6)"
      ]
     },
     "execution_count": 12,
     "metadata": {},
     "output_type": "execute_result"
    }
   ],
   "source": [
    "(enumerate-interval 1 6)"
   ]
  },
  {
   "cell_type": "code",
   "execution_count": 13,
   "metadata": {},
   "outputs": [],
   "source": [
    "(define (flatmap proc seq)\n",
    "  (accumulate append '() (map proc seq)))"
   ]
  },
  {
   "cell_type": "code",
   "execution_count": 14,
   "metadata": {},
   "outputs": [],
   "source": [
    "(define (prime-sum? pair)\n",
    "  (prime? (+ (car pair) (cadr pair))))"
   ]
  },
  {
   "cell_type": "code",
   "execution_count": 15,
   "metadata": {},
   "outputs": [],
   "source": [
    "(define (make-pair-sum pair)\n",
    "  (list (car pair) (cadr pair) (+ (car pair) (cadr pair))))"
   ]
  },
  {
   "cell_type": "code",
   "execution_count": 16,
   "metadata": {},
   "outputs": [],
   "source": [
    "(define (prime-sum-pairs n)\n",
    "  (map make-pair-sum (filter prime-sum?\n",
    "                             (flatmap (lambda (i)\n",
    "                                        (map (lambda (j) (list i j))\n",
    "                                             (enumerate-interval 1 (- i 1)))\n",
    "                                        )\n",
    "                                (enumerate-interval 1 n)\n",
    "                               )\n",
    "                        )\n",
    "       )\n",
    "  )"
   ]
  },
  {
   "cell_type": "code",
   "execution_count": 17,
   "metadata": {},
   "outputs": [],
   "source": [
    "(define (smallest-divisor n)\n",
    "  (find-divisor n 2)\n",
    "  )\n",
    "(define (find-divisor n test-divisor)\n",
    "  (cond ((> (square test-divisor) n) n)\n",
    "        ((divides? test-divisor n) test-divisor)\n",
    "        (else (find-divisor n (+ test-divisor 1)))\n",
    "    )\n",
    "  )\n",
    "(define (divides? a b)\n",
    "  (= (remainder b a) 0)\n",
    "  )\n",
    "(define (prime? n)\n",
    "  (= n (smallest-divisor n))\n",
    "  )"
   ]
  },
  {
   "cell_type": "code",
   "execution_count": 18,
   "metadata": {},
   "outputs": [
    {
     "data": {
      "text/plain": [
       "((2 1 3) (3 2 5) (4 1 5) (4 3 7) (5 2 7) (6 1 7) (6 5 11))"
      ]
     },
     "execution_count": 18,
     "metadata": {},
     "output_type": "execute_result"
    }
   ],
   "source": [
    "(prime-sum-pairs 6)"
   ]
  },
  {
   "cell_type": "code",
   "execution_count": 19,
   "metadata": {},
   "outputs": [],
   "source": [
    "; 順列\n",
    "(define (permutations s)\n",
    "  (if (null? s) ;集合は空か?\n",
    "      (list '()) ;空集合を持つ列\n",
    "      (flatmap (lambda (x) (map (lambda (p) (cons x p))\n",
    "                                (permutations (remove x s)))) s)))"
   ]
  },
  {
   "cell_type": "code",
   "execution_count": 20,
   "metadata": {},
   "outputs": [],
   "source": [
    "(define (remove item sequence)\n",
    "  (filter (lambda (x) (not (= x item))) sequence))"
   ]
  },
  {
   "cell_type": "code",
   "execution_count": 21,
   "metadata": {},
   "outputs": [
    {
     "data": {
      "text/plain": [
       "((1 2 3) (1 3 2) (2 1 3) (2 3 1) (3 1 2) (3 2 1))"
      ]
     },
     "execution_count": 21,
     "metadata": {},
     "output_type": "execute_result"
    }
   ],
   "source": [
    "(permutations (list 1 2 3))"
   ]
  },
  {
   "cell_type": "markdown",
   "metadata": {},
   "source": [
    "#### 練習問題\n",
    "\n",
    "- [練習問題2.40 unique-pairs/prime-sum-pairs](../exercises/2.40.ipynb)\n",
    "- [練習問題2.41 3変数のマップ](../exercises/2.41.ipynb)\n",
    "- [練習問題2.42 8クイーンパズル](../exercises/2.42.ipynb)\n",
    "- [練習問題2.43 間違った8クイーンパズルの回答](../exercises/2.43.ipynb)"
   ]
  },
  {
   "cell_type": "code",
   "execution_count": 22,
   "metadata": {},
   "outputs": [
    {
     "data": {
      "text/plain": [
       "(((1 1) (1 2) (1 3) (1 4) (1 5) (1 6)) ((2 1) (2 2) (2 3) (2 4) (2 5) (2 6)) ((3 1) (3 2) (3 3) (3 4) (3 5) (3 6)) ((4 1) (4 2) (4 3) (4 4) (4 5) (4 6)) ((5 1) (5 2) (5 3) (5 4) (5 5) (5 6)) ((6 1) (6 2) (6 3) (6 4) (6 5) (6 6)))"
      ]
     },
     "execution_count": 22,
     "metadata": {},
     "output_type": "execute_result"
    }
   ],
   "source": [
    "(define (enumerate-interval low high)\n",
    "  (if (> low high) '()\n",
    "      (cons low (enumerate-interval (+ low 1) high))))\n",
    "\n",
    "(define (accumulate op initial sequence)\n",
    "  (if (null? sequence) initial\n",
    "      (op (car sequence) (accumulate op initial (cdr sequence)))))\n",
    "\n",
    "; (i, j)の列挙\n",
    "(define (enum-nn n)\n",
    "    (accumulate cons '()\n",
    "            (map (lambda (i)\n",
    "                   (accumulate cons '() (map (lambda (j) (list i j))\n",
    "                        (enumerate-interval 1 n))\n",
    "                   )\n",
    "                   )\n",
    "                 (enumerate-interval 1 n)\n",
    "                 )\n",
    "    )\n",
    "  )\n",
    "(enum-nn 6)"
   ]
  }
 ],
 "metadata": {
  "kernelspec": {
   "display_name": "Calysto Scheme 3",
   "language": "scheme",
   "name": "calysto_scheme"
  },
  "language_info": {
   "codemirror_mode": {
    "name": "scheme"
   },
   "mimetype": "text/x-scheme",
   "name": "scheme",
   "pygments_lexer": "scheme"
  }
 },
 "nbformat": 4,
 "nbformat_minor": 4
}
