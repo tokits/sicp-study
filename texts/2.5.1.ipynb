{
 "cells": [
  {
   "cell_type": "markdown",
   "id": "5b262ddf-e4d6-4a9e-962f-ae1881a362be",
   "metadata": {},
   "source": [
    "## 2.5. ジェネリック演算によるシステム\n"
   ]
  },
  {
   "cell_type": "markdown",
   "id": "5bbdeebe-9aea-417a-9559-3a533458ad82",
   "metadata": {},
   "source": [
    "### 2.5.1  ジェネリック算術演算\n"
   ]
  },
  {
   "cell_type": "code",
   "execution_count": 54,
   "id": "7b29a082-7102-4489-a025-a4cc8df1ea55",
   "metadata": {},
   "outputs": [],
   "source": [
    "(define (lookup key table)\n",
    "  (let ((record (assoc key (cdr table))))\n",
    "    (if record (cdr record)\n",
    "        #f)\n",
    "    )\n",
    "  )\n",
    "\n",
    "(define (assoc key records)\n",
    "  (cond ((null? records) #f)\n",
    "        ((equal? key (caar records)) (car records))\n",
    "        (else (assoc key (cdr records)))\n",
    "        )\n",
    "  )\n",
    "\n",
    "(define (insert! key value table)\n",
    "  (let ((record (assoc key (cdr table))))\n",
    "    (if record (set-cdr! record value)\n",
    "        (set-cdr! table (cons (cons key value) (cdr table)))\n",
    "        )\n",
    "    )\n",
    "  'ok)\n",
    "\n",
    "(define (lookup key-1 key-2 table)\n",
    "  (let ((subtable (assoc key-1 (cdr table))))\n",
    "    (if subtable\n",
    "        (let ((record (assoc key-2 (cdr subtable))))\n",
    "          (if record (cdr record)\n",
    "              #f\n",
    "              )\n",
    "          )\n",
    "        #f\n",
    "        )\n",
    "    )\n",
    "  )\n",
    "\n",
    "(define (insert! key-1 key-2 value table)\n",
    "  (let ((subtable (assoc key-1 (cdr table))))\n",
    "    (if subtable\n",
    "        (let ((record (assoc key-2 (cdr subtable))))\n",
    "          (if record (set-cdr! record value)\n",
    "              (set-cdr! subtable (cons (cons key-2 value) (cdr subtable)))\n",
    "              )\n",
    "          )\n",
    "        (set-cdr! table (cons (list key-1 (cons key-2 value)) (cdr table)))\n",
    "        )\n",
    "    )\n",
    "  'ok)\n",
    "\n",
    "(define (make-table)\n",
    "  (let ((local-table (list '*table*)))\n",
    "    (define (lookup key-1 key-2)\n",
    "      (let ((subtable (assoc key-1 (cdr local-table))))\n",
    "        (if subtable\n",
    "            (let ((record (assoc key-2 (cdr subtable))))\n",
    "              (if record (cdr record) #f))\n",
    "            #f)\n",
    "        )\n",
    "      )\n",
    "    (define (insert! key-1 key-2 value)\n",
    "      (let ((subtable (assoc key-1 (cdr local-table))))\n",
    "        (if subtable\n",
    "            (let ((record (assoc key-2 (cdr subtable))))\n",
    "              (if record (set-cdr! record value)\n",
    "                  (set-cdr! subtable (cons (cons key-2 value) (cdr subtable)))\n",
    "                  )\n",
    "              )\n",
    "            (set-cdr! local-table (cons (list key-1 (cons key-2 value)) (cdr local-table )))\n",
    "            )\n",
    "        )\n",
    "      'ok)\n",
    "    (define (dispatch m)\n",
    "      (cond ((eq? m 'lookup-proc) lookup)\n",
    "            ((eq? m 'insert-proc!) insert!)\n",
    "            (else (error \"Unknown operation: TABLE\" m)))\n",
    "      )\n",
    "    dispatch)\n",
    "  )\n",
    "\n",
    ";(define (make-table) (list '*table*))\n",
    "\n",
    "(define operation-table (make-table))\n",
    "(define get (operation-table 'lookup-proc))\n",
    "(define put (operation-table 'insert-proc!))\n",
    "\n",
    "; タグつきデータのコンストラクタ\n",
    "(define (attach-tag type-tag contents)\n",
    "  (cons type-tag contents))\n",
    "; タグを返すセレクタ\n",
    "(define (type-tag datum)\n",
    "  (if (pair? datum) (car datum)\n",
    "      (error \"Bad tagged datum: TYPE-TAG\" datum))\n",
    "  )\n",
    "; データを返すセレクタ\n",
    "(define (contents datum)\n",
    "  (if (pair? datum) (cdr datum)\n",
    "      (error \"Bad tagged datum: CONTENTS\" datum))\n",
    "  )\n",
    "\n",
    ";\n",
    "(define (apply-generic op . args)\n",
    "  (let ((type-tags (map type-tag args)))\n",
    "    (let ((proc (get op type-tags)))\n",
    "      (if proc\n",
    "          (apply proc (map contents args))\n",
    "          (error\n",
    "           \"No method for these types: APPLY-GENERIC\"\n",
    "           (list op type-tags ))))))"
   ]
  },
  {
   "cell_type": "markdown",
   "id": "c43eedb0-a26b-4868-84b7-377c663539fa",
   "metadata": {},
   "source": [
    "ジェネリック算術演算手続き"
   ]
  },
  {
   "cell_type": "code",
   "execution_count": 55,
   "id": "479c839a-f24b-4b54-a5cd-2b5f57f6ffc7",
   "metadata": {},
   "outputs": [],
   "source": [
    ";(define (add x y) (apply-generic 'add x y))\n",
    ";(define (sub x y) (apply-generic 'sub x y))\n",
    ";(define (mul x y) (apply-generic 'mul x y))\n",
    ";(define (div x y) (apply-generic 'div x y))\n"
   ]
  },
  {
   "cell_type": "markdown",
   "id": "8116b9c2-f41b-4859-80e5-7899868f5d9b",
   "metadata": {},
   "source": [
    "schemeの数値"
   ]
  },
  {
   "cell_type": "code",
   "execution_count": 56,
   "id": "315e7848-e67e-4be2-ab8b-f3969a750b48",
   "metadata": {},
   "outputs": [
    {
     "data": {
      "text/plain": [
       "done"
      ]
     },
     "execution_count": 56,
     "metadata": {},
     "output_type": "execute_result"
    }
   ],
   "source": [
    "(define (install-scheme-number-package)\n",
    "  (define (tag x) (attach-tag 'scheme-number x))\n",
    "  (put 'add '(scheme-number scheme-number) (lambda (x y) (tag (+ x y))))\n",
    "  (put 'sub '(scheme-number scheme-number) (lambda (x y) (tag (- x y))))\n",
    "  (put 'mul '(scheme-number scheme-number) (lambda (x y) (tag (* x y))))\n",
    "  (put 'div '(scheme-number scheme-number) (lambda (x y) (tag (/ x y))))\n",
    "  (put 'make 'scheme-number (lambda (x) (tag x)))\n",
    "'done)\n",
    "\n",
    "(define (make-scheme-number n) ((get 'make 'scheme-number) n))\n",
    "\n",
    "(install-scheme-number-package)"
   ]
  },
  {
   "cell_type": "code",
   "execution_count": 57,
   "id": "712d958a-ee7b-4042-a791-4ee88a31f91a",
   "metadata": {},
   "outputs": [
    {
     "name": "stdout",
     "output_type": "stream",
     "text": [
      "(scheme-number . 6)\n",
      "(scheme-number . -2)\n",
      "(scheme-number . 8)\n",
      "(scheme-number . 1/2)\n"
     ]
    }
   ],
   "source": [
    "(define a (make-scheme-number 2))\n",
    "(define b (make-scheme-number 4))\n",
    "\n",
    "(display (add a b))\n",
    "(display \"\\n\")\n",
    "(display (sub a b))\n",
    "(display \"\\n\")\n",
    "(display (mul a b))\n",
    "(display \"\\n\")\n",
    "(display (div a b))\n",
    "(display \"\\n\")\n"
   ]
  },
  {
   "cell_type": "code",
   "execution_count": 58,
   "id": "5d8c6007-4032-4025-b1ec-6fe78ba3d063",
   "metadata": {},
   "outputs": [
    {
     "data": {
      "text/plain": [
       "done"
      ]
     },
     "execution_count": 58,
     "metadata": {},
     "output_type": "execute_result"
    }
   ],
   "source": [
    "(define (gcd a b)\n",
    "  (if (= b 0) a\n",
    "      (gcd b (remainder a b)))\n",
    "  )\n",
    "\n",
    "(define (install-rational-package)\n",
    "  ;; 内部⼿続き\n",
    "  (define (numer x) (car x))\n",
    "  (define (denom x) (cdr x))\n",
    "  (define (make-rat n d)\n",
    "    (let ((g (gcd n d))) (cons (/ n g) (/ d g))))\n",
    "  (define (add-rat x y) (make-rat (+ (* (numer x) (denom y))\n",
    "                                     (* (numer y) (denom x)))\n",
    "                                  (* (denom x) (denom y))))\n",
    "  (define (sub-rat x y) (make-rat (- (* (numer x) (denom y))\n",
    "                                     (* (numer y) (denom x)))\n",
    "                                  (* (denom x) (denom y))))\n",
    "  (define (mul-rat x y) (make-rat (* (numer x) (numer y))\n",
    "                                  (* (denom x) (denom y))))\n",
    "  (define (div-rat x y) (make-rat (* (numer x) (denom y)) (* (denom x) (numer y))))\n",
    "  ;; システムのほかの部分とのインターフェイス\n",
    "  (define (tag x) (attach-tag 'rational x))\n",
    "  (put 'add '(rational rational) (lambda (x y) (tag (add-rat x y))))\n",
    "  (put 'sub '(rational rational) (lambda (x y) (tag (sub-rat x y))))\n",
    "  (put 'mul '(rational rational) (lambda (x y) (tag (mul-rat x y)))) \n",
    "  (put 'div '(rational rational) (lambda (x y) (tag (div-rat x y))))\n",
    "  (put 'make 'rational (lambda (n d) (tag (make-rat n d))))\n",
    "  'done)\n",
    "\n",
    "(define (make-rational n d) ((get 'make 'rational) n d))\n",
    "\n",
    "(install-rational-package)"
   ]
  },
  {
   "cell_type": "code",
   "execution_count": 59,
   "id": "9a48612d-f628-41eb-a6f6-270a01ba72b3",
   "metadata": {},
   "outputs": [
    {
     "name": "stdout",
     "output_type": "stream",
     "text": [
      "(rational 5 . 6)\n",
      "(rational 1 . 6)\n",
      "(rational 1 . 6)\n",
      "(rational 3 . 2)\n"
     ]
    }
   ],
   "source": [
    "(define a (make-rational 1 2))\n",
    "(define b (make-rational 1 3))\n",
    "\n",
    "(display (add a b))\n",
    "(display \"\\n\")\n",
    "(display (sub a b))\n",
    "(display \"\\n\")\n",
    "(display (mul a b))\n",
    "(display \"\\n\")\n",
    "(display (div a b))\n",
    "(display \"\\n\")\n"
   ]
  },
  {
   "cell_type": "code",
   "execution_count": 60,
   "id": "b0e35504-5778-4060-9de6-9dd6c14cafa5",
   "metadata": {},
   "outputs": [
    {
     "data": {
      "text/plain": [
       "done"
      ]
     },
     "execution_count": 60,
     "metadata": {},
     "output_type": "execute_result"
    }
   ],
   "source": [
    "(import \"math\")\n",
    "(define (make-from-mag-ang r a)\n",
    "  (define (dispatch op)\n",
    "    (cond ((eq? op 'real-part) (* r (math.cos a)))\n",
    "          ((eq? op 'imag-part) (* r (math.sin a)))\n",
    "          ((eq? op 'magnitude) r)\n",
    "          ((eq? op 'angle) a)\n",
    "          (else (error \"Unknown op: MAKE-FROM-MAG-ANG\" op))\n",
    "          )\n",
    "  )\n",
    "dispatch)\n",
    "\n",
    "(define (square x)(* x x))\n",
    "\n",
    "(define (install-rectangular-package)\n",
    "  ;; 内部⼿続き\n",
    "  (define (real-part z) (car z))\n",
    "  (define (imag-part z) (cdr z))\n",
    "  (define (make-from-real-imag x y) (cons x y))\n",
    "  (define (magnitude z) (sqrt (+ (square (real-part z)) (square (imag-part z)))))\n",
    "  (define (angle z) (math.atan2 (imag-part z) (real-part z)))\n",
    "  (define (make-from-mag-ang r a) (cons (* r (math.cos a)) (* r (math.sin a))))\n",
    "  ;; システムのほかの部分とのインターフェイス\n",
    "  (define (tag x) (attach-tag 'rectangular x))\n",
    "  (put 'real-part '(rectangular) real-part)\n",
    "  (put 'imag-part '(rectangular) imag-part)\n",
    "  (put 'magnitude '(rectangular) magnitude)\n",
    "  (put 'angle '(rectangular) angle)\n",
    "  (put 'make-from-real-imag 'rectangular (lambda (x y) (tag (make-from-real-imag x y))))\n",
    "  (put 'make-from-mag-ang 'rectangular (lambda (r a) (tag (make-from-mag-ang r a))))\n",
    "'done)\n",
    "\n",
    "(define (install-polar-package)\n",
    "  ;; 内部⼿続き\n",
    "  (define (magnitude z) (car z))\n",
    "  (define (angle z) (cdr z))\n",
    "  (define (make-from-mag-ang r a) (cons r a))\n",
    "  (define (real-part z) (* (magnitude z) (math.cos (angle z))))\n",
    "  (define (imag-part z) (* (magnitude z) (math.sin (angle z))))\n",
    "  (define (make-from-real-imag x y) (cons (sqrt (+ (square x) (square y))) (math.atan2 y x)))\n",
    "  ;; システムのほかの部分とのインターフェイス\n",
    "  (define (tag x) (attach-tag 'polar x))\n",
    "  (put 'real-part '(polar) real-part)\n",
    "  (put 'imag-part '(polar) imag-part)\n",
    "  (put 'magnitude '(polar) magnitude)\n",
    "  (put 'angle '(polar) angle)\n",
    "  (put 'make-from-real-imag 'polar (lambda (x y) (tag (make-from-real-imag x y))))\n",
    "  (put 'make-from-mag-ang 'polar (lambda (r a) (tag (make-from-mag-ang r a))))\n",
    "  'done)\n",
    "\n",
    "(define (real-part z) (apply-generic 'real-part z))\n",
    "(define (imag-part z) (apply-generic 'imag-part z))\n",
    "(define (magnitude z) (apply-generic 'magnitude z))\n",
    "(define (angle z) (apply-generic 'angle z))\n",
    "\n",
    "(define (make-from-real-imag x y) ((get 'make-from-real-imag 'rectangular) x y))\n",
    "(define (make-from-mag-ang r a) ((get 'make-from-mag-ang 'polar) r a))\n",
    "\n",
    "(install-rectangular-package)\n",
    "(install-polar-package)"
   ]
  },
  {
   "cell_type": "code",
   "execution_count": 63,
   "id": "1d26f85a-a644-4acd-a7e4-b239439335a9",
   "metadata": {},
   "outputs": [
    {
     "data": {
      "text/plain": [
       "done"
      ]
     },
     "execution_count": 63,
     "metadata": {},
     "output_type": "execute_result"
    }
   ],
   "source": [
    "(define (install-complex-package)\n",
    "  ;; 直交形式パッケージと極形式パッケージからインポートした⼿続き\n",
    "  (define (make-from-real-imag x y) ((get 'make-from-real-imag 'rectangular) x y))\n",
    "  (define (make-from-mag-ang r a) ((get 'make-from-mag-ang 'polar) r a))\n",
    "  ;; 内部⼿続き\n",
    "  (define (add-complex z1 z2) (make-from-real-imag (+ (real-part z1) (real-part z2)) (+ (imag-part z1) (imag-part z2))))\n",
    "  (define (sub-complex z1 z2) (make-from-real-imag (- (real-part z1) (real-part z2)) (- (imag-part z1) (imag-part z2))))\n",
    "  (define (mul-complex z1 z2) (make-from-mag-ang (* (magnitude z1) (magnitude z2)) (+ (angle z1) (angle z2))))\n",
    "  (define (div-complex z1 z2) (make-from-mag-ang (/ (magnitude z1) (magnitude z2)) (- (angle z1) (angle z2))))\n",
    "  ;; システムのほかの部分とのインターフェイス\n",
    "  (define (tag z) (attach-tag 'complex z))\n",
    "  (put 'add '(complex complex) (lambda (z1 z2) (tag (add-complex z1 z2))))\n",
    "  (put 'sub '(complex complex) (lambda (z1 z2) (tag (sub-complex z1 z2))))\n",
    "  (put 'mul '(complex complex) (lambda (z1 z2) (tag (mul-complex z1 z2))))\n",
    "  (put 'div '(complex complex) (lambda (z1 z2) (tag (div-complex z1 z2))))\n",
    "  (put 'make-from-real-imag 'complex (lambda (x y) (tag (make-from-real-imag x y))))\n",
    "  (put 'make-from-mag-ang 'complex (lambda (r a) (tag (make-from-mag-ang r a))))\n",
    "  'done)\n",
    "\n",
    "(define (make-complex-from-real-imag x y) ((get 'make-from-real-imag 'complex) x y))\n",
    "(define (make-complex-from-mag-ang r a) ((get 'make-from-mag-ang 'complex) r a))\n",
    "\n",
    "(install-complex-package)"
   ]
  },
  {
   "cell_type": "code",
   "execution_count": 62,
   "id": "0fb86342-5343-46f8-9844-548daa01c2ac",
   "metadata": {},
   "outputs": [
    {
     "name": "stdout",
     "output_type": "stream",
     "text": [
      "(complex rectangular 2 . 5)\n",
      "(complex rectangular 0 . -1)\n",
      "(complex polar 7.071067811865476 . 2.356194490192345)\n",
      "(complex polar 0.7071067811865475 . -0.14189705460416402)\n"
     ]
    }
   ],
   "source": [
    "(define a (make-complex-from-real-imag 1 2))\n",
    "(define b (make-complex-from-real-imag 1 3))\n",
    "\n",
    "(display (add a b))\n",
    "(display \"\\n\")\n",
    "(display (sub a b))\n",
    "(display \"\\n\")\n",
    "(display (mul a b))\n",
    "(display \"\\n\")\n",
    "(display (div a b))\n",
    "(display \"\\n\")\n"
   ]
  },
  {
   "cell_type": "markdown",
   "id": "c37fefe2-e93c-4d47-bd32-02a494041a45",
   "metadata": {},
   "source": [
    "#### メッセージパッシング\n"
   ]
  },
  {
   "cell_type": "code",
   "execution_count": null,
   "id": "d0dd3e5b-ba5b-44cf-a296-bcef0efbaa1e",
   "metadata": {},
   "outputs": [],
   "source": []
  },
  {
   "cell_type": "code",
   "execution_count": 27,
   "id": "ca57695f-c04e-412f-8273-be6076bd28ba",
   "metadata": {},
   "outputs": [],
   "source": [
    "(import \"math\")\n",
    "(define (make-from-real-imag x y)\n",
    "  (define (dispatch op)\n",
    "    (cond ((eq? op 'real-part) x)\n",
    "          ((eq? op 'imag-part) y)\n",
    "          ((eq? op 'magnitude) (sqrt (+ (square x) (square y))))\n",
    "          ;((eq? op 'angle) (atan y x))\n",
    "          ((eq? op 'angle) (math.atan2 y x))\n",
    "          (else (error \"Unknown op: MAKE-FROM-REAL-IMAG\" op))))\n",
    "dispatch)\n",
    "\n",
    "(define (square x)(* x x))\n",
    "(define (apply-generic op arg) (arg op))\n",
    "(define (real-part z) (apply-generic 'real-part z))\n",
    "(define (imag-part z) (apply-generic 'imag-part z))\n",
    "(define (magnitude z) (apply-generic 'magnitude z))\n",
    "(define (angle z) (apply-generic 'angle z))\n"
   ]
  },
  {
   "cell_type": "code",
   "execution_count": 28,
   "id": "29cbe84b-f160-43c9-a0ab-0ca6639c9c3f",
   "metadata": {},
   "outputs": [],
   "source": [
    "(define z (make-from-real-imag 1 2))"
   ]
  },
  {
   "cell_type": "code",
   "execution_count": 29,
   "id": "b2b4e798-56a4-4b28-ab98-12eb3e832bf5",
   "metadata": {},
   "outputs": [
    {
     "data": {
      "text/plain": [
       "1"
      ]
     },
     "execution_count": 29,
     "metadata": {},
     "output_type": "execute_result"
    }
   ],
   "source": [
    "(real-part z)"
   ]
  },
  {
   "cell_type": "code",
   "execution_count": 30,
   "id": "54f13a06-6419-4be2-afd7-50f44f71df0b",
   "metadata": {},
   "outputs": [
    {
     "data": {
      "text/plain": [
       "2"
      ]
     },
     "execution_count": 30,
     "metadata": {},
     "output_type": "execute_result"
    }
   ],
   "source": [
    "(imag-part z)"
   ]
  },
  {
   "cell_type": "code",
   "execution_count": 31,
   "id": "1964f91f-5bf2-4f75-907e-1ddea950e942",
   "metadata": {},
   "outputs": [
    {
     "data": {
      "text/plain": [
       "2.23606797749979"
      ]
     },
     "execution_count": 31,
     "metadata": {},
     "output_type": "execute_result"
    }
   ],
   "source": [
    "(magnitude z)"
   ]
  },
  {
   "cell_type": "code",
   "execution_count": 32,
   "id": "29e30bcb-2d4d-4905-b70d-627bdb4779ab",
   "metadata": {},
   "outputs": [
    {
     "data": {
      "text/plain": [
       "1.1071487177940904"
      ]
     },
     "execution_count": 32,
     "metadata": {},
     "output_type": "execute_result"
    }
   ],
   "source": [
    "(angle z)"
   ]
  },
  {
   "cell_type": "markdown",
   "id": "7b5f98c5-ded4-4fc6-b867-6b36cc7236a7",
   "metadata": {},
   "source": [
    "\n",
    "\n",
    "#### 練習問題\n",
    "\n",
    "- [練習問題2.77 complex型におけるmagnitude手続きの実装](../exercises/2.77.ipynb)\n",
    "- [練習問題2.78 scheme-numberパッケージ](../exercises/2.78.ipynb)\n",
    "- [練習問題2.79 ジェネリックな等価性述語 equ?](../exercises/2.79.ipynb)\n",
    "- [練習問題2.80 ジェネリックな述語=zero?](../exercises/2.80.ipynb)"
   ]
  },
  {
   "cell_type": "code",
   "execution_count": null,
   "id": "ad541496-2d03-486a-ad51-0f53784b1d4d",
   "metadata": {},
   "outputs": [],
   "source": []
  }
 ],
 "metadata": {
  "kernelspec": {
   "display_name": "Calysto Scheme 3",
   "language": "scheme",
   "name": "calysto_scheme"
  },
  "language_info": {
   "codemirror_mode": {
    "name": "scheme"
   },
   "mimetype": "text/x-scheme",
   "name": "scheme",
   "pygments_lexer": "scheme"
  }
 },
 "nbformat": 4,
 "nbformat_minor": 5
}
