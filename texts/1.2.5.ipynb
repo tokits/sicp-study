{
 "cells": [
  {
   "cell_type": "markdown",
   "metadata": {},
   "source": [
    "## 1.2.5 最⼤公約数"
   ]
  },
  {
   "cell_type": "markdown",
   "metadata": {},
   "source": [
    "ここでは、ユークリッドの互除法(*Euclid’s Algorithm*)と言われる、  \n",
    "2つの整数$a$、$b$の最大公約数($GCM$)を求めるアルゴリズムを紹介する。  \n",
    "$r$を$a$を$b$で割った余りとするとき、以下が成り立つ。  \n",
    "$GCD(a,b)=GCD(b,r)$  \n",
    "これによって、$gcd$を計算する問題をより  \n",
    "⼩さな整数ペアの$gcd$を計算する問題へと連続的に簡約していくことができる。  \n",
    "[例]  \n",
    "$\\begin{eqnarray}\n",
    "  GCD(206,40) = GCD(40,6) \\\\\n",
    "  = GCD(6,4) \\\\\n",
    "  = GCD(4,2) \\\\\n",
    "  = GCD(2,0) \\\\\n",
    "  = 2\n",
    "\\end{eqnarray}$  \n",
    "ユークリッドの互除法は、以下のように実装できる。  "
   ]
  },
  {
   "cell_type": "code",
   "execution_count": 1,
   "metadata": {},
   "outputs": [
    {
     "name": "stdout",
     "output_type": "stream",
     "text": [
      "gcd(206,40)\n",
      "gcd(40,6)\n",
      "gcd(6,4)\n",
      "gcd(4,2)\n"
     ]
    },
    {
     "data": {
      "text/plain": [
       "2"
      ]
     },
     "execution_count": 1,
     "metadata": {},
     "output_type": "execute_result"
    }
   ],
   "source": [
    "(define (gcd a b)\n",
    "  (if (= b 0) a\n",
    "      (begin \n",
    "       (display \"gcd(\")\n",
    "       (display a)\n",
    "       (display \",\")\n",
    "       (display b)\n",
    "       (display \")\")\n",
    "       (newline)\n",
    "       (gcd b (remainder a b))\n",
    "       )\n",
    "    )\n",
    "  )\n",
    "(gcd 206 40)"
   ]
  },
  {
   "cell_type": "markdown",
   "metadata": {},
   "source": [
    "これは反復プロセスとなっており、ステップ数は計算する数値に対して対数的に増加する。ユークリッドの互除法のステップ数は、フィボナッチ数と深い関係がある。\n",
    "\n",
    "#### Lameの定理\n",
    "ユークリッドの互除法によって、ある数値ペアの$gcd$を計算するのに$k$ステップを必要とする場合、ペアの⼩さいほうの数値は$k$番⽬のフィボナッチ数以上である。"
   ]
  },
  {
   "cell_type": "markdown",
   "metadata": {},
   "source": [
    "この定理を使って、ユークリッドの互除法の増加オーダーを算出することがでできる。定理より、以下の式が成り立つ。  \n",
    "$\\begin{eqnarray}\n",
    "n>=Fib(k) \\approx \\frac{\\varphi^k}{\\sqrt 5} \\\\\n",
    "\\rightarrow \\\\\n",
    "n>=\\frac{\\varphi^k}{\\sqrt 5} \\\\\n",
    "\\rightarrow \\\\\n",
    "\\log_{\\varphi}{n}>=\\log_{\\varphi}{\\frac{\\varphi^k}{\\sqrt 5}} \\\\\n",
    "=\\log_{\\varphi}{\\varphi^k}-\\log_{\\varphi}{\\sqrt 5} \\\\\n",
    "=k\\log_{\\varphi}{\\varphi}-\\log_{\\varphi}{\\sqrt 5} \\\\\n",
    "=k-\\log_{\\varphi}{\\sqrt 5} \\\\\n",
    "\\rightarrow \\\\\n",
    "k<=\\log_{\\varphi}{n}+\\log_{\\varphi}{\\sqrt 5}\n",
    "\\end{eqnarray}$\n",
    "\n",
    "よって、増加オーダーは対数的   \n",
    "$\\Theta(\\log_{\\varphi}{n})$  \n",
    "となる。"
   ]
  },
  {
   "cell_type": "markdown",
   "metadata": {},
   "source": [
    "##### 練習問題\n",
    "- [練習問題1.20 対数的ステップ数・反復プロセスによる指数計算の実装](../exercises/1.20.ipynb)"
   ]
  }
 ],
 "metadata": {
  "kernelspec": {
   "display_name": "Calysto Scheme 3",
   "language": "scheme",
   "name": "calysto_scheme"
  },
  "language_info": {
   "codemirror_mode": {
    "name": "scheme"
   },
   "mimetype": "text/x-scheme",
   "name": "scheme",
   "pygments_lexer": "scheme"
  },
  "latex_envs": {
   "LaTeX_envs_menu_present": true,
   "autoclose": true,
   "autocomplete": true,
   "bibliofile": "biblio.bib",
   "cite_by": "apalike",
   "current_citInitial": 1,
   "eqLabelWithNumbers": true,
   "eqNumInitial": 1,
   "hotkeys": {
    "equation": "Ctrl-E",
    "itemize": "Ctrl-I"
   },
   "labels_anchors": false,
   "latex_user_defs": false,
   "report_style_numbering": false,
   "user_envs_cfg": false
  }
 },
 "nbformat": 4,
 "nbformat_minor": 4
}
