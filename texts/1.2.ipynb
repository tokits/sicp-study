{
 "cells": [
  {
   "cell_type": "markdown",
   "metadata": {},
   "source": [
    "# 1.2 手続きとその生成するプロセス\n",
    "\n",
    "・**プロセス** とは、一つの仕事を表す単位、または処理そのもののことである。（時田解釈）  \n",
    "・プロセスの **局所的展開(local evolution;書籍では局所的進化)** は、手続きによって記述される。  \n",
    "・手続きの全体的なふるまい、**グローバル(global;書籍では大局的)**なふるまいについて何か記述できるようにしたい。  \n",
    "\n",
    "本節では、単純な手続きによって作られたプロセスの、いくつかの形を見ていく。  \n",
    "具体的には、  \n",
    "・線形再帰、反復、木の再帰(木構造再帰)・・・空間(スペース)の消費  \n",
    "・増加オーダー(増加の程度)・・・時間の消費  \n",
    "である。"
   ]
  },
  {
   "cell_type": "markdown",
   "metadata": {},
   "source": [
    "## 1.2.1 線形再帰と反復\n",
    "\n",
    "階乗関数について考える。定義は以下の通り。  \n",
    "$ n!=n \\cdot (n-1) \\cdot (n-2) \\cdots 3 \\cdot 2 \\cdot 1 $  \n",
    "\n",
    "階乗の計算方法として、$ (n-1)! $を計算し、その計算結果に$ n $をかけることで$ n! $を計算できる。  \n",
    "$ n!=n \\cdot [(n-1) \\cdot (n-2) \\cdots 3 \\cdot 2 \\cdot 1]=n \\cdot (n-1)! $  \n",
    "\n",
    "これに$ 1!=1 $という規定を加えると、そのまま手続きとして実装できる。"
   ]
  },
  {
   "cell_type": "code",
   "execution_count": 1,
   "metadata": {},
   "outputs": [],
   "source": [
    "(define (factorial n)\n",
    "  (if (= n 1) 1\n",
    "      (* n (factorial (- n 1))\n",
    "         )\n",
    "      )\n",
    "  )"
   ]
  },
  {
   "cell_type": "code",
   "execution_count": 2,
   "metadata": {},
   "outputs": [
    {
     "data": {
      "text/plain": [
       "720"
      ]
     },
     "execution_count": 2,
     "metadata": {},
     "output_type": "execute_result"
    }
   ],
   "source": [
    "(factorial 6)"
   ]
  },
  {
   "cell_type": "markdown",
   "metadata": {},
   "source": [
    "この手続きが$ 6! $の計算を実行する様子を見るには、1.1.5節の置換モデルを使うことができる。\n",
    "\n",
    "### 図1.3 $ 6! $を求めるための線形再帰プロセス\n",
    "\n",
    "    (factorial 6)\n",
    "    (* 6 (factorial 5))\n",
    "    (* 6 (* 5 (factorial 4)))\n",
    "    (* 6 (* 5 (* 4 (factorial 3))))\n",
    "    (* 6 (* 5 (* 4 (* 3 (factorial 2)))))\n",
    "    (* 6 (* 5 (* 4 (* 3 (* 2 (factorial 1))))))\n",
    "    (* 6 (* 5 (* 4 (* 3 (* 2 1)))))\n",
    "    (* 6 (* 5 (* 4 (* 3 2))))\n",
    "    (* 6 (* 5 (* 4 6)))\n",
    "    (* 6 (* 5 24))\n",
    "    (* 6 120)\n",
    "    720\n"
   ]
  },
  {
   "cell_type": "code",
   "execution_count": 3,
   "metadata": {},
   "outputs": [],
   "source": [
    ";階乗の計算の様子を出力させてみた。\n",
    "(define (factorial2 n)\n",
    "  (if (= n 1)\n",
    "      (begin\n",
    "       (display n)\n",
    "       (display '!=)\n",
    "       (display n)\n",
    "       (newline)\n",
    "       1)\n",
    "       (begin\n",
    "        (display n)\n",
    "        (display '!=)\n",
    "        (display n)\n",
    "        (display '* )\n",
    "        (display (- n 1))\n",
    "        (display '!)\n",
    "        (newline)\n",
    "        (define ret (* n (factorial2 (- n 1))))\n",
    "        (display n)\n",
    "        (display '!=)\n",
    "        (display ret)\n",
    "        (newline)\n",
    "        ret\n",
    "        )\n",
    "      )\n",
    "  )"
   ]
  },
  {
   "cell_type": "code",
   "execution_count": 4,
   "metadata": {},
   "outputs": [
    {
     "name": "stdout",
     "output_type": "stream",
     "text": [
      "6!=6*5!\n",
      "5!=5*4!\n",
      "4!=4*3!\n",
      "3!=3*2!\n",
      "2!=2*1!\n",
      "1!=1\n",
      "2!=2\n",
      "3!=6\n",
      "4!=24\n",
      "5!=120\n",
      "6!=720\n"
     ]
    },
    {
     "data": {
      "text/plain": [
       "720"
      ]
     },
     "execution_count": 4,
     "metadata": {},
     "output_type": "execute_result"
    }
   ],
   "source": [
    "(factorial2 6)"
   ]
  },
  {
   "cell_type": "code",
   "execution_count": 5,
   "metadata": {},
   "outputs": [],
   "source": [
    ";階乗の計算の様子を出力させてみた。\n",
    ";上記だと(define ret ・・・)でエラーになる場合があった。\n",
    "(define (factorial2 n)\n",
    "  (if (= n 1)\n",
    "      (begin\n",
    "       (display n)\n",
    "       (display '!=)\n",
    "       (display n)\n",
    "       (newline)\n",
    "       1)\n",
    "        (begin\n",
    "          (display n)\n",
    "          (display '!=)\n",
    "          (display n)\n",
    "          (display '* )\n",
    "          (display (- n 1))\n",
    "          (display '!)\n",
    "          (newline)\n",
    "          (let ((ret (* n (factorial2 (- n 1)))))\n",
    "            (begin\n",
    "              (display n)\n",
    "              (display '!=)\n",
    "              (display ret)\n",
    "              (newline)\n",
    "              ret\n",
    "            )\n",
    "          )\n",
    "        )\n",
    "    )\n",
    "  )"
   ]
  },
  {
   "cell_type": "code",
   "execution_count": 6,
   "metadata": {},
   "outputs": [
    {
     "name": "stdout",
     "output_type": "stream",
     "text": [
      "6!=6*5!\n",
      "5!=5*4!\n",
      "4!=4*3!\n",
      "3!=3*2!\n",
      "2!=2*1!\n",
      "1!=1\n",
      "2!=2\n",
      "3!=6\n",
      "4!=24\n",
      "5!=120\n",
      "6!=720\n"
     ]
    },
    {
     "data": {
      "text/plain": [
       "720"
      ]
     },
     "execution_count": 6,
     "metadata": {},
     "output_type": "execute_result"
    }
   ],
   "source": [
    "(factorial2 6)"
   ]
  },
  {
   "cell_type": "markdown",
   "metadata": {},
   "source": [
    "階乗の別の計算方法を考えてみる。  \n",
    "$ n! $の計算規則として、最初に$ 1 \\times 2 $を行い、それからその答えに$ 3 $をかけ、それから$ 4 $をかけ、$ n $まで続けるというものである。  \n",
    "形式的に書くと、計算途中の積と$ 1 $から$ n $まで数え上げていくカウンタを保持することで、次の規則に従ってカウンタと積がステップごとに同時に変化するように記述できる。 \n",
    "$ product \\leftarrow counter \\times product $  \n",
    "$ counter \\leftarrow counter + 1 $  \n",
    "\n",
    "$ n! $とはカウンタが$ n $を超えた時点での積の値であると規定すると、以下のように実装できる。"
   ]
  },
  {
   "cell_type": "code",
   "execution_count": 7,
   "metadata": {},
   "outputs": [],
   "source": [
    "(define (factorial3 n)\n",
    "  (fact-iter 1 1 n))\n",
    "(define (fact-iter product counter max-count)\n",
    "  (if (> counter max-count)\n",
    "      product\n",
    "      (fact-iter (* counter product) (+ counter 1) max-count)\n",
    "    )\n",
    "  )"
   ]
  },
  {
   "cell_type": "code",
   "execution_count": 8,
   "metadata": {},
   "outputs": [
    {
     "data": {
      "text/plain": [
       "720"
      ]
     },
     "execution_count": 8,
     "metadata": {},
     "output_type": "execute_result"
    }
   ],
   "source": [
    "(factorial3 6)"
   ]
  },
  {
   "cell_type": "markdown",
   "metadata": {},
   "source": [
    "先ほどと同じ悪、置換モデルを使い、視覚化すると以下のようになる。\n",
    "\n",
    "### 図1.4 $ 6! $を計算する線形反復プロセス\n",
    "\n",
    "    (factorial 6)\n",
    "    (fact-iter   1 1 6)\n",
    "    (fact-iter   1 2 6)\n",
    "    (fact-iter   2 3 6)\n",
    "    (fact-iter   6 4 6)\n",
    "    (fact-iter  24 5 6)\n",
    "    (fact-iter 120 6 6)\n",
    "    (fact-iter 720 7 6)\n"
   ]
  },
  {
   "cell_type": "code",
   "execution_count": 9,
   "metadata": {},
   "outputs": [],
   "source": [
    ";階乗の計算の様子を出力させてみた。\n",
    "(define (factorial4 n)\n",
    "  (fact-iter2 1 1 n))\n",
    "(define (fact-iter2 product counter max-count)\n",
    "  (if (> counter max-count)\n",
    "      (begin\n",
    "       product\n",
    "       )\n",
    "      (begin\n",
    "       (display \"fact-iter2 \")\n",
    "       (display product)\n",
    "       (display \" \")\n",
    "       (display counter)\n",
    "       (display \" \")\n",
    "       (display max-count)\n",
    "       (newline)\n",
    "       (fact-iter2 (* counter product) (+ counter 1) max-count)\n",
    "       )\n",
    "    )\n",
    "  )"
   ]
  },
  {
   "cell_type": "code",
   "execution_count": 10,
   "metadata": {},
   "outputs": [
    {
     "name": "stdout",
     "output_type": "stream",
     "text": [
      "fact-iter2 1 1 6\n",
      "fact-iter2 1 2 6\n",
      "fact-iter2 2 3 6\n",
      "fact-iter2 6 4 6\n",
      "fact-iter2 24 5 6\n",
      "fact-iter2 120 6 6\n"
     ]
    },
    {
     "data": {
      "text/plain": [
       "720"
      ]
     },
     "execution_count": 10,
     "metadata": {},
     "output_type": "execute_result"
    }
   ],
   "source": [
    "(factorial4 6)"
   ]
  },
  {
   "cell_type": "code",
   "execution_count": null,
   "metadata": {},
   "outputs": [],
   "source": []
  }
 ],
 "metadata": {
  "kernelspec": {
   "display_name": "Calysto Scheme 3",
   "language": "scheme",
   "name": "calysto_scheme"
  },
  "language_info": {
   "codemirror_mode": {
    "name": "scheme"
   },
   "mimetype": "text/x-scheme",
   "name": "scheme",
   "pygments_lexer": "scheme"
  }
 },
 "nbformat": 4,
 "nbformat_minor": 4
}
