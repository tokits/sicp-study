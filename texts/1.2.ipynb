{
 "cells": [
  {
   "cell_type": "markdown",
   "metadata": {},
   "source": [
    "# 1.2 手続きとその生成するプロセス\n",
    "\n",
    "・**プロセス** とは、一つの仕事を表す単位、または処理そのもののことである。（時田解釈）  \n",
    "・プロセスの **局所的展開(local evolution;書籍では局所的進化)** は、手続きによって記述される。  \n",
    "・手続きの全体的なふるまい、**グローバル(global;書籍では大局的)**なふるまいについて何か記述できるようにしたい。  \n",
    "\n",
    "本節では、単純な手続きによって作られたプロセスの、いくつかの形を見ていく。  \n",
    "具体的には、  \n",
    "・線形再帰、反復、木の再帰(木構造再帰)・・・空間(スペース)の消費  \n",
    "・増加オーダー(増加の程度)・・・時間の消費  \n",
    "である。"
   ]
  },
  {
   "cell_type": "code",
   "execution_count": 6,
   "metadata": {},
   "outputs": [],
   "source": [
    "(define (factorial n)\n",
    "  (if (= n 1) 1\n",
    "      (* n (factorial (- n 1))\n",
    "         )\n",
    "      )\n",
    "  )"
   ]
  },
  {
   "cell_type": "code",
   "execution_count": 5,
   "metadata": {},
   "outputs": [
    {
     "data": {
      "text/plain": [
       "720"
      ]
     },
     "execution_count": 5,
     "metadata": {},
     "output_type": "execute_result"
    }
   ],
   "source": [
    "(factorial 6)"
   ]
  },
  {
   "cell_type": "code",
   "execution_count": 3,
   "metadata": {},
   "outputs": [],
   "source": [
    "(define (factorial2 n)\n",
    "  (if (= n 1)\n",
    "      (begin\n",
    "       1)\n",
    "       (begin\n",
    "        (display n)\n",
    "        (display '* )\n",
    "        (display (- n 1))\n",
    "        (newline)\n",
    "        (define ret (* n (factorial2 (- n 1))))\n",
    "        (display n)\n",
    "        (display \" \")\n",
    "        (display ret)\n",
    "        (newline)\n",
    "        ret\n",
    "        )\n",
    "      )\n",
    "  )"
   ]
  },
  {
   "cell_type": "code",
   "execution_count": 4,
   "metadata": {},
   "outputs": [
    {
     "name": "stdout",
     "output_type": "stream",
     "text": [
      "6*5\n",
      "5*4\n",
      "4*3\n",
      "3*2\n",
      "2*1\n",
      "2 2\n",
      "3 6\n",
      "4 24\n",
      "5 120\n",
      "6 720\n"
     ]
    },
    {
     "data": {
      "text/plain": [
       "720"
      ]
     },
     "execution_count": 4,
     "metadata": {},
     "output_type": "execute_result"
    }
   ],
   "source": [
    "(factorial2 6)"
   ]
  },
  {
   "cell_type": "code",
   "execution_count": null,
   "metadata": {},
   "outputs": [],
   "source": []
  }
 ],
 "metadata": {
  "kernelspec": {
   "display_name": "Calysto Scheme 3",
   "language": "scheme",
   "name": "calysto_scheme"
  },
  "language_info": {
   "codemirror_mode": {
    "name": "scheme"
   },
   "mimetype": "text/x-scheme",
   "name": "scheme",
   "pygments_lexer": "scheme"
  }
 },
 "nbformat": 4,
 "nbformat_minor": 4
}
