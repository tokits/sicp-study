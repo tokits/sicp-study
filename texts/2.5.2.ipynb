{
 "cells": [
  {
   "cell_type": "markdown",
   "id": "5bbdeebe-9aea-417a-9559-3a533458ad82",
   "metadata": {},
   "source": [
    "### 2.5.2 異なる型のデータを組み合わせる\n"
   ]
  },
  {
   "cell_type": "code",
   "execution_count": 19,
   "id": "7b29a082-7102-4489-a025-a4cc8df1ea55",
   "metadata": {},
   "outputs": [],
   "source": [
    "(define (assoc key records)\n",
    "  (cond ((null? records) #f)\n",
    "        ((equal? key (caar records)) (car records))\n",
    "        (else (assoc key (cdr records)))\n",
    "        )\n",
    "  )\n",
    "\n",
    "(define (lookup key-1 key-2 table)\n",
    "  (let ((subtable (assoc key-1 (cdr table))))\n",
    "    (if subtable\n",
    "        (let ((record (assoc key-2 (cdr subtable))))\n",
    "          (if record (cdr record)\n",
    "              #f\n",
    "              )\n",
    "          )\n",
    "        #f\n",
    "        )\n",
    "    )\n",
    "  )\n",
    "\n",
    "(define (insert! key-1 key-2 value table)\n",
    "  (let ((subtable (assoc key-1 (cdr table))))\n",
    "    (if subtable\n",
    "        (let ((record (assoc key-2 (cdr subtable))))\n",
    "          (if record (set-cdr! record value)\n",
    "              (set-cdr! subtable (cons (cons key-2 value) (cdr subtable)))\n",
    "              )\n",
    "          )\n",
    "        (set-cdr! table (cons (list key-1 (cons key-2 value)) (cdr table)))\n",
    "        )\n",
    "    )\n",
    "  'ok)\n",
    "\n",
    "(define (make-table)\n",
    "  (let ((local-table (list '*table*)))\n",
    "    (define (lookup key-1 key-2)\n",
    "      (let ((subtable (assoc key-1 (cdr local-table))))\n",
    "        (if subtable\n",
    "            (let ((record (assoc key-2 (cdr subtable))))\n",
    "              (if record (cdr record) #f))\n",
    "            #f)\n",
    "        )\n",
    "      )\n",
    "    (define (insert! key-1 key-2 value)\n",
    "      (let ((subtable (assoc key-1 (cdr local-table))))\n",
    "        (if subtable\n",
    "            (let ((record (assoc key-2 (cdr subtable))))\n",
    "              (if record (set-cdr! record value)\n",
    "                  (set-cdr! subtable (cons (cons key-2 value) (cdr subtable)))\n",
    "                  )\n",
    "              )\n",
    "            (set-cdr! local-table (cons (list key-1 (cons key-2 value)) (cdr local-table )))\n",
    "            )\n",
    "        )\n",
    "      'ok)\n",
    "    (define (dispatch m)\n",
    "      (cond ((eq? m 'lookup-proc) lookup)\n",
    "            ((eq? m 'insert-proc!) insert!)\n",
    "            (else (error \"Unknown operation: TABLE\" m)))\n",
    "      )\n",
    "    dispatch)\n",
    "  )\n",
    "\n",
    "(define operation-table (make-table))\n",
    "(define get (operation-table 'lookup-proc))\n",
    "(define put (operation-table 'insert-proc!))\n",
    "(define get-coercion get)\n",
    "(define put-coercion put)\n",
    "\n",
    "; タグつきデータのコンストラクタ\n",
    "(define (attach-tag type-tag contents)\n",
    "  (cons type-tag contents))\n",
    "; タグを返すセレクタ\n",
    "(define (type-tag datum)\n",
    "  (if (pair? datum) (car datum)\n",
    "      (error \"Bad tagged datum: TYPE-TAG\" datum))\n",
    "  )\n",
    "; データを返すセレクタ\n",
    "(define (contents datum)\n",
    "  (if (pair? datum) (cdr datum)\n",
    "      (error \"Bad tagged datum: CONTENTS\" datum))\n",
    "  )\n",
    "\n",
    ";\n",
    "(define (apply-generic op . args)\n",
    "  (let ((type-tags (map type-tag args)))\n",
    "    (let ((proc (get op type-tags)))\n",
    "      (if proc\n",
    "          (apply proc (map contents args))\n",
    "          (error\n",
    "           \"No method for these types: APPLY-GENERIC\"\n",
    "           (list op type-tags ))))))"
   ]
  },
  {
   "cell_type": "code",
   "execution_count": 20,
   "id": "b0a67961-18fa-4544-9212-429465a23564",
   "metadata": {},
   "outputs": [
    {
     "data": {
      "text/plain": [
       "ok"
      ]
     },
     "execution_count": 20,
     "metadata": {},
     "output_type": "execute_result"
    }
   ],
   "source": [
    "(put-coercion 'key1 'key2 \"test1\")\n",
    "(put-coercion 'key3 'key4 \"test2\")\n"
   ]
  },
  {
   "cell_type": "code",
   "execution_count": 21,
   "id": "7131563b-731c-4819-9fe7-c47c49078716",
   "metadata": {},
   "outputs": [
    {
     "data": {
      "text/plain": [
       "\"test1\""
      ]
     },
     "execution_count": 21,
     "metadata": {},
     "output_type": "execute_result"
    }
   ],
   "source": [
    "(get-coercion 'key1 'key2)"
   ]
  },
  {
   "cell_type": "code",
   "execution_count": 22,
   "id": "2ff5dfa0-8207-4765-93f7-22e1ce488c36",
   "metadata": {},
   "outputs": [
    {
     "data": {
      "text/plain": [
       "\"test2\""
      ]
     },
     "execution_count": 22,
     "metadata": {},
     "output_type": "execute_result"
    }
   ],
   "source": [
    "(get-coercion 'key3 'key4)"
   ]
  },
  {
   "cell_type": "markdown",
   "id": "c43eedb0-a26b-4868-84b7-377c663539fa",
   "metadata": {},
   "source": [
    "ジェネリック算術演算手続き"
   ]
  },
  {
   "cell_type": "code",
   "execution_count": 23,
   "id": "479c839a-f24b-4b54-a5cd-2b5f57f6ffc7",
   "metadata": {},
   "outputs": [],
   "source": [
    "(define (add x y) (apply-generic 'add x y))\n",
    "(define (sub x y) (apply-generic 'sub x y))\n",
    "(define (mul x y) (apply-generic 'mul x y))\n",
    "(define (div x y) (apply-generic 'div x y))"
   ]
  },
  {
   "cell_type": "markdown",
   "id": "8116b9c2-f41b-4859-80e5-7899868f5d9b",
   "metadata": {},
   "source": [
    "schemeの数値"
   ]
  },
  {
   "cell_type": "code",
   "execution_count": 24,
   "id": "315e7848-e67e-4be2-ab8b-f3969a750b48",
   "metadata": {},
   "outputs": [
    {
     "data": {
      "text/plain": [
       "done"
      ]
     },
     "execution_count": 24,
     "metadata": {},
     "output_type": "execute_result"
    }
   ],
   "source": [
    "(define (install-scheme-number-package)\n",
    "  (define (tag x) (attach-tag 'scheme-number x))\n",
    "  (put 'add '(scheme-number scheme-number) (lambda (x y) (tag (+ x y))))\n",
    "  (put 'sub '(scheme-number scheme-number) (lambda (x y) (tag (- x y))))\n",
    "  (put 'mul '(scheme-number scheme-number) (lambda (x y) (tag (* x y))))\n",
    "  (put 'div '(scheme-number scheme-number) (lambda (x y) (tag (/ x y))))\n",
    "  (put 'make 'scheme-number (lambda (x) (tag x)))\n",
    "'done)\n",
    "\n",
    "(define (make-scheme-number n) ((get 'make 'scheme-number) n))\n",
    "\n",
    "(install-scheme-number-package)"
   ]
  },
  {
   "cell_type": "code",
   "execution_count": 25,
   "id": "712d958a-ee7b-4042-a791-4ee88a31f91a",
   "metadata": {},
   "outputs": [
    {
     "name": "stdout",
     "output_type": "stream",
     "text": [
      "(scheme-number . 6)\n",
      "(scheme-number . -2)\n",
      "(scheme-number . 8)\n",
      "(scheme-number . 1/2)\n"
     ]
    }
   ],
   "source": [
    "(define a (make-scheme-number 2))\n",
    "(define b (make-scheme-number 4))\n",
    "\n",
    "(display (add a b))\n",
    "(display \"\\n\")\n",
    "(display (sub a b))\n",
    "(display \"\\n\")\n",
    "(display (mul a b))\n",
    "(display \"\\n\")\n",
    "(display (div a b))\n",
    "(display \"\\n\")\n"
   ]
  },
  {
   "cell_type": "code",
   "execution_count": 26,
   "id": "5d8c6007-4032-4025-b1ec-6fe78ba3d063",
   "metadata": {},
   "outputs": [
    {
     "data": {
      "text/plain": [
       "done"
      ]
     },
     "execution_count": 26,
     "metadata": {},
     "output_type": "execute_result"
    }
   ],
   "source": [
    "(define (gcd a b)\n",
    "  (if (= b 0) a\n",
    "      (gcd b (remainder a b)))\n",
    "  )\n",
    "\n",
    "(define (install-rational-package)\n",
    "  ;; 内部⼿続き\n",
    "  (define (numer x) (car x))\n",
    "  (define (denom x) (cdr x))\n",
    "  (define (make-rat n d)\n",
    "    (let ((g (gcd n d))) (cons (/ n g) (/ d g))))\n",
    "  (define (add-rat x y) (make-rat (+ (* (numer x) (denom y))\n",
    "                                     (* (numer y) (denom x)))\n",
    "                                  (* (denom x) (denom y))))\n",
    "  (define (sub-rat x y) (make-rat (- (* (numer x) (denom y))\n",
    "                                     (* (numer y) (denom x)))\n",
    "                                  (* (denom x) (denom y))))\n",
    "  (define (mul-rat x y) (make-rat (* (numer x) (numer y))\n",
    "                                  (* (denom x) (denom y))))\n",
    "  (define (div-rat x y) (make-rat (* (numer x) (denom y)) (* (denom x) (numer y))))\n",
    "  ;; システムのほかの部分とのインターフェイス\n",
    "  (define (tag x) (attach-tag 'rational x))\n",
    "  (put 'add '(rational rational) (lambda (x y) (tag (add-rat x y))))\n",
    "  (put 'sub '(rational rational) (lambda (x y) (tag (sub-rat x y))))\n",
    "  (put 'mul '(rational rational) (lambda (x y) (tag (mul-rat x y)))) \n",
    "  (put 'div '(rational rational) (lambda (x y) (tag (div-rat x y))))\n",
    "  (put 'make 'rational (lambda (n d) (tag (make-rat n d))))\n",
    "  'done)\n",
    "\n",
    "(define (make-rational n d) ((get 'make 'rational) n d))\n",
    "\n",
    "(install-rational-package)"
   ]
  },
  {
   "cell_type": "code",
   "execution_count": 27,
   "id": "9a48612d-f628-41eb-a6f6-270a01ba72b3",
   "metadata": {},
   "outputs": [
    {
     "name": "stdout",
     "output_type": "stream",
     "text": [
      "(rational 5 . 6)\n",
      "(rational 1 . 6)\n",
      "(rational 1 . 6)\n",
      "(rational 3 . 2)\n"
     ]
    }
   ],
   "source": [
    "(define a (make-rational 1 2))\n",
    "(define b (make-rational 1 3))\n",
    "\n",
    "(display (add a b))\n",
    "(display \"\\n\")\n",
    "(display (sub a b))\n",
    "(display \"\\n\")\n",
    "(display (mul a b))\n",
    "(display \"\\n\")\n",
    "(display (div a b))\n",
    "(display \"\\n\")\n"
   ]
  },
  {
   "cell_type": "code",
   "execution_count": 28,
   "id": "b0e35504-5778-4060-9de6-9dd6c14cafa5",
   "metadata": {},
   "outputs": [
    {
     "data": {
      "text/plain": [
       "done"
      ]
     },
     "execution_count": 28,
     "metadata": {},
     "output_type": "execute_result"
    }
   ],
   "source": [
    "(import \"math\")\n",
    "(define (make-from-mag-ang r a)\n",
    "  (define (dispatch op)\n",
    "    (cond ((eq? op 'real-part) (* r (math.cos a)))\n",
    "          ((eq? op 'imag-part) (* r (math.sin a)))\n",
    "          ((eq? op 'magnitude) r)\n",
    "          ((eq? op 'angle) a)\n",
    "          (else (error \"Unknown op: MAKE-FROM-MAG-ANG\" op))\n",
    "          )\n",
    "  )\n",
    "dispatch)\n",
    "\n",
    "(define (square x)(* x x))\n",
    "\n",
    "(define (install-rectangular-package)\n",
    "  ;; 内部⼿続き\n",
    "  (define (real-part z) (car z))\n",
    "  (define (imag-part z) (cdr z))\n",
    "  (define (make-from-real-imag x y) (cons x y))\n",
    "  (define (magnitude z) (sqrt (+ (square (real-part z)) (square (imag-part z)))))\n",
    "  (define (angle z) (math.atan2 (imag-part z) (real-part z)))\n",
    "  (define (make-from-mag-ang r a) (cons (* r (math.cos a)) (* r (math.sin a))))\n",
    "  ;; システムのほかの部分とのインターフェイス\n",
    "  (define (tag x) (attach-tag 'rectangular x))\n",
    "  (put 'real-part '(rectangular) real-part)\n",
    "  (put 'imag-part '(rectangular) imag-part)\n",
    "  (put 'magnitude '(rectangular) magnitude)\n",
    "  (put 'angle '(rectangular) angle)\n",
    "  (put 'make-from-real-imag 'rectangular (lambda (x y) (tag (make-from-real-imag x y))))\n",
    "  (put 'make-from-mag-ang 'rectangular (lambda (r a) (tag (make-from-mag-ang r a))))\n",
    "'done)\n",
    "\n",
    "(define (install-polar-package)\n",
    "  ;; 内部⼿続き\n",
    "  (define (magnitude z) (car z))\n",
    "  (define (angle z) (cdr z))\n",
    "  (define (make-from-mag-ang r a) (cons r a))\n",
    "  (define (real-part z) (* (magnitude z) (math.cos (angle z))))\n",
    "  (define (imag-part z) (* (magnitude z) (math.sin (angle z))))\n",
    "  (define (make-from-real-imag x y) (cons (sqrt (+ (square x) (square y))) (math.atan2 y x)))\n",
    "  ;; システムのほかの部分とのインターフェイス\n",
    "  (define (tag x) (attach-tag 'polar x))\n",
    "  (put 'real-part '(polar) real-part)\n",
    "  (put 'imag-part '(polar) imag-part)\n",
    "  (put 'magnitude '(polar) magnitude)\n",
    "  (put 'angle '(polar) angle)\n",
    "  (put 'make-from-real-imag 'polar (lambda (x y) (tag (make-from-real-imag x y))))\n",
    "  (put 'make-from-mag-ang 'polar (lambda (r a) (tag (make-from-mag-ang r a))))\n",
    "  'done)\n",
    "\n",
    "(define (real-part z) (apply-generic 'real-part z))\n",
    "(define (imag-part z) (apply-generic 'imag-part z))\n",
    "(define (magnitude z) (apply-generic 'magnitude z))\n",
    "(define (angle z) (apply-generic 'angle z))\n",
    "\n",
    "(define (make-from-real-imag x y) ((get 'make-from-real-imag 'rectangular) x y))\n",
    "(define (make-from-mag-ang r a) ((get 'make-from-mag-ang 'polar) r a))\n",
    "\n",
    "(install-rectangular-package)\n",
    "(install-polar-package)"
   ]
  },
  {
   "cell_type": "code",
   "execution_count": 29,
   "id": "1d26f85a-a644-4acd-a7e4-b239439335a9",
   "metadata": {},
   "outputs": [
    {
     "data": {
      "text/plain": [
       "done"
      ]
     },
     "execution_count": 29,
     "metadata": {},
     "output_type": "execute_result"
    }
   ],
   "source": [
    "(define (install-complex-package)\n",
    "  ;; 直交形式パッケージと極形式パッケージからインポートした⼿続き\n",
    "  (define (make-from-real-imag x y) ((get 'make-from-real-imag 'rectangular) x y))\n",
    "  (define (make-from-mag-ang r a) ((get 'make-from-mag-ang 'polar) r a))\n",
    "  ;; 内部⼿続き\n",
    "  (define (add-complex z1 z2) (make-from-real-imag (+ (real-part z1) (real-part z2)) (+ (imag-part z1) (imag-part z2))))\n",
    "  (define (sub-complex z1 z2) (make-from-real-imag (- (real-part z1) (real-part z2)) (- (imag-part z1) (imag-part z2))))\n",
    "  (define (mul-complex z1 z2) (make-from-mag-ang (* (magnitude z1) (magnitude z2)) (+ (angle z1) (angle z2))))\n",
    "  (define (div-complex z1 z2) (make-from-mag-ang (/ (magnitude z1) (magnitude z2)) (- (angle z1) (angle z2))))\n",
    "  ;; システムのほかの部分とのインターフェイス\n",
    "  (define (tag z) (attach-tag 'complex z))\n",
    "  (put 'add '(complex complex) (lambda (z1 z2) (tag (add-complex z1 z2))))\n",
    "  (put 'sub '(complex complex) (lambda (z1 z2) (tag (sub-complex z1 z2))))\n",
    "  (put 'mul '(complex complex) (lambda (z1 z2) (tag (mul-complex z1 z2))))\n",
    "  (put 'div '(complex complex) (lambda (z1 z2) (tag (div-complex z1 z2))))\n",
    "  (put 'make-from-real-imag 'complex (lambda (x y) (tag (make-from-real-imag x y))))\n",
    "  (put 'make-from-mag-ang 'complex (lambda (r a) (tag (make-from-mag-ang r a))))\n",
    "  'done)\n",
    "\n",
    "(define (make-complex-from-real-imag x y) ((get 'make-from-real-imag 'complex) x y))\n",
    "(define (make-complex-from-mag-ang r a) ((get 'make-from-mag-ang 'complex) r a))\n",
    "\n",
    "(install-complex-package)"
   ]
  },
  {
   "cell_type": "code",
   "execution_count": 30,
   "id": "0fb86342-5343-46f8-9844-548daa01c2ac",
   "metadata": {},
   "outputs": [
    {
     "name": "stdout",
     "output_type": "stream",
     "text": [
      "(complex rectangular 2 . 5)\n",
      "(complex rectangular 0 . -1)\n",
      "(complex polar 7.071067811865476 . 2.356194490192345)\n",
      "(complex polar 0.7071067811865475 . -0.14189705460416402)\n"
     ]
    }
   ],
   "source": [
    "(define a (make-complex-from-real-imag 1 2))\n",
    "(define b (make-complex-from-real-imag 1 3))\n",
    "\n",
    "(display (add a b))\n",
    "(display \"\\n\")\n",
    "(display (sub a b))\n",
    "(display \"\\n\")\n",
    "(display (mul a b))\n",
    "(display \"\\n\")\n",
    "(display (div a b))\n",
    "(display \"\\n\")\n"
   ]
  },
  {
   "cell_type": "markdown",
   "id": "39deeaae-e464-4a0d-ae55-89781d6e63fd",
   "metadata": {},
   "source": [
    "強制型変換"
   ]
  },
  {
   "cell_type": "code",
   "execution_count": 31,
   "id": "88473e73-fab0-49fa-8036-db4e10910dfb",
   "metadata": {},
   "outputs": [
    {
     "data": {
      "text/plain": [
       "ok"
      ]
     },
     "execution_count": 31,
     "metadata": {},
     "output_type": "execute_result"
    }
   ],
   "source": [
    "(define (scheme-number->complex n)\n",
    "  (make-complex-from-real-imag (contents n) 0))\n",
    "(put-coercion 'scheme-number 'complex scheme-number->complex)"
   ]
  },
  {
   "cell_type": "code",
   "execution_count": 32,
   "id": "b77ce157-5cc6-4fd7-ab4d-a931b1b5de35",
   "metadata": {},
   "outputs": [
    {
     "data": {
      "text/plain": [
       "#<procedure>"
      ]
     },
     "execution_count": 32,
     "metadata": {},
     "output_type": "execute_result"
    }
   ],
   "source": [
    "(get-coercion 'scheme-number 'complex)"
   ]
  },
  {
   "cell_type": "code",
   "execution_count": 33,
   "id": "34bed547-d919-45bf-a704-6f8cddf04146",
   "metadata": {},
   "outputs": [],
   "source": [
    "(define (apply-generic op . args)\n",
    "  (let ((type-tags (map type-tag args)))\n",
    "    (let ((proc (get op type-tags)))\n",
    "      (if proc\n",
    "          (apply proc (map contents args))\n",
    "          (if (= (length args) 2)\n",
    "              (let ((type1 (car type-tags))\n",
    "                    (type2 (cadr type-tags))\n",
    "                    (a1 (car args))\n",
    "                    (a2 (cadr args)))\n",
    "                (let ((t1->t2 (get-coercion type1 type2))\n",
    "                      (t2->t1 (get-coercion type2 type1)))\n",
    "                  (cond (t1->t2\n",
    "                         (apply-generic op (t1->t2 a1) a2))\n",
    "                        (t2->t1\n",
    "                         (apply-generic op a1 (t2->t1 a2)))\n",
    "                        (else (error \"No method for these types\"\n",
    "                                     (list op type-tags ))))))\n",
    "              (error \"No method for these types\"\n",
    "                     (list op type-tags )))))))"
   ]
  },
  {
   "cell_type": "code",
   "execution_count": 34,
   "id": "169beba5-85a2-4217-9186-486cd69c7cb3",
   "metadata": {},
   "outputs": [],
   "source": [
    "(define z (make-complex-from-real-imag 1 3))\n",
    "(define n (make-scheme-number 5))"
   ]
  },
  {
   "cell_type": "code",
   "execution_count": 35,
   "id": "c4148d84-a305-4f31-ad40-be816f5a7bc0",
   "metadata": {},
   "outputs": [
    {
     "data": {
      "text/plain": [
       "(complex rectangular 6 . 3)"
      ]
     },
     "execution_count": 35,
     "metadata": {},
     "output_type": "execute_result"
    }
   ],
   "source": [
    "(add z n)"
   ]
  },
  {
   "cell_type": "markdown",
   "id": "7b5f98c5-ded4-4fc6-b867-6b36cc7236a7",
   "metadata": {},
   "source": [
    "#### 練習問題\n",
    "\n",
    "- [練習問題2.81](../exercises/2.81.ipynb)\n",
    "- [練習問題2.82](../exercises/2.82.ipynb)\n",
    "- [練習問題2.83](../exercises/2.83.ipynb)\n",
    "- [練習問題2.84](../exercises/2.84.ipynb)\n",
    "- [練習問題2.85](../exercises/2.85.ipynb)\n",
    "- [練習問題2.86](../exercises/2.86.ipynb)"
   ]
  }
 ],
 "metadata": {
  "kernelspec": {
   "display_name": "Calysto Scheme 3",
   "language": "scheme",
   "name": "calysto_scheme"
  },
  "language_info": {
   "codemirror_mode": {
    "name": "scheme"
   },
   "mimetype": "text/x-scheme",
   "name": "scheme",
   "pygments_lexer": "scheme"
  }
 },
 "nbformat": 4,
 "nbformat_minor": 5
}
