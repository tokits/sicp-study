{
 "cells": [
  {
   "cell_type": "markdown",
   "metadata": {},
   "source": [
    "## 1.2.4 指数計算\n",
    "\n",
    "ここでは指数計算(基数$b$と正の整数$n$を引数に取り、$b^{n}$を求める)を考える。  \n",
    "次のように再帰的定義によって定義できる。  \n",
    "\n",
    "    $b^{n} = b \\cdot b^{n−1}$  \n",
    "    $b^{0} = 1$  \n",
    "    \n"
   ]
  },
  {
   "cell_type": "code",
   "execution_count": 1,
   "metadata": {},
   "outputs": [],
   "source": [
    "(define (expt b n)\n",
    "  (if (= n 0) 1\n",
    "      (* b (expt b (- n 1)))\n",
    "    )\n",
    "  )"
   ]
  },
  {
   "cell_type": "code",
   "execution_count": 2,
   "metadata": {},
   "outputs": [
    {
     "data": {
      "text/plain": [
       "8"
      ]
     },
     "execution_count": 2,
     "metadata": {},
     "output_type": "execute_result"
    }
   ],
   "source": [
    "(expt 2 3)"
   ]
  },
  {
   "cell_type": "markdown",
   "metadata": {},
   "source": [
    "これは線形再帰プロセスで、  \n",
    "$\\Theta(n)$のステップ数と$\\Theta(n)$の空間(メモリ)を必要とする。\n",
    "階乗と同じように、等価な線形反復としてすぐに定式化できる。"
   ]
  },
  {
   "cell_type": "code",
   "execution_count": 3,
   "metadata": {},
   "outputs": [],
   "source": [
    "(define (expt2 b n)\n",
    "  (expt-iter b n 1)\n",
    "  )\n",
    "(define (expt-iter b counter product)\n",
    "  (if (= counter 0) product\n",
    "      (expt-iter b (- counter 1) (* b product))\n",
    "    )\n",
    "  ) "
   ]
  },
  {
   "cell_type": "code",
   "execution_count": 4,
   "metadata": {},
   "outputs": [
    {
     "data": {
      "text/plain": [
       "8"
      ]
     },
     "execution_count": 4,
     "metadata": {},
     "output_type": "execute_result"
    }
   ],
   "source": [
    "(expt2 2 3)"
   ]
  },
  {
   "cell_type": "markdown",
   "metadata": {},
   "source": [
    "この実装では、  \n",
    "$\\Theta(n)$のステップ数と$\\Theta(1)$の空間(メモリ)を必要とする。\n",
    "\n",
    "指数は、⼆乗を連続して使うことによって、より少ないステップ数で計算できる。  \n",
    "例えば、  \n",
    "$b^{8}$を\n",
    "$b \\cdot (b \\cdot (b \\cdot (b \\cdot (b \\cdot (b \\cdot (b \\cdot b))))))$   \n",
    "のようにするのではなく、  \n",
    "$b^{2}=b^{1} \\cdot b^{1}$   \n",
    "$b^{4}=b^{2} \\cdot b^{2}$   \n",
    "$b^{8}=b^{4} \\cdot b^{4}$   \n",
    "とすることで、3回の乗算で求めることができる。   \n",
    "この⽅法は、指数が2の冪乗である場合にうまくできる。  \n",
    "\n",
    "次の規則を使うことで、⼀般的な指数計算をすることができる。     \n",
    "・$b^n = (b^{\\frac{n}{2}})^2$ $n$が偶数の場合     \n",
    "・ $b^n = b \\cdot b^{n−1}$ $n$が奇数の場合  \n",
    "この⽅法は、⼿続きとして表現できる。  "
   ]
  },
  {
   "cell_type": "code",
   "execution_count": 5,
   "metadata": {},
   "outputs": [],
   "source": [
    "(define (fast-expt b n)\n",
    "  (cond ((= n 0) 1)\n",
    "        ((even? n)(square (fast-expt b (/ n 2))))\n",
    "        (else (* b (fast-expt b (- n 1))))\n",
    "    )\n",
    "  )\n",
    "; 偶数かどうか判定\n",
    "(define (even? n)\n",
    "  (= (remainder n 2) 0)\n",
    "  )\n",
    "(define (square x) (* x x))"
   ]
  },
  {
   "cell_type": "code",
   "execution_count": 6,
   "metadata": {},
   "outputs": [
    {
     "data": {
      "text/plain": [
       "2048"
      ]
     },
     "execution_count": 6,
     "metadata": {},
     "output_type": "execute_result"
    }
   ],
   "source": [
    "(fast-expt 2 11)"
   ]
  },
  {
   "cell_type": "code",
   "execution_count": null,
   "metadata": {},
   "outputs": [],
   "source": [
    "(begin\n",
    "  (define (fast-expt b n)\n",
    "      (cond ((= n 0) 1)\n",
    "            ((even? n)(begin\n",
    "                       (display \"(fast-expt(\")\n",
    "                       (display b)\n",
    "                       (display \" \")\n",
    "                       (display (/ n 2))\n",
    "                       (display \"))^2\")\n",
    "                       (newline)\n",
    "                       (square (fast-expt b (/ n 2))))\n",
    "                     )\n",
    "            (else (begin\n",
    "                       (display b)\n",
    "                       (display \"*(fast-expt(\")\n",
    "                       (display b)\n",
    "                       (display \" \")\n",
    "                       (display (- n 1))\n",
    "                       (display \")\")\n",
    "                       (newline)\n",
    "                       (* b (fast-expt b (- n 1))))\n",
    "                  )\n",
    "        )\n",
    "      )\n",
    "    ; 偶数かどうか判定\n",
    "    (define (even? n)\n",
    "      (= (remainder n 2) 0)\n",
    "      )\n",
    "    (define (square x) (* x x))\n",
    "    (fast-expt 2 1000)\n",
    " )"
   ]
  },
  {
   "cell_type": "markdown",
   "metadata": {},
   "source": [
    "fast-exptにより展開されるプロセスは、空間・ステップ数ともに、nに対して対数的に増加する。  \n",
    "つまり、空間・ステップ数の増加オーダーは  \n",
    "$\\Theta(\\log_2{n})$   \n",
    "となる。\n"
   ]
  },
  {
   "cell_type": "code",
   "execution_count": 10,
   "metadata": {},
   "outputs": [
    {
     "data": {
      "text/html": [
       "\n",
       "<style type=\"text/css\">\n",
       "      .breakpoints {width: 1.5em;}\n",
       "      .styled-background { background-color: #ff7; }\n",
       "</style>\n",
       "\n",
       "<div class=\"animation\" align=\"left\" width=\"400\">\n",
       "  <button onclick=\"step()\">Step</button>\n",
       "  <button onclick=\"play()\">Play</button>\n",
       "  <button onclick=\"pause()\">Pause</button>\n",
       "  <button onclick=\"stop()\">Stop</button>\n",
       "  <button onclick=\"clear_breakpoints()\">Clear Breakpoints</button>\n",
       "  <button onclick=\"reset()\">Reset</button><br/>\n",
       "  Speed: <input type=\"range\" id=\"speed\" min=\"1\" max=\"100\"/>\n",
       "  Inspect: <input type=\"text\" id=\"inspect\" onkeydown=\"if (event.keyCode == 13) inspector()\"/>\n",
       "  <table width=\"100%\">\n",
       "  <tr>\n",
       "    <td width=\"50%\" style=\"vertical-align: top\"><div id=\"result_stream\"/></td>\n",
       "    <td width=\"50%\" style=\"vertical-align: top\"><div id=\"result_output\"/></td>\n",
       "  </tr>\n",
       "  </table>\n",
       "</div>\n",
       "\n",
       "<script>\n",
       "\n",
       "function inspector() {\n",
       "    var v = document.getElementById(\"inspect\").value;\n",
       "    document.getElementById(\"inspect\").value = \"\";\n",
       "    var msg_id = kernel.execute(\"~~META~~: inspect \" + v,\n",
       "                                callbacks,\n",
       "                                {silent: false});\n",
       "}\n",
       "\n",
       "function clear_breakpoints() {\n",
       "    for (var n = 0 ; n < cell.code_mirror.doc.size; n++) {\n",
       "        cell.code_mirror.setGutterMarker(n, \"breakpoints\", null);\n",
       "    }\n",
       "}\n",
       "\n",
       "function makeMarker() {\n",
       "    var marker = document.createElement(\"div\");\n",
       "    marker.style.color = \"#822\";\n",
       "    marker.innerHTML = \"●\";\n",
       "    return marker;\n",
       "}\n",
       "\n",
       "function breakpoint_q(line) {\n",
       "    var info = cell.code_mirror.lineInfo(line - 1);\n",
       "    return (info && info.gutterMarkers != null);\n",
       "}\n",
       "\n",
       "var cell = IPython.notebook.get_selected_cell();\n",
       "if (cell) {\n",
       "    // The following can be replaced once get_prev_cell is fixed\n",
       "    // see https://github.com/ipython/ipython/pull/6565\n",
       "    var index = IPython.notebook.find_cell_index(cell);\n",
       "    cell = IPython.notebook.get_cell(index - 1);\n",
       "    cell.code_mirror.setOption(\"lineNumbers\", true);\n",
       "    if (cell.code_mirror.getOption(\"gutters\").length < 2) {\n",
       "        cell.code_mirror.setOption(\"gutters\", [\"CodeMirror-linenumbers\", \"breakpoints\"]);\n",
       "        cell.code_mirror.refresh();\n",
       "        cell.code_mirror.on(\"gutterClick\", function(cm, n) {\n",
       "          var info = cm.lineInfo(n);\n",
       "          cm.setGutterMarker(n, \"breakpoints\", info.gutterMarkers ? null : makeMarker());\n",
       "        });\n",
       "    }\n",
       "}\n",
       "\n",
       "var mt;\n",
       "var i;\n",
       "\n",
       "function highlight(cell, data) {\n",
       "    if (cell) {\n",
       "        var line1 = data[0];\n",
       "        var col1 = data[1];\n",
       "        var line2 = data[2];\n",
       "        var col2 = data[3];\n",
       "        if (mt) {\n",
       "            mt.clear();\n",
       "        }\n",
       "        mt = cell.code_mirror.markText({line: line1 - 1, ch: col1 - 1},\n",
       "                                       {line: line2 - 1, ch: col2 },\n",
       "                                       {className: \"styled-background\"});\n",
       "    }\n",
       "}\n",
       "\n",
       "var running = false;  // is it running?\n",
       "var timer = null;\n",
       "var kernel = IPython.notebook.kernel;\n",
       "\n",
       "function handle_output(out){\n",
       "    var res = null;\n",
       "    var data = null;\n",
       "    if (out.msg_type == \"stream\") {\n",
       "        res = out.content.text;\n",
       "        document.getElementById(\"result_stream\").innerText = res.toString() + document.getElementById(\"result_stream\").innerText;\n",
       "    } else if (out.msg_type === \"pyout\") {\n",
       "        // if output is a python object\n",
       "        res = out.content.data[\"text/plain\"];\n",
       "        document.getElementById(\"result_stream\").innerText = res.toString() + document.getElementById(\"result_stream\").innerText;\n",
       "    } else if (out.msg_type == \"pyerr\") {\n",
       "        // if output is a python error\n",
       "        res = out.content.data[\"text/plain\"];\n",
       "        document.getElementById(\"result_stream\").innerText = res.toString() + document.getElementById(\"result_stream\").innerText;\n",
       "    } else if (out.msg_type == \"execute_result\") {\n",
       "        var str = out.content.data[\"text/plain\"];\n",
       "        if (str.indexOf(\"\\\"highlight: \") >= 0) { // is a highlight response:\n",
       "            data = JSON.parse(str.substring(12, str.length - 1));\n",
       "            var speed = Number(document.getElementById(\"speed\").value);\n",
       "            if (data) {\n",
       "                var breakp = breakpoint_q(data[0]);\n",
       "                if (speed < 100 || !running || breakp) { // max_speed\n",
       "                    highlight(cell, data);\n",
       "                }\n",
       "            }\n",
       "            if (running) {\n",
       "                if (data && breakpoint_q(data[0])) {\n",
       "                    pause();\n",
       "                } else {\n",
       "                    timer = setTimeout(step, 2000/speed);\n",
       "                }\n",
       "            }\n",
       "        } else { // display result\n",
       "            res = str;\n",
       "            if (res.indexOf(\"u\") == 0)\n",
       "                res = res.substring(2, res.length - 1) + \"\\n\";\n",
       "            if (res) {\n",
       "                document.getElementById(\"result_output\").innerText = res.toString() + document.getElementById(\"result_output\").innerText;\n",
       "            }\n",
       "        }\n",
       "    } else {\n",
       "        // if output is something we haven't thought of\n",
       "        res = out.toString();\n",
       "        document.getElementById(\"result_stream\").innerText = res.toString() + document.getElementById(\"result_stream\").innerText;\n",
       "    }\n",
       "}\n",
       "\n",
       "var callbacks = { 'iopub' : {'output' : handle_output}};\n",
       "\n",
       "function pause() {\n",
       "    running = false;\n",
       "    document.getElementById(\"result_output\").innerText = \"Pause\\n\" + document.getElementById(\"result_output\").innerText;\n",
       "    if (timer) {\n",
       "        clearInterval(timer);\n",
       "        timer = null;\n",
       "    }\n",
       "}\n",
       "\n",
       "function play() {\n",
       "    pause();\n",
       "    running = true;\n",
       "    step();\n",
       "}\n",
       "\n",
       "function step() {\n",
       "    var msg_id = kernel.execute(\"~~META~~: step\",\n",
       "                                callbacks,\n",
       "                                {silent: false});\n",
       "}\n",
       "\n",
       "function stop() {\n",
       "    pause();\n",
       "    if (mt) {\n",
       "        mt.clear();\n",
       "    }\n",
       "    var msg_id = kernel.execute(\"~~META~~: stop\",\n",
       "                                callbacks,\n",
       "                                {silent: false});\n",
       "}\n",
       "\n",
       "function reset() {\n",
       "    stop();\n",
       "    document.getElementById(\"result_output\").innerText = \"\";\n",
       "    document.getElementById(\"result_stream\").innerText = \"\";\n",
       "    var msg_id = kernel.execute(\"~~META~~: reset\",\n",
       "                                callbacks,\n",
       "                                {silent: false});\n",
       "}\n",
       "\n",
       "</script>\n"
      ],
      "text/plain": [
       "<IPython.core.display.HTML object>"
      ]
     },
     "metadata": {},
     "output_type": "display_data"
    },
    {
     "data": {
      "application/javascript": [
       "highlight(cell, [2, 1, 15, 2]);"
      ],
      "text/plain": [
       "<IPython.core.display.Javascript object>"
      ]
     },
     "metadata": {},
     "output_type": "display_data"
    }
   ],
   "source": [
    "%%debug\n",
    "(begin\n",
    "  (define (fast-expt b n)\n",
    "      (cond ((= n 0) 1)\n",
    "            ((even? n)(square (fast-expt b (/ n 2))))\n",
    "            (else (* b (fast-expt b (- n 1))))\n",
    "        )\n",
    "      )\n",
    "    ; 偶数かどうか判定\n",
    "    (define (even? n)\n",
    "      (= (remainder n 2) 0)\n",
    "      )\n",
    "    (define (square x) (* x x))\n",
    "    (fast-expt 2 10)\n",
    " )"
   ]
  }
 ],
 "metadata": {
  "kernelspec": {
   "display_name": "Calysto Scheme 3",
   "language": "scheme",
   "name": "calysto_scheme"
  },
  "language_info": {
   "codemirror_mode": {
    "name": "scheme"
   },
   "mimetype": "text/x-scheme",
   "name": "scheme",
   "pygments_lexer": "scheme"
  }
 },
 "nbformat": 4,
 "nbformat_minor": 4
}
