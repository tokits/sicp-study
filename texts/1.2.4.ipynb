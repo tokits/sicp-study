{
 "cells": [
  {
   "cell_type": "markdown",
   "metadata": {},
   "source": [
    "## 1.2.4 指数計算\n",
    "\n",
    "ここでは指数計算(基数$b$と正の整数$n$を引数に取り、$b^{n}$を求める)を考える。  \n",
    "次のように再帰的定義によって定義できる。  \n",
    "\n",
    "$b^{n} = b \\cdot b^{n−1}$  \n",
    "$b^{0} = 1$  "
   ]
  },
  {
   "cell_type": "code",
   "execution_count": 1,
   "metadata": {},
   "outputs": [
    {
     "data": {
      "text/plain": [
       "16"
      ]
     },
     "execution_count": 1,
     "metadata": {},
     "output_type": "execute_result"
    }
   ],
   "source": [
    "(define (expt b n)\n",
    "  (if (= n 0) 1\n",
    "      (* b (expt b (- n 1)))\n",
    "    )\n",
    "  )\n",
    "(expt 2 4)"
   ]
  },
  {
   "cell_type": "code",
   "execution_count": 2,
   "metadata": {},
   "outputs": [
    {
     "data": {
      "text/plain": [
       "256"
      ]
     },
     "execution_count": 2,
     "metadata": {},
     "output_type": "execute_result"
    }
   ],
   "source": [
    "(expt 2 8)"
   ]
  },
  {
   "cell_type": "markdown",
   "metadata": {},
   "source": [
    "これは線形再帰プロセスで、  \n",
    "$\\Theta(n)$のステップ数と$\\Theta(n)$の空間(メモリ)を必要とする。\n",
    "階乗と同じように、等価な線形反復としてすぐに定式化できる。"
   ]
  },
  {
   "cell_type": "code",
   "execution_count": 3,
   "metadata": {},
   "outputs": [],
   "source": [
    "(define (expt2 b n)\n",
    "  (expt-iter b n 1)\n",
    "  )\n",
    "(define (expt-iter b counter product)\n",
    "  (if (= counter 0) product\n",
    "      (expt-iter b (- counter 1) (* b product))\n",
    "    )\n",
    "  ) "
   ]
  },
  {
   "cell_type": "code",
   "execution_count": 4,
   "metadata": {},
   "outputs": [
    {
     "data": {
      "text/plain": [
       "8"
      ]
     },
     "execution_count": 4,
     "metadata": {},
     "output_type": "execute_result"
    }
   ],
   "source": [
    "(expt2 2 3)"
   ]
  },
  {
   "cell_type": "markdown",
   "metadata": {},
   "source": [
    "この実装では、  \n",
    "$\\Theta(n)$のステップ数と$\\Theta(1)$の空間(メモリ)を必要とする。\n",
    "\n",
    "指数は、⼆乗を連続して使うことによって、より少ないステップ数で計算できる。  \n",
    "例えば、  \n",
    "$b^{8}$を\n",
    "$b \\cdot (b \\cdot (b \\cdot (b \\cdot (b \\cdot (b \\cdot (b \\cdot b))))))$   \n",
    "のようにするのではなく、  \n",
    "$b^{2}=b^{1} \\cdot b^{1}$   \n",
    "$b^{4}=b^{2} \\cdot b^{2}$   \n",
    "$b^{8}=b^{4} \\cdot b^{4}$   \n",
    "とすることで、3回の乗算で求めることができる。   \n",
    "この⽅法は、指数が2の冪乗である場合にうまくできる。  \n",
    "\n",
    "次の規則を使うことで、⼀般的な指数計算をすることができる。     \n",
    "・$b^n = (b^{\\frac{n}{2}})^2$ $n$が偶数の場合     \n",
    "・ $b^n = b \\cdot b^{n−1}$ $n$が奇数の場合  \n",
    "この⽅法は、⼿続きとして表現できる。  "
   ]
  },
  {
   "cell_type": "code",
   "execution_count": 5,
   "metadata": {},
   "outputs": [],
   "source": [
    "(define (fast-expt b n)\n",
    "  (cond ((= n 0) 1)\n",
    "        ((even? n)(square (fast-expt b (/ n 2))))\n",
    "        (else (* b (fast-expt b (- n 1))))\n",
    "    )\n",
    "  )\n",
    "; 偶数かどうか判定\n",
    "(define (even? n)\n",
    "  (= (remainder n 2) 0)\n",
    "  )\n",
    "(define (square x) (* x x))"
   ]
  },
  {
   "cell_type": "code",
   "execution_count": 6,
   "metadata": {},
   "outputs": [
    {
     "data": {
      "text/plain": [
       "2048"
      ]
     },
     "execution_count": 6,
     "metadata": {},
     "output_type": "execute_result"
    }
   ],
   "source": [
    "(fast-expt 2 11)"
   ]
  },
  {
   "cell_type": "code",
   "execution_count": 7,
   "metadata": {},
   "outputs": [
    {
     "name": "stdout",
     "output_type": "stream",
     "text": [
      "(fast-expt(2 500))^2\n",
      "(fast-expt(2 250))^2\n",
      "(fast-expt(2 125))^2\n",
      "2*(fast-expt(2 124)\n",
      "(fast-expt(2 62))^2\n",
      "(fast-expt(2 31))^2\n",
      "2*(fast-expt(2 30)\n",
      "(fast-expt(2 15))^2\n",
      "2*(fast-expt(2 14)\n",
      "(fast-expt(2 7))^2\n",
      "2*(fast-expt(2 6)\n",
      "(fast-expt(2 3))^2\n",
      "2*(fast-expt(2 2)\n",
      "(fast-expt(2 1))^2\n",
      "2*(fast-expt(2 0)\n"
     ]
    },
    {
     "data": {
      "text/plain": [
       "10715086071862673209484250490600018105614048117055336074437503883703510511249361224931983788156958581275946729175531468251871452856923140435984577574698574803934567774824230985421074605062371141877954182153046474983581941267398767559165543946077062914571196477686542167660429831652624386837205668069376"
      ]
     },
     "execution_count": 7,
     "metadata": {},
     "output_type": "execute_result"
    }
   ],
   "source": [
    "(begin\n",
    "  (define (fast-expt b n)\n",
    "      (cond ((= n 0) 1)\n",
    "            ((even? n)(begin\n",
    "                       (display \"(fast-expt(\")\n",
    "                       (display b)\n",
    "                       (display \" \")\n",
    "                       (display (/ n 2))\n",
    "                       (display \"))^2\")\n",
    "                       (newline)\n",
    "                       (square (fast-expt b (/ n 2))))\n",
    "                     )\n",
    "            (else (begin\n",
    "                       (display b)\n",
    "                       (display \"*(fast-expt(\")\n",
    "                       (display b)\n",
    "                       (display \" \")\n",
    "                       (display (- n 1))\n",
    "                       (display \")\")\n",
    "                       (newline)\n",
    "                       (* b (fast-expt b (- n 1))))\n",
    "                  )\n",
    "        )\n",
    "      )\n",
    "    ; 偶数かどうか判定\n",
    "    (define (even? n)\n",
    "      (= (remainder n 2) 0)\n",
    "      )\n",
    "    (define (square x) (* x x))\n",
    "    (fast-expt 2 1000)\n",
    " )"
   ]
  },
  {
   "cell_type": "markdown",
   "metadata": {},
   "source": [
    "fast-exptにより展開されるプロセスは、空間・ステップ数ともに、nに対して対数的に増加する。  \n",
    "つまり、空間・ステップ数の増加オーダーは  \n",
    "$\\Theta(\\log_2{n})$   \n",
    "となる。\n"
   ]
  },
  {
   "cell_type": "markdown",
   "metadata": {},
   "source": [
    "##### 練習問題\n",
    "- [練習問題1.16 対数的ステップ数・反復プロセスによる指数計算の実装](../exercises/1.16.ipynb)\n",
    "- [練習問題1.17 対数的ステップ数・再帰プロセスによるかけ算の実装](../exercises/1.17.ipynb)\n",
    "- [練習問題1.18 対数的ステップ数・反復プロセスによるかけ算の実装](../exercises/1.18.ipynb)\n",
    "- [練習問題1.19 対数的ステップ数で動作するフィボナッチ数算出の実装](../exercises/1.19.ipynb)"
   ]
  }
 ],
 "metadata": {
  "kernelspec": {
   "display_name": "Calysto Scheme 3",
   "language": "scheme",
   "name": "calysto_scheme"
  },
  "language_info": {
   "codemirror_mode": {
    "name": "scheme"
   },
   "mimetype": "text/x-scheme",
   "name": "scheme",
   "pygments_lexer": "scheme"
  },
  "latex_envs": {
   "LaTeX_envs_menu_present": true,
   "autoclose": true,
   "autocomplete": true,
   "bibliofile": "biblio.bib",
   "cite_by": "apalike",
   "current_citInitial": 1,
   "eqLabelWithNumbers": true,
   "eqNumInitial": 1,
   "hotkeys": {
    "equation": "Ctrl-E",
    "itemize": "Ctrl-I"
   },
   "labels_anchors": false,
   "latex_user_defs": false,
   "report_style_numbering": false,
   "user_envs_cfg": false
  }
 },
 "nbformat": 4,
 "nbformat_minor": 4
}
