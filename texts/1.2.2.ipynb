{
 "cells": [
  {
   "cell_type": "markdown",
   "metadata": {},
   "source": [
    "## 1.2.2 ⽊の再帰\n",
    "\n",
    "木の再帰(tree recursion)としてフィボナッチ数列を考える。\n",
    "\n",
    "フィボナッチ数列：$0, 1, 1, 2, 3, 5, 8, 13, 21, \\cdots$  \n",
    "\n",
    "定義式は以下の通り。  \n",
    "$\n",
    "  Fib(n)=\\begin{cases}\n",
    "    0 & (n=0) \\\\\n",
    "    1 & (n=1) \\\\\n",
    "    Fib(n-1) + Fib(n-2) & (otherwise)\n",
    "  \\end{cases}\n",
    "$\n"
   ]
  },
  {
   "cell_type": "code",
   "execution_count": 1,
   "metadata": {},
   "outputs": [],
   "source": [
    "(define (fib n)\n",
    "  (cond ((= n 0) 0)\n",
    "        ((= n 1) 1) \n",
    "        (else (+ (fib (- n 1)) (fib (- n 2))))\n",
    "        )\n",
    "  )"
   ]
  },
  {
   "cell_type": "code",
   "execution_count": 2,
   "metadata": {},
   "outputs": [
    {
     "name": "stdout",
     "output_type": "stream",
     "text": [
      "5\n",
      "21\n",
      "34\n"
     ]
    }
   ],
   "source": [
    "(display (fib 5))\n",
    "(newline)\n",
    "(display (fib 8))\n",
    "(newline)\n",
    "(display (fib 9))\n",
    "(newline)"
   ]
  },
  {
   "cell_type": "markdown",
   "metadata": {},
   "source": [
    "### 図1.5 (fib 5)の計算時に⽣成される⽊の再帰プロセス\n",
    "\n",
    "<img src=\"1.5.jpg\" width=\"75%\">"
   ]
  },
  {
   "cell_type": "code",
   "execution_count": 1,
   "metadata": {},
   "outputs": [],
   "source": [
    "(define (fib2 n)\n",
    "  (cond ((= n 0) \n",
    "         (begin\n",
    "          ;(display \"fib2(0)\")\n",
    "          ;(newline)\n",
    "          0)\n",
    "         )\n",
    "        ((= n 1)\n",
    "         (begin\n",
    "          '(display \"fib2(1)\")\n",
    "          '(newline)\n",
    "          1)\n",
    "         )\n",
    "        (else\n",
    "         (begin \n",
    "          (display \"fib2(\")\n",
    "          (display (- n 1))\n",
    "          (display \")+fib2(\")\n",
    "          (display (- n 2))\n",
    "          (display \")\")\n",
    "          (newline)\n",
    "          (+ (fib2 (- n 1)) (fib2 (- n 2)))\n",
    "          )\n",
    "         )\n",
    "        )\n",
    "  )"
   ]
  },
  {
   "cell_type": "code",
   "execution_count": 2,
   "metadata": {},
   "outputs": [
    {
     "name": "stdout",
     "output_type": "stream",
     "text": [
      "fib2(4)+fib2(3)\n",
      "fib2(3)+fib2(2)\n",
      "fib2(2)+fib2(1)\n",
      "fib2(1)+fib2(0)\n",
      "fib2(1)+fib2(0)\n",
      "fib2(2)+fib2(1)\n",
      "fib2(1)+fib2(0)\n",
      "5\n",
      "fib2(7)+fib2(6)\n",
      "fib2(6)+fib2(5)\n",
      "fib2(5)+fib2(4)\n",
      "fib2(4)+fib2(3)\n",
      "fib2(3)+fib2(2)\n",
      "fib2(2)+fib2(1)\n",
      "fib2(1)+fib2(0)\n",
      "fib2(1)+fib2(0)\n",
      "fib2(2)+fib2(1)\n",
      "fib2(1)+fib2(0)\n",
      "fib2(3)+fib2(2)\n",
      "fib2(2)+fib2(1)\n",
      "fib2(1)+fib2(0)\n",
      "fib2(1)+fib2(0)\n",
      "fib2(4)+fib2(3)\n",
      "fib2(3)+fib2(2)\n",
      "fib2(2)+fib2(1)\n",
      "fib2(1)+fib2(0)\n",
      "fib2(1)+fib2(0)\n",
      "fib2(2)+fib2(1)\n",
      "fib2(1)+fib2(0)\n",
      "fib2(5)+fib2(4)\n",
      "fib2(4)+fib2(3)\n",
      "fib2(3)+fib2(2)\n",
      "fib2(2)+fib2(1)\n",
      "fib2(1)+fib2(0)\n",
      "fib2(1)+fib2(0)\n",
      "fib2(2)+fib2(1)\n",
      "fib2(1)+fib2(0)\n",
      "fib2(3)+fib2(2)\n",
      "fib2(2)+fib2(1)\n",
      "fib2(1)+fib2(0)\n",
      "fib2(1)+fib2(0)\n",
      "21\n"
     ]
    }
   ],
   "source": [
    "(display (fib2 5))\n",
    "(newline)\n",
    "(display (fib2 8))\n",
    "(newline)"
   ]
  },
  {
   "cell_type": "code",
   "execution_count": 5,
   "metadata": {},
   "outputs": [],
   "source": [
    "(define (fib3 n)\n",
    "  (cond ((= n 0) \n",
    "         (begin\n",
    "          (display \"fib3(0)\")\n",
    "          (newline)\n",
    "          0)\n",
    "         )\n",
    "        ((= n 1)\n",
    "         (begin\n",
    "          (display \"fib3(1)\")\n",
    "          (newline)\n",
    "          1)\n",
    "         )\n",
    "        (else\n",
    "         (begin \n",
    "          (+ (fib3 (- n 1)) (fib3 (- n 2)))\n",
    "          )\n",
    "         )\n",
    "        )\n",
    "  )"
   ]
  },
  {
   "cell_type": "code",
   "execution_count": 6,
   "metadata": {},
   "outputs": [
    {
     "name": "stdout",
     "output_type": "stream",
     "text": [
      "fib3(1)\n",
      "fib3(0)\n",
      "fib3(1)\n",
      "fib3(1)\n",
      "fib3(0)\n",
      "fib3(1)\n",
      "fib3(0)\n",
      "fib3(1)\n",
      "5\n",
      "fib3(1)\n",
      "fib3(0)\n",
      "fib3(1)\n",
      "fib3(1)\n",
      "fib3(0)\n",
      "fib3(1)\n",
      "fib3(0)\n",
      "fib3(1)\n",
      "fib3(1)\n",
      "fib3(0)\n",
      "fib3(1)\n",
      "fib3(1)\n",
      "fib3(0)\n",
      "fib3(1)\n",
      "fib3(0)\n",
      "fib3(1)\n",
      "fib3(1)\n",
      "fib3(0)\n",
      "fib3(1)\n",
      "fib3(0)\n",
      "fib3(1)\n",
      "fib3(1)\n",
      "fib3(0)\n",
      "fib3(1)\n",
      "fib3(1)\n",
      "fib3(0)\n",
      "fib3(1)\n",
      "fib3(0)\n",
      "fib3(1)\n",
      "fib3(1)\n",
      "fib3(0)\n",
      "fib3(1)\n",
      "fib3(1)\n",
      "fib3(0)\n",
      "21\n"
     ]
    }
   ],
   "source": [
    "(display (fib3 5))\n",
    "(newline)\n",
    "(display (fib3 8))\n",
    "(newline)"
   ]
  },
  {
   "cell_type": "markdown",
   "metadata": {},
   "source": [
    "このプロセスのステップ数は、図1.5から分かるように⼊⼒に対して指数的に増加している。\n",
    "\n",
    "$Fib(4)$の葉の総数(・・・$Fib(1)$と$Fib(0)$の総数)が$Fib(5)$の値となっている。  \n",
    "つまり  \n",
    "$Fib(n+1)=Fib(n)の葉の数$\n",
    "\n",
    "ステップ数・・・(fib 1)と(fib 0)をカウントすることだとすると、  \n",
    "$Fib(n+1)$の値(計算式)が分かれば、ステップ数が分かる。　\n",
    "\n",
    "$Fib(n) \\approx \\frac{\\varphi^n}{\\sqrt 5}$ (nが大きくなると)    \n",
    "$\\frac{Fib(n+1)}{Fib(n)} \\approx \\varphi$ (nが大きくなると)    \n",
    "$\\varphi=\\frac{1+\\sqrt 5}{2} \\approx 1.6180$ ($\\varphi$は黄金比と言われており、値は$\\varphi^2=\\varphi+1$より求まる) \n",
    "\n",
    "ということが知られており、  \n",
    "ステップ数は$n$に対して指数関数的に大きくなることが分かる。\n",
    "テキストには、「空間(メモリ)は$n$に対して線形的に増加する」と記載されているが、ノードの数のことであれば、線形ではないのでは？  \n",
    "反復プロセスで実装するのであれば線形的であるのは分かるが。"
   ]
  },
  {
   "cell_type": "markdown",
   "metadata": {},
   "source": [
    "フィボナッチ数の計算は、反復プロセスとして定式化できる。  \n",
    "$Fib(1)=1,Fib(0)=0$として、次の変換を同時に適応するこを繰り返すというものである。  \n",
    "$ a \\leftarrow a + b $  \n",
    "$ b \\leftarrow a $  "
   ]
  },
  {
   "cell_type": "code",
   "execution_count": 7,
   "metadata": {},
   "outputs": [],
   "source": [
    "(define (fib4 n)\n",
    "  (fib-iter 1 0 n)\n",
    "  )\n",
    "(define (fib-iter a b count)\n",
    "  (if (= count 0) b\n",
    "      (fib-iter (+ a b) a (- count 1))\n",
    "      )\n",
    "  )"
   ]
  },
  {
   "cell_type": "code",
   "execution_count": 8,
   "metadata": {},
   "outputs": [
    {
     "name": "stdout",
     "output_type": "stream",
     "text": [
      "5\n",
      "21\n",
      "10610209857723\n",
      "1.618033988749895\n"
     ]
    }
   ],
   "source": [
    "(display (fib4 5))\n",
    "(newline)\n",
    "(display (fib4 8))\n",
    "(newline)\n",
    "(display (fib4 64))\n",
    "(newline)\n",
    "(display (+ 0.0 (/ (fib4 64) (fib4 63))))\n",
    "(newline)"
   ]
  },
  {
   "cell_type": "code",
   "execution_count": 9,
   "metadata": {},
   "outputs": [],
   "source": [
    "(define (fib5 n)\n",
    "  (fib-iter2 1 0 n)\n",
    "  )\n",
    "(define (fib-iter2 a b count)\n",
    "  (if (= count 0)\n",
    "      (begin\n",
    "           b\n",
    "        )\n",
    "      (begin\n",
    "       (display \"fib-iter2 \")\n",
    "       (display (+ a b))\n",
    "       (display \" \")\n",
    "       (display a)\n",
    "       (display \" \")\n",
    "       (display (- count 1))\n",
    "       (newline)\n",
    "       (fib-iter2 (+ a b) a (- count 1))\n",
    "      )\n",
    "    )\n",
    "  )"
   ]
  },
  {
   "cell_type": "code",
   "execution_count": 10,
   "metadata": {},
   "outputs": [
    {
     "name": "stdout",
     "output_type": "stream",
     "text": [
      "fib-iter2 1 1 4\n",
      "fib-iter2 2 1 3\n",
      "fib-iter2 3 2 2\n",
      "fib-iter2 5 3 1\n",
      "fib-iter2 8 5 0\n",
      "5\n",
      "fib-iter2 1 1 7\n",
      "fib-iter2 2 1 6\n",
      "fib-iter2 3 2 5\n",
      "fib-iter2 5 3 4\n",
      "fib-iter2 8 5 3\n",
      "fib-iter2 13 8 2\n",
      "fib-iter2 21 13 1\n",
      "fib-iter2 34 21 0\n",
      "21\n"
     ]
    }
   ],
   "source": [
    "(display (fib5 5))\n",
    "(newline)\n",
    "(display (fib5 8))\n",
    "(newline)"
   ]
  },
  {
   "cell_type": "markdown",
   "metadata": {},
   "source": [
    "### 例:両替パターンの計算\n",
    "\n",
    "フィボナッチ数列では、再帰プロセスは入力数に対してステップ数が指数関数的になり、大きくなることを見た。  \n",
    "これを見ると再帰プロセスはよくないよう見えるが、アルゴリズムに対して素直に実装できるという利点がある。  \n",
    "ここでは再帰プロセスが有効な例として両替パターンの計算を挙げる。\n"
   ]
  },
  {
   "cell_type": "markdown",
   "metadata": {},
   "source": [
    "ここでは、50¢、25¢、10¢、5¢、1¢を使って両替の組み合わせの数を計算することを考える。  \n",
    "20¢を両替するイメージ。\n",
    "<img src=\"1.2.3.jpg\" width=\"75%\">\n",
    "\n",
    "$n$種類のコインを使って⾦額$a$を両替するやり⽅のパターン数は、以下の 合計となる。   \n",
    "・⼀つ⽬の種類のコイン以外のすべての種類のコインを使って⾦額$a$を両替するやり⽅のパターン数。  \n",
    "・$n$種類の硬貨を使って、⾦額$a−d$を両替するやり⽅のパターン数。  \n",
    " $d$は⼀つ⽬の種類のコインの額⾯とする。  \n",
    " \n",
    "上記のアルゴリズムに下記の条件を加えることで、実装できる。  \n",
    "•もしaがちょうど0なら、両替パターンは1と数える。  \n",
    "•もしaが0未満なら、両替パターンは0と数える。   \n",
    "•もしnが0なら、両替パターンは0と数える。  \n",
    "\n",
    "10¢を両替する動作イメージ。\n",
    "<img src=\"1.2.2.jpg\" width=\"75%\">\n"
   ]
  },
  {
   "cell_type": "code",
   "execution_count": 11,
   "metadata": {},
   "outputs": [],
   "source": [
    "(define (count-change amount) (cc amount 5))\n",
    "(define (cc amount kinds-of-coins)\n",
    "  (cond ((= amount 0) 1)\n",
    "        ((or (< amount 0)(= kinds-of-coins 0)) 0)\n",
    "        (else (+ (cc amount (- kinds-of-coins 1))\n",
    "                 (cc (- amount (first-denomination kinds-of-coins)) kinds-of-coins)))\n",
    "    )\n",
    "  )\n",
    "(define (first-denomination kinds-of-coins)\n",
    "  (cond ((= kinds-of-coins 1) 1)\n",
    "        ((= kinds-of-coins 2) 5)\n",
    "        ((= kinds-of-coins 3) 10)\n",
    "        ((= kinds-of-coins 4) 25) \n",
    "        ((= kinds-of-coins 5) 50)\n",
    "    )\n",
    "  )"
   ]
  },
  {
   "cell_type": "code",
   "execution_count": 12,
   "metadata": {
    "scrolled": true
   },
   "outputs": [
    {
     "name": "stdout",
     "output_type": "stream",
     "text": [
      "292\n"
     ]
    }
   ],
   "source": [
    "(display (count-change 100))\n",
    "(newline)"
   ]
  },
  {
   "cell_type": "code",
   "execution_count": 13,
   "metadata": {},
   "outputs": [
    {
     "name": "stdout",
     "output_type": "stream",
     "text": [
      "9\n"
     ]
    }
   ],
   "source": [
    "(display (count-change 20))\n",
    "(newline)"
   ]
  },
  {
   "cell_type": "code",
   "execution_count": 14,
   "metadata": {
    "scrolled": true
   },
   "outputs": [
    {
     "name": "stdout",
     "output_type": "stream",
     "text": [
      "4\n"
     ]
    }
   ],
   "source": [
    "(display (count-change 10))\n",
    "(newline)"
   ]
  },
  {
   "cell_type": "markdown",
   "metadata": {},
   "source": [
    "##### 練習問題\n",
    "- [練習問題1.11 再ｋプロセス・反復プロセスによる実装](../exercises/1.11.ipynb)\n",
    "- [練習問題1.12 パスカルの三角形](../exercises/1.12.ipynb)\n",
    "- [練習問題1.13 フィボナッチ数の近似式の証明](../exercises/1.13.ipynb)"
   ]
  }
 ],
 "metadata": {
  "kernelspec": {
   "display_name": "Calysto Scheme 3",
   "language": "scheme",
   "name": "calysto_scheme"
  },
  "language_info": {
   "codemirror_mode": {
    "name": "scheme"
   },
   "mimetype": "text/x-scheme",
   "name": "scheme",
   "pygments_lexer": "scheme"
  }
 },
 "nbformat": 4,
 "nbformat_minor": 4
}
