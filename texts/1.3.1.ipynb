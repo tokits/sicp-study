{
 "cells": [
  {
   "cell_type": "markdown",
   "metadata": {},
   "source": [
    "## 1.3 高階手続きによる抽象の定式化\n",
    "\n",
    "**公開手続き**"
   ]
  },
  {
   "cell_type": "markdown",
   "metadata": {},
   "source": [
    "### 1.3.1 引数としての手続き"
   ]
  },
  {
   "cell_type": "code",
   "execution_count": 2,
   "metadata": {},
   "outputs": [
    {
     "data": {
      "text/plain": [
       "55"
      ]
     },
     "execution_count": 2,
     "metadata": {},
     "output_type": "execute_result"
    }
   ],
   "source": [
    "; aからbまで整数の和を計算\n",
    "(define (sum-integers a b)\n",
    "  (if (> a b) 0\n",
    "      (+ a (sum-integers (+ a 1) b))\n",
    "    )\n",
    "  )\n",
    "(sum-integers 1 10)"
   ]
  },
  {
   "cell_type": "code",
   "execution_count": 10,
   "metadata": {},
   "outputs": [
    {
     "data": {
      "text/plain": [
       "3025"
      ]
     },
     "execution_count": 10,
     "metadata": {},
     "output_type": "execute_result"
    }
   ],
   "source": [
    "; 範囲内の整数の三乗和\n",
    "(define (cube x)(* x x x))\n",
    "(define (sum-cubes a b)\n",
    "  (if (> a b) 0\n",
    "      (+ (cube a)\n",
    "         (sum-cubes (+ a 1) b))\n",
    "    )\n",
    "  )\n",
    "(sum-cubes 1 10)"
   ]
  },
  {
   "cell_type": "code",
   "execution_count": 9,
   "metadata": {},
   "outputs": [
    {
     "data": {
      "text/plain": [
       "3.141392653591793"
      ]
     },
     "execution_count": 9,
     "metadata": {},
     "output_type": "execute_result"
    }
   ],
   "source": [
    "; π/8に収束\n",
    "(define (pi-sum a b)\n",
    "  (if (> a b) 0\n",
    "      (+ (/ 1.0 (* a (+ a 2)))\n",
    "         (pi-sum (+ a 4) b))\n",
    "    )\n",
    "  )\n",
    "(* (pi-sum 1 10000) 8)"
   ]
  },
  {
   "cell_type": "code",
   "execution_count": 11,
   "metadata": {},
   "outputs": [],
   "source": [
    "; 1つ項の計算式:term\n",
    "; 次の値を算出:next\n",
    "(define (sum term a next b)\n",
    "  (if (> a b) 0\n",
    "      (+ (term a)\n",
    "         (sum term (next a) next b))\n",
    "    )\n",
    "  )"
   ]
  },
  {
   "cell_type": "code",
   "execution_count": 14,
   "metadata": {},
   "outputs": [
    {
     "data": {
      "text/plain": [
       "3025"
      ]
     },
     "execution_count": 14,
     "metadata": {},
     "output_type": "execute_result"
    }
   ],
   "source": [
    "; 三乗和\n",
    "(define (inc n) (+ n 1))\n",
    "(define (sum-cubes a b)\n",
    "  (sum cube a inc b)\n",
    "  )\n",
    "(sum-cubes 1 10)"
   ]
  },
  {
   "cell_type": "code",
   "execution_count": 17,
   "metadata": {},
   "outputs": [
    {
     "data": {
      "text/plain": [
       "55"
      ]
     },
     "execution_count": 17,
     "metadata": {},
     "output_type": "execute_result"
    }
   ],
   "source": [
    "; aからbまでの整数の和\n",
    "(define (identity x) x)\n",
    "(define (sum-integers a b)\n",
    "  (sum identity a inc b)\n",
    "  )\n",
    "(sum-integers 1 10)"
   ]
  },
  {
   "cell_type": "code",
   "execution_count": 20,
   "metadata": {},
   "outputs": [
    {
     "data": {
      "text/plain": [
       "3.139592655589783"
      ]
     },
     "execution_count": 20,
     "metadata": {},
     "output_type": "execute_result"
    }
   ],
   "source": [
    "; π/8\n",
    "(define (pi-sum a b)\n",
    "  (define (pi-term x)(/ 1.0 (* x (+ x 2))))\n",
    "  (define (pi-next x)(+ x 4))\n",
    "  (sum pi-term a pi-next b)\n",
    "  )\n",
    "\n",
    "(* 8 (pi-sum 1 1000))"
   ]
  },
  {
   "cell_type": "code",
   "execution_count": 30,
   "metadata": {},
   "outputs": [
    {
     "name": "stdout",
     "output_type": "stream",
     "text": [
      "0.24998750000000042\n",
      "0.249999875000001\n",
      "0.5000000000000004\n"
     ]
    }
   ],
   "source": [
    "(define (integral f a b dx)\n",
    "  (define (add-dx x)(+ x dx))\n",
    "  (* (sum f (+ a (/ dx 2.0)) add-dx b) dx)\n",
    "  )\n",
    "\n",
    "(display (integral cube 0 1 0.01))\n",
    "(newline)\n",
    "(display (integral cube 0 1 0.001))\n",
    "(newline)\n",
    "(display (integral (lambda (x) x) 0 1 0.001))\n",
    "(newline)"
   ]
  }
 ],
 "metadata": {
  "kernelspec": {
   "display_name": "Calysto Scheme 3",
   "language": "scheme",
   "name": "calysto_scheme"
  },
  "language_info": {
   "codemirror_mode": {
    "name": "scheme"
   },
   "mimetype": "text/x-scheme",
   "name": "scheme",
   "pygments_lexer": "scheme"
  }
 },
 "nbformat": 4,
 "nbformat_minor": 4
}
