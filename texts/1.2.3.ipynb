{
 "cells": [
  {
   "cell_type": "markdown",
   "metadata": {},
   "source": [
    "## 1.2.3 増加オーダー\n",
    "\n",
    "問題の⼤きさを測るパラメータを$n$として、  \n",
    "⼤きさ$n$の問題についてプロセスが必要とするリソースの量を$R(n)$とする。  \n",
    "\n",
    "任意の⼗分に⼤きな$n$に対して、$n$と独⽴な正の定数$k1$と$k2$が存在し、  \n",
    "$k_{1} \\cdot f(n) <= R(n) <= k_{2} \\cdot f(n)$を満たすとき、  \n",
    "$R(n)$は**増加オーダー**が$\\Theta(f(n))$であると⾔い、  \n",
    "$R(n) = \\Theta(f(n)$)と書く。  \n",
    "\n"
   ]
  },
  {
   "cell_type": "code",
   "execution_count": null,
   "metadata": {},
   "outputs": [],
   "source": []
  }
 ],
 "metadata": {
  "kernelspec": {
   "display_name": "Calysto Scheme 3",
   "language": "scheme",
   "name": "calysto_scheme"
  },
  "language_info": {
   "codemirror_mode": {
    "name": "scheme"
   },
   "mimetype": "text/x-scheme",
   "name": "scheme",
   "pygments_lexer": "scheme"
  }
 },
 "nbformat": 4,
 "nbformat_minor": 4
}
