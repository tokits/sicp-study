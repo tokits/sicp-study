{
 "cells": [
  {
   "cell_type": "markdown",
   "id": "5b262ddf-e4d6-4a9e-962f-ae1881a362be",
   "metadata": {},
   "source": [
    "## 2.4 抽象データの多重表現"
   ]
  },
  {
   "cell_type": "markdown",
   "id": "96ccecd5-4d22-4915-be1b-10f203b6c6f4",
   "metadata": {},
   "source": [
    "### 2.4.1 複素数の表現"
   ]
  },
  {
   "cell_type": "markdown",
   "id": "9b1ff523-65e6-49f5-bf8d-42f1c4274686",
   "metadata": {},
   "source": [
    "複素数の演算\n",
    "\n",
    "- make-from-real-imag手続きは直行形式で複素数を指定するコンストラクタ\n",
    "- make-from-mag-ang手続きは極形式で複素数を指定するコンストラクタ"
   ]
  },
  {
   "cell_type": "code",
   "execution_count": 7,
   "id": "41b5ec6b-1b01-4934-9afd-1ed23371f67d",
   "metadata": {},
   "outputs": [],
   "source": [
    "; 加算は直行形式を使用する\n",
    "(define (add-complex z1 z2)\n",
    "  (make-from-real-imag (+ (real-part z1) (real-part z2)) (+ (imag-part z1) (imag-part z2))))\n",
    "\n",
    "; 減算は直行形式を使用する\n",
    "(define (sub-complex z1 z2)\n",
    "  (make-from-real-imag (- (real-part z1) (real-part z2)) (- (imag-part z1) (imag-part z2))))\n",
    "\n",
    "; 乗算は極形式を使用する\n",
    "(define (mul-complex z1 z2)\n",
    "  (make-from-mag-ang (* (magnitude z1) (magnitude z2)) (+ (angle z1) (angle z2))))\n",
    "\n",
    "; 除算は極形式を使用する\n",
    "(define (div-complex z1 z2)\n",
    "  (make-from-mag-ang (/ (magnitude z1) (magnitude z2)) (- (angle z1) (angle z2))))"
   ]
  },
  {
   "cell_type": "markdown",
   "id": "e2785596-b925-4c26-b4f7-e3cff856b2cb",
   "metadata": {},
   "source": [
    "\"直交形式\"のペア(実部、虚部)で複素数を保持"
   ]
  },
  {
   "cell_type": "code",
   "execution_count": 8,
   "id": "bf072aaf-7206-4561-8868-c4daddc0577e",
   "metadata": {},
   "outputs": [],
   "source": [
    "; 実部を返すセレクタ\n",
    "(define (real-part z) (car z))\n",
    "; 虚部を返すセレクタ\n",
    "(define (imag-part z) (cdr z))\n",
    "; 絶対値を返すセレクタ\n",
    "(define (magnitude z)\n",
    "  (sqrt (+ (square (real-part z)) (square (imag-part z)))))\n",
    "; 偏角を返すセレクタ\n",
    "(define (angle z)\n",
    "  (atan (imag-part z) (real-part z)))\n",
    "\n",
    "; 直行形式で指定するコンストラクタ\n",
    "(define (make-from-real-imag x y) (cons x y))\n",
    "\n",
    "; 極形式で指定するコンストラクタ\n",
    "(define (make-from-mag-ang r a)\n",
    "  (cons (* r (cos a)) (* r (sin a))))"
   ]
  },
  {
   "cell_type": "markdown",
   "id": "b46789ee-e9e5-4e46-bddc-2071aa9caa96",
   "metadata": {},
   "source": [
    "\"極形式\"のペア(絶対値、変革)で複素数を保持"
   ]
  },
  {
   "cell_type": "code",
   "execution_count": 9,
   "id": "61f1e808-231f-464b-aa58-24694151d505",
   "metadata": {},
   "outputs": [
    {
     "name": "stderr",
     "output_type": "stream",
     "text": [
      "\u001b[1;31m\n",
      "Traceback (most recent call last):\n",
      "  File \"In [9]\", line 12, col 41\n",
      "ScanError: unexpected character '#\\　' encountered\n",
      "\n",
      "\u001b[0m"
     ]
    }
   ],
   "source": [
    "; 実部を返すセレクタ\n",
    "(define (real-part z) (* (magnitude z) (cos (angle z))))\n",
    "; 虚部を返すセレクタ\n",
    "(define (imag-part z) (* (magnitude z) (sin (angle z))))\n",
    "; 絶対値を返すセレクタ\n",
    "(define (magnitude z) (car z))\n",
    "; 偏角を返すセレクタ\n",
    "(define (angle z) (cdr z))\n",
    "\n",
    "; 直行形式\n",
    "(define (make-from-real-imag x y)\n",
    "  (cons (sqrt (+ (square x) (square y)))　(atan y x)))\n",
    "\n",
    "(define (make-from-mag-ang r a) (cons r a))"
   ]
  },
  {
   "cell_type": "code",
   "execution_count": null,
   "id": "45b80dbb-4eff-45f1-9527-6cde3bba722c",
   "metadata": {},
   "outputs": [],
   "source": []
  }
 ],
 "metadata": {
  "kernelspec": {
   "display_name": "Calysto Scheme 3",
   "language": "scheme",
   "name": "calysto_scheme"
  },
  "language_info": {
   "codemirror_mode": {
    "name": "scheme"
   },
   "mimetype": "text/x-scheme",
   "name": "scheme",
   "pygments_lexer": "scheme"
  }
 },
 "nbformat": 4,
 "nbformat_minor": 5
}
