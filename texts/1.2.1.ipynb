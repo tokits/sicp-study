{
 "cells": [
  {
   "cell_type": "markdown",
   "metadata": {},
   "source": [
    "# 1.2 手続きとその生成するプロセス\n",
    "\n",
    "・**プロセス** とは、一つの仕事を表す単位、または処理そのもののことである。（時田解釈）  \n",
    "・プロセスの **局所的展開(local evolution)** は、手続きによって記述される。  \n",
    "・手続きの全体的なふるまい、**グローバル(global)**なふるまいについて何か記述できるようにしたい。  \n",
    "\n",
    "本節では、単純な手続きによって作られたプロセスの、いくつかの形を見ていく。  \n",
    "具体的には、  \n",
    "・線形再帰、反復、木の再帰・・・空間(メモリ)の消費  \n",
    "・増加オーダー・・・時間の消費  \n",
    "である。"
   ]
  },
  {
   "cell_type": "markdown",
   "metadata": {},
   "source": [
    "## 1.2.1 線形再帰と反復\n",
    "\n",
    "階乗関数について考える。定義は以下の通り。  \n",
    "$ n!=n \\cdot (n-1) \\cdot (n-2) \\cdots 3 \\cdot 2 \\cdot 1 $  \n",
    "\n",
    "階乗の計算方法として、$ (n-1)! $を計算し、その計算結果に$ n $をかけることで$ n! $を計算できる。  \n",
    "$ n!=n \\cdot [(n-1) \\cdot (n-2) \\cdots 3 \\cdot 2 \\cdot 1]=n \\cdot (n-1)! $  \n",
    "\n",
    "これに$ 1!=1 $という規定を加えると、そのまま手続きとして実装できる。"
   ]
  },
  {
   "cell_type": "code",
   "execution_count": 1,
   "metadata": {},
   "outputs": [],
   "source": [
    "(define (factorial n)\n",
    "  (if (= n 1) 1\n",
    "      (* n (factorial (- n 1))\n",
    "         )\n",
    "      )\n",
    "  )"
   ]
  },
  {
   "cell_type": "code",
   "execution_count": 2,
   "metadata": {},
   "outputs": [
    {
     "data": {
      "text/plain": [
       "720"
      ]
     },
     "execution_count": 2,
     "metadata": {},
     "output_type": "execute_result"
    }
   ],
   "source": [
    "(factorial 6)"
   ]
  },
  {
   "cell_type": "markdown",
   "metadata": {},
   "source": [
    "この手続きが$ 6! $の計算を実行する様子を見るには、1.1.5節の置換モデルを使うことができる。\n",
    "\n",
    "### 図1.3 $ 6! $を求めるための線形再帰プロセス\n",
    "\n",
    "    (factorial 6)\n",
    "    (* 6 (factorial 5))\n",
    "    (* 6 (* 5 (factorial 4)))\n",
    "    (* 6 (* 5 (* 4 (factorial 3))))\n",
    "    (* 6 (* 5 (* 4 (* 3 (factorial 2)))))\n",
    "    (* 6 (* 5 (* 4 (* 3 (* 2 (factorial 1))))))\n",
    "    (* 6 (* 5 (* 4 (* 3 (* 2 1)))))\n",
    "    (* 6 (* 5 (* 4 (* 3 2))))\n",
    "    (* 6 (* 5 (* 4 6)))\n",
    "    (* 6 (* 5 24))\n",
    "    (* 6 120)\n",
    "    720\n"
   ]
  },
  {
   "cell_type": "code",
   "execution_count": 3,
   "metadata": {},
   "outputs": [],
   "source": [
    ";階乗の計算の様子を出力させてみた。\n",
    "(define (factorial2 n)\n",
    "  (if (= n 1)\n",
    "      (begin\n",
    "       (display n)\n",
    "       (display '!=)\n",
    "       (display n)\n",
    "       (newline)\n",
    "       1)\n",
    "       (begin\n",
    "        (display n)\n",
    "        (display '!=)\n",
    "        (display n)\n",
    "        (display '* )\n",
    "        (display (- n 1))\n",
    "        (display '!)\n",
    "        (newline)\n",
    "        (define ret (* n (factorial2 (- n 1))))\n",
    "        (display n)\n",
    "        (display '!=)\n",
    "        (display ret)\n",
    "        (newline)\n",
    "        ret\n",
    "        )\n",
    "      )\n",
    "  )"
   ]
  },
  {
   "cell_type": "code",
   "execution_count": 4,
   "metadata": {},
   "outputs": [
    {
     "name": "stdout",
     "output_type": "stream",
     "text": [
      "6!=6*5!\n",
      "5!=5*4!\n",
      "4!=4*3!\n",
      "3!=3*2!\n",
      "2!=2*1!\n",
      "1!=1\n",
      "2!=2\n",
      "3!=6\n",
      "4!=24\n",
      "5!=120\n",
      "6!=720\n"
     ]
    },
    {
     "data": {
      "text/plain": [
       "720"
      ]
     },
     "execution_count": 4,
     "metadata": {},
     "output_type": "execute_result"
    }
   ],
   "source": [
    "(factorial2 6)"
   ]
  },
  {
   "cell_type": "code",
   "execution_count": 5,
   "metadata": {},
   "outputs": [],
   "source": [
    ";階乗の計算の様子を出力させてみた。\n",
    ";上記だと(define ret ・・・)でエラーになる場合があった。\n",
    "(define (factorial2 n)\n",
    "  (if (= n 1)\n",
    "      (begin\n",
    "       (display n)\n",
    "       (display '!=)\n",
    "       (display n)\n",
    "       (newline)\n",
    "       1)\n",
    "        (begin\n",
    "          (display n)\n",
    "          (display '!=)\n",
    "          (display n)\n",
    "          (display '* )\n",
    "          (display (- n 1))\n",
    "          (display '!)\n",
    "          (newline)\n",
    "          (let ((ret (* n (factorial2 (- n 1)))))\n",
    "            (begin\n",
    "              (display n)\n",
    "              (display '!=)\n",
    "              (display ret)\n",
    "              (newline)\n",
    "              ret\n",
    "            )\n",
    "          )\n",
    "        )\n",
    "    )\n",
    "  )"
   ]
  },
  {
   "cell_type": "code",
   "execution_count": 6,
   "metadata": {},
   "outputs": [
    {
     "name": "stdout",
     "output_type": "stream",
     "text": [
      "6!=6*5!\n",
      "5!=5*4!\n",
      "4!=4*3!\n",
      "3!=3*2!\n",
      "2!=2*1!\n",
      "1!=1\n",
      "2!=2\n",
      "3!=6\n",
      "4!=24\n",
      "5!=120\n",
      "6!=720\n"
     ]
    },
    {
     "data": {
      "text/plain": [
       "720"
      ]
     },
     "execution_count": 6,
     "metadata": {},
     "output_type": "execute_result"
    }
   ],
   "source": [
    "(factorial2 6)"
   ]
  },
  {
   "cell_type": "markdown",
   "metadata": {},
   "source": [
    "このプロセスの置換モデルは、図1.3にあるように展開・縮約という形をしている。  \n",
    "展開は、プロセスが**遅延演算(deferred operation)**の連鎖(ここではかけ算の連鎖)を構築する際に起こる。  \n",
    "縮約は、演算が実際に⾏われる際に起きる。  \n",
    "遅延演算の連鎖によって特徴づけられるこのタイプのプロセスは、**再帰プロセス(recursive process)**と呼ばれる。  \n",
    "このプロセスを実⾏するには、インタプリタは後で実⾏する演算について記録しておく必要がある。  \n",
    "$n!$の計算では、遅延乗算の連鎖の⻑さ、またそれを記録するために必要な情報の量は、$n$に対して線形に ($n$に⽐例して)増加する。  \n",
    "ステップ数も、同じように線形に増加する。  \n",
    "このようなプロセスは、**線形再帰プロセス(linear recursive process)**と呼ばれる。  "
   ]
  },
  {
   "cell_type": "markdown",
   "metadata": {},
   "source": [
    "階乗の別の計算方法を考えてみる。  \n",
    "$ n! $の計算規則として、最初に$ 1 \\times 2 $を行い、それからその答えに$ 3 $をかけ、それから$ 4 $をかけ、$ n $まで続けるというものである。  \n",
    "形式的に書くと、計算途中の積と$ 1 $から$ n $まで数え上げていくカウンタを保持することで、次の規則に従ってカウンタと積がステップごとに同時に変化するように記述できる。  \n",
    "$ product \\leftarrow counter \\times product $  \n",
    "$ counter \\leftarrow counter + 1 $  \n",
    "\n",
    "$ n! $とはカウンタが$ n $を超えた時点での積の値であると規定すると、以下のように実装できる。"
   ]
  },
  {
   "cell_type": "code",
   "execution_count": 7,
   "metadata": {},
   "outputs": [],
   "source": [
    "(define (factorial3 n)\n",
    "  (fact-iter 1 1 n))\n",
    "(define (fact-iter product counter max-count)\n",
    "  (if (> counter max-count)\n",
    "      product\n",
    "      (fact-iter (* counter product) (+ counter 1) max-count)\n",
    "    )\n",
    "  )"
   ]
  },
  {
   "cell_type": "code",
   "execution_count": 8,
   "metadata": {},
   "outputs": [
    {
     "data": {
      "text/plain": [
       "720"
      ]
     },
     "execution_count": 8,
     "metadata": {},
     "output_type": "execute_result"
    }
   ],
   "source": [
    "(factorial3 6)"
   ]
  },
  {
   "cell_type": "markdown",
   "metadata": {},
   "source": [
    "先ほどと同じく、置換モデルを使い、視覚化すると以下のようになる。\n",
    "\n",
    "### 図1.4 $ 6! $を計算する線形反復プロセス\n",
    "\n",
    "    (factorial 6)\n",
    "    (fact-iter   1 1 6)\n",
    "    (fact-iter   1 2 6)\n",
    "    (fact-iter   2 3 6)\n",
    "    (fact-iter   6 4 6)\n",
    "    (fact-iter  24 5 6)\n",
    "    (fact-iter 120 6 6)\n",
    "    (fact-iter 720 7 6)\n"
   ]
  },
  {
   "cell_type": "code",
   "execution_count": 9,
   "metadata": {},
   "outputs": [],
   "source": [
    ";階乗の計算の様子を出力させてみた。\n",
    "(define (factorial4 n)\n",
    "  (fact-iter2 1 1 n))\n",
    "(define (fact-iter2 product counter max-count)\n",
    "  (if (> counter max-count)\n",
    "      (begin\n",
    "       product\n",
    "       )\n",
    "      (begin\n",
    "       (display \"fact-iter2 \")\n",
    "       (display product)\n",
    "       (display \" \")\n",
    "       (display counter)\n",
    "       (display \" \")\n",
    "       (display max-count)\n",
    "       (newline)\n",
    "       (fact-iter2 (* counter product) (+ counter 1) max-count)\n",
    "       )\n",
    "    )\n",
    "  )"
   ]
  },
  {
   "cell_type": "code",
   "execution_count": 10,
   "metadata": {},
   "outputs": [
    {
     "name": "stdout",
     "output_type": "stream",
     "text": [
      "fact-iter2 1 1 6\n",
      "fact-iter2 1 2 6\n",
      "fact-iter2 2 3 6\n",
      "fact-iter2 6 4 6\n",
      "fact-iter2 24 5 6\n",
      "fact-iter2 120 6 6\n"
     ]
    },
    {
     "data": {
      "text/plain": [
       "720"
      ]
     },
     "execution_count": 10,
     "metadata": {},
     "output_type": "execute_result"
    }
   ],
   "source": [
    "(factorial4 6)"
   ]
  },
  {
   "cell_type": "markdown",
   "metadata": {},
   "source": [
    "1つ目のプロセスとは対照的に、⼆つ⽬のプロセスは伸びたり縮んだりしない。  \n",
    "各ステップで記録しておく必要があるのは、どんな$n$に対しても、変数product,counter,max-countの現在の値だけである。  \n",
    "これは**反復プロセス(iterative process)**と呼ぶ。  \n",
    "⼀般的に、反復プロセスとは状態が限られた数の**状態変数(state variable)**に集約されるようなプロセスである。  \n",
    "$n!$の計算では、必要なステップ数は$n$に対して線形に増加する。  \n",
    "このようなプロセスは、**線形反復プロセス(linear iterative process)**と呼ばれる。"
   ]
  },
  {
   "cell_type": "markdown",
   "metadata": {},
   "source": [
    "反復と再帰を⽐較する際に、**再帰プロセス(process)**という概念と**再帰⼿続き(procedure)**という概念を混同しないように気をつける必要がある。  \n",
    "・⼿続きについて再帰と⾔うときは、その⼿続きの定義が(直接または間接的に)その⼿続き⾃⾝を参照しているという構⽂的事実を指している。  \n",
    "・プロセスが例えば線形再帰パターンになっていると⾔う場合は、どのようにプロセスが展開するかということである。  \n",
    "\n",
    "fact-iterのような再帰⼿続きが反復プロセスを⽣成すると⾔うのは、違和感があるかもしれない。  \n",
    "だが、状態は三つの状態変数によって完全に表せるので反復プロセスである。  \n",
    "このプロセスではインタプリタは三つの変数を記録しておくだけで実行することができる。   \n",
    "\n",
    "⼀般的な⾔語(AdaやPascal、C⾔語を含む)のほとんどの実装では、   \n",
    "再帰⼿続きの解釈には必ず⼿続き呼び出しの回数に⽐例してメモリを消費するように設計されているため、  \n",
    "これらの言語ではプロセスと手続きの区別しにくい。  \n",
    "(これらの言語での再帰手続きでは、スタックを使用して実装しているため、再帰プロセス・反復プロセスのいずれにしてもメモリを消費してしまう)  \n",
    "\n",
    "そのため、このような⾔語では、反復⼿続きを記述する専⽤の  \n",
    "**“ループ構造”** do, repeat, until, for, whileが用意されている。  \n",
    "第5 章で考えるSchemeの実装には、この⽋点がない。\n",
    "反復プロセスは、再帰⼿続きとして記述されていても、固定の空間(メモリ)で実⾏できる。\n",
    "この性質を持った実装は**末尾再帰(tail-recursive)**と呼ばれる。\n"
   ]
  },
  {
   "cell_type": "markdown",
   "metadata": {},
   "source": [
    "##### 練習問題\n",
    "- [練習問題1.09 加算のプロセスの図示](../exercises/1.09.ipynb)\n",
    "- [練習問題1.10 アッカーマン関数](../exercises/1.10.ipynb)"
   ]
  }
 ],
 "metadata": {
  "kernelspec": {
   "display_name": "Calysto Scheme 3",
   "language": "scheme",
   "name": "calysto_scheme"
  },
  "language_info": {
   "codemirror_mode": {
    "name": "scheme"
   },
   "mimetype": "text/x-scheme",
   "name": "scheme",
   "pygments_lexer": "scheme"
  }
 },
 "nbformat": 4,
 "nbformat_minor": 4
}
