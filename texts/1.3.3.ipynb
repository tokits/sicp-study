{
 "cells": [
  {
   "cell_type": "markdown",
   "metadata": {},
   "source": [
    "### 1.3.3 汎用手法としての手続き"
   ]
  },
  {
   "cell_type": "markdown",
   "metadata": {},
   "source": [
    "**区間⼆分法によって⽅程式の根を求める**"
   ]
  },
  {
   "cell_type": "code",
   "execution_count": 1,
   "metadata": {},
   "outputs": [
    {
     "data": {
      "text/plain": [
       "#t"
      ]
     },
     "execution_count": 1,
     "metadata": {},
     "output_type": "execute_result"
    }
   ],
   "source": [
    "(define positive? (lambda (x)(>= x 0)))\n",
    "(positive? -9)\n",
    "(define negative? (lambda (x)(not (positive? x))))\n",
    "(negative? -1)"
   ]
  },
  {
   "cell_type": "code",
   "execution_count": 2,
   "metadata": {},
   "outputs": [],
   "source": [
    "(define (close-enough? x y)\n",
    "  (< (abs (- x y)) 0.001)\n",
    "  )"
   ]
  },
  {
   "cell_type": "code",
   "execution_count": 3,
   "metadata": {},
   "outputs": [],
   "source": [
    "(define (average x y)(/ (+ x y) 2))"
   ]
  },
  {
   "cell_type": "code",
   "execution_count": 4,
   "metadata": {},
   "outputs": [],
   "source": [
    "(define (search f neg-point pos-point)\n",
    "  (let ((midpoint (average neg-point pos-point)))\n",
    "    (if (close-enough? neg-point pos-point) midpoint\n",
    "        (let ((test-value (f midpoint)))\n",
    "          (cond ((positive? test-value)(search f neg-point midpoint))\n",
    "                ((negative? test-value) (search f midpoint pos-point))\n",
    "                (else midpoint))\n",
    "          )\n",
    "        )\n",
    "    )\n",
    "  )"
   ]
  },
  {
   "cell_type": "code",
   "execution_count": 5,
   "metadata": {},
   "outputs": [],
   "source": [
    "(define (half-interval-method f a b)\n",
    "  (let ((a-value (f a))\n",
    "        (b-value (f b)))\n",
    "    (cond ((and (negative? a-value) (positive? b-value)) (search f a b))\n",
    "          ((and (negative? b-value) (positive? a-value)) (search f b a))\n",
    "          (else (error \"Values are not of opposite sign\" a b)))\n",
    "    )\n",
    "  )"
   ]
  },
  {
   "cell_type": "code",
   "execution_count": 6,
   "metadata": {},
   "outputs": [
    {
     "name": "stdout",
     "output_type": "stream",
     "text": [
      "3.14111328125\n",
      "3.141592653589793\n"
     ]
    }
   ],
   "source": [
    "(import \"math\")\n",
    "(display (half-interval-method math.sin 2.0 4.0))\n",
    "(newline)\n",
    "(display math.pi)\n",
    "(newline)"
   ]
  },
  {
   "cell_type": "code",
   "execution_count": 7,
   "metadata": {},
   "outputs": [
    {
     "data": {
      "text/plain": [
       "1.89306640625"
      ]
     },
     "execution_count": 7,
     "metadata": {},
     "output_type": "execute_result"
    }
   ],
   "source": [
    "(half-interval-method (lambda (x) (- (* x x x) (* 2 x) 3)) 1.0 2.0)"
   ]
  },
  {
   "cell_type": "markdown",
   "metadata": {},
   "source": [
    "**関数の不動点を求める**"
   ]
  },
  {
   "cell_type": "code",
   "execution_count": 8,
   "metadata": {},
   "outputs": [],
   "source": [
    "(define tolerance 0.00001)\n",
    "\n",
    "(define (fixed-point f first-guess)\n",
    "  (define (close-enough? v1 v2)\n",
    "    (begin\n",
    "     (display v1)\n",
    "     (display \" \")\n",
    "     (display v2)\n",
    "     (newline)\n",
    "     (< (abs (- v1 v2)) tolerance)\n",
    "     )\n",
    "    )\n",
    "  ;tryは予約後になっているようで名前を変えないと動作しなかった\n",
    "  (define (try-tmp guess)\n",
    "    ;(display first-guess)\n",
    "    ;(newline)\n",
    "    (let ((next (f guess)))\n",
    "      (if (close-enough? guess next) next\n",
    "          (try-tmp next)))\n",
    "    )\n",
    "  (try-tmp first-guess)\n",
    "  )"
   ]
  },
  {
   "cell_type": "code",
   "execution_count": 9,
   "metadata": {},
   "outputs": [
    {
     "name": "stdout",
     "output_type": "stream",
     "text": [
      "0.54030230586813981.0 0.5403023058681398\n",
      "0.5403023058681398 0.8575532158463933\n",
      "0.8575532158463933 0.6542897904977792\n",
      "0.6542897904977792 0.7934803587425655\n",
      "0.7934803587425655 0.7013687736227566\n",
      "0.7013687736227566 0.7639596829006542\n",
      "0.7639596829006542 0.7221024250267077\n",
      "0.7221024250267077 0.7504177617637605\n",
      "0.7504177617637605 0.7314040424225098\n",
      "0.7314040424225098 0.7442373549005569\n",
      "0.7442373549005569 0.7356047404363473\n",
      "0.7356047404363473 0.7414250866101093\n",
      "0.7414250866101093 0.7375068905132428\n",
      "0.7375068905132428 0.7401473355678757\n",
      "0.7401473355678757 0.7383692041223232\n",
      "0.7383692041223232 0.739567202212256\n",
      "0.739567202212256 0.7387603198742114\n",
      "0.7387603198742114 0.7393038923969057\n",
      "0.7393038923969057 0.7389377567153446\n",
      "0.7389377567153446 0.7391843997714936\n",
      "0.7391843997714936 0.7390182624274122\n",
      "0.7390182624274122 0.7391301765296711\n",
      "0.7391301765296711 0.7390547907469175\n",
      "0.7390547907469175 0.7391055719265361\n",
      "0.7391055719265361 0.739071365298945\n",
      "0.739071365298945 0.7390944073790912\n",
      "0.7390944073790912 0.7390788859949922\n",
      "0.7390788859949922 0.7390893414033927\n",
      "0.7390893414033927 0.7390822985224023\n"
     ]
    },
    {
     "data": {
      "text/plain": [
       "0.7390822985224023"
      ]
     },
     "execution_count": 9,
     "metadata": {},
     "output_type": "execute_result"
    }
   ],
   "source": [
    "(display (math.cos 1.0))\n",
    "(fixed-point math.cos 1.0)"
   ]
  },
  {
   "cell_type": "code",
   "execution_count": 10,
   "metadata": {},
   "outputs": [
    {
     "name": "stdout",
     "output_type": "stream",
     "text": [
      "1.0 1.3817732906760363\n",
      "1.3817732906760363 1.1700876970971783\n",
      "1.1700876970971783 1.3108557450190208\n",
      "1.3108557450190208 1.2234283819604843\n",
      "1.2234283819604843 1.2806961256602427\n",
      "1.2806961256602427 1.2442634587575785\n",
      "1.2442634587575785 1.2679211886945934\n",
      "1.2679211886945934 1.2527485860569307\n",
      "1.2527485860569307 1.2625605329565772\n",
      "1.2625605329565772 1.256248323727693\n",
      "1.256248323727693 1.2603230004268888\n",
      "1.2603230004268888 1.2576984377593448\n",
      "1.2576984377593448 1.2593913555020237\n",
      "1.2593913555020237 1.2583003677191482\n",
      "1.2583003677191482 1.259003859740025\n",
      "1.259003859740025 1.258550404740362\n",
      "1.258550404740362 1.2588427629092847\n",
      "1.2588427629092847 1.2586542990963892\n",
      "1.2586542990963892 1.2587758014705528\n",
      "1.2587758014705528 1.2586974741689443\n",
      "1.2586974741689443 1.2587479705055358\n",
      "1.2587479705055358 1.2587154172236281\n",
      "1.2587154172236281 1.258736403592101\n",
      "1.258736403592101 1.2587228743052672\n",
      "1.2587228743052672 1.2587315962971173\n"
     ]
    },
    {
     "data": {
      "text/plain": [
       "1.2587315962971173"
      ]
     },
     "execution_count": 10,
     "metadata": {},
     "output_type": "execute_result"
    }
   ],
   "source": [
    "(fixed-point (lambda (y) (+ (math.sin y) (math.cos y))) 1.0)"
   ]
  },
  {
   "cell_type": "code",
   "execution_count": 12,
   "metadata": {},
   "outputs": [],
   "source": [
    "(define (square x)(* x x))\n",
    "(define (sqrt x)\n",
    "  (fixed-point (lambda (y) (/ x y)) 1.0)\n",
    "  )\n",
    "; 以下を実行すると、2つの値の繰り返しとなり、収束しない\n",
    ";(sqrt 2)"
   ]
  },
  {
   "cell_type": "code",
   "execution_count": 13,
   "metadata": {},
   "outputs": [
    {
     "name": "stdout",
     "output_type": "stream",
     "text": [
      "1.0 1.5\n",
      "1.5 1.4166666666666665\n",
      "1.4166666666666665 1.4142156862745097\n",
      "1.4142156862745097 1.4142135623746899\n"
     ]
    },
    {
     "data": {
      "text/plain": [
       "1.4142135623746899"
      ]
     },
     "execution_count": 13,
     "metadata": {},
     "output_type": "execute_result"
    }
   ],
   "source": [
    "; 平均緩和法にすると、求めることができる。\n",
    "(define (sqrt x)\n",
    "  (fixed-point (lambda (y) (average y (/ x y))) 1.0)\n",
    "  )\n",
    "(sqrt 2)"
   ]
  }
 ],
 "metadata": {
  "kernelspec": {
   "display_name": "Calysto Scheme 3",
   "language": "scheme",
   "name": "calysto_scheme"
  },
  "language_info": {
   "codemirror_mode": {
    "name": "scheme"
   },
   "mimetype": "text/x-scheme",
   "name": "scheme",
   "pygments_lexer": "scheme"
  }
 },
 "nbformat": 4,
 "nbformat_minor": 4
}
