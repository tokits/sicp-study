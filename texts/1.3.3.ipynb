{
 "cells": [
  {
   "cell_type": "markdown",
   "metadata": {},
   "source": [
    "### 1.3.3 汎用手法としての手続き"
   ]
  },
  {
   "cell_type": "markdown",
   "metadata": {},
   "source": [
    "**区間⼆分法によって⽅程式の根を求める**"
   ]
  },
  {
   "cell_type": "code",
   "execution_count": 1,
   "metadata": {},
   "outputs": [
    {
     "data": {
      "text/plain": [
       "#t"
      ]
     },
     "execution_count": 1,
     "metadata": {},
     "output_type": "execute_result"
    }
   ],
   "source": [
    "(define positive? (lambda (x)(>= x 0)))\n",
    "(positive? -9)\n",
    "(define negative? (lambda (x)(not (positive? x))))\n",
    "(negative? -1)"
   ]
  },
  {
   "cell_type": "code",
   "execution_count": 2,
   "metadata": {},
   "outputs": [],
   "source": [
    "(define (close-enough? x y)\n",
    "  (< (abs (- x y)) 0.001)\n",
    "  )"
   ]
  },
  {
   "cell_type": "code",
   "execution_count": 3,
   "metadata": {},
   "outputs": [],
   "source": [
    "(define (average x y)(/ (+ x y) 2))"
   ]
  },
  {
   "cell_type": "code",
   "execution_count": 4,
   "metadata": {},
   "outputs": [],
   "source": [
    "(define (search f neg-point pos-point)\n",
    "  (let ((midpoint (average neg-point pos-point)))\n",
    "    (if (close-enough? neg-point pos-point) midpoint\n",
    "        (let ((test-value (f midpoint)))\n",
    "          (cond ((positive? test-value)(search f neg-point midpoint))\n",
    "                ((negative? test-value) (search f midpoint pos-point))\n",
    "                (else midpoint))\n",
    "          )\n",
    "        )\n",
    "    )\n",
    "  )"
   ]
  },
  {
   "cell_type": "code",
   "execution_count": 5,
   "metadata": {},
   "outputs": [],
   "source": [
    "(define (half-interval-method f a b)\n",
    "  (let ((a-value (f a))\n",
    "        (b-value (f b)))\n",
    "    (cond ((and (negative? a-value) (positive? b-value)) (search f a b))\n",
    "          ((and (negative? b-value) (positive? a-value)) (search f b a))\n",
    "          (else (error \"Values are not of opposite sign\" a b)))\n",
    "    )\n",
    "  )"
   ]
  },
  {
   "cell_type": "code",
   "execution_count": 6,
   "metadata": {},
   "outputs": [
    {
     "name": "stdout",
     "output_type": "stream",
     "text": [
      "0.9999996062176211\n",
      "0.7078137390961456\n",
      "-0.0007881745995330647\n",
      "0.9999996062176211\n"
     ]
    }
   ],
   "source": [
    "(define pi 3.1415926535897932384626433832795)\n",
    "\n",
    "(define (cube x)\n",
    "  (* x x x)\n",
    "  )\n",
    "(define (p x)\n",
    "  (begin\n",
    "   ;(display \"p \")\n",
    "   ;(display x)\n",
    "   ;(newline)\n",
    "   (- (* 3 x) (* 4 (cube x)))\n",
    "    )\n",
    "  )\n",
    "(define (sin angle)\n",
    "  (if (not (> (abs angle) 0.1)) angle\n",
    "      (p (sin (/ angle 3.0))))\n",
    "  )\n",
    "(define (cos angle)(sin (+ angle (/ pi 2.0))))\n",
    "\n",
    "(display (sin (/ pi 2)))\n",
    "(newline)\n",
    "(display (sin (/ pi 4)))\n",
    "(newline)\n",
    "(display (cos (/ pi 2)))\n",
    "(newline)\n",
    "(display (cos 0))\n",
    "(newline)"
   ]
  },
  {
   "cell_type": "code",
   "execution_count": 7,
   "metadata": {},
   "outputs": [
    {
     "data": {
      "text/plain": [
       "3.14111328125"
      ]
     },
     "execution_count": 7,
     "metadata": {},
     "output_type": "execute_result"
    }
   ],
   "source": [
    "(half-interval-method sin 2.0 4.0)"
   ]
  },
  {
   "cell_type": "code",
   "execution_count": 8,
   "metadata": {},
   "outputs": [
    {
     "data": {
      "text/plain": [
       "1.89306640625"
      ]
     },
     "execution_count": 8,
     "metadata": {},
     "output_type": "execute_result"
    }
   ],
   "source": [
    "(half-interval-method (lambda (x) (- (* x x x) (* 2 x) 3)) 1.0 2.0)"
   ]
  },
  {
   "cell_type": "markdown",
   "metadata": {},
   "source": [
    "**関数の不動点を求める**"
   ]
  },
  {
   "cell_type": "code",
   "execution_count": 9,
   "metadata": {},
   "outputs": [],
   "source": [
    "(define tolerance 0.00001)\n",
    "\n",
    "(define (fixed-point f first-guess)\n",
    "  (define (close-enough? v1 v2)\n",
    "    (begin\n",
    "     (display v1)\n",
    "     (display \" \")\n",
    "     (display v2)\n",
    "     (newline)\n",
    "     (< (abs (- v1 v2)) tolerance)\n",
    "     )\n",
    "    )\n",
    "  ;tryは予約後になっているようで名前を変えないと動作しなかった\n",
    "  (define (try-tmp guess)\n",
    "    ;(display first-guess)\n",
    "    ;(newline)\n",
    "    (let ((next (f guess)))\n",
    "      (if (close-enough? guess next) next\n",
    "          (try-tmp next)))\n",
    "    )\n",
    "  (try-tmp first-guess)\n",
    "  )"
   ]
  },
  {
   "cell_type": "code",
   "execution_count": 10,
   "metadata": {},
   "outputs": [
    {
     "name": "stdout",
     "output_type": "stream",
     "text": [
      "0.53701618530832821.0 0.5370161853083282\n",
      "0.5370161853083282 0.858138671193649\n",
      "0.858138671193649 0.6513554775849022\n",
      "0.6513554775849022 0.7937346653477491\n",
      "0.7937346653477491 0.6990218657372458\n",
      "0.6990218657372458 0.7637433355089667\n",
      "0.7637433355089667 0.7202303374148953\n",
      "0.7202303374148953 0.7498317925242546\n",
      "0.7498317925242546 0.72984679508038\n",
      "0.72984679508038 0.7434113192088478\n",
      "0.7434113192088478 0.7342369713231287\n",
      "0.7342369713231287 0.7404570721360217\n",
      "0.7404570721360217 0.7362467575076397\n",
      "0.7362467575076397 0.7390998281011332\n",
      "0.7390998281011332 0.7371679207334476\n",
      "0.7371679207334476 0.7384767420198659\n",
      "0.7384767420198659 0.7375903506483779\n",
      "0.7375903506483779 0.7381907934978074\n",
      "0.7381907934978074 0.7377841166031545\n",
      "0.7377841166031545 0.7380595861769967\n",
      "0.7380595861769967 0.7378730056062159\n",
      "0.7378730056062159 0.7379993862152996\n",
      "0.7379993862152996 0.7379137849700059\n",
      "0.7379137849700059 0.7379717664729113\n",
      "0.7379717664729113 0.7379324936379561\n",
      "0.7379324936379561 0.7379590947325974\n",
      "0.7379590947325974 0.7379410768507175\n",
      "0.7379410768507175 0.7379532810703318\n",
      "0.7379532810703318 0.7379450146991327\n"
     ]
    },
    {
     "data": {
      "text/plain": [
       "0.7379450146991327"
      ]
     },
     "execution_count": 10,
     "metadata": {},
     "output_type": "execute_result"
    }
   ],
   "source": [
    "(display (cos 1.0))\n",
    "(fixed-point cos 1.0)"
   ]
  },
  {
   "cell_type": "code",
   "execution_count": 11,
   "metadata": {},
   "outputs": [
    {
     "name": "stdout",
     "output_type": "stream",
     "text": [
      "1.0 1.3786107503139127\n",
      "1.3786107503139127 1.172068010904071\n",
      "1.172068010904071 1.3094617960316206\n",
      "1.3094617960316206 1.223961928361537\n",
      "1.223961928361537 1.2799966173477741\n",
      "1.2799966173477741 1.2443066441498813\n",
      "1.2443066441498813 1.2674983254283063\n",
      "1.2674983254283063 1.2526103645900866\n",
      "1.2526103645900866 1.2622458082685197\n",
      "1.2622458082685197 1.2560416453009111\n",
      "1.2560416453009111 1.260049872405282\n",
      "1.260049872405282 1.257465885402727\n",
      "1.257465885402727 1.2591340271501232\n",
      "1.2591340271501232 1.2580580895598348\n",
      "1.2580580895598348 1.2587524621113062\n",
      "1.2587524621113062 1.258304505322554\n",
      "1.258304505322554 1.2585935628401397\n",
      "1.2585935628401397 1.2584070687844462\n",
      "1.2584070687844462 1.2585274030301794\n",
      "1.2585274030301794 1.2584497630503142\n",
      "1.2584497630503142 1.2584998586643725\n",
      "1.2584998586643725 1.2584675363606257\n",
      "1.2584675363606257 1.2584883914690304\n",
      "1.2584883914690304 1.2584749354147513\n",
      "1.2584749354147513 1.2584836175420355\n"
     ]
    },
    {
     "data": {
      "text/plain": [
       "1.2584836175420355"
      ]
     },
     "execution_count": 11,
     "metadata": {},
     "output_type": "execute_result"
    }
   ],
   "source": [
    "(fixed-point (lambda (y) (+ (sin y) (cos y))) 1.0)"
   ]
  }
 ],
 "metadata": {
  "kernelspec": {
   "display_name": "Calysto Scheme 3",
   "language": "scheme",
   "name": "calysto_scheme"
  },
  "language_info": {
   "codemirror_mode": {
    "name": "scheme"
   },
   "mimetype": "text/x-scheme",
   "name": "scheme",
   "pygments_lexer": "scheme"
  }
 },
 "nbformat": 4,
 "nbformat_minor": 4
}
