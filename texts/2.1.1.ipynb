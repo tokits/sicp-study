{
 "cells": [
  {
   "cell_type": "markdown",
   "metadata": {},
   "source": [
    "# 2 データを用いた抽象化の構築\n",
    "\n",
    "概要の詳細はテキストを参照されたし。  \n",
    "ここでは重要と思われる内容について説明を記述する。  \n",
    "\n",
    "第１章の⼿続きは全て単純な数値データを処理するものだった。  \n",
    "一般的にコンピュータで解決したい問題の多くは、  \n",
    "単純なデータは⼗分ではなく、複雑な現象をモデル化する必要がある。  \n",
    "この章では、このような問題に対応すべく、複雑なデータ構造を見ていく。\n",
    "\n",
    "プログラミング言語には、\n",
    "既存のデータオブジェクトを組み合わせて **複合データ(compound data)**   \n",
    "を作る手段が用意(テキストでは糊と表現)されている。  \n",
    "なぜ、複合データが必要かというと、  \n",
    "複合手続きが必要でる理由と同じで、\n",
    "プログラムを設計する概念レベルを引き上げ、  \n",
    "設計のモジュール性を⾼め、⾔語の表現⼒を強くしたいからである。  \n",
    "\n",
    "- **複合データオブジェクト**\n",
    "- **データ抽象化**  \n",
    "ここで例として、2つの整数 分子と分母で表現した有理数を考える。  \n",
    "1つ目の有理数を$x=\\frac{n_x}{m_x}$、  \n",
    "2つ目の有理数を$y=\\frac{n_y}{m_y}$\n",
    "とすると、  \n",
    "2つの有理数の和と積は、  \n",
    "$x + y = \\frac{m_y n_x + m_x n_y}{m_x m_y}$  \n",
    "$x \\cdot y = \\frac{n_x n_y}{m_x m_y}$  \n",
    "となる。  \n",
    "ここで線形結合 $ax+by$ を考えた場合、  \n",
    "$n_x,m_x,n_y,m_y$で記載すると、煩雑になってしまう。  \n",
    "プログラミング上でも、$ax+by$ として記述したほうが簡潔であり、分かりやすい。  \n",
    "また、手続きの引数や変数も$n_x,m_x,n_y,m_y$ではなく、$x,y$として考えたい。  \n",
    "これがデータ抽象化の考え方であり、$x,y$のそれぞれが複合データである。  \n",
    "（プログラムで具体的に表現された複合データ＝複合データオブジェクト）  \n",
    "もっと言うとデータ抽象化とは、  \n",
    "プログラムの中のデータオブジェクトをどうやって表すかを扱う部分と、  \n",
    "データオブジェクトをどうやって使うかを扱う部分とを分離して設計することである。\n",
    "\n",
    "- **抽象化の壁**  ・・・「図2.1」参照  \n",
    "糊として使うものには、いろいろな種類のものがありえる。  \n",
    "その例として、特別なデータ操作(cons)をまったく使わないでも、  \n",
    "⼿続きだけを使って複合データを作ることができるということを見ていく。  \n",
    "[時田所感]  \n",
    "後述される「⼿続きだけを使って複合データを作ることができる」については興味深い。  \n",
    "関数型言語の特徴、ファーストクラスの地位というのを、もっともよく体現しているように思えるから。  \n",
    "\n",
    "- **クロージャ**  \n",
    "  データオブジェクトを組み合わせるのに使う糊が、基本データオブジェクトだけでなく、  \n",
    "  複合データオブジェクトも組み合わせられるようになっていなければいけないということ。  \n",
    "  「2.2 階層データと閉包性」の注釈6参照。\n",
    "  ・・・一般的に言われているクロージャとちょっと違うと言っている。\n",
    "     https://ja.wikipedia.org/wiki/%E3%82%AF%E3%83%AD%E3%83%BC%E3%82%B8%E3%83%A3#%E3%82%AF%E3%83%AD%E3%83%BC%E3%82%B8%E3%83%A3%E3%82%92%E6%8C%81%E3%81%A4%E3%83%97%E3%83%AD%E3%82%B0%E3%83%A9%E3%83%9F%E3%83%B3%E3%82%B0%E8%A8%80%E8%AA%9E\n",
    "\n",
    "- **標準インターフェイス**  ・・・「2.2.3 標準インターフェイスとしての列 」、「2.2.4 例:図形⾔語」参照\n",
    "\n",
    "- **記号式**  ・・・「2.3 記号データ」参照\n",
    "\n",
    "- **ジェネリック演算**  ・・・「2.5.1 ジェネリック算術演算」\n",
    "\n",
    "- **データ主導プログラミング**  \n",
    "  データ表現を独⽴して設計し、それらを加法的(additively)に  \n",
    "  (つまり、修正なしに)組み合わせられるようにするプログラミングのテクニック・手法"
   ]
  },
  {
   "cell_type": "markdown",
   "metadata": {},
   "source": [
    "## 2.1 データ抽象化入門\n",
    "\n",
    "- **データ抽象化** \n",
    " ・・・説明済み  \n",
    " データ抽象化によって、  \n",
    " 複合データオブジェクトがどう使われるかというところを、  \n",
    " それがより基本的なデータオブジェクトによってどのように構築されているかといった細かいところから  \n",
    " 分離することが可能になる。\n",
    " \n",
    "データ抽象化の基本的な考え⽅は、  \n",
    "複合データオブジェクトを使うようなプログラムを構築する際に、  \n",
    "“抽象データ”を扱うようにするということである。   \n",
    "\"具体的な\"データ表現は、  \n",
    "そのデータを使うプログラムとは独⽴に定義され、\n",
    "これら⼆つのプログラムをつなぐインターフェイスとして、  \n",
    "⼀組の⼿続きで、コンストラクタとセレクタがある。  \n",
    " \n",
    "- **コンストラクタ**  \n",
    "  オブジェクト指向言語のコンストラクタに相当。  \n",
    "  既存データオブジェクトを使って複合データオブジェクトを作る手続きのこと。  \n",
    "  \n",
    "- **セレクタ**  \n",
    "  オブジェクト指向言語のgetterに相当。  \n",
    "  コンストラクタを使って作った複合データオブジェクトから、  \n",
    "  個別のデータオブジェクトを取り出す手続きのこと。"
   ]
  },
  {
   "cell_type": "markdown",
   "metadata": {},
   "source": [
    "### 2.1.1 例：有理数の数値演算\n",
    "\n",
    "ここでは、有理数を使って数値演算を行う場合を考える。  \n",
    "分⼦と分⺟から有理数を構築する⽅法はすでに持っていると仮定する。  \n",
    "(・・・**希望的思考**)\n",
    "\n",
    "有理数が与えられたときに、その分⼦と分⺟を抽出(セレクト)する⽅法もあるとする。  \n",
    "さらに、コンストラクタとセレクタは⼿続きとして使うことができるとする。  \n",
    "\n",
    "- (make-rat ⟨n⟩⟨d⟩)は、分⼦が整数⟨n⟩で分⺟が整数⟨d⟩である有理数を返す。[コンストラクタ]\n",
    "- (numer ⟨x⟩)は、有理数⟨x⟩の分⼦を返す。[セレクタ]\n",
    "- (denom ⟨x⟩)は、有理数⟨x⟩の分⺟を返す。[セレクタ]"
   ]
  },
  {
   "cell_type": "code",
   "execution_count": 1,
   "metadata": {},
   "outputs": [],
   "source": [
    "; 有理数の加算\n",
    "(define (add-rat x y)\n",
    "  (make-rat (+ (* (numer x) (denom y))\n",
    "               (* (numer y) (denom x)))\n",
    "            (* (denom x) (denom y))))\n",
    "; 有理数の減算\n",
    "(define (sub-rat x y)\n",
    "  (make-rat (- (* (numer x) (denom y))\n",
    "               (* (numer y) (denom x)))\n",
    "            (* (denom x) (denom y))))\n",
    "; 有理数の乗算\n",
    "(define (mul-rat x y)\n",
    "  (make-rat (* (numer x) (numer y))\n",
    "            (* (denom x) (denom y))))\n",
    "; 有理数の除算\n",
    "(define (div-rat x y)\n",
    "  (make-rat (* (numer x) (denom y))\n",
    "            (* (denom x) (numer y))))\n",
    "; 2つの有理数が等しいか\n",
    "(define (equal-rat? x y)\n",
    "  (= (* (numer x) (denom y))\n",
    "     (* (numer y) (denom x))))"
   ]
  },
  {
   "cell_type": "markdown",
   "metadata": {},
   "source": [
    "#### ペア\n",
    "Schemeは、ペアの構築として、cons手続きを用意されている。  \n",
    "また、ペアからデータを取り出すための手続きとして、\n",
    "\n",
    "- car手続き・・・ペアの1つ目の要素を取り出す。\n",
    "- cdr手続き・・・ペアの2つ目の要素を取り出す。\n",
    "\n",
    "がある。  \n",
    "これらが概要にあった糊である。\n",
    "ペアによって構築されるデータオブジェクトは**リスト構造**(list-structured)と呼ばれる。"
   ]
  },
  {
   "cell_type": "code",
   "execution_count": 2,
   "metadata": {},
   "outputs": [],
   "source": [
    "; ペアの構築\n",
    "(define x (cons 1 2))"
   ]
  },
  {
   "cell_type": "code",
   "execution_count": 3,
   "metadata": {},
   "outputs": [
    {
     "data": {
      "text/plain": [
       "1"
      ]
     },
     "execution_count": 3,
     "metadata": {},
     "output_type": "execute_result"
    }
   ],
   "source": [
    "; カーと呼び、ペア(リスト)の先頭を返す。\n",
    "(car x)"
   ]
  },
  {
   "cell_type": "code",
   "execution_count": 4,
   "metadata": {},
   "outputs": [
    {
     "data": {
      "text/plain": [
       "2"
      ]
     },
     "execution_count": 4,
     "metadata": {},
     "output_type": "execute_result"
    }
   ],
   "source": [
    "; クダーと呼び、ペアの後尾を返す。\n",
    "; リストの場合は先頭を除いたリストを返す。\n",
    "(cdr x)"
   ]
  },
  {
   "cell_type": "code",
   "execution_count": 5,
   "metadata": {},
   "outputs": [],
   "source": [
    "(define x (cons 1 2))\n",
    "(define y (cons 3 4))\n",
    "; ペアを組み合わせて、更にペアを構築することができる。\n",
    "(define z (cons x y))"
   ]
  },
  {
   "cell_type": "code",
   "execution_count": 6,
   "metadata": {},
   "outputs": [
    {
     "data": {
      "text/plain": [
       "((1 . 2) 3 . 4)"
      ]
     },
     "execution_count": 6,
     "metadata": {},
     "output_type": "execute_result"
    }
   ],
   "source": [
    "z"
   ]
  },
  {
   "cell_type": "code",
   "execution_count": 7,
   "metadata": {},
   "outputs": [
    {
     "data": {
      "text/plain": [
       "(1 . 2)"
      ]
     },
     "execution_count": 7,
     "metadata": {},
     "output_type": "execute_result"
    }
   ],
   "source": [
    "(car z)"
   ]
  },
  {
   "cell_type": "code",
   "execution_count": 8,
   "metadata": {},
   "outputs": [
    {
     "data": {
      "text/plain": [
       "(3 . 4)"
      ]
     },
     "execution_count": 8,
     "metadata": {},
     "output_type": "execute_result"
    }
   ],
   "source": [
    "(cdr z)"
   ]
  },
  {
   "cell_type": "code",
   "execution_count": 9,
   "metadata": {},
   "outputs": [
    {
     "data": {
      "text/plain": [
       "1"
      ]
     },
     "execution_count": 9,
     "metadata": {},
     "output_type": "execute_result"
    }
   ],
   "source": [
    "(car (car z))"
   ]
  },
  {
   "cell_type": "code",
   "execution_count": 10,
   "metadata": {},
   "outputs": [
    {
     "data": {
      "text/plain": [
       "2"
      ]
     },
     "execution_count": 10,
     "metadata": {},
     "output_type": "execute_result"
    }
   ],
   "source": [
    "(cdr (car z))"
   ]
  },
  {
   "cell_type": "code",
   "execution_count": 11,
   "metadata": {},
   "outputs": [
    {
     "data": {
      "text/plain": [
       "3"
      ]
     },
     "execution_count": 11,
     "metadata": {},
     "output_type": "execute_result"
    }
   ],
   "source": [
    "(car (cdr z))"
   ]
  },
  {
   "cell_type": "code",
   "execution_count": 12,
   "metadata": {},
   "outputs": [
    {
     "data": {
      "text/plain": [
       "4"
      ]
     },
     "execution_count": 12,
     "metadata": {},
     "output_type": "execute_result"
    }
   ],
   "source": [
    "(cdr (cdr z))"
   ]
  },
  {
   "cell_type": "code",
   "execution_count": 13,
   "metadata": {},
   "outputs": [],
   "source": [
    "; リストは2.2に説明あり\n",
    "(define x (list 1 2 3))"
   ]
  },
  {
   "cell_type": "code",
   "execution_count": 14,
   "metadata": {},
   "outputs": [
    {
     "data": {
      "text/plain": [
       "1"
      ]
     },
     "execution_count": 14,
     "metadata": {},
     "output_type": "execute_result"
    }
   ],
   "source": [
    "(car x)"
   ]
  },
  {
   "cell_type": "code",
   "execution_count": 15,
   "metadata": {},
   "outputs": [
    {
     "data": {
      "text/plain": [
       "(2 3)"
      ]
     },
     "execution_count": 15,
     "metadata": {},
     "output_type": "execute_result"
    }
   ],
   "source": [
    "(cdr x)"
   ]
  },
  {
   "cell_type": "markdown",
   "metadata": {},
   "source": [
    "#### 有理数を表現する\n",
    "\n",
    "ペアを使って、分子と分母の2つの整数を表す。"
   ]
  },
  {
   "cell_type": "code",
   "execution_count": 16,
   "metadata": {},
   "outputs": [],
   "source": [
    "; コンストラクタ(2つの正数を渡して有理数を構成する)\n",
    "(define (make-rat n d) (cons n d))\n",
    "; セレクタ(分子を返す)\n",
    "(define (numer x) (car x))\n",
    "; セレクタ(分母を返す)\n",
    "(define (denom x) (cdr x))"
   ]
  },
  {
   "cell_type": "markdown",
   "metadata": {},
   "source": [
    "この本では有理数のコンストラクタとセレクタを  \n",
    "以下のように実装しないことに注意。  \n",
    "このようにすると手続きの呼び出しは効率よくなるが、  \n",
    "デバッグがしにくくなるため。  \n",
    "\n",
    "    (define make-rat cons)\n",
    "    (define numer car)\n",
    "    (define denom cdr)"
   ]
  },
  {
   "cell_type": "code",
   "execution_count": 17,
   "metadata": {},
   "outputs": [],
   "source": [
    "; 有理数の表示\n",
    "(define (print-rat x)\n",
    "  (newline)\n",
    "  (display (numer x))\n",
    "  (display \"/\")\n",
    "  (display (denom x)))"
   ]
  },
  {
   "cell_type": "code",
   "execution_count": 18,
   "metadata": {},
   "outputs": [
    {
     "name": "stdout",
     "output_type": "stream",
     "text": [
      "\n",
      "1/2\n",
      "5/6\n",
      "1/6\n",
      "6/9\n",
      "2/-4"
     ]
    }
   ],
   "source": [
    "(define one-half (make-rat 1 2))\n",
    "(print-rat one-half)\n",
    "(define one-third (make-rat 1 3))\n",
    "(print-rat (add-rat one-half one-third))\n",
    "(print-rat (mul-rat one-half one-third))\n",
    "(print-rat (add-rat one-third one-third))\n",
    "(print-rat (make-rat 2 -4))"
   ]
  },
  {
   "cell_type": "markdown",
   "metadata": {},
   "source": [
    "最後の例からわかるように、  \n",
    "この有理数計算の実装は有理数を既約のものに簡約してくれない。  \n",
    "これを直すには、make-ratを修正します。1.2.5節で扱ったような、  \n",
    "⼆つの整数の最⼤公約数を返すgcd⼿続きがあれば、  \n",
    "ペアを構築する前にgcdを使って分⼦と分⺟を既約にできる。\n",
    "この修正はコンストラクタmake-ratの変更だけで完了し、  \n",
    "実際の演算を実装する(add-ratやmul-ratといった)⼿続きはどれも変更する必要ない。"
   ]
  },
  {
   "cell_type": "code",
   "execution_count": 19,
   "metadata": {},
   "outputs": [],
   "source": [
    "; 分子と分母の既約\n",
    "(define (make-rat n d)\n",
    "  (let ((g (gcd n d)))\n",
    "    (cons (/ n g) (/ d g))\n",
    "    )\n",
    "  )\n",
    "(define (gcd a b)\n",
    "  (if (= b 0) a\n",
    "       (gcd b (remainder a b))\n",
    "    )\n",
    "  )"
   ]
  },
  {
   "cell_type": "code",
   "execution_count": 20,
   "metadata": {},
   "outputs": [
    {
     "name": "stdout",
     "output_type": "stream",
     "text": [
      "\n",
      "2/3"
     ]
    }
   ],
   "source": [
    "(print-rat (add-rat one-third one-third))"
   ]
  }
 ],
 "metadata": {
  "kernelspec": {
   "display_name": "Calysto Scheme 3",
   "language": "scheme",
   "name": "calysto_scheme"
  },
  "language_info": {
   "codemirror_mode": {
    "name": "scheme"
   },
   "mimetype": "text/x-scheme",
   "name": "scheme",
   "pygments_lexer": "scheme"
  }
 },
 "nbformat": 4,
 "nbformat_minor": 4
}
