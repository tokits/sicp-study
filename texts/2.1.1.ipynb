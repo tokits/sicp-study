{
 "cells": [
  {
   "cell_type": "markdown",
   "metadata": {},
   "source": [
    "# 2 データを用いた抽象化の構築\n",
    "\n",
    "**複合データ**  \n",
    "**複合データオブジェクト**  \n",
    "**データ抽象化**  \n",
    "**抽象化の壁**  \n",
    "**クロージャ**  \n",
    "**標準インターフェイス**  \n",
    "**記号式**  \n",
    "**ジェネリック演算**  \n",
    "**データ主導プログラミング**  \n",
    "**加法的**  \n"
   ]
  },
  {
   "cell_type": "markdown",
   "metadata": {},
   "source": [
    "## 2.1 データ抽象化入門\n",
    "\n",
    "**データ抽象化**  \n",
    "**セレクタ**  \n",
    "**コンストラクタ**  "
   ]
  },
  {
   "cell_type": "markdown",
   "metadata": {},
   "source": [
    "### 2.1.1 例：有理数の数値演算\n",
    "\n",
    "ここでは、有理数を使って数値演算を行う場合を考える。  \n",
    "分⼦と分⺟から有理数を構築する⽅法はすでに持っていると仮定する。  \n",
    "\n",
    "有理数が与えられたときに、その分⼦と分⺟を抽出 (セレ\n",
    "クト) する⽅法もあるとします。さらに、コンストラクタとセレクタは⼿続き\n",
    "として使うことができるとします。\n",
    "• (make-rat ⟨n⟩ ⟨d⟩) は、分⼦が整"
   ]
  },
  {
   "cell_type": "code",
   "execution_count": 1,
   "metadata": {},
   "outputs": [],
   "source": [
    "(define (add-rat x y)\n",
    "  (make-rat (+ (* (numer x) (denom y))\n",
    "               (* (numer y) (denom x)))\n",
    "            (* (denom x) (denom y))))\n",
    "(define (sub-rat x y)\n",
    "  (make-rat (- (* (numer x) (denom y))\n",
    "               (* (numer y) (denom x)))\n",
    "            (* (denom x) (denom y))))\n",
    "(define (mul-rat x y)\n",
    "  (make-rat (* (numer x) (numer y))\n",
    "            (* (denom x) (denom y))))\n",
    "(define (div-rat x y)\n",
    "  (make-rat (* (numer x) (denom y))\n",
    "            (* (denom x) (numer y))))\n",
    "(define (equal-rat? x y)\n",
    "  (= (* (numer x) (denom y))\n",
    "     (* (numer y) (denom x))))"
   ]
  },
  {
   "cell_type": "code",
   "execution_count": 2,
   "metadata": {},
   "outputs": [
    {
     "data": {
      "text/plain": [
       "2"
      ]
     },
     "execution_count": 2,
     "metadata": {},
     "output_type": "execute_result"
    }
   ],
   "source": [
    "; ペアの構築\n",
    "(define x (cons 1 2))"
   ]
  },
  {
   "cell_type": "code",
   "execution_count": 3,
   "metadata": {},
   "outputs": [
    {
     "data": {
      "text/plain": [
       "1"
      ]
     },
     "execution_count": 3,
     "metadata": {},
     "output_type": "execute_result"
    }
   ],
   "source": [
    "; カーと呼び、ペア(リスト)の先頭を返す。\n",
    "(car x)"
   ]
  },
  {
   "cell_type": "code",
   "execution_count": 4,
   "metadata": {},
   "outputs": [
    {
     "data": {
      "text/plain": [
       "2"
      ]
     },
     "execution_count": 4,
     "metadata": {},
     "output_type": "execute_result"
    }
   ],
   "source": [
    "; クダーと呼び、ペアの後尾を返す。\n",
    "; リストの場合は先頭を除いたリストを返す。\n",
    "(cdr x)"
   ]
  },
  {
   "cell_type": "code",
   "execution_count": 17,
   "metadata": {},
   "outputs": [],
   "source": [
    "(define x (cons 1 2))\n",
    "(define y (cons 3 4))\n",
    "; ペアを組み合わせて、更にペアを構築することができる。\n",
    "(define z (cons x y))"
   ]
  },
  {
   "cell_type": "code",
   "execution_count": 18,
   "metadata": {},
   "outputs": [
    {
     "data": {
      "text/plain": [
       "(1 . 2)"
      ]
     },
     "execution_count": 18,
     "metadata": {},
     "output_type": "execute_result"
    }
   ],
   "source": [
    "(car z)"
   ]
  },
  {
   "cell_type": "code",
   "execution_count": 19,
   "metadata": {},
   "outputs": [
    {
     "data": {
      "text/plain": [
       "(3 . 4)"
      ]
     },
     "execution_count": 19,
     "metadata": {},
     "output_type": "execute_result"
    }
   ],
   "source": [
    "(cdr z)"
   ]
  },
  {
   "cell_type": "code",
   "execution_count": 20,
   "metadata": {},
   "outputs": [
    {
     "data": {
      "text/plain": [
       "1"
      ]
     },
     "execution_count": 20,
     "metadata": {},
     "output_type": "execute_result"
    }
   ],
   "source": [
    "(car (car z))"
   ]
  },
  {
   "cell_type": "code",
   "execution_count": 21,
   "metadata": {},
   "outputs": [
    {
     "data": {
      "text/plain": [
       "2"
      ]
     },
     "execution_count": 21,
     "metadata": {},
     "output_type": "execute_result"
    }
   ],
   "source": [
    "(cdr (car z))"
   ]
  },
  {
   "cell_type": "code",
   "execution_count": 22,
   "metadata": {},
   "outputs": [
    {
     "data": {
      "text/plain": [
       "3"
      ]
     },
     "execution_count": 22,
     "metadata": {},
     "output_type": "execute_result"
    }
   ],
   "source": [
    "(car (cdr z))"
   ]
  },
  {
   "cell_type": "code",
   "execution_count": 23,
   "metadata": {},
   "outputs": [
    {
     "data": {
      "text/plain": [
       "4"
      ]
     },
     "execution_count": 23,
     "metadata": {},
     "output_type": "execute_result"
    }
   ],
   "source": [
    "(cdr (cdr z))"
   ]
  },
  {
   "cell_type": "code",
   "execution_count": 14,
   "metadata": {},
   "outputs": [],
   "source": [
    "; リストは2.2に説明あり\n",
    "(define x (list 1 2 3))"
   ]
  },
  {
   "cell_type": "code",
   "execution_count": 15,
   "metadata": {},
   "outputs": [
    {
     "data": {
      "text/plain": [
       "1"
      ]
     },
     "execution_count": 15,
     "metadata": {},
     "output_type": "execute_result"
    }
   ],
   "source": [
    "(car x)"
   ]
  },
  {
   "cell_type": "code",
   "execution_count": 16,
   "metadata": {},
   "outputs": [
    {
     "data": {
      "text/plain": [
       "(2 3)"
      ]
     },
     "execution_count": 16,
     "metadata": {},
     "output_type": "execute_result"
    }
   ],
   "source": [
    "(cdr x)"
   ]
  },
  {
   "cell_type": "markdown",
   "metadata": {},
   "source": [
    "#### 有理数を表現する\n",
    "\n",
    "ペアを使って、分子と分母の2つの整数を表す。"
   ]
  },
  {
   "cell_type": "code",
   "execution_count": 34,
   "metadata": {},
   "outputs": [],
   "source": [
    "; コンストラクタ(2つの正数を渡して有理数を構成する)\n",
    "(define (make-rat n d) (cons n d))\n",
    "; セレクタ(分子を返す)\n",
    "(define (numer x) (car x))\n",
    "; セレクタ(分母を返す)\n",
    "(define (denom x) (cdr x))"
   ]
  },
  {
   "cell_type": "markdown",
   "metadata": {},
   "source": [
    "この本では有理数のコンストラクタとセレクタを  \n",
    "以下のように実装しないことに注意。  \n",
    "このようにすると手続きの呼び出しは効率よくなるが、  \n",
    "デバッグがしにくくなるため。  \n",
    "\n",
    "    (define make-rat cons)\n",
    "    (define numer car)\n",
    "    (define denom cdr)"
   ]
  },
  {
   "cell_type": "code",
   "execution_count": 35,
   "metadata": {},
   "outputs": [],
   "source": [
    "; 有理数の表示\n",
    "(define (print-rat x)\n",
    "  (newline)\n",
    "  (display (numer x))\n",
    "  (display \"/\")\n",
    "  (display (denom x)))"
   ]
  },
  {
   "cell_type": "code",
   "execution_count": 37,
   "metadata": {},
   "outputs": [
    {
     "name": "stdout",
     "output_type": "stream",
     "text": [
      "\n",
      "1/2\n",
      "5/6\n",
      "1/6\n",
      "6/9\n",
      "2/-4"
     ]
    }
   ],
   "source": [
    "(define one-half (make-rat 1 2))\n",
    "(print-rat one-half)\n",
    "(define one-third (make-rat 1 3))\n",
    "(print-rat (add-rat one-half one-third))\n",
    "(print-rat (mul-rat one-half one-third))\n",
    "(print-rat (add-rat one-third one-third))\n",
    "(print-rat (make-rat 2 -4))"
   ]
  },
  {
   "cell_type": "code",
   "execution_count": 32,
   "metadata": {},
   "outputs": [],
   "source": [
    "; 分子と分母の既約\n",
    "(define (make-rat n d)\n",
    "  (let ((g (gcd n d)))\n",
    "    (cons (/ n g) (/ d g))\n",
    "    )\n",
    "  )\n",
    "(define (gcd a b)\n",
    "  (if (= b 0) a\n",
    "       (gcd b (remainder a b))\n",
    "    )\n",
    "  )"
   ]
  },
  {
   "cell_type": "code",
   "execution_count": 33,
   "metadata": {},
   "outputs": [
    {
     "name": "stdout",
     "output_type": "stream",
     "text": [
      "\n",
      "2/3"
     ]
    }
   ],
   "source": [
    "(print-rat (add-rat one-third one-third))"
   ]
  }
 ],
 "metadata": {
  "kernelspec": {
   "display_name": "Calysto Scheme 3",
   "language": "scheme",
   "name": "calysto_scheme"
  },
  "language_info": {
   "codemirror_mode": {
    "name": "scheme"
   },
   "mimetype": "text/x-scheme",
   "name": "scheme",
   "pygments_lexer": "scheme"
  }
 },
 "nbformat": 4,
 "nbformat_minor": 4
}
