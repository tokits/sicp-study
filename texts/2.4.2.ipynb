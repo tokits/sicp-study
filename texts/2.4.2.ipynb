{
 "cells": [
  {
   "cell_type": "markdown",
   "id": "5b262ddf-e4d6-4a9e-962f-ae1881a362be",
   "metadata": {},
   "source": [
    "### 2.4.2 タグつきデータ"
   ]
  },
  {
   "cell_type": "code",
   "execution_count": 1,
   "id": "7b29a082-7102-4489-a025-a4cc8df1ea55",
   "metadata": {},
   "outputs": [],
   "source": [
    "; 加算は直行形式を使用する\n",
    "(define (add-complex z1 z2)\n",
    "  (make-from-real-imag (+ (real-part z1) (real-part z2)) (+ (imag-part z1) (imag-part z2))))\n",
    "\n",
    "; 減算は直行形式を使用する\n",
    "(define (sub-complex z1 z2)\n",
    "  (make-from-real-imag (- (real-part z1) (real-part z2)) (- (imag-part z1) (imag-part z2))))\n",
    "\n",
    "; 乗算は極形式を使用する\n",
    "(define (mul-complex z1 z2)\n",
    "  (make-from-mag-ang (* (magnitude z1) (magnitude z2)) (+ (angle z1) (angle z2))))\n",
    "\n",
    "; 除算は極形式を使用する\n",
    "(define (div-complex z1 z2)\n",
    "  (make-from-mag-ang (/ (magnitude z1) (magnitude z2)) (- (angle z1) (angle z2))))"
   ]
  },
  {
   "cell_type": "markdown",
   "id": "3908b174-5ec1-4e6f-82a3-c321863dcac7",
   "metadata": {},
   "source": [
    "演算の手続きで、\n",
    "直行形式、極形式を意識しないで実装する。\n",
    "\n",
    "方針\n",
    "- タグつきデータを導入して型を意識する。\n",
    "- real-part,imag-part,magnitude,angle手続き内で型を調べて、型にあったそれぞれの手続きを呼び出して、対応する。\n",
    "- 上記演算の手続きの実装には影響がない。\n",
    "- 直行形式、極形式の各セレクタは、手続き名を分ける。\n",
    "\n"
   ]
  },
  {
   "cell_type": "code",
   "execution_count": 2,
   "id": "c465afa1-5113-4aaa-947f-ea5d0edd7e09",
   "metadata": {},
   "outputs": [],
   "source": [
    "; タグつきデータのコンストラクタ\n",
    "(define (attach-tag type-tag contents)\n",
    "  (cons type-tag contents))\n",
    "; タグを返すセレクタ\n",
    "(define (type-tag datum)\n",
    "  (if (pair? datum) (car datum)\n",
    "      (error \"Bad tagged datum: TYPE-TAG\" datum))\n",
    "  )\n",
    "; データを返すセレクタ\n",
    "(define (contents datum)\n",
    "  (if (pair? datum) (cdr datum)\n",
    "      (error \"Bad tagged datum: CONTENTS\" datum))\n",
    "  )\n",
    "\n",
    "; 直行形式かどうか\n",
    "(define (rectangular? z) (eq? (type-tag z) 'rectangular))\n",
    "; 極形式かどうか\n",
    "(define (polar? z) (eq? (type-tag z) 'polar))"
   ]
  },
  {
   "cell_type": "markdown",
   "id": "22981433-ffc3-483c-82b2-d1a0f4809aa5",
   "metadata": {},
   "source": [
    "直行形式"
   ]
  },
  {
   "cell_type": "code",
   "execution_count": 3,
   "id": "67b6195a-9049-4781-8266-e20c934a0e84",
   "metadata": {},
   "outputs": [],
   "source": [
    "(define (real-part-rectangular z) (car z))\n",
    "\n",
    "(define (imag-part-rectangular z) (cdr z))\n",
    "\n",
    "(define (magnitude-rectangular z)\n",
    "  (sqrt (+ (square (real-part-rectangular z)) (square (imag-part-rectangular z)))))\n",
    "\n",
    "(define (angle-rectangular z)\n",
    "  (atan (imag-part-rectangular z) (real-part-rectangular z)))\n",
    "\n",
    "(define (make-from-real-imag-rectangular x y) (attach-tag 'rectangular (cons x y)))\n",
    "(define (make-from-mag-ang-rectangular r a) (attach-tag 'rectangular (cons (* r (cos a)) (* r (sin a)))))"
   ]
  },
  {
   "cell_type": "markdown",
   "id": "6accdd77-dc87-4b28-b724-a0868cfcbeb8",
   "metadata": {},
   "source": [
    "極形式"
   ]
  },
  {
   "cell_type": "code",
   "execution_count": 4,
   "id": "7067635c-4f57-4107-b880-9f2c54c1c729",
   "metadata": {},
   "outputs": [],
   "source": [
    "(define (real-part-polar z)\n",
    "  (* (magnitude-polar z) (cos (angle-polar z))))\n",
    "\n",
    "(define (imag-part-polar z)\n",
    "  (* (magnitude-polar z) (sin (angle-polar z))))\n",
    "\n",
    "(define (magnitude-polar z) (car z))\n",
    "\n",
    "(define (angle-polar z) (cdr z))\n",
    "\n",
    "(define (make-from-real-imag-polar x y) (attach-tag 'polar (cons (sqrt (+ (square x) (square y))) (atan y x))))\n",
    "\n",
    "(define (make-from-mag-ang-polar r a) (attach-tag 'polar (cons r a)))"
   ]
  },
  {
   "cell_type": "code",
   "execution_count": 5,
   "id": "aae7eb0f-1182-4189-877f-298ebed12914",
   "metadata": {},
   "outputs": [],
   "source": [
    "(define (real-part z)\n",
    "  (cond ((rectangular? z) (real-part-rectangular (contents z)))\n",
    "        ((polar? z) (real-part-polar (contents z)))\n",
    "        (else (error \"Unknown type: REAL-PART\" z))\n",
    "        )\n",
    "  )\n",
    "\n",
    "(define (imag-part z)\n",
    "  (cond ((rectangular? z) (imag-part-rectangular (contents z)))\n",
    "        ((polar? z) (imag-part-polar (contents z)))\n",
    "        (else (error \"Unknown type: IMAG-PART\" z))\n",
    "        )\n",
    "  )\n",
    "\n",
    "(define (magnitude z)\n",
    "  (cond ((rectangular? z) (magnitude-rectangular (contents z)))\n",
    "        ((polar? z) (magnitude-polar (contents z)))\n",
    "        (else (error \"Unknown type: MAGNITUDE\" z))\n",
    "        )\n",
    "  )\n",
    "\n",
    "(define (angle z)\n",
    "  (cond ((rectangular? z) (angle-rectangular (contents z)))\n",
    "        ((polar? z) (angle-polar (contents z)))\n",
    "        (else (error \"Unknown type: ANGLE\" z))\n",
    "        )\n",
    "  )"
   ]
  },
  {
   "cell_type": "markdown",
   "id": "a1f7d311-a32d-486e-869b-fe9fa98cde15",
   "metadata": {},
   "source": [
    "コンストラクタ"
   ]
  },
  {
   "cell_type": "code",
   "execution_count": 6,
   "id": "08fe84e9-246c-4909-9ce8-5b8baf04215c",
   "metadata": {},
   "outputs": [],
   "source": [
    "(define (make-from-real-imag x y) (make-from-real-imag-rectangular x y))\n",
    "\n",
    "(define (make-from-mag-ang r a) (make-from-mag-ang-polar r a))"
   ]
  },
  {
   "cell_type": "code",
   "execution_count": null,
   "id": "0dbf4ccf-e16d-4544-873a-4e85e0ee1ad5",
   "metadata": {},
   "outputs": [],
   "source": []
  }
 ],
 "metadata": {
  "kernelspec": {
   "display_name": "Calysto Scheme 3",
   "language": "scheme",
   "name": "calysto_scheme"
  },
  "language_info": {
   "codemirror_mode": {
    "name": "scheme"
   },
   "mimetype": "text/x-scheme",
   "name": "scheme",
   "pygments_lexer": "scheme"
  }
 },
 "nbformat": 4,
 "nbformat_minor": 5
}
